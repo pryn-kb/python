{
 "cells": [
  {
   "cell_type": "markdown",
   "id": "f84de9e2-aae8-4c1a-8b93-4fac6088acf2",
   "metadata": {},
   "source": [
    "# Admonition Boxes"
   ]
  },
  {
   "cell_type": "markdown",
   "id": "b17f745e-872a-4c65-a88a-cd41124b065a",
   "metadata": {},
   "source": [
    "Jeg har lavet denne side, så man kan se, hvordan forskellige bokse vises i Jupyter Book."
   ]
  },
  {
   "cell_type": "markdown",
   "id": "c430cb07-7336-45a3-9596-0a6d09dba339",
   "metadata": {},
   "source": [
    "## Common Classes for Admonitions in Jupyter Book\n",
    "\n",
    "The standard classes available for admonitions in Jupyter Book include but may not be limited to:\n",
    "\n",
    "- `note`\n",
    "- `warning`\n",
    "- `tip`\n",
    "- `important`\n",
    "- `caution`\n",
    "- `danger`\n",
    "- `error`\n",
    "- `hint`\n",
    "- `seealso`\n",
    "\n",
    "These classes typically map to conventional documentation styles, where each type is used to indicate different levels or types of information:\n",
    "\n",
    "- **note**: General information that is important for the reader.\n",
    "- **warning**: A caution about potential problems or pitfalls.\n",
    "- **tip**: Advice or insights that might not be immediately obvious.\n",
    "- **important**: Critical information that must not be overlooked.\n",
    "- **caution**: Similar to warning but often used for less severe issues.\n",
    "- **danger**: Indicates a very high risk of serious consequences.\n",
    "- **error**: Used to describe errors or incorrect methods.\n",
    "- **hint**: Suggestive information that may help in understanding or solving a problem.\n",
    "- **seealso**: Used to refer to related information elsewhere.\n",
    "\n",
    "### Example of an Admonition in Jupyter Book\n",
    "\n",
    "Here is how you would typically write a `note` type admonition in Jupyter Book:\n",
    "\n",
    "````\n",
    "```{admonition} Take Note\n",
    ":class: note\n",
    "This is a special note that will help clarify something important.\n",
    "````"
   ]
  },
  {
   "cell_type": "markdown",
   "id": "3007742b-6e88-4eb6-9183-a017286caf25",
   "metadata": {},
   "source": [
    "## Her følger først markdown-kode til admonition boxes, derefter den renderede version"
   ]
  },
  {
   "cell_type": "markdown",
   "id": "154aad4d-ae6a-4416-9f12-bfc9e8a242b2",
   "metadata": {},
   "source": [
    "Koden er hentet herfra.\n",
    "\n",
    "[https://jupyterbook.org/en/stable/reference/cheatsheet.html#admonitions](https://jupyterbook.org/en/stable/reference/cheatsheet.html#admonitions)"
   ]
  },
  {
   "cell_type": "markdown",
   "id": "680184d3-d00c-46cb-902e-ba9b9c614402",
   "metadata": {},
   "source": [
    "````\n",
    "```{admonition} This is a title\n",
    "An example of an admonition with a title.\n",
    "```\n",
    "````"
   ]
  },
  {
   "cell_type": "markdown",
   "id": "10bf4879-4216-4c80-9793-aa85199994fe",
   "metadata": {},
   "source": [
    "\n",
    "```{admonition} This is a title\n",
    "An example of an admonition with a title.\n",
    "```"
   ]
  },
  {
   "cell_type": "markdown",
   "id": "782a2bde-d29a-4ca5-bb0d-150bdd9e8aa3",
   "metadata": {},
   "source": []
  },
  {
   "cell_type": "markdown",
   "id": "49754f7d-06f2-4697-8451-9649b8e12ef3",
   "metadata": {},
   "source": [
    "````\n",
    "```{note} Notes require **no** arguments,\n",
    "so content can start here.\n",
    "```\n",
    "````"
   ]
  },
  {
   "cell_type": "markdown",
   "id": "66311383-2944-416e-b8c5-a1d0b5fa1da9",
   "metadata": {},
   "source": [
    "```{note} Notes require **no** arguments,\n",
    "so content can start here.\n",
    "```"
   ]
  },
  {
   "cell_type": "markdown",
   "id": "28014987-1386-45b9-b32d-7ebf926411ca",
   "metadata": {},
   "source": [
    "````\n",
    "```{warning} This is an exmample\n",
    "of a warning directive.\n",
    "```\n",
    "````"
   ]
  },
  {
   "cell_type": "markdown",
   "id": "f4ca4290-05ec-4eb5-885e-8d284500f554",
   "metadata": {},
   "source": [
    "```{warning} This is an example\n",
    "of a warning directive.\n",
    "```"
   ]
  },
  {
   "cell_type": "markdown",
   "id": "4d6acb5b-5e17-4610-8ba9-dd76c3b8598f",
   "metadata": {},
   "source": [
    "````\n",
    "```{tip} This is an example\n",
    "of a tip directive.\n",
    "```\n",
    "````"
   ]
  },
  {
   "cell_type": "markdown",
   "id": "80041c05-6c99-4a1f-afbe-a9b9f4edb130",
   "metadata": {},
   "source": [
    "```{tip} This is an example\n",
    "of a tip directive.\n",
    "```"
   ]
  },
  {
   "cell_type": "markdown",
   "id": "a80fdca7-5b2c-4058-89f7-37021409daa8",
   "metadata": {},
   "source": [
    "````\n",
    "```{caution} This is an example\n",
    "of a caution directive.\n",
    "```\n",
    "````"
   ]
  },
  {
   "cell_type": "markdown",
   "id": "ff2ef0ba-243b-4936-9ca4-3e7689fdc87b",
   "metadata": {},
   "source": [
    "```{caution} This is an example\n",
    "of a caution directive.\n",
    "```"
   ]
  },
  {
   "cell_type": "markdown",
   "id": "2af1f48c-db08-4fcf-a80d-e5e048480a76",
   "metadata": {},
   "source": [
    "````\n",
    "```{attention} This is an example\n",
    "of an attention directive.\n",
    "```\n",
    "````"
   ]
  },
  {
   "cell_type": "markdown",
   "id": "5e8f2a75-f629-4a32-ba5f-e74002aeb468",
   "metadata": {},
   "source": [
    "```{attention} This is an example\n",
    "of an attention directive.\n",
    "```"
   ]
  },
  {
   "cell_type": "markdown",
   "id": "b9782607-740b-4c4a-bb65-bd60cc362119",
   "metadata": {},
   "source": [
    "````\n",
    "```{danger} This is an example\n",
    "of a danger directive.\n",
    "```\n",
    "````"
   ]
  },
  {
   "cell_type": "markdown",
   "id": "c80153a3-b306-4ff5-afc2-b2d7065fd946",
   "metadata": {},
   "source": [
    "```{danger} This is an example\n",
    "of a danger directive.\n",
    "```"
   ]
  },
  {
   "cell_type": "markdown",
   "id": "1079eb56-c31d-4c73-af0f-3589ab241f51",
   "metadata": {},
   "source": [
    "````\n",
    "```{error} This is an example\n",
    "of an error directive.\n",
    "```\n",
    "````"
   ]
  },
  {
   "cell_type": "markdown",
   "id": "142b8549-aee4-4821-a134-1f5a5c991705",
   "metadata": {},
   "source": [
    "```{error} This is an example\n",
    "of an error directive.\n",
    "```"
   ]
  },
  {
   "cell_type": "markdown",
   "id": "e5b625f2-2e5a-4737-9bf7-2abf947ab807",
   "metadata": {},
   "source": [
    "````\n",
    "```{hint} This is an example\n",
    "of a hint directive.\n",
    "```\n",
    "````"
   ]
  },
  {
   "cell_type": "markdown",
   "id": "7fa11f46-b4be-4100-b412-d0470f0ab39a",
   "metadata": {},
   "source": [
    "```{hint} This is an example\n",
    "of a hint directive.\n",
    "```"
   ]
  },
  {
   "cell_type": "markdown",
   "id": "17f38c8c-fe80-4d21-b761-a793f5878b87",
   "metadata": {},
   "source": [
    "````\n",
    "```{important} This is an example\n",
    "of an important directive.\n",
    "```\n",
    "````"
   ]
  },
  {
   "cell_type": "markdown",
   "id": "1ecda7df-a97f-495f-bc8c-fb43c2d27882",
   "metadata": {},
   "source": [
    "```{important} This is an example\n",
    "of an important directive.\n",
    "```"
   ]
  },
  {
   "cell_type": "markdown",
   "id": "439e4cee-b391-4a76-bfe3-775f62980087",
   "metadata": {},
   "source": [
    "````\n",
    "```{admonition} This is a title\n",
    ":class: warning\n",
    "An example of an admonition with a title and a warning style.\n",
    "```\n",
    "````"
   ]
  },
  {
   "cell_type": "markdown",
   "id": "43390e67-8944-477d-b910-b69cf7ec8ed0",
   "metadata": {},
   "source": [
    "```{admonition} This is a title\n",
    ":class: warning\n",
    "An example of an admonition with a title and a warning style.\n",
    "```"
   ]
  },
  {
   "cell_type": "code",
   "execution_count": null,
   "id": "ec398dde-663f-496b-9200-c81935ac6509",
   "metadata": {},
   "outputs": [],
   "source": []
  }
 ],
 "metadata": {
  "kernelspec": {
   "display_name": "Python 3 (ipykernel)",
   "language": "python",
   "name": "python3"
  },
  "language_info": {
   "codemirror_mode": {
    "name": "ipython",
    "version": 3
   },
   "file_extension": ".py",
   "mimetype": "text/x-python",
   "name": "python",
   "nbconvert_exporter": "python",
   "pygments_lexer": "ipython3",
   "version": "3.11.5"
  }
 },
 "nbformat": 4,
 "nbformat_minor": 5
}
