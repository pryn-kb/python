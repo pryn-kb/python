{
 "cells": [
  {
   "cell_type": "markdown",
   "id": "f84de9e2-aae8-4c1a-8b93-4fac6088acf2",
   "metadata": {},
   "source": [
    "# Admonition Boxes"
   ]
  },
  {
   "cell_type": "markdown",
   "id": "b17f745e-872a-4c65-a88a-cd41124b065a",
   "metadata": {},
   "source": [
    "Jeg har lavet denne side, så man kan se, hvordan forskellige bokse vises i Jupyter Book.\n",
    "\n",
    "Koden er hentet herfra.\n",
    "\n",
    "[](https://jupyterbook.org/en/stable/reference/cheatsheet.html#admonitions)"
   ]
  },
  {
   "cell_type": "raw",
   "id": "b31d3043-c5e3-4949-bc3d-8eb52979f269",
   "metadata": {},
   "source": [
    "```{admonition} This is a title\n",
    "An example of an admonition with a title.\n",
    "```"
   ]
  },
  {
   "cell_type": "markdown",
   "id": "782a2bde-d29a-4ca5-bb0d-150bdd9e8aa3",
   "metadata": {},
   "source": [
    "```{admonition} This is a title\n",
    "An example of an admonition with a title.\n",
    "```"
   ]
  },
  {
   "cell_type": "raw",
   "id": "33b64017-1d70-49cd-b958-f02fc067fde5",
   "metadata": {},
   "source": [
    "```{note} Notes require **no** arguments,\n",
    "so content can start here.\n",
    "```"
   ]
  },
  {
   "cell_type": "markdown",
   "id": "66311383-2944-416e-b8c5-a1d0b5fa1da9",
   "metadata": {},
   "source": [
    "```{note} Notes require **no** arguments,\n",
    "so content can start here.\n",
    "```"
   ]
  },
  {
   "cell_type": "raw",
   "id": "81e6a828-c303-4017-93a4-ef725681af8d",
   "metadata": {},
   "source": [
    "```{warning} This is an example\n",
    "of a warning directive.\n",
    "```"
   ]
  },
  {
   "cell_type": "markdown",
   "id": "f4ca4290-05ec-4eb5-885e-8d284500f554",
   "metadata": {},
   "source": [
    "```{warning} This is an example\n",
    "of a warning directive.\n",
    "```"
   ]
  },
  {
   "cell_type": "raw",
   "id": "ab5a9315-b364-4eeb-9f7d-b49480afd056",
   "metadata": {},
   "source": [
    "```{tip} This is an example\n",
    "of a tip directive.\n",
    "```"
   ]
  },
  {
   "cell_type": "markdown",
   "id": "80041c05-6c99-4a1f-afbe-a9b9f4edb130",
   "metadata": {},
   "source": [
    "```{tip} This is an example\n",
    "of a tip directive.\n",
    "```"
   ]
  },
  {
   "cell_type": "raw",
   "id": "be398abf-9950-4fd2-98b3-4c48f4c3a5e3",
   "metadata": {},
   "source": [
    "```{caution} This is an example\n",
    "of a caution directive.\n",
    "```"
   ]
  },
  {
   "cell_type": "markdown",
   "id": "ff2ef0ba-243b-4936-9ca4-3e7689fdc87b",
   "metadata": {},
   "source": [
    "```{caution} This is an example\n",
    "of a caution directive.\n",
    "```"
   ]
  },
  {
   "cell_type": "raw",
   "id": "17a5dd80-d3b1-4b7b-b032-2f1cd35ae875",
   "metadata": {},
   "source": [
    "```{attention} This is an example\n",
    "of an attention directive.\n",
    "```"
   ]
  },
  {
   "cell_type": "markdown",
   "id": "5e8f2a75-f629-4a32-ba5f-e74002aeb468",
   "metadata": {},
   "source": [
    "```{attention} This is an example\n",
    "of an attention directive.\n",
    "```"
   ]
  },
  {
   "cell_type": "raw",
   "id": "5aa00649-ba93-424e-9eb0-b64f9e9dcaef",
   "metadata": {},
   "source": [
    "```{danger} This is an example\n",
    "of a danger directive.\n",
    "```"
   ]
  },
  {
   "cell_type": "markdown",
   "id": "c80153a3-b306-4ff5-afc2-b2d7065fd946",
   "metadata": {},
   "source": [
    "```{danger} This is an example\n",
    "of a danger directive.\n",
    "```"
   ]
  },
  {
   "cell_type": "raw",
   "id": "b1cc58b0-70a9-4862-ac90-c8a10a8834cf",
   "metadata": {},
   "source": [
    "```{error} This is an example\n",
    "of an error directive.\n",
    "```"
   ]
  },
  {
   "cell_type": "markdown",
   "id": "142b8549-aee4-4821-a134-1f5a5c991705",
   "metadata": {},
   "source": [
    "```{error} This is an example\n",
    "of an error directive.\n",
    "```"
   ]
  },
  {
   "cell_type": "raw",
   "id": "d07fc5c3-6518-408e-ba2e-82fd5cd2a014",
   "metadata": {},
   "source": [
    "```{hint} This is an example\n",
    "of a hint directive.\n",
    "```"
   ]
  },
  {
   "cell_type": "markdown",
   "id": "7fa11f46-b4be-4100-b412-d0470f0ab39a",
   "metadata": {},
   "source": [
    "```{hint} This is an example\n",
    "of a hint directive.\n",
    "```"
   ]
  },
  {
   "cell_type": "raw",
   "id": "78a08940-760d-4b37-889b-d029f1d4727a",
   "metadata": {},
   "source": [
    "```{important} This is an example\n",
    "of an important directive.\n",
    "```"
   ]
  },
  {
   "cell_type": "markdown",
   "id": "1ecda7df-a97f-495f-bc8c-fb43c2d27882",
   "metadata": {},
   "source": [
    "```{important} This is an example\n",
    "of an important directive.\n",
    "```"
   ]
  },
  {
   "cell_type": "raw",
   "id": "d544fcb2-bf1c-4a62-989c-5026779087db",
   "metadata": {},
   "source": [
    "```{admonition} This is a title\n",
    ":class: warning\n",
    "An example of an admonition with a title and a warning style.\n",
    "```"
   ]
  },
  {
   "cell_type": "markdown",
   "id": "43390e67-8944-477d-b910-b69cf7ec8ed0",
   "metadata": {},
   "source": [
    "```{admonition} This is a title\n",
    ":class: warning\n",
    "An example of an admonition with a title and a warning style.\n",
    "```"
   ]
  },
  {
   "cell_type": "code",
   "execution_count": null,
   "id": "ec398dde-663f-496b-9200-c81935ac6509",
   "metadata": {},
   "outputs": [],
   "source": []
  }
 ],
 "metadata": {
  "kernelspec": {
   "display_name": "Python 3 (ipykernel)",
   "language": "python",
   "name": "python3"
  },
  "language_info": {
   "codemirror_mode": {
    "name": "ipython",
    "version": 3
   },
   "file_extension": ".py",
   "mimetype": "text/x-python",
   "name": "python",
   "nbconvert_exporter": "python",
   "pygments_lexer": "ipython3",
   "version": "3.11.5"
  }
 },
 "nbformat": 4,
 "nbformat_minor": 5
}
