{
 "cells": [
  {
   "cell_type": "markdown",
   "id": "c3111538-7726-4afa-8c91-aa5b872f7106",
   "metadata": {
    "editable": true,
    "slideshow": {
     "slide_type": ""
    },
    "tags": []
   },
   "source": [
    "# Learn All the New Words"
   ]
  },
  {
   "cell_type": "markdown",
   "id": "c381c572-1667-4d82-8f44-990943cbe4e5",
   "metadata": {
    "editable": true,
    "slideshow": {
     "slide_type": ""
    },
    "tags": []
   },
   "source": [
    "There are a lot of new things to learn when one begins to learn a new language such as Python. Therefore we have made a list you can use to look up definitions of words which may be strange to you at the moment."
   ]
  },
  {
   "cell_type": "markdown",
   "id": "4e8cc707-d5ac-42b7-a54f-d2ddfce5cb70",
   "metadata": {},
   "source": [
    "## For absolute beginners"
   ]
  },
  {
   "cell_type": "markdown",
   "id": "06220ee6-ab32-4f79-98d1-0191ca4dce41",
   "metadata": {
    "editable": true,
    "slideshow": {
     "slide_type": ""
    },
    "tags": []
   },
   "source": [
    "### Argument\n",
    "A value you pass to a function when you call it.\n",
    "\n",
    "Example: In `print(\"Hello\")`, \"Hello\" is the argument."
   ]
  },
  {
   "cell_type": "markdown",
   "id": "35dca6ad-308a-4dd7-8a23-36b4528fa9db",
   "metadata": {
    "editable": true,
    "slideshow": {
     "slide_type": ""
    },
    "tags": []
   },
   "source": [
    "### Arithmetic\n",
    "\n",
    "Basic math operations you can perform on numbers.\n",
    "\n",
    "Examples:\n",
    "* Addition `+`: 5 + 3 equals 8\n",
    "* Subtraction `-`: 5 - 3 equals 2"
   ]
  },
  {
   "cell_type": "markdown",
   "id": "25ad7096-7ec3-4dcf-99a3-2d9d2e7ce139",
   "metadata": {},
   "source": [
    "### Appending \n",
    "Appending refers to adding new elements to the end of an existing data structure, such as a list.\n",
    "\n",
    "Example:\n",
    "```\n",
    "numbers = [1, 2, 3]\n",
    "```\n",
    "```\n",
    "numbers.append(4)\n",
    "```"
   ]
  },
  {
   "cell_type": "markdown",
   "id": "200a35cd-6100-42ad-b775-488a3b374dd3",
   "metadata": {
    "editable": true,
    "slideshow": {
     "slide_type": ""
    },
    "tags": []
   },
   "source": [
    "### Assignment\n",
    "Setting a value to a variable using the `=` operator.\n",
    "\n",
    "Example: `x = 5` assigns the value 5 to the variable x."
   ]
  },
  {
   "cell_type": "markdown",
   "id": "55e7a2b3-4b81-4819-a71d-7556c30d817f",
   "metadata": {},
   "source": [
    "### Boolean\n",
    "Boolean is a data type that represents one of two possible values: `True` or `False`. Booleans are used to represent truth values in logic and are commonly used in conditional statements and control flow."
   ]
  },
  {
   "cell_type": "markdown",
   "id": "46360c43-a61b-4a5a-a06b-fbd3a03960c9",
   "metadata": {},
   "source": [
    "### Concatenation\n",
    "The operation of joining or linking together multiple sequences to form a single sequence. The way concatenation is performed depends on the type of data structure you are working with.\n",
    "\n",
    "For strings, concatenation is done using the `+` operator, which combines two or more strings into one.\n",
    "\n",
    "Example:\n",
    "```\n",
    "greeting = \"Hello, \"\n",
    "name = \"Alice\"\n",
    "message = greeting + name\n",
    "````\n"
   ]
  },
  {
   "cell_type": "markdown",
   "id": "81007ab4-e4d4-4536-8b3c-2d9e12afa33e",
   "metadata": {
    "editable": true,
    "slideshow": {
     "slide_type": ""
    },
    "tags": []
   },
   "source": [
    "### Conditionals\n",
    "Conditionals are used to execute different blocks of code based on whether a condition is `True` or `False`.\n",
    "\n",
    "Example: \n",
    "```\n",
    "age = 18\n",
    "\n",
    "if age >= 18:\n",
    "    print(\"You are an adult.\")\n",
    "```"
   ]
  },
  {
   "cell_type": "markdown",
   "id": "7536c7cb-d3b6-40c8-9b36-be5cd3027ef8",
   "metadata": {
    "editable": true,
    "slideshow": {
     "slide_type": ""
    },
    "tags": []
   },
   "source": [
    "### Comment\n",
    "Text in your code that Python ignores, used to explain the code so you know how to read it when you return to it.\n",
    "\n",
    "Example: \n",
    "\n",
    "```\n",
    "# This is a comment\n",
    "```"
   ]
  },
  {
   "cell_type": "markdown",
   "id": "610ff638-e039-4ac1-9936-d9e1dce942e2",
   "metadata": {
    "editable": true,
    "slideshow": {
     "slide_type": ""
    },
    "tags": []
   },
   "source": [
    "### Data Type\n",
    "\n",
    "The kind of value that data can have in a programming language e.g., integer, string, float. The data type controls what kind of operations can be performed. \n",
    "\n",
    "Example: `5` is an integer, `\"Alice\"` is a string."
   ]
  },
  {
   "cell_type": "markdown",
   "id": "6ac053bb-1bcc-4582-a7ea-6976fafa07da",
   "metadata": {},
   "source": [
    "### Documentation \n",
    "Documentation refers to written information that explains how to use, understand, or work with a particular piece of code. It can be within the code written by you (see [Comment](#comment)) or it can be offical documentation written by the provider e.g. the offical python documentation. "
   ]
  },
  {
   "cell_type": "markdown",
   "id": "54a339e2-31e3-4054-ab9c-bb5171999ee0",
   "metadata": {},
   "source": [
    "### Float\n",
    "A float (short for \"floating-point number\") is a type of number that can have a decimal point. It's used to represent real numbers that require precision beyond whole numbers, including fractions.\n",
    "\n",
    "Example: `3.4` is a float"
   ]
  },
  {
   "cell_type": "markdown",
   "id": "9238fad6-90b8-4673-a7ca-2f8f88809687",
   "metadata": {},
   "source": [
    "### Function\n",
    "A function is a reusable block of code designed to perform a specific task. Functions can take inputs (known as parameters), process them, and return an output. Some functions are built-in already, while others can be defined by you. \n",
    "\n",
    "Example: the built-in fuction `max()` or `print()`\n",
    "```\n",
    "print(max(1, 2, 3))\n",
    "```"
   ]
  },
  {
   "cell_type": "markdown",
   "id": "7c0884ac-d975-4620-a752-0e1b99895fd0",
   "metadata": {
    "editable": true,
    "slideshow": {
     "slide_type": ""
    },
    "tags": []
   },
   "source": [
    "### IDE (Integrated Development Environment)\n",
    "\n",
    "A software application that provides tools for coding, like Jupyter Lab or the UCPH provided ERDA."
   ]
  },
  {
   "cell_type": "markdown",
   "id": "890f10aa-1251-4614-b8e4-61199c8a33b6",
   "metadata": {
    "editable": true,
    "slideshow": {
     "slide_type": ""
    },
    "tags": []
   },
   "source": [
    "### Indentation\n",
    "\n",
    "Spaces (usually tab or four spaces) at the beginning of a line that define the structure of your code, especially in loops.\n",
    "\n",
    "Example: \n",
    "```\n",
    "for something in something:\n",
    "    print(something)\n",
    "```"
   ]
  },
  {
   "cell_type": "markdown",
   "id": "21b49fcc-09bb-45d0-9166-803aa87431d4",
   "metadata": {},
   "source": [
    "### Index\n",
    "A means to access specific elements by their position. An index indicates the position of an element within the sequence. Indexing typically starts at 0 for the first element.\n",
    "\n",
    "Example:\n",
    "```\n",
    "\"I am a string\"[0]\n",
    "```\n",
    "```\n",
    "\"I\"\n",
    "```"
   ]
  },
  {
   "cell_type": "markdown",
   "id": "1c6abdd2-147e-469e-8667-0d9febc6421b",
   "metadata": {},
   "source": [
    "### Integer\n",
    "In Python, an integer is a type of number that represents whole numbers without any decimal points. Integers can be positive, negative, or zero.\n",
    "\n",
    "Example: `5` and `-12` are both integers."
   ]
  },
  {
   "cell_type": "markdown",
   "id": "22bc7379-0949-4655-b942-4f5538bd29cf",
   "metadata": {},
   "source": [
    "### Immutable \n",
    "An object whose value or content cannot be changed after it has been created. Once an immutable object is initialized, any operation that seems to modify it will actually create a new object, leaving the original object unchanged.\n",
    "\n",
    "Stands in opposition to [Mutable](#mutable).\n",
    "\n",
    "An example is a `string`."
   ]
  },
  {
   "cell_type": "markdown",
   "id": "424d85fa-1f51-4a9d-a0f7-4e1a81006343",
   "metadata": {
    "editable": true,
    "slideshow": {
     "slide_type": ""
    },
    "tags": []
   },
   "source": [
    "### Library\n",
    "\n",
    "A collection of pre-written code that provides useful functions and modules for performing common tasks, so you don't have to write the code from scratch. \n",
    "\n",
    "Example: The Pandas library which is used in one of our more advanced courses."
   ]
  },
  {
   "cell_type": "markdown",
   "id": "aa0c3ee8-44d2-4a2e-8cd5-680edee0b7e5",
   "metadata": {
    "editable": true,
    "slideshow": {
     "slide_type": ""
    },
    "tags": []
   },
   "source": [
    "### Loop\n",
    "\n",
    "A structure which repeats a block of code multiple times until a certain condition is met. Like in the `for`and `while` loops.\n",
    "\n",
    "\n",
    "Example: \n",
    "```\n",
    "for i in range(5):\n",
    "    print(i)\n",
    "```\n",
    "\n"
   ]
  },
  {
   "cell_type": "markdown",
   "id": "8f79ab85-3a07-43fb-bc08-5ad182e6b38b",
   "metadata": {},
   "source": [
    "### Mutable \n",
    "An object whose value or content can be changed after it is created. Mutable objects allow modifications, such as adding, removing, or altering elements, without needing to create a new object. `lists` are mutable objects.\n",
    "\n",
    "Stands in opposition to [Immutable](#immutable)."
   ]
  },
  {
   "cell_type": "markdown",
   "id": "2178c5b5-4e15-4b8f-8b65-6e03eb4b652a",
   "metadata": {
    "editable": true,
    "slideshow": {
     "slide_type": ""
    },
    "tags": []
   },
   "source": [
    "### Operator\n",
    "\n",
    "A symbol that performs an operation on one or more operands.\n",
    "\n",
    "Example: `+` for addition, `==` for comparison."
   ]
  },
  {
   "cell_type": "markdown",
   "id": "74ca589c-b35e-4d9b-89d0-6ebe57a2c39b",
   "metadata": {},
   "source": [
    "### Slice\n",
    "Slicing is a way to extract a part of a string by specifying where to start and stop. It lets you take a \"slice\" or a smaller piece of the string.\\\n",
    "The first number of a slice is *included*, the last number of a slice is *excluded*.\n",
    "\n",
    "Example:\n",
    "```\n",
    "\"I am a string\"[0:6]\n",
    "```\n",
    "```\n",
    "I am a\n",
    "```"
   ]
  },
  {
   "cell_type": "markdown",
   "id": "18abe2b3-08e3-4def-ab2a-8667805974c0",
   "metadata": {},
   "source": [
    "### Statement\n",
    "A statement is a single line of code that performs an action or a series of actions. Statements are the building blocks of a Python program and are executed in sequence. "
   ]
  },
  {
   "cell_type": "markdown",
   "id": "85c8f9c8-19e4-484b-8cd9-ac5731944e8a",
   "metadata": {
    "editable": true,
    "slideshow": {
     "slide_type": ""
    },
    "tags": []
   },
   "source": [
    "### String\n",
    "\n",
    "A data type which is surrounded by either single quotation marks, or double quotation marks.\n",
    "\n",
    "\n",
    "Example: `\"Hello, world!\"`"
   ]
  },
  {
   "cell_type": "markdown",
   "id": "bc6301c2-365d-4834-a48c-a224310bcf27",
   "metadata": {
    "editable": true,
    "slideshow": {
     "slide_type": ""
    },
    "tags": []
   },
   "source": [
    "### Syntax\n",
    "\n",
    "The set of rules - the grammar if you like - that defines the combinations of symbols considered correctly structured by python logic.\n",
    "\n",
    "Example: `print(\"Hello\")` is correct syntax; `print(Hello)` is not."
   ]
  },
  {
   "cell_type": "markdown",
   "id": "8ffcbcbe-5726-4c7b-8721-e115fbde16a8",
   "metadata": {
    "editable": true,
    "slideshow": {
     "slide_type": ""
    },
    "tags": []
   },
   "source": [
    "### Variable\n",
    "\n",
    "A name that stores a value. You can think about it as a small container in which you store a value. \n",
    "\n",
    "Example: `age = 25` assigns the value 25 to the variable `age`."
   ]
  },
  {
   "cell_type": "markdown",
   "id": "a5fca721-9bf7-49a7-bf29-6b57c69c41e5",
   "metadata": {},
   "source": [
    "___"
   ]
  },
  {
   "cell_type": "markdown",
   "id": "cc493a2f-eeac-4a1a-84db-d2db6b929147",
   "metadata": {
    "editable": true,
    "slideshow": {
     "slide_type": ""
    },
    "tags": []
   },
   "source": [
    "## Pandas"
   ]
  },
  {
   "cell_type": "markdown",
   "id": "89a6096e-2ecd-413c-96b1-277d3e07a1e3",
   "metadata": {
    "editable": true,
    "slideshow": {
     "slide_type": ""
    },
    "tags": []
   },
   "source": [
    "### Attributes\n",
    "Properties associated with an object in Python. In the context of the pandas library, attributes provide access to specific information or properties of pandas objects like `DataFrames` and `Series`.\n",
    "\n",
    "Example: `df.shape` `df.columns` `df.index`"
   ]
  },
  {
   "cell_type": "markdown",
   "id": "a9dd6a1b-80cd-4f55-a588-a6ce68422173",
   "metadata": {
    "editable": true,
    "slideshow": {
     "slide_type": ""
    },
    "tags": []
   },
   "source": [
    "### DataFrame\n",
    "\n",
    "A 2-dimensional labeled data structure with columns of potentially different types. Is often called df in the examples, but can be given any name.\n",
    "\n",
    "Example:\n",
    "```\n",
    "df = pd.DataFrame({'A': [1, 2], 'B': [3, 4]})\n",
    "```"
   ]
  },
  {
   "cell_type": "markdown",
   "id": "e8c072a9-2c3c-4e8b-8110-865921107927",
   "metadata": {
    "editable": true,
    "slideshow": {
     "slide_type": ""
    },
    "tags": []
   },
   "source": [
    "### CSV \n",
    "\n",
    "CSV stands for Comma-Separated Values. It is a plain text file format used to store tabular data, where each line of the file represents a row in the table, and each value in the row is separated by a comma."
   ]
  },
  {
   "cell_type": "markdown",
   "id": "fb6a13b2-16bc-43e9-abe9-a4549c52276a",
   "metadata": {},
   "source": [
    "### NaN\n",
    "NaN stands for \"Not a Number.\" It is a special floating-point value used to represent missing or undefined data in numerical computations. It is often used in datasets to indicate that a value is missing."
   ]
  },
  {
   "cell_type": "markdown",
   "id": "0d5b5060-b352-41b1-9fce-82a48afbec63",
   "metadata": {
    "editable": true,
    "slideshow": {
     "slide_type": ""
    },
    "tags": []
   },
   "source": [
    "### pd\n",
    "Aliasing pandas as `pd` is a widely adopted convention that simplifies the syntax for accessing its functionalities.\\\n",
    "After this statement, you can use `pd` to access all the functionalities provided by the pandas library.\n",
    "\n",
    "Example:\n",
    "```\n",
    "import pandas as pd\n",
    "```"
   ]
  },
  {
   "cell_type": "markdown",
   "id": "f16aee1c-92fd-4f93-9144-08cd3f30b34a",
   "metadata": {
    "editable": true,
    "slideshow": {
     "slide_type": ""
    },
    "tags": []
   },
   "source": [
    "### Series\n",
    "\n",
    "A `Series` in Pandas is like a list of values in a single column, where each value has a unique label called an index. It's a simple way to store and manage a sequence of data.\n",
    "It is a 1-dimensional labeled array capable of holding any data type.\n",
    "\n",
    "Example:\n",
    "```\n",
    "s = pd.Series([1, 2, 3, 4])\n",
    "```"
   ]
  },
  {
   "cell_type": "markdown",
   "id": "40db8937-a0ce-494f-8725-116640ba49cb",
   "metadata": {},
   "source": [
    "### Subset\n",
    "In Pandas, a subset refers to a selection or extraction of a portion of a `DataFrame` or `Series` based on specific criteria. This can involve selecting particular rows, columns, or both from the original data structure."
   ]
  },
  {
   "cell_type": "markdown",
   "id": "af5d23cb-3b28-4453-a776-cb19ae3d8bc8",
   "metadata": {},
   "source": [
    "### Transpose\n",
    "`transpose()` is a method for swapping rows and colums in a `DataFrame`. Transposing is useful for reshaping data, making it easier to compare rows or apply certain operations that are typically column-based.\n",
    "\n",
    "```\n",
    "df.transpose()\n",
    "```"
   ]
  },
  {
   "cell_type": "markdown",
   "id": "514fea38-e257-4d97-ab44-e90c31d3d826",
   "metadata": {},
   "source": [
    "### Index\n",
    "\n",
    "In pandas, an index is a label or set of labels used to identify and access elements in data structures like `Series` and `DataFrames`. It provides a way to reference rows and columns by name or number."
   ]
  }
 ],
 "metadata": {
  "kernelspec": {
   "display_name": "Python 3 (ipykernel)",
   "language": "python",
   "name": "python3"
  },
  "language_info": {
   "codemirror_mode": {
    "name": "ipython",
    "version": 3
   },
   "file_extension": ".py",
   "mimetype": "text/x-python",
   "name": "python",
   "nbconvert_exporter": "python",
   "pygments_lexer": "ipython3",
   "version": "3.11.5"
  }
 },
 "nbformat": 4,
 "nbformat_minor": 5
}
