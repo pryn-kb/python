{
 "cells": [
  {
   "cell_type": "markdown",
   "id": "e4617800",
   "metadata": {},
   "source": []
  },
  {
   "cell_type": "markdown",
   "id": "333a4985-374c-4bfc-aaad-5ec237c8e40d",
   "metadata": {},
   "source": [
    "<style>\n",
    ".bd-toc {\n",
    "    display: none;\n",
    "}\n",
    "</style>"
   ]
  },
  {
   "cell_type": "markdown",
   "id": "6a726669-8a42-4ba8-a844-6ba669678e16",
   "metadata": {},
   "source": [
    "# Bonus Material"
   ]
  },
  {
   "cell_type": "markdown",
   "id": "58388f16-e371-4432-a767-20d2dd463cd0",
   "metadata": {},
   "source": [
    "## <i class=\"fa-solid fa-person-digging\"></i>\n",
    "\n",
    "This part builds on the foundations from [Part 1](../101/part1) and [Part 2](../101/part2).\n",
    "\n",
    "For now, it is only bonus material and a work in progress.\n",
    "\n",
    "(It may eventually become its own separate course in the future.)"
   ]
  },
  {
   "cell_type": "markdown",
   "id": "b3aad51e-f17c-4f24-b153-2dc4df9a4206",
   "metadata": {},
   "source": [
    "___"
   ]
  },
  {
   "cell_type": "markdown",
   "id": "e33d6477-5a55-4bf2-b3a2-0d3af1b072fe",
   "metadata": {},
   "source": [
    "## Content"
   ]
  },
  {
   "cell_type": "markdown",
   "id": "4ba8a165-ba72-404a-910d-bc88606714e5",
   "metadata": {},
   "source": [
    "```{tableofcontents}\n",
    "```"
   ]
  },
  {
   "cell_type": "code",
   "execution_count": null,
   "id": "ae1bd494-8e86-4906-8d69-ef849ac6d7af",
   "metadata": {
    "tags": [
     "hide-output"
    ]
   },
   "outputs": [],
   "source": []
  }
 ],
 "metadata": {
  "kernelspec": {
   "display_name": "Python 3 (ipykernel)",
   "language": "python",
   "name": "python3"
  },
  "language_info": {
   "codemirror_mode": {
    "name": "ipython",
    "version": 3
   },
   "file_extension": ".py",
   "mimetype": "text/x-python",
   "name": "python",
   "nbconvert_exporter": "python",
   "pygments_lexer": "ipython3",
   "version": "3.12.5"
  }
 },
 "nbformat": 4,
 "nbformat_minor": 5
}
