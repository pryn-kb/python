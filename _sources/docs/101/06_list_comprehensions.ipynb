{
 "cells": [
  {
   "cell_type": "markdown",
   "id": "82bca080",
   "metadata": {},
   "source": [
    "# List Comprehensions (Listeforståelser)\n",
    "\n",
    "I Python er en *list comprehension* en kompakt måde at oprette lister på ved at kombinere en løkke og (valgfrit) en betingelse i ét udtryk. Det gør din kode kortere og ofte nemmere at læse end en tilsvarende `for`-løkke."
   ]
  },
  {
   "cell_type": "markdown",
   "id": "c8258fbf",
   "metadata": {},
   "source": [
    "## Læringsmål\n",
    "Efter dette afsnit kan du:\n",
    "- forklare den grundlæggende syntaks for list comprehensions\n",
    "- omskrive en simpel `for`-løkke til en comprehension\n",
    "- bruge **filter** (`if`-del) og **betinget udtryk** (`A if cond else B`)\n",
    "- forstå rækkefølgen af `for` og `if` i syntaksen\n",
    "- anvende *nested* (indlejrede) comprehensions med omtanke\n",
    "- vurdere fordele/ulemper og læsbarhed"
   ]
  },
  {
   "cell_type": "markdown",
   "id": "6c92ad19",
   "metadata": {},
   "source": [
    "## Hvorfor bruge list comprehensions?\n",
    "Når du opretter nye lister baseret på elementer fra en iterabel (fx `range`, en liste eller en streng), kan en comprehension erstatte både løkke og `append`-kald i én linje – ofte mere **koncist** og nogle gange også **hurtigere**."
   ]
  },
  {
   "cell_type": "markdown",
   "id": "a622d7c7",
   "metadata": {},
   "source": [
    "## Grundlæggende syntaks\n",
    "\n",
    "**Mønster:**\n",
    "```python\n",
    "[ <udtryk> for <variabel> in <iterabel> ]\n",
    "```"
   ]
  },
  {
   "cell_type": "markdown",
   "id": "dc3ddbca",
   "metadata": {},
   "source": [
    "### Eksempel: kvadrater 0–9\n",
    "Først med almindelig løkke:"
   ]
  },
  {
   "cell_type": "code",
   "execution_count": null,
   "id": "a6fb585e",
   "metadata": {
    "tags": [
     "hide-output"
    ]
   },
   "outputs": [],
   "source": [
    "squares = []\n",
    "for x in range(10):\n",
    "    squares.append(x**2)\n",
    "squares"
   ]
  },
  {
   "cell_type": "markdown",
   "id": "618c45f4",
   "metadata": {},
   "source": [
    "Samme med en comprehension:"
   ]
  },
  {
   "cell_type": "code",
   "execution_count": null,
   "id": "9b402666",
   "metadata": {
    "tags": [
     "hide-output"
    ]
   },
   "outputs": [],
   "source": [
    "squares = [x**2 for x in range(10)]\n",
    "squares"
   ]
  },
  {
   "cell_type": "markdown",
   "id": "547e1903",
   "metadata": {},
   "source": [
    "## Filtrering med `if`\n",
    "Du kan tilføje et **filter** til sidst for kun at medtage elementer, der opfylder en betingelse.\n",
    "\n",
    "**Mønster:**\n",
    "```python\n",
    "[ <udtryk> for <variabel> in <iterabel> if <betingelse> ]\n",
    "```"
   ]
  },
  {
   "cell_type": "markdown",
   "id": "47854533",
   "metadata": {},
   "source": [
    "### Eksempel: lige tal fra 0–20"
   ]
  },
  {
   "cell_type": "code",
   "execution_count": null,
   "id": "a92afcf2",
   "metadata": {
    "tags": [
     "hide-output"
    ]
   },
   "outputs": [],
   "source": [
    "evens = [n for n in range(21) if n % 2 == 0]\n",
    "evens"
   ]
  },
  {
   "cell_type": "markdown",
   "id": "10a9a95d",
   "metadata": {},
   "source": [
    "### Kombination: transformér **og** filtrér"
   ]
  },
  {
   "cell_type": "code",
   "execution_count": null,
   "id": "bf5fbf79",
   "metadata": {
    "tags": [
     "hide-output"
    ]
   },
   "outputs": [],
   "source": [
    "# Kvadrer kun de ulige tal\n",
    "odd_squares = [n**2 for n in range(10) if n % 2 == 1]\n",
    "odd_squares"
   ]
  },
  {
   "cell_type": "markdown",
   "id": "0c6ad184",
   "metadata": {},
   "source": [
    "## Betinget udtryk i *udtryksdelen*\n",
    "Nogle gange vil du vælge mellem to værdier pr. element. Brug da et **betinget udtryk** i *udtryksdelen*:\n",
    "\n",
    "**Mønster:**\n",
    "```python\n",
    "[ <A> if <cond> else <B> for <variabel> in <iterabel> ]\n",
    "```\n",
    "> Bemærk rækkefølgen: `if ... else ...` står **inde** i udtrykket, ikke til sidst."
   ]
  },
  {
   "cell_type": "markdown",
   "id": "6977dfef",
   "metadata": {},
   "source": [
    "### Eksempel: \"even\"/\"odd\" labels"
   ]
  },
  {
   "cell_type": "code",
   "execution_count": null,
   "id": "8cf49658",
   "metadata": {
    "tags": [
     "hide-output"
    ]
   },
   "outputs": [],
   "source": [
    "labels = [\"even\" if n % 2 == 0 else \"odd\" for n in range(6)]\n",
    "labels"
   ]
  },
  {
   "cell_type": "markdown",
   "id": "ecf30294",
   "metadata": {},
   "source": [
    "## Rækkefølge: `for` før `if` (filter) vs. `if ... else` i udtrykket\n",
    "- **Filter**: placeres til **sidst** – lader dig *skrælle* elementer fra.\n",
    "- **Betinget udtryk**: placeres i **udtryksdelen** – lader dig vælge værdi for *hvert* element.\n",
    "\n",
    "Eksempel på filter vs. betinget udtryk:"
   ]
  },
  {
   "cell_type": "code",
   "execution_count": null,
   "id": "87bd3953",
   "metadata": {
    "tags": [
     "hide-output"
    ]
   },
   "outputs": [],
   "source": [
    "# Filter: medtag kun navne med 'a'\n",
    "names = [\"Ada\", \"Bob\", \"Carla\", \"Egon\"]\n",
    "with_a = [name for name in names if \"a\" in name.lower()]\n",
    "with_a"
   ]
  },
  {
   "cell_type": "code",
   "execution_count": null,
   "id": "66e57205",
   "metadata": {
    "tags": [
     "hide-output"
    ]
   },
   "outputs": [],
   "source": [
    "# Betinget udtryk: label alle navne\n",
    "labels = [\"contains a\" if \"a\" in name.lower() else \"no a\" for name in names]\n",
    "labels"
   ]
  },
  {
   "cell_type": "markdown",
   "id": "e9399e16",
   "metadata": {},
   "source": [
    "## Indlejrede (nested) comprehensions\n",
    "Du kan have flere `for`-dele. Sørg for, at det stadig er læsbart.\n",
    "\n",
    "**Eksempel: flad en 2D-liste**"
   ]
  },
  {
   "cell_type": "code",
   "execution_count": null,
   "id": "ae417629",
   "metadata": {
    "tags": [
     "hide-output"
    ]
   },
   "outputs": [],
   "source": [
    "matrix = [[1, 2, 3],\n",
    "          [4, 5, 6],\n",
    "          [7, 8, 9]]\n",
    "\n",
    "flat = [x for row in matrix for x in row]\n",
    "flat"
   ]
  },
  {
   "cell_type": "markdown",
   "id": "b46c6b0c",
   "metadata": {},
   "source": [
    "**Eksempel: alle (i, j)-par med betingelse**"
   ]
  },
  {
   "cell_type": "code",
   "execution_count": null,
   "id": "608af6a0",
   "metadata": {
    "tags": [
     "hide-output"
    ]
   },
   "outputs": [],
   "source": [
    "pairs = [(i, j) for i in range(3) for j in range(3) if i != j]\n",
    "pairs"
   ]
  },
  {
   "cell_type": "markdown",
   "id": "eedaa85e",
   "metadata": {},
   "source": [
    "## Samspil med funktioner\n",
    "Comprehensions spiller godt sammen med funktioner og metoder."
   ]
  },
  {
   "cell_type": "code",
   "execution_count": null,
   "id": "185b1ad8",
   "metadata": {
    "tags": [
     "hide-output"
    ]
   },
   "outputs": [],
   "source": [
    "# Brug af metodekald\n",
    "words = [\"  apple\", \"BANANA  \", \" Cherry \"]\n",
    "clean = [w.strip().lower() for w in words]\n",
    "clean"
   ]
  },
  {
   "cell_type": "code",
   "execution_count": null,
   "id": "38995e92",
   "metadata": {
    "tags": [
     "hide-output"
    ]
   },
   "outputs": [],
   "source": [
    "# Brug en hjælpefunktion i udtrykket\n",
    "def normalize(x: str) -> str:\n",
    "    return x.strip().casefold()\n",
    "\n",
    "[normalize(w) for w in words]"
   ]
  },
  {
   "cell_type": "markdown",
   "id": "5f1a4db7",
   "metadata": {},
   "source": [
    "## Performance (kort)\n",
    "Comprehensions er ofte lidt hurtigere end en eksplicit løkke med `append`, fordi de er implementeret i C og undgår gentagne attributopslag. Men **læsbarhed kommer først** – vælg det, der gør koden klar."
   ]
  },
  {
   "cell_type": "code",
   "execution_count": null,
   "id": "f6552854",
   "metadata": {
    "tags": [
     "hide-output"
    ]
   },
   "outputs": [],
   "source": [
    "# Simpel, uformel sammenligning (din maskine kan give andre tal)\n",
    "import timeit\n",
    "\n",
    "lc_time = timeit.timeit('[x*x for x in range(1000)]', number=10000)\n",
    "loop_time = timeit.timeit('out=[]\\nfor x in range(1000):\\n    out.append(x*x)', number=10000)\n",
    "\n",
    "lc_time, loop_time, loop_time/lc_time"
   ]
  },
  {
   "cell_type": "markdown",
   "id": "df96116c",
   "metadata": {},
   "source": [
    "## Faldgruber og bedste praksis\n",
    "- **Læsbart først**: Hvis udtrykket bliver langt eller indlejret, så brug en almindelig løkke.\n",
    "- **Undgå sideeffekter**: En comprehension bør primært *skabe* en liste, ikke udføre print/logik på siden.\n",
    "- **Navnekonflikter**: Variabelnavne inde i comprehension må gerne være korte (`x`, `n`) men vælg meningsfuldt, hvis det hjælper.\n",
    "- **Husk rækkefølgen**: Filter (`if`) til sidst; betinget udtryk i *udtryksdelen*."
   ]
  },
  {
   "cell_type": "markdown",
   "id": "2c67367d",
   "metadata": {},
   "source": [
    "## Øvelser\n",
    "\n",
    "### Øvelse 1 — Kvadrater af lige tal\n",
    "Lav en liste med kvadraterne af de **lige** tal fra 0 til og med 20."
   ]
  },
  {
   "cell_type": "markdown",
   "id": "76b446fe",
   "metadata": {},
   "source": [
    "````{admonition} Løsning\n",
    ":class: dropdown\n",
    "\n",
    "```python\n",
    "squares_even = [n**2 for n in range(21) if n % 2 == 0]\n",
    "squares_even[:5], len(squares_even)\n",
    "```\n",
    "```text\n",
    "((0, 4, 16, 36, 64), 11)\n",
    "```\n",
    "````"
   ]
  },
  {
   "cell_type": "markdown",
   "id": "a8203ad1",
   "metadata": {},
   "source": [
    "### Øvelse 2 — Rens og filtrér navne\n",
    "Givet `names = [\"  Anne\", \"bob  \", \"CARLA\", \"di\"]`, lav en liste med **rensede** (trim + lowercase) navne **længere end 2 tegn**."
   ]
  },
  {
   "cell_type": "markdown",
   "id": "7b30aba1",
   "metadata": {},
   "source": [
    "````{admonition} Løsning\n",
    ":class: dropdown\n",
    "\n",
    "```python\n",
    "names = [\"  Anne\", \"bob  \", \"CARLA\", \"di\"]\n",
    "clean_long = [n.strip().lower() for n in names if len(n.strip()) > 2]\n",
    "clean_long\n",
    "```\n",
    "```text\n",
    "['anne', 'bob', 'carla']\n",
    "```\n",
    "````"
   ]
  },
  {
   "cell_type": "markdown",
   "id": "451220ae",
   "metadata": {},
   "source": [
    "### Øvelse 3 — Label tal\n",
    "Lav en liste med strenge `\"even\"` eller `\"odd\"` for tallene 0–9."
   ]
  },
  {
   "cell_type": "markdown",
   "id": "ba52f2f7",
   "metadata": {},
   "source": [
    "````{admonition} Løsning\n",
    ":class: dropdown\n",
    "\n",
    "```python\n",
    "labels = [\"even\" if n % 2 == 0 else \"odd\" for n in range(10)]\n",
    "labels[:6]\n",
    "```\n",
    "```text\n",
    "['even', 'odd', 'even', 'odd', 'even', 'odd']\n",
    "```\n",
    "````"
   ]
  },
  {
   "cell_type": "markdown",
   "id": "e7cf67da",
   "metadata": {},
   "source": [
    "### Øvelse 4 — Flad 2D-liste\n",
    "Givet `grid = [[0,1],[2,3,4],[5]]`, flad listen til én liste."
   ]
  },
  {
   "cell_type": "markdown",
   "id": "eef75265",
   "metadata": {},
   "source": [
    "````{admonition} Løsning\n",
    ":class: dropdown\n",
    "\n",
    "```python\n",
    "grid = [[0,1],[2,3,4],[5]]\n",
    "flat = [x for row in grid for x in row]\n",
    "flat\n",
    "```\n",
    "```text\n",
    "[0, 1, 2, 3, 4, 5]\n",
    "```\n",
    "````"
   ]
  },
  {
   "cell_type": "markdown",
   "id": "7d50a6d9",
   "metadata": {},
   "source": [
    "### Øvelse 5 — Pythagorastripler (mini)\n",
    "Find alle tripler `(a, b, c)` for `1 ≤ a ≤ b ≤ 20`, hvor `a**2 + b**2 == c**2` og `c ≤ 20`.\n",
    "*Hint*: To `for`-dele og et filter."
   ]
  },
  {
   "cell_type": "markdown",
   "id": "303f7f85",
   "metadata": {},
   "source": [
    "````{admonition} Løsning\n",
    ":class: dropdown\n",
    "\n",
    "```python\n",
    "triples = [(a, b, c)\n",
    "           for a in range(1, 21)\n",
    "           for b in range(a, 21)\n",
    "           for c in range(1, 21)\n",
    "           if a*a + b*b == c*c]\n",
    "triples[:5]\n",
    "```\n",
    "```text\n",
    "[(3, 4, 5), (5, 12, 13), (6, 8, 10), (8, 15, 17), (9, 12, 15)]\n",
    "```\n",
    "````"
   ]
  },
  {
   "cell_type": "markdown",
   "id": "051a5a54",
   "metadata": {},
   "source": [
    "### Øvelse 6 — Ordfrekvens (basalt)\n",
    "Givet `text = \"to be or not to be\"`. Lav en liste af `(ord, antal)` for hvert unikt ord i teksten (brug `split()` og `set()`), sortér resultatet alfabetisk."
   ]
  },
  {
   "cell_type": "markdown",
   "id": "db3471ff",
   "metadata": {},
   "source": [
    "````{admonition} Løsning\n",
    ":class: dropdown\n",
    "\n",
    "```python\n",
    "text = \"to be or not to be\"\n",
    "words = text.split()\n",
    "pairs = [(w, words.count(w)) for w in sorted(set(words))]\n",
    "pairs\n",
    "```\n",
    "```text\n",
    "[('be', 2), ('not', 1), ('or', 1), ('to', 2)]\n",
    "```\n",
    "````"
   ]
  },
  {
   "cell_type": "markdown",
   "id": "23b8c58d",
   "metadata": {},
   "source": [
    "## Relaterede emner\n",
    "- **Set/Dict comprehensions** (`{expr for ...}`, `{k: v for ...}`)\n",
    "- **Generator expressions** (`(expr for ...)`) – som comprehension, men laver en *generator* i stedet for en liste."
   ]
  },
  {
   "cell_type": "markdown",
   "id": "e7c74a26",
   "metadata": {},
   "source": [
    "## Opsummering\n",
    "- Brug comprehensions til *transformering* og *filtrering* i én kompakt syntaks.\n",
    "- Placer **filteret** til sidst; brug **betinget udtryk** i *udtryksdelen*.\n",
    "- Vælg **læsbarhed** over “én linje for enhver pris”."
   ]
  },
  {
   "cell_type": "markdown",
   "id": "cdbb9817",
   "metadata": {},
   "source": [
    "---\n",
    "\n",
    "*Dette afsnit er originalt undervisningsmateriale, skrevet til din kursusmappe og inspireret af almindeligt kendte introduktioner til list comprehensions.*"
   ]
  }
 ],
 "metadata": {
  "kernelspec": {
   "display_name": "Python 3 (ipykernel)",
   "language": "python",
   "name": "python3"
  },
  "language_info": {
   "codemirror_mode": {
    "name": "ipython",
    "version": 3
   },
   "file_extension": ".py",
   "mimetype": "text/x-python",
   "name": "python",
   "nbconvert_exporter": "python",
   "pygments_lexer": "ipython3",
   "version": "3.12.5"
  }
 },
 "nbformat": 4,
 "nbformat_minor": 5
}
