{
 "cells": [
  {
   "cell_type": "markdown",
   "id": "1873eb93-cfa5-49e2-90de-425677ad7ce5",
   "metadata": {
    "editable": true,
    "slideshow": {
     "slide_type": ""
    },
    "tags": [
     "hide-output"
    ]
   },
   "source": [
    "# Title"
   ]
  },
  {
   "cell_type": "markdown",
   "id": "1834a0e1-e789-43a3-a094-f0695add9e27",
   "metadata": {},
   "source": [
    "```{admonition} Learning Objectives\n",
    "\n",
    "Questions:\n",
    "- Q1?\n",
    "- Q2?\n",
    "- Qn?\n",
    "\n",
    "Objectives:\n",
    "- O1.\n",
    "- O2.\n",
    "- On."
   ]
  },
  {
   "cell_type": "markdown",
   "id": "e370ffb0-a789-4771-b786-a17a0c5c4d6e",
   "metadata": {},
   "source": [
    "---"
   ]
  },
  {
   "cell_type": "markdown",
   "id": "482136b1-90ed-4ef0-9ed2-9359b1022d1c",
   "metadata": {
    "editable": true,
    "slideshow": {
     "slide_type": ""
    },
    "tags": []
   },
   "source": [
    "## Explanatory introduction?\n",
    "\n",
    "..."
   ]
  },
  {
   "cell_type": "markdown",
   "id": "2daf6802-034c-4fba-9273-6375bbab2a9d",
   "metadata": {},
   "source": [
    "````{admonition} See-also dropdown box\n",
    ":class: seealso dropdown\n",
    "\n",
    "See-also is used for external links.\n",
    "Use dropdown if it's nice-to-know and not must-know."
   ]
  },
  {
   "cell_type": "markdown",
   "id": "10d05df7-6a67-463f-8249-85cf8e8c6ba9",
   "metadata": {},
   "source": [
    "---\n",
    "## Exercises"
   ]
  },
  {
   "cell_type": "markdown",
   "id": "6dd55888-2eef-4e3c-a6f2-0976925a706b",
   "metadata": {},
   "source": [
    "### <i class=\"fa-solid fa-pencil\"></i> Exercise 1: ...\n",
    "\n",
    "Description\n",
    "\n",
    "````{admonition} Solution\n",
    ":class: dropdown\n",
    "\n",
    "Solution"
   ]
  },
  {
   "cell_type": "markdown",
   "id": "8ab16379-0976-4eae-8c94-a5ed1dc393dc",
   "metadata": {},
   "source": [
    "### <i class=\"fa-solid fa-pencil\"></i> Exercise 2: ...\n",
    "\n",
    "Description\n",
    "\n",
    "````{admonition} Solution\n",
    ":class: dropdown\n",
    "\n",
    "Solution"
   ]
  },
  {
   "cell_type": "markdown",
   "id": "e6a0ba2f-a4a6-4d92-aeaf-120bdbd7dec1",
   "metadata": {},
   "source": [
    "### <i class=\"fa-solid fa-pencil\"></i> Exercise n: ...\n",
    "\n",
    "Description\n",
    "\n",
    "````{admonition} Solution\n",
    ":class: dropdown\n",
    "\n",
    "Solution"
   ]
  },
  {
   "cell_type": "markdown",
   "id": "1bdd4b2d-411a-4992-9e81-f6b76921a722",
   "metadata": {},
   "source": [
    "---\n",
    "## Key Points\n",
    "\n",
    "- K1.\n",
    "- K2.\n",
    "- Kn."
   ]
  },
  {
   "cell_type": "code",
   "execution_count": null,
   "id": "0e7438a0-34bf-4877-be3f-4027a1f58569",
   "metadata": {
    "tags": [
     "hide-output"
    ]
   },
   "outputs": [],
   "source": []
  }
 ],
 "metadata": {
  "kernelspec": {
   "display_name": "Python 3 (ipykernel)",
   "language": "python",
   "name": "python3"
  },
  "language_info": {
   "codemirror_mode": {
    "name": "ipython",
    "version": 3
   },
   "file_extension": ".py",
   "mimetype": "text/x-python",
   "name": "python",
   "nbconvert_exporter": "python",
   "pygments_lexer": "ipython3",
   "version": "3.13.5"
  }
 },
 "nbformat": 4,
 "nbformat_minor": 5
}
