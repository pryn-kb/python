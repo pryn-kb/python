{
 "cells": [
  {
   "cell_type": "markdown",
   "id": "1873eb93-cfa5-49e2-90de-425677ad7ce5",
   "metadata": {
    "editable": true,
    "slideshow": {
     "slide_type": ""
    },
    "tags": [
     "hide-output"
    ]
   },
   "source": [
    "# Reading from and Writing to Files"
   ]
  },
  {
   "cell_type": "markdown",
   "id": "1834a0e1-e789-43a3-a094-f0695add9e27",
   "metadata": {},
   "source": [
    "```{admonition} Learning Objectives\n",
    "\n",
    "Questions:\n",
    "- How can you read a file: all at once, line by line, or into a list?\n",
    "- How can you write data to a file: overwrite, append, or write multiple lines?\n",
    "\n",
    "Objectives:\n",
    "- Open, read, and write text files in Python.\n",
    "- Understand why `with open()` is often preferable compared to `open()`/`close()`.\n",
    "- Use the correct file mode (`\"r\"`, `\"w\"`, `\"a\"`, `\"r+\"`, `\"w+\"`, `\"a+\"`) for a given task.\n",
    "- Read file content in different ways and control the cursor position with `seek()`."
   ]
  },
  {
   "cell_type": "markdown",
   "id": "9a82a2b7-af8e-4ec5-83e6-a4d92c09a7c9",
   "metadata": {},
   "source": [
    "___\n",
    "## Creating files to work with\n",
    "\n",
    "Before we begin, we need a few text files that we can use for practice later.\\\n",
    "The code below will create these files for you.\n",
    "\n",
    "At this stage, you do **not** need to understand how the code works - just run it once to generate the files.\\\n",
    "Afterward, try opening the files and take a quick look at their content.\n",
    "\n",
    "By the end of this lesson, you will be able to come back to this code and fully understand what it does."
   ]
  },
  {
   "cell_type": "code",
   "execution_count": 22,
   "id": "42bf6fa8-9cff-4f14-a311-fc8820220fc9",
   "metadata": {
    "execution": {
     "iopub.execute_input": "2025-09-09T12:06:56.192664Z",
     "iopub.status.busy": "2025-09-09T12:06:56.192195Z",
     "iopub.status.idle": "2025-09-09T12:06:56.202192Z",
     "shell.execute_reply": "2025-09-09T12:06:56.201194Z",
     "shell.execute_reply.started": "2025-09-09T12:06:56.192628Z"
    },
    "tags": [
     "hide-output"
    ]
   },
   "outputs": [],
   "source": [
    "# write to data.txt\n",
    "with open(\"data.txt\", \"w\", encoding=\"utf-8\") as f:\n",
    "    f.write(\"This is a small text file.\\n\")\n",
    "    f.write(\"It has a few lines of content.\\n\")\n",
    "    f.write(\"Each line ends with a newline character.\\n\")\n",
    "\n",
    "# write to example.txt\n",
    "with open(\"example.txt\", \"w\", encoding=\"utf-8\") as f:\n",
    "    f.write(\"abcdefg\\n\")\n",
    "    f.write(\"hijklmn\\n\")\n",
    "    f.write(\"opqrstu\\n\")\n",
    "    f.write(\"vwxyz\")\n",
    "\n",
    "# write to poem.txt\n",
    "with open(\"poem.txt\", \"w\", encoding=\"utf-8\") as f:\n",
    "    f.write(\"Roses are red\\n\")\n",
    "    f.write(\"Violets are blue\\n\")\n",
    "    f.write(\"Sugar is sweet\\n\")\n",
    "    f.write(\"And so are you\\n\")\n",
    "    f.write(\"\\n\")\n",
    "    f.write(\"The end\")"
   ]
  },
  {
   "cell_type": "markdown",
   "id": "e370ffb0-a789-4771-b786-a17a0c5c4d6e",
   "metadata": {},
   "source": [
    "---"
   ]
  },
  {
   "cell_type": "markdown",
   "id": "482136b1-90ed-4ef0-9ed2-9359b1022d1c",
   "metadata": {
    "editable": true,
    "slideshow": {
     "slide_type": ""
    },
    "tags": []
   },
   "source": [
    "## Reading from and writing to files in Python\n",
    "\n",
    "Working with files is one of the most common tasks in programming. Data is often stored in files, and your program may need to read from these files or write new information back."
   ]
  },
  {
   "cell_type": "markdown",
   "id": "e1a71cc6-f70d-4ff0-abf2-dbf9a1eef183",
   "metadata": {},
   "source": [
    "---\n",
    "## Opening files\n",
    "\n",
    "The built-in function `open()` is used to open a file."
   ]
  },
  {
   "cell_type": "code",
   "execution_count": 2,
   "id": "dfbfcde7-84a9-4f8b-a328-9acfeb42bc7c",
   "metadata": {
    "execution": {
     "iopub.execute_input": "2025-09-09T11:43:33.124109Z",
     "iopub.status.busy": "2025-09-09T11:43:33.123894Z",
     "iopub.status.idle": "2025-09-09T11:43:33.130294Z",
     "shell.execute_reply": "2025-09-09T11:43:33.129801Z",
     "shell.execute_reply.started": "2025-09-09T11:43:33.124094Z"
    },
    "tags": [
     "hide-output"
    ]
   },
   "outputs": [
    {
     "name": "stdout",
     "output_type": "stream",
     "text": [
      "This is a small text file.\n",
      "It has a few lines of content.\n",
      "Each line ends with a newline character.\n",
      "\n"
     ]
    }
   ],
   "source": [
    "f = open(\"data.txt\", \"r\")\n",
    "content = f.read()\n",
    "print(content)\n",
    "f.close()"
   ]
  },
  {
   "cell_type": "markdown",
   "id": "b60fa2fc-310d-4b98-abe4-7b3fe5b1d5ce",
   "metadata": {},
   "source": [
    "- `\"r\"` means read mode.\n",
    "- `.read()` reads the file content as one string.\n",
    "- **Important:** When you use `open()` like this, you must remember to call `.close()`. If you forget, the file stays open in the background - and when writing, some data may remain in the buffer and never be saved properly, which can  leave the file incomplete or corrupted."
   ]
  },
  {
   "cell_type": "markdown",
   "id": "20599661-44da-4413-b9d5-cb0c967c4dbe",
   "metadata": {},
   "source": [
    "### Using with open (recommended)\n",
    "\n",
    "The safer way is to use a context manager. Python will then automatically close the file when you are done."
   ]
  },
  {
   "cell_type": "code",
   "execution_count": 3,
   "id": "ed43fcaa-e288-4471-be0e-714b8dd5d494",
   "metadata": {
    "execution": {
     "iopub.execute_input": "2025-09-09T11:43:33.131318Z",
     "iopub.status.busy": "2025-09-09T11:43:33.131115Z",
     "iopub.status.idle": "2025-09-09T11:43:33.135180Z",
     "shell.execute_reply": "2025-09-09T11:43:33.134560Z",
     "shell.execute_reply.started": "2025-09-09T11:43:33.131296Z"
    },
    "tags": [
     "hide-output"
    ]
   },
   "outputs": [
    {
     "name": "stdout",
     "output_type": "stream",
     "text": [
      "This is a small text file.\n",
      "It has a few lines of content.\n",
      "Each line ends with a newline character.\n",
      "\n"
     ]
    }
   ],
   "source": [
    "with open(\"data.txt\", \"r\") as f:\n",
    "    content = f.read()\n",
    "    print(content)"
   ]
  },
  {
   "cell_type": "markdown",
   "id": "7b77daac-3591-4f8d-aeea-aaa2d1c9d61c",
   "metadata": {},
   "source": [
    "- `with open(...) as f:` is the best practice in Python.\n",
    "- It makes code cleaner and prevents errors."
   ]
  },
  {
   "cell_type": "markdown",
   "id": "cb59f781-e5c1-4b7b-aee6-73532f81e6a9",
   "metadata": {},
   "source": [
    "## Encoding\n",
    "\n",
    "When working with text files, it is good practice to always specify the file encoding.\\\n",
    "By default, Python will use your operating system’s preferred encoding, which may differ across platforms (for example, UTF-8 on most Unix systems but CP-1252 on some Windows setups).\n",
    "\n",
    "If you do not specify the encoding, text containing special characters (such as æ, ø, å) may not be read correctly, or you might get a `UnicodeDecodeError`.\n",
    "\n",
    "The safest choice is to always write your file operations with an explicit encoding, most commonly UTF-8. UTF-8 is the standard text encoding on the web and on most modern systems, and it can represent all characters in the Unicode standard. By explicitly setting `encoding=\"utf-8\"`, you make sure that your code behaves consistently across different computers and operating systems - even if their defaults are different."
   ]
  },
  {
   "cell_type": "code",
   "execution_count": 4,
   "id": "6a5b8826-496f-428e-88a9-23f604095a13",
   "metadata": {
    "execution": {
     "iopub.execute_input": "2025-09-09T11:43:33.136061Z",
     "iopub.status.busy": "2025-09-09T11:43:33.135822Z",
     "iopub.status.idle": "2025-09-09T11:43:33.140066Z",
     "shell.execute_reply": "2025-09-09T11:43:33.139314Z",
     "shell.execute_reply.started": "2025-09-09T11:43:33.136030Z"
    },
    "tags": [
     "hide-output"
    ]
   },
   "outputs": [],
   "source": [
    "with open(\"data.txt\", \"r\", encoding=\"utf-8\") as f:\n",
    "    content = f.read()"
   ]
  },
  {
   "cell_type": "markdown",
   "id": "5c4a2526-5727-43f1-85c6-406cdfcddc77",
   "metadata": {},
   "source": [
    "This way, you avoid problems such as:\n",
    "\n",
    "- Files containing special characters (æ, ø, å, or accented letters) not being read correctly.\n",
    "- Code working on your computer but failing with `UnicodeDecodeError` on someone else’s machine.\n",
    "- Subtle errors where characters are silently replaced or corrupted because the wrong encoding was assumed.\n",
    "\n",
    "<i class=\"fa-solid fa-triangle-exclamation\"></i> Using `encoding=\"utf-8\"` is therefore considered best practice in modern Python programming."
   ]
  },
  {
   "cell_type": "markdown",
   "id": "43ac04bd-3711-42c9-ae37-71b57d06478e",
   "metadata": {},
   "source": [
    "### File modes in `open()`\n",
    "\n",
    "When you use `open()`, the `mode` parameter tells Python how you want to use the file - for reading, writing, appending, or a combination. The table below shows the most common modes.\n",
    "\n",
    "```{list-table}\n",
    ":header-rows: 1\n",
    "\n",
    "* - Mode\n",
    "  - Meaning\n",
    "  - Behavior\n",
    "* - `\"r\"`\n",
    "  - Read\n",
    "  - File must exist.\n",
    "* - `\"w\"`\n",
    "  - Write\n",
    "  - Creates a new file or **truncates (empties)** an existing one.\n",
    "* - `\"a\"`\n",
    "  - Append\n",
    "  - Creates a new file if it doesn’t exist; otherwise writes at the **end**.\n",
    "* - `\"r+\"`\n",
    "  - Read **and** write\n",
    "  - File must exist. Cursor starts at the beginning. Reading/writing works from current position. Does **not** truncate.\n",
    "* - `\"w+\"`\n",
    "  - Write **and** read\n",
    "  - Creates a new file or truncates an existing one. Always starts with an **empty file**.\n",
    "* - `\"a+\"`\n",
    "  - Append **and** read\n",
    "  - File is opened for reading, but all writes go to the end. Creates if missing.\n",
    "```"
   ]
  },
  {
   "cell_type": "markdown",
   "id": "c9596e96-5e31-4d90-9856-bd8fdc944c52",
   "metadata": {},
   "source": [
    "### `\"r+\"` vs. `\"w+\"` explained\n",
    "This is often confusing - here’s the difference.\n",
    "\n",
    "Let us first look at the `example.txt` file:"
   ]
  },
  {
   "cell_type": "code",
   "execution_count": 5,
   "id": "1268bcea-0efe-43dc-b2e1-d92e169ca4c2",
   "metadata": {
    "execution": {
     "iopub.execute_input": "2025-09-09T11:43:33.140922Z",
     "iopub.status.busy": "2025-09-09T11:43:33.140685Z",
     "iopub.status.idle": "2025-09-09T11:43:33.146354Z",
     "shell.execute_reply": "2025-09-09T11:43:33.145707Z",
     "shell.execute_reply.started": "2025-09-09T11:43:33.140893Z"
    },
    "tags": [
     "hide-output"
    ]
   },
   "outputs": [
    {
     "name": "stdout",
     "output_type": "stream",
     "text": [
      "abcdefg\n",
      "hijklmn\n",
      "opqrstu\n",
      "vwxyz\n"
     ]
    }
   ],
   "source": [
    "with open(\"example.txt\", \"r\", encoding=\"utf-8\") as f:\n",
    "    content = f.read()\n",
    "    print(content)"
   ]
  },
  {
   "cell_type": "markdown",
   "id": "151161f3-1627-485f-a8c1-a30294ebc194",
   "metadata": {},
   "source": [
    "If we use `\"r+\"`:"
   ]
  },
  {
   "cell_type": "code",
   "execution_count": 6,
   "id": "7cacecab-eae0-4e89-9f2f-27b94903e417",
   "metadata": {
    "execution": {
     "iopub.execute_input": "2025-09-09T11:43:33.149806Z",
     "iopub.status.busy": "2025-09-09T11:43:33.149521Z",
     "iopub.status.idle": "2025-09-09T11:43:33.153782Z",
     "shell.execute_reply": "2025-09-09T11:43:33.153023Z",
     "shell.execute_reply.started": "2025-09-09T11:43:33.149784Z"
    },
    "tags": [
     "hide-output"
    ]
   },
   "outputs": [],
   "source": [
    "# r+ → requires file to exist, does not truncate\n",
    "with open(\"example.txt\", \"r+\", encoding=\"utf-8\") as f:\n",
    "    f.write(\"HELLO\")"
   ]
  },
  {
   "cell_type": "markdown",
   "id": "cfdf2731-422b-4d41-9187-da16ada3335b",
   "metadata": {},
   "source": [
    "Only the first characters are overwritten; the rest remains:"
   ]
  },
  {
   "cell_type": "code",
   "execution_count": 7,
   "id": "810e5e52-9c45-4887-bd79-32e775d3b896",
   "metadata": {
    "execution": {
     "iopub.execute_input": "2025-09-09T11:43:33.154485Z",
     "iopub.status.busy": "2025-09-09T11:43:33.154306Z",
     "iopub.status.idle": "2025-09-09T11:43:33.158638Z",
     "shell.execute_reply": "2025-09-09T11:43:33.157974Z",
     "shell.execute_reply.started": "2025-09-09T11:43:33.154469Z"
    },
    "tags": [
     "hide-output"
    ]
   },
   "outputs": [
    {
     "name": "stdout",
     "output_type": "stream",
     "text": [
      "HELLOfg\n",
      "hijklmn\n",
      "opqrstu\n",
      "vwxyz\n"
     ]
    }
   ],
   "source": [
    "with open(\"example.txt\", \"r\", encoding=\"utf-8\") as f:\n",
    "    content = f.read()\n",
    "    print(content)"
   ]
  },
  {
   "cell_type": "markdown",
   "id": "d66991be-9505-4734-bd01-f74d5b9052dc",
   "metadata": {},
   "source": [
    "If we instead use `\"w+\"`:"
   ]
  },
  {
   "cell_type": "code",
   "execution_count": 8,
   "id": "773633e0-2950-42b0-af96-c2e42f8fb7f4",
   "metadata": {
    "execution": {
     "iopub.execute_input": "2025-09-09T11:43:33.159654Z",
     "iopub.status.busy": "2025-09-09T11:43:33.159348Z",
     "iopub.status.idle": "2025-09-09T11:43:33.163776Z",
     "shell.execute_reply": "2025-09-09T11:43:33.163066Z",
     "shell.execute_reply.started": "2025-09-09T11:43:33.159626Z"
    },
    "tags": [
     "hide-output"
    ]
   },
   "outputs": [],
   "source": [
    "# w+ → creates or truncates the file\n",
    "with open(\"example.txt\", \"w+\", encoding=\"utf-8\") as f:\n",
    "    f.write(\"HELLO\")"
   ]
  },
  {
   "cell_type": "markdown",
   "id": "420d13d4-48b9-4a54-806d-d87aa7bfc4a1",
   "metadata": {},
   "source": [
    "Any previous content is gone:"
   ]
  },
  {
   "cell_type": "code",
   "execution_count": 9,
   "id": "7f88ca65-3f72-4715-ac83-4a389b6919c0",
   "metadata": {
    "execution": {
     "iopub.execute_input": "2025-09-09T11:43:33.164702Z",
     "iopub.status.busy": "2025-09-09T11:43:33.164500Z",
     "iopub.status.idle": "2025-09-09T11:43:33.169331Z",
     "shell.execute_reply": "2025-09-09T11:43:33.168768Z",
     "shell.execute_reply.started": "2025-09-09T11:43:33.164674Z"
    },
    "tags": [
     "hide-output"
    ]
   },
   "outputs": [
    {
     "name": "stdout",
     "output_type": "stream",
     "text": [
      "HELLO\n"
     ]
    }
   ],
   "source": [
    "with open(\"example.txt\", \"r\", encoding=\"utf-8\") as f:\n",
    "    content = f.read()\n",
    "    print(content)"
   ]
  },
  {
   "cell_type": "markdown",
   "id": "368a468a-1bea-47a9-a97f-2caeeedf4289",
   "metadata": {},
   "source": [
    "---\n",
    "## Reading examples\n",
    "\n",
    "### Read entire file\n",
    "\n",
    "Reads the whole file into one string. Useful for small files, but not memory-efficient for very large ones."
   ]
  },
  {
   "cell_type": "code",
   "execution_count": 10,
   "id": "0813c0af-849a-4caf-b543-ca0ba425e757",
   "metadata": {
    "execution": {
     "iopub.execute_input": "2025-09-09T11:43:33.170718Z",
     "iopub.status.busy": "2025-09-09T11:43:33.170195Z",
     "iopub.status.idle": "2025-09-09T11:43:33.175446Z",
     "shell.execute_reply": "2025-09-09T11:43:33.174920Z",
     "shell.execute_reply.started": "2025-09-09T11:43:33.170684Z"
    },
    "tags": [
     "hide-output"
    ]
   },
   "outputs": [
    {
     "name": "stdout",
     "output_type": "stream",
     "text": [
      "Roses are red\n",
      "Violets are blue\n",
      "Sugar is sweet\n",
      "And so are you\n"
     ]
    }
   ],
   "source": [
    "with open(\"poem.txt\", \"r\", encoding=\"utf-8\") as f:\n",
    "    content = f.read()\n",
    "    print(content)"
   ]
  },
  {
   "cell_type": "markdown",
   "id": "9e93519a-6556-4a44-a22d-42b955de26ad",
   "metadata": {},
   "source": [
    "### Read line by line\n",
    "\n",
    "Iterates through the file line by line. This is memory-friendly and often the best way when working with larger files."
   ]
  },
  {
   "cell_type": "code",
   "execution_count": 11,
   "id": "8866a628-e7ac-407f-b4c9-c41b01f1d6f0",
   "metadata": {
    "execution": {
     "iopub.execute_input": "2025-09-09T11:43:33.176348Z",
     "iopub.status.busy": "2025-09-09T11:43:33.176136Z",
     "iopub.status.idle": "2025-09-09T11:43:33.180598Z",
     "shell.execute_reply": "2025-09-09T11:43:33.179950Z",
     "shell.execute_reply.started": "2025-09-09T11:43:33.176330Z"
    },
    "tags": [
     "hide-output"
    ]
   },
   "outputs": [
    {
     "name": "stdout",
     "output_type": "stream",
     "text": [
      "Roses are red\n",
      "Violets are blue\n",
      "Sugar is sweet\n",
      "And so are you\n"
     ]
    }
   ],
   "source": [
    "with open(\"poem.txt\", \"r\", encoding=\"utf-8\") as f:\n",
    "    for line in f:\n",
    "        print(line.strip())"
   ]
  },
  {
   "cell_type": "markdown",
   "id": "1f932054-f4c9-49fc-a91f-cf9902ca99ff",
   "metadata": {},
   "source": [
    "The `strip()` method removes any leading or trailing whitespace, such as the newline character `\\n` at the end of each line.\n",
    "\n",
    "Removing the newline is useful because otherwise `print()` will add its own line break, resulting in unwanted blank lines in the output.\\\n",
    "This ensures the text looks clean and properly formatted when printed."
   ]
  },
  {
   "cell_type": "markdown",
   "id": "3a38453e-c3fe-46f5-bc07-0aa64fa54cd8",
   "metadata": {},
   "source": [
    "### Read into a list\n",
    "\n",
    "Stores all lines in a list, where each element is one line (including `\\n`). Convenient if you need random access to specific lines."
   ]
  },
  {
   "cell_type": "code",
   "execution_count": 12,
   "id": "d23a3738-021c-45ab-9a54-f6c9dbc23e7c",
   "metadata": {
    "execution": {
     "iopub.execute_input": "2025-09-09T11:43:33.181298Z",
     "iopub.status.busy": "2025-09-09T11:43:33.181117Z",
     "iopub.status.idle": "2025-09-09T11:43:33.186301Z",
     "shell.execute_reply": "2025-09-09T11:43:33.185268Z",
     "shell.execute_reply.started": "2025-09-09T11:43:33.181281Z"
    },
    "tags": [
     "hide-output"
    ]
   },
   "outputs": [
    {
     "name": "stdout",
     "output_type": "stream",
     "text": [
      "['Roses are red\\n', 'Violets are blue\\n', 'Sugar is sweet\\n', 'And so are you']\n"
     ]
    }
   ],
   "source": [
    "with open(\"poem.txt\", \"r\", encoding=\"utf-8\") as f:\n",
    "    lines = f.readlines()\n",
    "print(lines)"
   ]
  },
  {
   "cell_type": "markdown",
   "id": "462cf1f0-25c7-45cc-ac97-f5e369a3b489",
   "metadata": {},
   "source": [
    "---\n",
    "## Writing examples\n",
    "\n",
    "### Write (overwrite)\n",
    "\n",
    "Opens the file in `\"w\"` mode, which creates a new file or truncates (clears) the old one. Any existing content is lost."
   ]
  },
  {
   "cell_type": "code",
   "execution_count": 13,
   "id": "935098c1-bc87-4351-a84a-412912c10049",
   "metadata": {
    "execution": {
     "iopub.execute_input": "2025-09-09T11:43:33.187418Z",
     "iopub.status.busy": "2025-09-09T11:43:33.187073Z",
     "iopub.status.idle": "2025-09-09T11:43:33.191509Z",
     "shell.execute_reply": "2025-09-09T11:43:33.190988Z",
     "shell.execute_reply.started": "2025-09-09T11:43:33.187394Z"
    },
    "tags": [
     "hide-output"
    ]
   },
   "outputs": [],
   "source": [
    "with open(\"output.txt\", \"w\", encoding=\"utf-8\") as f:\n",
    "    f.write(\"First line\\n\")\n",
    "    f.write(\"Second line\\n\")"
   ]
  },
  {
   "cell_type": "markdown",
   "id": "31530444-5414-4730-a5cd-da06f385bb54",
   "metadata": {},
   "source": [
    "### Append\n",
    "\n",
    "Opens the file in `\"a\"` mode, which keeps the old content and adds new lines at the end of the file."
   ]
  },
  {
   "cell_type": "code",
   "execution_count": 14,
   "id": "bd7bc86f-41a8-4b5e-b88f-c46af3fd1773",
   "metadata": {
    "execution": {
     "iopub.execute_input": "2025-09-09T11:43:33.192291Z",
     "iopub.status.busy": "2025-09-09T11:43:33.192107Z",
     "iopub.status.idle": "2025-09-09T11:43:33.196672Z",
     "shell.execute_reply": "2025-09-09T11:43:33.196088Z",
     "shell.execute_reply.started": "2025-09-09T11:43:33.192274Z"
    },
    "tags": [
     "hide-output"
    ]
   },
   "outputs": [],
   "source": [
    "with open(\"output.txt\", \"a\", encoding=\"utf-8\") as f:\n",
    "    f.write(\"This is added at the end.\\n\")"
   ]
  },
  {
   "cell_type": "markdown",
   "id": "53650d64-7050-402b-b3bb-2fcafe96e655",
   "metadata": {},
   "source": [
    "---\n",
    "## Cursor and `seek()`"
   ]
  },
  {
   "cell_type": "markdown",
   "id": "af83a35d-b186-4ccc-9fb5-0104b2943fa8",
   "metadata": {},
   "source": [
    "- The file has a **cursor** (position).\n",
    "- After `f.read()`, the cursor is at the end → a new `f.read()` returns an empty string.\n",
    "- Reset the cursor with `f.seek(0)`."
   ]
  },
  {
   "cell_type": "code",
   "execution_count": 15,
   "id": "7e4af0b5-3003-4e88-864b-f5630da83375",
   "metadata": {
    "execution": {
     "iopub.execute_input": "2025-09-09T11:43:33.197311Z",
     "iopub.status.busy": "2025-09-09T11:43:33.197150Z",
     "iopub.status.idle": "2025-09-09T11:43:33.201900Z",
     "shell.execute_reply": "2025-09-09T11:43:33.201183Z",
     "shell.execute_reply.started": "2025-09-09T11:43:33.197296Z"
    },
    "tags": [
     "hide-output"
    ]
   },
   "outputs": [
    {
     "name": "stdout",
     "output_type": "stream",
     "text": [
      "This is a small text file.\n",
      "It has a few lines of content.\n",
      "Each line ends with a newline character.\n",
      "\n",
      "This is a small text file.\n",
      "It has a few lines of content.\n",
      "Each line ends with a newline character.\n",
      "\n"
     ]
    }
   ],
   "source": [
    "with open(\"data.txt\", \"r\", encoding=\"utf-8\") as f:\n",
    "    print(f.read())   # reads all\n",
    "    f.seek(0)\n",
    "    print(f.read())   # reads again"
   ]
  },
  {
   "cell_type": "markdown",
   "id": "49d1969e-7253-4c4c-9314-b28ccd2d6cff",
   "metadata": {},
   "source": [
    "Changing the index value in `seek()` will change the starting position:"
   ]
  },
  {
   "cell_type": "code",
   "execution_count": 26,
   "id": "171016f4-5118-432d-8785-9086aebd2824",
   "metadata": {
    "execution": {
     "iopub.execute_input": "2025-09-09T12:12:21.831714Z",
     "iopub.status.busy": "2025-09-09T12:12:21.831233Z",
     "iopub.status.idle": "2025-09-09T12:12:21.838751Z",
     "shell.execute_reply": "2025-09-09T12:12:21.837710Z",
     "shell.execute_reply.started": "2025-09-09T12:12:21.831675Z"
    },
    "tags": [
     "hide-output"
    ]
   },
   "outputs": [
    {
     "name": "stdout",
     "output_type": "stream",
     "text": [
      "his is a small text file.\n",
      "It has a few lines of content.\n",
      "Each line ends with a newline character.\n",
      "\n"
     ]
    }
   ],
   "source": [
    "with open(\"data.txt\", \"r\", encoding=\"utf-8\") as f:\n",
    "    f.seek(1)\n",
    "    print(f.read())   # reads from index 1"
   ]
  },
  {
   "cell_type": "markdown",
   "id": "bdd23689-c51f-4bb0-80f9-2d9a15c11b2a",
   "metadata": {},
   "source": [
    "---\n",
    "## Exercises"
   ]
  },
  {
   "cell_type": "markdown",
   "id": "e373d047-7e4c-4534-91f2-99cb40c23eca",
   "metadata": {},
   "source": [
    "### <i class=\"fa-solid fa-pencil\"></i> Exercise 1: Read and print\n",
    "\n",
    "Open `poem.txt`, read the content and print it.\n",
    "\n",
    "Do it first with `open()` + `close()`, then rewrite it using `with open`."
   ]
  },
  {
   "cell_type": "markdown",
   "id": "61005f7a-9b4b-499c-bdd9-a69d87e5774e",
   "metadata": {},
   "source": [
    "````{admonition} Solution\n",
    ":class: dropdown\n",
    "\n",
    "**Read using `open()` and `close()`:**\n",
    "\n",
    "    f = open(\"poem.txt\", \"r\", encoding=\"utf-8\")\n",
    "    content = f.read()\n",
    "    f.close()\n",
    "    print(content)  # prints the entire file content\n",
    "\n",
    "**Read using `with open` (recommended):**\n",
    "\n",
    "    with open(\"poem.txt\", \"r\", encoding=\"utf-8\") as f:\n",
    "        content = f.read()\n",
    "    print(content)  # prints the entire file content"
   ]
  },
  {
   "cell_type": "markdown",
   "id": "4204df0c-800e-47c5-bd13-2214577075d1",
   "metadata": {},
   "source": [
    "___\n",
    "### <i class=\"fa-solid fa-pencil\"></i> Exercise 2: Count lines\n",
    "\n",
    "Count how many lines are in `poem.txt` and print the result."
   ]
  },
  {
   "cell_type": "markdown",
   "id": "5c0bee90-d95e-45a8-ab76-66dc18c3e53e",
   "metadata": {},
   "source": [
    "````{admonition} Solution\n",
    ":class: dropdown\n",
    "\n",
    "You can count the number of lines in `poem.txt` like this:\n",
    "\n",
    "    with open(\"poem.txt\", \"r\", encoding=\"utf-8\") as f:\n",
    "        lines = f.readlines()\n",
    "    num_lines = len(lines)\n",
    "    print(\"Number of lines:\", num_lines)\n",
    "\n",
    "\n",
    "This will print the exact number of lines in the file.\n",
    "\n",
    "**Tip:** If you want to count only non-empty lines, add a condition:\n",
    "\n",
    "    with open(\"poem.txt\", \"r\", encoding=\"utf-8\") as f:\n",
    "        lines = f.readlines()\n",
    "    num_nonempty = len([line for line in lines if line.strip()])\n",
    "    print(\"Number of non-empty lines:\", num_nonempty)\n",
    "\n",
    "\n",
    "In this version, `line.strip()` removes whitespace.\\\n",
    "If the line is not empty after stripping, it evaluates to `True` in a condition, so the line is counted.\\\n",
    "If the line is empty (after stripping), it evaluates to `False` and is ignored.\\\n",
    "This way you can skip blank lines and only count lines with actual content."
   ]
  },
  {
   "cell_type": "markdown",
   "id": "c6ce9e3c-3416-497a-b472-f61d08604fe1",
   "metadata": {},
   "source": [
    "___\n",
    "### <i class=\"fa-solid fa-pencil\"></i> Exercise 3: Find a word\n",
    "\n",
    "Ask the user for a word and print which line numbers in `poem.txt` contain that word.\n",
    "\n",
    "**Hint:** Use `input()` to ask the user which word to search for."
   ]
  },
  {
   "cell_type": "markdown",
   "id": "a5628bca-3ee7-4e4d-93fa-972d9ad68ff7",
   "metadata": {},
   "source": [
    "````{admonition} Solution\n",
    ":class: dropdown\n",
    "\n",
    "**Find a word in `poem.txt` (case-insensitive):**\n",
    "\n",
    "\t# Ask the user which word to search for\n",
    "\tsearch_word = input(\"Which word do you want to search for? \")\n",
    "\n",
    "\t# Keep track of whether we find the word or not\n",
    "\tfound_any = False\n",
    "\tline_number = 1  # start counting lines from 1\n",
    "\n",
    "\t# Open the file and go through it line by line\n",
    "\twith open(\"poem.txt\", \"r\", encoding=\"utf-8\") as f:\n",
    "\t    for line in f:\n",
    "\t        # Make the search case-insensitive\n",
    "\t        if search_word.lower() in line.lower():\n",
    "\t            print(f\"Line {line_number}: {line.strip()}\")\n",
    "\t            found_any = True\n",
    "\t        line_number += 1  # move to the next line\n",
    "\n",
    "\t# If no matches were found, tell the user\n",
    "\tif not found_any:\n",
    "\t    print(f'The word \"{search_word}\" was not found in the file.')\n",
    "\n",
    "- `word.lower() in line.lower()` makes the search case-insensitive, so \"Red\" matches \"red\".\n",
    "- `line.strip()` removes the newline at the end before printing."
   ]
  },
  {
   "cell_type": "markdown",
   "id": "0eb923df-d93e-4b4e-bf1b-f248195a40d7",
   "metadata": {},
   "source": [
    "___\n",
    "### <i class=\"fa-solid fa-pencil\"></i> Exercise 4: Write a shopping list\n",
    "\n",
    "Ask the user for three shopping items and write them to `shopping.txt`."
   ]
  },
  {
   "cell_type": "markdown",
   "id": "8d1c6af7-3bf8-4350-8b70-d84c95d5eaf5",
   "metadata": {},
   "source": [
    "````{admonition} Solution\n",
    ":class: dropdown\n",
    "\n",
    "**Write a shopping list with three items:**\n",
    "\n",
    "    # Ask the user for three shopping items\n",
    "    items = []\n",
    "    for i in range(3):\n",
    "        item = input(f\"Enter item {i+1}: \")\n",
    "        items.append(item)\n",
    "\n",
    "    # Write the items to shopping.txt, one per line\n",
    "    with open(\"shopping.txt\", \"w\", encoding=\"utf-8\") as f:\n",
    "        for item in items:\n",
    "            f.write(item + \"\\n\")\n",
    "\n",
    "    print(\"Your shopping list has been saved to shopping.txt\")\n",
    "    print(\"The list contains:\")\n",
    "    \n",
    "    with open(\"shopping.txt\", \"r\", encoding=\"utf-8\") as f:\n",
    "        print(f.read())\n",
    "\n",
    "- We use a loop to collect three items from the user and store them in a list.\n",
    "- `\"w\"` mode creates (or overwrites) the file.\n",
    "- Each item is written on its own line, ending with `\\n`.\n",
    "- After saving, we print back the items to confirm what the list contains."
   ]
  },
  {
   "cell_type": "markdown",
   "id": "3816facd-ec53-4d27-bb5b-35d78d438810",
   "metadata": {},
   "source": [
    "___\n",
    "### <i class=\"fa-solid fa-pencil\"></i> Exercise 5: Append to note\n",
    "\n",
    "Ask the user for a short note and append it to `notes.txt`."
   ]
  },
  {
   "cell_type": "markdown",
   "id": "edb98eab-e652-4ca2-8bf6-b6db7353fe3c",
   "metadata": {},
   "source": [
    "````{admonition} Solution\n",
    ":class: dropdown\n",
    "\n",
    "**Append a note to `notes.txt`:**\n",
    "\n",
    "    # Ask the user for a short note\n",
    "    note = input(\"Enter a short note: \")\n",
    "\n",
    "    # Append the note to notes.txt\n",
    "    with open(\"notes.txt\", \"a\", encoding=\"utf-8\") as f:\n",
    "        f.write(note + \"\\n\")\n",
    "\n",
    "    print(f'Your note \"{note}\" has been saved to notes.txt')\n",
    "    print(\"notes.txt now contains:\")\n",
    "\n",
    "    with open(\"notes.txt\", \"r\", encoding=\"utf-8\") as f:\n",
    "        print(f.read())\n",
    "\n",
    "- `\"a\"` mode appends text to the end of the file instead of overwriting it.\n",
    "- Each new note is written on its own line."
   ]
  },
  {
   "cell_type": "markdown",
   "id": "1bdd4b2d-411a-4992-9e81-f6b76921a722",
   "metadata": {},
   "source": [
    "---\n",
    "## Key Points\n",
    "\n",
    "- Use `with open(..., encoding=\"utf-8\")` to handle files safely and consistently.  \n",
    "- File modes (`\"r\"`, `\"w\"`, `\"a\"`, plus `+`) control whether you read, write, or append - and if old content is kept or erased.  \n",
    "- Files can be read all at once, line by line, or into a list, depending on your needs.  \n",
    "- The file cursor moves as you read/write; use `.seek()` to change its position.  "
   ]
  },
  {
   "cell_type": "code",
   "execution_count": null,
   "id": "0e7438a0-34bf-4877-be3f-4027a1f58569",
   "metadata": {
    "tags": [
     "hide-output"
    ]
   },
   "outputs": [],
   "source": []
  }
 ],
 "metadata": {
  "kernelspec": {
   "display_name": "Python 3 (ipykernel)",
   "language": "python",
   "name": "python3"
  },
  "language_info": {
   "codemirror_mode": {
    "name": "ipython",
    "version": 3
   },
   "file_extension": ".py",
   "mimetype": "text/x-python",
   "name": "python",
   "nbconvert_exporter": "python",
   "pygments_lexer": "ipython3",
   "version": "3.13.5"
  }
 },
 "nbformat": 4,
 "nbformat_minor": 5
}
