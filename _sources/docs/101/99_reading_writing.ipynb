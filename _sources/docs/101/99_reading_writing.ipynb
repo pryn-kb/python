{
 "cells": [
  {
   "cell_type": "markdown",
   "id": "1873eb93-cfa5-49e2-90de-425677ad7ce5",
   "metadata": {
    "editable": true,
    "slideshow": {
     "slide_type": ""
    },
    "tags": [
     "hide-output"
    ]
   },
   "source": [
    "# Reading from and writing to files"
   ]
  },
  {
   "cell_type": "markdown",
   "id": "1834a0e1-e789-43a3-a094-f0695add9e27",
   "metadata": {},
   "source": [
    "```{admonition} Learning Objectives\n",
    "\n",
    "Questions:\n",
    "- Q1?\n",
    "- Q2?\n",
    "- Qn?\n",
    "\n",
    "Objectives:\n",
    "- O1.\n",
    "- O2.\n",
    "- On."
   ]
  },
  {
   "cell_type": "code",
   "execution_count": 46,
   "id": "42bf6fa8-9cff-4f14-a311-fc8820220fc9",
   "metadata": {
    "execution": {
     "iopub.execute_input": "2025-09-08T06:35:00.197527Z",
     "iopub.status.busy": "2025-09-08T06:35:00.197059Z",
     "iopub.status.idle": "2025-09-08T06:35:00.206225Z",
     "shell.execute_reply": "2025-09-08T06:35:00.205213Z",
     "shell.execute_reply.started": "2025-09-08T06:35:00.197490Z"
    }
   },
   "outputs": [],
   "source": [
    "# data.txt\n",
    "with open(\"data/data.txt\", \"w\") as f:\n",
    "    f.write(\"This is a small text file.\\n\")\n",
    "    f.write(\"It has a few lines of content.\\n\")\n",
    "    f.write(\"Each line ends with a newline character.\\n\")\n",
    "\n",
    "# example.txt\n",
    "with open(\"data/example.txt\", \"w\") as f:\n",
    "    f.write(\"abcdefg\\n\")\n",
    "    f.write(\"hijklmn\\n\")\n",
    "\n",
    "# poem.txt\n",
    "with open(\"data/poem.txt\", \"w\") as f:\n",
    "    f.write(\"Roses are red\\n\")\n",
    "    f.write(\"Violets are blue\\n\")\n",
    "    f.write(\"Sugar is sweet\\n\")\n",
    "    f.write(\"And so are you\\n\")"
   ]
  },
  {
   "cell_type": "markdown",
   "id": "e370ffb0-a789-4771-b786-a17a0c5c4d6e",
   "metadata": {},
   "source": [
    "---"
   ]
  },
  {
   "cell_type": "markdown",
   "id": "482136b1-90ed-4ef0-9ed2-9359b1022d1c",
   "metadata": {
    "editable": true,
    "slideshow": {
     "slide_type": ""
    },
    "tags": []
   },
   "source": [
    "## Reading from and writing to files in Python\n",
    "\n",
    "Working with files is one of the most common tasks in programming. Data is often stored in files, and your program may need to read from these files or write new information back."
   ]
  },
  {
   "cell_type": "markdown",
   "id": "e1a71cc6-f70d-4ff0-abf2-dbf9a1eef183",
   "metadata": {},
   "source": [
    "---\n",
    "## Opening files\n",
    "\n",
    "The built-in function `open()` is used to open a file.\\\n",
    "(In this case a file called `data.txt` stored in a folder called `data`.)"
   ]
  },
  {
   "cell_type": "code",
   "execution_count": 17,
   "id": "dfbfcde7-84a9-4f8b-a328-9acfeb42bc7c",
   "metadata": {
    "execution": {
     "iopub.execute_input": "2025-09-08T06:09:49.551070Z",
     "iopub.status.busy": "2025-09-08T06:09:49.550489Z",
     "iopub.status.idle": "2025-09-08T06:09:49.559760Z",
     "shell.execute_reply": "2025-09-08T06:09:49.558424Z",
     "shell.execute_reply.started": "2025-09-08T06:09:49.551022Z"
    }
   },
   "outputs": [
    {
     "name": "stdout",
     "output_type": "stream",
     "text": [
      "This is a small text file.\n",
      "It has a few lines of content.\n",
      "Each line ends with a newline character.\n",
      "\n"
     ]
    }
   ],
   "source": [
    "f = open(\"data/data.txt\", \"r\")\n",
    "content = f.read()\n",
    "print(content)\n",
    "f.close()"
   ]
  },
  {
   "cell_type": "markdown",
   "id": "b60fa2fc-310d-4b98-abe4-7b3fe5b1d5ce",
   "metadata": {},
   "source": [
    "- `\"r\"` means read mode.\n",
    "- `f.read()` reads the file content as one string.\n",
    "- **Important:** When you use `open()` like this, you must remember to call `f.close()`. If you forget, the file stays open in the background — and when writing, some data may remain in the buffer and never be saved properly, which can  leave the file incomplete or corrupted."
   ]
  },
  {
   "cell_type": "markdown",
   "id": "20599661-44da-4413-b9d5-cb0c967c4dbe",
   "metadata": {},
   "source": [
    "### Using with open (recommended)\n",
    "\n",
    "The safer way is to use a context manager. Python will then automatically close the file when you are done."
   ]
  },
  {
   "cell_type": "code",
   "execution_count": 18,
   "id": "ed43fcaa-e288-4471-be0e-714b8dd5d494",
   "metadata": {
    "execution": {
     "iopub.execute_input": "2025-09-08T06:14:18.171631Z",
     "iopub.status.busy": "2025-09-08T06:14:18.171162Z",
     "iopub.status.idle": "2025-09-08T06:14:18.178828Z",
     "shell.execute_reply": "2025-09-08T06:14:18.177783Z",
     "shell.execute_reply.started": "2025-09-08T06:14:18.171595Z"
    }
   },
   "outputs": [
    {
     "name": "stdout",
     "output_type": "stream",
     "text": [
      "This is a small text file.\n",
      "It has a few lines of content.\n",
      "Each line ends with a newline character.\n",
      "\n"
     ]
    }
   ],
   "source": [
    "with open(\"data/data.txt\", \"r\") as f:\n",
    "    content = f.read()\n",
    "    print(content)"
   ]
  },
  {
   "cell_type": "markdown",
   "id": "7b77daac-3591-4f8d-aeea-aaa2d1c9d61c",
   "metadata": {},
   "source": [
    "- `with open(...) as f:` is the best practice in Python.\n",
    "- It makes code cleaner and prevents errors."
   ]
  },
  {
   "cell_type": "markdown",
   "id": "43ac04bd-3711-42c9-ae37-71b57d06478e",
   "metadata": {},
   "source": [
    "```{list-table}\n",
    ":header-rows: 1\n",
    "\n",
    "* - Mode\n",
    "  - Meaning\n",
    "  - Behavior\n",
    "* - `\"r\"`\n",
    "  - Read\n",
    "  - File must exist.\n",
    "* - `\"w\"`\n",
    "  - Write\n",
    "  - Creates a new file or **truncates (empties)** an existing one.\n",
    "* - `\"a\"`\n",
    "  - Append\n",
    "  - Creates a new file if it doesn’t exist; otherwise writes at the **end**.\n",
    "* - `\"r+\"`\n",
    "  - Read **and** write\n",
    "  - File must exist. Cursor starts at the beginning. Reading/writing works from current position. Does **not** truncate.\n",
    "* - `\"w+\"`\n",
    "  - Write **and** read\n",
    "  - Creates a new file or truncates an existing one. Always starts with an **empty file**.\n",
    "* - `\"a+\"`\n",
    "  - Append **and** read\n",
    "  - File is opened for reading, but all writes go to the end. Creates if missing.\n",
    "```"
   ]
  },
  {
   "cell_type": "markdown",
   "id": "c9596e96-5e31-4d90-9856-bd8fdc944c52",
   "metadata": {},
   "source": [
    "### `\"r+\"` vs. `\"w+\"` explained\n",
    "This is often confusing — here’s the difference.\n",
    "\n",
    "Let us first look at the `example.txt` file:"
   ]
  },
  {
   "cell_type": "code",
   "execution_count": 32,
   "id": "1268bcea-0efe-43dc-b2e1-d92e169ca4c2",
   "metadata": {
    "execution": {
     "iopub.execute_input": "2025-09-08T06:24:03.006955Z",
     "iopub.status.busy": "2025-09-08T06:24:03.006620Z",
     "iopub.status.idle": "2025-09-08T06:24:03.012766Z",
     "shell.execute_reply": "2025-09-08T06:24:03.011818Z",
     "shell.execute_reply.started": "2025-09-08T06:24:03.006929Z"
    }
   },
   "outputs": [
    {
     "name": "stdout",
     "output_type": "stream",
     "text": [
      "abcdefg\n",
      "hijklmn\n",
      "\n"
     ]
    }
   ],
   "source": [
    "with open(\"data/example.txt\", \"r\") as f:\n",
    "    content = f.read()\n",
    "    print(content)"
   ]
  },
  {
   "cell_type": "markdown",
   "id": "151161f3-1627-485f-a8c1-a30294ebc194",
   "metadata": {},
   "source": [
    "If we use `\"r+\"`:"
   ]
  },
  {
   "cell_type": "code",
   "execution_count": 33,
   "id": "7cacecab-eae0-4e89-9f2f-27b94903e417",
   "metadata": {
    "execution": {
     "iopub.execute_input": "2025-09-08T06:24:05.856485Z",
     "iopub.status.busy": "2025-09-08T06:24:05.855915Z",
     "iopub.status.idle": "2025-09-08T06:24:05.863454Z",
     "shell.execute_reply": "2025-09-08T06:24:05.861627Z",
     "shell.execute_reply.started": "2025-09-08T06:24:05.856439Z"
    }
   },
   "outputs": [],
   "source": [
    "# r+ → requires file to exist, does not truncate\n",
    "with open(\"data/example.txt\", \"r+\") as f:\n",
    "    f.write(\"HELLO\")"
   ]
  },
  {
   "cell_type": "markdown",
   "id": "cfdf2731-422b-4d41-9187-da16ada3335b",
   "metadata": {},
   "source": [
    "Only the first characters are overwritten; the rest remains:"
   ]
  },
  {
   "cell_type": "code",
   "execution_count": 34,
   "id": "810e5e52-9c45-4887-bd79-32e775d3b896",
   "metadata": {
    "execution": {
     "iopub.execute_input": "2025-09-08T06:24:06.827182Z",
     "iopub.status.busy": "2025-09-08T06:24:06.826608Z",
     "iopub.status.idle": "2025-09-08T06:24:06.835352Z",
     "shell.execute_reply": "2025-09-08T06:24:06.834261Z",
     "shell.execute_reply.started": "2025-09-08T06:24:06.827135Z"
    }
   },
   "outputs": [
    {
     "name": "stdout",
     "output_type": "stream",
     "text": [
      "HELLOfg\n",
      "hijklmn\n",
      "\n"
     ]
    }
   ],
   "source": [
    "with open(\"data/example.txt\", \"r\") as f:\n",
    "    content = f.read()\n",
    "    print(content)"
   ]
  },
  {
   "cell_type": "markdown",
   "id": "d66991be-9505-4734-bd01-f74d5b9052dc",
   "metadata": {},
   "source": [
    "If we instead use `\"w+\"`:"
   ]
  },
  {
   "cell_type": "code",
   "execution_count": 35,
   "id": "773633e0-2950-42b0-af96-c2e42f8fb7f4",
   "metadata": {
    "execution": {
     "iopub.execute_input": "2025-09-08T06:24:10.320008Z",
     "iopub.status.busy": "2025-09-08T06:24:10.319443Z",
     "iopub.status.idle": "2025-09-08T06:24:10.326767Z",
     "shell.execute_reply": "2025-09-08T06:24:10.325547Z",
     "shell.execute_reply.started": "2025-09-08T06:24:10.319963Z"
    }
   },
   "outputs": [],
   "source": [
    "# w+ → creates or truncates the file\n",
    "with open(\"data/example.txt\", \"w+\") as f:\n",
    "    f.write(\"HELLO\")"
   ]
  },
  {
   "cell_type": "markdown",
   "id": "420d13d4-48b9-4a54-806d-d87aa7bfc4a1",
   "metadata": {},
   "source": [
    "Any previous content is gone:"
   ]
  },
  {
   "cell_type": "code",
   "execution_count": 36,
   "id": "7f88ca65-3f72-4715-ac83-4a389b6919c0",
   "metadata": {
    "execution": {
     "iopub.execute_input": "2025-09-08T06:24:11.446809Z",
     "iopub.status.busy": "2025-09-08T06:24:11.446244Z",
     "iopub.status.idle": "2025-09-08T06:24:11.454789Z",
     "shell.execute_reply": "2025-09-08T06:24:11.453648Z",
     "shell.execute_reply.started": "2025-09-08T06:24:11.446761Z"
    }
   },
   "outputs": [
    {
     "name": "stdout",
     "output_type": "stream",
     "text": [
      "HELLO\n"
     ]
    }
   ],
   "source": [
    "with open(\"data/example.txt\", \"r\") as f:\n",
    "    content = f.read()\n",
    "    print(content)"
   ]
  },
  {
   "cell_type": "markdown",
   "id": "368a468a-1bea-47a9-a97f-2caeeedf4289",
   "metadata": {},
   "source": [
    "---\n",
    "## Reading examples\n",
    "\n",
    "### Read entire file"
   ]
  },
  {
   "cell_type": "code",
   "execution_count": 37,
   "id": "0813c0af-849a-4caf-b543-ca0ba425e757",
   "metadata": {
    "execution": {
     "iopub.execute_input": "2025-09-08T06:25:12.884315Z",
     "iopub.status.busy": "2025-09-08T06:25:12.884023Z",
     "iopub.status.idle": "2025-09-08T06:25:12.889579Z",
     "shell.execute_reply": "2025-09-08T06:25:12.888752Z",
     "shell.execute_reply.started": "2025-09-08T06:25:12.884293Z"
    }
   },
   "outputs": [
    {
     "name": "stdout",
     "output_type": "stream",
     "text": [
      "Roses are red\n",
      "Violets are blue\n",
      "Sugar is sweet\n",
      "And so are you\n",
      "\n"
     ]
    }
   ],
   "source": [
    "with open(\"data/poem.txt\", \"r\") as f:\n",
    "    content = f.read()\n",
    "    print(content)"
   ]
  },
  {
   "cell_type": "markdown",
   "id": "9e93519a-6556-4a44-a22d-42b955de26ad",
   "metadata": {},
   "source": [
    "### Read line by line"
   ]
  },
  {
   "cell_type": "code",
   "execution_count": 38,
   "id": "8866a628-e7ac-407f-b4c9-c41b01f1d6f0",
   "metadata": {
    "execution": {
     "iopub.execute_input": "2025-09-08T06:25:33.691990Z",
     "iopub.status.busy": "2025-09-08T06:25:33.691503Z",
     "iopub.status.idle": "2025-09-08T06:25:33.699437Z",
     "shell.execute_reply": "2025-09-08T06:25:33.698341Z",
     "shell.execute_reply.started": "2025-09-08T06:25:33.691952Z"
    }
   },
   "outputs": [
    {
     "name": "stdout",
     "output_type": "stream",
     "text": [
      "Roses are red\n",
      "Violets are blue\n",
      "Sugar is sweet\n",
      "And so are you\n"
     ]
    }
   ],
   "source": [
    "with open(\"data/poem.txt\", \"r\") as f:\n",
    "    for line in f:\n",
    "        print(line.strip())"
   ]
  },
  {
   "cell_type": "markdown",
   "id": "3a38453e-c3fe-46f5-bc07-0aa64fa54cd8",
   "metadata": {},
   "source": [
    "### Read into a list"
   ]
  },
  {
   "cell_type": "code",
   "execution_count": 39,
   "id": "d23a3738-021c-45ab-9a54-f6c9dbc23e7c",
   "metadata": {
    "execution": {
     "iopub.execute_input": "2025-09-08T06:25:52.313344Z",
     "iopub.status.busy": "2025-09-08T06:25:52.312880Z",
     "iopub.status.idle": "2025-09-08T06:25:52.321218Z",
     "shell.execute_reply": "2025-09-08T06:25:52.320174Z",
     "shell.execute_reply.started": "2025-09-08T06:25:52.313307Z"
    }
   },
   "outputs": [
    {
     "name": "stdout",
     "output_type": "stream",
     "text": [
      "['Roses are red\\n', 'Violets are blue\\n', 'Sugar is sweet\\n', 'And so are you\\n']\n"
     ]
    }
   ],
   "source": [
    "with open(\"data/poem.txt\", \"r\") as f:\n",
    "    lines = f.readlines()\n",
    "print(lines)"
   ]
  },
  {
   "cell_type": "markdown",
   "id": "462cf1f0-25c7-45cc-ac97-f5e369a3b489",
   "metadata": {},
   "source": [
    "---\n",
    "## Writing examples\n",
    "\n",
    "### Write (overwrite)"
   ]
  },
  {
   "cell_type": "code",
   "execution_count": 40,
   "id": "935098c1-bc87-4351-a84a-412912c10049",
   "metadata": {
    "execution": {
     "iopub.execute_input": "2025-09-08T06:26:56.497861Z",
     "iopub.status.busy": "2025-09-08T06:26:56.497444Z",
     "iopub.status.idle": "2025-09-08T06:26:56.503236Z",
     "shell.execute_reply": "2025-09-08T06:26:56.501956Z",
     "shell.execute_reply.started": "2025-09-08T06:26:56.497828Z"
    }
   },
   "outputs": [],
   "source": [
    "with open(\"data/output.txt\", \"w\") as f:\n",
    "    f.write(\"First line\\n\")\n",
    "    f.write(\"Second line\\n\")"
   ]
  },
  {
   "cell_type": "markdown",
   "id": "31530444-5414-4730-a5cd-da06f385bb54",
   "metadata": {},
   "source": [
    "### Append"
   ]
  },
  {
   "cell_type": "code",
   "execution_count": 41,
   "id": "bd7bc86f-41a8-4b5e-b88f-c46af3fd1773",
   "metadata": {
    "execution": {
     "iopub.execute_input": "2025-09-08T06:27:23.153366Z",
     "iopub.status.busy": "2025-09-08T06:27:23.152820Z",
     "iopub.status.idle": "2025-09-08T06:27:23.159759Z",
     "shell.execute_reply": "2025-09-08T06:27:23.158373Z",
     "shell.execute_reply.started": "2025-09-08T06:27:23.153327Z"
    }
   },
   "outputs": [],
   "source": [
    "with open(\"data/output.txt\", \"a\") as f:\n",
    "    f.write(\"This is added at the end.\\n\")"
   ]
  },
  {
   "cell_type": "markdown",
   "id": "53650d64-7050-402b-b3bb-2fcafe96e655",
   "metadata": {},
   "source": [
    "---\n",
    "## Cursor and `seek()`"
   ]
  },
  {
   "cell_type": "markdown",
   "id": "af83a35d-b186-4ccc-9fb5-0104b2943fa8",
   "metadata": {},
   "source": [
    "- The file has a **cursor** (position).\n",
    "- After `f.read()`, the cursor is at the end → a new `f.read()` returns an empty string.\n",
    "- Reset the cursor with `f.seek(0)`."
   ]
  },
  {
   "cell_type": "code",
   "execution_count": 43,
   "id": "7e4af0b5-3003-4e88-864b-f5630da83375",
   "metadata": {
    "execution": {
     "iopub.execute_input": "2025-09-08T06:30:51.014319Z",
     "iopub.status.busy": "2025-09-08T06:30:51.013931Z",
     "iopub.status.idle": "2025-09-08T06:30:51.021733Z",
     "shell.execute_reply": "2025-09-08T06:30:51.020809Z",
     "shell.execute_reply.started": "2025-09-08T06:30:51.014288Z"
    }
   },
   "outputs": [
    {
     "name": "stdout",
     "output_type": "stream",
     "text": [
      "This is a small text file.\n",
      "It has a few lines of content.\n",
      "Each line ends with a newline character.\n",
      "\n",
      "This is a small text file.\n",
      "It has a few lines of content.\n",
      "Each line ends with a newline character.\n",
      "\n"
     ]
    }
   ],
   "source": [
    "with open(\"data/data.txt\", \"r\") as f:\n",
    "    print(f.read())   # reads all\n",
    "    f.seek(0)\n",
    "    print(f.read())   # reads again"
   ]
  },
  {
   "cell_type": "markdown",
   "id": "49d1969e-7253-4c4c-9314-b28ccd2d6cff",
   "metadata": {},
   "source": [
    "Changing the index value in `seek()` will change the starting position:"
   ]
  },
  {
   "cell_type": "code",
   "execution_count": 45,
   "id": "171016f4-5118-432d-8785-9086aebd2824",
   "metadata": {
    "execution": {
     "iopub.execute_input": "2025-09-08T06:34:18.890834Z",
     "iopub.status.busy": "2025-09-08T06:34:18.890378Z",
     "iopub.status.idle": "2025-09-08T06:34:18.898348Z",
     "shell.execute_reply": "2025-09-08T06:34:18.896920Z",
     "shell.execute_reply.started": "2025-09-08T06:34:18.890797Z"
    }
   },
   "outputs": [
    {
     "name": "stdout",
     "output_type": "stream",
     "text": [
      "s is a small text file.\n",
      "It has a few lines of content.\n",
      "Each line ends with a newline character.\n",
      "\n"
     ]
    }
   ],
   "source": [
    "with open(\"data/data.txt\", \"r\") as f:\n",
    "    f.seek(3)\n",
    "    print(f.read())   # reads from index 3"
   ]
  },
  {
   "cell_type": "markdown",
   "id": "3816facd-ec53-4d27-bb5b-35d78d438810",
   "metadata": {},
   "source": [
    "---\n",
    "## Exercises\n",
    "\n",
    "<i class=\"fa-solid fa-pencil\"></i> Exercise 1: Read and print\n",
    "\n",
    "Open poem.txt, read the content and print it. Do it first with open() + close(), then rewrite it using with open.\n",
    "\n",
    "<i class=\"fa-solid fa-pencil\"></i> Exercise 2: Count lines\n",
    "\n",
    "Count how many lines are in poem.txt.\n",
    "\n",
    "<i class=\"fa-solid fa-pencil\"></i> Exercise 3: Find a word\n",
    "\n",
    "Ask the user for a word and print which line numbers in poem.txt contain that word.\n",
    "\n",
    "<i class=\"fa-solid fa-pencil\"></i> Exercise 4: Write a shopping list\n",
    "\n",
    "Ask the user for three shopping items and write them to shopping.txt.\n",
    "\n",
    "<i class=\"fa-solid fa-pencil\"></i> Exercise 5: Append with timestamp\n",
    "\n",
    "Ask the user for a short note and append it to notes.txt with the current date and time."
   ]
  },
  {
   "cell_type": "code",
   "execution_count": null,
   "id": "60a845b6-82b2-4ec2-abc4-5902d0a4b995",
   "metadata": {},
   "outputs": [],
   "source": []
  },
  {
   "cell_type": "code",
   "execution_count": null,
   "id": "a13ca802-ed41-4b1c-93a1-2fe801126c71",
   "metadata": {},
   "outputs": [],
   "source": []
  },
  {
   "cell_type": "code",
   "execution_count": null,
   "id": "97115e2f-7fd5-49e1-ab7f-2416653caf2b",
   "metadata": {},
   "outputs": [],
   "source": []
  },
  {
   "cell_type": "markdown",
   "id": "2daf6802-034c-4fba-9273-6375bbab2a9d",
   "metadata": {},
   "source": [
    "````{admonition} See-also dropdown box\n",
    ":class: seealso dropdown\n",
    "\n",
    "See-also is used for external links.\n",
    "Use dropdown if it's nice-to-know and not must-know."
   ]
  },
  {
   "cell_type": "markdown",
   "id": "10d05df7-6a67-463f-8249-85cf8e8c6ba9",
   "metadata": {},
   "source": [
    "---\n",
    "## Exercises"
   ]
  },
  {
   "cell_type": "markdown",
   "id": "6dd55888-2eef-4e3c-a6f2-0976925a706b",
   "metadata": {},
   "source": [
    "### <i class=\"fa-solid fa-pencil\"></i> Exercise 1: ...\n",
    "\n",
    "Description\n",
    "\n",
    "````{admonition} Solution\n",
    ":class: dropdown\n",
    "\n",
    "Solution"
   ]
  },
  {
   "cell_type": "markdown",
   "id": "8ab16379-0976-4eae-8c94-a5ed1dc393dc",
   "metadata": {},
   "source": [
    "### <i class=\"fa-solid fa-pencil\"></i> Exercise 2: ...\n",
    "\n",
    "Description\n",
    "\n",
    "````{admonition} Solution\n",
    ":class: dropdown\n",
    "\n",
    "Solution"
   ]
  },
  {
   "cell_type": "markdown",
   "id": "e6a0ba2f-a4a6-4d92-aeaf-120bdbd7dec1",
   "metadata": {},
   "source": [
    "### <i class=\"fa-solid fa-pencil\"></i> Exercise n: ...\n",
    "\n",
    "Description\n",
    "\n",
    "````{admonition} Solution\n",
    ":class: dropdown\n",
    "\n",
    "Solution"
   ]
  },
  {
   "cell_type": "markdown",
   "id": "1bdd4b2d-411a-4992-9e81-f6b76921a722",
   "metadata": {},
   "source": [
    "---\n",
    "## Key Points\n",
    "\n",
    "- K1.\n",
    "- K2.\n",
    "- Kn."
   ]
  },
  {
   "cell_type": "code",
   "execution_count": null,
   "id": "0e7438a0-34bf-4877-be3f-4027a1f58569",
   "metadata": {
    "tags": [
     "hide-output"
    ]
   },
   "outputs": [],
   "source": []
  }
 ],
 "metadata": {
  "kernelspec": {
   "display_name": "Python 3 (ipykernel)",
   "language": "python",
   "name": "python3"
  },
  "language_info": {
   "codemirror_mode": {
    "name": "ipython",
    "version": 3
   },
   "file_extension": ".py",
   "mimetype": "text/x-python",
   "name": "python",
   "nbconvert_exporter": "python",
   "pygments_lexer": "ipython3",
   "version": "3.13.5"
  }
 },
 "nbformat": 4,
 "nbformat_minor": 5
}
