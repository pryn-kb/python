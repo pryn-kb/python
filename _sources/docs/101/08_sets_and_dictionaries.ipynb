{
 "cells": [
  {
   "cell_type": "markdown",
   "id": "7a04bb64",
   "metadata": {},
   "source": [
    "# Sets, (Tuples), and Dictionaries"
   ]
  },
  {
   "cell_type": "markdown",
   "id": "7d85d0ed-aae2-4de0-a75e-bedb56deca70",
   "metadata": {},
   "source": [
    "```{admonition} Learning Objectives\n",
    "\n",
    "Questions:\n",
    "- What are sets and dictionaries in Python, and how can we use them?\n",
    "\n",
    "Objectives:\n",
    "- Understand the purpose of sets and dictionaries.\n",
    "- Use sets to remove duplicates from lists.\n",
    "- Create and manipulate dictionaries."
   ]
  },
  {
   "cell_type": "markdown",
   "id": "6de64c78",
   "metadata": {},
   "source": [
    "## Sets\n",
    "\n",
    "A **set** in Python is a built-in data type that represents a collection of unique, unordered items. Sets are similar to lists, but they automatically remove duplicate entries and do not maintain order."
   ]
  },
  {
   "cell_type": "markdown",
   "id": "c524372d-ea0d-4458-9d7d-a1da738a95e1",
   "metadata": {},
   "source": [
    "### Why use sets?\n",
    "\n",
    "- To eliminate duplicate values from a list.\n",
    "- To carry out set operations like **union**, **intersection**, **difference**, and **symmetric difference**."
   ]
  },
  {
   "cell_type": "markdown",
   "id": "32d04bed-8ac6-4708-83e6-72143bebe068",
   "metadata": {},
   "source": [
    "### Removing duplicates from a list\n",
    "\n",
    "Below, we have a list of book titles that contains duplicates. By converting the list to a set, we remove duplicates automatically — because sets only allow unique items. We then convert it back to a list to keep working with it in list form."
   ]
  },
  {
   "cell_type": "code",
   "execution_count": 1,
   "id": "d625e594",
   "metadata": {
    "execution": {
     "iopub.execute_input": "2025-08-06T12:30:18.822764Z",
     "iopub.status.busy": "2025-08-06T12:30:18.822339Z",
     "iopub.status.idle": "2025-08-06T12:30:18.829204Z",
     "shell.execute_reply": "2025-08-06T12:30:18.827714Z",
     "shell.execute_reply.started": "2025-08-06T12:30:18.822707Z"
    }
   },
   "outputs": [
    {
     "name": "stdout",
     "output_type": "stream",
     "text": [
      "['1984', 'Brave New World', 'Fahrenheit 451']\n"
     ]
    }
   ],
   "source": [
    "books = [\"1984\", \"Brave New World\", \"1984\", \"Fahrenheit 451\"]\n",
    "unique_books = list(set(books))\n",
    "print(unique_books)"
   ]
  },
  {
   "cell_type": "markdown",
   "id": "00503f7d",
   "metadata": {},
   "source": [
    "Since sets are unordered, the order of elements in `unique_books` may differ from the original list."
   ]
  },
  {
   "cell_type": "markdown",
   "id": "dd3a0099-2dda-43e5-8c95-e460124270c7",
   "metadata": {},
   "source": [
    "### Set operations\n",
    "\n",
    "Set operations are inspired by mathematics and let you compare two sets to find relationships between their elements:"
   ]
  },
  {
   "cell_type": "markdown",
   "id": "dad91ce3-afa1-453a-a787-10f1d4fdc7ae",
   "metadata": {},
   "source": [
    "```{list-table}\n",
    ":header-rows: 1\n",
    "\n",
    "* - Operation\n",
    "  - Code\n",
    "  - Description\n",
    "* - Union\n",
    "  - `a | b`\n",
    "  - All elements from both sets\n",
    "* - Intersection\n",
    "  - `a & b`\n",
    "  - Elements common to both sets\n",
    "* - Difference\n",
    "  - `a - b`\n",
    "  - Elements in `a` but not in `b`\n",
    "* - Symmetric difference\n",
    "  - `a ^ b`\n",
    "  - Elements in either `a` or `b`, but not both"
   ]
  },
  {
   "cell_type": "markdown",
   "id": "865a4930-f6b8-4bea-b11c-7b05ded9bc14",
   "metadata": {},
   "source": [
    "Example:"
   ]
  },
  {
   "cell_type": "code",
   "execution_count": 2,
   "id": "72636f35",
   "metadata": {
    "execution": {
     "iopub.execute_input": "2025-08-06T12:30:18.830723Z",
     "iopub.status.busy": "2025-08-06T12:30:18.830464Z",
     "iopub.status.idle": "2025-08-06T12:30:18.835725Z",
     "shell.execute_reply": "2025-08-06T12:30:18.834289Z",
     "shell.execute_reply.started": "2025-08-06T12:30:18.830700Z"
    }
   },
   "outputs": [],
   "source": [
    "a = {\"apple\", \"banana\", \"cherry\"}\n",
    "b = {\"banana\", \"cherry\", \"date\"}"
   ]
  },
  {
   "cell_type": "code",
   "execution_count": 3,
   "id": "9ea19781-229c-4c77-842a-105e30cae2d8",
   "metadata": {
    "execution": {
     "iopub.execute_input": "2025-08-06T12:30:18.837968Z",
     "iopub.status.busy": "2025-08-06T12:30:18.837430Z",
     "iopub.status.idle": "2025-08-06T12:30:18.844131Z",
     "shell.execute_reply": "2025-08-06T12:30:18.843408Z",
     "shell.execute_reply.started": "2025-08-06T12:30:18.837942Z"
    }
   },
   "outputs": [
    {
     "name": "stdout",
     "output_type": "stream",
     "text": [
      "{'banana', 'cherry', 'date', 'apple'}\n",
      "{'banana', 'cherry'}\n",
      "{'apple'}\n",
      "{'date', 'apple'}\n"
     ]
    }
   ],
   "source": [
    "print(a | b)  # {'apple', 'banana', 'cherry', 'date'}\n",
    "print(a & b)  # {'banana', 'cherry'}\n",
    "print(a - b)  # {'apple'}\n",
    "print(a ^ b)  # {'apple', 'date'}"
   ]
  },
  {
   "cell_type": "markdown",
   "id": "0e679e35-439e-4a57-b460-4bcebebe3b3a",
   "metadata": {},
   "source": [
    "These operations are useful when comparing datasets or filtering information.\\\n",
    "For example, you can use them to find shared elements between two lists, or to detect what’s missing from one compared to another."
   ]
  },
  {
   "cell_type": "markdown",
   "id": "f6ecb610-6d48-4500-88f8-d3763ed882e4",
   "metadata": {},
   "source": [
    "## (Tuples)"
   ]
  },
  {
   "cell_type": "markdown",
   "id": "f19cc41a",
   "metadata": {
    "jp-MarkdownHeadingCollapsed": true
   },
   "source": [
    "````{admonition} What are tuples?\n",
    ":class: seealso dropdown\n",
    "\n",
    "A **tuple** is another type of collection in Python. It is similar to a list, but unlike lists, tuples are **immutable** — once you create a tuple, you cannot change its contents.\n",
    "\n",
    "### Why use tuples?\n",
    "- When you want to store a fixed collection of items.\n",
    "- When immutability is important (e.g. as keys in a dictionary).\n",
    "\n",
    "You create tuples with parentheses:\n",
    "```python\n",
    "coordinates = (5.4, 6.7)\n",
    "```\n",
    "\n",
    "Tuples are often used for data that belongs together, such as coordinates, RGB color values, or return values from functions.\n",
    "\n",
    "For more, see: [W3Schools on Tuples](https://www.w3schools.com/python/python_tuples.asp)\n",
    "````"
   ]
  },
  {
   "cell_type": "markdown",
   "id": "cfdfaea8",
   "metadata": {},
   "source": [
    "## Dictionaries\n",
    "\n",
    "A **dictionary** is one of the most powerful and flexible data types in Python. It allows you to store and retrieve data using **keys** instead of index numbers. Dictionaries are useful when you want to associate a value with a label or identifier."
   ]
  },
  {
   "cell_type": "markdown",
   "id": "236c3e30-1df0-4ed9-ab4d-6892c2e295b8",
   "metadata": {},
   "source": [
    "### Structure\n",
    "\n",
    "A dictionary consists of **key-value pairs**, where:\n",
    "- **Keys** must be unique and immutable (e.g., strings, numbers, or tuples).\n",
    "- **Values** can be of any type — such as strings, integers, booleans, lists, or even other dictionaries. This flexibility allows you to store complex, nested data structures."
   ]
  },
  {
   "cell_type": "markdown",
   "id": "230cc3a5-b3e1-4f0e-8c73-9a753ed20426",
   "metadata": {},
   "source": [
    "### Why use dictionaries?\n",
    "\n",
    "- To represent structured data (e.g., a book's title, author, and year).\n",
    "- To model mappings between elements (e.g., usernames and passwords).\n",
    "- To access data by a meaningful name rather than a numeric index."
   ]
  },
  {
   "cell_type": "markdown",
   "id": "0df1f30f",
   "metadata": {},
   "source": [
    "### Creating and accessing a dictionary\n",
    "\n",
    "When creating a dictionary, you use curly braces `{}` and define one or more key-value pairs. Each pair consists of a key, followed by a colon `:`, and then the value.\\\n",
    "Multiple pairs are separated by commas.\n",
    "\n",
    "The syntax looks like this:\n",
    "\n",
    "    dictionary_name = {\n",
    "        \"key1\": value1,\n",
    "        \"key2\": value2,\n",
    "        ...\n",
    "    }"
   ]
  },
  {
   "cell_type": "markdown",
   "id": "6906fc76-d311-45cf-905d-76360b4aaf5a",
   "metadata": {},
   "source": [
    "- Keys must be unique and immutable — most often strings or numbers.\n",
    "- Values can be of any data type: strings, numbers, lists, other dictionaries, etc.\n",
    "\n",
    "In the example below:"
   ]
  },
  {
   "cell_type": "code",
   "execution_count": 4,
   "id": "6d0592c4",
   "metadata": {
    "execution": {
     "iopub.execute_input": "2025-08-06T12:30:18.845320Z",
     "iopub.status.busy": "2025-08-06T12:30:18.845085Z",
     "iopub.status.idle": "2025-08-06T12:30:18.849499Z",
     "shell.execute_reply": "2025-08-06T12:30:18.848652Z",
     "shell.execute_reply.started": "2025-08-06T12:30:18.845303Z"
    }
   },
   "outputs": [],
   "source": [
    "book = {\n",
    "    \"title\": \"1984\",\n",
    "    \"author\": \"George Orwell\",\n",
    "    \"year\": 1949\n",
    "}"
   ]
  },
  {
   "cell_type": "markdown",
   "id": "3319377a-bfdc-4def-85bd-896d385e6a5f",
   "metadata": {},
   "source": [
    "- `\"title\"`, `\"author\"`, and `\"year\"` are the keys.\n",
    "- `\"1984\"`, `\"George Orwell\"`, and `1949` are the corresponding values.\n",
    "\n",
    "This structure makes it easy to look up or update information using the key, without needing to know the position of the data like you would in a list."
   ]
  },
  {
   "cell_type": "markdown",
   "id": "4b2b4bfe",
   "metadata": {},
   "source": [
    "### Accessing values in a dictionary\n",
    "\n",
    "Once a dictionary is created, you can retrieve the value associated with a specific key. This is similar to looking up a word in a dictionary to get its definition.\n",
    "\n",
    "There are two main ways to access values:\n",
    "\n",
    "- Using square brackets `[]` with the key name. This is straightforward but will raise an error if the key doesn't exist.\n",
    "- Using the `.get()` method, which safely returns `None` (or a custom default value) if the key is not found."
   ]
  },
  {
   "cell_type": "code",
   "execution_count": 5,
   "id": "df942e91",
   "metadata": {
    "execution": {
     "iopub.execute_input": "2025-08-06T12:30:18.850681Z",
     "iopub.status.busy": "2025-08-06T12:30:18.850302Z",
     "iopub.status.idle": "2025-08-06T12:30:18.855232Z",
     "shell.execute_reply": "2025-08-06T12:30:18.854139Z",
     "shell.execute_reply.started": "2025-08-06T12:30:18.850659Z"
    }
   },
   "outputs": [
    {
     "name": "stdout",
     "output_type": "stream",
     "text": [
      "George Orwell\n",
      "1949\n"
     ]
    }
   ],
   "source": [
    "print(book[\"author\"])\n",
    "print(book.get(\"year\"))"
   ]
  },
  {
   "cell_type": "markdown",
   "id": "a70a595c",
   "metadata": {},
   "source": [
    "### Updating and modifying dictionaries\n",
    "\n",
    "Once a dictionary is created, we can continue working with it by changing the value of an existing key, adding new key-value pairs, or removing existing ones. These operations are useful when we want to update a data record, add more information, or clean up unnecessary entries.\\\n",
    "Dictionaries are mutable, which means you can update them after they are created. This makes them very flexible and practical when working with dynamic data.\n",
    "\n",
    "You can:\n",
    "- **Change existing values** by assigning a new value to an existing key.\n",
    "- **Add new key-value pairs** by assigning a value to a new key.\n",
    "- **Delete key-value pairs** using the `del` statement.\n",
    "\n",
    "These operations allow you to keep your dictionary up to date with new information, modify incorrect entries, or remove values you no longer need."
   ]
  },
  {
   "cell_type": "code",
   "execution_count": 6,
   "id": "4a178b5c",
   "metadata": {
    "execution": {
     "iopub.execute_input": "2025-08-06T12:30:18.858760Z",
     "iopub.status.busy": "2025-08-06T12:30:18.858465Z",
     "iopub.status.idle": "2025-08-06T12:30:18.861757Z",
     "shell.execute_reply": "2025-08-06T12:30:18.861032Z",
     "shell.execute_reply.started": "2025-08-06T12:30:18.858741Z"
    }
   },
   "outputs": [],
   "source": [
    "book[\"year\"] = 1950  # update\n",
    "book[\"genre\"] = \"Dystopian\"  # add\n",
    "\n",
    "del book[\"genre\"]  # delete"
   ]
  },
  {
   "cell_type": "markdown",
   "id": "67dc7b9b",
   "metadata": {},
   "source": [
    "### Looping through dictionaries\n",
    "\n",
    "When we want to examine all the contents of a dictionary, we can loop through it. We can access just the keys, or both keys and values. This is useful when printing, filtering, or transforming the data.\n",
    "\n",
    "This first loop iterates through the dictionary using just the keys.\\\n",
    "In each iteration, the variable `key` holds the name of a key in the dictionary, and `book[key]` retrieves the corresponding value."
   ]
  },
  {
   "cell_type": "code",
   "execution_count": 7,
   "id": "e6987968",
   "metadata": {
    "execution": {
     "iopub.execute_input": "2025-08-06T12:30:18.862706Z",
     "iopub.status.busy": "2025-08-06T12:30:18.862490Z",
     "iopub.status.idle": "2025-08-06T12:30:18.866568Z",
     "shell.execute_reply": "2025-08-06T12:30:18.865682Z",
     "shell.execute_reply.started": "2025-08-06T12:30:18.862687Z"
    }
   },
   "outputs": [
    {
     "name": "stdout",
     "output_type": "stream",
     "text": [
      "title : 1984\n",
      "author : George Orwell\n",
      "year : 1950\n"
     ]
    }
   ],
   "source": [
    "for key in book:\n",
    "    print(key, \":\", book[key])"
   ]
  },
  {
   "cell_type": "markdown",
   "id": "52d58eb0-cd32-455b-9d5f-ab4cf4deeb46",
   "metadata": {},
   "source": [
    "This second loop uses the `.items()` method, which returns both the key and the value for each pair in the dictionary.\\\n",
    "This makes the code cleaner and more readable when you need both parts."
   ]
  },
  {
   "cell_type": "code",
   "execution_count": 8,
   "id": "027b86da-0725-49bb-a2b4-c8917466f0d3",
   "metadata": {
    "execution": {
     "iopub.execute_input": "2025-08-06T12:30:18.867419Z",
     "iopub.status.busy": "2025-08-06T12:30:18.867164Z",
     "iopub.status.idle": "2025-08-06T12:30:18.871231Z",
     "shell.execute_reply": "2025-08-06T12:30:18.870327Z",
     "shell.execute_reply.started": "2025-08-06T12:30:18.867401Z"
    }
   },
   "outputs": [
    {
     "name": "stdout",
     "output_type": "stream",
     "text": [
      "title: 1984\n",
      "author: George Orwell\n",
      "year: 1950\n"
     ]
    }
   ],
   "source": [
    "for key, value in book.items():\n",
    "    print(f\"{key}: {value}\")"
   ]
  },
  {
   "cell_type": "markdown",
   "id": "a6274251-dd48-417c-9774-a0fd6b27bb06",
   "metadata": {},
   "source": [
    "Both loops print all entries in the dictionary, but the second version is preferred when you want to work directly with both key and value at the same time."
   ]
  },
  {
   "cell_type": "markdown",
   "id": "abd094b9-e6f6-44aa-99ee-6941893704de",
   "metadata": {},
   "source": [
    "### Common dictionary methods\n",
    "\n",
    "```{list-table}\n",
    ":header-rows: 0\n",
    "\n",
    "* - `dict.keys()`\n",
    "  - Returns a view of all keys\n",
    "* - `dict.values()`\n",
    "  - Returns a view of all values\n",
    "* - `dict.items()`\n",
    "  - Returns key-value pairs as tuples\n",
    "* - `dict.get(key)`\n",
    "  - Returns the value for a key\n",
    "```"
   ]
  },
  {
   "cell_type": "markdown",
   "id": "c103da73",
   "metadata": {},
   "source": [
    "### Nested dictionaries"
   ]
  },
  {
   "cell_type": "markdown",
   "id": "86824609-68c0-47ae-8a2c-428d921b7ff1",
   "metadata": {},
   "source": [
    "A dictionary can contain other dictionaries as its values. This is especially useful when dealing with structured or hierarchical data. In the example below, we create a `library` dictionary where each book title maps to another dictionary containing the author and year.\n",
    "\n",
    "This is an example of a **nested dictionary**, where each key in the outer dictionary maps to another dictionary as its value:"
   ]
  },
  {
   "cell_type": "code",
   "execution_count": 9,
   "id": "b9c608b1",
   "metadata": {
    "execution": {
     "iopub.execute_input": "2025-08-06T12:30:18.872376Z",
     "iopub.status.busy": "2025-08-06T12:30:18.872065Z",
     "iopub.status.idle": "2025-08-06T12:30:18.877060Z",
     "shell.execute_reply": "2025-08-06T12:30:18.876106Z",
     "shell.execute_reply.started": "2025-08-06T12:30:18.872354Z"
    }
   },
   "outputs": [
    {
     "name": "stdout",
     "output_type": "stream",
     "text": [
      "{'author': 'Frank Herbert', 'year': 1965}\n",
      "Frank Herbert\n"
     ]
    }
   ],
   "source": [
    "library = {\n",
    "    \"1984\": {\"author\": \"George Orwell\", \"year\": 1949},\n",
    "    \"Dune\": {\"author\": \"Frank Herbert\", \"year\": 1965}\n",
    "}\n",
    "\n",
    "print(library[\"Dune\"])\n",
    "print(library[\"Dune\"][\"author\"])"
   ]
  },
  {
   "cell_type": "markdown",
   "id": "ea7b3bbd-7025-45fa-a7c1-018c16d30698",
   "metadata": {},
   "source": [
    "In this case, `library` is a dictionary that stores information about books. Each book title (e.g., `\"1984\"` or `\"Dune\"`) is a key, and the value is another dictionary containing details like `\"author\"` and `\"year\"`.\n",
    "\n",
    "To access the author of \"Dune\", we use two levels of square brackets:\n",
    "- `library[\"Dune\"]` returns the inner dictionary: `{\"author\": \"Frank Herbert\", \"year\": 1965}`\n",
    "- `library[\"Dune\"][\"author\"]` retrieves the value associated with the `\"author\"` key inside that inner dictionary.\n",
    "\n",
    "This type of structure is useful when you need to organise complex or hierarchical data in a way that is easy to access and understand.\n"
   ]
  },
  {
   "cell_type": "markdown",
   "id": "e01371dd-4e30-4bee-b3e2-1403d7936e6b",
   "metadata": {},
   "source": [
    "---\n",
    "\n",
    "## Exercises"
   ]
  },
  {
   "cell_type": "markdown",
   "id": "5b6bd318",
   "metadata": {},
   "source": [
    "### <i class=\"fa-solid fa-pencil\"></i> Exercise 1: Author lookup\n",
    "\n",
    "Fill in the blanks so that the program below produces the expected output.\n",
    "\n",
    "    book = ____\n",
    "    print(book[\"____\"])\n",
    "\n",
    "Expected output::\n",
    "\n",
    "    George Orwell"
   ]
  },
  {
   "cell_type": "markdown",
   "id": "fb01f193",
   "metadata": {},
   "source": [
    "````{admonition} Solution\n",
    ":class: dropdown\n",
    "Here we define a dictionary with two key-value pairs, and then print the value associated with the key `'author'`.\n",
    "```python\n",
    "book = {\"title\": \"1984\", \"author\": \"George Orwell\"}\n",
    "print(book[\"author\"])\n",
    "```\n",
    "````"
   ]
  },
  {
   "cell_type": "markdown",
   "id": "f2a9080b",
   "metadata": {},
   "source": [
    "---\n",
    "\n",
    "### <i class=\"fa-solid fa-pencil\"></i> Exercise 2: Add and delete\n",
    "\n",
    "What does this code print?\n",
    "\n",
    "    book = {\"title\": \"1984\", \"author\": \"George Orwell\"}\n",
    "    book[\"genre\"] = \"Dystopian\"\n",
    "    del book[\"title\"]\n",
    "    print(book)"
   ]
  },
  {
   "cell_type": "markdown",
   "id": "caee7f74",
   "metadata": {},
   "source": [
    "````{admonition} Solution\n",
    ":class: dropdown\n",
    "The key `'genre'` is added, and the key `'title'` is deleted. The final dictionary only contains `'author'` and `'genre'`.\n",
    "```python\n",
    "{'author': 'George Orwell', 'genre': 'Dystopian'}\n",
    "```\n",
    "````"
   ]
  },
  {
   "cell_type": "markdown",
   "id": "e5a28f62",
   "metadata": {},
   "source": [
    "---\n",
    "\n",
    "### <i class=\"fa-solid fa-pencil\"></i> Exercise 3: Loop through books\n",
    "\n",
    "Create a dictionary of three books and print their titles and years using a loop."
   ]
  },
  {
   "cell_type": "markdown",
   "id": "98ca29ca",
   "metadata": {},
   "source": [
    "````{admonition} Solution\n",
    ":class: dropdown\n",
    "We define a dictionary with book titles as keys and years as values. Then we loop through the dictionary using `.items()` to print each entry in a formatted string.\n",
    "```python\n",
    "books = {\n",
    "    \"1984\": 1949,\n",
    "    \"Dune\": 1965,\n",
    "    \"Brave New World\": 1932\n",
    "}\n",
    "\n",
    "for title, year in books.items():\n",
    "    print(f\"{title} was published in {year}.\")\n",
    "```\n",
    "````"
   ]
  },
  {
   "cell_type": "markdown",
   "id": "762102b8",
   "metadata": {},
   "source": [
    "---\n",
    "\n",
    "### <i class=\"fa-solid fa-pencil\"></i> Exercise 4: Remove duplicates\n",
    "\n",
    "Given this list:\n",
    "\n",
    "    authors = [\"Orwell\", \"Huxley\", \"Orwell\", \"Bradbury\"]\n",
    "\n",
    "Use a set to remove duplicates and convert it back to a list."
   ]
  },
  {
   "cell_type": "markdown",
   "id": "ca2cd73c",
   "metadata": {},
   "source": [
    "````{admonition} Solution\n",
    ":class: dropdown\n",
    "We convert the list to a set to remove duplicates, then back to a list to maintain list functionality.\n",
    "```python\n",
    "authors = [\"Orwell\", \"Huxley\", \"Orwell\", \"Bradbury\"]\n",
    "unique_authors = list(set(authors))\n",
    "print(unique_authors)\n",
    "```\n",
    "````"
   ]
  },
  {
   "cell_type": "markdown",
   "id": "7a6b082a",
   "metadata": {},
   "source": [
    "---\n",
    "\n",
    "## Key points\n",
    "\n",
    "- **Sets** are useful for filtering out duplicates and checking membership.\n",
    "- **Tuples** are immutable sequences and useful when fixed data is needed.\n",
    "- **Dictionaries** store data in labeled key-value pairs and are essential for handling structured data.\n",
    "- Use `.items()`, .`keys()`, .`values()` to interact with dictionaries.\n",
    "- These collection types help you manage, structure, and retrieve data efficiently in Python."
   ]
  },
  {
   "cell_type": "code",
   "execution_count": null,
   "id": "8b21f69a-50e2-4c32-b30d-b15cee56315b",
   "metadata": {},
   "outputs": [],
   "source": []
  }
 ],
 "metadata": {
  "kernelspec": {
   "display_name": "Python 3 (ipykernel)",
   "language": "python",
   "name": "python3"
  },
  "language_info": {
   "codemirror_mode": {
    "name": "ipython",
    "version": 3
   },
   "file_extension": ".py",
   "mimetype": "text/x-python",
   "name": "python",
   "nbconvert_exporter": "python",
   "pygments_lexer": "ipython3",
   "version": "3.13.5"
  }
 },
 "nbformat": 4,
 "nbformat_minor": 5
}
