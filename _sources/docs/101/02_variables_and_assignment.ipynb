{
 "cells": [
  {
   "cell_type": "markdown",
   "id": "5c1d2ef9-9dd6-42ea-a5b0-148853a3695e",
   "metadata": {
    "editable": true,
    "slideshow": {
     "slide_type": ""
    },
    "tags": []
   },
   "source": [
    "# Variables and Assignment"
   ]
  },
  {
   "cell_type": "markdown",
   "id": "7585d0e4-873e-49a9-b2e9-acbce8ae65fb",
   "metadata": {
    "editable": true,
    "slideshow": {
     "slide_type": ""
    },
    "tags": []
   },
   "source": [
    "```{admonition} Learning Objectives\n",
    "Questions \n",
    "* How can I store data in programs?\n",
    "\n",
    "Objectives\n",
    "* Write scripts that assign values to variables and perform calculations with those values.\n",
    "* Correctly trace value changes in scripts that use assignment.\n",
    "\n",
    "```"
   ]
  },
  {
   "cell_type": "markdown",
   "id": "2d482691-ea21-4423-a7a2-abbabeead243",
   "metadata": {},
   "source": [
    "---"
   ]
  },
  {
   "cell_type": "markdown",
   "id": "14454e41-2a9e-4812-81ae-31e2ad127d5a",
   "metadata": {
    "editable": true,
    "slideshow": {
     "slide_type": ""
    },
    "tags": []
   },
   "source": [
    "## Use variables to store values\n",
    "\n",
    "Variables are one of the fundamental building blocks of Python. A variable is like a tiny container where you store values and data, such as filenames, words, numbers, collections of words and numbers, and more.\n",
    "\n",
    "The variable *name* will point to a value that you “assign” it. You might think about variable assignment like putting a value “into” the variable, as if the variable is a little box 🎁\n",
    "\n",
    "(In fact, a variable is not a container as such but more like an adress label that points to a container with a given value. This difference will become relevant once we start talking about *lists* and *mutable* data types.)\n",
    "\n",
    "You assign variables with an equals sign `=`. In Python, a single equals sign `=` is the “assignment operator.” (A double equals sign `==` is the “real” equals sign.)\n",
    "\n",
    "*   Variables are names for values.\n",
    "*   In Python the `=` symbol assigns the value on the right to the name on the left.\n",
    "*   The variable is created when a value is assigned to it.\n",
    "*   Here, we are assigning an age to a variable `age`\n",
    "    and a name in quotation marks to a variable `first_name`:"
   ]
  },
  {
   "cell_type": "code",
   "execution_count": 139,
   "id": "45f6a566-f72c-4172-903f-7e024fdbda2a",
   "metadata": {
    "editable": true,
    "slideshow": {
     "slide_type": ""
    },
    "tags": [
     "hide-output"
    ]
   },
   "outputs": [],
   "source": [
    "age = 42\n",
    "first_name = \"Ahmed\""
   ]
  },
  {
   "cell_type": "markdown",
   "id": "e366b410-46b0-4e57-8557-7b8d73dd0be0",
   "metadata": {
    "editable": true,
    "slideshow": {
     "slide_type": ""
    },
    "tags": []
   },
   "source": [
    "### Variable names\n",
    "Variable names can be as long or as short as you want, but there are certain rules you must follow.\n",
    "\n",
    "Variables:\n",
    "\n",
    "*   Cannot start with a digit.\n",
    "*   Cannot contain spaces, quotation marks, or other punctuation.\n",
    "*   *May* contain an underscore (typically used to separate words in long variable names).\n",
    "*   Having an underscore at the beginning of a variable name like `_alistairs_real_age` has a special meaning.\n",
    "    So we will not do that until we understand the convention.\n",
    "*   The standard naming convention for variable names in Python is the so-called \"snake case\", \n",
    "    where each word is separated by an underscore.For example `my_first_variable`."
   ]
  },
  {
   "cell_type": "markdown",
   "id": "97494433-cf7d-4db9-a4c2-9f8a9805651c",
   "metadata": {},
   "source": [
    "```{admonition} Naming Conventions\n",
    ":class: seealso\n",
    "\n",
    "You can read more about naming conventions in Python [here](https://peps.python.org/pep-0008/#naming-conventions).\n",
    "```"
   ]
  },
  {
   "cell_type": "markdown",
   "id": "add26dd7-e7f0-4c59-8ed7-a7e843ddfdf7",
   "metadata": {
    "editable": true,
    "slideshow": {
     "slide_type": ""
    },
    "tags": []
   },
   "source": [
    "#### Use meaningful variable names\n",
    "Python does not care what you call variables as long as they obey the rules (alphanumeric characters and the underscore).\\\n",
    "As you start to code, you will almost certainly be tempted to use extremely short variables names like `f`. Your fingers will get tired. Your coffee will wear off. You will see other people using variables like `f`. You’ll promise yourself that you’ll definitely remember what `f` means. But you probably won’t.\n",
    "\n",
    "So, resist the temptation of bad variable names! \n",
    "\n",
    "Clear and precisely-named variables will:\n",
    "\n",
    "*   Make your code more readable (both to yourself and others).\n",
    "*   Reinforce your understanding of Python and what’s happening in the code.\n",
    "*   Clarify and strengthen your thinking."
   ]
  },
  {
   "cell_type": "code",
   "execution_count": 3,
   "id": "ec46a643-e7b0-47c8-806f-02b407d5e9a0",
   "metadata": {
    "editable": true,
    "slideshow": {
     "slide_type": ""
    },
    "tags": [
     "hide-output"
    ]
   },
   "outputs": [
    {
     "name": "stdout",
     "output_type": "stream",
     "text": [
      "Ahmed is 42 years old\n"
     ]
    }
   ],
   "source": [
    "flabadab = 42\n",
    "ewr_422_yY = 'Ahmed'\n",
    "print(ewr_422_yY, 'is', flabadab, 'years old')"
   ]
  },
  {
   "cell_type": "markdown",
   "id": "2f4849c2-72d2-4e60-a5ee-0be76c2c5a9b",
   "metadata": {
    "editable": true,
    "slideshow": {
     "slide_type": ""
    },
    "tags": []
   },
   "source": [
    "Use meaningful variable names to help other people understand what the program does.\n",
    "\n",
    "**The most important \"other person\" is your future self!**"
   ]
  },
  {
   "cell_type": "markdown",
   "id": "2bb0bc28-826d-4be7-98eb-14a28bc2c423",
   "metadata": {
    "editable": true,
    "slideshow": {
     "slide_type": ""
    },
    "tags": []
   },
   "source": [
    "#### Python is case-sensitive\n",
    "\n",
    "Python thinks that upper- and lower-case letters are different, so `Name` and `name` are different variables.\n",
    "There are conventions for using upper-case letters at the start of variable names so we will use lower-case letters for now."
   ]
  },
  {
   "cell_type": "markdown",
   "id": "6fd3b9d2-5846-4fd7-aeb7-8421a0f2c680",
   "metadata": {
    "editable": true,
    "slideshow": {
     "slide_type": ""
    },
    "tags": []
   },
   "source": [
    "#### Off-limits names\n",
    "\n",
    "The only variable names that are off-limits are names that are reserved by, or built into, the Python programming language itself - such as `print`, `True`, and `list`.  \n",
    "\n",
    "Some of these you can overwrite into variable names (not ideal!), but Jupyter Lab (and many other environments and editors) will catch this by colour coding your variable.  If your would-be variable is colour-coded green, rethink your name choice.  This is not something to worry too much about. You can get the object back by resetting your kernel."
   ]
  },
  {
   "cell_type": "markdown",
   "id": "fe7743ca-f729-4402-aad3-4116ce4668b7",
   "metadata": {},
   "source": [
    "---"
   ]
  },
  {
   "cell_type": "markdown",
   "id": "0c4c9b90-793e-4e7f-97a4-b372f8a1c8f3",
   "metadata": {
    "editable": true,
    "slideshow": {
     "slide_type": ""
    },
    "tags": []
   },
   "source": [
    "## Use `print()` to display values\n",
    "\n",
    "We can check to see what’s “inside” variables by running a cell with the variable’s name. This is one of the handiest features of a Jupyter notebook. Outside the Jupyter environment, you would need to use the `print()` function to display the variable."
   ]
  },
  {
   "cell_type": "code",
   "execution_count": 147,
   "id": "987bfca6-84c8-4f66-9be8-286a0a3557d4",
   "metadata": {
    "tags": [
     "hide-output"
    ]
   },
   "outputs": [
    {
     "data": {
      "text/plain": [
       "'Ahmed'"
      ]
     },
     "execution_count": 147,
     "metadata": {},
     "output_type": "execute_result"
    }
   ],
   "source": [
    "first_name"
   ]
  },
  {
   "cell_type": "markdown",
   "id": "2d424209-e23e-4c6b-a95b-264350ee2d03",
   "metadata": {
    "editable": true,
    "slideshow": {
     "slide_type": ""
    },
    "tags": []
   },
   "source": [
    "You can run the `print()` function inside the Jupyter environment, too. This is sometimes useful because Jupyter will only display the last variable in a cell, while `print()` can display multiple variables. \n",
    "\n",
    "Additionally, Jupyter will display text with \\n characters (which means “new line”), while `print()` will display the text appropriately formatted with new lines.\n",
    "\n",
    "Python has a built-in function called `print()` that prints things as text.\n",
    "Provide values to the function (i.e., the things to print) in parentheses.\n",
    "To add a string to the printout, wrap the string in single or double quotations.\n",
    "The values passed to the function are called ‘arguments’ and are separated by commas.\n",
    "When using the `print()` function, we can also separate with a `+` sign. However, when using `+` we have to add spaces in between manually."
   ]
  },
  {
   "cell_type": "code",
   "execution_count": 149,
   "id": "dd10a12e-79d7-4263-a3bd-95a277083846",
   "metadata": {
    "tags": [
     "hide-output"
    ]
   },
   "outputs": [
    {
     "name": "stdout",
     "output_type": "stream",
     "text": [
      "Ahmed is 42 years old\n"
     ]
    }
   ],
   "source": [
    "print(first_name, 'is', age, 'years old')"
   ]
  },
  {
   "cell_type": "markdown",
   "id": "ffca88ed-ce9b-4cb5-8942-b143045823f8",
   "metadata": {},
   "source": [
    "`print()` automatically puts a single space between items to separate them.\n",
    "And wraps around to a new line at the end."
   ]
  },
  {
   "cell_type": "markdown",
   "id": "5d7c624b-3e6e-418b-9f0e-7835d1e2ded5",
   "metadata": {},
   "source": [
    "---"
   ]
  },
  {
   "cell_type": "markdown",
   "id": "971cbc7e-28ae-42f1-b0d9-02c12c51c0be",
   "metadata": {
    "editable": true,
    "slideshow": {
     "slide_type": ""
    },
    "tags": []
   },
   "source": [
    "## Variables must be created before they are used\n",
    "\n",
    "If a variable doesn’t exist yet, or if the name has been misspelled, Python reports an error (unlike some languages, which “guess” a default value)."
   ]
  },
  {
   "cell_type": "code",
   "execution_count": 153,
   "id": "68958fe1-213e-41dc-8914-f48d2cfed24c",
   "metadata": {
    "editable": true,
    "slideshow": {
     "slide_type": ""
    },
    "tags": [
     "hide-output"
    ]
   },
   "outputs": [
    {
     "ename": "NameError",
     "evalue": "name 'eye_color' is not defined",
     "output_type": "error",
     "traceback": [
      "\u001b[0;31m---------------------------------------------------------------------------\u001b[0m",
      "\u001b[0;31mNameError\u001b[0m                                 Traceback (most recent call last)",
      "Cell \u001b[0;32mIn[153], line 1\u001b[0m\n\u001b[0;32m----> 1\u001b[0m \u001b[38;5;28mprint\u001b[39m(eye_color)\n",
      "\u001b[0;31mNameError\u001b[0m: name 'eye_color' is not defined"
     ]
    }
   ],
   "source": [
    "print(eye_color)"
   ]
  },
  {
   "cell_type": "markdown",
   "id": "cc7b238a-c47f-4e85-beea-726dba9b3aeb",
   "metadata": {
    "editable": true,
    "slideshow": {
     "slide_type": ""
    },
    "tags": []
   },
   "source": [
    "The last line of an error message is usually the most informative. This message lets us know that there is no variable called `eye_color` in the script."
   ]
  },
  {
   "cell_type": "markdown",
   "id": "f32ae419-8bbd-48e6-85cd-cb60a23f46d5",
   "metadata": {
    "editable": true,
    "slideshow": {
     "slide_type": ""
    },
    "tags": []
   },
   "source": [
    "```{admonition} Variables Persist Between Cells\n",
    ":class: attention\n",
    "\n",
    "Variables defined in one cell exist in all other cells once executed, so the relative location of cells in the notebook do not matter (i.e., cells lower down can still affect those above).\n",
    "\n",
    "* Notice the number in the square brackets [ ] to the left of the cell.\n",
    "* These numbers indicate the order, in which the cells have been executed.\n",
    "* Cells with lower numbers will affect cells with higher numbers as Python runs the cells chronologically.\n",
    "* As a best practice, we recommend you keep your notebook in chronological order so that it is easier for the human eye to read and make sense of, as well as to avoid any errors if you close and reopen your project, and then rerun what you have done.\n",
    "* Remember: Notebook cells are just a way to organize a program!\n",
    "As far as Python is concerned, all of the source code is one long set of instructions.\n",
    "```"
   ]
  },
  {
   "cell_type": "markdown",
   "id": "0b9419c9-0834-4f84-87d3-2e107fbfe0d0",
   "metadata": {},
   "source": [
    "---"
   ]
  },
  {
   "cell_type": "markdown",
   "id": "3aca16c8-0226-46e4-9c28-96d5b23b6833",
   "metadata": {
    "editable": true,
    "slideshow": {
     "slide_type": ""
    },
    "tags": []
   },
   "source": [
    "## Variables in calculations\n",
    "\n",
    "We can use variables in calculations just as if they were values.\n",
    "\n",
    "Remember, we assigned 42 to age a few lines ago."
   ]
  },
  {
   "cell_type": "code",
   "execution_count": 23,
   "id": "e978611b-16c2-473f-89a4-22559949b71d",
   "metadata": {
    "editable": true,
    "slideshow": {
     "slide_type": ""
    },
    "tags": [
     "hide-output"
    ]
   },
   "outputs": [
    {
     "ename": "NameError",
     "evalue": "name 'age' is not defined",
     "output_type": "error",
     "traceback": [
      "\u001b[0;31m---------------------------------------------------------------------------\u001b[0m",
      "\u001b[0;31mNameError\u001b[0m                                 Traceback (most recent call last)",
      "Cell \u001b[0;32mIn[23], line 1\u001b[0m\n\u001b[0;32m----> 1\u001b[0m age \u001b[38;5;241m=\u001b[39m age \u001b[38;5;241m+\u001b[39m \u001b[38;5;241m3\u001b[39m\n\u001b[1;32m      2\u001b[0m \u001b[38;5;28mprint\u001b[39m(\u001b[38;5;124m'\u001b[39m\u001b[38;5;124mAge in three years:\u001b[39m\u001b[38;5;124m'\u001b[39m, age)\n",
      "\u001b[0;31mNameError\u001b[0m: name 'age' is not defined"
     ]
    }
   ],
   "source": [
    "age = age + 3\n",
    "print('Age in three years:', age)"
   ]
  },
  {
   "cell_type": "markdown",
   "id": "4430ce29-130b-4c6f-a9ca-c45dc284df99",
   "metadata": {
    "editable": true,
    "slideshow": {
     "slide_type": ""
    },
    "tags": []
   },
   "source": [
    "This code works in the following way. We are reassigning the value of the variable age by taking its previous value (42) and adding 3, thus getting our new value of 45."
   ]
  },
  {
   "cell_type": "markdown",
   "id": "2609a304-4818-4684-87d5-fb4ecb6b4de8",
   "metadata": {},
   "source": [
    "---"
   ]
  },
  {
   "cell_type": "markdown",
   "id": "37439b07-a514-455a-ae5a-e4f1fcc742f4",
   "metadata": {
    "editable": true,
    "slideshow": {
     "slide_type": ""
    },
    "tags": []
   },
   "source": [
    "## Indexing, slicing, and length"
   ]
  },
  {
   "cell_type": "markdown",
   "id": "a6946e64-2ab3-4e48-a804-a179556b0038",
   "metadata": {
    "editable": true,
    "slideshow": {
     "slide_type": ""
    },
    "tags": []
   },
   "source": [
    "### Indexing\n",
    "\n",
    "You can use an index to get a single character from a string. The characters (individual letters, numbers, and so on) in a string are ordered. For example, the string ‘AB’ is not the same as ‘BA’. Because of this ordering, we can treat the string as a list of characters.\n",
    "\n",
    "Each position in the string (first, second, etc.) is given a number. \n",
    "This number is called an index or sometimes a subscript.\n",
    "Indices are numbered from 0 rather than 1.\n",
    "Use the position’s index in square brackets to get the character at that position."
   ]
  },
  {
   "cell_type": "code",
   "execution_count": null,
   "id": "e0d4befb-155c-4c73-9090-07d453a76217",
   "metadata": {
    "editable": true,
    "slideshow": {
     "slide_type": ""
    },
    "tags": [
     "hide-output"
    ]
   },
   "outputs": [],
   "source": [
    "color = 'green'\n",
    "print(color[0])"
   ]
  },
  {
   "cell_type": "markdown",
   "id": "8a843298-0d6e-4a03-9e44-718b1a17f839",
   "metadata": {
    "editable": true,
    "slideshow": {
     "slide_type": ""
    },
    "tags": []
   },
   "source": [
    "### Use a slice to get a substring\n",
    "\n",
    "A part of a string is called a substring. A substring can be as short as a single character. A slice is a part of a string (or, more generally, any list-like thing). We take a slice by using `[start:stop]`, where start is replaced with the index of the first element we want and stop is replaced with the index of the element just after the last element we want.\n",
    "\n",
    "Mathematically, you might say that a slice selects `[start:stop]`. The difference between stop and start is the slice’s length. Taking a slice does not change the contents of the original string. Instead, the slice is a copy of part of the original string."
   ]
  },
  {
   "cell_type": "code",
   "execution_count": null,
   "id": "33e4c5ca-6162-44e8-aab9-6614df7335aa",
   "metadata": {
    "editable": true,
    "slideshow": {
     "slide_type": ""
    },
    "tags": [
     "hide-output"
    ]
   },
   "outputs": [],
   "source": [
    "color = 'blue'\n",
    "print(color[0:3])"
   ]
  },
  {
   "cell_type": "markdown",
   "id": "77404a43-1f66-476b-98fd-fdb177d787df",
   "metadata": {},
   "source": [
    "### Find the length of a string\n",
    "\n",
    "The built-in function `len()` is used to find the length of a string (and later, of other data types, too)."
   ]
  },
  {
   "cell_type": "code",
   "execution_count": null,
   "id": "eeebdf8f-26d2-46a5-8e2b-526f00061016",
   "metadata": {
    "editable": true,
    "slideshow": {
     "slide_type": ""
    },
    "tags": [
     "hide-output"
    ]
   },
   "outputs": [],
   "source": [
    "color = 'red'\n",
    "print(len(color))"
   ]
  },
  {
   "cell_type": "markdown",
   "id": "b16beea9-19b3-486a-9d58-2178057fdef7",
   "metadata": {
    "editable": true,
    "slideshow": {
     "slide_type": ""
    },
    "tags": []
   },
   "source": [
    "Note that the result is 3 and not 5. This is because it is the length of the value of the variable (i.e. `'red'`) that is being counted and not the name of the variable (i.e. `color`)\n",
    "\n",
    "Also note that nested functions are evaluated from the inside out, just like in mathematics. Thus, Python first reads the `len()` function, then the `print()` function."
   ]
  },
  {
   "cell_type": "markdown",
   "id": "aa6c523a-e236-445d-8575-cb4f1da37944",
   "metadata": {},
   "source": [
    "---"
   ]
  },
  {
   "cell_type": "markdown",
   "id": "eb5dc353-ead6-41d6-97d0-68a1800b5771",
   "metadata": {
    "editable": true,
    "slideshow": {
     "slide_type": ""
    },
    "tags": []
   },
   "source": [
    "## Exercises \n",
    "In the following you will find a series of exercises - try to solve them on your own before looking at the solution. You can either find the solution by clicking the blue solution button or sometimes by clicking \"Show code cell output\".\n",
    "\n",
    "Have fun!"
   ]
  },
  {
   "cell_type": "markdown",
   "id": "0d56834d-c53a-44bd-be25-9f2f1ebc7bf9",
   "metadata": {},
   "source": [
    "### <i class=\"fa-solid fa-pencil\"></i> Exercise 1: Choosing a name\n"
   ]
  },
  {
   "cell_type": "markdown",
   "id": "2d4ac784-4583-48f9-bab5-1cce193195e5",
   "metadata": {
    "editable": true,
    "slideshow": {
     "slide_type": ""
    },
    "tags": []
   },
   "source": [
    "Which is a better variable name, m, min, or minutes? Why?\n",
    "\n",
    "```text\n",
    "ts = m * 60 + s\n",
    "```\n",
    "```text\n",
    "tot_sec = min * 60 + sec\n",
    "```\n",
    "```text\n",
    "total_seconds = minutes * 60 + seconds\n",
    "```\n",
    "Hint: think about which code you would rather inherit from someone who is leaving the library."
   ]
  },
  {
   "cell_type": "markdown",
   "id": "c737f4d1-a2fc-451f-8a7f-891feedba51c",
   "metadata": {
    "editable": true,
    "slideshow": {
     "slide_type": ""
    },
    "tags": []
   },
   "source": [
    "```{admonition} Solution\n",
    ":class: dropdown\n",
    "`minutes` is better because `min` might mean something like “minimum” (and actually does in Python, but we haven’t seen that yet).\n",
    "```"
   ]
  },
  {
   "cell_type": "markdown",
   "id": "5b712d29-7088-4d46-89d7-b6e60ec4d091",
   "metadata": {},
   "source": [
    "---"
   ]
  },
  {
   "cell_type": "markdown",
   "id": "94601f5d-3726-4b16-ad0a-c660a37fd3a2",
   "metadata": {
    "editable": true,
    "slideshow": {
     "slide_type": ""
    },
    "tags": []
   },
   "source": [
    "### <i class=\"fa-solid fa-pencil\"></i> Exercise 2: Swapping values\n",
    "\n",
    "Draw a table showing the values of the variables in this program after each statement is executed. In simple terms, what do the last three lines of this program do?\n",
    "\n",
    "```text\n",
    "x = 1.0\n",
    "y = 3.0\n",
    "swap = x\n",
    "x = y\n",
    "y = swap\n",
    "```"
   ]
  },
  {
   "cell_type": "markdown",
   "id": "d0028e52-c7ae-48b7-b423-e61de19e46f1",
   "metadata": {
    "editable": true,
    "slideshow": {
     "slide_type": ""
    },
    "tags": []
   },
   "source": [
    "````{admonition} Solution\n",
    ":class: dropdown\n",
    "\n",
    "```python\n",
    "x = 1.0   #  x->1.0\n",
    "y = 3.0   #  x->3.0\n",
    "swap = x  #  x->1.0, y->3.0, swap->1.0\n",
    "x = y     #  x->3.0, y->3.0, swap->1.0\n",
    "y = swap  #  x->3.0, y->1.0, swap->1.0\n",
    "```\n",
    "\n",
    "These three lines exchange the values in `x` and `y` using the swap variable for temporary storage. This is a fairly common programming idiom.\n",
    "````"
   ]
  },
  {
   "cell_type": "markdown",
   "id": "d7e94299-6875-4aa4-8e5c-3881daa207b7",
   "metadata": {
    "editable": true,
    "slideshow": {
     "slide_type": ""
    },
    "tags": []
   },
   "source": [
    "---"
   ]
  },
  {
   "cell_type": "markdown",
   "id": "2625c3a2-7b01-4460-a107-09c75ea72e22",
   "metadata": {},
   "source": [
    "### <i class=\"fa-solid fa-pencil\"></i> Exercise 3: Predicting values\n",
    "\n",
    "What is the final value of `position` in the program below? (Try to predict the value without running the program, then check your prediction.)"
   ]
  },
  {
   "cell_type": "code",
   "execution_count": 2,
   "id": "0198beaf-0980-49a9-9235-090ec96c54ac",
   "metadata": {
    "editable": true,
    "slideshow": {
     "slide_type": ""
    },
    "tags": [
     "hide-output"
    ]
   },
   "outputs": [
    {
     "name": "stdout",
     "output_type": "stream",
     "text": [
      "left\n"
     ]
    }
   ],
   "source": [
    "initial = \"left\"\n",
    "position = initial\n",
    "initial = \"right\"\n",
    "print(position)"
   ]
  },
  {
   "cell_type": "markdown",
   "id": "1d29fe59-9add-4dcf-b53f-8119da74265f",
   "metadata": {
    "editable": true,
    "slideshow": {
     "slide_type": ""
    },
    "tags": []
   },
   "source": [
    "---"
   ]
  },
  {
   "cell_type": "markdown",
   "id": "058f2c4c-c737-4454-b52c-e7399df13b8d",
   "metadata": {
    "editable": true,
    "slideshow": {
     "slide_type": ""
    },
    "tags": []
   },
   "source": [
    "### <i class=\"fa-solid fa-pencil\"></i> Exercise 4: Can you slice integers?\n",
    "\n",
    "If you assign `a = 123`, what happens if you try to get the second digit of `a`?"
   ]
  },
  {
   "cell_type": "markdown",
   "id": "3516517b-89ea-4a19-bbd1-8c5d63df8498",
   "metadata": {
    "editable": true,
    "slideshow": {
     "slide_type": ""
    },
    "tags": []
   },
   "source": [
    "````{admonition} Solution\n",
    ":class: dropdown\n",
    "\n",
    "```python\n",
    "a = 123\n",
    "print(a[1])\n",
    "```\n",
    "```text\n",
    "TypeError: 'int' object is not subscriptable\n",
    "```\n",
    "````"
   ]
  },
  {
   "cell_type": "markdown",
   "id": "59294b1b-6073-401b-ba6d-22645e379ad6",
   "metadata": {
    "editable": true,
    "slideshow": {
     "slide_type": ""
    },
    "tags": []
   },
   "source": [
    "---"
   ]
  },
  {
   "cell_type": "markdown",
   "id": "1d3d8847-5fc3-41b7-96b2-410b3a97b5f6",
   "metadata": {
    "editable": true,
    "slideshow": {
     "slide_type": ""
    },
    "tags": []
   },
   "source": [
    "### <i class=\"fa-solid fa-pencil\"></i> Exercise 5: Slicing\n",
    "\n",
    "a) What does the following program print?\n",
    "Try figuring it out without clicking \"Show code cell output\"."
   ]
  },
  {
   "cell_type": "code",
   "execution_count": 1,
   "id": "2f5c443d-24ae-442b-98eb-8e8e0e3d84c1",
   "metadata": {
    "editable": true,
    "slideshow": {
     "slide_type": ""
    },
    "tags": [
     "hide-output"
    ]
   },
   "outputs": [
    {
     "name": "stdout",
     "output_type": "stream",
     "text": [
      "library_name[1:3] is: oc\n"
     ]
    }
   ],
   "source": [
    "library_name = 'social sciences'\n",
    "print('library_name[1:3] is:', library_name[1:3])"
   ]
  },
  {
   "cell_type": "markdown",
   "id": "35ad9dc1-96e9-4b1b-9bd8-b38c01847535",
   "metadata": {
    "editable": true,
    "slideshow": {
     "slide_type": ""
    },
    "tags": []
   },
   "source": [
    "b) If `thing` is a variable name, `low` is a low number, and `high` is a high number:\n",
    "\n",
    "1. What does `thing[low:high]` do?\n",
    "2. What does `thing[low:]` (without a value after the colon) do?\n",
    "3. What does `thing[:high]` (without a value before the colon) do?\n",
    "4. What does `thing[:]` (just a colon) do?\n",
    "5. What does `thing[number:negative-number]` do?"
   ]
  },
  {
   "cell_type": "markdown",
   "id": "47a8751e-f210-4f7d-8892-3625a656caef",
   "metadata": {
    "editable": true,
    "slideshow": {
     "slide_type": ""
    },
    "tags": []
   },
   "source": [
    "```{admonition} Solution\n",
    ":class: dropdown\n",
    "1. It will slice the string, starting at the low index and ending an element before the high index\n",
    "2. It will slice the string, starting at the low index and stopping at the end of the string\n",
    "3. It will slice the string, starting at the beginning on the string, and ending an element before the high index\n",
    "4. It will print the entire string\n",
    "5. It will slice the string, starting the number index, and ending a distance of the absolute value of negative-number elements from the end of the string \n",
    "```"
   ]
  },
  {
   "cell_type": "markdown",
   "id": "f5c94f87-8f84-4754-a96c-146dab5a7a6e",
   "metadata": {},
   "source": [
    "---"
   ]
  },
  {
   "cell_type": "markdown",
   "id": "645d413f-276d-4f17-a126-dfbece627203",
   "metadata": {
    "editable": true,
    "slideshow": {
     "slide_type": ""
    },
    "tags": []
   },
   "source": [
    "## Key points\n",
    "* Use variables to store values.\n",
    "* Use meaningful variable names.\n",
    "* Python is case-sensitive.\n",
    "* Use `print()` to display values.\n",
    "* Variables must be created before they are used.\n",
    "* Variables persist between cells.\n",
    "* Variables can be used in calculations.\n",
    "* Use an **index** to get a single character from a string.\n",
    "* Use a **slice** to get a substring.\n",
    "* Use the built-in function `len()` to find the length of a string."
   ]
  },
  {
   "cell_type": "code",
   "execution_count": null,
   "id": "b94eae67-9b3a-4021-b7f4-e0b85b083c06",
   "metadata": {
    "editable": true,
    "slideshow": {
     "slide_type": ""
    },
    "tags": [
     "hide-output"
    ]
   },
   "outputs": [],
   "source": []
  }
 ],
 "metadata": {
  "jupytext": {
   "notebook_metadata_filter": "-all"
  },
  "kernelspec": {
   "display_name": "Python 3 (ipykernel)",
   "language": "python",
   "name": "python3"
  },
  "language_info": {
   "codemirror_mode": {
    "name": "ipython",
    "version": 3
   },
   "file_extension": ".py",
   "mimetype": "text/x-python",
   "name": "python",
   "nbconvert_exporter": "python",
   "pygments_lexer": "ipython3",
   "version": "3.13.5"
  }
 },
 "nbformat": 4,
 "nbformat_minor": 5
}
