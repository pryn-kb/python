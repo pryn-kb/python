{
 "cells": [
  {
   "cell_type": "markdown",
   "id": "1873eb93-cfa5-49e2-90de-425677ad7ce5",
   "metadata": {
    "editable": true,
    "slideshow": {
     "slide_type": ""
    },
    "tags": [
     "hide-output"
    ]
   },
   "source": [
    "# Libraries in Python"
   ]
  },
  {
   "cell_type": "markdown",
   "id": "1834a0e1-e789-43a3-a094-f0695add9e27",
   "metadata": {},
   "source": [
    "```{admonition} Learning Objectives\n",
    "\n",
    "Questions:\n",
    "- What is the difference between Core Python and external libraries?\n",
    "- How do I install a Python library?\n",
    "- How do I use a Python library in my code?\n",
    "\n",
    "Objectives:\n",
    "- Understand what libraries are and why they are useful.\n",
    "- Use external libraries in your Python code with confidence.\n",
    "- Know where to look for reliable libraries and their documentation."
   ]
  },
  {
   "cell_type": "markdown",
   "id": "e370ffb0-a789-4771-b786-a17a0c5c4d6e",
   "metadata": {},
   "source": [
    "---"
   ]
  },
  {
   "cell_type": "markdown",
   "id": "482136b1-90ed-4ef0-9ed2-9359b1022d1c",
   "metadata": {
    "editable": true,
    "slideshow": {
     "slide_type": ""
    },
    "tags": []
   },
   "source": [
    "## Motivation\n",
    "Writing every piece of code yourself can be time-consuming and difficult. Many tasks, such as working with data, creating plots, or connecting to the internet, have already been solved by others.\n",
    "\n",
    "By using external libraries, you can save time, avoid mistakes, and focus on the problem you actually want to solve.\\\n",
    "Libraries allow you to extend Core Python with tools that are reliable, widely used, and often easier than building everything from scratch."
   ]
  },
  {
   "cell_type": "markdown",
   "id": "21048e42-9543-4408-9ecc-912bafc6fe26",
   "metadata": {},
   "source": [
    "___\n",
    "## Introduction\n",
    "So far, we have mainly worked with **Core Python**. Core Python is everything that comes with Python when you install it - the built-in functions, data types, and modules that are always available.\n",
    "\n",
    "However, Python really shines because of its external libraries. A library is a collection of code that someone else has written, which you can use to make your own work easier.\\\n",
    "Instead of writing everything from scratch, you can rely on libraries that already solve common problems."
   ]
  },
  {
   "cell_type": "markdown",
   "id": "578a12e4-0058-4db6-a1ef-c766ba0fb256",
   "metadata": {},
   "source": [
    "___\n",
    "## Installing vs importing\n",
    "Understanding the difference between installing and importing a library is essential when working with Python. Although these steps are closely related, they serve different purposes - and the distinction is often unclear to beginners."
   ]
  },
  {
   "cell_type": "markdown",
   "id": "3c91109f-5c66-4141-873d-093032f406c4",
   "metadata": {},
   "source": [
    "### Installing libraries\n",
    "When you install Python, it comes with Core Python - the built-in parts of the language. To do more advanced things, you often need to install external libraries.\n",
    "\n",
    "Libraries can be installed from the [**Python Package Index (PyPI)**](https://pypi.org) using `pip`, Python’s package installer.  \n",
    "\n",
    "This command installs the `requests` library using pip:\n",
    "```text\n",
    "pip install requests\n",
    "```\n",
    "\n",
    "If you have not installed `requests` before, this will download and install the latest version of the library along with its dependencies.\n",
    "\n",
    "`pip` commands are most often run through a shell such as the Terminal on macOS or the Command Prompt on Windows.  \n",
    "However, you can also run shell commands directly from Jupyter notebooks by adding an exclamation mark `!` in front of the command:\n",
    "```python\n",
    "! pip install requests\n",
    "```\n",
    "\n",
    "Sometimes you want to make sure you have the newest version of a library. You can do this by adding the `--upgrade` flag:\n",
    "```text\n",
    "pip install --upgrade requests\n",
    "```\n",
    "\n",
    "Adding `--upgrade` not only installs the library if it is not already installed but also updates it to the latest version if you already have it.  \n",
    "This is useful for making sure you have the newest features and bug fixes.\n",
    "\n",
    "Again, in Jupyter notebooks you can run this with:\n",
    "```python\n",
    "! pip install --upgrade requests\n",
    "```"
   ]
  },
  {
   "cell_type": "markdown",
   "id": "107a53a8-0737-46e0-8908-688e9e71b170",
   "metadata": {},
   "source": [
    "### Importing libraries\n",
    "Installing or upgrading makes a library available on your computer. To actually use it in your code, you need to import it. Importing happens *inside your Python program*.  \n",
    "\n",
    "Example:\n",
    "```python\n",
    "import requests\n",
    "```\n",
    "\n",
    "You only need to install a library once before you can use it - and you may occasionally upgrade it to get the latest version.\\\n",
    "In contrast, you must import the library at the beginning of every Python script or notebook where you intend to use it."
   ]
  },
  {
   "cell_type": "markdown",
   "id": "73b2b7fd-2ff0-474d-8931-0e17a975c8ed",
   "metadata": {},
   "source": [
    "### Using aliases\n",
    "Sometimes libraries have long names, and programmers like to shorten them when importing. This is called using an **alias**.\n",
    "\n",
    "For example, the `pandas` library is almost always imported like this:\n",
    "```python\n",
    "import pandas as pd\n",
    "```\n",
    "\n",
    "This tells Python: “Import the library called `pandas`, but in my code I will refer to it as `pd`.”\n",
    "\n",
    "Now you can use:\n",
    "```python\n",
    "data = pd.DataFrame({\"A\": [1, 2, 3]})\n",
    "print(data)\n",
    "```\n",
    "\n",
    "Other standard conventions include:\n",
    "```python\n",
    "import numpy as np\n",
    "import matplotlib.pyplot as plt\n",
    "```\n",
    "\n",
    "These conventions save typing, and because so many people use them, they make your code easier to read and share."
   ]
  },
  {
   "cell_type": "markdown",
   "id": "1db2b962-c1df-4aed-b6d4-be03b850f5db",
   "metadata": {},
   "source": [
    "___\n",
    "## Who makes libraries, and are they safe?\n",
    "Libraries are written by individuals, research groups, companies, and communities of developers. Some of the most widely used libraries - such as `numpy`, `pandas`, and `matplotlib` - are maintained by large teams and used by millions of people.\n",
    "\n",
    "In general, libraries that are widely used and actively maintained are considered safe. However, because libraries are just code that someone else has written, it is possible for poorly maintained or unknown libraries to contain errors or even malicious code.\n",
    "\n",
    "**Tips for safety:**\n",
    "- Prefer well-known libraries with good documentation\n",
    "- Look at how often the library is updated\n",
    "- When in doubt, ask or research before installing an unfamiliar library"
   ]
  },
  {
   "cell_type": "markdown",
   "id": "8d700652-b42f-4112-9fcf-4b26a3154714",
   "metadata": {},
   "source": [
    "___\n",
    "## Where to find libraries and documentation\n",
    "Most Python libraries are listed on the **Python Package Index (PyPI)**:\n",
    "- Website: [https://pypi.org](https://pypi.org)\n",
    "- This is where `pip` downloads from when you install a library.\n",
    "\n",
    "Well-known libraries usually have their own documentation websites. A few examples:\n",
    "- pandas: [https://pandas.pydata.org/docs](https://pandas.pydata.org/docs)\n",
    "- numpy: [https://numpy.org/doc](https://numpy.org/doc)\n",
    "- matplotlib: [https://matplotlib.org/stable/contents.html](https://matplotlib.org/stable/contents.html)\n",
    "\n",
    "Documentation tells you what functions the library provides, how to use them, and often includes tutorials and examples. Learning how to read documentation is an important skill as you progress."
   ]
  },
  {
   "cell_type": "markdown",
   "id": "b5ab1f46-b485-461d-838f-873aec29c592",
   "metadata": {},
   "source": [
    "---\n",
    "## Exercises\n",
    "\n",
    "### <i class=\"fa-solid fa-pencil\"></i> Exercise 1: Install and import Pandas\n",
    "\n",
    "1. Check whether you have `pandas` installed. If not, install it:  \n",
    "```text\n",
    "pip install pandas\n",
    "```\n",
    "\n",
    "2. Open a Python session and import pandas with the alias `pd`:  \n",
    "```python\n",
    "import pandas as pd\n",
    "```\n",
    "\n",
    "3. Print the version of pandas you have installed:  \n",
    "```python\n",
    "print(pd.__version__)\n",
    "```\n",
    "\n",
    "This prints the version of pandas installed on your system, for example `2.3.3`."
   ]
  },
  {
   "cell_type": "markdown",
   "id": "ccb95a9b-c1b7-42cd-9874-ae422afff55b",
   "metadata": {},
   "source": [
    "### <i class=\"fa-solid fa-pencil\"></i> Exercise 2: Upgrade Pandas\n",
    "\n",
    "1. Make sure your pandas library is up to date by running:  \n",
    "```text\n",
    "pip install --upgrade pandas\n",
    "```\n",
    "\n",
    "2. If you are working in Jupyter, remember that you can also run this command with an exclamation mark:  \n",
    "```python\n",
    "! pip install --upgrade pandas\n",
    "```\n",
    "\n",
    "3. After upgrading, check the version again:  \n",
    "```python\n",
    "import pandas as pd\n",
    "print(pd.__version__)\n",
    "```\n",
    "\n",
    "This will upgrade pandas to the newest available version and then print the version number to confirm the update."
   ]
  },
  {
   "cell_type": "markdown",
   "id": "b9845d56-0874-4392-94f3-97c8cc47dc3e",
   "metadata": {},
   "source": [
    "---\n",
    "## Key points\n",
    "- Core Python is what comes built-in when you install Python.\n",
    "- External libraries extend Python’s capabilities.\n",
    "- **Installing** puts the library on your computer; **importing** brings it into your program.\n",
    "- You can find libraries on [PyPI](https://pypi.org) and read more about them in their official documentation."
   ]
  }
 ],
 "metadata": {
  "kernelspec": {
   "display_name": "Python 3 (ipykernel)",
   "language": "python",
   "name": "python3"
  },
  "language_info": {
   "codemirror_mode": {
    "name": "ipython",
    "version": 3
   },
   "file_extension": ".py",
   "mimetype": "text/x-python",
   "name": "python",
   "nbconvert_exporter": "python",
   "pygments_lexer": "ipython3",
   "version": "3.13.5"
  }
 },
 "nbformat": 4,
 "nbformat_minor": 5
}
