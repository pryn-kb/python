{
 "cells": [
  {
   "cell_type": "markdown",
   "id": "4a1a1175-bd8d-4b5c-a93f-3cd094d71b80",
   "metadata": {
    "editable": true,
    "slideshow": {
     "slide_type": ""
    },
    "tags": []
   },
   "source": [
    "# For Loops"
   ]
  },
  {
   "cell_type": "markdown",
   "id": "01c28236-c61c-4c50-9d04-029312bf1190",
   "metadata": {
    "editable": true,
    "slideshow": {
     "slide_type": ""
    },
    "tags": []
   },
   "source": [
    "```{admonition} Learning Objectives\n",
    "\n",
    "Questions:\n",
    "* How can I make a program repeat a task?\n",
    "\n",
    "Objectives:\n",
    "* Explain what for loops are normally used for.\n",
    "* Trace the execution of a simple (unnested) loop and correctly state the values of variables in each iteration.\n",
    "* Write for loops that use accumulator values."
   ]
  },
  {
   "cell_type": "markdown",
   "id": "e893dbb9-f3b3-4d1e-b01f-320fced3072a",
   "metadata": {},
   "source": [
    "---"
   ]
  },
  {
   "cell_type": "markdown",
   "id": "127504d7-371b-4532-acb9-559a5e347d76",
   "metadata": {
    "editable": true,
    "slideshow": {
     "slide_type": ""
    },
    "tags": []
   },
   "source": [
    "## How for loops work\n",
    "\n",
    "A *for loop* executes commands once for each value in a collection\n",
    "\n",
    "Doing calculations on the values in a list one by one is as painful and not very fast. Instead we can use a for loop.\n",
    "\n",
    "*   A for loop tells Python to execute some statements once for each value in a list, a character string, or some other collection.\n",
    "*   \"For each thing in this group, do these operations.\""
   ]
  },
  {
   "cell_type": "code",
   "execution_count": 3,
   "id": "df320b54-ef2e-46fa-af41-317e10b9b8d8",
   "metadata": {
    "editable": true,
    "slideshow": {
     "slide_type": ""
    },
    "tags": [
     "hide-output"
    ]
   },
   "outputs": [
    {
     "name": "stdout",
     "output_type": "stream",
     "text": [
      "dog\n",
      "giraffe\n",
      "whale\n"
     ]
    }
   ],
   "source": [
    "for animal in [\"dog\", \"giraffe\", \"whale\"]:\n",
    "    print(animal)"
   ]
  },
  {
   "cell_type": "markdown",
   "id": "4f81016b-8ac2-4aca-aee4-e6a780529f16",
   "metadata": {
    "editable": true,
    "slideshow": {
     "slide_type": ""
    },
    "tags": []
   },
   "source": [
    "The for loop above is equivalent to:"
   ]
  },
  {
   "cell_type": "code",
   "execution_count": 5,
   "id": "a51b62e9-9b52-4518-8a96-2dc20309050a",
   "metadata": {
    "editable": true,
    "slideshow": {
     "slide_type": ""
    },
    "tags": [
     "hide-output"
    ]
   },
   "outputs": [
    {
     "name": "stdout",
     "output_type": "stream",
     "text": [
      "dog\n",
      "giraffe\n",
      "whale\n"
     ]
    }
   ],
   "source": [
    "print(\"dog\")\n",
    "print(\"giraffe\")\n",
    "print(\"whale\")"
   ]
  },
  {
   "cell_type": "code",
   "execution_count": 19,
   "id": "44462ff1-00af-4191-bc79-2416ab1ec7e0",
   "metadata": {
    "editable": true,
    "slideshow": {
     "slide_type": ""
    },
    "tags": [
     "remove-cell",
     "hide-output"
    ]
   },
   "outputs": [
    {
     "name": "stdout",
     "output_type": "stream",
     "text": [
      "2\n",
      "3\n",
      "5\n"
     ]
    }
   ],
   "source": [
    "print(2)\n",
    "print(3)\n",
    "print(5)"
   ]
  },
  {
   "cell_type": "markdown",
   "id": "4ded1219-06b0-45d2-b8a6-a0d52b8de209",
   "metadata": {
    "editable": true,
    "slideshow": {
     "slide_type": ""
    },
    "tags": []
   },
   "source": [
    "*   The variable name (here `animal`) is a name that you choose, when you create the for loop.\n",
    "*   You can choose any variable name you want.\n",
    "*   But do not use an already existing variable name, as this will then be overwritten.\n",
    "*   The variable persists after the loop is done and will contain the last used value.\n",
    "*   In the case above, `animal` will contain the string \"whale\" after the for loop is finished."
   ]
  },
  {
   "cell_type": "markdown",
   "id": "3657fa59-fe14-412b-ad07-f2d6d51daa45",
   "metadata": {
    "editable": true,
    "slideshow": {
     "slide_type": ""
    },
    "tags": []
   },
   "source": [
    "---"
   ]
  },
  {
   "cell_type": "markdown",
   "id": "d8721c0c-28c3-4690-8048-45df422dfc9a",
   "metadata": {
    "editable": true,
    "slideshow": {
     "slide_type": ""
    },
    "tags": []
   },
   "source": [
    "## For loop syntax\n",
    "\n",
    "* The first line of the for loop must end with a colon, and the body must be indented.\n",
    "* The colon at the end of the first line signals the start of a *block* of statements.\n",
    "* Python uses indentation to show *nesting* (rather than `{}` or `begin`/`end`, which are used in some other programming languages).\n",
    "\n",
    "Any consistent indentation is legal, but almost everyone uses four spaces or tab. IDEs like Jupyter Lab will automatically create an indentation after the colon."
   ]
  },
  {
   "cell_type": "code",
   "execution_count": 8,
   "id": "c0e556ae-4a67-4dbd-8e3b-40cf7677bc0b",
   "metadata": {
    "editable": true,
    "slideshow": {
     "slide_type": ""
    },
    "tags": [
     "hide-output"
    ]
   },
   "outputs": [
    {
     "ename": "IndentationError",
     "evalue": "expected an indented block after 'for' statement on line 1 (4090045393.py, line 2)",
     "output_type": "error",
     "traceback": [
      "\u001b[0;36m  Cell \u001b[0;32mIn[8], line 2\u001b[0;36m\u001b[0m\n\u001b[0;31m    print(animal)\u001b[0m\n\u001b[0m    ^\u001b[0m\n\u001b[0;31mIndentationError\u001b[0m\u001b[0;31m:\u001b[0m expected an indented block after 'for' statement on line 1\n"
     ]
    }
   ],
   "source": [
    "for animal in [\"dog\", \"giraffe\", \"whale\"]:\n",
    "print(animal)"
   ]
  },
  {
   "cell_type": "markdown",
   "id": "b16176e7-9603-4d17-8552-934202125b99",
   "metadata": {
    "editable": true,
    "slideshow": {
     "slide_type": ""
    },
    "tags": []
   },
   "source": [
    "**Indentation is always meaningful in Python.**"
   ]
  },
  {
   "cell_type": "code",
   "execution_count": 10,
   "id": "adf271ee-d04a-4165-b3ad-bb6bdcf86d0a",
   "metadata": {
    "editable": true,
    "slideshow": {
     "slide_type": ""
    },
    "tags": [
     "hide-output"
    ]
   },
   "outputs": [
    {
     "ename": "IndentationError",
     "evalue": "unexpected indent (1049360308.py, line 2)",
     "output_type": "error",
     "traceback": [
      "\u001b[0;36m  Cell \u001b[0;32mIn[10], line 2\u001b[0;36m\u001b[0m\n\u001b[0;31m    lastName = \"Smith\"\u001b[0m\n\u001b[0m    ^\u001b[0m\n\u001b[0;31mIndentationError\u001b[0m\u001b[0;31m:\u001b[0m unexpected indent\n"
     ]
    }
   ],
   "source": [
    "firstName = \"Jon\"\n",
    "  lastName = \"Smith\""
   ]
  },
  {
   "cell_type": "markdown",
   "id": "ac8efe02-ba8a-494f-b04f-352431a4fac9",
   "metadata": {
    "editable": true,
    "slideshow": {
     "slide_type": ""
    },
    "tags": []
   },
   "source": [
    "This error can be fixed by removing the indentation at the beginning of the second line."
   ]
  },
  {
   "cell_type": "markdown",
   "id": "d355db86-a861-4351-a82a-80241dc67ee3",
   "metadata": {},
   "source": [
    "---"
   ]
  },
  {
   "cell_type": "markdown",
   "id": "c6898fa4-b10d-4a3c-8401-bb5b153d21d9",
   "metadata": {
    "editable": true,
    "slideshow": {
     "slide_type": ""
    },
    "tags": []
   },
   "source": [
    "## For loop structure\n",
    "\n",
    "A for loop is made up of a collection, a loop variable, and a body."
   ]
  },
  {
   "cell_type": "code",
   "execution_count": 14,
   "id": "0c22d35b-8cdb-46f9-8ce8-0ee475cab1d4",
   "metadata": {
    "editable": true,
    "slideshow": {
     "slide_type": ""
    },
    "tags": [
     "hide-output"
    ]
   },
   "outputs": [
    {
     "name": "stdout",
     "output_type": "stream",
     "text": [
      "dog\n",
      "giraffe\n",
      "whale\n"
     ]
    }
   ],
   "source": [
    "for animal in [\"dog\", \"giraffe\", \"whale\"]:\n",
    "    print(animal)"
   ]
  },
  {
   "cell_type": "markdown",
   "id": "eda0e3fd-1e94-481c-abff-aa5884ca09c9",
   "metadata": {
    "editable": true,
    "slideshow": {
     "slide_type": ""
    },
    "tags": []
   },
   "source": [
    "* The **collection**, `[\"dog\", \"giraffe\", \"whale\"]`, is what the loop is being run on.\n",
    "* The **loop variable**, `animal`, is what changes for each *iteration* of the loop.\n",
    "    - It \"contains\" `dog` in the first iteration, `giraffe` in the second iteration, and `whale` in the third iteration.\n",
    "    - After the for loop is finished, `animal` still contains `whale`.\n",
    "* The **body**, `print(animal)`, specifies what to do for each value in the collection."
   ]
  },
  {
   "cell_type": "markdown",
   "id": "226d0376-638e-4849-aa4d-2518902f8290",
   "metadata": {
    "editable": true,
    "slideshow": {
     "slide_type": ""
    },
    "tags": []
   },
   "source": [
    "---"
   ]
  },
  {
   "cell_type": "markdown",
   "id": "5ece3eb0-6ff6-470f-8493-211268575317",
   "metadata": {
    "editable": true,
    "slideshow": {
     "slide_type": ""
    },
    "tags": []
   },
   "source": [
    "## Naming loop variables\n",
    "\n",
    "Loop variable names follow the normal variable name conventions.\n",
    "\n",
    "Loop variables will:\n",
    "* Be created on demand during the course of each loop.\n",
    "* Often be used in the course of the loop.\n",
    "* Persist after the loop finishes.\n",
    "\n",
    "So give them a meaningful name you will understand as the body code in your loop grows.\n",
    "Example: `for single_letter in ['A', 'B', 'C', 'D']:` instead of `for asdf in ['A', 'B', 'C', 'D']:`.\n",
    "\n",
    "Use a new variable name to avoid overwriting a data collection you need to keep for later."
   ]
  },
  {
   "cell_type": "markdown",
   "id": "edad4073-69b8-43fe-8119-04fff1b746d1",
   "metadata": {
    "editable": true,
    "slideshow": {
     "slide_type": ""
    },
    "tags": []
   },
   "source": [
    "---"
   ]
  },
  {
   "cell_type": "markdown",
   "id": "29c52922-c890-40d1-8bee-842b587c2b69",
   "metadata": {
    "editable": true,
    "slideshow": {
     "slide_type": ""
    },
    "tags": []
   },
   "source": [
    "## Multiple statements in a for loop\n",
    "\n",
    "The body of a loop can contain many statements.\n",
    "\n",
    "*   You can have as much code as you like inside of a loop.\n",
    "*   But keep in mind, the more code you have, the more difficult it can be to keep track of."
   ]
  },
  {
   "cell_type": "code",
   "execution_count": 14,
   "id": "d766a07b-fa0e-4354-bd26-ad21eafba4b5",
   "metadata": {
    "editable": true,
    "slideshow": {
     "slide_type": ""
    },
    "tags": [
     "hide-output"
    ]
   },
   "outputs": [
    {
     "name": "stdout",
     "output_type": "stream",
     "text": [
      "For a book with 45 pages read so far,\n",
      "Pages remaining to reach 200: 155\n",
      "For a book with 120 pages read so far,\n",
      "Pages remaining to reach 200: 80\n",
      "For a book with 75 pages read so far,\n",
      "Pages remaining to reach 200: 125\n"
     ]
    }
   ],
   "source": [
    "# List of pages read in a book of 200 pages\n",
    "pages_read = [45, 120, 75]\n",
    "\n",
    "# Loop through each book's pages read\n",
    "for pages in pages_read:\n",
    "    # Calculate the remaining pages\n",
    "    pages_remaining = 200 - pages\n",
    "    \n",
    "    # Print the results\n",
    "    print(\"For a book with\", pages, \"pages read so far,\")\n",
    "    print(\"Pages remaining to reach 200:\", pages_remaining)"
   ]
  },
  {
   "cell_type": "markdown",
   "id": "80cfd520-5087-4aa5-b3d3-0e2575a982c2",
   "metadata": {
    "editable": true,
    "slideshow": {
     "slide_type": ""
    },
    "tags": []
   },
   "source": [
    "---"
   ]
  },
  {
   "cell_type": "markdown",
   "id": "241b4f7f-64ec-4228-beb1-e7bf0b15b48d",
   "metadata": {
    "editable": true,
    "slideshow": {
     "slide_type": ""
    },
    "tags": []
   },
   "source": [
    "## Using `range` with the for loop"
   ]
  },
  {
   "cell_type": "markdown",
   "id": "7b22eaae-b6da-418c-9462-545efcbb7417",
   "metadata": {
    "editable": true,
    "slideshow": {
     "slide_type": ""
    },
    "tags": []
   },
   "source": [
    "We can use `range` to go through a sequence of numbers.\n",
    "\n",
    "*   The built-in function `range` produces a sequence of numbers. *Not* a list: the numbers are produced on demand to make looping over large ranges more efficient.\n",
    "*   `range(N)` is the numbers 0, 1, 2, ... N-1"
   ]
  },
  {
   "cell_type": "code",
   "execution_count": 8,
   "id": "73871c61-41ac-45bd-b487-b0f18026eae3",
   "metadata": {
    "editable": true,
    "slideshow": {
     "slide_type": ""
    },
    "tags": [
     "hide-output"
    ]
   },
   "outputs": [
    {
     "name": "stdout",
     "output_type": "stream",
     "text": [
      "A range is not a list: range(0, 3)\n",
      "0\n",
      "1\n",
      "2\n"
     ]
    }
   ],
   "source": [
    "print('A range is not a list: range(0, 3)')\n",
    "for number in range(0, 3):\n",
    "    print(number)"
   ]
  },
  {
   "cell_type": "markdown",
   "id": "a3fe5c0e-43f9-4bdf-8748-7fd2fcce6654",
   "metadata": {
    "editable": true,
    "slideshow": {
     "slide_type": ""
    },
    "tags": []
   },
   "source": [
    "Or use `range` to repeat an action a set number of times.\n",
    "\n",
    "You do not actually have to use the iterable variable's value. Use this structure to simply repeat an action some number of times.\n",
    "\n",
    "That number of times goes into the `range` function."
   ]
  },
  {
   "cell_type": "code",
   "execution_count": 9,
   "id": "73f4f20c-4e2d-427a-bb33-9f54b3256ca1",
   "metadata": {
    "tags": [
     "hide-output"
    ]
   },
   "outputs": [
    {
     "name": "stdout",
     "output_type": "stream",
     "text": [
      "Again!\n",
      "Again!\n",
      "Again!\n",
      "Again!\n",
      "Again!\n"
     ]
    }
   ],
   "source": [
    "for number in range(5):\n",
    "    print(\"Again!\")"
   ]
  },
  {
   "cell_type": "markdown",
   "id": "11731ae3-f64d-4d73-9dbf-ed059bcde5ed",
   "metadata": {},
   "source": [
    "---"
   ]
  },
  {
   "cell_type": "markdown",
   "id": "87a48a40-d54c-4543-8d13-671c6d0d1cb9",
   "metadata": {
    "editable": true,
    "slideshow": {
     "slide_type": ""
    },
    "tags": []
   },
   "source": [
    "## Using accumulator variables\n",
    "\n",
    "A common pattern in programs is to:\n",
    "\n",
    "1.  Initialize an *accumulator* variable to zero, the empty string, or the empty list.\n",
    "2.  Update the variable with values from a collection."
   ]
  },
  {
   "cell_type": "code",
   "execution_count": 10,
   "id": "1069942e-0724-4d23-92d8-6837f6b88218",
   "metadata": {
    "tags": [
     "hide-output"
    ]
   },
   "outputs": [
    {
     "name": "stdout",
     "output_type": "stream",
     "text": [
      "55\n"
     ]
    }
   ],
   "source": [
    "# Sum all of the integers from 1 to 10.\n",
    "total = 0\n",
    "for number in range(10):\n",
    "   total = total + (number + 1)\n",
    "print(total)"
   ]
  },
  {
   "cell_type": "markdown",
   "id": "0f529ff2-7de3-4391-a236-530c20db6546",
   "metadata": {},
   "source": [
    "```{note}\n",
    "\n",
    "Notice, that we use `number + 1`.\n",
    "\n",
    "This is because `range(10)` will go through the numbers from 0 up to **but not including** 10. I.e., from 0 to 9."
   ]
  },
  {
   "cell_type": "markdown",
   "id": "d8ffd5ed-4a70-4807-8f9b-cee0f6eb6cbd",
   "metadata": {
    "editable": true,
    "slideshow": {
     "slide_type": ""
    },
    "tags": []
   },
   "source": [
    "Read `total = total + (number + 1)` as:\n",
    "* Add 1 to the current value of the loop variable `number`.\n",
    "    * We have to add `number + 1` because `range` produces the numbers 0...9, not 1...10.\n",
    "* Add that to the current value of the accumulator variable `total`.\n",
    "* Assign that to `total`, replacing the current value."
   ]
  },
  {
   "cell_type": "markdown",
   "id": "9476c8f9-e534-4131-aa90-228f232a8b05",
   "metadata": {},
   "source": [
    "---"
   ]
  },
  {
   "cell_type": "markdown",
   "id": "8d717405-8ce3-4d5f-9eeb-4d606ff3bb4e",
   "metadata": {},
   "source": [
    "## Exercises"
   ]
  },
  {
   "cell_type": "markdown",
   "id": "1bdb6a93-6d2a-4af6-ae57-698c162fc5ac",
   "metadata": {
    "editable": true,
    "slideshow": {
     "slide_type": ""
    },
    "tags": []
   },
   "source": [
    "### <i class=\"fa-solid fa-pencil\"></i> Exercise 1: Classifying errors\n",
    "\n",
    "Is an indentation error a syntax error or a runtime error?\n",
    "\n",
    "```{admonition} Solution\n",
    ":class: dropdown\n",
    "\n",
    "It is a syntax error. The problem has to do with the placement of the code, not its logic.\n",
    "```"
   ]
  },
  {
   "cell_type": "markdown",
   "id": "d2054b4f-eeb6-437f-b865-181ed8e112c3",
   "metadata": {
    "editable": true,
    "slideshow": {
     "slide_type": ""
    },
    "tags": []
   },
   "source": [
    "---"
   ]
  },
  {
   "cell_type": "markdown",
   "id": "f5137c6a-dbda-4a55-9ae9-356e0c41ba4a",
   "metadata": {
    "editable": true,
    "slideshow": {
     "slide_type": ""
    },
    "tags": []
   },
   "source": [
    "### <i class=\"fa-solid fa-pencil\"></i> Exercise 2: Tracing execution\n",
    "\n",
    "Create a table showing the numbers of the lines that are executed when this program runs, and the values of the variables after each line is executed."
   ]
  },
  {
   "cell_type": "code",
   "execution_count": 11,
   "id": "ca5b72f2-becc-43c0-b6b3-9fc3cebb900c",
   "metadata": {
    "tags": [
     "hide-output"
    ]
   },
   "outputs": [],
   "source": [
    "total = 0\n",
    "for animal in ['cat', 'dog', 'elephant', 'fish']:\n",
    "    total = total + 1"
   ]
  },
  {
   "cell_type": "markdown",
   "id": "c9fb06d6-648a-430a-9108-0787906fb14d",
   "metadata": {
    "editable": true,
    "slideshow": {
     "slide_type": ""
    },
    "tags": []
   },
   "source": [
    "````{admonition} Solution\n",
    ":class: dropdown\n",
    "\n",
    "```{list-table}\n",
    ":header-rows: 1\n",
    "\n",
    "* - Code line #\n",
    "  - `total`\n",
    "  - `animal`\n",
    "* - 1\n",
    "  - 0\n",
    "  - N/A\n",
    "* - 2\n",
    "  - 0\n",
    "  - 'cat'\n",
    "* - 3\n",
    "  - 1\n",
    "  - 'cat'\n",
    "* - 2\n",
    "  - 1\n",
    "  - 'dog'\n",
    "* - 3\n",
    "  - 2\n",
    "  - 'dog'\n",
    "* - 2\n",
    "  - 2\n",
    "  - 'elephant'\n",
    "* - 3\n",
    "  - 3\n",
    "  - 'elephant'\n",
    "* - 2\n",
    "  - 3\n",
    "  - 'fish'\n",
    "* - 3\n",
    "  - 4\n",
    "  - 'fish'\n",
    "```\n",
    "\n",
    "**Explanation:**\n",
    "\n",
    "* Line 1 initializes the variable `total` with a value of 0.\n",
    "* Line 2 begins a for loop that iterates over the list `['cat', 'dog', 'elephant', 'fish']`.\n",
    "    * Line 2 is the first iteration, where `animal` takes the value 'cat', and `total` retains 0.\n",
    "    * Line 3 increments `total` by 1, making it 1, and `animal` retains the value 'cat'.\n",
    "    * Line 2 is the second iteration, where `animal` takes the value 'dog', and `total` retains 1.\n",
    "    * Line 3 increments `total` by 1, making it 2, and `animal` retains the value 'dog'.\n",
    "    * Line 2 is the third iteration, where `animal` takes the value 'elephant', and `total` retains 2.\n",
    "    * Line 3 increments `total` by 1, making it 3, and `animal` retains the value 'elephant'.\n",
    "    * Line 2 is the fourth iteration, where `animal` takes the value 'fish', and `total` retains 3.\n",
    "    * Line 3 increments `total` by 1, making it 4, and `animal` retains the value 'fish'.\n",
    "\n",
    "After the program finishes, `total` is 4, and `animal` retains its value from the last iteration, which is 'fish'.\n",
    "\n",
    "````"
   ]
  },
  {
   "cell_type": "markdown",
   "id": "f6790400-f9ac-4c3b-a372-5cbb46d873fc",
   "metadata": {},
   "source": [
    "---"
   ]
  },
  {
   "cell_type": "markdown",
   "id": "6365856c-0112-402d-a055-1889ee798d62",
   "metadata": {
    "editable": true,
    "slideshow": {
     "slide_type": ""
    },
    "tags": []
   },
   "source": [
    "### <i class=\"fa-solid fa-pencil\"></i> Exercise 3: Reversing a string\n",
    "\n",
    "Fill in the blanks in the program below so that it prints \"gip\" (the reverse of the original character string \"pig\").\n",
    "\n",
    "```text\n",
    "original = \"pig\"\n",
    "result = ____\n",
    "for char in original:\n",
    "    result = ____\n",
    "print(result)\n",
    "```\n",
    "\n",
    "````{admonition} Solution\n",
    ":class: dropdown\n",
    "\n",
    "**Explanation:**\n",
    "\n",
    "* `result` is an empty string because we use it to build or accumulate on our reverse string.\n",
    "* `char` is the loop variable for `original`.\n",
    "* For each iteration of the loop, `char` takes on one value (character) from `original`.\n",
    "* Add `char` to the beginning of `result` to change the order of the string.\n",
    "* Our loop code should look like this:\n",
    "\n",
    "```python\n",
    "original = \"pig\"\n",
    "result = \"\"\n",
    "for char in original:\n",
    "    result = char + result\n",
    "print(result)\n",
    "```\n",
    "```text\n",
    "gip\n",
    "```\n",
    "\n",
    "If you were to explain the loop step by step, the iterations would look something like this:\n",
    "\n",
    "```text\n",
    "#First loop\n",
    "char = \"p\"\n",
    "result = \"\"\n",
    "char + result = \"p\"\n",
    "\n",
    "#Second loop\n",
    "char = \"i\"\n",
    "result = \"p\"\n",
    "char + result = \"ip\"\n",
    "\n",
    "#Third loop\n",
    "char = \"g\"\n",
    "result = \"ip\"\n",
    "char + result = \"gip\"\n",
    "```"
   ]
  },
  {
   "cell_type": "markdown",
   "id": "3644d09b-1745-4d2c-97fe-60875f1233a6",
   "metadata": {
    "editable": true,
    "slideshow": {
     "slide_type": ""
    },
    "tags": []
   },
   "source": [
    "---"
   ]
  },
  {
   "cell_type": "markdown",
   "id": "be91f94d-9772-4cad-8c92-3fd0a05c0b96",
   "metadata": {
    "editable": true,
    "slideshow": {
     "slide_type": ""
    },
    "tags": []
   },
   "source": [
    "### <i class=\"fa-solid fa-pencil\"></i> Exercise 4: Fill in the blanks\n",
    "\n",
    "Fill in the blanks in each of the programs below to produce the indicated result."
   ]
  },
  {
   "cell_type": "markdown",
   "id": "a1fb75d1-1e3e-463b-ad6d-c5f96ad04021",
   "metadata": {
    "editable": true,
    "slideshow": {
     "slide_type": ""
    },
    "tags": []
   },
   "source": [
    "```text\n",
    "# Total length of the strings in the list: [\"red\", \"green\", \"blue\"] => 12\n",
    "total = 0\n",
    "for word in [\"red\", \"green\", \"blue\"]:\n",
    "    ____ = ____ + len(word)\n",
    "print(total)\n",
    "```\n",
    "\n",
    "````{admonition} Solution\n",
    ":class: dropdown\n",
    "\n",
    "```python\n",
    "# Total length of the strings in the list: [\"red\", \"green\", \"blue\"] => 12\n",
    "total = 0\n",
    "for word in [\"red\", \"green\", \"blue\"]:\n",
    "    total = total + len(word)\n",
    "print(total)\n",
    "```\n",
    "```text\n",
    "12\n",
    "```"
   ]
  },
  {
   "cell_type": "markdown",
   "id": "4c35d5cf-682e-4d39-8f1d-b27b13ec8ce3",
   "metadata": {
    "editable": true,
    "slideshow": {
     "slide_type": ""
    },
    "tags": []
   },
   "source": [
    "```text\n",
    "# List of word lengths: [\"red\", \"green\", \"blue\"] => [3, 5, 4]\n",
    "lengths = ____\n",
    "for word in [\"red\", \"green\", \"blue\"]:\n",
    "    lengths.____(____)\n",
    "print(lengths)\n",
    "```\n",
    "\n",
    "````{admonition} Solution\n",
    ":class: dropdown\n",
    "\n",
    "```python\n",
    "# List of word lengths: [\"red\", \"green\", \"blue\"] => [3, 5, 4]\n",
    "lengths = []\n",
    "for word in [\"red\", \"green\", \"blue\"]:\n",
    "    lengths.append(len(word))\n",
    "print(lengths)\n",
    "```\n",
    "```text\n",
    "[3, 5, 4]\n",
    "```"
   ]
  },
  {
   "cell_type": "markdown",
   "id": "a69773ff-c7ff-40ee-9d0f-7bca946f70ee",
   "metadata": {
    "editable": true,
    "slideshow": {
     "slide_type": ""
    },
    "tags": []
   },
   "source": [
    "```text\n",
    "# Concatenate all words: [\"red\", \"green\", \"blue\"] => \"redgreenblue\"\n",
    "words = [\"red\", \"green\", \"blue\"]\n",
    "result = ____\n",
    "for ____ in ____:\n",
    "    ____\n",
    "print(result)\n",
    "```\n",
    "\n",
    "````{admonition} Solution\n",
    ":class: dropdown\n",
    "\n",
    "```python\n",
    "# Concatenate all words: [\"red\", \"green\", \"blue\"] => \"redgreenblue\"\n",
    "words = [\"red\", \"green\", \"blue\"]\n",
    "result = \"\"\n",
    "for word in words:\n",
    "    result = result + word\n",
    "print(result)\n",
    "```\n",
    "```text\n",
    "redgreenblue\n",
    "```"
   ]
  },
  {
   "cell_type": "markdown",
   "id": "660262f1-a6d2-438d-8342-4df6360e60fd",
   "metadata": {
    "editable": true,
    "slideshow": {
     "slide_type": ""
    },
    "tags": []
   },
   "source": [
    "```text\n",
    "# Create acronym: [\"red\", \"green\", \"blue\"] => \"rgb\"\n",
    "# write the whole thing\n",
    "```\n",
    "\n",
    "````{admonition} Solution\n",
    ":class: dropdown\n",
    "\n",
    "```python\n",
    "acronym = ''\n",
    "colours = [\"red\", \"green\", \"blue\"]\n",
    "for colour in colours:\n",
    "    acronym = acronym + colour[0]\n",
    "print(acronym)\n",
    "```\n",
    "```text\n",
    "rgb\n",
    "```"
   ]
  },
  {
   "cell_type": "markdown",
   "id": "29cfa25c-a3a4-4bf8-bae9-aaf4400cea53",
   "metadata": {
    "editable": true,
    "slideshow": {
     "slide_type": ""
    },
    "tags": []
   },
   "source": [
    "---"
   ]
  },
  {
   "cell_type": "markdown",
   "id": "5d9c24d8-4761-405c-bd4d-aa8e397d8820",
   "metadata": {
    "editable": true,
    "slideshow": {
     "slide_type": ""
    },
    "tags": []
   },
   "source": [
    "### <i class=\"fa-solid fa-pencil\"></i> Exercise 5: Cumulative sum\n",
    "\n",
    "Reorder and properly indent the lines of code below so that they print an array with the cumulative sum of data.\n",
    "The cumulative sum is calculated by adding each number to the sum of all previous numbers.\n",
    "\n",
    "\n",
    "The result should be `[1, 3, 5, 10]`.\n",
    "\n",
    "```text\n",
    "cumulative += [sum]\n",
    "for number in data:\n",
    "cumulative = []\n",
    "sum += number\n",
    "print(cumulative)\n",
    "sum = 0\n",
    "data = [1,2,2,5]\n",
    "```\n",
    "\n",
    "````{admonition} Solution\n",
    ":class: dropdown\n",
    "\n",
    "```python\n",
    "data = [1,2,2,5]\n",
    "cumulative = []\n",
    "sum = 0\n",
    "for number in data:\n",
    "  sum += number\n",
    "  cumulative += [sum]\n",
    "print(cumulative)\n",
    "```\n",
    "```text\n",
    "[1, 3, 5, 10]\n",
    "```\n",
    "````"
   ]
  },
  {
   "cell_type": "markdown",
   "id": "aa505559-2843-4a16-ba1f-5da872c047dd",
   "metadata": {
    "editable": true,
    "slideshow": {
     "slide_type": ""
    },
    "tags": []
   },
   "source": [
    "---"
   ]
  },
  {
   "cell_type": "markdown",
   "id": "428caaab-bb85-4eb0-b14c-f614d76e81d6",
   "metadata": {
    "editable": true,
    "slideshow": {
     "slide_type": ""
    },
    "tags": []
   },
   "source": [
    "### <i class=\"fa-solid fa-pencil\"></i> Exercise 6: Identifying variable name errors\n",
    "\n",
    "1. Read the code below and try to identify what the errors are *without* running it.\n",
    "2. Run the code and read the error message. What type of `NameError` do you think this is? Is it a string with no quotes, a misspelled variable, or a variable that should have been defined but was not?\n",
    "3. Fix the error.\n",
    "4. Repeat steps 2 and 3, until you have fixed all the errors."
   ]
  },
  {
   "cell_type": "code",
   "execution_count": 13,
   "id": "e75d997d-0a0e-464b-897a-a100bb2db117",
   "metadata": {
    "editable": true,
    "scrolled": true,
    "slideshow": {
     "slide_type": ""
    },
    "tags": [
     "hide-output"
    ]
   },
   "outputs": [
    {
     "ename": "NameError",
     "evalue": "name 'Number' is not defined",
     "output_type": "error",
     "traceback": [
      "\u001b[0;31m---------------------------------------------------------------------------\u001b[0m",
      "\u001b[0;31mNameError\u001b[0m                                 Traceback (most recent call last)",
      "Cell \u001b[0;32mIn[13], line 3\u001b[0m\n\u001b[1;32m      1\u001b[0m \u001b[38;5;28;01mfor\u001b[39;00m number \u001b[38;5;129;01min\u001b[39;00m \u001b[38;5;28mrange\u001b[39m(\u001b[38;5;241m10\u001b[39m):\n\u001b[1;32m      2\u001b[0m     \u001b[38;5;66;03m# use a if the number is a multiple of 3, otherwise use b\u001b[39;00m\n\u001b[0;32m----> 3\u001b[0m     \u001b[38;5;28;01mif\u001b[39;00m (\u001b[43mNumber\u001b[49m \u001b[38;5;241m%\u001b[39m \u001b[38;5;241m3\u001b[39m) \u001b[38;5;241m==\u001b[39m \u001b[38;5;241m0\u001b[39m:\n\u001b[1;32m      4\u001b[0m         message \u001b[38;5;241m=\u001b[39m message \u001b[38;5;241m+\u001b[39m a\n\u001b[1;32m      5\u001b[0m     \u001b[38;5;28;01melse\u001b[39;00m:\n",
      "\u001b[0;31mNameError\u001b[0m: name 'Number' is not defined"
     ]
    }
   ],
   "source": [
    "for number in range(10):\n",
    "    # use a if the number is a multiple of 3, otherwise use b\n",
    "    if (Number % 3) == 0:\n",
    "        message = message + a\n",
    "    else:\n",
    "        message = message + \"b\"\n",
    "print(message)"
   ]
  },
  {
   "cell_type": "markdown",
   "id": "431bd759-58e7-41d3-aefc-8f22aaa41639",
   "metadata": {
    "editable": true,
    "slideshow": {
     "slide_type": ""
    },
    "tags": []
   },
   "source": [
    "````{admonition} Solution\n",
    ":class: dropdown\n",
    "\n",
    "The `NameError` consists in a variable that should have been defined but was not.\n",
    "\n",
    "Notice the bottom of the error message:\n",
    "\n",
    "```text\n",
    "NameError: name 'Number' is not defined\n",
    "```\n",
    "````"
   ]
  },
  {
   "cell_type": "markdown",
   "id": "fe7f3572-9d8e-4331-b155-2989f46d07c8",
   "metadata": {
    "editable": true,
    "slideshow": {
     "slide_type": ""
    },
    "tags": []
   },
   "source": [
    "---"
   ]
  },
  {
   "cell_type": "markdown",
   "id": "a04e01c2-ab39-465b-9fc0-1b57d9e413bf",
   "metadata": {
    "editable": true,
    "slideshow": {
     "slide_type": ""
    },
    "tags": []
   },
   "source": [
    "### <i class=\"fa-solid fa-pencil\"></i> Exercise 7: Identifying item errors\n",
    "\n",
    "1. Read the code below and try to identify what the errors are *without* running it.\n",
    "2. Run the code, and read the error message. What type of error is it?\n",
    "3. Fix the error."
   ]
  },
  {
   "cell_type": "code",
   "execution_count": 14,
   "id": "88b6c0d0-7654-4b45-a5b5-2f4f8a01a697",
   "metadata": {
    "editable": true,
    "slideshow": {
     "slide_type": ""
    },
    "tags": [
     "hide-output"
    ]
   },
   "outputs": [
    {
     "ename": "IndexError",
     "evalue": "list index out of range",
     "output_type": "error",
     "traceback": [
      "\u001b[0;31m---------------------------------------------------------------------------\u001b[0m",
      "\u001b[0;31mIndexError\u001b[0m                                Traceback (most recent call last)",
      "Cell \u001b[0;32mIn[14], line 2\u001b[0m\n\u001b[1;32m      1\u001b[0m seasons \u001b[38;5;241m=\u001b[39m [\u001b[38;5;124m'\u001b[39m\u001b[38;5;124mSpring\u001b[39m\u001b[38;5;124m'\u001b[39m, \u001b[38;5;124m'\u001b[39m\u001b[38;5;124mSummer\u001b[39m\u001b[38;5;124m'\u001b[39m, \u001b[38;5;124m'\u001b[39m\u001b[38;5;124mFall\u001b[39m\u001b[38;5;124m'\u001b[39m, \u001b[38;5;124m'\u001b[39m\u001b[38;5;124mWinter\u001b[39m\u001b[38;5;124m'\u001b[39m]\n\u001b[0;32m----> 2\u001b[0m \u001b[38;5;28mprint\u001b[39m(\u001b[38;5;124m'\u001b[39m\u001b[38;5;124mMy favorite season is \u001b[39m\u001b[38;5;124m'\u001b[39m, \u001b[43mseasons\u001b[49m\u001b[43m[\u001b[49m\u001b[38;5;241;43m4\u001b[39;49m\u001b[43m]\u001b[49m)\n",
      "\u001b[0;31mIndexError\u001b[0m: list index out of range"
     ]
    }
   ],
   "source": [
    "seasons = ['Spring', 'Summer', 'Fall', 'Winter']\n",
    "print('My favorite season is ', seasons[4])"
   ]
  },
  {
   "cell_type": "markdown",
   "id": "374d0e88-a43a-469b-87b9-6a95dca7c110",
   "metadata": {
    "editable": true,
    "slideshow": {
     "slide_type": ""
    },
    "tags": []
   },
   "source": [
    "````{admonition} Solution\n",
    ":class: dropdown\n",
    "\n",
    "It is an `IndexError`:\n",
    "\n",
    "```text\n",
    "IndexError: list index out of range\n",
    "```\n",
    "\n",
    "The problem is that `4` points to an item that does not exist in the list. Remember the first item of a list in Python is `0`.  \n",
    "Replace `seasons[4]` with `seasons[0]`, `seasons[1]`, `seasons[2]`, or `seasons[3]` to have the different items of the list printed."
   ]
  },
  {
   "cell_type": "markdown",
   "id": "d8378c2a-f323-4053-8cda-a0e72511cb82",
   "metadata": {
    "editable": true,
    "slideshow": {
     "slide_type": ""
    },
    "tags": []
   },
   "source": [
    "---"
   ]
  },
  {
   "cell_type": "markdown",
   "id": "10170492-39fa-46f2-9818-3e3d28dcc61e",
   "metadata": {
    "editable": true,
    "slideshow": {
     "slide_type": ""
    },
    "tags": []
   },
   "source": [
    "## Key points\n",
    "\n",
    "* A *for loop* (`for`) executes commands once for each value in a collection.\n",
    "* The first line of the for loop must end with a colon, and the body must be indented.\n",
    "* Indentation is always meaningful in Python.\n",
    "* A for loop is made up of a collection, a loop variable, and a body.\n",
    "* Loop variables can be called anything (but it is strongly advised to have a meaningful name to the looping variable).\n",
    "* The body of a loop can contain many statements.\n",
    "* Use `range` to iterate over a sequence of numbers."
   ]
  },
  {
   "cell_type": "code",
   "execution_count": null,
   "id": "1dba3698-fdaf-402b-b698-7d9803fa3f75",
   "metadata": {
    "editable": true,
    "slideshow": {
     "slide_type": ""
    },
    "tags": [
     "hide-output"
    ]
   },
   "outputs": [],
   "source": []
  }
 ],
 "metadata": {
  "kernelspec": {
   "display_name": "Python 3 (ipykernel)",
   "language": "python",
   "name": "python3"
  },
  "language_info": {
   "codemirror_mode": {
    "name": "ipython",
    "version": 3
   },
   "file_extension": ".py",
   "mimetype": "text/x-python",
   "name": "python",
   "nbconvert_exporter": "python",
   "pygments_lexer": "ipython3",
   "version": "3.13.5"
  }
 },
 "nbformat": 4,
 "nbformat_minor": 5
}
