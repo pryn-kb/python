{
 "cells": [
  {
   "cell_type": "markdown",
   "id": "2cb49c99-15d7-44a8-a75a-1a5dd2995b37",
   "metadata": {
    "editable": true,
    "slideshow": {
     "slide_type": ""
    },
    "tags": []
   },
   "source": [
    "# Data Types and Type Conversion"
   ]
  },
  {
   "cell_type": "markdown",
   "id": "d58c4be4-69eb-47fe-a1a1-e2f0c86cec85",
   "metadata": {},
   "source": [
    "```{admonition} Learning Objectives\n",
    "\n",
    "Questions\n",
    "* What kinds of data do variables store?\n",
    "* How can I convert one type to another?\n",
    "\n",
    "Objectives\n",
    "* Explain key differences between integers and floating point numbers.\n",
    "* Explain key differences between numbers and character strings.\n",
    "* Use built-in functions to convert between integers, floating point numbers, and strings."
   ]
  },
  {
   "cell_type": "markdown",
   "id": "bd14f53b-d427-4813-8188-c314c8213e8c",
   "metadata": {},
   "source": [
    "## Recap from lesson about Data Types"
   ]
  },
  {
   "cell_type": "markdown",
   "id": "2d1b1456-af0a-4dfc-b3aa-09c81921bcd7",
   "metadata": {},
   "source": [
    "### Every value has a type\n",
    "\n",
    "*   Every value in a program has a specific type.\n",
    "*   Integer (`int`): whole numbers like 3 or -512.\n",
    "*   Floating point number (`float`): fractional numbers like 3.14159 or -2.5.\n",
    "*   Whole numbers may also be stored as floats, e.g. `1.0`, but `1.0` would still be stored as a `float`.\n",
    "*   Character string (usually called \"string\", `str`): text (but not necessarily only letters).\n",
    "    *   Written in either single quotes or double quotes (as long as they match).\n",
    "    *   The quotation marks aren't printed using `print()`, but may appear when viewing a value in the Jupyter Notebook or other Python interpreter."
   ]
  },
  {
   "cell_type": "markdown",
   "id": "403c2ff3-abc0-41c4-8a6a-e52bb23d5925",
   "metadata": {},
   "source": [
    "### Use the built-in function `type` to find the type of a value\n",
    "\n",
    "We can use the built-in function `type` to find out what type a value has.\n",
    "*   This works on variables as well.\n",
    "    *   But remember: the *value* has the type --- the *variable* is just a label.\n",
    "    *   When you change the value of a variable to a new data type, the results of `print(type(your_variable))` will change accordingly."
   ]
  },
  {
   "cell_type": "code",
   "execution_count": null,
   "id": "5c112990-33c1-4613-8a38-e68f0a055f13",
   "metadata": {},
   "outputs": [],
   "source": [
    "print(type(52))"
   ]
  },
  {
   "cell_type": "code",
   "execution_count": null,
   "id": "1482d533-0c1e-4303-a0c7-aed84930737e",
   "metadata": {},
   "outputs": [],
   "source": [
    "title = 'Biochemistry'\n",
    "print(type(title))"
   ]
  },
  {
   "cell_type": "markdown",
   "id": "147e051d-348d-45c6-9207-714930252f04",
   "metadata": {},
   "source": [
    "## Types control what operations (or methods) can be performed on a given value"
   ]
  },
  {
   "cell_type": "markdown",
   "id": "07e41d75-9021-4b41-968f-b6ac79bacb62",
   "metadata": {},
   "source": [
    "A value's type determines what the program can do to it."
   ]
  },
  {
   "cell_type": "code",
   "execution_count": null,
   "id": "79aa28d5-00b6-49bf-b049-2a90983ddcb5",
   "metadata": {},
   "outputs": [],
   "source": [
    "print(5 - 3)"
   ]
  },
  {
   "cell_type": "code",
   "execution_count": null,
   "id": "c2678d2b-dd71-499c-b31f-0a9772af8ee9",
   "metadata": {},
   "outputs": [],
   "source": [
    "print('hello' - 'h')"
   ]
  },
  {
   "cell_type": "markdown",
   "id": "6b95ffa7-2447-42cb-9262-58fbfb496d7a",
   "metadata": {},
   "source": [
    "## You can use the `+` and `*` operators on strings"
   ]
  },
  {
   "cell_type": "markdown",
   "id": "017378d8-dfd2-48c8-9713-21165ddc0eb2",
   "metadata": {},
   "source": [
    "\"Adding\" character strings concatenates them."
   ]
  },
  {
   "cell_type": "code",
   "execution_count": null,
   "id": "3460662a-260a-49d5-a925-c4d3039a172e",
   "metadata": {},
   "outputs": [],
   "source": [
    "full_name = 'Ahmed' + ' ' + 'Walsh'\n",
    "print(full_name)"
   ]
  },
  {
   "cell_type": "markdown",
   "id": "dab758b5-5a6e-46dd-843d-1f05607cad80",
   "metadata": {},
   "source": [
    "Multiplying a character string by an integer _N_ creates a new string that consists of that character string repeated  _N_ times (since multiplication is repeated addition).\n",
    "\n",
    "There are more ways that traditional math operators will work on other data types. There isn't a perfect formula for figuring out what they do, so experimentation is valuable."
   ]
  },
  {
   "cell_type": "code",
   "execution_count": null,
   "id": "81fdb29c-a46a-418a-8788-2ff17ae883bd",
   "metadata": {},
   "outputs": [],
   "source": [
    "separator = '=' * 10\n",
    "print(separator)"
   ]
  },
  {
   "cell_type": "markdown",
   "id": "8bf2c52f-60d6-4756-8db9-3b8efebf9d9b",
   "metadata": {},
   "source": [
    "Here, the variable \"separator\" is set to the value \"=\" (equals sign) ten times in a row."
   ]
  },
  {
   "cell_type": "markdown",
   "id": "279675b0-2b95-414f-8a38-39474da7fd91",
   "metadata": {},
   "source": [
    "## Strings have a length (but numbers don't)"
   ]
  },
  {
   "cell_type": "markdown",
   "id": "a57da586-53ca-4abe-8387-63479b945e6d",
   "metadata": {},
   "source": [
    "The built-in function `len` counts the number of characters in a string."
   ]
  },
  {
   "cell_type": "code",
   "execution_count": null,
   "id": "cf8335bf-5656-4c70-9ea4-20414b145641",
   "metadata": {},
   "outputs": [],
   "source": [
    "print(len(full_name))"
   ]
  },
  {
   "cell_type": "markdown",
   "id": "02e42e04-127c-4afe-aa21-6e418d5c44f1",
   "metadata": {},
   "source": [
    "But numbers don’t have a length (not even zero)."
   ]
  },
  {
   "cell_type": "code",
   "execution_count": null,
   "id": "46025775-1cfd-4939-b7c2-6c12e733c2a6",
   "metadata": {},
   "outputs": [],
   "source": [
    "print(len(52))"
   ]
  },
  {
   "cell_type": "markdown",
   "id": "33536a5e-0484-4080-a5e9-af8553eaaafe",
   "metadata": {},
   "source": [
    "## Preventing Errors: Handling numbers and strings in Python Operations"
   ]
  },
  {
   "cell_type": "markdown",
   "id": "1de90e22-6d73-4078-b5e7-a7afcc4f6c9a",
   "metadata": {},
   "source": [
    "You cannot add numbers and strings."
   ]
  },
  {
   "cell_type": "code",
   "execution_count": null,
   "id": "0cd5d288-9784-4eff-819c-ad8a8b0908fd",
   "metadata": {},
   "outputs": [],
   "source": [
    "print(1 + 'A')"
   ]
  },
  {
   "cell_type": "markdown",
   "id": "571d17c1-e22c-4d91-8c89-a2665ecedeaa",
   "metadata": {},
   "source": [
    "This is not allowed because it's ambiguous: should `1 + '2'` be `3` or `'12'`?\n",
    "\n",
    "Some types can be converted to other types by using the type name as a function."
   ]
  },
  {
   "cell_type": "code",
   "execution_count": null,
   "id": "3cf16808-36a5-42e9-8b4a-e3facd5de388",
   "metadata": {},
   "outputs": [],
   "source": [
    "print(1 + int('2'))\n",
    "print(str(1) + '2')"
   ]
  },
  {
   "cell_type": "markdown",
   "id": "14197fb3-f26c-4770-a035-b83d2dac91b7",
   "metadata": {},
   "source": [
    "## Integers and floats can be mixed freely in operations"
   ]
  },
  {
   "cell_type": "markdown",
   "id": "a2a336ef-9fcc-4be6-8f26-929ca7b910e9",
   "metadata": {},
   "source": [
    "Integers and floating-point numbers can be mixed in arithmetic.\n",
    "\n",
    "Python automatically converts integers to floats as needed."
   ]
  },
  {
   "cell_type": "code",
   "execution_count": null,
   "id": "968b3432-ffb3-4f0b-887d-4046e181e32e",
   "metadata": {},
   "outputs": [],
   "source": [
    "print('half is', 1 / 2.0)\n",
    "print('three squared is', 3.0 ** 2)"
   ]
  },
  {
   "cell_type": "markdown",
   "id": "2b765502-38f5-4ade-90bc-b80b9964aeb7",
   "metadata": {},
   "source": [
    "## Variables only change value when something is assigned to them"
   ]
  },
  {
   "cell_type": "markdown",
   "id": "f1bc320a-0ad6-4e86-b9da-00efcea222e9",
   "metadata": {},
   "source": [
    "If we make one cell in a spreadsheet depend on another, and update the latter, the former updates automatically.\n",
    "\n",
    "This does **not** happen in programming languages."
   ]
  },
  {
   "cell_type": "code",
   "execution_count": null,
   "id": "c59e76ea-1b18-4143-a6a6-5ea98dcc42c8",
   "metadata": {},
   "outputs": [],
   "source": [
    "first = 1\n",
    "second = 5 * first\n",
    "first = 2\n",
    "print('first is', first, 'and second is', second)"
   ]
  },
  {
   "cell_type": "markdown",
   "id": "53ecba7a-a871-4827-9624-abca8a4cddbc",
   "metadata": {},
   "source": [
    "Python reads the value of `first` when doing the multiplication, creates a new value, and assigns it to `second`.\n",
    "\n",
    "After that, `second` does not remember where it came from."
   ]
  },
  {
   "cell_type": "markdown",
   "id": "c5298ead-92ed-4ce2-864b-d5b0388c2e36",
   "metadata": {},
   "source": [
    "---"
   ]
  },
  {
   "cell_type": "markdown",
   "id": "90a4cb58-c1cb-4ab2-8eb8-9837fa0613fc",
   "metadata": {},
   "source": [
    "## Exercises"
   ]
  },
  {
   "cell_type": "markdown",
   "id": "be520227-74bb-4e49-98a1-2fe7d9de6df1",
   "metadata": {},
   "source": [
    "`````{admonition} Fractions\n",
    "\n",
    "What type of value is 3.4? How can you find out?\n",
    "\n",
    "````{admonition} Solution\n",
    ":class: tip dropdown\n",
    "\n",
    "It is a floating-point number (often abbreviated “float”).\n",
    "\n",
    "```\n",
    "print(type(3.4))\n",
    "```\n",
    "```\n",
    "<class 'float'>\n",
    "```\n",
    "````\n",
    "`````"
   ]
  },
  {
   "cell_type": "markdown",
   "id": "ace57004-90e8-45ff-95e8-3f5443602056",
   "metadata": {},
   "source": [
    "### Automatic Type Conversion\n",
    "\n",
    "What type of value is 3.25 + 4?\n",
    "\n",
    "````{admonition} Solution\n",
    ":class: dropdown\n",
    "\n",
    "It is a float.\\\n",
    "Integers are automatically converted to floats as necessary.\n",
    "\n",
    "```\n",
    "result = 3.25 + 4\n",
    "print(result, 'is', type(result))\n",
    "```\n",
    "```\n",
    "7.25 is <class 'float'>\n",
    "```\n",
    "````"
   ]
  },
  {
   "cell_type": "markdown",
   "id": "59fd890e-f2f5-46b1-9f4b-16c5d29751b0",
   "metadata": {},
   "source": [
    "### Choose a Type\n",
    "\n",
    "What type of value (integer, floating point number, or character string) would you use to represent each of the following?\n",
    "\n",
    "Try to come up with more than one good answer for each problem.\\\n",
    "For example, in  # 1, when would counting days with a floating point variable make more sense than using an integer?  \n",
    "\n",
    "1. Number of days since the start of the year.\n",
    "2. Time elapsed since the start of the year.\n",
    "3. Standard book loan period.\n",
    "4. Number of reference queries in a year.\n",
    "5. Average library classes taught per semester.\n",
    "\n",
    "````{admonition} Solution\n",
    ":class: dropdown\n",
    "\n",
    "1. Integer  \n",
    "2. Float  \n",
    "3. Integer  \n",
    "4. Integer  \n",
    "5. Float "
   ]
  },
  {
   "cell_type": "markdown",
   "id": "fa56a01e-7a76-4446-93a2-d63473c9760f",
   "metadata": {},
   "source": [
    "### Strings to Numbers\n",
    "\n",
    "Where reasonable, `float()` will convert at string or an integer to a floating point number, and `int()` wil convert a string or a floating point number to an integer.\n",
    "\n",
    "```\n",
    "print(\"string to float:\", float(\"3.4\"))\n",
    "print(\"float to int:\", int(3.4))\n",
    "```\n",
    "```\n",
    "string to float: 3.4\n",
    "float to int: 3\n",
    "```\n",
    "\n",
    "**Note:** conversion is some times also called typecast.\n",
    "\n",
    "If the conversion doesn't make sense, however, an error message will occur:\n",
    "\n",
    "```\n",
    "print(\"string to float:\", float(\"Hello world!\"))\n",
    "```\n",
    "```\n",
    "---------------------------------------------------------------------------\n",
    "ValueError                                Traceback (most recent call last)\n",
    "<ipython-input-5-df3b790bf0a2> in <module>()\n",
    "----> 1 print(\"string to float:\", float(\"Hello world!\"))\n",
    "\n",
    "ValueError: could not convert string to float: 'Hello world!'\n",
    "```\n",
    "\n",
    "1. Given this information, what do you expect the following program to do?\n",
    "2. What does it actually do?\n",
    "3. Why do you think it does that?\n",
    "\n",
    "```\n",
    "print(\"fractional string to int:\", int(\"3.4\"))\n",
    "```\n",
    "\n",
    "````{admonition} Solution\n",
    ":class: dropdown\n",
    "\n",
    "What do you expect this program to do?\\\n",
    "It would not be so unreasonable to expect the Python `int()` command to convert the string \"3.4\" to 3.4 and an additional type conversion to 3.\\\n",
    "After all, Python performs a lot of other magic - isn't that part of its charm?\n",
    "\n",
    "However, Python throws an error. Why? To be consistent, possibly.\n",
    "\n",
    "```\n",
    "---------------------------------------------------------------------------\n",
    "ValueError                                Traceback (most recent call last)\n",
    "Cell In[1], line 1\n",
    "----> 1 print(\"fractional string to int:\", int(\"3.4\"))\n",
    "\n",
    "ValueError: invalid literal for int() with base 10: '3.4'\n",
    "```\n",
    "\n",
    "If you ask Python to perform two consecutive typecasts, you must convert it explicitly in code.\n",
    "\n",
    "```\n",
    "num_as_string = \"3.4\"\n",
    "num_as_float = float(num_as_string)\n",
    "num_as_int = int(num_as_float)\n",
    "print(num_as_int)\n",
    "```\n",
    "```\n",
    "3\n",
    "```\n",
    "\n",
    "We could also write it in a single line like this: `int(float(\"3.4\"))`\n",
    "\n",
    "````"
   ]
  },
  {
   "cell_type": "markdown",
   "id": "cd261e19-bf81-4e56-9f8e-96a02ad9db85",
   "metadata": {},
   "source": [
    "### Arithmetic with Different Types\n",
    "\n",
    "Which of the following will print 2.0?\n",
    "\n",
    "Note: there may be more than one right answer.\n",
    "\n",
    "```\n",
    "first = 1.0\n",
    "second = \"1\"\n",
    "third = \"1.1\"\n",
    "```\n",
    "\n",
    "1. `first + float(second)`\n",
    "2. `float(second) + float(third)`\n",
    "3. `first + int(third)`\n",
    "4. `first + int(float(third))`\n",
    "5. `int(first) + int(float(third))`\n",
    "6. `2.0 * second`\n",
    "\n",
    "````{admonition} Solution\n",
    ":class: dropdown\n",
    "\n",
    "Answer: 1 and 4.\n",
    "\n",
    "1. is correct\n",
    "2. gives 2.1\n",
    "3. gives an error because we cannot convert text to int directly\n",
    "4. is correct\n",
    "5. gives 2 (as an integer not as a float)\n",
    "6. gives an error because `second` is a string.\n",
    "\n",
    "````"
   ]
  },
  {
   "cell_type": "markdown",
   "id": "f6112b59-41a7-40f2-b3c7-595a6deb41de",
   "metadata": {},
   "source": [
    "## Keypoints"
   ]
  },
  {
   "cell_type": "markdown",
   "id": "675a75b6-a00c-4848-a4ef-500b2cd8414a",
   "metadata": {},
   "source": [
    "* \"Every value has a type.\"\n",
    "* \"Use the built-in function `type` to find the type of a value.\"\n",
    "* \"Types control what operations can be done on values.\"\n",
    "* \"Strings can be added and multiplied.\"    \n",
    "* \"Strings have a length (but numbers don't).\"\n",
    "* \"Preventing Errors: Handling numbers and strings in Python operations.\"\n",
    "* \"Integers and floats can be mixed freely in operations.\"\n",
    "* \"Variables only change value when something is assigned to them.\""
   ]
  },
  {
   "cell_type": "code",
   "execution_count": null,
   "id": "ca5f3fe5-7f0d-4d6c-90e0-52d53007fb60",
   "metadata": {},
   "outputs": [],
   "source": []
  }
 ],
 "metadata": {
  "kernelspec": {
   "display_name": "Python 3 (ipykernel)",
   "language": "python",
   "name": "python3"
  },
  "language_info": {
   "codemirror_mode": {
    "name": "ipython",
    "version": 3
   },
   "file_extension": ".py",
   "mimetype": "text/x-python",
   "name": "python",
   "nbconvert_exporter": "python",
   "pygments_lexer": "ipython3",
   "version": "3.11.5"
  }
 },
 "nbformat": 4,
 "nbformat_minor": 5
}
