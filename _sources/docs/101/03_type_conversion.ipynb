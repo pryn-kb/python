{
 "cells": [
  {
   "cell_type": "markdown",
   "id": "2cb49c99-15d7-44a8-a75a-1a5dd2995b37",
   "metadata": {
    "editable": true,
    "slideshow": {
     "slide_type": ""
    },
    "tags": []
   },
   "source": [
    "# Data Types and Type Conversion"
   ]
  },
  {
   "cell_type": "markdown",
   "id": "d58c4be4-69eb-47fe-a1a1-e2f0c86cec85",
   "metadata": {},
   "source": [
    "```{admonition} Learning Objectives\n",
    "\n",
    "Questions\n",
    "* What kinds of data do variables store?\n",
    "* How can I convert one type to another?\n",
    "\n",
    "Objectives\n",
    "* Explain key differences between integers and floating point numbers.\n",
    "* Explain key differences between numbers and character strings.\n",
    "* Use built-in functions to convert between integers, floating point numbers, and strings."
   ]
  },
  {
   "cell_type": "markdown",
   "id": "bbd78969-f784-4466-881a-a2915d39036f",
   "metadata": {},
   "source": [
    "---"
   ]
  },
  {
   "cell_type": "markdown",
   "id": "2d1b1456-af0a-4dfc-b3aa-09c81921bcd7",
   "metadata": {},
   "source": [
    "````{admonition} Recap on Data Types\n",
    ":class: seealso dropdown\n",
    "\n",
    "Every value in a program has a specific type.\n",
    "\n",
    "*   Integer (`int`): whole numbers like 3 or -512.\n",
    "*   Floating point number (`float`): fractional numbers like 3.14159 or -2.5.\n",
    "*   Whole numbers may also be stored as floats, e.g. `1.0`, but `1.0` would still be stored as a `float`.\n",
    "*   Character string (usually called \"string\", `str`): text (but not necessarily only letters).\n",
    "    *   Written in either single quotes or double quotes (as long as they match).\n",
    "    *   The quotation marks aren't printed using `print()`, but may appear when viewing a value in the Jupyter Notebook or other Python interpreter.\n",
    "\n",
    "We can use the built-in function `type()` to find out what type a value has.\n",
    "\n",
    "*   This works on variables as well.\n",
    "    *   But remember: the *value* has the type --- the *variable* is just a label.\n",
    "    *   When you change the value of a variable to a new data type, the results of `print(type(your_variable))` will change accordingly.\n",
    "\n",
    "See more in the [Data Types](01_data_types) lesson."
   ]
  },
  {
   "cell_type": "markdown",
   "id": "9f2280a9-75ed-46ce-82a1-056c0d9b5a81",
   "metadata": {},
   "source": [
    "---"
   ]
  },
  {
   "cell_type": "markdown",
   "id": "147e051d-348d-45c6-9207-714930252f04",
   "metadata": {},
   "source": [
    "## Types control what operations can be performed"
   ]
  },
  {
   "cell_type": "markdown",
   "id": "07e41d75-9021-4b41-968f-b6ac79bacb62",
   "metadata": {},
   "source": [
    "A value's type determines what the program can do to it."
   ]
  },
  {
   "cell_type": "code",
   "execution_count": 1,
   "id": "79aa28d5-00b6-49bf-b049-2a90983ddcb5",
   "metadata": {},
   "outputs": [
    {
     "name": "stdout",
     "output_type": "stream",
     "text": [
      "2\n"
     ]
    }
   ],
   "source": [
    "print(5 - 3)"
   ]
  },
  {
   "cell_type": "code",
   "execution_count": 2,
   "id": "c2678d2b-dd71-499c-b31f-0a9772af8ee9",
   "metadata": {},
   "outputs": [
    {
     "ename": "TypeError",
     "evalue": "unsupported operand type(s) for -: 'str' and 'str'",
     "output_type": "error",
     "traceback": [
      "\u001b[0;31m---------------------------------------------------------------------------\u001b[0m",
      "\u001b[0;31mTypeError\u001b[0m                                 Traceback (most recent call last)",
      "Cell \u001b[0;32mIn[2], line 1\u001b[0m\n\u001b[0;32m----> 1\u001b[0m \u001b[38;5;28mprint\u001b[39m(\u001b[38;5;124;43m'\u001b[39;49m\u001b[38;5;124;43mhello\u001b[39;49m\u001b[38;5;124;43m'\u001b[39;49m\u001b[43m \u001b[49m\u001b[38;5;241;43m-\u001b[39;49m\u001b[43m \u001b[49m\u001b[38;5;124;43m'\u001b[39;49m\u001b[38;5;124;43mh\u001b[39;49m\u001b[38;5;124;43m'\u001b[39;49m)\n",
      "\u001b[0;31mTypeError\u001b[0m: unsupported operand type(s) for -: 'str' and 'str'"
     ]
    }
   ],
   "source": [
    "print('hello' - 'h')"
   ]
  },
  {
   "cell_type": "markdown",
   "id": "6b95ffa7-2447-42cb-9262-58fbfb496d7a",
   "metadata": {},
   "source": [
    "### Using the `+` and `*` operators on strings"
   ]
  },
  {
   "cell_type": "markdown",
   "id": "017378d8-dfd2-48c8-9713-21165ddc0eb2",
   "metadata": {},
   "source": [
    "\"Adding\" character strings concatenates them."
   ]
  },
  {
   "cell_type": "code",
   "execution_count": 3,
   "id": "3460662a-260a-49d5-a925-c4d3039a172e",
   "metadata": {},
   "outputs": [
    {
     "name": "stdout",
     "output_type": "stream",
     "text": [
      "Ahmed Walsh\n"
     ]
    }
   ],
   "source": [
    "full_name = 'Ahmed' + ' ' + 'Walsh'\n",
    "print(full_name)"
   ]
  },
  {
   "cell_type": "markdown",
   "id": "dab758b5-5a6e-46dd-843d-1f05607cad80",
   "metadata": {},
   "source": [
    "Multiplying a character string by an integer _N_ creates a new string that consists of that character string repeated  _N_ times (since multiplication is repeated addition).\n",
    "\n",
    "There are more ways that traditional math operators will work on other data types. There isn't a perfect formula for figuring out what they do, so experimentation is valuable."
   ]
  },
  {
   "cell_type": "code",
   "execution_count": 4,
   "id": "81fdb29c-a46a-418a-8788-2ff17ae883bd",
   "metadata": {},
   "outputs": [
    {
     "name": "stdout",
     "output_type": "stream",
     "text": [
      "==========\n"
     ]
    }
   ],
   "source": [
    "separator = '=' * 10\n",
    "print(separator)"
   ]
  },
  {
   "cell_type": "markdown",
   "id": "8bf2c52f-60d6-4756-8db9-3b8efebf9d9b",
   "metadata": {},
   "source": [
    "Here, the variable \"separator\" is set to the value \"=\" (equals sign) ten times in a row."
   ]
  },
  {
   "cell_type": "markdown",
   "id": "279675b0-2b95-414f-8a38-39474da7fd91",
   "metadata": {},
   "source": [
    "### Strings have a length (but numbers don't)"
   ]
  },
  {
   "cell_type": "markdown",
   "id": "a57da586-53ca-4abe-8387-63479b945e6d",
   "metadata": {},
   "source": [
    "The built-in function `len` counts the number of characters in a string."
   ]
  },
  {
   "cell_type": "code",
   "execution_count": 5,
   "id": "cf8335bf-5656-4c70-9ea4-20414b145641",
   "metadata": {},
   "outputs": [
    {
     "name": "stdout",
     "output_type": "stream",
     "text": [
      "11\n"
     ]
    }
   ],
   "source": [
    "print(len(full_name))"
   ]
  },
  {
   "cell_type": "markdown",
   "id": "02e42e04-127c-4afe-aa21-6e418d5c44f1",
   "metadata": {},
   "source": [
    "But numbers don’t have a length (not even zero)."
   ]
  },
  {
   "cell_type": "code",
   "execution_count": 6,
   "id": "46025775-1cfd-4939-b7c2-6c12e733c2a6",
   "metadata": {},
   "outputs": [
    {
     "ename": "TypeError",
     "evalue": "object of type 'int' has no len()",
     "output_type": "error",
     "traceback": [
      "\u001b[0;31m---------------------------------------------------------------------------\u001b[0m",
      "\u001b[0;31mTypeError\u001b[0m                                 Traceback (most recent call last)",
      "Cell \u001b[0;32mIn[6], line 1\u001b[0m\n\u001b[0;32m----> 1\u001b[0m \u001b[38;5;28mprint\u001b[39m(\u001b[38;5;28;43mlen\u001b[39;49m\u001b[43m(\u001b[49m\u001b[38;5;241;43m52\u001b[39;49m\u001b[43m)\u001b[49m)\n",
      "\u001b[0;31mTypeError\u001b[0m: object of type 'int' has no len()"
     ]
    }
   ],
   "source": [
    "print(len(52))"
   ]
  },
  {
   "cell_type": "markdown",
   "id": "f30ae94a-b18f-4e49-840f-4d761c16e616",
   "metadata": {},
   "source": [
    "---"
   ]
  },
  {
   "cell_type": "markdown",
   "id": "33536a5e-0484-4080-a5e9-af8553eaaafe",
   "metadata": {},
   "source": [
    "## Dealing with different data types"
   ]
  },
  {
   "cell_type": "markdown",
   "id": "1de90e22-6d73-4078-b5e7-a7afcc4f6c9a",
   "metadata": {},
   "source": [
    "You cannot add numbers and strings."
   ]
  },
  {
   "cell_type": "code",
   "execution_count": null,
   "id": "0cd5d288-9784-4eff-819c-ad8a8b0908fd",
   "metadata": {},
   "outputs": [],
   "source": [
    "print(1 + 'A')"
   ]
  },
  {
   "cell_type": "markdown",
   "id": "571d17c1-e22c-4d91-8c89-a2665ecedeaa",
   "metadata": {},
   "source": [
    "This is not allowed because it's ambiguous: should `1 + '2'` be `3` or `'12'`?\n",
    "\n",
    "Some types can be converted to other types by using the type name as a function."
   ]
  },
  {
   "cell_type": "code",
   "execution_count": null,
   "id": "3cf16808-36a5-42e9-8b4a-e3facd5de388",
   "metadata": {},
   "outputs": [],
   "source": [
    "print(1 + int('2'))\n",
    "print(str(1) + '2')"
   ]
  },
  {
   "cell_type": "markdown",
   "id": "14197fb3-f26c-4770-a035-b83d2dac91b7",
   "metadata": {},
   "source": [
    "### Integers and floats can be mixed freely in operations"
   ]
  },
  {
   "cell_type": "markdown",
   "id": "a2a336ef-9fcc-4be6-8f26-929ca7b910e9",
   "metadata": {},
   "source": [
    "Integers and floating-point numbers can be mixed in arithmetic.\n",
    "\n",
    "Python automatically converts integers to floats as needed."
   ]
  },
  {
   "cell_type": "code",
   "execution_count": 7,
   "id": "968b3432-ffb3-4f0b-887d-4046e181e32e",
   "metadata": {},
   "outputs": [
    {
     "name": "stdout",
     "output_type": "stream",
     "text": [
      "half is 0.5\n",
      "three squared is 9.0\n"
     ]
    }
   ],
   "source": [
    "print('half is', 1 / 2.0)\n",
    "print('three squared is', 3.0 ** 2)"
   ]
  },
  {
   "cell_type": "markdown",
   "id": "a8fb1a62-e1ed-4e67-b279-05ec87e1876a",
   "metadata": {},
   "source": [
    "---"
   ]
  },
  {
   "cell_type": "markdown",
   "id": "2b765502-38f5-4ade-90bc-b80b9964aeb7",
   "metadata": {},
   "source": [
    "## Variables only change value when something is assigned to them"
   ]
  },
  {
   "cell_type": "markdown",
   "id": "f1bc320a-0ad6-4e86-b9da-00efcea222e9",
   "metadata": {},
   "source": [
    "If we make one cell in a spreadsheet depend on another, and update the latter, the former updates automatically.\n",
    "\n",
    "This does **not** happen in programming languages."
   ]
  },
  {
   "cell_type": "code",
   "execution_count": 9,
   "id": "c59e76ea-1b18-4143-a6a6-5ea98dcc42c8",
   "metadata": {},
   "outputs": [
    {
     "name": "stdout",
     "output_type": "stream",
     "text": [
      "first is 2 and second is 5\n"
     ]
    }
   ],
   "source": [
    "first = 1\n",
    "second = 5 * first\n",
    "first = 2\n",
    "print('first is', first, 'and second is', second)"
   ]
  },
  {
   "cell_type": "markdown",
   "id": "53ecba7a-a871-4827-9624-abca8a4cddbc",
   "metadata": {},
   "source": [
    "Python reads the value of `first` when doing the multiplication, creates a new value, and assigns it to `second`.\n",
    "\n",
    "After that, `second` does not remember where it came from."
   ]
  },
  {
   "cell_type": "markdown",
   "id": "c5298ead-92ed-4ce2-864b-d5b0388c2e36",
   "metadata": {},
   "source": [
    "---"
   ]
  },
  {
   "cell_type": "markdown",
   "id": "90a4cb58-c1cb-4ab2-8eb8-9837fa0613fc",
   "metadata": {},
   "source": [
    "## Exercises"
   ]
  },
  {
   "cell_type": "markdown",
   "id": "be520227-74bb-4e49-98a1-2fe7d9de6df1",
   "metadata": {},
   "source": [
    "### Exercise 1: Fractions\n",
    "\n",
    "What type of value is 3.4? How can you find out?\n",
    "\n",
    "````{admonition} Solution\n",
    ":class: dropdown\n",
    "\n",
    "It is a floating-point number (often abbreviated “float”).\n",
    "\n",
    "```text\n",
    "print(type(3.4))\n",
    "```\n",
    "```text\n",
    "<class 'float'>\n",
    "```\n",
    "````"
   ]
  },
  {
   "cell_type": "markdown",
   "id": "c5d7ba8f-1060-4f34-b245-b912f925ee9b",
   "metadata": {},
   "source": [
    "---"
   ]
  },
  {
   "cell_type": "markdown",
   "id": "ace57004-90e8-45ff-95e8-3f5443602056",
   "metadata": {},
   "source": [
    "### Exercise 2: Automatic Type Conversion\n",
    "\n",
    "What type of value is 3.25 + 4?\n",
    "\n",
    "````{admonition} Solution\n",
    ":class: dropdown\n",
    "\n",
    "It is a float.\\\n",
    "Integers are automatically converted to floats as necessary.\n",
    "\n",
    "```text\n",
    "result = 3.25 + 4\n",
    "print(result, 'is', type(result))\n",
    "```\n",
    "```text\n",
    "7.25 is <class 'float'>\n",
    "```\n",
    "````"
   ]
  },
  {
   "cell_type": "markdown",
   "id": "8828d23c-af90-4fe3-a7f7-74edd2c5401f",
   "metadata": {},
   "source": [
    "---"
   ]
  },
  {
   "cell_type": "markdown",
   "id": "59fd890e-f2f5-46b1-9f4b-16c5d29751b0",
   "metadata": {},
   "source": [
    "### Exercise 3: Choose a Type\n",
    "\n",
    "What type of value (integer, floating point number, or character string) would you use to represent each of the following?\n",
    "\n",
    "Try to come up with more than one good answer for each problem.\\\n",
    "For example, in  # 1, when would counting days with a floating point variable make more sense than using an integer?  \n",
    "\n",
    "1. Number of days since the start of the year.\n",
    "2. Time elapsed since the start of the year.\n",
    "3. Standard book loan period.\n",
    "4. Number of reference queries in a year.\n",
    "5. Average library classes taught per semester.\n",
    "\n",
    "````{admonition} Solution\n",
    ":class: dropdown\n",
    "\n",
    "1. Integer  \n",
    "2. Float  \n",
    "3. Integer  \n",
    "4. Integer  \n",
    "5. Float "
   ]
  },
  {
   "cell_type": "markdown",
   "id": "efecdc72-c63a-46c2-870b-09850ecee9ca",
   "metadata": {},
   "source": [
    "---"
   ]
  },
  {
   "cell_type": "markdown",
   "id": "fa56a01e-7a76-4446-93a2-d63473c9760f",
   "metadata": {},
   "source": [
    "### Exercise 4: Strings to Numbers\n",
    "\n",
    "Where reasonable, `float()` will convert at string or an integer to a floating point number, and `int()` wil convert a string or a floating point number to an integer.\n",
    "\n",
    "(Note, conversion is some times also called typecast.)"
   ]
  },
  {
   "cell_type": "code",
   "execution_count": 10,
   "id": "9d07a6ea-1994-492c-a1c7-8efbb7b466c7",
   "metadata": {},
   "outputs": [
    {
     "name": "stdout",
     "output_type": "stream",
     "text": [
      "string to float: 3.4\n",
      "float to int: 3\n"
     ]
    }
   ],
   "source": [
    "print(\"string to float:\", float(\"3.4\"))\n",
    "print(\"float to int:\", int(3.4))"
   ]
  },
  {
   "cell_type": "markdown",
   "id": "35c28758-d719-4b00-9357-0b3c6bbb7ee0",
   "metadata": {},
   "source": [
    "If the conversion doesn't make sense, however, an error message will occur:"
   ]
  },
  {
   "cell_type": "code",
   "execution_count": 11,
   "id": "4b707661-d5a3-4096-ba6a-a80a6a75dc20",
   "metadata": {},
   "outputs": [
    {
     "ename": "ValueError",
     "evalue": "could not convert string to float: 'Hello world!'",
     "output_type": "error",
     "traceback": [
      "\u001b[0;31m---------------------------------------------------------------------------\u001b[0m",
      "\u001b[0;31mValueError\u001b[0m                                Traceback (most recent call last)",
      "Cell \u001b[0;32mIn[11], line 1\u001b[0m\n\u001b[0;32m----> 1\u001b[0m \u001b[38;5;28mprint\u001b[39m(\u001b[38;5;124m\"\u001b[39m\u001b[38;5;124mstring to float:\u001b[39m\u001b[38;5;124m\"\u001b[39m, \u001b[38;5;28;43mfloat\u001b[39;49m\u001b[43m(\u001b[49m\u001b[38;5;124;43m\"\u001b[39;49m\u001b[38;5;124;43mHello world!\u001b[39;49m\u001b[38;5;124;43m\"\u001b[39;49m\u001b[43m)\u001b[49m)\n",
      "\u001b[0;31mValueError\u001b[0m: could not convert string to float: 'Hello world!'"
     ]
    }
   ],
   "source": [
    "print(\"string to float:\", float(\"Hello world!\"))"
   ]
  },
  {
   "cell_type": "markdown",
   "id": "4eb70e4b-557f-4399-8944-90875142fd8a",
   "metadata": {},
   "source": [
    "**Given the information above:**\n",
    "\n",
    "1. What do you expect the following program to do?\n",
    "2. What does it actually do?\n",
    "3. Why do you think it does that?\n",
    "\n",
    "```text\n",
    "print(\"fractional string to int:\", int(\"3.4\"))\n",
    "```"
   ]
  },
  {
   "cell_type": "markdown",
   "id": "98615db2-ade5-4905-a51b-004f7116bb83",
   "metadata": {},
   "source": [
    "````{admonition} Solution\n",
    ":class: dropdown\n",
    "\n",
    "It would not be so unreasonable to expect the Python `int()` command to convert the string \"3.4\" to 3.4 and an additional type conversion to 3.\\\n",
    "After all, Python performs a lot of other magic - isn't that part of its charm?\n",
    "\n",
    "However, Python throws an error. Why? To be consistent, possibly.\n",
    "\n",
    "```text\n",
    "---------------------------------------------------------------------------\n",
    "ValueError                                Traceback (most recent call last)\n",
    "Cell In[1], line 1\n",
    "----> 1 print(\"fractional string to int:\", int(\"3.4\"))\n",
    "\n",
    "ValueError: invalid literal for int() with base 10: '3.4'\n",
    "```\n",
    "\n",
    "If you ask Python to perform two consecutive typecasts, you must convert it explicitly in code.\n",
    "\n",
    "```text\n",
    "num_as_string = \"3.4\"\n",
    "num_as_float = float(num_as_string)\n",
    "num_as_int = int(num_as_float)\n",
    "print(num_as_int)\n",
    "```\n",
    "```text\n",
    "3\n",
    "```\n",
    "\n",
    "We could also write it in a single line like this: `int(float(\"3.4\"))`\n",
    "\n",
    "````"
   ]
  },
  {
   "cell_type": "markdown",
   "id": "31d62ea0-9d65-4838-9144-f1169c99c4ca",
   "metadata": {},
   "source": [
    "---"
   ]
  },
  {
   "cell_type": "markdown",
   "id": "cd261e19-bf81-4e56-9f8e-96a02ad9db85",
   "metadata": {},
   "source": [
    "### Exercise 5: Arithmetic with Different Types\n",
    "\n",
    "Given this code:\n",
    "\n",
    "```text\n",
    "first = 1.0\n",
    "second = \"1\"\n",
    "third = \"1.1\"\n",
    "```\n",
    "\n",
    "Which of the following will print 2.0?\n",
    "\n",
    "(There may be more than one right answer.)\n",
    "\n",
    "1. `first + float(second)`\n",
    "2. `float(second) + float(third)`\n",
    "3. `first + int(third)`\n",
    "4. `first + int(float(third))`\n",
    "5. `int(first) + int(float(third))`\n",
    "6. `2.0 * second`\n",
    "\n",
    "````{admonition} Solution\n",
    ":class: dropdown\n",
    "\n",
    "Answer: 1 and 4.\n",
    "\n",
    "1. Is correct.\n",
    "2. Gives 2.1.\n",
    "3. Gives an error because we cannot convert text to int directly.\n",
    "4. Is correct.\n",
    "5. Gives 2 (as an integer not as a float).\n",
    "6. Gives an error because `second` is a string.\n",
    "\n",
    "````"
   ]
  },
  {
   "cell_type": "markdown",
   "id": "2481689e-3c5e-4960-9a81-d8572c04c3a9",
   "metadata": {},
   "source": [
    "---"
   ]
  },
  {
   "cell_type": "markdown",
   "id": "4d21801e-9383-4475-b0ca-c68033e0f7e3",
   "metadata": {},
   "source": [
    "### Exercise 6: Number of Students"
   ]
  },
  {
   "cell_type": "markdown",
   "id": "5156038d-9100-47ad-bd25-d1a5146e8c92",
   "metadata": {},
   "source": [
    "````{admonition} Recap on Division Types\n",
    ":class: tip dropdown\n",
    "\n",
    "There are three different types of division:\n",
    "1. 'Normal' division (aka floating-point division) is what most people may be\n",
    "familiar with:\\\n",
    "5 / 2 = 2.5\n",
    "2. Floor division, which cuts out the part after the period:\\\n",
    "5 // 2 = 2\n",
    "3. Modulo division, which only keeps the remained after division:\\\n",
    "5 % 2 = 1\n",
    "\n",
    "In Python 3,  the `/` operator performs floating-point division, the `//` operator performs floor division, and the `%` operator calculates the modulo division:\n",
    "\n",
    "```text\n",
    "print('5 / 3:', 5/3)\n",
    "print('5 // 3:', 5//3)\n",
    "print('5 % 3:', 5%3)\n",
    "```\n",
    "```text\n",
    "5 / 3: 1.6666666666666667\n",
    "5 // 3: 1\n",
    "5 % 3: 2\n",
    "```\n",
    "````"
   ]
  },
  {
   "cell_type": "markdown",
   "id": "7cfed2e5-6b67-4683-8825-cee5c6cabcaa",
   "metadata": {},
   "source": [
    "If `num_students` is the number of students enrolled in a course (let say 600), and `num_per_class` is the number that can attend a single class (let say 42):\n",
    "\n",
    "Write an expression that calculates the number of classes needed to teach everyone.\n",
    "\n",
    "The output should look like this:\n",
    "\n",
    "```text\n",
    "600 students, 42 per class\n",
    "14 full classes, plus an extra class with only 12 students\n",
    "```\n",
    "\n",
    "````{admonition} Solution\n",
    ":class: dropdown\n",
    "\n",
    "Depending on requirements it might be important to detect when the number of students per class doesn't divide the number of students evenly.\n",
    "\n",
    "Detect it with the modulo operator (`%`) and test if the remainder that it returns is greater than 0.\n",
    "\n",
    "```text\n",
    "num_students = 600\n",
    "num_per_class = 42\n",
    "num_classes = num_students // num_per_class\n",
    "remainder = num_students % num_per_class\n",
    "\n",
    "print(num_students, 'students,', num_per_class, 'per class')\n",
    "print(num_classes, 'full classes, plus an extra class with only', remainder, 'students')\n",
    "```\n",
    "```text\n",
    "600 students, 42 per class\n",
    "14 full classes, plus an extra class with only 12 students\n",
    "```"
   ]
  },
  {
   "cell_type": "markdown",
   "id": "f6112b59-41a7-40f2-b3c7-595a6deb41de",
   "metadata": {},
   "source": [
    "## Keypoints"
   ]
  },
  {
   "cell_type": "markdown",
   "id": "675a75b6-a00c-4848-a4ef-500b2cd8414a",
   "metadata": {},
   "source": [
    "* Every value has a type.\n",
    "* Use the built-in function `type` to find the type of a value.\n",
    "* Types control what operations can be done on values.\n",
    "* Strings can be added and multiplied.\n",
    "* Strings have a length (but numbers don't).\n",
    "* Preventing Errors: Handling numbers and strings in Python operations.\n",
    "* Integers and floats can be mixed freely in operations.\n",
    "* Variables only change value when something is assigned to them."
   ]
  },
  {
   "cell_type": "code",
   "execution_count": null,
   "id": "ca5f3fe5-7f0d-4d6c-90e0-52d53007fb60",
   "metadata": {},
   "outputs": [],
   "source": []
  }
 ],
 "metadata": {
  "kernelspec": {
   "display_name": "Python 3 (ipykernel)",
   "language": "python",
   "name": "python3"
  },
  "language_info": {
   "codemirror_mode": {
    "name": "ipython",
    "version": 3
   },
   "file_extension": ".py",
   "mimetype": "text/x-python",
   "name": "python",
   "nbconvert_exporter": "python",
   "pygments_lexer": "ipython3",
   "version": "3.11.5"
  }
 },
 "nbformat": 4,
 "nbformat_minor": 5
}
