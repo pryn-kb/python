{
 "cells": [
  {
   "cell_type": "markdown",
   "id": "187440ac-fd5b-4b31-871f-f5db411d20a0",
   "metadata": {
    "editable": true,
    "slideshow": {
     "slide_type": ""
    },
    "tags": []
   },
   "source": [
    "# Built-in Functions and Help"
   ]
  },
  {
   "cell_type": "markdown",
   "id": "4ba5d208-90f2-4f0e-992d-1866342fd3fd",
   "metadata": {
    "editable": true,
    "slideshow": {
     "slide_type": ""
    },
    "tags": []
   },
   "source": [
    "```{admonition} Learning Objectives\n",
    "\n",
    "Questions:\n",
    "* How can I use built-in functions?\n",
    "* How can I find out what they do?\n",
    "* What kind of errors can occur in programs?\n",
    "\n",
    "Objectives:\n",
    "* Explain the purpose of functions.\n",
    "* Correctly call built-in Python functions.\n",
    "* Use help to display documentation for built-in functions.\n",
    "* Correctly describe situations in which SyntaxError and NameError occur."
   ]
  },
  {
   "cell_type": "markdown",
   "id": "4c216a24-5847-4a3a-b4b2-ac2c66b98b46",
   "metadata": {
    "editable": true,
    "slideshow": {
     "slide_type": ""
    },
    "tags": []
   },
   "source": [
    "---"
   ]
  },
  {
   "cell_type": "markdown",
   "id": "679b1c2b-f346-46b3-9151-32db4eba52c7",
   "metadata": {
    "editable": true,
    "slideshow": {
     "slide_type": ""
    },
    "tags": []
   },
   "source": [
    "## Comments and documentation\n",
    "\n",
    "You can use comments to add documentation to programs.\n",
    "\n",
    "When coding, it is always a good idea to write comments explaining what the code does - and why.\n",
    "\n",
    "* Comments will help other people understand what the program does.\n",
    "\n",
    "Just like we spoke about in regards to meaningful variable names, the most important “other person” is your future self!"
   ]
  },
  {
   "cell_type": "code",
   "execution_count": 1,
   "id": "5b5502c0-80ec-4aa1-b9a7-57c4e9cbdfa6",
   "metadata": {
    "tags": [
     "hide-output"
    ]
   },
   "outputs": [],
   "source": [
    "# This sentence is not executed by Python.\n",
    "name = 'Python for Absolute Beginners'   # Neither is this comment - anything after '#' is ignored."
   ]
  },
  {
   "cell_type": "markdown",
   "id": "eed34e8d-6662-478b-9bea-f35017eb84d0",
   "metadata": {},
   "source": [
    "---"
   ]
  },
  {
   "cell_type": "markdown",
   "id": "5448d455-7434-4375-ae46-8745f499e750",
   "metadata": {
    "editable": true,
    "slideshow": {
     "slide_type": ""
    },
    "tags": []
   },
   "source": [
    "## Built-in functions\n",
    "\n",
    "A function may take zero or more arguments.\n",
    "\n",
    "We have seen some functions already (like `print()` and `type()`) --- now let us take a closer look.\n",
    "*   An *argument* is a value passed into a function.\n",
    "*   Any arguments you want to pass into a function must go into the `()`\n",
    "    * `print(\"I am an argument and must go here.\")`\n",
    "*   You must always use parentheses, because this is how Python knows you are calling a function.\n",
    "    * You leave them empty if you do not want or need to pass any arguments in.\n",
    "*   `len()` takes exactly one argument.\n",
    "*   `int()`, `str()`, and `float()` create a new value from an existing one.\n",
    "*   `print()` takes zero or more arguments.\n",
    "    *   `print()` prints a blank line."
   ]
  },
  {
   "cell_type": "code",
   "execution_count": 2,
   "id": "c9c88331-494f-4bad-90e1-2e5dbc947c6a",
   "metadata": {
    "tags": [
     "hide-output"
    ]
   },
   "outputs": [
    {
     "name": "stdout",
     "output_type": "stream",
     "text": [
      "before\n",
      "\n",
      "after\n"
     ]
    }
   ],
   "source": [
    "print('before')\n",
    "print()\n",
    "print('after')"
   ]
  },
  {
   "cell_type": "markdown",
   "id": "6599dc43-cdf3-4c3a-a38c-ee65fe0785df",
   "metadata": {},
   "source": [
    "````{admonition} Printing Variables\n",
    ":class: tip dropdown\n",
    "\n",
    "Often you want to print both text and the value of a variable. In Python there are several ways to do this.\n",
    "\n",
    "**1) Using a comma inside `print()`**\\\n",
    "You can separate text and variables with a comma. Python will add a space between them automatically.\n",
    "\n",
    "```python\n",
    "name = \"Alice\"\n",
    "age = 25\n",
    "print(\"Name:\", name, \"Age:\", age)\n",
    "# Output: Name: Alice Age: 25\n",
    "```\n",
    "\n",
    "This is simple and easy to read.\n",
    "\n",
    "**2) Using string concatenation**\\\n",
    "You can join strings together with the `+` operator.\\\n",
    "If the variable is not already a string (like a number), you need to convert it with `str()`.\n",
    "\n",
    "```python\n",
    "name = \"Alice\"\n",
    "age = 25\n",
    "print(\"Name: \" + name + \" Age: \" + str(age))\n",
    "# Output: Name: Alice Age: 25\n",
    "```\n",
    "\n",
    "**3) Using f-strings (recommended)**\\\n",
    "In modern Python (3.6+), you can use **f-strings**.\\\n",
    "They let you write variables directly inside curly braces `{}` in your string.\n",
    "\n",
    "```python\n",
    "name = \"Alice\"\n",
    "age = 25\n",
    "print(f\"Name: {name} Age: {age}\")\n",
    "# Output: Name: Alice Age: 25\n",
    "```\n",
    "\n",
    "This is usually the **cleanest and most readable way**. You don’t need to convert numbers to strings, Python does it for you.\n",
    "\n",
    "---\n",
    "**Summary:**\n",
    "\n",
    "- Use commas for quick prints.\n",
    "- Use concatenation if you need to join strings manually.\n",
    "- Use f-strings for clean and modern code."
   ]
  },
  {
   "cell_type": "markdown",
   "id": "69f3b984-d9b6-414c-b6c0-5cba7e523c59",
   "metadata": {},
   "source": [
    "### `max()`, `min()`, and `round()`\n",
    "\n",
    "Commonly-used built-in functions include `max()`, `min()`, and `round()`.\n",
    "\n",
    "*   Use `max()` to find the largest value of one or more values.\n",
    "*   Use `min()` to find the smallest value of one or more values.\n",
    "*   Both work on character strings as well as numbers.\n",
    "    *   \"Larger\" and \"smaller\" use (0-9, A-Z, a-z) to compare letters.\n",
    "    *   This means that:\n",
    "        *   `'a'` is smaller than `'b'`\n",
    "        *   `'A'` is smaller than `'a'`\n",
    "        *   `'0'` is smaller than `'A'`\n",
    "    *   This is useful for ordering alphabetically."
   ]
  },
  {
   "cell_type": "code",
   "execution_count": 3,
   "id": "19928868-f2f9-4995-8897-a5a70d3acb7d",
   "metadata": {
    "tags": [
     "hide-output"
    ]
   },
   "outputs": [
    {
     "name": "stdout",
     "output_type": "stream",
     "text": [
      "3\n",
      "a\n",
      "A\n"
     ]
    }
   ],
   "source": [
    "print(max(1, 2, 3))\n",
    "print(min('a', 'b', 'c'))\n",
    "print(min('a', 'A'))"
   ]
  },
  {
   "cell_type": "markdown",
   "id": "bec57318-1ddd-4d74-aa0e-bee2cf8123b9",
   "metadata": {},
   "source": [
    "```{seealso}\n",
    "To see more built-in functions, visit the [Python Documentation](https://docs.python.org/3/library/functions.html)."
   ]
  },
  {
   "cell_type": "markdown",
   "id": "88bd7833-73e8-41de-a437-590c4aa1aac2",
   "metadata": {
    "editable": true,
    "slideshow": {
     "slide_type": ""
    },
    "tags": []
   },
   "source": [
    "### Functions only work for certain arguments\n",
    "\n",
    "`max()` and `min()` must be given at least one argument. They must be given data types that can meaningfully be compared."
   ]
  },
  {
   "cell_type": "code",
   "execution_count": 4,
   "id": "282a1ea6-cb50-4296-a090-d4dab8ccfd70",
   "metadata": {
    "tags": [
     "hide-output"
    ]
   },
   "outputs": [
    {
     "ename": "TypeError",
     "evalue": "'>' not supported between instances of 'str' and 'int'",
     "output_type": "error",
     "traceback": [
      "\u001b[0;31m---------------------------------------------------------------------------\u001b[0m",
      "\u001b[0;31mTypeError\u001b[0m                                 Traceback (most recent call last)",
      "Cell \u001b[0;32mIn[4], line 1\u001b[0m\n\u001b[0;32m----> 1\u001b[0m \u001b[38;5;28mprint\u001b[39m(\u001b[38;5;28;43mmax\u001b[39;49m\u001b[43m(\u001b[49m\u001b[38;5;241;43m1\u001b[39;49m\u001b[43m,\u001b[49m\u001b[43m \u001b[49m\u001b[38;5;124;43m'\u001b[39;49m\u001b[38;5;124;43ma\u001b[39;49m\u001b[38;5;124;43m'\u001b[39;49m\u001b[43m)\u001b[49m)\n",
      "\u001b[0;31mTypeError\u001b[0m: '>' not supported between instances of 'str' and 'int'"
     ]
    }
   ],
   "source": [
    "print(max(1, 'a'))"
   ]
  },
  {
   "cell_type": "markdown",
   "id": "719fb817-5525-4758-8bec-8d3106f0881b",
   "metadata": {},
   "source": [
    "The error message tells us, that we cannot compare strings and integers."
   ]
  },
  {
   "cell_type": "markdown",
   "id": "60e59466-25ab-4d60-85d1-0317e680926b",
   "metadata": {
    "editable": true,
    "slideshow": {
     "slide_type": ""
    },
    "tags": []
   },
   "source": [
    "### Functions have default values for some arguments\n",
    "`round()` will round off a floating-point number. By default, rounds to zero decimal places."
   ]
  },
  {
   "cell_type": "code",
   "execution_count": 5,
   "id": "afec4de2-1478-4e86-9442-c8af0b3611ab",
   "metadata": {
    "tags": [
     "hide-output"
    ]
   },
   "outputs": [
    {
     "data": {
      "text/plain": [
       "4"
      ]
     },
     "execution_count": 5,
     "metadata": {},
     "output_type": "execute_result"
    }
   ],
   "source": [
    "round(3.712)"
   ]
  },
  {
   "cell_type": "markdown",
   "id": "afb17345-a822-44ec-861a-e2cf417f247b",
   "metadata": {},
   "source": [
    "We can specify the number of decimal places we want:"
   ]
  },
  {
   "cell_type": "code",
   "execution_count": 6,
   "id": "b7c6061b-2d83-4882-85af-fb6092b049fc",
   "metadata": {
    "tags": [
     "hide-output"
    ]
   },
   "outputs": [
    {
     "data": {
      "text/plain": [
       "3.7"
      ]
     },
     "execution_count": 6,
     "metadata": {},
     "output_type": "execute_result"
    }
   ],
   "source": [
    "round(3.712, 1)"
   ]
  },
  {
   "cell_type": "markdown",
   "id": "59925784-1372-41ee-8114-05f6b2f821da",
   "metadata": {},
   "source": [
    "### Every function returns something\n",
    "\n",
    "*   Every function call produces some result.\n",
    "*   If the function doesn't have a useful result to return,\n",
    "    it usually returns the special value `None`."
   ]
  },
  {
   "cell_type": "code",
   "execution_count": 7,
   "id": "3d03ec4f-0359-431f-8987-c3032a5941da",
   "metadata": {
    "tags": [
     "hide-output"
    ]
   },
   "outputs": [
    {
     "name": "stdout",
     "output_type": "stream",
     "text": [
      "example\n",
      "result of print is None\n"
     ]
    }
   ],
   "source": [
    "result = print('example')\n",
    "print('result of print is', result)"
   ]
  },
  {
   "cell_type": "markdown",
   "id": "454f7687-2190-40fc-957b-52ce999d7ae4",
   "metadata": {},
   "source": [
    "Contrary to what we might expect, `print()` does not return any value as such. I carries out the execution (i.e., it prints), but after that nothing is returned. Thus, it has a return value of `None`."
   ]
  },
  {
   "cell_type": "markdown",
   "id": "cf2debe3-211f-4dec-b087-9665ef610558",
   "metadata": {},
   "source": [
    "---"
   ]
  },
  {
   "cell_type": "markdown",
   "id": "2ad0bc2d-1798-4299-81e1-766465814764",
   "metadata": {
    "editable": true,
    "slideshow": {
     "slide_type": ""
    },
    "tags": []
   },
   "source": [
    "## The `help()` function\n",
    "\n",
    "Every built-in function has online documentation."
   ]
  },
  {
   "cell_type": "code",
   "execution_count": 8,
   "id": "81ede902-e79e-4abf-a2a9-ad6c495acd59",
   "metadata": {
    "tags": [
     "hide-output"
    ]
   },
   "outputs": [
    {
     "name": "stdout",
     "output_type": "stream",
     "text": [
      "Help on built-in function round in module builtins:\n",
      "\n",
      "round(number, ndigits=None)\n",
      "    Round a number to a given precision in decimal digits.\n",
      "    \n",
      "    The return value is an integer if ndigits is omitted or None.  Otherwise\n",
      "    the return value has the same type as the number.  ndigits may be negative.\n",
      "\n"
     ]
    }
   ],
   "source": [
    "help(round)"
   ]
  },
  {
   "cell_type": "markdown",
   "id": "8d8b249f-38bc-4057-ad0e-e978c805f872",
   "metadata": {},
   "source": [
    "---"
   ]
  },
  {
   "cell_type": "markdown",
   "id": "c7957e49-be35-462b-a277-a6b0f3d9d2dc",
   "metadata": {},
   "source": [
    "## Error messages\n",
    "\n",
    "### Syntax errors\n",
    "\n",
    "Python reports a syntax error when grammar rules (that is Python grammar, not English grammar) have been violated.\n",
    "\n",
    "You have seen errors when you try to use a function incorrectly, but you can also have errors when you use punctuation incorrectly.\n",
    "\n",
    "*   Python will run the program up until that point, but if the grammar of that line\n",
    "    of code has produced an error, then the program will shut down with an error.\n",
    "*   Error messages will try and guide you to the point, where the error happened.\n",
    "*   Python error messages may vary slightly depending on your Python environment."
   ]
  },
  {
   "cell_type": "code",
   "execution_count": 9,
   "id": "21f56b13-1139-444c-95b2-d66af7b21a80",
   "metadata": {
    "tags": [
     "hide-output"
    ]
   },
   "outputs": [
    {
     "ename": "SyntaxError",
     "evalue": "unterminated string literal (detected at line 2) (4174242302.py, line 2)",
     "output_type": "error",
     "traceback": [
      "\u001b[0;36m  Cell \u001b[0;32mIn[9], line 2\u001b[0;36m\u001b[0m\n\u001b[0;31m    name = 'Feng\u001b[0m\n\u001b[0m           ^\u001b[0m\n\u001b[0;31mSyntaxError\u001b[0m\u001b[0;31m:\u001b[0m unterminated string literal (detected at line 2)\n"
     ]
    }
   ],
   "source": [
    "# Forgot to close the quotation marks around the string.\n",
    "name = 'Feng"
   ]
  },
  {
   "cell_type": "code",
   "execution_count": 10,
   "id": "966a9ca0-a26b-47cf-8351-6f522cd32a13",
   "metadata": {
    "tags": [
     "hide-output"
    ]
   },
   "outputs": [
    {
     "ename": "SyntaxError",
     "evalue": "invalid syntax (3760570524.py, line 2)",
     "output_type": "error",
     "traceback": [
      "\u001b[0;36m  Cell \u001b[0;32mIn[10], line 2\u001b[0;36m\u001b[0m\n\u001b[0;31m    age = = 52\u001b[0m\n\u001b[0m          ^\u001b[0m\n\u001b[0;31mSyntaxError\u001b[0m\u001b[0;31m:\u001b[0m invalid syntax\n"
     ]
    }
   ],
   "source": [
    "# An extra '=' in the assignment.\n",
    "age = = 52"
   ]
  },
  {
   "cell_type": "markdown",
   "id": "055ec13a-184b-4e9f-90cd-a6ce8c9ee699",
   "metadata": {},
   "source": [
    "Look more closely at the error message:"
   ]
  },
  {
   "cell_type": "code",
   "execution_count": 11,
   "id": "c25c3696-4bc4-4626-9a64-1ee76abdbec2",
   "metadata": {
    "tags": [
     "hide-output"
    ]
   },
   "outputs": [
    {
     "ename": "SyntaxError",
     "evalue": "incomplete input (1028029194.py, line 1)",
     "output_type": "error",
     "traceback": [
      "\u001b[0;36m  Cell \u001b[0;32mIn[11], line 1\u001b[0;36m\u001b[0m\n\u001b[0;31m    print(\"hello world\"\u001b[0m\n\u001b[0m                       ^\u001b[0m\n\u001b[0;31mSyntaxError\u001b[0m\u001b[0;31m:\u001b[0m incomplete input\n"
     ]
    }
   ],
   "source": [
    "print(\"hello world\""
   ]
  },
  {
   "cell_type": "markdown",
   "id": "2a2b7e98-d703-4e63-bcd1-d8163221f028",
   "metadata": {},
   "source": [
    "The message indicates a problem in cell number 1 on first line of the input (\"line 1\").\n",
    "\n",
    "Next is the problematic line of code, indicating the problem with a `^` pointer."
   ]
  },
  {
   "cell_type": "markdown",
   "id": "b7aa3eb4-7aee-4946-a112-bd03e0ad6b10",
   "metadata": {},
   "source": [
    "### Runtime errors\n",
    "\n",
    "Python reports a runtime error when something goes wrong while a program is executing.\n",
    "\n",
    "In Python, a runtime error is an error that occurs while a Python program is running. These errors are also known as exceptions.\n",
    "\n",
    "Runtime errors in Python are typically caused by unexpected conditions or events that disrupt the normal flow of the program.\n",
    "\n",
    "They can happen for various reasons, for example:"
   ]
  },
  {
   "cell_type": "code",
   "execution_count": 12,
   "id": "0b59d760-f56e-48a1-bdb5-3e8f1aac8430",
   "metadata": {
    "tags": [
     "hide-output"
    ]
   },
   "outputs": [
    {
     "ename": "NameError",
     "evalue": "name 'aege' is not defined",
     "output_type": "error",
     "traceback": [
      "\u001b[0;31m---------------------------------------------------------------------------\u001b[0m",
      "\u001b[0;31mNameError\u001b[0m                                 Traceback (most recent call last)",
      "Cell \u001b[0;32mIn[12], line 2\u001b[0m\n\u001b[1;32m      1\u001b[0m age \u001b[38;5;241m=\u001b[39m \u001b[38;5;241m53\u001b[39m\n\u001b[0;32m----> 2\u001b[0m remaining \u001b[38;5;241m=\u001b[39m \u001b[38;5;241m100\u001b[39m \u001b[38;5;241m-\u001b[39m \u001b[43maege\u001b[49m \u001b[38;5;66;03m# mis-spelled 'age'\u001b[39;00m\n",
      "\u001b[0;31mNameError\u001b[0m: name 'aege' is not defined"
     ]
    }
   ],
   "source": [
    "age = 53\n",
    "remaining = 100 - aege # mis-spelled 'age'"
   ]
  },
  {
   "cell_type": "markdown",
   "id": "8c150dfc-5109-48dc-a1f8-67a480918182",
   "metadata": {
    "editable": true,
    "slideshow": {
     "slide_type": ""
    },
    "tags": []
   },
   "source": [
    "We can:\n",
    "\n",
    "*   Fix syntax errors by reading the source.\n",
    "*   Fix runtime errors by tracing execution."
   ]
  },
  {
   "cell_type": "markdown",
   "id": "e7a9b61d-ec17-4b9b-8ef9-8ccd4411959e",
   "metadata": {},
   "source": [
    "---"
   ]
  },
  {
   "cell_type": "markdown",
   "id": "e473ffc0-e7df-41ee-ae41-62b82dae7c53",
   "metadata": {},
   "source": [
    "## Exercises"
   ]
  },
  {
   "cell_type": "markdown",
   "id": "6f36074d-705e-41d0-b1d7-b77f890072a8",
   "metadata": {
    "editable": true,
    "slideshow": {
     "slide_type": ""
    },
    "tags": []
   },
   "source": [
    "### <i class=\"fa-solid fa-pencil\"></i> Exercise 1: Spot the difference\n",
    "\n",
    "Try to solve the two questions before you click \"Show code cell output\".\n",
    "\n",
    "1. Predict what each of the `print` statements in the program below will print.\n",
    "2. Does `max(len(rich), poor)` run or produce an error message?\\\n",
    "If it runs, does its result make sense to you? (Remember that we are comparing the _value_ of the variable and not the _name_ of the variable.)"
   ]
  },
  {
   "cell_type": "code",
   "execution_count": 14,
   "id": "fa523a52-21a8-49e5-9056-f982d7595ba3",
   "metadata": {
    "editable": true,
    "slideshow": {
     "slide_type": ""
    },
    "tags": [
     "hide-output"
    ]
   },
   "outputs": [
    {
     "name": "stdout",
     "output_type": "stream",
     "text": [
      "tin\n",
      "4\n"
     ]
    }
   ],
   "source": [
    "rich = \"gold\"\n",
    "poor = \"tin\"\n",
    "print(max(rich, poor))\n",
    "print(max(len(rich), len(poor)))"
   ]
  },
  {
   "cell_type": "markdown",
   "id": "ea51705e-96f3-4d64-8404-11b0888e582d",
   "metadata": {
    "editable": true,
    "slideshow": {
     "slide_type": ""
    },
    "tags": []
   },
   "source": [
    "---"
   ]
  },
  {
   "cell_type": "markdown",
   "id": "73798fdc-c5b2-46d7-80a4-80265444b004",
   "metadata": {
    "editable": true,
    "slideshow": {
     "slide_type": ""
    },
    "tags": []
   },
   "source": [
    "### <i class=\"fa-solid fa-pencil\"></i> Exercise 2: What happens when?\n",
    "\n",
    "1. Explain in simple terms the order of operations in the following program:\n",
    "    * When does the addition happen?\n",
    "    * When does the subtraction happen?\n",
    "    * When is each function called, etc.?\n",
    "2. What is the final value of `word`?"
   ]
  },
  {
   "cell_type": "code",
   "execution_count": 17,
   "id": "a2737ebf-3091-4438-a478-dd44bcbf881c",
   "metadata": {
    "editable": true,
    "slideshow": {
     "slide_type": ""
    },
    "tags": [
     "hide-output"
    ]
   },
   "outputs": [
    {
     "name": "stdout",
     "output_type": "stream",
     "text": [
      "aaah \n"
     ]
    }
   ],
   "source": [
    "word = 'blah '\n",
    "word = max(min(word * 2 + 'blur ', 'aaah '), 'Ping')\n",
    "print(word)"
   ]
  },
  {
   "cell_type": "markdown",
   "id": "a83fec75-4e05-4efb-8ac4-a81dba4ff49e",
   "metadata": {
    "editable": true,
    "slideshow": {
     "slide_type": ""
    },
    "tags": []
   },
   "source": [
    "```{admonition} Solution\n",
    ":class: dropdown\n",
    "\n",
    "1. **Initialization**: `word` is assigned the initial value 'blah '.\n",
    "2. **Inside `max()` function**:\n",
    "    - `word * 2` results in 'blah blah '. (Repeats the string 'blah ' twice using `*`.)\n",
    "    - 'blah blah ' + 'blur ' results in 'blah blah blur '. (Concatenates the two strings using `+`.)\n",
    "    - 'aaah ' is compared with 'blah blah blur '. The `min()` function returns the smaller of the two strings, which is 'aaah '.\n",
    "3. **Outer `max()` function**:\n",
    "    - The result of the `min()` function ('aaah ') is passed as an argument.\n",
    "    - The `max()` function then compares 'aaah ' with 'Ping' and returns the larger of the two strings, which is 'aaah', since lower case letters are indexed higher than upper case letters in Python.\n",
    "4. **Assignment**: Finally, the value 'aaah' is assigned to the variable `word`.\n",
    "5. **Output**: The program prints the value of `word`, which is 'aaah'.\n",
    "\n",
    "````"
   ]
  },
  {
   "cell_type": "markdown",
   "id": "cece3bd9-6a33-49aa-ad16-5e93549e15f3",
   "metadata": {
    "editable": true,
    "slideshow": {
     "slide_type": ""
    },
    "tags": []
   },
   "source": [
    "---"
   ]
  },
  {
   "cell_type": "markdown",
   "id": "35d6d617-216d-4b67-aad6-9bf5ed28fd5c",
   "metadata": {
    "editable": true,
    "slideshow": {
     "slide_type": ""
    },
    "tags": []
   },
   "source": [
    "### <i class=\"fa-solid fa-pencil\"></i> Exercise 3: Why not?\n",
    "\n",
    "Why do `max()` and `min()` not return `None` when they are given no arguments?\n",
    "\n",
    "````{admonition} Solution\n",
    ":class: dropdown\n",
    "\n",
    "Both functions require at least one argument to execute.\n",
    "\n",
    "```python\n",
    "print(max())\n",
    "```\n",
    "```text\n",
    "TypeError: max expected at least 1 argument, got 0\n",
    "```\n",
    "````"
   ]
  },
  {
   "cell_type": "markdown",
   "id": "3f8d98e9-c2c8-4380-924d-02d9580dc82d",
   "metadata": {
    "editable": true,
    "slideshow": {
     "slide_type": ""
    },
    "tags": []
   },
   "source": [
    "---"
   ]
  },
  {
   "cell_type": "markdown",
   "id": "df9be0f1-bb40-4474-9072-c1bbe5e2ab2d",
   "metadata": {
    "editable": true,
    "slideshow": {
     "slide_type": ""
    },
    "tags": []
   },
   "source": [
    "### <i class=\"fa-solid fa-pencil\"></i> Exercise 4: Last character of a string\n",
    "\n",
    "If Python starts counting from zero, and `len()` returns the number of characters in a string, what index expression will get the last character in the string `name`?\n",
    "\n",
    "(Note: we will see a simpler way to do this in a later episode.)\n",
    "\n",
    "````{admonition} Solution\n",
    ":class: dropdown\n",
    "\n",
    "```python\n",
    "name[len(name) - 1]\n",
    "```\n",
    "```text\n",
    "'s'\n",
    "```\n",
    "````"
   ]
  },
  {
   "cell_type": "markdown",
   "id": "6321a0d4-d1de-4e97-93ac-d074302b3a47",
   "metadata": {
    "editable": true,
    "slideshow": {
     "slide_type": ""
    },
    "tags": []
   },
   "source": [
    "---"
   ]
  },
  {
   "cell_type": "markdown",
   "id": "becf8b48-7e92-43e6-a09e-cb637c48b311",
   "metadata": {
    "editable": true,
    "slideshow": {
     "slide_type": ""
    },
    "tags": []
   },
   "source": [
    "## Key points\n",
    "\n",
    "* Use comments to add documentation to programs.\n",
    "* A function may take zero or more arguments.\n",
    "* Commonly-used built-in functions include `min()`, `max()`, and `round()`.\n",
    "* Functions may only work for certain (combinations of) arguments.\n",
    "* Functions may have default values for some arguments.\n",
    "* Every function returns something.\n",
    "* Use the built-in function `help()` to get help for a function.\n",
    "* Python reports a syntax error when it cannot understand the source of a program.\n",
    "* Python reports a runtime error when something goes wrong while a program is executing."
   ]
  },
  {
   "cell_type": "code",
   "execution_count": null,
   "id": "587c8604-bb14-49d1-9328-1e66be6291fb",
   "metadata": {
    "editable": true,
    "slideshow": {
     "slide_type": ""
    },
    "tags": [
     "hide-output"
    ]
   },
   "outputs": [],
   "source": []
  }
 ],
 "metadata": {
  "kernelspec": {
   "display_name": "Python 3 (ipykernel)",
   "language": "python",
   "name": "python3"
  },
  "language_info": {
   "codemirror_mode": {
    "name": "ipython",
    "version": 3
   },
   "file_extension": ".py",
   "mimetype": "text/x-python",
   "name": "python",
   "nbconvert_exporter": "python",
   "pygments_lexer": "ipython3",
   "version": "3.13.5"
  }
 },
 "nbformat": 4,
 "nbformat_minor": 5
}
