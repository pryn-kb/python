{
 "cells": [
  {
   "cell_type": "markdown",
   "id": "6a726669-8a42-4ba8-a844-6ba669678e16",
   "metadata": {},
   "source": [
    "# Part 2"
   ]
  },
  {
   "cell_type": "markdown",
   "id": "58388f16-e371-4432-a767-20d2dd463cd0",
   "metadata": {},
   "source": [
    "Python for Absolute Beginners, Part 2.\n",
    "\n",
    "In this second part of our introduction to Python, you will build on the foundations from Part 1 to start creating small scripts. By the end of this course, you'll even have the opportunity to create a small game!\n",
    "\n",
    "To participate in this course, it is essential that you have either completed Part 1 or possess an understanding of the topics covered there. This will ensure that you are well-prepared to take full advantage of the more advanced concepts we’ll explore in Part 2."
   ]
  },
  {
   "cell_type": "markdown",
   "id": "4ba8a165-ba72-404a-910d-bc88606714e5",
   "metadata": {},
   "source": [
    "```{tableofcontents}\n",
    "```"
   ]
  },
  {
   "cell_type": "code",
   "execution_count": null,
   "id": "ae1bd494-8e86-4906-8d69-ef849ac6d7af",
   "metadata": {},
   "outputs": [],
   "source": []
  }
 ],
 "metadata": {
  "kernelspec": {
   "display_name": "Python 3 (ipykernel)",
   "language": "python",
   "name": "python3"
  },
  "language_info": {
   "codemirror_mode": {
    "name": "ipython",
    "version": 3
   },
   "file_extension": ".py",
   "mimetype": "text/x-python",
   "name": "python",
   "nbconvert_exporter": "python",
   "pygments_lexer": "ipython3",
   "version": "3.11.5"
  }
 },
 "nbformat": 4,
 "nbformat_minor": 5
}
