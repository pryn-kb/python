{
 "cells": [
  {
   "cell_type": "markdown",
   "id": "ec8432ae-022c-4eba-a2cc-91fb27a8791a",
   "metadata": {
    "editable": true,
    "slideshow": {
     "slide_type": ""
    },
    "tags": []
   },
   "source": [
    "# Conditionals"
   ]
  },
  {
   "cell_type": "markdown",
   "id": "3510b942-b8ea-467e-8046-77c4749e349b",
   "metadata": {
    "editable": true,
    "slideshow": {
     "slide_type": ""
    },
    "tags": []
   },
   "source": [
    "```{admonition} Learning Objectives\n",
    "Questions\n",
    "* How can you use conditional statements to control program flow?\n",
    "\n",
    "Objectives\n",
    "* Explain the use of if and else statements and simple Boolean expressions.\n",
    "\n",
    "* Explain the use of while statements.\n",
    "\n",
    "* Trace the execution of unnested conditionals and conditionals inside loops.\n",
    "```"
   ]
  },
  {
   "cell_type": "markdown",
   "id": "5c352d42-e3de-4611-b1ac-00ddf69650e4",
   "metadata": {},
   "source": [
    "___"
   ]
  },
  {
   "cell_type": "markdown",
   "id": "ae36f57d-a9ad-4650-bfe4-c99dd9e7b8cc",
   "metadata": {
    "editable": true,
    "slideshow": {
     "slide_type": ""
    },
    "tags": []
   },
   "source": [
    "## `if` statements control whether or not a block of code is executed\n",
    "An `if` statement (more properly called a conditional statement) controls whether some block of code is executed or not.\n",
    "\n",
    "It can look like this in pseudocode:\n",
    "\n",
    "```text\n",
    "if some criteria is met:\n",
    "    then do this\n",
    "```\n",
    "The structure is similar to a `for` statement:\n",
    "* First line opens with `if` and ends with a colon.\n",
    "* Body containing one or more statements is indented (usually by 4 spaces or tab).\n",
    "\n"
   ]
  },
  {
   "cell_type": "code",
   "execution_count": 18,
   "id": "557dbba5-730d-449a-9e35-ddf940eb5454",
   "metadata": {
    "editable": true,
    "slideshow": {
     "slide_type": ""
    },
    "tags": [
     "hide-output"
    ]
   },
   "outputs": [
    {
     "name": "stdout",
     "output_type": "stream",
     "text": [
      "6 pages great! Continue writing\n"
     ]
    }
   ],
   "source": [
    "pages_written = 6\n",
    "\n",
    "\n",
    "if pages_written > 3.0:\n",
    "    print(pages_written, \"pages great! Continue writing\")"
   ]
  },
  {
   "cell_type": "code",
   "execution_count": 65,
   "id": "52b41a1f-67d8-4368-b53b-3bd3824660a1",
   "metadata": {
    "editable": true,
    "slideshow": {
     "slide_type": ""
    },
    "tags": [
     "hide-output"
    ]
   },
   "outputs": [],
   "source": [
    "pages_written = 1\n",
    "\n",
    "if pages_written > 3.0:\n",
    "    print(pages_written, \"pages great! Continue writing\")"
   ]
  },
  {
   "cell_type": "markdown",
   "id": "f594ca70-d351-4ddf-9778-1d683c81a8df",
   "metadata": {
    "editable": true,
    "slideshow": {
     "slide_type": ""
    },
    "tags": []
   },
   "source": [
    "The first if statement here where we define 6 pages written the if condition is met and the output is a printed statement as we have defined it. \n",
    "\n",
    "In the second however, there is no output as the condition of having written more than 3 pages is not met. "
   ]
  },
  {
   "cell_type": "markdown",
   "id": "8440d91c-5b4e-4607-985e-d5c057312fe7",
   "metadata": {
    "editable": true,
    "slideshow": {
     "slide_type": ""
    },
    "tags": []
   },
   "source": [
    "## Conditionals are often used inside loops"
   ]
  },
  {
   "cell_type": "markdown",
   "id": "8340bde6-f3b9-42f9-a3dc-3ea716e30e64",
   "metadata": {
    "editable": true,
    "slideshow": {
     "slide_type": ""
    },
    "tags": []
   },
   "source": [
    "There is not much point in using a conditional when we know the value (as above).\n",
    "But it is useful when we have a collection to process, like in this example of a list containing floats referring to how many pages have been written so far in an paper."
   ]
  },
  {
   "cell_type": "code",
   "execution_count": 28,
   "id": "2d5e8b77-4cb9-44eb-8a7d-0a94d3fc02bc",
   "metadata": {
    "editable": true,
    "slideshow": {
     "slide_type": ""
    },
    "tags": [
     "hide-output"
    ]
   },
   "outputs": [
    {
     "name": "stdout",
     "output_type": "stream",
     "text": [
      "3.54 pages wauw! You have written more than 3.0 pages!\n",
      "9.22 pages wauw! You have written more than 3.0 pages!\n"
     ]
    }
   ],
   "source": [
    "pages_written = [3.54, 2.07, 9.22, 1.86, 1.71]\n",
    "for pages in pages_written:\n",
    "    if pages > 3.0:\n",
    "        print(pages, 'pages wauw! You have written more than 3.0 pages!')"
   ]
  },
  {
   "cell_type": "markdown",
   "id": "f7d74a45-1f12-4a02-8c42-e43567187c0a",
   "metadata": {
    "editable": true,
    "slideshow": {
     "slide_type": ""
    },
    "tags": []
   },
   "source": [
    "### Use `else` to execute a block of code when an if condition is not true"
   ]
  },
  {
   "cell_type": "markdown",
   "id": "8c08c8ef-c320-4753-88a5-d631603088a0",
   "metadata": {
    "editable": true,
    "slideshow": {
     "slide_type": ""
    },
    "tags": []
   },
   "source": [
    "`else` can be used following an `if`statement.\n",
    "It allows us to specify an alternative to execute when the `if` branch isn’t taken."
   ]
  },
  {
   "cell_type": "code",
   "execution_count": 30,
   "id": "bd972e1a-6d92-4de4-97c1-b70da6056baa",
   "metadata": {
    "editable": true,
    "slideshow": {
     "slide_type": ""
    },
    "tags": [
     "hide-output"
    ]
   },
   "outputs": [
    {
     "name": "stdout",
     "output_type": "stream",
     "text": [
      "3.54 pages wauw! You have written more than 3.0 pages!\n",
      "2.07 pages, you need to write a bit more\n",
      "9.22 pages wauw! You have written more than 3.0 pages!\n",
      "1.86 pages, you need to write a bit more\n",
      "1.71 pages, you need to write a bit more\n"
     ]
    }
   ],
   "source": [
    "pages_written = [3.54, 2.07, 9.22, 1.86, 1.71]\n",
    "for pages in pages_written:\n",
    "    if pages > 3.0:\n",
    "        print(pages, 'pages wauw! You have written more than 3.0 pages!')\n",
    "    else:\n",
    "        print(pages, 'pages, you need to write a bit more')"
   ]
  },
  {
   "cell_type": "markdown",
   "id": "17de8d34-e57a-4998-b4e3-f2f3f61bdab9",
   "metadata": {
    "editable": true,
    "slideshow": {
     "slide_type": ""
    },
    "tags": []
   },
   "source": [
    "### `elif` specify additional tests"
   ]
  },
  {
   "cell_type": "markdown",
   "id": "467b5228-3cbe-40a8-9bec-5bab2b39b475",
   "metadata": {
    "editable": true,
    "slideshow": {
     "slide_type": ""
    },
    "tags": []
   },
   "source": [
    "You may want to provide several alternative choices, each with its own test.\n",
    "Use `elif` (short for “else if”) and a condition to specify these.\n",
    "* Must always be associated with an `if`.\n",
    "* Must come before the `else` (which is the “catch all”).\n",
    "* `elif` - like `else` - is **only** executed if the `if` condition is not."
   ]
  },
  {
   "cell_type": "code",
   "execution_count": 32,
   "id": "3d13cbad-3059-4eba-b835-e4e43ac24bfd",
   "metadata": {
    "editable": true,
    "slideshow": {
     "slide_type": ""
    },
    "tags": [
     "hide-output"
    ]
   },
   "outputs": [
    {
     "name": "stdout",
     "output_type": "stream",
     "text": [
      "3.54 that is quite a lot of pages\n",
      "2.07 you need a bit more pages\n",
      "9.22 that is SO many pages!\n",
      "1.86 you need a bit more pages\n",
      "1.71 you need a bit more pages\n"
     ]
    }
   ],
   "source": [
    "pages_written = [3.54, 2.07, 9.22, 1.86, 1.71]\n",
    "for pages in pages_written:\n",
    "    if pages > 9.0:\n",
    "        print(pages, 'that is SO many pages!')\n",
    "    elif pages > 3.0:\n",
    "        print(pages, 'that is quite a lot of pages')\n",
    "    else:\n",
    "        print(pages, 'you need a bit more pages')"
   ]
  },
  {
   "cell_type": "markdown",
   "id": "f82dde45-630d-4674-a346-580cda54afe0",
   "metadata": {
    "editable": true,
    "slideshow": {
     "slide_type": ""
    },
    "tags": []
   },
   "source": [
    "___"
   ]
  },
  {
   "cell_type": "markdown",
   "id": "3adce1a6-d66c-4599-ac73-0d516f3740a4",
   "metadata": {
    "editable": true,
    "slideshow": {
     "slide_type": ""
    },
    "tags": []
   },
   "source": [
    "## Conditions are tested once, in order"
   ]
  },
  {
   "cell_type": "markdown",
   "id": "a28a7124-6bbd-4a78-b8fd-41bb6c0dc81c",
   "metadata": {
    "editable": true,
    "slideshow": {
     "slide_type": ""
    },
    "tags": []
   },
   "source": [
    "Python steps through the branches of the conditional in order, testing each in turn.\n",
    "But if *one* conditional is fulfilled, Python will “step out of” the statement and not test the following conditionals.\n",
    "\n",
    "So ordering matters!\n",
    "\n",
    "Take a look at this script focusing on the amercian grade system:"
   ]
  },
  {
   "cell_type": "code",
   "execution_count": 36,
   "id": "4af2dbba-370d-488c-a5c1-12078ee41aa5",
   "metadata": {
    "editable": true,
    "slideshow": {
     "slide_type": ""
    },
    "tags": [
     "hide-output"
    ]
   },
   "outputs": [
    {
     "name": "stdout",
     "output_type": "stream",
     "text": [
      "grade is C\n"
     ]
    }
   ],
   "source": [
    "points = 85\n",
    "if points >= 70:\n",
    "    print('grade is C')\n",
    "elif points >= 80:\n",
    "    print('grade is B')\n",
    "elif points >= 90:\n",
    "    print('grade is A')"
   ]
  },
  {
   "cell_type": "markdown",
   "id": "cf2eea81-521d-4a96-80a1-39388ecfffa3",
   "metadata": {
    "editable": true,
    "slideshow": {
     "slide_type": ""
    },
    "tags": []
   },
   "source": [
    "```{admonition} What is the problem with the script above?\n",
    ":class: attention\n",
    "The problem is that a grade can never be higher than ‘C’, since any points above 70 will be “caught” by the if condition. Thus, the `elif` conditions will never be tested.\n",
    "\n",
    "```"
   ]
  },
  {
   "cell_type": "markdown",
   "id": "4b9e845a-3b5d-41e4-8580-0b28ae394885",
   "metadata": {
    "editable": true,
    "slideshow": {
     "slide_type": ""
    },
    "tags": []
   },
   "source": [
    "A better way to write the above script, would be:"
   ]
  },
  {
   "cell_type": "code",
   "execution_count": 41,
   "id": "969bcb3c-d953-4b59-b883-d6e48e648c21",
   "metadata": {
    "editable": true,
    "slideshow": {
     "slide_type": ""
    },
    "tags": [
     "hide-output"
    ]
   },
   "outputs": [
    {
     "name": "stdout",
     "output_type": "stream",
     "text": [
      "grade is B\n"
     ]
    }
   ],
   "source": [
    "points = 85\n",
    "if points >= 90:\n",
    "    print('grade is A')\n",
    "elif points >= 80:\n",
    "    print('grade is B')\n",
    "elif points >= 70:\n",
    "    print('grade is C')"
   ]
  },
  {
   "cell_type": "markdown",
   "id": "8f9a3b76-45ff-4582-bb18-a7a6863cb772",
   "metadata": {
    "editable": true,
    "slideshow": {
     "slide_type": ""
    },
    "tags": []
   },
   "source": [
    "Remember that Python scripts are run “chronologically”, i.e., from the top down.\n",
    "This means, that a script will not automatically go back and re-evaluate if values change. Have a look at this scipt of the speed of a car:"
   ]
  },
  {
   "cell_type": "code",
   "execution_count": 44,
   "id": "22a675ef-b970-48d2-a0e6-707126c5b76f",
   "metadata": {
    "editable": true,
    "slideshow": {
     "slide_type": ""
    },
    "tags": [
     "hide-output"
    ]
   },
   "outputs": [
    {
     "name": "stdout",
     "output_type": "stream",
     "text": [
      "adjusting speed\n"
     ]
    }
   ],
   "source": [
    "speed = 10.0\n",
    "if speed > 20.0:\n",
    "    print('moving too fast')\n",
    "else:\n",
    "    print('adjusting speed')\n",
    "    speed = 50.0"
   ]
  },
  {
   "cell_type": "markdown",
   "id": "22165c80-5607-41e7-9f69-da14432ef516",
   "metadata": {
    "editable": true,
    "slideshow": {
     "slide_type": ""
    },
    "tags": []
   },
   "source": [
    "It stays at adjusting speed as the new assignment of the value `50.0`does not automatically start the script over. \n",
    "\n",
    "Often conditionals are used in a loop to “evolve” the values of variables. This can be done like this:"
   ]
  },
  {
   "cell_type": "code",
   "execution_count": 68,
   "id": "d373f046-79cd-4737-b75b-659079fcbf33",
   "metadata": {
    "editable": true,
    "slideshow": {
     "slide_type": ""
    },
    "tags": [
     "hide-output"
    ]
   },
   "outputs": [
    {
     "name": "stdout",
     "output_type": "stream",
     "text": [
      "0 : 10.0\n",
      "moving too slow\n",
      "1 : 20.0\n",
      "moving too slow\n",
      "2 : 30.0\n",
      "moving too fast\n",
      "3 : 25.0\n",
      "moving too fast\n",
      "4 : 20.0\n",
      "moving too slow\n",
      "final speed: 30.0\n"
     ]
    }
   ],
   "source": [
    "speed = 10.0\n",
    "for i in range(5): # execute the loop 5 times\n",
    "    print(i, ':', speed)\n",
    "    if speed > 20.0:\n",
    "        print('moving too fast')\n",
    "        speed = speed - 5.0\n",
    "    else:\n",
    "        print('moving too slow')\n",
    "        speed = speed + 10.0\n",
    "print('final speed:', speed)"
   ]
  },
  {
   "cell_type": "markdown",
   "id": "22a734e1-44a9-41b3-8a7e-093118663320",
   "metadata": {
    "editable": true,
    "slideshow": {
     "slide_type": ""
    },
    "tags": []
   },
   "source": [
    "___"
   ]
  },
  {
   "cell_type": "markdown",
   "id": "9be86804-b502-4cc7-a02f-b970215ceded",
   "metadata": {
    "editable": true,
    "slideshow": {
     "slide_type": ""
    },
    "tags": []
   },
   "source": [
    "## Compound statements"
   ]
  },
  {
   "cell_type": "markdown",
   "id": "719c4c56-81a7-42cf-98f5-b783da83e192",
   "metadata": {
    "editable": true,
    "slideshow": {
     "slide_type": ""
    },
    "tags": []
   },
   "source": [
    "Often, you want some combination of things to be true.\n",
    "You can combine relations within a conditional using an and/or or.\n",
    "This is called compound statements."
   ]
  },
  {
   "cell_type": "markdown",
   "id": "cf919afb-3f9f-4e6c-9740-715fa9247255",
   "metadata": {
    "editable": true,
    "slideshow": {
     "slide_type": ""
    },
    "tags": []
   },
   "source": [
    "```{seealso} \n",
    "You can read more about compound statements in the [official documentation](https://docs.python.org/3/reference/compound_stmts.html).\n",
    "```"
   ]
  },
  {
   "cell_type": "markdown",
   "id": "06662478-e523-43e6-a5e3-46ab637dc7e2",
   "metadata": {
    "editable": true,
    "slideshow": {
     "slide_type": ""
    },
    "tags": []
   },
   "source": [
    "### Example: Analysing social media impact\n",
    "Imagine you are working on a project to analyse social media posts for a campaign. Your goal is to categorise posts based on their engagement metrics, such as the number of likes and shares, to determine their impact.\\\n",
    "You have data that includes the engagement metrics of various posts, and you want to classify them to understand their effectiveness better."
   ]
  },
  {
   "cell_type": "code",
   "execution_count": 72,
   "id": "1a5c8b2d-71af-4b46-9238-17bd6a236842",
   "metadata": {
    "editable": true,
    "slideshow": {
     "slide_type": ""
    },
    "tags": [
     "hide-output"
    ]
   },
   "outputs": [
    {
     "name": "stdout",
     "output_type": "stream",
     "text": [
      "Moderate impact post. Decent engagement.\n",
      "Moderate impact post. Decent engagement.\n",
      "High impact post. Excellent engagement!\n",
      "Low impact post. Needs improvement.\n",
      "Low impact post. Needs improvement.\n"
     ]
    }
   ],
   "source": [
    "# Lists of engagement metrics: likes and shares for each social media post\n",
    "likes = [300, 150, 800, 100, 50]\n",
    "shares = [50, 30, 120, 10, 20]\n",
    "\n",
    "# Loop through each post's data\n",
    "for i in range(5):\n",
    "    if likes[i] > 500 and shares[i] > 50:\n",
    "        print(\"High impact post. Excellent engagement!\")\n",
    "        \n",
    "    elif likes[i] > 100 and likes[i] <= 500 and shares[i] <= 50:\n",
    "        print(\"Moderate impact post. Decent engagement.\")\n",
    "        \n",
    "    elif likes[i] <= 100 and shares[i] <= 50:\n",
    "        print(\"Low impact post. Needs improvement.\")\n",
    "        \n",
    "    else:\n",
    "        print(\"Unexpected data. Check the engagement metrics.\")\n"
   ]
  },
  {
   "cell_type": "markdown",
   "id": "dc4afe9f-7afa-438e-bf17-7cfc83cfffe4",
   "metadata": {
    "editable": true,
    "slideshow": {
     "slide_type": ""
    },
    "tags": []
   },
   "source": [
    "If no parentheses are used, Python will read code based on [operator precedence](https://docs.python.org/3/reference/expressions.html#operator-precedence).\n",
    "However, a good general rule is to always use parentheses when mixing *and* and *or* in the same condition.\n",
    "That is, instead of:\n",
    "\n",
    "```python\n",
    "if likes[i] <= 100 or shares[i] >= 500 and likes[i] > 50:\n",
    "```"
   ]
  },
  {
   "cell_type": "markdown",
   "id": "dd6c593d-1de3-4c38-a29a-b057ee3a20df",
   "metadata": {
    "editable": true,
    "slideshow": {
     "slide_type": ""
    },
    "tags": []
   },
   "source": [
    "You should write it like one of these two so it is perfectly clear to a reader (and to Python) what you really mean:\n",
    "\n",
    "```python\n",
    "if (likes[i] < 100 or likes[i] > 500) and shares[i] > 50:\n",
    "```\n",
    "Or:\n",
    "```python\n",
    "if likes[i] < 100 or (likes[i] > 500 and shares[i] > 50):\n",
    "```"
   ]
  },
  {
   "cell_type": "markdown",
   "id": "9eaf57d6-4c9a-4f19-b294-bcdf5120b1bd",
   "metadata": {
    "editable": true,
    "slideshow": {
     "slide_type": ""
    },
    "tags": []
   },
   "source": [
    "```{admonition} Notice\n",
    ":class: attention\n",
    "Notice that the two statements above test for something different!\\\n",
    "The first statement requires:\\\n",
    "likes to be outside the range of 100 to 500 *and* the shares to be greater than 50.\\\n",
    "The second statement requires either of these two to be true:\\\n",
    "likes must be smaller than 100,\\\n",
    "or:\\\n",
    "likes must be greater than 500 *and* shares must be greater than 50.\n",
    "```"
   ]
  },
  {
   "cell_type": "markdown",
   "id": "cacbb2f8-c9fd-40b6-8968-fa6075055d0c",
   "metadata": {
    "editable": true,
    "slideshow": {
     "slide_type": ""
    },
    "tags": []
   },
   "source": [
    "___"
   ]
  },
  {
   "cell_type": "markdown",
   "id": "561beea4-326e-43f0-9618-3639a5628b33",
   "metadata": {
    "editable": true,
    "slideshow": {
     "slide_type": ""
    },
    "tags": []
   },
   "source": [
    "## While loops\n",
    "In Python, a while loop allows you to repeatedly execute a block of code as long as a certain condition is true. This can be useful when you want to perform an action multiple times until a specific condition is met."
   ]
  },
  {
   "cell_type": "markdown",
   "id": "6032245a-8ff6-436e-bf92-fbd98909b135",
   "metadata": {
    "editable": true,
    "slideshow": {
     "slide_type": ""
    },
    "tags": []
   },
   "source": [
    "### The `while` syntax\n",
    "The basic structure of a while loop in Python is as follows:"
   ]
  },
  {
   "cell_type": "markdown",
   "id": "31d549a2-3683-45b5-a2c3-f5e972a508a9",
   "metadata": {
    "editable": true,
    "slideshow": {
     "slide_type": ""
    },
    "tags": [
     "remove-output"
    ]
   },
   "source": [
    "```python\n",
    "while condition:\n",
    "    # Code to be executed as long as the condition is true\n",
    "```"
   ]
  },
  {
   "cell_type": "markdown",
   "id": "0095fd54-9155-4264-beee-8cc2e8e38590",
   "metadata": {
    "editable": true,
    "slideshow": {
     "slide_type": ""
    },
    "tags": []
   },
   "source": [
    "The loop will continue to execute as long as the condition remains `True`.\n",
    "Once the condition becomes `False`, the loop will exit."
   ]
  },
  {
   "cell_type": "code",
   "execution_count": 75,
   "id": "f4ae2106-ef8e-4e7a-a0dc-9dda8eb0f611",
   "metadata": {
    "editable": true,
    "slideshow": {
     "slide_type": ""
    },
    "tags": [
     "hide-output"
    ]
   },
   "outputs": [
    {
     "name": "stdout",
     "output_type": "stream",
     "text": [
      "1\n",
      "2\n",
      "3\n",
      "4\n",
      "5\n"
     ]
    }
   ],
   "source": [
    "count = 1\n",
    "while count <= 5:\n",
    "    print(count)\n",
    "    count += 1"
   ]
  },
  {
   "cell_type": "markdown",
   "id": "77a7ef39-74a6-42db-8b2d-eb81aba7de16",
   "metadata": {
    "editable": true,
    "slideshow": {
     "slide_type": ""
    },
    "tags": []
   },
   "source": [
    "In this example, the loop prints numbers from 1 to 5.\n",
    "The count variable is incremented in each iteration until it becomes greater than 5, at which point the condition becomes `False`, and the loop stops."
   ]
  },
  {
   "cell_type": "markdown",
   "id": "152eac10-27ab-4f46-a954-33d532594faf",
   "metadata": {},
   "source": [
    "### Infinite loops"
   ]
  },
  {
   "cell_type": "markdown",
   "id": "4b215ac7-bcb6-4486-ac12-58467d9f79ab",
   "metadata": {
    "editable": true,
    "slideshow": {
     "slide_type": ""
    },
    "tags": []
   },
   "source": [
    "Remember always to set a counter or similiar to make sure the while loop stops at some point. \n",
    "\n",
    "Otherwise, you create an infinite loop!\n",
    "\n",
    "If you accidentally create an infinite loop, you can stop it by pressing the “stop” button (“Interrupt the kernel”) at the top of Jupyter Lab (and similar).\n",
    "If you don’t have a stop button, use CTRL-C to stop the script.\n",
    "\n",
    "Take a look at the code below. What is wrong with it?\n",
    "\n",
    "```python\n",
    "i = 0\n",
    "while True:\n",
    "    print(i)\n",
    "    i += 1\n",
    "```\n",
    "\n",
    "The problem is that the while condition never turns `False`. Thus, the loop will carry on infinitely.\n",
    "A way to stop the loop could be:\n",
    "\n",
    "```python\n",
    "i = 0\n",
    "while i <= 100:\n",
    "    print(i)\n",
    "    i += 1\n",
    "```"
   ]
  },
  {
   "cell_type": "markdown",
   "id": "d036c36e-9f13-4d8b-8bb0-ac5dad5534a3",
   "metadata": {
    "editable": true,
    "slideshow": {
     "slide_type": ""
    },
    "tags": []
   },
   "source": [
    "___"
   ]
  },
  {
   "cell_type": "markdown",
   "id": "c325ff05-4a13-43ca-b40d-6f12b452a3f3",
   "metadata": {
    "editable": true,
    "slideshow": {
     "slide_type": ""
    },
    "tags": []
   },
   "source": [
    "## Exercises"
   ]
  },
  {
   "cell_type": "markdown",
   "id": "498c61cc-b76c-48fe-a043-a2cf4c78834b",
   "metadata": {
    "editable": true,
    "slideshow": {
     "slide_type": ""
    },
    "tags": []
   },
   "source": [
    "### <i class=\"fa-solid fa-pencil\"></i> Exercise 1: What does this program print?\n",
    "Suppose we have a coffee machine that adjusts brewing pressure for making really delicious espresso. The brewing pressure is currently 8.5 bars. What kind of coffee if the machine brewing at the moment?\n"
   ]
  },
  {
   "cell_type": "code",
   "execution_count": 19,
   "id": "2143e9bb-7a0c-4161-9783-97877cc1cbba",
   "metadata": {
    "editable": true,
    "slideshow": {
     "slide_type": ""
    },
    "tags": [
     "hide-output"
    ]
   },
   "outputs": [
    {
     "name": "stdout",
     "output_type": "stream",
     "text": [
      "Brewing delicious strong coffee\n"
     ]
    }
   ],
   "source": [
    "pressure = 8.5  # Brewing pressure in bars\n",
    "\n",
    "if pressure > 7.0:\n",
    "    print(\"Brewing delicious strong coffee\")\n",
    "elif pressure > 5.0:\n",
    "    print(\"Brewing regular coffee\")\n",
    "else:\n",
    "    print(\"Adjusting pressure for delicate espresso\")\n"
   ]
  },
  {
   "cell_type": "markdown",
   "id": "124a77c2-5f9f-49dc-b339-d7d7fbb84258",
   "metadata": {
    "editable": true,
    "slideshow": {
     "slide_type": ""
    },
    "tags": []
   },
   "source": [
    "___"
   ]
  },
  {
   "cell_type": "markdown",
   "id": "63bf2d00-930f-413e-a224-c94bf3a27379",
   "metadata": {
    "editable": true,
    "slideshow": {
     "slide_type": ""
    },
    "tags": []
   },
   "source": [
    "### <i class=\"fa-solid fa-pencil\"></i> Exercise 2: Fill in the blanks"
   ]
  },
  {
   "cell_type": "markdown",
   "id": "cb2073f9-c082-4afc-9cc4-18c6ff93b1ab",
   "metadata": {
    "editable": true,
    "slideshow": {
     "slide_type": ""
    },
    "tags": []
   },
   "source": [
    "Fill in the blanks so that this program creates a new list containing zeroes (0) where the original list’s values were negative and ones (1) where the original list’s values were zero or positive.\n",
    "\n",
    "**Input**\n",
    "\n",
    "```\n",
    "original = [-1.5, 0.2, 0.4, 0.0, -1.3, 0.4]\n",
    "result = ____\n",
    "for value in original:\n",
    "    if ____:\n",
    "        result.append(0)\n",
    "    else:\n",
    "        ____\n",
    "print(result)\n",
    "```"
   ]
  },
  {
   "cell_type": "markdown",
   "id": "0bcec9ab-cbdc-4cd2-9e1e-4c46600bc93f",
   "metadata": {
    "editable": true,
    "slideshow": {
     "slide_type": ""
    },
    "tags": []
   },
   "source": [
    "**Output**\n",
    "```text\n",
    "[0, 1, 1, 1, 0, 1]\n",
    "```"
   ]
  },
  {
   "cell_type": "markdown",
   "id": "0a4de404-0cca-494a-aae2-7763f648dcfd",
   "metadata": {
    "editable": true,
    "slideshow": {
     "slide_type": ""
    },
    "tags": []
   },
   "source": [
    "````{admonition} Solution\n",
    ":class: dropdown\n",
    "\n",
    "```\n",
    "original = [-1.5, 0.2, 0.4, 0.0, -1.3, 0.4]\n",
    "result = []\n",
    "for value in original:\n",
    "   if value < 0:\n",
    "       result.append(0)\n",
    "   else:\n",
    "      result.append(1)\n",
    "print(result)\n",
    "```\n",
    "\n",
    "`````"
   ]
  },
  {
   "cell_type": "markdown",
   "id": "775d358c-a37f-4fd8-95b0-51332edcd38a",
   "metadata": {
    "editable": true,
    "slideshow": {
     "slide_type": ""
    },
    "tags": []
   },
   "source": [
    "___"
   ]
  },
  {
   "cell_type": "markdown",
   "id": "9234c352-7e9d-4da1-b0b4-76c70e94d06c",
   "metadata": {
    "editable": true,
    "slideshow": {
     "slide_type": ""
    },
    "tags": []
   },
   "source": [
    "### <i class=\"fa-solid fa-pencil\"></i> Exercise 3: Using the `input()` function\n",
    "Try out the code below. You will need to copy paste it into your own notebook.\n",
    "\n",
    "What does the script do?\n",
    "What does the function `input()` do?"
   ]
  },
  {
   "cell_type": "code",
   "execution_count": 1,
   "id": "454db57f-1737-43a5-a778-5d692bdf891c",
   "metadata": {
    "editable": true,
    "execution": {
     "iopub.execute_input": "2025-10-03T18:32:18.665515Z",
     "iopub.status.busy": "2025-10-03T18:32:18.664963Z",
     "iopub.status.idle": "2025-10-03T18:32:21.045722Z",
     "shell.execute_reply": "2025-10-03T18:32:21.044452Z",
     "shell.execute_reply.started": "2025-10-03T18:32:18.665450Z"
    },
    "slideshow": {
     "slide_type": ""
    },
    "tags": [
     "remove-output",
     "hide-output"
    ]
   },
   "outputs": [
    {
     "name": "stdin",
     "output_type": "stream",
     "text": [
      "Enter 'quit' to exit:  quit\n"
     ]
    }
   ],
   "source": [
    "user_input = None\n",
    "while user_input != \"quit\":\n",
    "  user_input = input(\"Enter 'quit' to exit: \")"
   ]
  },
  {
   "cell_type": "markdown",
   "id": "2b9cb9c1-940e-4c52-ac66-e3b236b0e6c0",
   "metadata": {
    "editable": true,
    "slideshow": {
     "slide_type": ""
    },
    "tags": []
   },
   "source": [
    "```{admonition} Solution\n",
    ":class: dropdown\n",
    "Before the loop starts, `user_input` is set to `None` to indicate that it has no value yet.\\\n",
    "(`None` is a special value in Python that represents “no value” or “nothing.”)\\\n",
    "This loop continuously asks the user for input until they type “quit.”\\\n",
    "It checks the value of `user_input` in each iteration.\n",
    "````"
   ]
  },
  {
   "cell_type": "markdown",
   "id": "413ac102-6b69-48f7-a6de-eed47d902a73",
   "metadata": {
    "editable": true,
    "slideshow": {
     "slide_type": ""
    },
    "tags": []
   },
   "source": [
    "```{admonition} A note on the input() function\n",
    ":class: attention\n",
    "Note, the return value of the `input()` function is always a string, even if the input value looks like another data type.\n",
    "I.e., if the user inputs `3`, the output will be the string `'3'`.\n",
    "To convert the return value to an integer, you can use the `int()` function.\n",
    "```"
   ]
  },
  {
   "cell_type": "markdown",
   "id": "82655ce8-38d3-4602-bc36-29d762528681",
   "metadata": {
    "editable": true,
    "slideshow": {
     "slide_type": ""
    },
    "tags": []
   },
   "source": [
    "___"
   ]
  },
  {
   "cell_type": "markdown",
   "id": "fc98bf58-31ea-4629-b0f3-72fad69e9fcc",
   "metadata": {
    "editable": true,
    "slideshow": {
     "slide_type": ""
    },
    "tags": []
   },
   "source": [
    "(number-guessing-game)=\n",
    "### <i class=\"fa-solid fa-dice\"></i> Exercise 4: The number guessing game"
   ]
  },
  {
   "cell_type": "markdown",
   "id": "22e45972-1150-4c9f-85b9-f9338c37a5ca",
   "metadata": {
    "editable": true,
    "slideshow": {
     "slide_type": ""
    },
    "tags": []
   },
   "source": [
    "In this final exercise, we will write a Python program for a number guessing game!\n",
    "\n",
    "This exercise builds on the knowledge you have gathered in this course up till now.\n",
    "**Try to solve it without looking at the solution.**\n",
    "\n",
    "Take it easy, don’t sweat it, and have fun writing your first real Python script!\n",
    "\n",
    "**The program should do the following:**\n",
    "\n",
    "1) Generate a random secret number between 1 and 20.\n",
    "2) Ask the user to guess the secret number.\n",
    "3) Provide hints to the user based on their guess:\n",
    "    * If the guess is correct, print “Congratulations! You guessed the correct number.”\n",
    "    * If the guess is too low, print “Too low. Try again.”\n",
    "    * If the guess is too high, print “Too high. Try again.”\n",
    "4) Allow the user to keep guessing until they correctly guess the number.\n",
    "5) Count and display the number of attempts it took for the user to guess correctly.\n",
    "\n",
    "**Requirements:**\n",
    "\n",
    "- Use a `while` loop to repeatedly ask the user for their guess until they guess correctly.\n",
    "- Use `if`, `elif`, and `else` statements to provide appropriate hints based on the user’s guess."
   ]
  },
  {
   "cell_type": "markdown",
   "id": "29e138c7-d7db-4013-b63e-bdf3c9548683",
   "metadata": {
    "editable": true,
    "slideshow": {
     "slide_type": ""
    },
    "tags": []
   },
   "source": [
    "````{admonition} Input & random generator\n",
    ":class: hint\n",
    "- You will need to use the `input()` function introduced in the exercise above.\n",
    "- We expect the users to only type in integers.\n",
    "- You can use the `random` module to generate the secret number. Here’s an example of how to import and use it:\n",
    "\n",
    "```\n",
    "import random\n",
    "# Generate a random secret number between 1 and 20\n",
    "secret_number = random.randint(1, 20)\n",
    "```\n",
    "\n",
    "````"
   ]
  },
  {
   "cell_type": "markdown",
   "id": "92b9da40-d131-4909-952f-c06077cc497b",
   "metadata": {
    "editable": true,
    "slideshow": {
     "slide_type": ""
    },
    "tags": []
   },
   "source": [
    "You will need your output to look something like this:\n",
    "\n",
    "**Output**"
   ]
  },
  {
   "cell_type": "markdown",
   "id": "acaba8d4-d8c8-4f6d-bee8-8f6ed7a94f65",
   "metadata": {
    "editable": true,
    "slideshow": {
     "slide_type": ""
    },
    "tags": []
   },
   "source": [
    "```\n",
    "Welcome to the Number Guessing Game!\n",
    "\n",
    "Guess the secret number (1-20): 10\n",
    "Too low. Try again.\n",
    "\n",
    "Guess the secret number (1-20): 15\n",
    "Too high. Try again.\n",
    "\n",
    "Guess the secret number (1-20): 12\n",
    "Congratulations! You guessed the correct number in 3 attempts.\n",
    "```"
   ]
  },
  {
   "cell_type": "markdown",
   "id": "ed6b20c3-833f-4cb4-8c87-731a92d59cdf",
   "metadata": {
    "editable": true,
    "slideshow": {
     "slide_type": ""
    },
    "tags": []
   },
   "source": [
    "````{admonition} Solution\n",
    ":class: dropdown\n",
    "This problem can be solved in more than one way. However, this is how we would recommend it done to provide clarity and to use the skills you have learned so far.\n",
    "```\n",
    "import random\n",
    "\n",
    "# Generate a random secret number between 1 and 20\n",
    "secret_number = random.randint(1, 20)\n",
    "\n",
    "# Keep track of the number of attempts\n",
    "attempts = 0\n",
    "\n",
    "# Initialise the variable to store the user's guess\n",
    "user_guess = None  \n",
    "\n",
    "print(\"Welcome to the Number Guessing Game!\")\n",
    "\n",
    "# Continue looping until the correct number is guessed\n",
    "while user_guess != secret_number:\n",
    "    # Ask the user to guess the secret number\n",
    "    user_guess = int(input(\"Guess the secret number (1-20): \"))\n",
    "\n",
    "    # Increase the attempts counter\n",
    "    attempts = attempts + 1\n",
    "\n",
    "    # Compare the guess with the secret number\n",
    "    if user_guess == secret_number:\n",
    "        print(\"Congratulations! You guessed the correct number in\", attempts, \"attempts.\")\n",
    "    elif user_guess < secret_number:\n",
    "        print(\"Too low. Try again.\")\n",
    "    else:\n",
    "        print(\"Too high. Try again.\")\n",
    "```\n",
    "\n",
    "**Note:** At this stage, the game will crash if the user types something that is not an integer.\\\n",
    "If you want to learn how to handle such cases gracefully, take a look at the chapter on [Error Handling](99_try_except).\n",
    "\n",
    "`````"
   ]
  },
  {
   "cell_type": "markdown",
   "id": "718f3037-ddf6-44cb-afd0-05a8da829416",
   "metadata": {
    "editable": true,
    "slideshow": {
     "slide_type": ""
    },
    "tags": []
   },
   "source": [
    "___"
   ]
  },
  {
   "cell_type": "markdown",
   "id": "7c825347-d514-45df-841b-bc642825c6fb",
   "metadata": {
    "editable": true,
    "slideshow": {
     "slide_type": ""
    },
    "tags": []
   },
   "source": [
    "## Key points\n",
    "* Use `if` statements to control whether or not a block of code is executed.\n",
    "\n",
    "* Conditionals are often used inside loops.\n",
    "\n",
    "* Use `else` to execute a block of code when an if condition is **not** true.\n",
    "\n",
    "* Use `elif` to specify additional tests.\n",
    "\n",
    "* Conditions are tested once, in order.\n",
    "\n",
    "* A `while` loop allows you to repeatedly execute a block of code as long as a certain condition is true."
   ]
  }
 ],
 "metadata": {
  "kernelspec": {
   "display_name": "Python 3 (ipykernel)",
   "language": "python",
   "name": "python3"
  },
  "language_info": {
   "codemirror_mode": {
    "name": "ipython",
    "version": 3
   },
   "file_extension": ".py",
   "mimetype": "text/x-python",
   "name": "python",
   "nbconvert_exporter": "python",
   "pygments_lexer": "ipython3",
   "version": "3.13.5"
  }
 },
 "nbformat": 4,
 "nbformat_minor": 5
}
