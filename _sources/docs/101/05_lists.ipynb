{
 "cells": [
  {
   "cell_type": "markdown",
   "id": "1873eb93-cfa5-49e2-90de-425677ad7ce5",
   "metadata": {
    "editable": true,
    "slideshow": {
     "slide_type": ""
    },
    "tags": []
   },
   "source": [
    "# Lists"
   ]
  },
  {
   "cell_type": "markdown",
   "id": "1834a0e1-e789-43a3-a094-f0695add9e27",
   "metadata": {},
   "source": [
    "```{admonition} Learning Objectives\n",
    "\n",
    "Questions:\n",
    "* How can I store multiple items?\n",
    "\n",
    "Objectives:\n",
    "* Explain why programs need collections of items.\n",
    "* Write programs that create lists, index them, slice them, and modify them through assignment and method calls."
   ]
  },
  {
   "cell_type": "markdown",
   "id": "e370ffb0-a789-4771-b786-a17a0c5c4d6e",
   "metadata": {},
   "source": [
    "---"
   ]
  },
  {
   "cell_type": "markdown",
   "id": "482136b1-90ed-4ef0-9ed2-9359b1022d1c",
   "metadata": {},
   "source": [
    "## What are Lists?\n",
    "\n",
    "A list is a Python data type that stores many items in a single structure.\n",
    "\n",
    "Scenario: You have set up an thermometer to do temperature measurements in a storage room for rare books.\n",
    "\n",
    "*   Doing calculations with a hundred variables called `temperature_001`, `temperature_002`, etc.,\n",
    "    would be at least as slow as doing them by hand.\n",
    "*   Use a *list* to store many items together.\n",
    "    *   List items are contained within square brackets `[...]`.\n",
    "    *   List items are separated by commas `,`.\n",
    "    *   List items are ordered by their index number.\n",
    "*   Use `len()` to find out how many items are in a list."
   ]
  },
  {
   "cell_type": "code",
   "execution_count": 1,
   "id": "267322d9-a5ea-4f3f-9392-c15af332ceb3",
   "metadata": {},
   "outputs": [
    {
     "name": "stdout",
     "output_type": "stream",
     "text": [
      "temperatures: [17.3, 17.5, 17.7, 17.5, 17.6]\n",
      "length: 5\n"
     ]
    }
   ],
   "source": [
    "temperatures = [17.3, 17.5, 17.7, 17.5, 17.6]\n",
    "print('temperatures:', temperatures)\n",
    "print('length:', len(temperatures))"
   ]
  },
  {
   "cell_type": "markdown",
   "id": "77df7b37-2e1e-411e-8f1b-ffc0d53179ea",
   "metadata": {},
   "source": [
    "### Indexing Lists\n",
    "\n",
    "We can use an item's index to fetch it from a list.\n",
    "\n",
    "*   Just like with strings, we can use index to find a given item in a list.\n",
    "*   And just like with strings, the elements in a list are 0-indexed. (See lesson about [Data Types](01_data_types).)"
   ]
  },
  {
   "cell_type": "code",
   "execution_count": 2,
   "id": "58862428-c86c-407c-a99e-f22795ab5685",
   "metadata": {},
   "outputs": [
    {
     "name": "stdout",
     "output_type": "stream",
     "text": [
      "zeroth item of temperatures: 17.3\n",
      "fourth item of temperatures: 17.6\n"
     ]
    }
   ],
   "source": [
    "print('zeroth item of temperatures:', temperatures[0])\n",
    "print('fourth item of temperatures:', temperatures[4])"
   ]
  },
  {
   "cell_type": "markdown",
   "id": "7610d2a3-7ee8-45f4-ad36-e77cd2b01cbd",
   "metadata": {},
   "source": [
    "### Slicing Lists\n",
    "\n",
    "Just like with strings, we can use indexing syntax to slice lists.\n",
    "\n",
    "*   If `l` is a list, an expression of the form `l[start:stop]` returns the portion of `l` starting with position `start`, and up to ***but not including*** position `stop`.\n",
    "*   Take a look at the example with the list of temperatures:"
   ]
  },
  {
   "cell_type": "code",
   "execution_count": 3,
   "id": "2311d584-681c-4d80-81dc-154aa714fb4d",
   "metadata": {},
   "outputs": [
    {
     "name": "stdout",
     "output_type": "stream",
     "text": [
      "[17.3, 17.5, 17.7, 17.5, 17.6]\n",
      "[17.5, 17.7, 17.5]\n"
     ]
    }
   ],
   "source": [
    "print(temperatures)\n",
    "print(temperatures[1:4])"
   ]
  },
  {
   "cell_type": "markdown",
   "id": "5a41471d-6de4-4a42-8b71-240bc18b9c7a",
   "metadata": {},
   "source": [
    "### Replacing List Items\n",
    "\n",
    "Lists' items can be replaced by assigning to them.\n",
    "\n",
    "* Use an index expression on the left of the assignment operator (`=`) to replace a value:"
   ]
  },
  {
   "cell_type": "code",
   "execution_count": 4,
   "id": "b19fc7fe-fce8-46fe-a1fb-329c349c58b9",
   "metadata": {},
   "outputs": [
    {
     "name": "stdout",
     "output_type": "stream",
     "text": [
      "temperatures is now: [16.5, 17.5, 17.7, 17.5, 17.6]\n"
     ]
    }
   ],
   "source": [
    "temperatures[0] = 16.5\n",
    "print('temperatures is now:', temperatures)"
   ]
  },
  {
   "cell_type": "markdown",
   "id": "760be006-411f-46bf-b1ac-a3cd955cb7bf",
   "metadata": {},
   "source": [
    "### Appending to Lists\n",
    "\n",
    "Appending items to a list lengthens it.\n",
    "\n",
    "* Use `list_name.append` to add items to the end of a list:"
   ]
  },
  {
   "cell_type": "code",
   "execution_count": 5,
   "id": "8d9af867-52e9-48f3-bfa6-f98ccfdda2f4",
   "metadata": {},
   "outputs": [
    {
     "name": "stdout",
     "output_type": "stream",
     "text": [
      "temperatures is initially: [16.5, 17.5, 17.7, 17.5, 17.6]\n",
      "temperatures has become: [16.5, 17.5, 17.7, 17.5, 17.6, 17.9, 18.2]\n"
     ]
    }
   ],
   "source": [
    "print('temperatures is initially:', temperatures)\n",
    "temperatures.append(17.9)\n",
    "temperatures.append(18.2)\n",
    "print('temperatures has become:', temperatures)"
   ]
  },
  {
   "cell_type": "markdown",
   "id": "571fdf62-4aad-4b76-8fc2-1aed42b865ca",
   "metadata": {},
   "source": [
    "*   `.append()` is a *method* of lists.\n",
    "    *   A method is similar to a function, but tied to a particular object.\n",
    "*   Use `object_name.method_name` to call methods.\n",
    "*   Use `help(list)` for a preview."
   ]
  },
  {
   "cell_type": "markdown",
   "id": "03aab984-5734-4c4c-958e-43594496ec6e",
   "metadata": {},
   "source": [
    "```{admonition} Table of List Methods\n",
    ":class: tip dropdown\n",
    "\n",
    "For more in-depth information, see the [Python Documentation](https://docs.python.org/3/tutorial/datastructures.html).\n",
    "\n",
    "```{list-table}\n",
    ":header-rows: 1\n",
    "\n",
    "* - Method\n",
    "  - Description\n",
    "* - `append()`\n",
    "  - Adds an element at the end of the list\n",
    "* - `clear()`\n",
    "  - Removes all the elements from the list\n",
    "* - `copy()`\n",
    "  - Returns a copy of the list\n",
    "* - `count()`\n",
    "  - Returns the number of elements with the specified value\n",
    "* - `extend()`\n",
    "  - Adds the elements of a list (or any iterable), to the end of the current list\n",
    "* - `index()`\n",
    "  - Returns the index of the first element with the specified value\n",
    "* - `insert()`\n",
    "  - Adds an element at the specified position\n",
    "* - `max()`\n",
    "  - Calculates the maximum of all the elements of the list\n",
    "* - `min()`\n",
    "  - Calculates the minimum of all the elements of the list\n",
    "* - `pop()`\n",
    "  - Removes the element at the specified position\n",
    "* - `remove()`\n",
    "  - Removes the first item with the specified value\n",
    "* - `reverse()`\n",
    "  - Reverses the order of the list\n",
    "* - `sort()`\n",
    "  - Sorts the list\n",
    "```"
   ]
  },
  {
   "cell_type": "markdown",
   "id": "0088d21d-359d-49d7-8bca-83e4f32e7654",
   "metadata": {},
   "source": [
    "### Deleting List Items\n",
    "\n",
    "We can use `del` to remove items from a list entirely.\n",
    "\n",
    "*   `del list_name[index]` removes an item from a list and shortens the list.\n",
    "*   `del` is not a function or a method, but a statement in the Python language."
   ]
  },
  {
   "cell_type": "code",
   "execution_count": 6,
   "id": "30d61e97-0ed4-415f-b71f-cc4813bcb4f3",
   "metadata": {},
   "outputs": [
    {
     "name": "stdout",
     "output_type": "stream",
     "text": [
      "numbers before removing last item: [2, 3, 5, 7, 11]\n",
      "numbers after removing last item: [2, 3, 5, 7]\n"
     ]
    }
   ],
   "source": [
    "numbers = [2, 3, 5, 7, 11]\n",
    "print('numbers before removing last item:', numbers)\n",
    "del numbers[4]\n",
    "print('numbers after removing last item:', numbers)"
   ]
  },
  {
   "cell_type": "markdown",
   "id": "08834347-5acd-41d8-aa29-e47076aa1147",
   "metadata": {},
   "source": [
    "```{warning}\n",
    "If we don't add an index, the whole list will be deleted!\n",
    "\n",
    "I.e., `del list_name` will delete the whole `list_name`."
   ]
  },
  {
   "cell_type": "markdown",
   "id": "479d2e51-15bb-4279-8458-d4c4d50a5acf",
   "metadata": {},
   "source": [
    "---"
   ]
  },
  {
   "cell_type": "markdown",
   "id": "500cef6c-2e75-4590-8c39-30e6e2a42644",
   "metadata": {},
   "source": [
    "## Empty Lists\n",
    "\n",
    "The empty list contains no items.\n",
    "\n",
    "*   Use `[]` on its own to represent a list that doesn't contain any items.\n",
    "    *   \"The zero of lists.\"\n",
    "*   Helpful as a starting point for collecting values (which we will see in the next episode about [For Loops](06_for_loops)."
   ]
  },
  {
   "cell_type": "markdown",
   "id": "7cfe58f3-6cc5-4379-9de7-f4014cfa0d71",
   "metadata": {},
   "source": [
    "---"
   ]
  },
  {
   "cell_type": "markdown",
   "id": "00bc6486-2339-40b5-a4d0-e1f4dcf9f267",
   "metadata": {},
   "source": [
    "## Lists may contain items of different data types\n",
    "\n",
    "A single list may contain numbers, strings, and anything else."
   ]
  },
  {
   "cell_type": "code",
   "execution_count": 1,
   "id": "876d2bc2-419b-41f0-8c1a-16b38e4763a6",
   "metadata": {},
   "outputs": [
    {
     "name": "stdout",
     "output_type": "stream",
     "text": [
      "[1, 'Create lists.', 2, 'Extract items from lists.', 3, 'Modify lists.']\n"
     ]
    }
   ],
   "source": [
    "goals = [1, 'Create lists.', 2, 'Extract items from lists.', 3, 'Modify lists.']\n",
    "print(goals)"
   ]
  },
  {
   "cell_type": "markdown",
   "id": "198238c1-9414-488a-ae55-17deb9f92af8",
   "metadata": {},
   "source": [
    "## Lists are mutable\n",
    "\n",
    "In Python, _mutable_ data types, such as lists, are data structures that can be modified or changed after they are created. This means you can add, remove, or modify elements within a list without creating a new list.\n",
    "\n",
    "For example, you can append new items, insert items at specific positions, remove items, and change the values of existing items in a list. This behavior contrasts with _immutable_ data types, like integers, floats, and strings, where once created, their contents cannot be altered without creating a new object. (This was briefly mentioned in the lesson about [Variables and Assignment](02_variables_and_assignment).)"
   ]
  },
  {
   "cell_type": "markdown",
   "id": "606c6a32-dd8d-4f5b-94b2-0c4b6bc599bc",
   "metadata": {},
   "source": [
    "### Character strings are immutable\n",
    "\n",
    "Remember that you can get single characters from a character string using indexes in square brackets:"
   ]
  },
  {
   "cell_type": "code",
   "execution_count": 2,
   "id": "ae94b7a4-f788-49e4-9c23-a9019b7d2446",
   "metadata": {},
   "outputs": [
    {
     "name": "stdout",
     "output_type": "stream",
     "text": [
      "zeroth character: c\n",
      "third character: b\n"
     ]
    }
   ],
   "source": [
    "element = 'carbon'\n",
    "print('zeroth character:', element[0])\n",
    "print('third character:', element[3])"
   ]
  },
  {
   "cell_type": "markdown",
   "id": "cdb9ea31-fb5c-4c52-8078-90cfb18cc272",
   "metadata": {},
   "source": [
    "Lists and character strings are both *collections*.\n",
    "\n",
    "**But!**\n",
    "\n",
    "*   You cannot alter the characters in a string after it has been created.\n",
    "    *   *Immutable*: cannot be changed after creation. E.g., strings.\n",
    "    *   In contrast, lists are *mutable*: they can be modified in place.\n",
    "*   Python considers the string to be a single value with parts,\n",
    "    not a collection of values."
   ]
  },
  {
   "cell_type": "code",
   "execution_count": 3,
   "id": "7cf52e1c-e516-4b3b-b58c-20bc2fa8e7a2",
   "metadata": {},
   "outputs": [
    {
     "ename": "TypeError",
     "evalue": "'str' object does not support item assignment",
     "output_type": "error",
     "traceback": [
      "\u001b[0;31m---------------------------------------------------------------------------\u001b[0m",
      "\u001b[0;31mTypeError\u001b[0m                                 Traceback (most recent call last)",
      "Cell \u001b[0;32mIn[3], line 1\u001b[0m\n\u001b[0;32m----> 1\u001b[0m \u001b[43melement\u001b[49m\u001b[43m[\u001b[49m\u001b[38;5;241;43m0\u001b[39;49m\u001b[43m]\u001b[49m \u001b[38;5;241m=\u001b[39m \u001b[38;5;124m'\u001b[39m\u001b[38;5;124mC\u001b[39m\u001b[38;5;124m'\u001b[39m\n",
      "\u001b[0;31mTypeError\u001b[0m: 'str' object does not support item assignment"
     ]
    }
   ],
   "source": [
    "element[0] = 'C'"
   ]
  },
  {
   "cell_type": "markdown",
   "id": "85833fc2-6314-4aef-8e82-bec5a619739c",
   "metadata": {},
   "source": [
    "````{admonition} Notice the difference between overwriting and changing values\n",
    ":class: note\n",
    "\n",
    "In Python, when you use the assignment operator (`=`) with a variable (*and not a variable index!*), it doesn't change the original value of the variable.\n",
    "\n",
    "Instead, it replaces the current value of the variable with the new value on the right-hand side of the assignment."
   ]
  },
  {
   "cell_type": "code",
   "execution_count": 5,
   "id": "c9931294-e24b-4ebc-b805-ff5d75d58587",
   "metadata": {},
   "outputs": [
    {
     "name": "stdout",
     "output_type": "stream",
     "text": [
      "carbon\n",
      "helium\n"
     ]
    }
   ],
   "source": [
    "element = 'carbon'\n",
    "print(element)\n",
    "element = 'helium'\n",
    "print(element)"
   ]
  },
  {
   "cell_type": "markdown",
   "id": "487d1dc4-53f8-45fb-8190-44ecc563a11f",
   "metadata": {},
   "source": [
    "In the code above, the variable `element` initially holds the value 'carbon', but when the second line is executed, it is overwritten with the new value 'helium'.\n",
    "\n",
    "The old value 'carbon' is effectively discarded, and `element` now contains 'helium'.\n",
    "\n",
    "In contrast, when assigning to a list index:"
   ]
  },
  {
   "cell_type": "code",
   "execution_count": 6,
   "id": "cf1c71ab-019b-478b-85c3-7ff45f49c0c9",
   "metadata": {},
   "outputs": [
    {
     "name": "stdout",
     "output_type": "stream",
     "text": [
      "['carbon', 'helium']\n",
      "['hydrogen', 'helium']\n"
     ]
    }
   ],
   "source": [
    "elements = ['carbon', 'helium']\n",
    "print(elements)\n",
    "elements[0] = 'hydrogen'\n",
    "print(elements)"
   ]
  },
  {
   "cell_type": "markdown",
   "id": "d5278bb0-974f-4fae-afa8-1c93c545d6ed",
   "metadata": {},
   "source": [
    "We don't overwrite the variable `elements` but rather we *change* the content of the zeroth index.\n",
    "\n",
    "Thus, the difference between *immutable* and *mutable* data types."
   ]
  },
  {
   "cell_type": "markdown",
   "id": "7a6cc1a4-7603-44f6-be14-85b05246267d",
   "metadata": {},
   "source": [
    "## Indexing Beyond the End\n",
    "\n",
    "Indexing beyond the end of the collection is an error.\n",
    "\n",
    "*   Python reports an `IndexError` if we attempt to access a value that doesn't exist.\n",
    "    *   This is a kind of [runtime error](04_built-in_functions)."
   ]
  },
  {
   "cell_type": "code",
   "execution_count": 7,
   "id": "a0f79ff0-7a66-4056-b20b-97b9de45f6cd",
   "metadata": {},
   "outputs": [
    {
     "ename": "IndexError",
     "evalue": "string index out of range",
     "output_type": "error",
     "traceback": [
      "\u001b[0;31m---------------------------------------------------------------------------\u001b[0m",
      "\u001b[0;31mIndexError\u001b[0m                                Traceback (most recent call last)",
      "Cell \u001b[0;32mIn[7], line 1\u001b[0m\n\u001b[0;32m----> 1\u001b[0m \u001b[38;5;28mprint\u001b[39m(\u001b[38;5;124m'\u001b[39m\u001b[38;5;124m99th element of element is:\u001b[39m\u001b[38;5;124m'\u001b[39m, \u001b[43melement\u001b[49m\u001b[43m[\u001b[49m\u001b[38;5;241;43m99\u001b[39;49m\u001b[43m]\u001b[49m)\n",
      "\u001b[0;31mIndexError\u001b[0m: string index out of range"
     ]
    }
   ],
   "source": [
    "print('99th element of element is:', element[99])"
   ]
  },
  {
   "cell_type": "markdown",
   "id": "edcc986d-bb97-4a51-a79b-7e1e77df9d1f",
   "metadata": {},
   "source": [
    "---"
   ]
  },
  {
   "cell_type": "markdown",
   "id": "6cdba854-3e6c-464a-ba71-288a7cc3bc4a",
   "metadata": {},
   "source": [
    "## Exercises"
   ]
  },
  {
   "cell_type": "markdown",
   "id": "cc56d742-8e0f-4185-b78b-0b07efee2986",
   "metadata": {
    "editable": true,
    "slideshow": {
     "slide_type": ""
    },
    "tags": []
   },
   "source": [
    "### Exercise 1: Fill in the Blanks\n",
    "\n",
    "Fill in the blanks so that the program below produces the output shown.\n",
    "\n",
    "```text\n",
    "values = ____\n",
    "values.____(1)\n",
    "values.____(3)\n",
    "values.____(5)\n",
    "print('first time:', values)\n",
    "values = values[____]\n",
    "print('second time:', values)\n",
    "```\n",
    "```text\n",
    "first time: [1, 3, 5]\n",
    "second time: [3, 5]\n",
    "```\n",
    "\n",
    "````{admonition} Solution\n",
    ":class: dropdown\n",
    "\n",
    "```python\n",
    "values = []\n",
    "values.append(1)\n",
    "values.append(3)\n",
    "values.append(5)\n",
    "print('first time:', values)\n",
    "values = values[1:3]\n",
    "print('second time:', values)\n",
    "```\n",
    "```text\n",
    "first time: [1, 3, 5]\n",
    "second time: [3, 5]\n",
    "```"
   ]
  },
  {
   "cell_type": "markdown",
   "id": "c944d878-b5f7-49ba-bcb8-dbec8da9fc47",
   "metadata": {
    "editable": true,
    "slideshow": {
     "slide_type": ""
    },
    "tags": []
   },
   "source": [
    "---"
   ]
  },
  {
   "cell_type": "markdown",
   "id": "be6bc02e-2cf0-4b6b-acf4-5f50bef29e93",
   "metadata": {},
   "source": [
    "### Exercise 2: How Large is a Slice?\n",
    "\n",
    "If 'low' and 'high' are both non-negative integers, how long is the list `values[low:high]`?\n",
    "\n",
    "```{admonition} Solution\n",
    ":class: dropdown\n",
    "\n",
    "The list's length would be equal to `high` minus `low`."
   ]
  },
  {
   "cell_type": "markdown",
   "id": "e7f25c7e-3d99-4359-92d7-74845f504977",
   "metadata": {},
   "source": [
    "---"
   ]
  },
  {
   "cell_type": "markdown",
   "id": "955c40bc-c67f-41eb-aeb6-f20a7d6c2239",
   "metadata": {},
   "source": [
    "### Exercise 3: Working With the End\n",
    "\n",
    "What does the following program print?"
   ]
  },
  {
   "cell_type": "code",
   "execution_count": 9,
   "id": "d0e06b85-2600-4343-9151-df70ffcace52",
   "metadata": {
    "editable": true,
    "slideshow": {
     "slide_type": ""
    },
    "tags": [
     "hide-output"
    ]
   },
   "outputs": [
    {
     "name": "stdout",
     "output_type": "stream",
     "text": [
      "m\n"
     ]
    }
   ],
   "source": [
    "element = 'helium'\n",
    "print(element[-1])"
   ]
  },
  {
   "cell_type": "markdown",
   "id": "c417e74c-327f-4e2e-9d29-f085f8030510",
   "metadata": {
    "editable": true,
    "slideshow": {
     "slide_type": ""
    },
    "tags": []
   },
   "source": [
    "1.  How does Python interpret a negative index?\n",
    "2.  If a list or string has N elements, what is the most negative index that can safely be used with it, and what location does that index represent?\n",
    "3.  If `values` is a list, what does `del values[-1]` do?\n",
    "4.  How can you display all elements but the last one without changing `values`?\\\n",
    "    (Hint: you will need to combine slicing and negative indexing.)\n",
    "\n",
    "```{admonition} Solution\n",
    ":class: dropdown\n",
    "\n",
    "1.  A negative index begins at the final element.\n",
    "2.  `-(N)` corresponds to the first index, which is the [0] index.\n",
    "3.  It removes the final element of the list.\n",
    "4.  You could do the following: `print(values[0:-1])`"
   ]
  },
  {
   "cell_type": "markdown",
   "id": "5b97378c-0114-48b6-b4cf-a00edc09f3d5",
   "metadata": {
    "editable": true,
    "slideshow": {
     "slide_type": ""
    },
    "tags": []
   },
   "source": [
    "---"
   ]
  },
  {
   "cell_type": "markdown",
   "id": "0fef4239-b2a4-4fe8-8af6-206e166a9a4a",
   "metadata": {
    "editable": true,
    "slideshow": {
     "slide_type": ""
    },
    "tags": []
   },
   "source": [
    "### Exercise 4: Stepping Through a List\n",
    "\n",
    "What does the following program print?"
   ]
  },
  {
   "cell_type": "code",
   "execution_count": 10,
   "id": "279e9298-aa09-4b5d-a0ba-9d5bfb65c4d0",
   "metadata": {
    "editable": true,
    "slideshow": {
     "slide_type": ""
    },
    "tags": [
     "hide-output"
    ]
   },
   "outputs": [
    {
     "name": "stdout",
     "output_type": "stream",
     "text": [
      "furn\n",
      "eniroulf\n"
     ]
    }
   ],
   "source": [
    "element = 'fluorine'\n",
    "print(element[::2])\n",
    "print(element[::-1])"
   ]
  },
  {
   "cell_type": "markdown",
   "id": "e1d9aff6-3215-492b-8b4b-abd6ef3d78d3",
   "metadata": {
    "editable": true,
    "slideshow": {
     "slide_type": ""
    },
    "tags": []
   },
   "source": [
    "1.  If we write a slice as `low:high:stride`, what does `stride` do?\n",
    "2.  What expression would select all of the even-numbered items from a collection?\n",
    "\n",
    "```{admonition} Solution\n",
    ":class: dropdown\n",
    "\n",
    "1.  `stride` indicates both the number of steps, and from which end: positive starts from first element, negative from the last element. \n",
    "2.  `element[1::2]`"
   ]
  },
  {
   "cell_type": "markdown",
   "id": "160ba306-e562-4d5b-9d0e-bbc0cbf78b1e",
   "metadata": {
    "editable": true,
    "slideshow": {
     "slide_type": ""
    },
    "tags": []
   },
   "source": [
    "---"
   ]
  },
  {
   "cell_type": "markdown",
   "id": "683153c5-14b2-4612-a067-9218a75abe35",
   "metadata": {
    "editable": true,
    "slideshow": {
     "slide_type": ""
    },
    "tags": []
   },
   "source": [
    "### Exercise 5: Slice Bounds\n",
    "\n",
    "What does the following program print?"
   ]
  },
  {
   "cell_type": "code",
   "execution_count": 22,
   "id": "0c1806f6-145f-4a92-ab0d-7a1128b05044",
   "metadata": {
    "editable": true,
    "slideshow": {
     "slide_type": ""
    },
    "tags": [
     "hide-output"
    ]
   },
   "outputs": [
    {
     "name": "stdout",
     "output_type": "stream",
     "text": [
      "i\n",
      "\n",
      "lithium\n"
     ]
    }
   ],
   "source": [
    "element = 'lithium'\n",
    "print(element[1:2])\n",
    "print(element[-1:3])\n",
    "print(element[0:20])"
   ]
  },
  {
   "cell_type": "markdown",
   "id": "a26a39b9-04c2-4802-a6d4-9d37e829bada",
   "metadata": {
    "editable": true,
    "slideshow": {
     "slide_type": ""
    },
    "tags": []
   },
   "source": [
    "```{admonition} Solution\n",
    ":class: dropdown\n",
    "\n",
    "1. Index `[1]` is the second character `i` (remember, Python is zero indexed). It goes up to but not including index `[2]`. Thus, only `i` is printed.\n",
    "2. There is no element after index `[-1]`, so an empty line is printed.\n",
    "3. There is no index `[20]`, so the entire string is captured and printed.\n",
    "```"
   ]
  },
  {
   "cell_type": "markdown",
   "id": "64882f79-9ed7-4eaa-bd2c-e57e39e9762b",
   "metadata": {
    "editable": true,
    "slideshow": {
     "slide_type": ""
    },
    "tags": []
   },
   "source": [
    "---"
   ]
  },
  {
   "cell_type": "markdown",
   "id": "b2a144f2-c634-4e1e-9f21-8d853d737f49",
   "metadata": {
    "editable": true,
    "slideshow": {
     "slide_type": ""
    },
    "tags": []
   },
   "source": [
    "### Exercises 6: Sort and Sorted\n",
    "\n",
    "What do these two programs print?\n",
    "\n",
    "In simple terms, explain the difference between `sorted(letters)` and `letters.sort()`."
   ]
  },
  {
   "cell_type": "code",
   "execution_count": 17,
   "id": "db5923b7-86e5-4dca-b2d6-30db8112ba1d",
   "metadata": {
    "editable": true,
    "slideshow": {
     "slide_type": ""
    },
    "tags": [
     "hide-output"
    ]
   },
   "outputs": [
    {
     "name": "stdout",
     "output_type": "stream",
     "text": [
      "letters is ['g', 'o', 'l', 'd'] and result is ['d', 'g', 'l', 'o']\n"
     ]
    }
   ],
   "source": [
    "# Using sorted()\n",
    "letters = list('gold')\n",
    "result = sorted(letters)\n",
    "print('letters is', letters, 'and result is', result)"
   ]
  },
  {
   "cell_type": "code",
   "execution_count": 18,
   "id": "05e72b14-911d-4db6-86f4-e2a258997ffe",
   "metadata": {
    "editable": true,
    "slideshow": {
     "slide_type": ""
    },
    "tags": [
     "hide-output"
    ]
   },
   "outputs": [
    {
     "name": "stdout",
     "output_type": "stream",
     "text": [
      "letters is ['d', 'g', 'l', 'o'] and result is None\n"
     ]
    }
   ],
   "source": [
    "# Using .sort()\n",
    "letters = list('gold')\n",
    "result = letters.sort()\n",
    "print('letters is', letters, 'and result is', result)"
   ]
  },
  {
   "cell_type": "markdown",
   "id": "5a3382fe-ee99-4c7e-bef7-e586f98eaa72",
   "metadata": {
    "editable": true,
    "slideshow": {
     "slide_type": ""
    },
    "tags": []
   },
   "source": [
    "```{admonition} Solution\n",
    ":class: dropdown\n",
    "\n",
    "`sorted(letters)` returns a sorted copy of the list without changing the original list, while `letters.sort()` sorts the original list but does not return anything, i.e. returns `None`.\n",
    "```"
   ]
  },
  {
   "cell_type": "markdown",
   "id": "b455fe11-64f6-4115-bda8-5a61920a5939",
   "metadata": {
    "editable": true,
    "slideshow": {
     "slide_type": ""
    },
    "tags": []
   },
   "source": [
    "---"
   ]
  },
  {
   "cell_type": "markdown",
   "id": "89c378fb-9fec-4493-9a15-9a857835ffca",
   "metadata": {
    "editable": true,
    "slideshow": {
     "slide_type": ""
    },
    "tags": []
   },
   "source": [
    "### Exercise 7: Copying (or Not)\n",
    "\n",
    "What do these two programs print?\n",
    "\n",
    "In simple terms, explain the difference between `new = old` and `new = old[:]`."
   ]
  },
  {
   "cell_type": "code",
   "execution_count": 19,
   "id": "2908d9dd-5f85-4eee-8232-a832798ecc36",
   "metadata": {
    "editable": true,
    "slideshow": {
     "slide_type": ""
    },
    "tags": [
     "hide-output"
    ]
   },
   "outputs": [
    {
     "name": "stdout",
     "output_type": "stream",
     "text": [
      "new is ['D', 'o', 'l', 'd'] and old is ['D', 'o', 'l', 'd']\n"
     ]
    }
   ],
   "source": [
    "old = list('gold')\n",
    "new = old      # simple assignment\n",
    "new[0] = 'D'\n",
    "print('new is', new, 'and old is', old)"
   ]
  },
  {
   "cell_type": "code",
   "execution_count": 20,
   "id": "b64d0621-d252-4425-a7c7-043d4b61ca57",
   "metadata": {
    "editable": true,
    "slideshow": {
     "slide_type": ""
    },
    "tags": [
     "hide-output"
    ]
   },
   "outputs": [
    {
     "name": "stdout",
     "output_type": "stream",
     "text": [
      "new is ['D', 'o', 'l', 'd'] and old is ['g', 'o', 'l', 'd']\n"
     ]
    }
   ],
   "source": [
    "old = list('gold')\n",
    "new = old[:]   # assigning a slice\n",
    "new[0] = 'D'\n",
    "print('new is', new, 'and old is', old)"
   ]
  },
  {
   "cell_type": "markdown",
   "id": "356236aa-4663-47d9-a268-ee5c62e23340",
   "metadata": {
    "editable": true,
    "slideshow": {
     "slide_type": ""
    },
    "tags": []
   },
   "source": [
    "```{admonition} Solution\n",
    ":class: dropdown\n",
    "\n",
    "`new = old` is assigning `old` to `new`.\\\n",
    "This means that the two variables both point to the same value.\\\n",
    "Thus, changing the contents of either variable will affect the other.\n",
    "\n",
    "In contrast, `new = old[:]` is a **slice assignment**, which will only return a copy of `old`.\n",
    "```"
   ]
  },
  {
   "cell_type": "markdown",
   "id": "03fb7582-5ba4-4a2c-bedc-4cb3514acb8f",
   "metadata": {
    "editable": true,
    "slideshow": {
     "slide_type": ""
    },
    "tags": []
   },
   "source": [
    "---"
   ]
  },
  {
   "cell_type": "markdown",
   "id": "75a2046e-2e15-4aec-a486-22301043ed31",
   "metadata": {
    "editable": true,
    "slideshow": {
     "slide_type": ""
    },
    "tags": []
   },
   "source": [
    "### Exercise 8: From Strings to Lists and Back\n",
    "\n",
    "Given this:"
   ]
  },
  {
   "cell_type": "code",
   "execution_count": 21,
   "id": "6b5ce122-cf2d-42eb-a4f3-1acba179a183",
   "metadata": {
    "editable": true,
    "slideshow": {
     "slide_type": ""
    },
    "tags": []
   },
   "outputs": [
    {
     "name": "stdout",
     "output_type": "stream",
     "text": [
      "string to list: ['t', 'i', 'n']\n",
      "list to string: gold\n",
      "list to string: g-o-l-d\n"
     ]
    }
   ],
   "source": [
    "print('string to list:', list('tin'))\n",
    "print('list to string:', ''.join(['g', 'o', 'l', 'd']))\n",
    "print('list to string:', '-'.join(['g', 'o', 'l', 'd']))"
   ]
  },
  {
   "cell_type": "markdown",
   "id": "cd1178a0-a537-4852-993d-fdbfc511de90",
   "metadata": {
    "editable": true,
    "slideshow": {
     "slide_type": ""
    },
    "tags": []
   },
   "source": [
    "1.  Explain in simple terms what `list('some string')` does.\n",
    "2.  What does `'-'.join(['x', 'y'])` generate?\n",
    "\n",
    "```{admonition} Solution\n",
    ":class: dropdown\n",
    "\n",
    "1.  It creates a list of the `some string`'s characters as elements. \n",
    "2.  It creates a string composed of `x` and `y`, separated by a hyphen character(`-`).  "
   ]
  },
  {
   "cell_type": "markdown",
   "id": "f86374da-b8ae-4a22-9052-b4c9675a3bf0",
   "metadata": {
    "editable": true,
    "slideshow": {
     "slide_type": ""
    },
    "tags": []
   },
   "source": [
    "---"
   ]
  },
  {
   "cell_type": "markdown",
   "id": "12d3e33a-7d3e-41a8-931d-95005d0f748c",
   "metadata": {
    "editable": true,
    "slideshow": {
     "slide_type": ""
    },
    "tags": []
   },
   "source": [
    "## Keypoints\n",
    "\n",
    "* A list stores many items in a single structure.\n",
    "* Use an item's index to fetch it from a list.\n",
    "* Use slicing to extract part of a list.\n",
    "* Lists' items can be replaced by assigning to them.\n",
    "* Appending items to a list lengthens it.\n",
    "* Use `del` to remove items from a list entirely.\n",
    "* The empty list contains no items.\n",
    "* Lists may contain items of different types.\n",
    "* Lists are mutable.\n",
    "* Indexing beyond the end of the collection is an error."
   ]
  },
  {
   "cell_type": "code",
   "execution_count": null,
   "id": "978f3563-61ad-431a-b56c-fce1fc3ae121",
   "metadata": {
    "editable": true,
    "slideshow": {
     "slide_type": ""
    },
    "tags": []
   },
   "outputs": [],
   "source": []
  }
 ],
 "metadata": {
  "kernelspec": {
   "display_name": "Python 3 (ipykernel)",
   "language": "python",
   "name": "python3"
  },
  "language_info": {
   "codemirror_mode": {
    "name": "ipython",
    "version": 3
   },
   "file_extension": ".py",
   "mimetype": "text/x-python",
   "name": "python",
   "nbconvert_exporter": "python",
   "pygments_lexer": "ipython3",
   "version": "3.11.5"
  }
 },
 "nbformat": 4,
 "nbformat_minor": 5
}
