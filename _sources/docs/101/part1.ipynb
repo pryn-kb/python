{
 "cells": [
  {
   "cell_type": "markdown",
   "id": "6a726669-8a42-4ba8-a844-6ba669678e16",
   "metadata": {},
   "source": [
    "# Part 1"
   ]
  },
  {
   "cell_type": "markdown",
   "id": "58388f16-e371-4432-a767-20d2dd463cd0",
   "metadata": {},
   "source": [
    "Python for Absolute Beginners pt. 1. \n",
    "\n",
    "In this first part of our Python for Absolute Beginners we will dive into the very basic building blocks of how to start using python. Before you attend the course, please follow the instructions of [installing and running python](../howto/setup) which can be found unde the \"How to...\" section. \n",
    "\n",
    "Learning python is similar to learning a new language, therefore we have made a [dictionary](../howto/dictionaries) which can hopefully help you along the way. \n",
    "\n",
    "Below here you can see the different chapters we will go through in the course, and after you can use them to go through the exercises once again. \n",
    "\n",
    "Remeber that all the notebooks can be downloaded so you can work with them on your own. \n"
   ]
  },
  {
   "cell_type": "markdown",
   "id": "4ba8a165-ba72-404a-910d-bc88606714e5",
   "metadata": {},
   "source": [
    "```{tableofcontents}\n",
    "```"
   ]
  },
  {
   "cell_type": "code",
   "execution_count": null,
   "id": "ae1bd494-8e86-4906-8d69-ef849ac6d7af",
   "metadata": {},
   "outputs": [],
   "source": []
  }
 ],
 "metadata": {
  "kernelspec": {
   "display_name": "Python 3 (ipykernel)",
   "language": "python",
   "name": "python3"
  },
  "language_info": {
   "codemirror_mode": {
    "name": "ipython",
    "version": 3
   },
   "file_extension": ".py",
   "mimetype": "text/x-python",
   "name": "python",
   "nbconvert_exporter": "python",
   "pygments_lexer": "ipython3",
   "version": "3.11.5"
  }
 },
 "nbformat": 4,
 "nbformat_minor": 5
}
