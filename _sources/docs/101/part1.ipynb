{
 "cells": [
  {
   "cell_type": "markdown",
   "id": "7b3481d1-bcc8-41e3-b30c-66cfa3a69b95",
   "metadata": {},
   "source": [
    "<style>\n",
    ".bd-toc {\n",
    "    display: none;\n",
    "}\n",
    "</style>"
   ]
  },
  {
   "cell_type": "markdown",
   "id": "6a726669-8a42-4ba8-a844-6ba669678e16",
   "metadata": {},
   "source": [
    "# Part 1"
   ]
  },
  {
   "cell_type": "markdown",
   "id": "58388f16-e371-4432-a767-20d2dd463cd0",
   "metadata": {},
   "source": [
    "Python for Absolute Beginners, Part 1.\n",
    "\n",
    "In this first part of our Python for Absolute Beginners course, we will dive into the very basic building blocks of how to start using Python. Before you attend the course, please follow the instructions in [Install & Run Python](../howto/setup), which can be found under the \"How to...\" section.\n",
    "\n",
    "Learning Python is similar to learning a new language, so we have created [dictionaries](../howto/dictionaries) for each course that will help you along the way.\n",
    "\n",
    "Below, you can see the different chapters we will cover in the course. Afterward, you can use them to review and go through the exercises again.\n",
    "\n",
    "Remember that all the notebooks [can be downloaded](../howto/interact) so you can work with them on your own.\n"
   ]
  },
  {
   "cell_type": "markdown",
   "id": "d9c39318-c715-44bb-a38d-b745d5b8d209",
   "metadata": {},
   "source": [
    "___"
   ]
  },
  {
   "cell_type": "markdown",
   "id": "9614a088-79fc-4467-a92f-6f70853bb7e0",
   "metadata": {},
   "source": [
    "## Content"
   ]
  },
  {
   "cell_type": "markdown",
   "id": "4ba8a165-ba72-404a-910d-bc88606714e5",
   "metadata": {},
   "source": [
    "```{tableofcontents}\n",
    "```"
   ]
  },
  {
   "cell_type": "code",
   "execution_count": null,
   "id": "ae1bd494-8e86-4906-8d69-ef849ac6d7af",
   "metadata": {
    "tags": [
     "hide-output"
    ]
   },
   "outputs": [],
   "source": []
  }
 ],
 "metadata": {
  "kernelspec": {
   "display_name": "Python 3 (ipykernel)",
   "language": "python",
   "name": "python3"
  },
  "language_info": {
   "codemirror_mode": {
    "name": "ipython",
    "version": 3
   },
   "file_extension": ".py",
   "mimetype": "text/x-python",
   "name": "python",
   "nbconvert_exporter": "python",
   "pygments_lexer": "ipython3",
   "version": "3.12.5"
  }
 },
 "nbformat": 4,
 "nbformat_minor": 5
}
