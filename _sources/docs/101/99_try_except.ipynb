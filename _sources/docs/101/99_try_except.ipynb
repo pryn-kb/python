{
 "cells": [
  {
   "cell_type": "markdown",
   "id": "1873eb93-cfa5-49e2-90de-425677ad7ce5",
   "metadata": {
    "editable": true,
    "slideshow": {
     "slide_type": ""
    },
    "tags": [
     "hide-output"
    ]
   },
   "source": [
    "# Error Handling"
   ]
  },
  {
   "cell_type": "markdown",
   "id": "1834a0e1-e789-43a3-a094-f0695add9e27",
   "metadata": {},
   "source": [
    "```{admonition} Learning Objectives\n",
    "\n",
    "Questions:\n",
    "- What happens when errors occur in a programme?\n",
    "- How can error handling improve the user experience?\n",
    "- Why is it important to handle different errors in different ways?\n",
    "\n",
    "Objectives:\n",
    "- Understand how `try` and `except` are used for error handling in Python.\n",
    "- Write code that catches and handles specific error types.\n",
    "- Use `else` to execute code when no error occurs.\n",
    "- Use `finally` to execute code that must always run."
   ]
  },
  {
   "cell_type": "markdown",
   "id": "e370ffb0-a789-4771-b786-a17a0c5c4d6e",
   "metadata": {},
   "source": [
    "---"
   ]
  },
  {
   "cell_type": "markdown",
   "id": "482136b1-90ed-4ef0-9ed2-9359b1022d1c",
   "metadata": {
    "editable": true,
    "slideshow": {
     "slide_type": ""
    },
    "tags": []
   },
   "source": [
    "## `try` and `except`\n",
    "\n",
    "Errors are common in programming. Instead of letting your programme stop when an error occurs, you can use `try` and `except` to handle the problem gracefully.\\\n",
    "This makes your programme more robust and provides clearer feedback to the user."
   ]
  },
  {
   "cell_type": "markdown",
   "id": "8d2fb00f-9e7e-4941-804a-eaf107376b7c",
   "metadata": {},
   "source": [
    "___\n",
    "## Basic structure\n",
    "\n",
    "The simplest use of error handling is to place code that might fail inside a `try` block. If an error occurs, the code in the `except` block is executed.\n",
    "\n",
    "```python\n",
    "try:\n",
    "    # code that might cause an error\n",
    "except:\n",
    "    # code that runs if an error occurs\n",
    "```\n",
    "\n",
    "This allows you to separate the \"normal\" behaviour of your code from the way you want to handle problems.\\\n",
    "However, a completely bare `except:` is not recommended, because it catches too much. This will be explained in more detail under [A general catch-all](#a-general-catch-all)."
   ]
  },
  {
   "cell_type": "markdown",
   "id": "cc2fa3f2-0334-4160-a0d8-9200fa4f4959",
   "metadata": {},
   "source": [
    "### Example: Division by zero\n",
    "\n",
    "If you attempt to divide by zero, Python raises a `ZeroDivisionError` and immediately stops the programme:"
   ]
  },
  {
   "cell_type": "code",
   "execution_count": 1,
   "id": "9841bf87-dfef-4927-8587-c8094c6c10da",
   "metadata": {
    "execution": {
     "iopub.execute_input": "2025-09-29T05:59:59.243958Z",
     "iopub.status.busy": "2025-09-29T05:59:59.243455Z",
     "iopub.status.idle": "2025-09-29T05:59:59.443567Z",
     "shell.execute_reply": "2025-09-29T05:59:59.442040Z",
     "shell.execute_reply.started": "2025-09-29T05:59:59.243916Z"
    },
    "tags": [
     "hide-output"
    ]
   },
   "outputs": [
    {
     "ename": "ZeroDivisionError",
     "evalue": "division by zero",
     "output_type": "error",
     "traceback": [
      "\u001b[31m---------------------------------------------------------------------------\u001b[39m",
      "\u001b[31mZeroDivisionError\u001b[39m                         Traceback (most recent call last)",
      "\u001b[36mCell\u001b[39m\u001b[36m \u001b[39m\u001b[32mIn[1]\u001b[39m\u001b[32m, line 4\u001b[39m\n\u001b[32m      2\u001b[39m x = \u001b[32m5\u001b[39m\n\u001b[32m      3\u001b[39m y = \u001b[32m0\u001b[39m\n\u001b[32m----> \u001b[39m\u001b[32m4\u001b[39m result = \u001b[43mx\u001b[49m\u001b[43m \u001b[49m\u001b[43m/\u001b[49m\u001b[43m \u001b[49m\u001b[43my\u001b[49m  \u001b[38;5;66;03m# ZeroDivisionError\u001b[39;00m\n",
      "\u001b[31mZeroDivisionError\u001b[39m: division by zero"
     ]
    }
   ],
   "source": [
    "# without try/except the programme stops\n",
    "x = 5\n",
    "y = 0\n",
    "result = x / y  # ZeroDivisionError"
   ]
  },
  {
   "cell_type": "markdown",
   "id": "fbc80c73-de6d-4ca9-b107-bb92a33097b4",
   "metadata": {},
   "source": [
    "With `try` and `except`, the programme can handle the problem gracefully:"
   ]
  },
  {
   "cell_type": "code",
   "execution_count": 2,
   "id": "03713b03-f722-44a6-a191-d5ec732d74a3",
   "metadata": {
    "execution": {
     "iopub.execute_input": "2025-09-29T06:00:31.380588Z",
     "iopub.status.busy": "2025-09-29T06:00:31.379979Z",
     "iopub.status.idle": "2025-09-29T06:00:31.387106Z",
     "shell.execute_reply": "2025-09-29T06:00:31.385893Z",
     "shell.execute_reply.started": "2025-09-29T06:00:31.380558Z"
    },
    "tags": [
     "hide-output"
    ]
   },
   "outputs": [
    {
     "name": "stdout",
     "output_type": "stream",
     "text": [
      "You cannot divide by zero!\n"
     ]
    }
   ],
   "source": [
    "# with try/except the error is handled\n",
    "x = 5\n",
    "y = 0\n",
    "\n",
    "try:\n",
    "    result = x / y\n",
    "    print(\"Result:\", result)\n",
    "except:\n",
    "    print(\"You cannot divide by zero!\")"
   ]
  },
  {
   "cell_type": "markdown",
   "id": "423cd990-d337-4634-9ed3-6645dd3bb0fe",
   "metadata": {},
   "source": [
    "The second version prevents the crash and provides a useful message for the user."
   ]
  },
  {
   "cell_type": "markdown",
   "id": "223789e0-e978-4092-ad2f-19a564cdf0cc",
   "metadata": {},
   "source": [
    "___\n",
    "## Catching specific error types\n",
    "\n",
    "It is best practice to catch **specific error types**. If you only write `except:` without specifying the error, you might hide problems that you did not expect. By naming the error type, you make your code more precise."
   ]
  },
  {
   "cell_type": "code",
   "execution_count": 3,
   "id": "40937611-e619-4775-bedb-d930fc1dd604",
   "metadata": {
    "execution": {
     "iopub.execute_input": "2025-09-29T06:02:09.762517Z",
     "iopub.status.busy": "2025-09-29T06:02:09.762259Z",
     "iopub.status.idle": "2025-09-29T06:02:09.765986Z",
     "shell.execute_reply": "2025-09-29T06:02:09.765262Z",
     "shell.execute_reply.started": "2025-09-29T06:02:09.762499Z"
    },
    "tags": [
     "hide-output"
    ]
   },
   "outputs": [
    {
     "name": "stdout",
     "output_type": "stream",
     "text": [
      "Only numbers are allowed!\n"
     ]
    }
   ],
   "source": [
    "try:\n",
    "    number = int(\"abc\")  # ValueError\n",
    "except ValueError:\n",
    "    print(\"Only numbers are allowed!\")"
   ]
  },
  {
   "cell_type": "markdown",
   "id": "0c95cb99-1c8f-4659-8241-860736b8efb3",
   "metadata": {},
   "source": [
    "In this example, the programme handles the `ValueError` that occurs when trying to convert non-numeric text into an integer."
   ]
  },
  {
   "cell_type": "markdown",
   "id": "f98a8bb3-d091-48aa-a283-18a4c3795474",
   "metadata": {},
   "source": [
    "___\n",
    "## Multiple `except` blocks\n",
    "\n",
    "Sometimes different kinds of errors can occur in the same block of code. In that case, you can write more than one `except` block. Python will run the first one that matches the error."
   ]
  },
  {
   "cell_type": "code",
   "execution_count": 4,
   "id": "faa40fa3-c8af-4dc0-a5b9-94a910c28e54",
   "metadata": {
    "execution": {
     "iopub.execute_input": "2025-09-29T06:06:25.128821Z",
     "iopub.status.busy": "2025-09-29T06:06:25.128409Z",
     "iopub.status.idle": "2025-09-29T06:06:25.134769Z",
     "shell.execute_reply": "2025-09-29T06:06:25.133375Z",
     "shell.execute_reply.started": "2025-09-29T06:06:25.128791Z"
    },
    "tags": [
     "hide-output"
    ]
   },
   "outputs": [
    {
     "name": "stdout",
     "output_type": "stream",
     "text": [
      "Error: division by zero.\n"
     ]
    }
   ],
   "source": [
    "try:\n",
    "    x = 5 / 0\n",
    "except ZeroDivisionError:\n",
    "    print(\"Error: division by zero.\")\n",
    "except ValueError:\n",
    "    print(\"Error: invalid number.\")"
   ]
  },
  {
   "cell_type": "markdown",
   "id": "15ee48b6-85fd-483a-ab38-34faeddb3496",
   "metadata": {},
   "source": [
    "This way, each error is handled in the most appropriate way."
   ]
  },
  {
   "cell_type": "markdown",
   "id": "c5fe86c0-6349-4010-a4f5-8ceec78881b3",
   "metadata": {},
   "source": [
    "___\n",
    "## A general catch-all\n",
    "\n",
    "Even if you handle specific errors, your programme might still encounter something unexpected.\\\n",
    "In such cases, it can be useful to add a **general catch-all** at the end.\n",
    "\n",
    "The recommended form is `except Exception as e:`, which captures all \"ordinary\" errors that inherit from the `Exception` class.\n",
    "\n",
    "\n",
    "```python\n",
    "try:\n",
    "    number = int(input(\"Enter a number: \"))\n",
    "    result = 10 / number\n",
    "except ValueError:\n",
    "    print(\"You must enter a valid number.\")\n",
    "except ZeroDivisionError:\n",
    "    print(\"You cannot divide by zero.\")\n",
    "except Exception as e:\n",
    "    print(\"An unexpected error occurred:\", e)\n",
    "```"
   ]
  },
  {
   "cell_type": "markdown",
   "id": "38bde5a6-035a-4aaa-a690-15f0781808e0",
   "metadata": {},
   "source": [
    "This approach allows you to log or display unforeseen errors without crashing the programme.\\\n",
    "It still lets system-level events such as `KeyboardInterrupt` (Ctrl+C) and `SystemExit` work normally, because they do not inherit from `Exception`.\n",
    "\n",
    "The syntax `except Exception as e:` means:  \n",
    "\n",
    "- `Exception` is the base class for most common error types in Python (such as `ValueError`, `TypeError`, `ZeroDivisionError`, etc.).  \n",
    "- `as e` assigns the actual error object to the variable `e`.  \n",
    "- You can then use `e` to display or log information about what went wrong.  \n",
    "\n",
    "```python\n",
    "except Exception as e:\n",
    "    print(\"An unexpected error occurred:\", e)\n",
    "```\n",
    "\n",
    "In this example, if an unforeseen error happens, the error message will be printed together with the text.\\\n",
    "For instance, if the error was trying to open a file that does not exist, the output would be:\n",
    "\n",
    "```text\n",
    "An unexpected error occurred: [Errno 2] No such file or directory: 'missing.txt'\n",
    "```"
   ]
  },
  {
   "cell_type": "markdown",
   "id": "17dd6a93-13fd-461a-b311-5872d6e10830",
   "metadata": {},
   "source": [
    "### Why not use a bare `except:`?\n",
    "\n",
    "A completely bare `except:` will catch **everything**, including `KeyboardInterrupt` and `SystemExit`.\\\n",
    "That means you could block the user from stopping the programme or interfere with Python shutting down.\\\n",
    "For this reason, it is considered bad practice and should be avoided."
   ]
  },
  {
   "cell_type": "markdown",
   "id": "a51be979-3bc5-4643-812f-07f076987c2f",
   "metadata": {},
   "source": [
    "### Good vs bad practice\n",
    "\n",
    "```python\n",
    "# Good: catch specific errors, and optionally a general catch-all\n",
    "try:\n",
    "    number = int(input(\"Enter a number: \"))\n",
    "except ValueError:\n",
    "    print(\"Not a valid number.\")\n",
    "except Exception as e:\n",
    "    print(\"Unexpected error:\", e)\n",
    "\n",
    "\n",
    "# Bad: a bare except hides everything, even system-level errors\n",
    "try:\n",
    "    number = int(input(\"Enter a number: \"))\n",
    "except:\n",
    "    print(\"Something went wrong.\")  # too vague and dangerous\n",
    "```"
   ]
  },
  {
   "cell_type": "markdown",
   "id": "d5c27a17-d487-40d2-9338-76a3c4cba3b3",
   "metadata": {},
   "source": [
    "___\n",
    "## Using `else` and `finally`\n",
    "\n",
    "Python also allows two optional blocks:\n",
    "\n",
    "- `else` runs if no error occurs in the `try` block.\n",
    "- `finally` runs always, whether there was an error or not.\n",
    "\n",
    "The purpose of `else` is to separate code that is *risky* (in the `try`) from code that should only run if everything went well.  \n",
    "You could place that code inside the `try` block, but then it would be skipped as soon as an error occurred. By putting it in `else`, you make it clear which part is error-prone and which part is normal flow.\n",
    "\n",
    "```python\n",
    "try:\n",
    "    number = int(input(\"Enter a number: \"))\n",
    "except ValueError:\n",
    "    print(\"Not a valid number.\")\n",
    "else:\n",
    "    # only runs if no error\n",
    "    print(\"You entered:\", number)\n",
    "finally:\n",
    "    print(\"Programme finished.\")\n",
    "```"
   ]
  },
  {
   "cell_type": "markdown",
   "id": "4601a502-1b35-4386-80da-b56b98aa7f3b",
   "metadata": {},
   "source": [
    "In this example:\n",
    "\n",
    "- If the input is not a number, the `except` block runs.\n",
    "- If the input is valid, the `else` block runs.\n",
    "- The `finally` block always runs, regardless of what happened."
   ]
  },
  {
   "cell_type": "markdown",
   "id": "10d05df7-6a67-463f-8249-85cf8e8c6ba9",
   "metadata": {},
   "source": [
    "---\n",
    "## Exercises"
   ]
  },
  {
   "cell_type": "markdown",
   "id": "e6a0ba2f-a4a6-4d92-aeaf-120bdbd7dec1",
   "metadata": {},
   "source": [
    "### <i class=\"fa-solid fa-pencil\"></i> Exercise 1: Handling numbers\n",
    "\n",
    "Write a programme that asks the user for a number.\n",
    "- If the user types something that is not a number, catch the error and display a message.\n",
    "- Extend the programme to use both `except` and `else`.\n",
    "\n",
    "````{admonition} Solution\n",
    ":class: dropdown\n",
    "\n",
    "```python\n",
    "user_input = input(\"Enter a number: \")\n",
    "\n",
    "try:\n",
    "    number = int(user_input)\n",
    "except ValueError:\n",
    "    print(\"That was not a number!\")\n",
    "else:\n",
    "    print(\"Thank you, you entered the number:\", number)"
   ]
  },
  {
   "cell_type": "markdown",
   "id": "8ab16379-0976-4eae-8c94-a5ed1dc393dc",
   "metadata": {},
   "source": [
    "___\n",
    "### <i class=\"fa-solid fa-pencil\"></i> Exercise 2: `IndexError` with a fruit list\n",
    "\n",
    "Write a programme that asks the user to select an item from a list of fruits.  \n",
    "- The list should contain at least three fruit names.  \n",
    "- Ask the user to enter a number (index) to choose a fruit.  \n",
    "- Use `try` and `except` to handle the following cases:  \n",
    "  - The user types something that is not a number (`ValueError`).  \n",
    "  - The user enters a number that is outside the valid range (`IndexError`).  \n",
    "- If the input is valid, print the selected fruit.\n",
    "\n",
    "````{admonition} Solution\n",
    ":class: dropdown\n",
    "\n",
    "```python\n",
    "fruits = [\"apple\", \"banana\", \"cherry\"]\n",
    "\n",
    "try:\n",
    "    index = int(input(\"Enter a number (0-2) to choose a fruit: \"))\n",
    "    choice = fruits[index]\n",
    "except ValueError:\n",
    "    print(\"You must enter a valid number.\")\n",
    "except IndexError:\n",
    "    print(\"That number is out of range. Please try 0, 1, or 2.\")\n",
    "else:\n",
    "    print(\"You chose:\", choice)\n"
   ]
  },
  {
   "cell_type": "markdown",
   "id": "8660edde-8b01-4da6-b775-62601df4f3e6",
   "metadata": {},
   "source": [
    "___\n",
    "### <i class=\"fa-solid fa-pencil\"></i> Exercise 3: Fixing The number guessing game\n",
    "\n",
    "In this exercise, you will update {ref}`The number guessing game <number-guessing-game>` so that it can handle invalid input.\\\n",
    "At the moment, if the user types something that is not a whole number (integer), the program will crash.\\\n",
    "Your task is to place the code that asks for a guess inside a `try/except` block. If the input is not an integer, the program should print a helpful message and allow the user to try again.\n",
    "\n",
    "**Requirements**\n",
    "- Use a `try/except` block around the line where the program converts input to an integer.\n",
    "- If the user does not type a valid number, print an error message such as:\n",
    "  `\"Invalid input. Please enter a number.\"`\n",
    "- Make sure the game continues running until the secret number is guessed.\n",
    "\n",
    "---\n",
    "\n",
    "````{admonition} Solution\n",
    ":class: dropdown\n",
    "\n",
    "```python\n",
    "import random\n",
    "\n",
    "# Generate a random secret number between 1 and 20\n",
    "secret_number = random.randint(1, 20)\n",
    "\n",
    "# Keep track of the number of attempts\n",
    "attempts = 0\n",
    "\n",
    "# Initialise the variable to store the user's guess\n",
    "user_guess = None  \n",
    "\n",
    "print(\"Welcome to the Number Guessing Game!\")\n",
    "\n",
    "# Continue looping until the correct number is guessed\n",
    "while user_guess != secret_number:\n",
    "    try:\n",
    "        # Ask the user to guess the secret number\n",
    "        user_guess = int(input(\"Guess the secret number (1-20): \"))\n",
    "        \n",
    "        # Increase the attempts counter\n",
    "        attempts = attempts + 1\n",
    "\n",
    "        # Compare the guess with the secret number\n",
    "        if user_guess == secret_number:\n",
    "            print(\"Congratulations! You guessed the correct number in\", attempts, \"attempts.\")\n",
    "        elif user_guess < secret_number:\n",
    "            print(\"Too low. Try again.\")\n",
    "        else:\n",
    "            print(\"Too high. Try again.\")\n",
    "\n",
    "    except Exception as e:\n",
    "        # Handle invalid input\n",
    "        print(\"Invalid input. Please enter a number.\")\n",
    "```\n",
    "**Explanation:**\n",
    "- The line `user_guess = int(input(...))` can raise an exception if the user types something that is not a number.\n",
    "- By placing this line inside a `try/except` block, we can catch the error and respond gracefully.\n",
    "- The `except Exception as e` block prints a helpful message and the program continues without crashing.\n",
    "\n",
    "This way, the game only accepts valid integers, but still lets the user try again if they make a mistake.\n",
    "````"
   ]
  },
  {
   "cell_type": "markdown",
   "id": "1bdd4b2d-411a-4992-9e81-f6b76921a722",
   "metadata": {},
   "source": [
    "---\n",
    "## Key Points\n",
    "\n",
    "- `try` and `except` prevent your programme from crashing.\n",
    "- Always prefer catching **specific error types**.\n",
    "- Use `else` for code that should only run if no error occurs.\n",
    "- Use `finally` for code that should always run."
   ]
  },
  {
   "cell_type": "code",
   "execution_count": null,
   "id": "0e7438a0-34bf-4877-be3f-4027a1f58569",
   "metadata": {
    "tags": [
     "hide-output"
    ]
   },
   "outputs": [],
   "source": []
  }
 ],
 "metadata": {
  "kernelspec": {
   "display_name": "Python 3 (ipykernel)",
   "language": "python",
   "name": "python3"
  },
  "language_info": {
   "codemirror_mode": {
    "name": "ipython",
    "version": 3
   },
   "file_extension": ".py",
   "mimetype": "text/x-python",
   "name": "python",
   "nbconvert_exporter": "python",
   "pygments_lexer": "ipython3",
   "version": "3.13.5"
  }
 },
 "nbformat": 4,
 "nbformat_minor": 5
}
