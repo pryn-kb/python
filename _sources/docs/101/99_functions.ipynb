{
 "cells": [
  {
   "cell_type": "markdown",
   "id": "1873eb93-cfa5-49e2-90de-425677ad7ce5",
   "metadata": {
    "editable": true,
    "slideshow": {
     "slide_type": ""
    },
    "tags": [
     "hide-output"
    ]
   },
   "source": [
    "# Writing Functions"
   ]
  },
  {
   "cell_type": "markdown",
   "id": "1834a0e1-e789-43a3-a094-f0695add9e27",
   "metadata": {},
   "source": [
    "```{admonition} Learning Objectives\n",
    "\n",
    "Questions:\n",
    "* How can I create my own functions?\n",
    "\n",
    "Objectives:\n",
    "* Explain and identify the difference between function definition and function call.\n",
    "* Write a function that takes a small, fixed number of arguments and produces a single result.\n",
    "* Identify local and global variables."
   ]
  },
  {
   "cell_type": "markdown",
   "id": "e370ffb0-a789-4771-b786-a17a0c5c4d6e",
   "metadata": {},
   "source": [
    "---"
   ]
  },
  {
   "cell_type": "markdown",
   "id": "482136b1-90ed-4ef0-9ed2-9359b1022d1c",
   "metadata": {
    "editable": true,
    "slideshow": {
     "slide_type": ""
    },
    "tags": []
   },
   "source": [
    "## What are functions?\n",
    "\n",
    "In Python, a *function* is like a little machine in your code: you give it a name, tell it what steps to perform, and then you can use it whenever you need that task done. Instead of copying and pasting the same code over and over, you can just “call” the function and let it do the work for you. This makes your programs shorter, easier to read, and much simpler to update.\n",
    "\n",
    "You have already met some of Python’s built-in functions - things like `print()`, `type()`, and `len()`. Both functions and methods are recognized by their name followed by parentheses `()`, which is how you call them to perform an action.\n",
    "\n",
    "Built-in functions are great, but sometimes you might want something that is made just for your program. That is where **user-defined functions** come in - you can create your own!\n",
    "\n",
    "Here are a few key things to know about functions:\n",
    "* A function is a block of code that only runs when you call it.\n",
    "* Once defined, you can reuse it as many times as you like without rewriting the code.\n",
    "* You can send information into a function - these are called **parameters**.\n",
    "* A function can give something back - this is called its **return value**."
   ]
  },
  {
   "cell_type": "markdown",
   "id": "de931638-95f5-43b4-8710-1fd21aa8fba2",
   "metadata": {},
   "source": [
    "### Use functions to make your code easier to understand\n",
    "\n",
    "Human beings can only keep a few items in working memory at a time. But we can work with larger and more complicated ideas by breaking content down into pieces. Functions serve a similar purpose in Python. We can create our own functions to encapsulate complexity and treat specific actions or ideas as a single “thing”. Functions also enable us to re-use code so we can write code one time, but use it many times."
   ]
  },
  {
   "cell_type": "markdown",
   "id": "1b83853b-8239-44f4-9496-149b60cbb2ba",
   "metadata": {},
   "source": [
    "---\n",
    "## Defining a function\n",
    "\n",
    "You define a function using `def` with a name, parameters, and a block of code.\n",
    "\n",
    "Begin each definition of a new function with the keyword `def` (for “define”), followed by the name of the function. Function names follow the same rules as variable names.\\\n",
    "Next, add your parameters in parentheses. You should still use empty parentheses if the function does not take any inputs.\\\n",
    "Finally, like in conditionals and loops, you will add a colon and an indented block of code that will contain the body of your function."
   ]
  },
  {
   "cell_type": "code",
   "execution_count": 3,
   "id": "9528a80a-0e3e-426b-97c9-37ca67359862",
   "metadata": {
    "execution": {
     "iopub.execute_input": "2025-08-20T05:31:28.354659Z",
     "iopub.status.busy": "2025-08-20T05:31:28.354259Z",
     "iopub.status.idle": "2025-08-20T05:31:28.359797Z",
     "shell.execute_reply": "2025-08-20T05:31:28.358565Z",
     "shell.execute_reply.started": "2025-08-20T05:31:28.354629Z"
    },
    "tags": [
     "hide-output"
    ]
   },
   "outputs": [],
   "source": [
    "def print_greeting():\n",
    "    print('Hello!')"
   ]
  },
  {
   "cell_type": "markdown",
   "id": "03a11bb7-f649-46d9-8669-631880abc123",
   "metadata": {},
   "source": [
    "### Defining a function does not run it\n",
    "\n",
    "Note that we do not have any output when we run code to define a function. This is similar to assigning a value to a variable. The function definition is sort of like a recipe in a cookbook - the recipe does not create a meal until we use it. So we need to “call” a function to execute the code it contains. This means that Python will not show you errors in your function until you call it. So when a definition of a function runs without error it does not mean that there will not be errors when it executes later."
   ]
  },
  {
   "cell_type": "code",
   "execution_count": 4,
   "id": "ecd41911-7bbd-4542-a429-2c4e28750924",
   "metadata": {
    "execution": {
     "iopub.execute_input": "2025-08-20T05:31:28.362924Z",
     "iopub.status.busy": "2025-08-20T05:31:28.362132Z",
     "iopub.status.idle": "2025-08-20T05:31:28.368723Z",
     "shell.execute_reply": "2025-08-20T05:31:28.367254Z",
     "shell.execute_reply.started": "2025-08-20T05:31:28.362889Z"
    },
    "tags": [
     "hide-output"
    ]
   },
   "outputs": [
    {
     "name": "stdout",
     "output_type": "stream",
     "text": [
      "Hello!\n"
     ]
    }
   ],
   "source": [
    "print_greeting()"
   ]
  },
  {
   "cell_type": "markdown",
   "id": "478a878d-a873-4ae0-8e6f-b71707b5d6ff",
   "metadata": {},
   "source": [
    "---\n",
    "## Matching arguments and parameters\n",
    "\n",
    "Functions are most powerful when they can take in data.\n",
    "\n",
    "- **Parameters** are names you list in the function definition. They act like placeholders.\n",
    "- **Arguments** are the actual values you pass in when calling the function.\n",
    "\n",
    "Python matches arguments to parameters by **position (or by name)**.\\\n",
    "This means:\n",
    "\n",
    "- If a function defines a parameter, you must provide a matching argument when you call it (unless the parameter has a default value).\n",
    "- If you pass an argument that has no corresponding parameter, Python will raise an error.\n",
    "- Likewise, if a parameter is required but you do not provide an argument, you will also get an error.\n",
    "\n",
    "In other words, **parameters and arguments must match**: you can only use data inside a function if there is a parameter defined for it, and you must give an argument for every parameter that requires one."
   ]
  },
  {
   "cell_type": "code",
   "execution_count": 8,
   "id": "1218d41f-39b4-4514-acb7-bf353f492228",
   "metadata": {
    "execution": {
     "iopub.execute_input": "2025-08-22T09:54:24.011644Z",
     "iopub.status.busy": "2025-08-22T09:54:24.011261Z",
     "iopub.status.idle": "2025-08-22T09:54:24.017725Z",
     "shell.execute_reply": "2025-08-22T09:54:24.016596Z",
     "shell.execute_reply.started": "2025-08-22T09:54:24.011607Z"
    },
    "tags": [
     "hide-output"
    ]
   },
   "outputs": [
    {
     "name": "stdout",
     "output_type": "stream",
     "text": [
      "Hello World!\n"
     ]
    }
   ],
   "source": [
    "def print_named_greeting(name):\n",
    "    print(f'Hello {name}!')\n",
    "\n",
    "print_named_greeting('World')"
   ]
  },
  {
   "cell_type": "markdown",
   "id": "04e28195-c9c9-4e34-91c4-92408c8d38fa",
   "metadata": {},
   "source": [
    "To expand on the recipe metaphor above, the arguments you add to the `()` contain the ingredients for the function, while the body contains the recipe.\n",
    "\n",
    "Functions with defined parameters will result in an error if they are called without passing an argument:"
   ]
  },
  {
   "cell_type": "code",
   "execution_count": 9,
   "id": "55d52508-9e0d-4746-97e8-2e57c2054083",
   "metadata": {
    "execution": {
     "iopub.execute_input": "2025-08-22T09:54:26.703423Z",
     "iopub.status.busy": "2025-08-22T09:54:26.702781Z",
     "iopub.status.idle": "2025-08-22T09:54:26.732439Z",
     "shell.execute_reply": "2025-08-22T09:54:26.731425Z",
     "shell.execute_reply.started": "2025-08-22T09:54:26.703373Z"
    },
    "tags": [
     "hide-output"
    ]
   },
   "outputs": [
    {
     "ename": "TypeError",
     "evalue": "print_named_greeting() missing 1 required positional argument: 'name'",
     "output_type": "error",
     "traceback": [
      "\u001b[31m---------------------------------------------------------------------------\u001b[39m",
      "\u001b[31mTypeError\u001b[39m                                 Traceback (most recent call last)",
      "\u001b[36mCell\u001b[39m\u001b[36m \u001b[39m\u001b[32mIn[9]\u001b[39m\u001b[32m, line 1\u001b[39m\n\u001b[32m----> \u001b[39m\u001b[32m1\u001b[39m \u001b[43mprint_named_greeting\u001b[49m\u001b[43m(\u001b[49m\u001b[43m)\u001b[49m\n",
      "\u001b[31mTypeError\u001b[39m: print_named_greeting() missing 1 required positional argument: 'name'"
     ]
    }
   ],
   "source": [
    "print_named_greeting()"
   ]
  },
  {
   "cell_type": "markdown",
   "id": "0376ceb2-30af-47f7-983f-27e0756a8c47",
   "metadata": {
    "editable": true,
    "slideshow": {
     "slide_type": ""
    },
    "tags": []
   },
   "source": [
    "---\n",
    "## Use `return` to pass values back from a function\n",
    "\n",
    "In the date example above, we printed the results of the function code to output, but there are better way to handle data and objects created within a function. We can use the keyword `return` to send a value back to the “global” environment. (We will learn about local and global variables below). A return command can occur anywhere in the function, but is often placed at the very end of a function with the final result."
   ]
  },
  {
   "cell_type": "code",
   "execution_count": 4,
   "id": "cc659ef5-f1ec-4a6f-97b8-f74fd7243f5b",
   "metadata": {
    "editable": true,
    "execution": {
     "iopub.execute_input": "2025-09-16T08:46:37.589720Z",
     "iopub.status.busy": "2025-09-16T08:46:37.589479Z",
     "iopub.status.idle": "2025-09-16T08:46:37.593877Z",
     "shell.execute_reply": "2025-09-16T08:46:37.593156Z",
     "shell.execute_reply.started": "2025-09-16T08:46:37.589704Z"
    },
    "slideshow": {
     "slide_type": ""
    },
    "tags": [
     "hide-output"
    ]
   },
   "outputs": [
    {
     "name": "stdout",
     "output_type": "stream",
     "text": [
      "Fine owed: $4.0\n"
     ]
    }
   ],
   "source": [
    "def calc_fine(days_overdue):\n",
    "    if days_overdue <= 10:\n",
    "        fine = days_overdue * 0.25\n",
    "    else:\n",
    "        fine = (10 * 0.25) + ((days_overdue - 10) * 0.75)\n",
    "    return fine\n",
    "\n",
    "fine = calc_fine(12)\n",
    "print(f\"Fine owed: ${fine}\")"
   ]
  },
  {
   "cell_type": "markdown",
   "id": "2daf6802-034c-4fba-9273-6375bbab2a9d",
   "metadata": {},
   "source": [
    "````{admonition} Specify the number of float decimals to display\n",
    ":class: seealso dropdown\n",
    "\n",
    "In the example above, the fine value is displayed as `4.0`, though ideally it would print as `$4.00`. We can use the **f-string format specifier** of `.2f` to display two decimal points: `{fine:.2f}`. If you wanted to display a float with three decimal points you would change the format specifier to `{fine:.3f}`.\\\n",
    "Here is a [cheat sheet of other f-string number formats](https://fstring.help/cheat/).\n",
    "\n",
    "```python\n",
    "fine = calc_fine(12)\n",
    "print(f'Fine owed: ${fine:.2f}')\n",
    "```\n",
    "```text\n",
    "'Fine owed: $4.00'\n",
    "```"
   ]
  },
  {
   "cell_type": "markdown",
   "id": "22e6fce4-3994-44cc-9dff-8e4e3bf1c3f5",
   "metadata": {},
   "source": [
    "A function that does not explicitly `return` a value will automatically return `None`."
   ]
  },
  {
   "cell_type": "code",
   "execution_count": 11,
   "id": "d39d8fdb-5bfc-43d0-91e1-78fd3595ad8d",
   "metadata": {
    "execution": {
     "iopub.execute_input": "2025-08-22T09:54:41.282953Z",
     "iopub.status.busy": "2025-08-22T09:54:41.282376Z",
     "iopub.status.idle": "2025-08-22T09:54:41.289684Z",
     "shell.execute_reply": "2025-08-22T09:54:41.288328Z",
     "shell.execute_reply.started": "2025-08-22T09:54:41.282909Z"
    },
    "tags": [
     "hide-output"
    ]
   },
   "outputs": [
    {
     "name": "stdout",
     "output_type": "stream",
     "text": [
      "Hello World!\n",
      "result of call is: None\n"
     ]
    }
   ],
   "source": [
    "result = print_named_greeting('World')\n",
    "print(f'result of call is: {result}')"
   ]
  },
  {
   "cell_type": "markdown",
   "id": "9dfc555d-cf0c-47a2-b40b-1ec551070562",
   "metadata": {},
   "source": [
    "---\n",
    "## Variable scope\n",
    "\n",
    "When we define a variable inside of a function in Python, it is known as a `local` variable, which means that it is not visible to – or known by – the rest of the program. Variables that we define outside of functions are `global` and are therefore visible throughout the program, *including* from within other functions. The part of a program in which a variable is visible is called its *scope*.\n",
    "\n",
    "This is helpful for people using or writing functions, because they do not need to worry about repeating variable names that have been created elsewhere in the program."
   ]
  },
  {
   "cell_type": "code",
   "execution_count": 5,
   "id": "fff77228-5f36-4533-be9e-e9382b1123f8",
   "metadata": {
    "execution": {
     "iopub.execute_input": "2025-09-16T08:49:22.018023Z",
     "iopub.status.busy": "2025-09-16T08:49:22.017531Z",
     "iopub.status.idle": "2025-09-16T08:49:22.023567Z",
     "shell.execute_reply": "2025-09-16T08:49:22.022407Z",
     "shell.execute_reply.started": "2025-09-16T08:49:22.017987Z"
    },
    "tags": [
     "hide-output"
    ]
   },
   "outputs": [],
   "source": [
    "initial_fine = 0.25\n",
    "late_fine = 0.75\n",
    "\n",
    "def calc_fine(days_overdue):\n",
    "    if days_overdue <= 10:\n",
    "        fine = days_overdue * initial_fine\n",
    "    else:\n",
    "        fine = (10 * initial_fine) + ((days_overdue - 10) * late_fine)\n",
    "    return fine"
   ]
  },
  {
   "cell_type": "markdown",
   "id": "2ea53bf1-aeab-462d-b208-06b241739e9b",
   "metadata": {
    "execution": {
     "iopub.execute_input": "2025-08-20T05:45:35.384046Z",
     "iopub.status.busy": "2025-08-20T05:45:35.383732Z",
     "iopub.status.idle": "2025-08-20T05:45:35.390777Z",
     "shell.execute_reply": "2025-08-20T05:45:35.389251Z",
     "shell.execute_reply.started": "2025-08-20T05:45:35.384025Z"
    }
   },
   "source": [
    "- `initial_fine` and `late_fine` are *global variables*.\n",
    "- `days_overdue` is a *local variable* in `calc_fine`. Note that a function parameter is a variable that is automatically assigned a value when the function is called and so acts as a local variable.\n",
    "- `fine` is also a *local variable*, created inside the function to hold the calculated result."
   ]
  },
  {
   "cell_type": "code",
   "execution_count": 19,
   "id": "116453b9-4eb6-4a89-9f7e-8654c78ddfb8",
   "metadata": {
    "execution": {
     "iopub.execute_input": "2025-08-20T05:49:21.068580Z",
     "iopub.status.busy": "2025-08-20T05:49:21.068116Z",
     "iopub.status.idle": "2025-08-20T05:49:21.075252Z",
     "shell.execute_reply": "2025-08-20T05:49:21.073845Z",
     "shell.execute_reply.started": "2025-08-20T05:49:21.068542Z"
    },
    "tags": [
     "hide-output"
    ]
   },
   "outputs": [
    {
     "name": "stdout",
     "output_type": "stream",
     "text": [
      "Fine owed: $9.00\n",
      "Fine rates: $0.25, $0.50\n"
     ]
    }
   ],
   "source": [
    "fine = calc_fine(12)\n",
    "print(f'Fine owed: ${fine:.2f}')\n",
    "print(f'Fine rates: ${initial_fine:.2f}, ${late_fine:.2f}')"
   ]
  },
  {
   "cell_type": "code",
   "execution_count": 20,
   "id": "2d451cd7-4409-4abc-a4cb-885f647f15eb",
   "metadata": {
    "execution": {
     "iopub.execute_input": "2025-08-20T05:49:23.476031Z",
     "iopub.status.busy": "2025-08-20T05:49:23.475484Z",
     "iopub.status.idle": "2025-08-20T05:49:23.507056Z",
     "shell.execute_reply": "2025-08-20T05:49:23.505698Z",
     "shell.execute_reply.started": "2025-08-20T05:49:23.475988Z"
    },
    "tags": [
     "hide-output"
    ]
   },
   "outputs": [
    {
     "ename": "NameError",
     "evalue": "name 'days_overdue' is not defined",
     "output_type": "error",
     "traceback": [
      "\u001b[31m---------------------------------------------------------------------------\u001b[39m",
      "\u001b[31mNameError\u001b[39m                                 Traceback (most recent call last)",
      "\u001b[36mCell\u001b[39m\u001b[36m \u001b[39m\u001b[32mIn[20]\u001b[39m\u001b[32m, line 1\u001b[39m\n\u001b[32m----> \u001b[39m\u001b[32m1\u001b[39m \u001b[38;5;28mprint\u001b[39m(\u001b[33mf\u001b[39m\u001b[33m'\u001b[39m\u001b[33mDays overdue: \u001b[39m\u001b[38;5;132;01m{\u001b[39;00m\u001b[43mdays_overdue\u001b[49m\u001b[38;5;132;01m}\u001b[39;00m\u001b[33m'\u001b[39m)\n",
      "\u001b[31mNameError\u001b[39m: name 'days_overdue' is not defined"
     ]
    }
   ],
   "source": [
    "print(f'Days overdue: {days_overdue}')"
   ]
  },
  {
   "cell_type": "markdown",
   "id": "786e549a-4254-49be-9ce5-dfcd2a3b4627",
   "metadata": {},
   "source": [
    "---\n",
    "## Use docstrings to provide online help\n",
    "\n",
    "If the first thing in a function is a string that is not assigned to a variable, that string is attached to the function as its documentation. This kind of documentation at the beginning of a function is called a `docstring`."
   ]
  },
  {
   "cell_type": "code",
   "execution_count": 21,
   "id": "735fb312-f494-4e51-bb18-d8f2acffeeb4",
   "metadata": {
    "execution": {
     "iopub.execute_input": "2025-08-20T05:50:14.704514Z",
     "iopub.status.busy": "2025-08-20T05:50:14.704256Z",
     "iopub.status.idle": "2025-08-20T05:50:14.707918Z",
     "shell.execute_reply": "2025-08-20T05:50:14.707048Z",
     "shell.execute_reply.started": "2025-08-20T05:50:14.704496Z"
    },
    "tags": [
     "hide-output"
    ]
   },
   "outputs": [],
   "source": [
    "def fahr_to_celsius(temp):\n",
    "    \"Input a fahrenheit temperature and return the value in celsius\"\n",
    "    return ((temp - 32) * (5/9))"
   ]
  },
  {
   "cell_type": "markdown",
   "id": "e5cd1f39-71b1-485c-8ced-4c0c7e4a5e3a",
   "metadata": {},
   "source": [
    "This is helpful because we can now ask Python’s built-in help system to show us the documentation for the function:"
   ]
  },
  {
   "cell_type": "code",
   "execution_count": 22,
   "id": "2a899934-60ff-4917-b0e6-a71633a61343",
   "metadata": {
    "execution": {
     "iopub.execute_input": "2025-08-20T05:50:35.607893Z",
     "iopub.status.busy": "2025-08-20T05:50:35.607330Z",
     "iopub.status.idle": "2025-08-20T05:50:35.615986Z",
     "shell.execute_reply": "2025-08-20T05:50:35.614615Z",
     "shell.execute_reply.started": "2025-08-20T05:50:35.607846Z"
    },
    "tags": [
     "hide-output"
    ]
   },
   "outputs": [
    {
     "name": "stdout",
     "output_type": "stream",
     "text": [
      "Help on function fahr_to_celsius in module __main__:\n",
      "\n",
      "fahr_to_celsius(temp)\n",
      "    Input a fahrenheit temperature and return the value in celsius\n",
      "\n"
     ]
    }
   ],
   "source": [
    "help(fahr_to_celsius)"
   ]
  },
  {
   "cell_type": "markdown",
   "id": "6eba3ddd-e0d6-4b67-be80-796f5863b449",
   "metadata": {
    "execution": {
     "iopub.execute_input": "2025-08-20T05:51:04.831947Z",
     "iopub.status.busy": "2025-08-20T05:51:04.831493Z",
     "iopub.status.idle": "2025-08-20T05:51:04.840468Z",
     "shell.execute_reply": "2025-08-20T05:51:04.838882Z",
     "shell.execute_reply.started": "2025-08-20T05:51:04.831911Z"
    }
   },
   "source": [
    "We do not need to use triple quotes when we write a docstring, but if we do, we can break the string across multiple lines:"
   ]
  },
  {
   "cell_type": "code",
   "execution_count": 24,
   "id": "4a363782-2018-4b96-8fd8-c75e4f7a0701",
   "metadata": {
    "execution": {
     "iopub.execute_input": "2025-08-20T05:51:21.191291Z",
     "iopub.status.busy": "2025-08-20T05:51:21.190729Z",
     "iopub.status.idle": "2025-08-20T05:51:21.197557Z",
     "shell.execute_reply": "2025-08-20T05:51:21.195491Z",
     "shell.execute_reply.started": "2025-08-20T05:51:21.191254Z"
    },
    "tags": [
     "hide-output"
    ]
   },
   "outputs": [],
   "source": [
    "def fahr_to_celsius(temp):\n",
    "    \"\"\"Convert fahrenheit values to celsius\n",
    "    Input a value in fahrenheit\n",
    "    Output a value in celsius\"\"\"\n",
    "    return ((temp - 32) * (5/9))"
   ]
  },
  {
   "cell_type": "code",
   "execution_count": 25,
   "id": "c1d44439-239e-451b-8bb3-4935ecdb7cdc",
   "metadata": {
    "execution": {
     "iopub.execute_input": "2025-08-20T05:51:28.543856Z",
     "iopub.status.busy": "2025-08-20T05:51:28.543325Z",
     "iopub.status.idle": "2025-08-20T05:51:28.550815Z",
     "shell.execute_reply": "2025-08-20T05:51:28.549272Z",
     "shell.execute_reply.started": "2025-08-20T05:51:28.543819Z"
    },
    "tags": [
     "hide-output"
    ]
   },
   "outputs": [
    {
     "name": "stdout",
     "output_type": "stream",
     "text": [
      "Help on function fahr_to_celsius in module __main__:\n",
      "\n",
      "fahr_to_celsius(temp)\n",
      "    Convert fahrenheit values to celsius\n",
      "    Input a value in fahrenheit\n",
      "    Output a value in celsius\n",
      "\n"
     ]
    }
   ],
   "source": [
    "help(fahr_to_celsius)"
   ]
  },
  {
   "cell_type": "markdown",
   "id": "10d05df7-6a67-463f-8249-85cf8e8c6ba9",
   "metadata": {},
   "source": [
    "---\n",
    "## Exercises"
   ]
  },
  {
   "cell_type": "markdown",
   "id": "6dd55888-2eef-4e3c-a6f2-0976925a706b",
   "metadata": {},
   "source": [
    "### <i class=\"fa-solid fa-pencil\"></i> Exercise 1: Create a function\n",
    "\n",
    "Write a function called `addition` that takes two parameters and returns their sum. After defining the function, call it with several arguments and print out the results.\n",
    "\n",
    "````{admonition} Solution\n",
    ":class: dropdown\n",
    "\n",
    "```python\n",
    "def addition(x, y):\n",
    "    return x + y\n",
    "\n",
    "print(addition(2, 4))\n",
    "print(addition(3, 6))\n",
    "print(addition(4, 8))\n",
    "```\n",
    "```text\n",
    "6\n",
    "9\n",
    "12\n",
    "```"
   ]
  },
  {
   "cell_type": "markdown",
   "id": "79d8bcde-9c91-43af-b365-ce161b27e8a8",
   "metadata": {},
   "source": [
    "---\n",
    "### <i class=\"fa-solid fa-pencil\"></i> Exercise 2: Conditional statements within functions\n",
    "\n",
    "Create a function called `grade_converter` that takes a numerical score (0 - 100) as its parameter and returns a letter grade based on the score:\n",
    "\n",
    "- 90 and above returns ‘A’\n",
    "- 80 to 89 returns ‘B’\n",
    "- 70 to 79 returns ‘C’\n",
    "- 60 to 69 returns ‘D’\n",
    "- Below 60 returns ‘F’\n",
    "\n",
    "After defining the function, test it using different scores.\n",
    "\n",
    "````{admonition} Solution\n",
    ":class: dropdown\n",
    "\n",
    "```python\n",
    "def grade_converter(score):\n",
    "    if score > 100 or score < 0:\n",
    "        return 'Invalid score'\n",
    "    elif score >= 90:\n",
    "        return 'A'\n",
    "    elif score >= 80:\n",
    "        return 'B'\n",
    "    elif score >= 70:\n",
    "        return 'C'\n",
    "    elif score >= 60:\n",
    "        return 'D'\n",
    "    elif score <= 59:\n",
    "        return 'F'\n",
    "\n",
    "print(grade_converter(91))\n",
    "print(grade_converter(75))\n",
    "print(grade_converter(59))\n",
    "```\n",
    "```text\n",
    "A\n",
    "C\n",
    "F\n",
    "```"
   ]
  },
  {
   "cell_type": "markdown",
   "id": "5e95d078-1b3f-4a70-8561-a369261b358e",
   "metadata": {},
   "source": [
    "---\n",
    "### <i class=\"fa-solid fa-pencil\"></i> Exercise 3: Local and global variables\n",
    "\n",
    "List all of the global variables and all of the local variables in the following code.\n",
    "\n",
    "```python\n",
    "fine_rate = 0.25\n",
    "\n",
    "def fine(days_overdue):\n",
    "    if days_overdue <= 10:\n",
    "        fine =  days_overdue * fine_rate\n",
    "    else:\n",
    "        fine = (days_overdue * fine_rate) + ((days_overdue - 10) * (fine_rate*2))\n",
    "    return fine\n",
    "    \n",
    "total_fine = calc_fine(20)\n",
    "f'Fine owed: ${total_fine:.2f}'\n",
    "```\n",
    "```text\n",
    "'Fine owed: $15.00'\n",
    "```\n",
    "\n",
    "````{admonition} Solution\n",
    ":class: dropdown\n",
    "\n",
    "Global variables:\n",
    "- fine_rate\n",
    "- total_fine\n",
    "\n",
    "Local variables:\n",
    "- days_overdue\n",
    "- fine"
   ]
  },
  {
   "cell_type": "markdown",
   "id": "1bdd4b2d-411a-4992-9e81-f6b76921a722",
   "metadata": {
    "editable": true,
    "slideshow": {
     "slide_type": ""
    },
    "tags": []
   },
   "source": [
    "---\n",
    "## Key points\n",
    "\n",
    "- Break programs down into functions to make them easier to understand.\n",
    "- Define a function using `def` with a name, parameters, and a block of code.\n",
    "- Defining a function does not run it.\n",
    "- Arguments in call are matched to parameters in definition.\n",
    "- Functions may return a result to their caller using `return`."
   ]
  },
  {
   "cell_type": "code",
   "execution_count": null,
   "id": "0e7438a0-34bf-4877-be3f-4027a1f58569",
   "metadata": {
    "editable": true,
    "slideshow": {
     "slide_type": ""
    },
    "tags": [
     "hide-output"
    ]
   },
   "outputs": [],
   "source": []
  }
 ],
 "metadata": {
  "kernelspec": {
   "display_name": "Python 3 (ipykernel)",
   "language": "python",
   "name": "python3"
  },
  "language_info": {
   "codemirror_mode": {
    "name": "ipython",
    "version": 3
   },
   "file_extension": ".py",
   "mimetype": "text/x-python",
   "name": "python",
   "nbconvert_exporter": "python",
   "pygments_lexer": "ipython3",
   "version": "3.13.5"
  }
 },
 "nbformat": 4,
 "nbformat_minor": 5
}
