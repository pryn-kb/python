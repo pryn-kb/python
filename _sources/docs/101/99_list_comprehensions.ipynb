{
 "cells": [
  {
   "cell_type": "markdown",
   "id": "1873eb93-cfa5-49e2-90de-425677ad7ce5",
   "metadata": {
    "editable": true,
    "slideshow": {
     "slide_type": ""
    },
    "tags": [
     "hide-output"
    ]
   },
   "source": [
    "# List Comprehensions"
   ]
  },
  {
   "cell_type": "markdown",
   "id": "1834a0e1-e789-43a3-a094-f0695add9e27",
   "metadata": {},
   "source": [
    "```{admonition} Learning Objectives\n",
    "\n",
    "Questions:\n",
    "- How can I write lists more concisely in Python?\n",
    "- How do list comprehensions compare to regular for loops?\n",
    "\n",
    "Objectives:\n",
    "- Understand the basic syntax of a list comprehension.\n",
    "- Transform a simple `for` loop into an equivalent list comprehension.\n",
    "- Apply conditional filtering within a list comprehension."
   ]
  },
  {
   "cell_type": "markdown",
   "id": "e370ffb0-a789-4771-b786-a17a0c5c4d6e",
   "metadata": {},
   "source": [
    "---"
   ]
  },
  {
   "cell_type": "markdown",
   "id": "261b5586-b1b6-4f27-9f79-c2d66a55902f",
   "metadata": {},
   "source": [
    "## What are list comprehensions?\n",
    "\n",
    "In Python, a *list comprehension* is a compact way to build a new list from existing data.\\\n",
    "Instead of writing a multi-line `for` loop and calling `.append()` for each element, you can express the same idea in a single, readable line.\n",
    "\n",
    "List comprehensions can make your programs shorter, easier to read, and sometimes faster.\\\n",
    "But remember: clarity beats cleverness. If a comprehension starts to feel crowded or hard to read, use a regular loop."
   ]
  },
  {
   "cell_type": "markdown",
   "id": "8f90ab41-1c0d-435c-9462-89d5982d1562",
   "metadata": {},
   "source": [
    "---\n",
    "## Start from a for loop\n",
    "\n",
    "Because you already know `for` loops, let us begin there and then convert to a list comprehension.\n",
    "\n",
    "Imagine you want to create a list of squares for the numbers 0 through 9:"
   ]
  },
  {
   "cell_type": "code",
   "execution_count": 1,
   "id": "b11581a4-40bd-43f1-bd7a-2b89adb30b82",
   "metadata": {
    "execution": {
     "iopub.execute_input": "2025-08-26T10:19:20.269975Z",
     "iopub.status.busy": "2025-08-26T10:19:20.269574Z",
     "iopub.status.idle": "2025-08-26T10:19:20.278213Z",
     "shell.execute_reply": "2025-08-26T10:19:20.277448Z",
     "shell.execute_reply.started": "2025-08-26T10:19:20.269939Z"
    },
    "tags": [
     "hide-output"
    ]
   },
   "outputs": [
    {
     "data": {
      "text/plain": [
       "[0, 1, 4, 9, 16, 25, 36, 49, 64, 81]"
      ]
     },
     "execution_count": 1,
     "metadata": {},
     "output_type": "execute_result"
    }
   ],
   "source": [
    "squares = []\n",
    "for x in range(10):\n",
    "    squares.append(x**2)\n",
    "\n",
    "squares"
   ]
  },
  {
   "cell_type": "markdown",
   "id": "c979ccb1-ca1c-4f99-bb7a-811a6d53c6b3",
   "metadata": {},
   "source": [
    "The comprehension version would look like this (same result):"
   ]
  },
  {
   "cell_type": "code",
   "execution_count": 2,
   "id": "ea87570d-0330-471a-bf7c-f9a409862a3c",
   "metadata": {
    "execution": {
     "iopub.execute_input": "2025-08-26T10:19:20.279032Z",
     "iopub.status.busy": "2025-08-26T10:19:20.278840Z",
     "iopub.status.idle": "2025-08-26T10:19:20.285272Z",
     "shell.execute_reply": "2025-08-26T10:19:20.284398Z",
     "shell.execute_reply.started": "2025-08-26T10:19:20.279013Z"
    },
    "tags": [
     "hide-output"
    ]
   },
   "outputs": [
    {
     "data": {
      "text/plain": [
       "[0, 1, 4, 9, 16, 25, 36, 49, 64, 81]"
      ]
     },
     "execution_count": 2,
     "metadata": {},
     "output_type": "execute_result"
    }
   ],
   "source": [
    "squares = [x**2 for x in range(10)]\n",
    "squares"
   ]
  },
  {
   "cell_type": "markdown",
   "id": "18b8c9e1-ef71-49ee-a6a8-82b256c09e4f",
   "metadata": {},
   "source": [
    "Both approaches do the same thing: **iterate → transform → collect**.\\\n",
    "The comprehension just expresses it more compactly."
   ]
  },
  {
   "cell_type": "markdown",
   "id": "5095a887-ede3-4c8e-b1a2-9625844586b5",
   "metadata": {},
   "source": [
    "---\n",
    "## The syntax of a list comprehension\n",
    "\n",
    "The general pattern of a list comprehension looks like this:\n",
    "\n",
    "```python\n",
    "[ expression for item in iterable if condition ]\n",
    "```\n",
    "\n",
    "- **expression** → what you put into the new list (often a transformation of `item`).\n",
    "- **for item in iterable** → the loop that goes through each `item` in your source data.\n",
    "- **if condition** (optional) → a filter deciding whether to include the current `item`.\n",
    "\n",
    "Think of a list comprehension as a **compressed `for` loop** with an optional filter."
   ]
  },
  {
   "cell_type": "markdown",
   "id": "41eca12d-b415-4a93-8762-da07b0a999d2",
   "metadata": {},
   "source": [
    "### Reading and writing comprehensions step by step\n",
    "\n",
    "Start with the loop you would normally write, then compress it:\n",
    "\n",
    "1. Write the loop that visits each element.\n",
    "2. (Optional) Add a condition to filter elements.\n",
    "3. Move the “result expression” (what you would `.append()`) to the front.\n",
    "\n",
    "**Loop → comprehension (even squares 0–9):**"
   ]
  },
  {
   "cell_type": "code",
   "execution_count": 1,
   "id": "8ac4af9f-54ff-427a-86ad-4cf68213078e",
   "metadata": {
    "execution": {
     "iopub.execute_input": "2025-08-26T10:27:12.571930Z",
     "iopub.status.busy": "2025-08-26T10:27:12.571494Z",
     "iopub.status.idle": "2025-08-26T10:27:12.582985Z",
     "shell.execute_reply": "2025-08-26T10:27:12.581613Z",
     "shell.execute_reply.started": "2025-08-26T10:27:12.571892Z"
    },
    "tags": [
     "hide-output"
    ]
   },
   "outputs": [
    {
     "data": {
      "text/plain": [
       "[0, 4, 16, 36, 64]"
      ]
     },
     "execution_count": 1,
     "metadata": {},
     "output_type": "execute_result"
    }
   ],
   "source": [
    "# loop\n",
    "even_squares = []\n",
    "for x in range(10):\n",
    "    if x % 2 == 0:\n",
    "        even_squares.append(x**2)\n",
    "\n",
    "even_squares"
   ]
  },
  {
   "cell_type": "code",
   "execution_count": 2,
   "id": "b2749926-3799-4f62-816c-73bcfae69c76",
   "metadata": {
    "execution": {
     "iopub.execute_input": "2025-08-26T10:27:19.692495Z",
     "iopub.status.busy": "2025-08-26T10:27:19.691944Z",
     "iopub.status.idle": "2025-08-26T10:27:19.701519Z",
     "shell.execute_reply": "2025-08-26T10:27:19.700496Z",
     "shell.execute_reply.started": "2025-08-26T10:27:19.692439Z"
    },
    "tags": [
     "hide-output"
    ]
   },
   "outputs": [
    {
     "data": {
      "text/plain": [
       "[0, 4, 16, 36, 64]"
      ]
     },
     "execution_count": 2,
     "metadata": {},
     "output_type": "execute_result"
    }
   ],
   "source": [
    "# comprehension\n",
    "even_squares = [x**2 for x in range(10) if x % 2 == 0]\n",
    "\n",
    "even_squares"
   ]
  },
  {
   "cell_type": "markdown",
   "id": "5898c0bb-0222-469e-99e9-030fc419c490",
   "metadata": {},
   "source": [
    "The two code blocks above do exactly the same thing: they both build a list of the squares of the even numbers from 0 to 9.\n",
    "\n",
    "- In the loop version, we create an empty list, loop over numbers, check if each number is even, and then append its square to the list.\n",
    "- In the comprehension version, the same logic is expressed in a single line: iterate through the numbers, filter with `if x % 2 == 0`, and apply the expression `x**2`.\n",
    "\n",
    "The comprehension is simply a more compact way to write the loop."
   ]
  },
  {
   "cell_type": "markdown",
   "id": "79321daa-fe8b-49fc-84cd-31dcd254a852",
   "metadata": {},
   "source": [
    "### Understanding the order of execution in list comprehensions\n",
    "\n",
    "Although the code is written as:"
   ]
  },
  {
   "cell_type": "code",
   "execution_count": 4,
   "id": "537caaac-9f39-4ead-ad79-5578095ffbda",
   "metadata": {
    "execution": {
     "iopub.execute_input": "2025-08-26T10:19:20.291449Z",
     "iopub.status.busy": "2025-08-26T10:19:20.291079Z",
     "iopub.status.idle": "2025-08-26T10:19:20.296168Z",
     "shell.execute_reply": "2025-08-26T10:19:20.295215Z",
     "shell.execute_reply.started": "2025-08-26T10:19:20.291426Z"
    },
    "tags": [
     "hide-output"
    ]
   },
   "outputs": [
    {
     "data": {
      "text/plain": [
       "[0, 4, 16, 36, 64]"
      ]
     },
     "execution_count": 4,
     "metadata": {},
     "output_type": "execute_result"
    }
   ],
   "source": [
    "[x**2 for x in range(10) if x % 2 == 0]"
   ]
  },
  {
   "cell_type": "markdown",
   "id": "2937c9fe-b493-4e6c-9304-20e1a632441a",
   "metadata": {},
   "source": [
    "The way it *executes* mirrors a normal `for` loop:\n",
    "\n",
    "1. Loop through numbers `0` to `9` (`for x in range(10)`).\n",
    "2. Check the condition `if x % 2 == 0` - keep only the even numbers.\n",
    "3. Apply the expression `x**2` to each number that passed the test.\n",
    "\n",
    "So even though the expression appears first in the code, the execution order is: **loop → condition → expression**.\n",
    "\n",
    "*Tip*: If the order feels confusing, rewrite the comprehension as a loop with `.append()` and compare - they are equivalent."
   ]
  },
  {
   "cell_type": "markdown",
   "id": "d7929691-12b1-44df-b5c2-9f7ea45f0084",
   "metadata": {},
   "source": [
    "---\n",
    "## Examples"
   ]
  },
  {
   "cell_type": "markdown",
   "id": "bf552f17-1035-43cb-876e-f108e443324d",
   "metadata": {},
   "source": [
    "### Transforming values\n",
    "\n",
    "A comprehension can transform each element on the way in:"
   ]
  },
  {
   "cell_type": "code",
   "execution_count": 5,
   "id": "881b12d9-3c4c-4156-9669-f8d51eb442e5",
   "metadata": {
    "execution": {
     "iopub.execute_input": "2025-08-26T10:19:20.297285Z",
     "iopub.status.busy": "2025-08-26T10:19:20.297061Z",
     "iopub.status.idle": "2025-08-26T10:19:20.301987Z",
     "shell.execute_reply": "2025-08-26T10:19:20.301278Z",
     "shell.execute_reply.started": "2025-08-26T10:19:20.297267Z"
    },
    "tags": [
     "hide-output"
    ]
   },
   "outputs": [
    {
     "data": {
      "text/plain": [
       "['PYTHON', 'LIST', 'COMPREHENSION']"
      ]
     },
     "execution_count": 5,
     "metadata": {},
     "output_type": "execute_result"
    }
   ],
   "source": [
    "words = [\"python\", \"list\", \"comprehension\"]\n",
    "uppercased = [w.upper() for w in words]\n",
    "uppercased"
   ]
  },
  {
   "cell_type": "markdown",
   "id": "27b53278-c3cd-418b-9d64-ca9efbb90dc3",
   "metadata": {},
   "source": [
    "### Filtering elements\n",
    "\n",
    "You can include only certain items by adding an `if` clause:"
   ]
  },
  {
   "cell_type": "code",
   "execution_count": 6,
   "id": "02434c61-c7bf-4e43-9786-62bd50c25fb6",
   "metadata": {
    "execution": {
     "iopub.execute_input": "2025-08-26T10:19:20.302930Z",
     "iopub.status.busy": "2025-08-26T10:19:20.302622Z",
     "iopub.status.idle": "2025-08-26T10:19:20.307602Z",
     "shell.execute_reply": "2025-08-26T10:19:20.306780Z",
     "shell.execute_reply.started": "2025-08-26T10:19:20.302910Z"
    },
    "tags": [
     "hide-output"
    ]
   },
   "outputs": [
    {
     "data": {
      "text/plain": [
       "[0, 2, 4, 6, 8]"
      ]
     },
     "execution_count": 6,
     "metadata": {},
     "output_type": "execute_result"
    }
   ],
   "source": [
    "evens = [n for n in range(10) if n % 2 == 0]\n",
    "evens\n"
   ]
  },
  {
   "cell_type": "markdown",
   "id": "eab4f5e7-1bde-4ec8-a99b-465d61565748",
   "metadata": {},
   "source": [
    "Combine transform + filter:"
   ]
  },
  {
   "cell_type": "code",
   "execution_count": 7,
   "id": "d4331a71-6a10-40f7-a311-437b3837e693",
   "metadata": {
    "execution": {
     "iopub.execute_input": "2025-08-26T10:19:20.308645Z",
     "iopub.status.busy": "2025-08-26T10:19:20.308434Z",
     "iopub.status.idle": "2025-08-26T10:19:20.313180Z",
     "shell.execute_reply": "2025-08-26T10:19:20.312678Z",
     "shell.execute_reply.started": "2025-08-26T10:19:20.308628Z"
    },
    "tags": [
     "hide-output"
    ]
   },
   "outputs": [
    {
     "data": {
      "text/plain": [
       "[0, 4, 16, 36, 64]"
      ]
     },
     "execution_count": 7,
     "metadata": {},
     "output_type": "execute_result"
    }
   ],
   "source": [
    "even_squares = [n**2 for n in range(10) if n % 2 == 0]\n",
    "even_squares"
   ]
  },
  {
   "cell_type": "markdown",
   "id": "71ae5d22-2d38-4a7a-afd8-3a0bb4abdddd",
   "metadata": {},
   "source": [
    "### Nested comprehensions (use with care)"
   ]
  },
  {
   "cell_type": "code",
   "execution_count": 8,
   "id": "1733eee2-d7d8-45d7-b504-83f72a8dbe07",
   "metadata": {
    "execution": {
     "iopub.execute_input": "2025-08-26T10:19:20.314208Z",
     "iopub.status.busy": "2025-08-26T10:19:20.314012Z",
     "iopub.status.idle": "2025-08-26T10:19:20.318721Z",
     "shell.execute_reply": "2025-08-26T10:19:20.318159Z",
     "shell.execute_reply.started": "2025-08-26T10:19:20.314190Z"
    },
    "tags": [
     "hide-output"
    ]
   },
   "outputs": [
    {
     "data": {
      "text/plain": [
       "[1, 2, 3, 4, 5, 6, 7, 8, 9]"
      ]
     },
     "execution_count": 8,
     "metadata": {},
     "output_type": "execute_result"
    }
   ],
   "source": [
    "matrix = [[1, 2, 3], [4, 5, 6], [7, 8, 9]]\n",
    "flattened = [num for row in matrix for num in row]\n",
    "flattened"
   ]
  },
  {
   "cell_type": "markdown",
   "id": "6d103576-5e07-4266-808f-ddc2519b2031",
   "metadata": {
    "execution": {
     "iopub.execute_input": "2025-08-26T07:10:29.792341Z",
     "iopub.status.busy": "2025-08-26T07:10:29.792096Z",
     "iopub.status.idle": "2025-08-26T07:10:29.797672Z",
     "shell.execute_reply": "2025-08-26T07:10:29.796131Z",
     "shell.execute_reply.started": "2025-08-26T07:10:29.792323Z"
    }
   },
   "source": [
    "<i class=\"fa-solid fa-triangle-exclamation\"></i> Nested comprehensions can be harder to read. If a comprehension feels hard to read, it is often better to write a regular loop."
   ]
  },
  {
   "cell_type": "markdown",
   "id": "4a2b2d23-3615-4836-8d2c-f2b43555d893",
   "metadata": {},
   "source": [
    "````{admonition} Practical Tips and Pitfalls\n",
    ":class: tip dropdown\n",
    "\n",
    "- **Readability first:** If a comprehension is long or has multiple conditions, a regular loop is clearer.\n",
    "- **Memory:** List comprehensions build the whole list in memory. For very large data, consider a [generator expression](https://pycon2019.trey.io/generator-expressions):\n",
    "\n",
    "```python\n",
    "squares_gen = (x**2 for x in range(1_000_000))  # parentheses → generator\n",
    "```\n",
    "\n",
    "<ul>\n",
    "  <li style=\"list-style-type:none;\">\n",
    "    Generators produce items one by one (memory-friendly) but can be iterated only once.\n",
    "  </li>\n",
    "</ul>\n",
    "\n",
    "- **Variable scope:** In modern Python, the loop variable inside a comprehension (e.g., `x`) does not “leak” to the outer scope.\n",
    "- **Avoid side effects:** A list comprehension should mainly be used to build a new list. Try to keep it simple: take some input → transform it → get output.\\\n",
    "If you put other actions inside (like `print()`, writing to a file, or changing variables), the comprehension becomes confusing. These actions are called *side effects*.\n",
    "````"
   ]
  },
  {
   "cell_type": "markdown",
   "id": "62dc3c77-afa1-48b4-a005-51764a75b595",
   "metadata": {},
   "source": [
    "---\n",
    "## Exercises"
   ]
  },
  {
   "cell_type": "markdown",
   "id": "274100ad-9a79-4f27-bb13-f32b6637c757",
   "metadata": {
    "jp-MarkdownHeadingCollapsed": true
   },
   "source": [
    "### <i class=\"fa-solid fa-pencil\"></i> Exercise 1: Odd numbers\n",
    "\n",
    "Create a list of the first 20 odd numbers using a list comprehension.\n",
    "\n",
    "````{admonition} Solution\n",
    ":class: dropdown\n",
    "\n",
    "```python\n",
    "odds = [2*n + 1 for n in range(20)]\n",
    "\n",
    "# n values:   [0, 1, 2, ..., 19]\n",
    "# odds list:  [1, 3, 5, 7, ..., 39]\n",
    "```\n",
    "\n",
    "We iterate over indices `0..19` and map each `n` to the odd number `2*n + 1`. This yields exactly 20 values, starting at 1 and ending at 39."
   ]
  },
  {
   "cell_type": "markdown",
   "id": "8ab16379-0976-4eae-8c94-a5ed1dc393dc",
   "metadata": {},
   "source": [
    "___\n",
    "### <i class=\"fa-solid fa-pencil\"></i> Exercise 2: Normalise names\n",
    "\n",
    "Given `names = [\"alice\", \"Bob\", \"CHARLIE\"]`, use list comprehension to build a new list where all names are lowercase.\n",
    "\n",
    "````{admonition} Solution\n",
    ":class: dropdown\n",
    "\n",
    "```python\n",
    "names = [\"alice\", \"Bob\", \"CHARLIE\"]\n",
    "lowers = [name.lower() for name in names]\n",
    "\n",
    "# lowers list:  ['alice', 'bob', 'charlie']\n",
    "```\n",
    "\n",
    "Apply the transformation `name.lower()` to each element and collect the results."
   ]
  },
  {
   "cell_type": "markdown",
   "id": "5ab2a08f-e95f-4ef9-9689-ffda052db6ec",
   "metadata": {},
   "source": [
    "___\n",
    "### <i class=\"fa-solid fa-pencil\"></i> Exercise 3: Filter positives\n",
    "\n",
    "From `numbers = [3, -1, 4, -2, 5, -6]`, use list comprehension to make a list containing only the positive values.\n",
    "\n",
    "````{admonition} Solution\n",
    ":class: dropdown\n",
    "\n",
    "```python\n",
    "numbers = [3, -1, 4, -2, 5, -6]\n",
    "positives = [x for x in numbers if x > 0]\n",
    "\n",
    "# positives list:  [3, 4, 5]\n",
    "```\n",
    "\n",
    "The `if x > 0` clause filters out non-positive numbers; the comprehension collects only values that satisfy the condition."
   ]
  },
  {
   "cell_type": "markdown",
   "id": "b3fdc2f1-2424-48be-b635-3cdeed21193a",
   "metadata": {},
   "source": [
    "___\n",
    "### <i class=\"fa-solid fa-pencil\"></i> Exercise 4: Filter and transform\n",
    "\n",
    "Use list comprehension to produce the squares of all numbers from 0–30 that are divisible by 3.\n",
    "\n",
    "````{admonition} Solution\n",
    ":class: dropdown\n",
    "\n",
    "```python\n",
    "squares_div3 = [x**2 for x in range(31) if x % 3 == 0]\n",
    "\n",
    "# squares_div3 list:  [0, 9, 36, 81, 144, 225, 324, 441, 576, 729, 900]\n",
    "```\n",
    "\n",
    "We loop `x` over `0..30`, keep only `x % 3 == 0`, then apply the expression `x**2` to each kept value."
   ]
  },
  {
   "cell_type": "markdown",
   "id": "2052550a-77f0-494e-bcf8-debd5635402c",
   "metadata": {},
   "source": [
    "___\n",
    "### <i class=\"fa-solid fa-pencil\"></i> Exercise 5: Two-letter combinations\n",
    "\n",
    "Use list comprehension to create all two-letter combinations from `\"AB\"` and `\"CD\"` to get `[\"AC\", \"AD\", \"BC\", \"BD\"]`.\n",
    "\n",
    "````{admonition} Solution\n",
    ":class: dropdown\n",
    "\n",
    "```python\n",
    "combos = [a + b for a in \"AB\" for b in \"CD\"]\n",
    "\n",
    "# combos list:  ['AC', 'AD', 'BC', 'BD']\n",
    "```\n",
    "\n",
    "This is a nested iteration: for each `a` in `\"AB\"`, we iterate `b` in `\"CD\"` and concatenate `a + b`.\\\n",
    "In other words, this comprehension has two loops:\n",
    "\n",
    "- The first loop takes each letter `a` from `\"AB\"` → first `\"A\"`, then `\"B\"`.  \n",
    "- For each `a`, the second loop takes each letter `b` from `\"CD\"` → `\"C\"`, then `\"D\"`.  \n",
    "- The expression `a + b` joins the two letters into a pair.  \n",
    "\n",
    "So the program first makes `\"AC\"` and `\"AD\"` (with `a = \"A\"`), and then `\"BC\"` and `\"BD\"` (with `a = \"B\"`)."
   ]
  },
  {
   "cell_type": "markdown",
   "id": "fc9c6bf1-70f0-4a55-aa0c-6c41ef50aa65",
   "metadata": {
    "jp-MarkdownHeadingCollapsed": true
   },
   "source": [
    "___\n",
    "### <i class=\"fa-solid fa-pencil\"></i> Exercise 6: Word lengths\n",
    "\n",
    "From the sentence `\"List comprehensions are powerful\"`, use list comprehension to make a list of word lengths.\n",
    "\n",
    "```{admonition} Hint\n",
    ":class: tip dropdown\n",
    "Have a look at the `split()` method: [https://www.w3schools.com/python/ref_string_split.asp](https://www.w3schools.com/python/ref_string_split.asp).\n",
    "```\n",
    "\n",
    "````{admonition} Solution\n",
    ":class: dropdown\n",
    "\n",
    "```python\n",
    "sentence = \"List comprehensions are powerful\"\n",
    "lengths = [len(word) for word in sentence.split()]\n",
    "\n",
    "# lengths list:  [4, 14, 3, 8]\n",
    "```\n",
    "\n",
    "`split()` tokenizes the sentence by whitespace; we then apply `len(...)` to each word and collect the lengths."
   ]
  },
  {
   "cell_type": "markdown",
   "id": "b2fefd5a-f486-49b4-af26-8c3d73d3f674",
   "metadata": {},
   "source": [
    "___\n",
    "### <i class=\"fa-solid fa-pencil\"></i> Exercise 7: Loop to comprehension\n",
    "\n",
    "Rewrite this loop as a list comprehension:\n",
    "\n",
    "```python\n",
    "result = []\n",
    "for x in range(20):\n",
    "    if x % 5 == 0:\n",
    "        result.append(x // 5)\n",
    "```\n",
    "\n",
    "````{admonition} Solution\n",
    ":class: dropdown\n",
    "\n",
    "```python\n",
    "result = [x // 5 for x in range(20) if x % 5 == 0]\n",
    "\n",
    "# result list:  [0, 1, 2, 3]\n",
    "```\n",
    "\n",
    "Execution order is **loop → condition → expression**: iterate `x` in `0..19`, keep multiples of 5, then transform with `x // 5`."
   ]
  },
  {
   "cell_type": "markdown",
   "id": "1bdd4b2d-411a-4992-9e81-f6b76921a722",
   "metadata": {},
   "source": [
    "---\n",
    "## Key Points\n",
    "\n",
    "- List comprehensions are a quick way to build lists.\n",
    "- General syntax: `[expression for item in iterable if condition]`.\n",
    "- They work like loops: go through items, check condition, add result.\n",
    "- Good for simple transform or filter but use loops if it gets too complex."
   ]
  },
  {
   "cell_type": "code",
   "execution_count": null,
   "id": "0e7438a0-34bf-4877-be3f-4027a1f58569",
   "metadata": {
    "tags": [
     "hide-output"
    ]
   },
   "outputs": [],
   "source": []
  }
 ],
 "metadata": {
  "kernelspec": {
   "display_name": "Python 3 (ipykernel)",
   "language": "python",
   "name": "python3"
  },
  "language_info": {
   "codemirror_mode": {
    "name": "ipython",
    "version": 3
   },
   "file_extension": ".py",
   "mimetype": "text/x-python",
   "name": "python",
   "nbconvert_exporter": "python",
   "pygments_lexer": "ipython3",
   "version": "3.13.5"
  }
 },
 "nbformat": 4,
 "nbformat_minor": 5
}
