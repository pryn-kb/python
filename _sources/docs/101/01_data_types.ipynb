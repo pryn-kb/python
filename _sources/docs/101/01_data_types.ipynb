{
 "cells": [
  {
   "cell_type": "markdown",
   "id": "18ce2541-88b1-4c17-b86a-78777ea637af",
   "metadata": {},
   "source": [
    "# Data Types"
   ]
  },
  {
   "cell_type": "markdown",
   "id": "714f004d-a30e-4033-961f-848d2aa78550",
   "metadata": {},
   "source": [
    "```{admonition} Learning Objectives\n",
    "\n",
    "Questions\n",
    "* What kind of data types exist in Python?\n",
    "* What are the key differences between the data types?\n",
    "\n",
    "Objectives\n",
    "* Understand the essential data types in Python\n",
    "* Explain what a string is, and what you can do with it\n",
    "* Explain the differences between integers and floats\n",
    "* Explain what a boolean is, and how to use comparisons"
   ]
  },
  {
   "cell_type": "markdown",
   "id": "82919fc9-4e95-405d-81ee-eb2410efc3a5",
   "metadata": {},
   "source": [
    "There are four essential kinds of Python data with different powers and capabilities:\n",
    "\n",
    "* **Strings** (Text)\n",
    "* **Integers** (Whole Numbers)\n",
    "* **Floats** (Decimal Numbers)\n",
    "* **Booleans** (True/False)\n",
    "\n",
    "Take a look at the two examples below.\n",
    "What differences do you notice?"
   ]
  },
  {
   "cell_type": "markdown",
   "id": "8fa93e10-6707-4974-9fc0-eae75223ede5",
   "metadata": {},
   "source": [
    "```code\n",
    "'Here is a some text'\n",
    "```\n",
    "```code\n",
    "42\n",
    "```"
   ]
  },
  {
   "cell_type": "markdown",
   "id": "dcbd4fed-433a-4341-b03a-d8b4a471f762",
   "metadata": {},
   "source": [
    "You might be wondering…\n",
    "\n",
    "Why is ‘Here is some text’ surrounded by quotation marks while 42 is not?\n",
    "\n",
    "Because these are two different “types” of Python data. We will look closer at the different types below."
   ]
  },
  {
   "cell_type": "markdown",
   "id": "0605a6b1-62df-4d83-b37d-d8741c51a3fb",
   "metadata": {},
   "source": [
    "<table class=\"colwidths-auto table\" style=\"border:1px solid black\">\n",
    "<thead>\n",
    "<tr class=\"row-odd\">\n",
    "<th class=\"head\"><p>Data Type</p></th>\n",
    "<th class=\"head\"><p>Explanation</p></th>\n",
    "<th class=\"head\"><p>Example</p></th>\n",
    "</tr>\n",
    "</thead>\n",
    "<tbody>\n",
    "<tr class=\"row-even\">\n",
    "<td><p>String</p></td>\n",
    "<td><p>Text</p></td>\n",
    "<td><p>'Anything goes 4 strings!'</p></td>\n",
    "</tr>\n",
    "<tr class=\"row-odd\">\n",
    "<td><p>Integer</p></td>\n",
    "<td><p>Whole Numbers</p></td>\n",
    "<td><p>42</p></td>\n",
    "</tr>\n",
    "<tr class=\"row-even\">\n",
    "<td><p>Float</p></td>\n",
    "<td><p>Decimal Numbers</p></td>\n",
    "<td><p>3.1415926</p></td>\n",
    "</tr>\n",
    "<tr class=\"row-odd\">\n",
    "<td><p>Boolean</p></td>\n",
    "<td><p>True/False</p></td>\n",
    "<td><p>False</p></td>\n",
    "</tr>\n",
    "</tbody>\n",
    "</table>"
   ]
  },
  {
   "cell_type": "markdown",
   "id": "5c0c8d1d-bea0-4e9a-b2b7-720059cbd671",
   "metadata": {},
   "source": [
    "Note, that many Python editors and environments (such as Juptyter Lab etc.) will colour the output based on data type. E.g. in Jupyter Lab strings will be in red and integers in green like this:\n",
    "\n",
    "```python\n",
    "'Here is a some text'\n",
    "```\n",
    "```python\n",
    "42\n",
    "```"
   ]
  },
  {
   "cell_type": "markdown",
   "id": "049a5e94-b191-4d9d-ab44-10c3a39935f9",
   "metadata": {},
   "source": [
    "## Check Data Types"
   ]
  },
  {
   "cell_type": "markdown",
   "id": "f6244771-9f6f-4373-ad5b-a85be03ab889",
   "metadata": {},
   "source": [
    "You can check the data type of any value by using the function `type()`."
   ]
  },
  {
   "cell_type": "code",
   "execution_count": 1,
   "id": "ef9caac3-c3ea-4ded-ba22-a4ac15729743",
   "metadata": {},
   "outputs": [
    {
     "data": {
      "text/plain": [
       "str"
      ]
     },
     "execution_count": 1,
     "metadata": {},
     "output_type": "execute_result"
    }
   ],
   "source": [
    "type('Here is some text')"
   ]
  },
  {
   "cell_type": "markdown",
   "id": "9d96b8d4-7d0f-4b6c-816c-1e56b57742cf",
   "metadata": {},
   "source": [
    "The output `str` is short for string."
   ]
  },
  {
   "cell_type": "code",
   "execution_count": 2,
   "id": "cca907e0-b7ac-416e-b50c-05155e857ff9",
   "metadata": {},
   "outputs": [
    {
     "data": {
      "text/plain": [
       "int"
      ]
     },
     "execution_count": 2,
     "metadata": {},
     "output_type": "execute_result"
    }
   ],
   "source": [
    "type(42)"
   ]
  },
  {
   "cell_type": "markdown",
   "id": "35010976-10f4-46ee-b4a7-fd6628d198d1",
   "metadata": {},
   "source": [
    "The output `int` is short for integer."
   ]
  },
  {
   "cell_type": "markdown",
   "id": "dfe33ec4-d3f7-42e4-8113-30951ae1f8be",
   "metadata": {},
   "source": [
    "## Strings"
   ]
  },
  {
   "cell_type": "markdown",
   "id": "e7e09b5f-cc7f-47ee-bd3f-af5b53233852",
   "metadata": {},
   "source": [
    "A *string* is a Python data type that is treated like text, even if it contains a number. Strings are always enclosed by either single quotation marks `'this is a string'` or double quotation marks `\"this is also a string\"`."
   ]
  },
  {
   "cell_type": "markdown",
   "id": "d9326187-58d4-46dc-815c-0673c5dd2279",
   "metadata": {},
   "source": [
    "```python\n",
    "'this is a string'\n",
    "```\n",
    "```python\n",
    "\"this is also a string, even though it contains a number like 42\"\n",
    "```\n",
    "```python\n",
    "this is not a string\n",
    "```"
   ]
  },
  {
   "cell_type": "markdown",
   "id": "5fb11103-e11d-4ed2-b804-6c93512f9321",
   "metadata": {},
   "source": [
    "It doesn’t matter whether you use single or double quotation marks with strings, as long as you use the same kind on either side of the string."
   ]
  },
  {
   "cell_type": "markdown",
   "id": "53d96af1-ee18-4b91-bb6d-f7ca8e11f7d7",
   "metadata": {},
   "source": [
    "````{tip}\n",
    "\n",
    "### Quotation marks inside strings\n",
    "How can you have quotation marks inside a string?\n",
    "```{admonition} Escape characters\n",
    ":class: dropdown\n",
    "Escape characters and how to tell Python to igonre special meanings. This can be handy if you need to make quotation marks inside a string. This can be done in two ways.\n",
    "\n",
    "Use the opposite kind of quotation mark inside the string:\n",
    "\n",
    "    \"She exclaimed, 'This is a quotation inside a string!'\"\n",
    "\n",
    "Or “escape” the quotation mark by using a backslash `\\` before it:\n",
    "\n",
    "    \"She exclaimed, \\\"This is also a quotation inside a string!\\\"\"\n",
    "````"
   ]
  },
  {
   "cell_type": "markdown",
   "id": "6f8f8f33-745c-4580-8f01-6870a5bff1b9",
   "metadata": {},
   "source": [
    "## String Methods"
   ]
  },
  {
   "cell_type": "markdown",
   "id": "ec2ffd75-c960-440b-8f84-d85b5aeaaa59",
   "metadata": {},
   "source": [
    "Each data type has different properties and capabilities. So there are special things that only strings can do, and there are special ways of interacting with strings.\n",
    "\n",
    "For example, you can **index** and **slice** strings, you can **append** strings together.\\\n",
    "Here are a few examples:"
   ]
  },
  {
   "cell_type": "markdown",
   "id": "acfdd04b-7ad5-463c-a00d-95706cd867a5",
   "metadata": {},
   "source": [
    "### Index"
   ]
  },
  {
   "cell_type": "markdown",
   "id": "1353dcf4-0ab1-4a53-9f47-31ca6f0cf459",
   "metadata": {},
   "source": [
    "Often in programming languages, individual items in an ordered set of data, can be accessed directly using a numeric index or key value. This process is referred to as indexing.\n",
    "\n",
    "In Python, strings are ordered sequences of character data, and thus can be indexed in this way. Individual characters in a string can be accessed by specifying the string name followed by a number in square brackets `[]`.\n",
    "\n",
    "String indexing in Python is zero-based: the first character in the string has index 0, the next has index 1, and so on. The index of the last character will be the length of the string minus one. It can be illustrated like this:"
   ]
  },
  {
   "cell_type": "code",
   "execution_count": null,
   "id": "81937baf-b03e-40b2-b37f-a95d09eddcd3",
   "metadata": {},
   "outputs": [],
   "source": []
  }
 ],
 "metadata": {
  "kernelspec": {
   "display_name": "Python 3 (ipykernel)",
   "language": "python",
   "name": "python3"
  },
  "language_info": {
   "codemirror_mode": {
    "name": "ipython",
    "version": 3
   },
   "file_extension": ".py",
   "mimetype": "text/x-python",
   "name": "python",
   "nbconvert_exporter": "python",
   "pygments_lexer": "ipython3",
   "version": "3.11.5"
  }
 },
 "nbformat": 4,
 "nbformat_minor": 5
}
