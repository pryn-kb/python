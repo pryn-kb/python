{
 "cells": [
  {
   "cell_type": "markdown",
   "id": "18ce2541-88b1-4c17-b86a-78777ea637af",
   "metadata": {},
   "source": [
    "# Data Types"
   ]
  },
  {
   "cell_type": "markdown",
   "id": "714f004d-a30e-4033-961f-848d2aa78550",
   "metadata": {},
   "source": [
    "```{admonition} Learning Objectives\n",
    "\n",
    "Questions\n",
    "* What kind of data types exist in Python?\n",
    "* What are the key differences between the data types?\n",
    "\n",
    "Objectives\n",
    "* Understand the essential data types in Python.\n",
    "* Explain what a string is, and what you can do with it.\n",
    "* Explain the differences between integers and floats.\n",
    "* Explain what a boolean is, and how to use comparisons."
   ]
  },
  {
   "cell_type": "markdown",
   "id": "5d436851-dc43-4246-85fd-276861ba6ed9",
   "metadata": {},
   "source": [
    "---"
   ]
  },
  {
   "cell_type": "markdown",
   "id": "82919fc9-4e95-405d-81ee-eb2410efc3a5",
   "metadata": {},
   "source": [
    "## Built-in Data Types\n",
    "\n",
    "There are four essential built-in data types with different powers and capabilities:\n",
    "\n",
    "* **Strings** (Text)\n",
    "* **Integers** (Whole Numbers)\n",
    "* **Floats** (Decimal Numbers)\n",
    "* **Booleans** (True/False)\n",
    "\n",
    "Take a look at the two examples below.\n",
    "What differences do you notice?"
   ]
  },
  {
   "cell_type": "markdown",
   "id": "8fa93e10-6707-4974-9fc0-eae75223ede5",
   "metadata": {},
   "source": [
    "```text\n",
    "'Here is a some text'\n",
    "```\n",
    "```text\n",
    "42\n",
    "```"
   ]
  },
  {
   "cell_type": "markdown",
   "id": "dcbd4fed-433a-4341-b03a-d8b4a471f762",
   "metadata": {},
   "source": [
    "You might be wondering…\n",
    "\n",
    "Why is ‘Here is some text’ surrounded by quotation marks while 42 is not? Because these are two different “types” of Python data.\n",
    "\n",
    "We will look closer at the different types below."
   ]
  },
  {
   "cell_type": "markdown",
   "id": "0605a6b1-62df-4d83-b37d-d8741c51a3fb",
   "metadata": {},
   "source": [
    "<table class=\"colwidths-auto table\" style=\"border:1px solid black\">\n",
    "<thead>\n",
    "<tr class=\"row-odd\">\n",
    "<th class=\"head\"><p>Data Type</p></th>\n",
    "<th class=\"head\"><p>Explanation</p></th>\n",
    "<th class=\"head\"><p>Example</p></th>\n",
    "</tr>\n",
    "</thead>\n",
    "<tbody>\n",
    "<tr class=\"row-even\">\n",
    "<td><p>String</p></td>\n",
    "<td><p>Text</p></td>\n",
    "<td><p>'Anything goes 4 strings!'</p></td>\n",
    "</tr>\n",
    "<tr class=\"row-odd\">\n",
    "<td><p>Integer</p></td>\n",
    "<td><p>Whole Numbers</p></td>\n",
    "<td><p>42</p></td>\n",
    "</tr>\n",
    "<tr class=\"row-even\">\n",
    "<td><p>Float</p></td>\n",
    "<td><p>Decimal Numbers</p></td>\n",
    "<td><p>3.1415926</p></td>\n",
    "</tr>\n",
    "<tr class=\"row-odd\">\n",
    "<td><p>Boolean</p></td>\n",
    "<td><p>True/False</p></td>\n",
    "<td><p>False</p></td>\n",
    "</tr>\n",
    "</tbody>\n",
    "</table>"
   ]
  },
  {
   "cell_type": "markdown",
   "id": "986e5adc-622e-4048-bc68-8faf50ad7d62",
   "metadata": {},
   "source": [
    "| Data Type | Explanation      | Example                      |\n",
    "|-----------|------------------|------------------------------|\n",
    "| String    | Text             | 'Anything goes 4 strings!'   |\n",
    "| Integer   | Whole Numbers    | 42                           |\n",
    "| Float     | Decimal Numbers  | 3.1415926                    |\n",
    "| Boolean   | True/False       | False                        |"
   ]
  },
  {
   "cell_type": "markdown",
   "id": "5c0c8d1d-bea0-4e9a-b2b7-720059cbd671",
   "metadata": {
    "editable": true,
    "slideshow": {
     "slide_type": ""
    },
    "tags": []
   },
   "source": [
    "Note, that many Python editors and environments (such as Juptyter Lab etc.) will colour the output based on data type like this:\n",
    "\n",
    "```python\n",
    "'Here is a some text'\n",
    "```\n",
    "```python\n",
    "42\n",
    "```\n",
    "\n",
    "(The colours may vary between the different editors and environments.)"
   ]
  },
  {
   "cell_type": "markdown",
   "id": "d5a92ec9-8685-4b6b-b99f-472de8062058",
   "metadata": {},
   "source": [
    "---"
   ]
  },
  {
   "cell_type": "markdown",
   "id": "049a5e94-b191-4d9d-ab44-10c3a39935f9",
   "metadata": {},
   "source": [
    "## The `type()` function"
   ]
  },
  {
   "cell_type": "markdown",
   "id": "f6244771-9f6f-4373-ad5b-a85be03ab889",
   "metadata": {},
   "source": [
    "You can check the data type of any value by using the function `type()`."
   ]
  },
  {
   "cell_type": "code",
   "execution_count": 1,
   "id": "ef9caac3-c3ea-4ded-ba22-a4ac15729743",
   "metadata": {},
   "outputs": [
    {
     "data": {
      "text/plain": [
       "str"
      ]
     },
     "execution_count": 1,
     "metadata": {},
     "output_type": "execute_result"
    }
   ],
   "source": [
    "type('Here is some text')"
   ]
  },
  {
   "cell_type": "markdown",
   "id": "9d96b8d4-7d0f-4b6c-816c-1e56b57742cf",
   "metadata": {},
   "source": [
    "The output `str` is short for string."
   ]
  },
  {
   "cell_type": "code",
   "execution_count": 2,
   "id": "cca907e0-b7ac-416e-b50c-05155e857ff9",
   "metadata": {},
   "outputs": [
    {
     "data": {
      "text/plain": [
       "int"
      ]
     },
     "execution_count": 2,
     "metadata": {},
     "output_type": "execute_result"
    }
   ],
   "source": [
    "type(42)"
   ]
  },
  {
   "cell_type": "markdown",
   "id": "35010976-10f4-46ee-b4a7-fd6628d198d1",
   "metadata": {},
   "source": [
    "The output `int` is short for integer."
   ]
  },
  {
   "cell_type": "markdown",
   "id": "37d3ca41-0f77-4775-9ee0-3eb46b6c361c",
   "metadata": {},
   "source": [
    "---"
   ]
  },
  {
   "cell_type": "markdown",
   "id": "dfe33ec4-d3f7-42e4-8113-30951ae1f8be",
   "metadata": {},
   "source": [
    "## Strings"
   ]
  },
  {
   "cell_type": "markdown",
   "id": "e7e09b5f-cc7f-47ee-bd3f-af5b53233852",
   "metadata": {},
   "source": [
    "A *string* is a Python data type that is treated like text, even if it contains a number. Strings are always enclosed by either single quotation marks `'this is a string'` or double quotation marks `\"this is also a string\"`."
   ]
  },
  {
   "cell_type": "markdown",
   "id": "d9326187-58d4-46dc-815c-0673c5dd2279",
   "metadata": {},
   "source": [
    "```python\n",
    "'this is a string'\n",
    "```\n",
    "```python\n",
    "\"this is also a string, even though it contains a number like 42\"\n",
    "```\n",
    "```python\n",
    "this is not a string\n",
    "```"
   ]
  },
  {
   "cell_type": "markdown",
   "id": "5fb11103-e11d-4ed2-b804-6c93512f9321",
   "metadata": {},
   "source": [
    "It doesn’t matter whether you use single or double quotation marks with strings, as long as you use the same kind on either side of the string."
   ]
  },
  {
   "cell_type": "markdown",
   "id": "53d96af1-ee18-4b91-bb6d-f7ca8e11f7d7",
   "metadata": {},
   "source": [
    "```{admonition} How can you have quotation marks inside a string?\n",
    ":class: tip dropdown\n",
    "\n",
    "Escape characters and how to tell Python to igonre special meanings. This can be handy if you need to make quotation marks inside a string. This can be done in two ways.\n",
    "\n",
    "Use the opposite kind of quotation mark inside the string:\n",
    "\n",
    "    \"She exclaimed, 'This is a quotation inside a string!'\"\n",
    "\n",
    "Or “escape” the quotation mark by using a backslash `\\` before it:\n",
    "\n",
    "    \"She exclaimed, \\\"This is also a quotation inside a string!\\\"\"\n",
    "```"
   ]
  },
  {
   "cell_type": "markdown",
   "id": "6f8f8f33-745c-4580-8f01-6870a5bff1b9",
   "metadata": {},
   "source": [
    "### String Methods"
   ]
  },
  {
   "cell_type": "markdown",
   "id": "ec2ffd75-c960-440b-8f84-d85b5aeaaa59",
   "metadata": {},
   "source": [
    "Each data type has different properties and capabilities. So there are special things that only strings can do, and there are special ways of interacting with strings.\n",
    "\n",
    "For example, you can **index** and **slice** strings, you can **append** strings together.\\\n",
    "Here are a few examples:"
   ]
  },
  {
   "cell_type": "markdown",
   "id": "acfdd04b-7ad5-463c-a00d-95706cd867a5",
   "metadata": {},
   "source": [
    "#### Index"
   ]
  },
  {
   "cell_type": "markdown",
   "id": "1353dcf4-0ab1-4a53-9f47-31ca6f0cf459",
   "metadata": {},
   "source": [
    "Often in programming languages, individual items in an ordered set of data, can be accessed directly using a numeric index or key value. This process is referred to as indexing.\n",
    "\n",
    "In Python, strings are ordered sequences of character data, and thus can be indexed in this way. Individual characters in a string can be accessed by specifying the string name followed by a number in square brackets `[]`.\n",
    "\n",
    "String indexing in Python is zero-based: the first character in the string has index 0, the next has index 1, and so on. The index of the last character will be the length of the string minus one. It can be illustrated like this:\n",
    "\n",
    "![string index](./images/string_index.png)"
   ]
  },
  {
   "cell_type": "markdown",
   "id": "3dacb2ea-ec3b-46d0-a0bd-f2c1bbfb0202",
   "metadata": {},
   "source": [
    "The individual characters can be accessed by index:"
   ]
  },
  {
   "cell_type": "code",
   "execution_count": 6,
   "id": "76b72db6-4996-4f12-b559-7b40fba1004f",
   "metadata": {},
   "outputs": [
    {
     "data": {
      "text/plain": [
       "'I'"
      ]
     },
     "execution_count": 6,
     "metadata": {},
     "output_type": "execute_result"
    }
   ],
   "source": [
    "'I am a string'[0]"
   ]
  },
  {
   "cell_type": "code",
   "execution_count": 7,
   "id": "717bc491-d9ab-4cde-814c-77c5a4d1b71e",
   "metadata": {},
   "outputs": [
    {
     "data": {
      "text/plain": [
       "'s'"
      ]
     },
     "execution_count": 7,
     "metadata": {},
     "output_type": "execute_result"
    }
   ],
   "source": [
    "'I am a string'[7]"
   ]
  },
  {
   "cell_type": "markdown",
   "id": "bef75b9a-b652-4a97-8903-fbf4a1ffc89f",
   "metadata": {},
   "source": [
    "#### Slice"
   ]
  },
  {
   "cell_type": "markdown",
   "id": "34b19f4d-284e-4b42-a929-6881d3fdbd69",
   "metadata": {},
   "source": [
    "Python  allows a form of indexing syntax that extracts substrings from a string, known as string slicing.\\\n",
    "If `s` is a string, an expression of the form `s[start:stop]` returns the portion of `s` starting with position `start`, and up to ***but not including*** position `stop`:"
   ]
  },
  {
   "cell_type": "code",
   "execution_count": 8,
   "id": "7138dfdf-e8fd-4387-9970-97dad6bbaa77",
   "metadata": {},
   "outputs": [
    {
     "data": {
      "text/plain": [
       "'I am a s'"
      ]
     },
     "execution_count": 8,
     "metadata": {},
     "output_type": "execute_result"
    }
   ],
   "source": [
    "'I am a string'[0:8]"
   ]
  },
  {
   "cell_type": "markdown",
   "id": "a35487c5-1f9c-4cf1-8fba-0a0605c0b0e6",
   "metadata": {},
   "source": [
    "#### Concatenation"
   ]
  },
  {
   "cell_type": "markdown",
   "id": "e8f41296-8f1d-4e81-a10d-622e65bc8248",
   "metadata": {},
   "source": [
    "The `+` operator concatenates strings. It returns a string consisting of the operands joined together, as shown here:"
   ]
  },
  {
   "cell_type": "code",
   "execution_count": 10,
   "id": "a5b413eb-21b5-47f8-abc5-9b635abe883c",
   "metadata": {},
   "outputs": [
    {
     "data": {
      "text/plain": [
       "'I am a string and so am I'"
      ]
     },
     "execution_count": 10,
     "metadata": {},
     "output_type": "execute_result"
    }
   ],
   "source": [
    "'I am a string' + ' and so am I'"
   ]
  },
  {
   "cell_type": "markdown",
   "id": "9e42db4f-9c8e-416a-9848-9131cc2342a2",
   "metadata": {},
   "source": [
    "Notice that we have added a space in the beginning of the second string, otherwise there would be no space between ‘string’ and ‘and’. You can also add a space between two strings like this:"
   ]
  },
  {
   "cell_type": "code",
   "execution_count": 11,
   "id": "a87ef62c-c288-4019-af77-05688f4f8822",
   "metadata": {},
   "outputs": [
    {
     "data": {
      "text/plain": [
       "'I am a string and so am I'"
      ]
     },
     "execution_count": 11,
     "metadata": {},
     "output_type": "execute_result"
    }
   ],
   "source": [
    "'I am a string' + ' ' + 'and so am I' "
   ]
  },
  {
   "cell_type": "markdown",
   "id": "81068358-bdb2-4b8b-973c-282369b55d07",
   "metadata": {},
   "source": [
    "---"
   ]
  },
  {
   "cell_type": "markdown",
   "id": "667d9193-b1f4-408a-b644-3f9da6a595cb",
   "metadata": {},
   "source": [
    "## Integers & Floats"
   ]
  },
  {
   "cell_type": "markdown",
   "id": "8089bb55-59f5-4b20-a605-d39e2bea97b3",
   "metadata": {},
   "source": [
    "An **integer** and a **float** are two Python data types for representing numbers.\n",
    "\n",
    "*   Integers represent whole numbers.\n",
    "*   Floats represent numbers with decimal points.\n",
    "\n",
    "Integers and floats do not need to be placed in quotation marks."
   ]
  },
  {
   "cell_type": "code",
   "execution_count": 12,
   "id": "5a480b5a-ecc0-4038-9885-e04474218eb1",
   "metadata": {},
   "outputs": [
    {
     "data": {
      "text/plain": [
       "int"
      ]
     },
     "execution_count": 12,
     "metadata": {},
     "output_type": "execute_result"
    }
   ],
   "source": [
    "type(42)"
   ]
  },
  {
   "cell_type": "code",
   "execution_count": 13,
   "id": "5bee1608-7470-47d7-af70-ba77f1c9ae21",
   "metadata": {},
   "outputs": [
    {
     "data": {
      "text/plain": [
       "float"
      ]
     },
     "execution_count": 13,
     "metadata": {},
     "output_type": "execute_result"
    }
   ],
   "source": [
    "type(3.1415926)"
   ]
  },
  {
   "cell_type": "markdown",
   "id": "339124fd-85f4-4d64-a964-1f6be7026c3e",
   "metadata": {},
   "source": [
    "### Mathematical operations"
   ]
  },
  {
   "cell_type": "markdown",
   "id": "728c6d42-8283-4482-874c-c1ed2510bc68",
   "metadata": {},
   "source": [
    "You can do a large range of mathematical calculations and operations with integers and floats. Here are a few examples, for an extended overview you can fold out a table at the end of this section."
   ]
  },
  {
   "cell_type": "markdown",
   "id": "fc63b3c7-e788-4890-9f27-04f6e6a257d2",
   "metadata": {},
   "source": [
    "#### Multiplication"
   ]
  },
  {
   "cell_type": "markdown",
   "id": "b5eb03ea-0e9d-402d-b406-47d04ac1c30c",
   "metadata": {},
   "source": [
    "You can multiply in Python using the `*` operator:"
   ]
  },
  {
   "cell_type": "code",
   "execution_count": 14,
   "id": "5abaff5a-5da3-4847-89f0-f1ca91f5debe",
   "metadata": {},
   "outputs": [
    {
     "data": {
      "text/plain": [
       "8"
      ]
     },
     "execution_count": 14,
     "metadata": {},
     "output_type": "execute_result"
    }
   ],
   "source": [
    "4 * 2"
   ]
  },
  {
   "cell_type": "markdown",
   "id": "ea3c725c-6722-4814-8b31-71490fbd9491",
   "metadata": {},
   "source": [
    "#### Exponents"
   ]
  },
  {
   "cell_type": "markdown",
   "id": "fc3c218d-9571-4219-abfa-ab9400e4fdaf",
   "metadata": {},
   "source": [
    "You can use `**` as the exponent operator. An exponent is an expression of the number of times a number is muliplied by itself. "
   ]
  },
  {
   "cell_type": "code",
   "execution_count": 15,
   "id": "af197fd8-f2fb-4a1f-a4ce-79d573711caf",
   "metadata": {},
   "outputs": [
    {
     "data": {
      "text/plain": [
       "16"
      ]
     },
     "execution_count": 15,
     "metadata": {},
     "output_type": "execute_result"
    }
   ],
   "source": [
    "4 ** 2"
   ]
  },
  {
   "cell_type": "markdown",
   "id": "5e7ef7dd-061d-4ee7-b6d9-73a1fa00d98a",
   "metadata": {},
   "source": [
    "#### Modulus"
   ]
  },
  {
   "cell_type": "markdown",
   "id": "109e3f53-a19e-48f9-a247-5efdfc5a2400",
   "metadata": {},
   "source": [
    "The modulus or remainder operator looks like this: `a % b`. \n",
    "However, it does not work as a percentage although it might look like one. Instead it divides a with b and the remainder is returned. "
   ]
  },
  {
   "cell_type": "code",
   "execution_count": 16,
   "id": "e83c96c2-acb8-4362-9367-4c57c9af91b8",
   "metadata": {},
   "outputs": [
    {
     "data": {
      "text/plain": [
       "2"
      ]
     },
     "execution_count": 16,
     "metadata": {},
     "output_type": "execute_result"
    }
   ],
   "source": [
    "72 % 10"
   ]
  },
  {
   "cell_type": "markdown",
   "id": "c68adcc3-e5ee-45a0-93b6-d7cb75d39937",
   "metadata": {},
   "source": [
    "```{admonition} Table of Mathematical Operations\n",
    ":class: tip dropdown\n",
    "\n",
    "| Operation  | Explanation                                      |\n",
    "|------------|--------------------------------------------------|\n",
    "| `x + y`    | sum of `x` and `y`                               |\n",
    "| `x - y`    | difference of `x` and `y`                        |\n",
    "| `x * y`    | product of `x` and `y`                           |\n",
    "| `x / y`    | quotient of `x` and `y`                          |\n",
    "| `x // y`   | floored quotient of `x` and `y`                  |\n",
    "| `x % y`    | remainder of `x` / `y`                           |\n",
    "| `-x`       | `x` negated                                      |\n",
    "| `+x`       | `x` unchanged                                    |\n",
    "| `abs(x)`   | absolute value or magnitude of `x`               |\n",
    "| `int(x)`   | `x` converted to integer                         |\n",
    "| `float(x)` | `x` converted to floating point                  |\n",
    "| `pow(x, y)`| `x` to the power `y`                             |\n",
    "| `x ** y`   | `x` to the power `y`                             |\n",
    "\n",
    "```"
   ]
  },
  {
   "cell_type": "markdown",
   "id": "f9794384-d3be-409a-a513-476e508e9f0d",
   "metadata": {},
   "source": [
    "---"
   ]
  },
  {
   "cell_type": "markdown",
   "id": "48067ad7-e9c9-4917-89e8-5497a9b14610",
   "metadata": {},
   "source": [
    "## Booleans"
   ]
  },
  {
   "cell_type": "markdown",
   "id": "bfe661e7-e882-4a47-b7a7-f664a0d32814",
   "metadata": {},
   "source": [
    "Booleans are “truth” values. They report on whether things in your Python universe are `True` or `False`. There are the only two options for a boolean: `True` or `False`. The boolean operators are **or**, **and**, and **not**. They are used to check if certain conditions are met before the program continues running. This is extremely helpful and even if it seems a bit confusing right now, it will make sense later. Here are a few examples of using boolean logic. "
   ]
  },
  {
   "cell_type": "code",
   "execution_count": 17,
   "id": "d67b888b-ca6f-4a82-9ff3-591cc9706ccd",
   "metadata": {},
   "outputs": [
    {
     "data": {
      "text/plain": [
       "True"
      ]
     },
     "execution_count": 17,
     "metadata": {},
     "output_type": "execute_result"
    }
   ],
   "source": [
    "13 < 17"
   ]
  },
  {
   "cell_type": "markdown",
   "id": "c3d211ff-ca29-4414-afab-4e1891cd5a28",
   "metadata": {},
   "source": [
    "In this example above we state that 13 is less than 17 - which returns `True` because 13 is less than 17."
   ]
  },
  {
   "cell_type": "code",
   "execution_count": 18,
   "id": "bda1dfa5-6106-4684-8804-ca4b1af562bd",
   "metadata": {},
   "outputs": [
    {
     "data": {
      "text/plain": [
       "False"
      ]
     },
     "execution_count": 18,
     "metadata": {},
     "output_type": "execute_result"
    }
   ],
   "source": [
    "\"hello\" == \"hi\""
   ]
  },
  {
   "cell_type": "markdown",
   "id": "a24dc053-4456-4368-b491-7cd473a2bd12",
   "metadata": {},
   "source": [
    "In the example above we state that 'hello' is equal to 'hi', which in the computers understanding it is not. Therefore, we get `False` as the output."
   ]
  },
  {
   "cell_type": "code",
   "execution_count": 19,
   "id": "7d5d05a0-c973-46c3-a0d4-7d0c0f602cb7",
   "metadata": {},
   "outputs": [
    {
     "data": {
      "text/plain": [
       "False"
      ]
     },
     "execution_count": 19,
     "metadata": {},
     "output_type": "execute_result"
    }
   ],
   "source": [
    "666 == 777"
   ]
  },
  {
   "cell_type": "markdown",
   "id": "2c8c1c42-1cb4-4f51-8899-059f941aede3",
   "metadata": {},
   "source": [
    "In this example above we state that 666 is equal to 777, which it is not. Therefore, we get `False` as the output."
   ]
  },
  {
   "cell_type": "markdown",
   "id": "17939bf7-8be3-4aba-a076-3c9d524d01a6",
   "metadata": {},
   "source": [
    "```{admonition} Table of Boolean Operations\n",
    ":class: tip dropdown\n",
    "\n",
    "| Operation | Result                                                    |\n",
    "|-----------|-----------------------------------------------------------|\n",
    "| `x or y`  | if either x or y is true, then `True`, else `False`       |\n",
    "| `x and y` | if both x and y is true, then `True`, else `False`        |\n",
    "| `not x`   | if x is false, then `True`, else `False`\n",
    "\n",
    "```"
   ]
  },
  {
   "cell_type": "markdown",
   "id": "c1dda0f4-cfe1-48ba-a6f6-03ff391a718b",
   "metadata": {},
   "source": [
    "---"
   ]
  },
  {
   "cell_type": "markdown",
   "id": "fef21221-e7af-4fd0-9f13-b46c228d3953",
   "metadata": {},
   "source": [
    "## Comparisons"
   ]
  },
  {
   "cell_type": "markdown",
   "id": "af71f594-e5fe-470c-9d74-50ce9dadb6a9",
   "metadata": {},
   "source": [
    "You can compare values in Python using different comparison operations. Comparisons are used to compare different values and objects in Python, which we will learn much more about later. For now take a look at the comparisions and their meaning in the table underneath. "
   ]
  },
  {
   "cell_type": "markdown",
   "id": "4455591c-60c6-4d60-99a8-2348b060dbc5",
   "metadata": {},
   "source": [
    "```{admonition} Table of Boolean Operations\n",
    ":class: tip dropdown\n",
    "\n",
    "| Comparison operation | Explanation                         |\n",
    "|----------------------|-------------------------------------|\n",
    "| `x < y`              | `True` if x is less than y          |\n",
    "| `x <= y`             | `True` if x is less than or equal to y |\n",
    "| `x > y`              | `True` if x is greater than y       |\n",
    "| `x >= y`             | `True` if x is greater than or equal to y |\n",
    "| `x == y`             | `True` if x is equal to y           |\n",
    "| `!=`                 | `True` if x is not equal to y       |\n",
    "\n",
    "```"
   ]
  },
  {
   "cell_type": "markdown",
   "id": "b5f0198f-f003-453c-9c8a-5b9de03718fc",
   "metadata": {},
   "source": [
    "---"
   ]
  },
  {
   "cell_type": "markdown",
   "id": "f58942ea-e21e-4827-a094-a2155150c986",
   "metadata": {},
   "source": [
    "```{admonition} Single equals sign <code>=</code> and a double equals sign <code>==</code>\n",
    ":class: attention\n",
    "\n",
    "* A double equals sign `==` is used as the equals operator.\n",
    "* A single equals sign `=` is used for variable assignment. (We will learn more about this in the lesson about variables.)"
   ]
  },
  {
   "cell_type": "markdown",
   "id": "a468e9bb-913e-412b-9f2c-1b0d16b02ce3",
   "metadata": {},
   "source": [
    "---"
   ]
  },
  {
   "cell_type": "markdown",
   "id": "97fea287-90e7-4b60-888b-dd84cb7ccbcd",
   "metadata": {},
   "source": [
    "## Key Points"
   ]
  },
  {
   "cell_type": "markdown",
   "id": "c879a872-e84c-43a9-9234-1e69f2c93ac4",
   "metadata": {
    "editable": true,
    "slideshow": {
     "slide_type": ""
    },
    "tags": []
   },
   "source": [
    "* There are 4 data types in Python: **Integers**, **floats**, **strings**, and **booleans**.\n",
    "* You can use the built-in function `type()` to find the type of a value.\n",
    "* Strings are text, they can be added to one another, you can slice them to get a substring, and use the index to acess the individual character.\n",
    "* Integers are whole numbers. You can use mathemathical operations on them.\n",
    "* Floats are decimal numbers. You can use mathemathical opreations on them.\n",
    "* Booleans are either `True` or `False`.\n",
    "* A double equals sign `==` is used as the equals operator, a single equals sign `=` is used for variable assignment."
   ]
  },
  {
   "cell_type": "code",
   "execution_count": null,
   "id": "8eacdfeb-8f10-4d86-b429-1c1c60d6ce60",
   "metadata": {},
   "outputs": [],
   "source": []
  }
 ],
 "metadata": {
  "kernelspec": {
   "display_name": "Python 3 (ipykernel)",
   "language": "python",
   "name": "python3"
  },
  "language_info": {
   "codemirror_mode": {
    "name": "ipython",
    "version": 3
   },
   "file_extension": ".py",
   "mimetype": "text/x-python",
   "name": "python",
   "nbconvert_exporter": "python",
   "pygments_lexer": "ipython3",
   "version": "3.11.5"
  }
 },
 "nbformat": 4,
 "nbformat_minor": 5
}
