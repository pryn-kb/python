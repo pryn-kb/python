{
 "cells": [
  {
   "cell_type": "markdown",
   "id": "12280684-3f6d-4d00-8223-f436feb36bb8",
   "metadata": {
    "editable": true,
    "slideshow": {
     "slide_type": ""
    },
    "tags": []
   },
   "source": [
    "# Getting Started with Pandas"
   ]
  },
  {
   "cell_type": "markdown",
   "id": "ca7e0005-2864-438e-98ec-a75208d5a4f7",
   "metadata": {
    "editable": true,
    "slideshow": {
     "slide_type": ""
    },
    "tags": []
   },
   "source": [
    "Before we get started, you may need to install Pandas - depending on how/where you are running Python.\n",
    "This guide is intented for people running a local installation of Python and using Jupyter Notebook or Jupyter Lab.\n",
    "\n",
    "There are many ways to install Pandas. Ours is just one. [You can read more here.](https://pandas.pydata.org/docs/getting_started/install.html)"
   ]
  },
  {
   "cell_type": "markdown",
   "id": "463fad28-482d-495c-a05e-6c3395b48e6b",
   "metadata": {
    "editable": true,
    "slideshow": {
     "slide_type": ""
    },
    "tags": []
   },
   "source": [
    "___"
   ]
  },
  {
   "cell_type": "markdown",
   "id": "b3ca7b2d-97cc-442a-ba51-657d80acaf32",
   "metadata": {
    "editable": true,
    "slideshow": {
     "slide_type": ""
    },
    "tags": []
   },
   "source": [
    "## Installing (or upgrading) Pandas from PyPI"
   ]
  },
  {
   "cell_type": "markdown",
   "id": "e36adba5-7259-44a6-89ef-c32b1614b234",
   "metadata": {
    "editable": true,
    "slideshow": {
     "slide_type": ""
    },
    "tags": []
   },
   "source": [
    "Pandas can be installed via `pip` from [PyPi](https://pypi.org/project/pandas).\n",
    "\n",
    "This command installs the `pandas` library using `pip`, Python's package installer.\\\n",
    "If you haven't installed Pandas before, this will download and install the latest version of Pandas along with its dependencies."
   ]
  },
  {
   "cell_type": "code",
   "execution_count": 1,
   "id": "9e381895-7a44-415d-ada3-f8b7af722550",
   "metadata": {
    "editable": true,
    "slideshow": {
     "slide_type": ""
    },
    "tags": [
     "remove-output"
    ]
   },
   "outputs": [
    {
     "name": "stdout",
     "output_type": "stream",
     "text": [
      "Requirement already satisfied: pandas in /opt/anaconda3/lib/python3.11/site-packages (2.1.4)\n",
      "Requirement already satisfied: numpy<2,>=1.23.2 in /opt/anaconda3/lib/python3.11/site-packages (from pandas) (1.26.4)\n",
      "Requirement already satisfied: python-dateutil>=2.8.2 in /opt/anaconda3/lib/python3.11/site-packages (from pandas) (2.8.2)\n",
      "Requirement already satisfied: pytz>=2020.1 in /opt/anaconda3/lib/python3.11/site-packages (from pandas) (2023.3.post1)\n",
      "Requirement already satisfied: tzdata>=2022.1 in /opt/anaconda3/lib/python3.11/site-packages (from pandas) (2023.3)\n",
      "Requirement already satisfied: six>=1.5 in /opt/anaconda3/lib/python3.11/site-packages (from python-dateutil>=2.8.2->pandas) (1.16.0)\n",
      "Note: you may need to restart the kernel to use updated packages.\n"
     ]
    }
   ],
   "source": [
    "  pip install pandas"
   ]
  },
  {
   "cell_type": "markdown",
   "id": "ef49f8d7-6cd7-4a43-82bd-993e2131528a",
   "metadata": {
    "editable": true,
    "slideshow": {
     "slide_type": ""
    },
    "tags": []
   },
   "source": [
    "`pip` commands are most often run through a shell such as the **Terminal** on macOS or the **Command Prompt** on Windows.\\\n",
    "However, you can run shell commands directly from Jupyter notebooks by adding an exclamation mark `!` in front of the command:"
   ]
  },
  {
   "cell_type": "code",
   "execution_count": null,
   "id": "190286d0-efbe-49f3-a87f-d237a74cecc0",
   "metadata": {
    "editable": true,
    "slideshow": {
     "slide_type": ""
    },
    "tags": [
     "remove-output"
    ]
   },
   "outputs": [],
   "source": [
    "! pip install pandas"
   ]
  },
  {
   "cell_type": "markdown",
   "id": "118fe062-9e98-47d2-bb2c-b78266d2d1b5",
   "metadata": {
    "editable": true,
    "slideshow": {
     "slide_type": ""
    },
    "tags": []
   },
   "source": [
    "Adding the `--upgrade` flag not only installs pandas if it isn't already installed but also ensures that if Pandas is already installed, it is updated to the latest version. This is useful to make sure you have the newest features and bug fixes."
   ]
  },
  {
   "cell_type": "code",
   "execution_count": null,
   "id": "8c03f23d-a3f4-4667-b6eb-34178cee429f",
   "metadata": {
    "editable": true,
    "slideshow": {
     "slide_type": ""
    },
    "tags": [
     "remove-output"
    ]
   },
   "outputs": [],
   "source": [
    "pip install --upgrade pandas"
   ]
  },
  {
   "cell_type": "markdown",
   "id": "89aacb56-f79d-441a-9bca-0e87c72d46d7",
   "metadata": {
    "editable": true,
    "slideshow": {
     "slide_type": ""
    },
    "tags": []
   },
   "source": [
    "Again, we can run this shell command directly in Jupyter notebooks:"
   ]
  },
  {
   "cell_type": "code",
   "execution_count": null,
   "id": "8fa18869-8632-4e72-afeb-5f3c9dcbaeba",
   "metadata": {
    "editable": true,
    "slideshow": {
     "slide_type": ""
    },
    "tags": [
     "remove-output"
    ]
   },
   "outputs": [],
   "source": [
    "! pip install --upgrade pandas"
   ]
  },
  {
   "cell_type": "markdown",
   "id": "e522179c-bd9f-4cde-966b-a54cb0a6a69c",
   "metadata": {
    "editable": true,
    "slideshow": {
     "slide_type": ""
    },
    "tags": []
   },
   "source": [
    "````{admonition} ModuleNotFoundError\n",
    ":class: attention dropdown\n",
    "\n",
    "When using Pandas, you may encounter the error message `ModuleNotFoundError`. This is caused by so-called Pandas dependencies.\n",
    "\n",
    "When you install the `pandas` library for Python, it requires other libraries to function correctly. These required libraries are called dependencies.\n",
    "Dependencies are external libraries that provide additional functionality or capabilities that the main library (in this case, Pandas) relies on to operate.\n",
    "\n",
    "When you install Pandas using `pip`, Python's package installer, it automatically installs any required dependencies. However, optional dependencies are not installed by default and must be installed separately if needed.\n",
    "\n",
    "[You can read more about Pandas dependencies here.](https://pandas.pydata.org/pandas-docs/stable/getting_started/install.html#optional-dependencies)\n",
    "\n",
    "In our case, we will be working with Excel files. All Excel-related dependencies can be installed in one go with this command:\n",
    "\n",
    "```\n",
    "pip install \"pandas[excel]\"\n",
    "```\n",
    "\n",
    "Or - if run in a Jupyter notebook:\n",
    "\n",
    "```\n",
    "! pip install \"pandas[excel]\"\n",
    "```\n",
    "\n",
    "````"
   ]
  },
  {
   "cell_type": "markdown",
   "id": "8d8df619-8acd-4b8b-a3f8-07c136e8a68a",
   "metadata": {
    "editable": true,
    "slideshow": {
     "slide_type": ""
    },
    "tags": []
   },
   "source": [
    "___"
   ]
  },
  {
   "cell_type": "markdown",
   "id": "378a1a62-53ea-450d-8669-a4edcf0519f4",
   "metadata": {
    "editable": true,
    "slideshow": {
     "slide_type": ""
    },
    "tags": []
   },
   "source": [
    "## Importing Pandas"
   ]
  },
  {
   "cell_type": "markdown",
   "id": "4bba061a-80df-4104-932c-fe427fd835e1",
   "metadata": {
    "editable": true,
    "slideshow": {
     "slide_type": ""
    },
    "tags": []
   },
   "source": [
    "Even though we have now installed Pandas, we still need to import Pandas when we want to use it in our code.\\\n",
    "This is conventionally done at the top of the script (together with any other imports) to make it easier for future readers (including ourselves!) to see, which packages are used.\n",
    "\n",
    "Aliasing `pandas` as `pd` is a widely adopted convention that simplifies the syntax for accessing its functionalities.\\\n",
    "After this statement, you can use `pd` to access all the functionalities provided by the `pandas` library."
   ]
  },
  {
   "cell_type": "code",
   "execution_count": 7,
   "id": "6f852278-2212-40ea-a621-d081d5fb4390",
   "metadata": {
    "editable": true,
    "slideshow": {
     "slide_type": ""
    },
    "tags": [
     "remove-output"
    ]
   },
   "outputs": [],
   "source": [
    " # This line imports the pandas library and aliases it as 'pd'.\n",
    "\n",
    "import pandas as pd"
   ]
  }
 ],
 "metadata": {
  "kernelspec": {
   "display_name": "Python 3 (ipykernel)",
   "language": "python",
   "name": "python3"
  },
  "language_info": {
   "codemirror_mode": {
    "name": "ipython",
    "version": 3
   },
   "file_extension": ".py",
   "mimetype": "text/x-python",
   "name": "python",
   "nbconvert_exporter": "python",
   "pygments_lexer": "ipython3",
   "version": "3.11.8"
  }
 },
 "nbformat": 4,
 "nbformat_minor": 5
}
