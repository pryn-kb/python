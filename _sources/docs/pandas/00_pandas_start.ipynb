{
 "cells": [
  {
   "cell_type": "markdown",
   "id": "12280684-3f6d-4d00-8223-f436feb36bb8",
   "metadata": {},
   "source": [
    "# Getting started with Pandas"
   ]
  },
  {
   "cell_type": "markdown",
   "id": "ca7e0005-2864-438e-98ec-a75208d5a4f7",
   "metadata": {},
   "source": [
    "Welcome to our Pandas course!\n",
    "\n",
    "Before we get started, you may need to install Pandas - depending on how/where you are running Python.\n",
    "This guide is intented for people running a local installation of Python and using Jupyter notebooks.\n",
    "\n",
    "There are many ways to install Pandas. Ours is just one. [You can read more here.](https://pandas.pydata.org/docs/getting_started/install.html)"
   ]
  },
  {
   "cell_type": "markdown",
   "id": "232ed9dc-0514-4226-9971-ad0f02ee38ed",
   "metadata": {},
   "source": [
    "## Attribution"
   ]
  },
  {
   "cell_type": "markdown",
   "id": "0ce726b7-1721-456d-8a39-a950f603931b",
   "metadata": {},
   "source": [
    "![CC Attribution](https://mirrors.creativecommons.org/presskit/icons/by.png)"
   ]
  },
  {
   "cell_type": "markdown",
   "id": "9796e6f1-ba8c-4986-8018-5a087fbb4d92",
   "metadata": {},
   "source": [
    "Our Pandas teaching material has to a large extend been copied and modified from the official [Pandas documentation](https://pandas.pydata.org/docs/index.html)."
   ]
  },
  {
   "cell_type": "markdown",
   "id": "b3ca7b2d-97cc-442a-ba51-657d80acaf32",
   "metadata": {},
   "source": [
    "## Installing (or upgrading) Pandas from PyPI"
   ]
  },
  {
   "cell_type": "markdown",
   "id": "e36adba5-7259-44a6-89ef-c32b1614b234",
   "metadata": {},
   "source": [
    "Pandas can be installed via `pip` from [PyPi](https://pypi.org/project/pandas).\n",
    "\n",
    "This command installs the `pandas` library using `pip`, Python's package installer.\\\n",
    "If you haven't installed Pandas before, this will download and install the latest version of Pandas along with its dependencies.\n",
    "\n",
    "    pip install pandas\n",
    "\n",
    "`pip` commands are most often run through a shell such as the **Terminal** on macOS or the **Command Prompt** on Windows.\\\n",
    "However, you can run shell commands directly from Jupyter notebooks by adding an exclamation mark `!` in front of the command:\n",
    "\n",
    "    ! pip install pandas\n",
    "\n",
    "Adding the `--upgrade` flag not only installs pandas if it isn't already installed but also ensures that if Pandas is already installed, it is updated to the latest version. This is useful to make sure you have the newest features and bug fixes.\n",
    "\n",
    "    pip install --upgrade pandas\n",
    "\n",
    "Again, we can run this shell command directly in Jupyter notebooks:\n",
    "\n",
    "    ! pip install --upgrade pandas"
   ]
  },
  {
   "cell_type": "markdown",
   "id": "8cd43af7-efed-4ddc-9054-101db5e1d59d",
   "metadata": {},
   "source": [
    "## `ModuleNotFoundError` and Pandas dependencies"
   ]
  },
  {
   "cell_type": "markdown",
   "id": "e522179c-bd9f-4cde-966b-a54cb0a6a69c",
   "metadata": {},
   "source": [
    "When using Pandas, you may encounter the error message `ModuleNotFoundError`. This is caused by so-called Pandas dependencies.\n",
    "\n",
    "When you install the `pandas` library for Python, it requires other libraries to function correctly. These required libraries are called dependencies.\n",
    "Dependencies are external libraries that provide additional functionality or capabilities that the main library (in this case, Pandas) relies on to operate.\n",
    "\n",
    "When you install Pandas using `pip`, Python's package installer, it automatically installs any required dependencies. However, optional dependencies are not installed by default and must be installed separately if needed.\n",
    "\n",
    "[You can read more about Pandas dependencies here.](https://pandas.pydata.org/pandas-docs/stable/getting_started/install.html#optional-dependencies)\n",
    "\n",
    "In our case, we will be working with Excel files. All Excel related dependencies can be installed at once with this command:\n",
    "\n",
    "    pip install \"pandas[excel]\"\n",
    "\n",
    "Or - if run in a Jupyter notebook:\n",
    "\n",
    "    !pip install \"pandas[excel]\""
   ]
  },
  {
   "cell_type": "markdown",
   "id": "378a1a62-53ea-450d-8669-a4edcf0519f4",
   "metadata": {},
   "source": [
    "## Importing Pandas"
   ]
  },
  {
   "cell_type": "markdown",
   "id": "4bba061a-80df-4104-932c-fe427fd835e1",
   "metadata": {},
   "source": [
    "Even though we have now installed Pandas, we still need to import Pandas when we want to use it in our code.\\\n",
    "This is conventionally done at the top of our script (together with any other imports) to make it easier for future readers (including ourselves!) to see, which packages are used.\n",
    "\n",
    "Aliasing `pandas` as `pd` is a widely adopted convention that simplifies the syntax for accessing its functionalities.\\\n",
    "After this statement, you can use `pd` to access all the functionalities provided by the `pandas` library.\n",
    "\n",
    "    # This line imports the pandas library and aliases it as 'pd'.\n",
    "\n",
    "    import pandas as pd"
   ]
  }
 ],
 "metadata": {
  "kernelspec": {
   "display_name": "Python 3 (ipykernel)",
   "language": "python",
   "name": "python3"
  },
  "language_info": {
   "codemirror_mode": {
    "name": "ipython",
    "version": 3
   },
   "file_extension": ".py",
   "mimetype": "text/x-python",
   "name": "python",
   "nbconvert_exporter": "python",
   "pygments_lexer": "ipython3",
   "version": "3.11.5"
  }
 },
 "nbformat": 4,
 "nbformat_minor": 5
}
