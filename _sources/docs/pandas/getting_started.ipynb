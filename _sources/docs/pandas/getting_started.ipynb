{
 "cells": [
  {
   "cell_type": "markdown",
   "id": "f073f6a8-79fd-4410-aab4-52c9143ceb33",
   "metadata": {},
   "source": [
    "<style>\n",
    ".bd-toc {\n",
    "    display: none;\n",
    "}\n",
    "</style>"
   ]
  },
  {
   "cell_type": "markdown",
   "id": "acffc07c-5bcc-40cd-9a04-7cb5f34284ef",
   "metadata": {},
   "source": [
    "# Getting Started with Data Analysis"
   ]
  },
  {
   "cell_type": "markdown",
   "id": "4a699fca-a13b-4315-97bc-69906bd6c422",
   "metadata": {},
   "source": [
    "___"
   ]
  },
  {
   "cell_type": "markdown",
   "id": "60b0aae1-4c6d-4c00-ae05-191857b8c2f1",
   "metadata": {},
   "source": [
    "## Content"
   ]
  },
  {
   "cell_type": "markdown",
   "id": "10728030-0f7a-4b0e-9fe2-7fbc3cb5f711",
   "metadata": {},
   "source": [
    "```{tableofcontents}\n",
    "```"
   ]
  },
  {
   "cell_type": "code",
   "execution_count": null,
   "id": "745c3dbc-6680-4c26-be76-0925853f44c5",
   "metadata": {
    "tags": [
     "hide-output"
    ]
   },
   "outputs": [],
   "source": []
  }
 ],
 "metadata": {
  "kernelspec": {
   "display_name": "Python 3 (ipykernel)",
   "language": "python",
   "name": "python3"
  },
  "language_info": {
   "codemirror_mode": {
    "name": "ipython",
    "version": 3
   },
   "file_extension": ".py",
   "mimetype": "text/x-python",
   "name": "python",
   "nbconvert_exporter": "python",
   "pygments_lexer": "ipython3",
   "version": "3.12.5"
  }
 },
 "nbformat": 4,
 "nbformat_minor": 5
}
