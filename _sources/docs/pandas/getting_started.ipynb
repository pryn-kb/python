{
 "cells": [
  {
   "cell_type": "markdown",
   "id": "f073f6a8-79fd-4410-aab4-52c9143ceb33",
   "metadata": {},
   "source": [
    "<style>\n",
    ".bd-toc {\n",
    "    display: none;\n",
    "}\n",
    "</style>"
   ]
  },
  {
   "cell_type": "markdown",
   "id": "acffc07c-5bcc-40cd-9a04-7cb5f34284ef",
   "metadata": {},
   "source": [
    "# Getting Started with Data Analysis"
   ]
  },
  {
   "cell_type": "markdown",
   "id": "49ab1192-b830-46ec-9213-6e6bc57421e5",
   "metadata": {},
   "source": [
    "Pandas is a library for Python, which is tailored to enable coders to handle tabular data (and is used widely in conjunction with other Python libraries including the machine-learning package, SciKitLearn, and the mathematics-oriented Numpy). Pandas' tabular data take the form of DataFrames: Python's version of an Excel spreadsheet. This object and the various methods associated with it will be the central focus.\n",
    "\n",
    "Building on the knowledge you have accumulated in the introductory courses, Getting Started with Data Analysis will teach you how to import, analyse, and visualise data in pandas. For those that are interested and have some experience coding in Python, check out our Python for Absolute Beginners [Part 1](../101/part1) and [Part 2](../101/part2) materials. If these seem manageable, please feel free to hop right into this class."
   ]
  },
  {
   "cell_type": "markdown",
   "id": "b3a4c761-da44-4960-aa59-e43bb36a33ab",
   "metadata": {},
   "source": [
    "## Download the Titanic data"
   ]
  },
  {
   "cell_type": "markdown",
   "id": "7f646509-25e6-45ea-bc09-39c755d2c8de",
   "metadata": {},
   "source": [
    "For much of this course, we will be working with the Titanic dataset. The full dataset can be found on [Kaggle](https://www.kaggle.com/c/titanic/data), but we will only be using the training data, which we have made available [here](data/titanic.csv).\n",
    "\n",
    "To follow the exercises and use the code exactly as written below, you will need to download the data and place it in a folder called 'data' in the same directory as your Jupyter notebook. In other words, the folder where your notebook is located should contain a subfolder named 'data', which holds the file 'titanic.csv'."
   ]
  },
  {
   "cell_type": "markdown",
   "id": "4a699fca-a13b-4315-97bc-69906bd6c422",
   "metadata": {},
   "source": [
    "___"
   ]
  },
  {
   "cell_type": "markdown",
   "id": "60b0aae1-4c6d-4c00-ae05-191857b8c2f1",
   "metadata": {},
   "source": [
    "## Content"
   ]
  },
  {
   "cell_type": "markdown",
   "id": "10728030-0f7a-4b0e-9fe2-7fbc3cb5f711",
   "metadata": {},
   "source": [
    "```{tableofcontents}\n",
    "```"
   ]
  },
  {
   "cell_type": "code",
   "execution_count": null,
   "id": "745c3dbc-6680-4c26-be76-0925853f44c5",
   "metadata": {
    "tags": [
     "hide-output"
    ]
   },
   "outputs": [],
   "source": []
  }
 ],
 "metadata": {
  "kernelspec": {
   "display_name": "Python 3 (ipykernel)",
   "language": "python",
   "name": "python3"
  },
  "language_info": {
   "codemirror_mode": {
    "name": "ipython",
    "version": 3
   },
   "file_extension": ".py",
   "mimetype": "text/x-python",
   "name": "python",
   "nbconvert_exporter": "python",
   "pygments_lexer": "ipython3",
   "version": "3.13.5"
  }
 },
 "nbformat": 4,
 "nbformat_minor": 5
}
