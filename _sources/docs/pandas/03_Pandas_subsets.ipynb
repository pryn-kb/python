{
 "cells": [
  {
   "cell_type": "markdown",
   "id": "b90cc6fd-2f57-4f94-bff7-cf6b0aace5f5",
   "metadata": {},
   "source": [
    "# Import Pandas"
   ]
  },
  {
   "cell_type": "code",
   "execution_count": null,
   "id": "765b4040-4b8a-420d-bad5-219654bc6174",
   "metadata": {},
   "outputs": [],
   "source": [
    "# This line imports the pandas library and aliases it as 'pd'.\n",
    "# Aliasing pandas as 'pd' is a widely adopted convention that simplifies the syntax for accessing its functionalities.\n",
    "# After this statement, you can use 'pd' to access all the functionalities provided by the pandas library.\n",
    "\n",
    "import pandas as pd"
   ]
  },
  {
   "cell_type": "markdown",
   "id": "513cfe15-50b1-4385-a0a9-16b337d970bc",
   "metadata": {},
   "source": [
    "# Creating a `DataFrame` from a csv file"
   ]
  },
  {
   "cell_type": "code",
   "execution_count": null,
   "id": "fe1c7a91-0caf-4eae-bf55-0938bcdaa851",
   "metadata": {},
   "outputs": [],
   "source": [
    "# Load the Titanic dataset from a CSV file into a DataFrame named 'titanic'.\n",
    "# The 'pd.read_csv()' function is used to read the data from the file 'data/titanic.csv'.\n",
    "# The file is located in the 'data' directory, relative to the current working directory.\n",
    "# The resulting DataFrame 'titanic' contains the dataset, ready for analysis and manipulation.\n",
    "\n",
    "titanic = pd.read_csv('data/titanic.csv')"
   ]
  },
  {
   "cell_type": "code",
   "execution_count": null,
   "id": "9d5a2159-bb3b-4a20-94be-21ea37755071",
   "metadata": {},
   "outputs": [],
   "source": [
    "# Display the DataFrame 'titanic'.\n",
    "# Note, even though we only see the first and last five rows, we actually read the whole DataFrame into the kernel's memory.\n",
    "# The pressure on memory usage can be alleviated by using the 'head()' method described below.\n",
    "# However, this will only be an issue with very large datasets, so don't worry too much about it for now.\n",
    "# You can find out how much memory a DataFrame uses by using the 'memory_usage()' method:\n",
    "# titanic.memory_usage(deep=True).sum()\n",
    "\n",
    "titanic"
   ]
  },
  {
   "cell_type": "markdown",
   "id": "688e5d6e-f20e-41ac-b44f-aaea410cd399",
   "metadata": {},
   "source": [
    "# Selecting specific columns from a `DataFrame`\n",
    "\n",
    "![Selecting specific columns from a DataFrame](images/03_subset_columns.svg)"
   ]
  },
  {
   "cell_type": "code",
   "execution_count": null,
   "id": "6752e1f0-6227-4128-b2f5-323c429ffe5c",
   "metadata": {},
   "outputs": [],
   "source": [
    "# Access the 'Age' column from the DataFrame 'titanic'.\n",
    "# This returns a Series object containing all the data in the 'Age' column.\n",
    "\n",
    "titanic['Age']"
   ]
  },
  {
   "cell_type": "code",
   "execution_count": null,
   "id": "0e3d6cdf-0b96-489c-9271-b0dcf887682d",
   "metadata": {},
   "outputs": [],
   "source": [
    "# Check the type of the 'Age' column in 'titanic' using the 'type()' function.\n",
    "\n",
    "type(titanic['Age'])"
   ]
  },
  {
   "cell_type": "code",
   "execution_count": null,
   "id": "ddcdfad9-cfb3-413c-bf2a-f2b485ec0d50",
   "metadata": {},
   "outputs": [],
   "source": [
    "# Use the 'shape' attribute to determine the dimensions of the Series.\n",
    "# It returns a tuple representing the number of rows and columns (rows, columns).\n",
    "\n",
    "titanic['Age'].shape"
   ]
  },
  {
   "cell_type": "markdown",
   "id": "54af87e3-2151-4b56-9cca-6fb72cada392",
   "metadata": {},
   "source": [
    "# Calling multiple `Series`"
   ]
  },
  {
   "cell_type": "code",
   "execution_count": null,
   "id": "dc8709c5-0b04-4869-8668-cc5144571fd5",
   "metadata": {},
   "outputs": [],
   "source": [
    "# Select the columns 'Age' and 'Sex' from the 'titanic' DataFrame.\n",
    "# This command selects specific columns 'Age' and 'Sex' from the 'titanic' DataFrame using double square brackets.\n",
    "\n",
    "titanic[['Age', 'Sex']]"
   ]
  },
  {
   "cell_type": "markdown",
   "id": "2f8e7d7d-4ae1-4542-8caf-31787d7d8081",
   "metadata": {},
   "source": [
    "### The inner square brackets define a Python `list` with column names, whereas the outer square brackets are used to select the data from a pandas `DataFrame` as seen in the previous example."
   ]
  },
  {
   "cell_type": "code",
   "execution_count": null,
   "id": "41856f83-9f98-4b7a-9800-4acf1c222588",
   "metadata": {},
   "outputs": [],
   "source": [
    "# Use the 'type()' function to determine the data type of the DataFrame subset.\n",
    "# This command selects specific columns 'Age' and 'Sex' from the 'titanic' DataFrame using double square brackets,\n",
    "# and then applies the 'type()' function to the resulting DataFrame subset.\n",
    "\n",
    "type(titanic[['Age', 'Sex']])"
   ]
  },
  {
   "cell_type": "code",
   "execution_count": null,
   "id": "b0388ea7-0e3e-4ebe-b9e7-dad3e8271928",
   "metadata": {},
   "outputs": [],
   "source": [
    "# Use the 'shape' attribute to determine the dimensions of the DataFrame subset.\n",
    "# This command selects specific columns 'Age' and 'Sex' from the 'titanic' DataFrame using double square brackets,\n",
    "# and then applies the 'shape' attribute to the resulting DataFrame subset.\n",
    "\n",
    "titanic[['Age', 'Sex']].shape"
   ]
  },
  {
   "cell_type": "markdown",
   "id": "961bdfdf-11b0-474a-bd74-4500fad73448",
   "metadata": {},
   "source": [
    "# Filtering specific rows from a `DataFrame`\n",
    "\n",
    "![Filtering specific rows from a DataFrame](images/03_subset_rows.svg)"
   ]
  },
  {
   "cell_type": "code",
   "execution_count": null,
   "id": "60ff0a11-3cbe-48e0-8ee0-28fd8d492d45",
   "metadata": {},
   "outputs": [],
   "source": [
    "# Filter rows in the 'titanic' DataFrame where the 'Age' column is greater than 35.\n",
    "# This command returns a subset of the DataFrame containing only the rows where the 'Age' column has a value greater than 35.\n",
    "\n",
    "titanic[titanic['Age'] > 35]"
   ]
  },
  {
   "cell_type": "markdown",
   "id": "38ac84cf-9f52-4c01-bca9-e46fb87d66c1",
   "metadata": {},
   "source": [
    "### To select rows based on a conditional expression, use a condition inside the selection brackets `[]`.\n",
    "\n",
    "The condition inside the selection brackets `titanic['Age'] > 35` checks for which rows the `Age` column has a value larger than 35:"
   ]
  },
  {
   "cell_type": "code",
   "execution_count": null,
   "id": "13936ecd-9c28-45bd-9edb-e4727a81d081",
   "metadata": {},
   "outputs": [],
   "source": [
    "# Create a boolean mask to filter rows where the age of passengers is greater than 35.\n",
    "# This command evaluates the condition 'titanic['Age'] > 35' element-wise,\n",
    "# resulting in a boolean Series where True indicates that the corresponding passenger's age is greater than 35.\n",
    "\n",
    "titanic['Age'] > 35"
   ]
  },
  {
   "cell_type": "code",
   "execution_count": null,
   "id": "7dad5185-69b3-41ce-9de0-626ea02ef6b4",
   "metadata": {},
   "outputs": [],
   "source": [
    "# Filter rows in the 'titanic' DataFrame where the 'Pclass' column values are either 2 or 3.\n",
    "# This command uses the 'isin()' method to create a boolean mask, where True indicates that\n",
    "# the corresponding 'Pclass' value is present in the specified list [2, 3].\n",
    "\n",
    "titanic[titanic['Pclass'].isin([2, 3])]"
   ]
  },
  {
   "cell_type": "markdown",
   "id": "c3762ceb-ae60-4877-a117-03260cbe3c7a",
   "metadata": {},
   "source": [
    "### The above is equivalent to filtering by rows for which the class is either 2 or 3 and combining the two statements with an `|` (or) operator.\n",
    "When combining multiple conditional statements, each condition must be surrounded by parentheses `()`. \\\n",
    "Moreover, you can not use `or`/`and` but need to use the `or` operator `|` and the `and` operator `&`."
   ]
  },
  {
   "cell_type": "code",
   "execution_count": null,
   "id": "f1d37a3e-c4c1-4687-99b1-6366fb1b83bb",
   "metadata": {},
   "outputs": [],
   "source": [
    "# Filter rows in the 'titanic' DataFrame where the 'Pclass' column values are either 2 or 3.\n",
    "# This command uses boolean indexing with logical OR (|) to create a mask,\n",
    "# where True indicates that the corresponding 'Pclass' value is either 2 or 3.\n",
    "\n",
    "titanic[(titanic['Pclass'] == 2) | (titanic['Pclass'] == 3)]"
   ]
  },
  {
   "cell_type": "markdown",
   "id": "47842350-bee8-4683-91f0-da8905771656",
   "metadata": {},
   "source": [
    "### Remember that the `notna()` conditional function returns a `True` for each row where the values are not a `Null` value.\n",
    "As such, this can be combined with the selection brackets `[]` to filter the data table."
   ]
  },
  {
   "cell_type": "code",
   "execution_count": null,
   "id": "319db576-5646-4549-83dc-67d4c1b9c2c7",
   "metadata": {},
   "outputs": [],
   "source": [
    "# Filter rows in the 'titanic' DataFrame where 'Embarked' values are not null (not NaN).\n",
    "# 'notna()' returns True for non-null values, allowing us to select rows with valid embarkation data.\n",
    "\n",
    "titanic[titanic['Embarked'].notna()]"
   ]
  },
  {
   "cell_type": "code",
   "execution_count": null,
   "id": "cb13a80f-3c2d-4e4f-bdba-d133186b6841",
   "metadata": {},
   "outputs": [],
   "source": [
    "# We can compare the number of extracted rows with the number from the original DataFrame.\n",
    "\n",
    "titanic.info()"
   ]
  },
  {
   "cell_type": "markdown",
   "id": "e3975713-1cbe-4c43-a97a-14c6d6b18554",
   "metadata": {},
   "source": [
    "# Selecting specific rows and columns from a `DataFrame`\n",
    "\n",
    "![Selecting specific rows and columns from a DataFrame](images/03_subset_columns_rows.svg)"
   ]
  },
  {
   "cell_type": "code",
   "execution_count": null,
   "id": "8fe0feca-1a72-4596-a9a7-d9e30d8fed0f",
   "metadata": {},
   "outputs": [],
   "source": [
    "# Filter rows in the 'titanic' DataFrame where the age is greater than 35,\n",
    "# then select only the 'Name' and 'Pclass' columns for these filtered rows.\n",
    "# This command uses boolean indexing to first filter rows where the age is greater than 35,\n",
    "# and then selects specific columns 'Name' and 'Pclass' using double square brackets.\n",
    "\n",
    "titanic[titanic['Age'] > 35][['Name', 'Pclass']]"
   ]
  },
  {
   "cell_type": "markdown",
   "id": "066d02a8-dfb6-4fbc-913a-c2dab3644ec9",
   "metadata": {},
   "source": [
    "## A note on square bracket indexing (`[]`)\n",
    "\n",
    "Square bracket indexing (`[]`) is a versatile method for accessing data in Pandas DataFrames, but there are certain tasks that it cannot perform as efficiently or directly compared to `loc` and `iloc`. Here are a few limitations of square bracket indexing in comparison to `loc` and `iloc`:\n",
    "\n",
    "1. **Positional Selection**: When the selection is purely positional (selecting the first five rows, or columns 2 to 4), `iloc` is the most straightforward tool for the job.\n",
    "\n",
    "2. **Inclusive Slicing:** Square bracket slicing excludes the end point, requiring adjustment of slice endpoints. Conversely, `loc` allows for inclusive label-based slicing, simplifying the specification of row and column ranges.\n",
    "\n",
    "3. **Dealing with Non-Integer Labels:** Square brackets may falter with non-integer labels or custom indices due to potential ambiguities, particularly when index labels might be confused with column names. `loc` ensures robust label-based selection, irrespective of label data type.\n",
    "\n",
    "4. **Efficiency in Complex Selections:** For large datasets or intricate selection tasks, `loc` and `iloc` may provide enhanced performance due to their optimizations for label and integer indexing, respectively. They offer a more specialized approach for accessing and manipulating DataFrame data, particularly in complex scenarios.\n",
    "\n",
    "We have attached a separate notebook that introduces `loc` and `iloc`, two properties of pandas `DataFrame` and `Series` objects that provide methods for indexing. "
   ]
  },
  {
   "cell_type": "markdown",
   "id": "4114093e-a6fd-40f0-ac86-d0b2493f9682",
   "metadata": {},
   "source": [
    "# REMEMBER\n",
    "\n",
    "* When selecting subsets of data, square brackets `[]` are used.\n",
    "\n",
    "* Inside these square brackets, you can use\n",
    "    \n",
    "    * a single column/row label\n",
    "    \n",
    "    * a list of column/row labels\n",
    "    \n",
    "    * a slice of labels\n",
    "    \n",
    "    * a conditional expression"
   ]
  },
  {
   "cell_type": "code",
   "execution_count": null,
   "id": "95ec0280-28be-43f5-9c20-5db2f795bf04",
   "metadata": {},
   "outputs": [],
   "source": []
  }
 ],
 "metadata": {
  "kernelspec": {
   "display_name": "Python 3 (ipykernel)",
   "language": "python",
   "name": "python3"
  },
  "language_info": {
   "codemirror_mode": {
    "name": "ipython",
    "version": 3
   },
   "file_extension": ".py",
   "mimetype": "text/x-python",
   "name": "python",
   "nbconvert_exporter": "python",
   "pygments_lexer": "ipython3",
   "version": "3.11.5"
  }
 },
 "nbformat": 4,
 "nbformat_minor": 5
}
