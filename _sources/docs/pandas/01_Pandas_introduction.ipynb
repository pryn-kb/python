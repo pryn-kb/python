{
 "cells": [
  {
   "cell_type": "markdown",
   "id": "9096fe02-76ac-452f-9205-5653d05d7ba9",
   "metadata": {},
   "source": [
    "# Installing (or upgrading) Pandas"
   ]
  },
  {
   "cell_type": "markdown",
   "id": "f4c07520-40a2-4bf8-b659-842c883038ff",
   "metadata": {},
   "source": [
    "This command installs the pandas library using pip, Python's package installer.\\\n",
    "If you haven't installed pandas before, this will download and install the latest version of pandas along with its dependencies.\n",
    "\n",
    "`pip install pandas`\n",
    "\n",
    "Adding the `--upgrade` flag not only installs pandas if it isn't already installed but also ensures that if pandas is already installed, it is updated to the latest version. This is useful to make sure you have the newest features and bug fixes.\n",
    "\n",
    "`pip install --upgrade pandas`"
   ]
  },
  {
   "cell_type": "markdown",
   "id": "64495ea9-3773-4c8b-a699-fc8bf1b2cf55",
   "metadata": {},
   "source": [
    "## Import Pandas"
   ]
  },
  {
   "cell_type": "code",
   "execution_count": 1,
   "id": "32927769-d53d-48eb-9861-24b01bd70d73",
   "metadata": {},
   "outputs": [],
   "source": [
    "# This line imports the pandas library and aliases it as 'pd'.\n",
    "# Aliasing pandas as 'pd' is a widely adopted convention that simplifies the syntax for accessing its functionalities.\n",
    "# After this statement, you can use 'pd' to access all the functionalities provided by the pandas library.\n",
    "\n",
    "import pandas as pd"
   ]
  },
  {
   "cell_type": "markdown",
   "id": "0fd010e0-6070-4a82-8cfc-10830336c2b8",
   "metadata": {},
   "source": [
    "## Representation of a Pandas `DataFrame`\n",
    "\n",
    "![Representation of a Pandas DataFrame](images/01_table_dataframe.svg)"
   ]
  },
  {
   "cell_type": "markdown",
   "id": "0e76387e-b36c-45c3-bf7c-0537425da09f",
   "metadata": {},
   "source": [
    "## Creating our first `DataFrame`"
   ]
  },
  {
   "cell_type": "code",
   "execution_count": 2,
   "id": "426dad0c-2aca-4309-b8c5-ff40c947791f",
   "metadata": {},
   "outputs": [],
   "source": [
    "# These lists will be used as columns for a DataFrame, \n",
    "# with each list representing a column and each element within the list representing a row in that column.\n",
    "\n",
    "name = [\"Braund\", \"Allen\", \"Bonnel\"]\n",
    "age = [22, 35, 58]\n",
    "sex = [\"male\", \"male\", \"female\"]"
   ]
  },
  {
   "cell_type": "code",
   "execution_count": 3,
   "id": "80c5bff2-6168-4cd2-838b-f2dc02519c0d",
   "metadata": {},
   "outputs": [],
   "source": [
    "# Create a DataFrame named 'df'.\n",
    "# We use lists 'name', 'age', and 'sex' to fill in the columns.\n",
    "# Each list corresponds to a column in the DataFrame.\n",
    "# 'Name', 'Age', and 'Sex' are the titles of these columns.\n",
    "\n",
    "df = pd.DataFrame({'Name': name, 'Age': age, 'Sex': sex})"
   ]
  },
  {
   "cell_type": "markdown",
   "id": "30179dc6-251f-4543-9548-5142d782742e",
   "metadata": {},
   "source": [
    "### Creating a `DataFrame` in pandas is similar to creating a `dictionary`.\n",
    "The `key`s in the `dictionary` become the column names, while the `value`s, which are `list`s or `array`s, form the columns' data. \\\n",
    "For more information on `dictionary`s in Python, see: \\\n",
    "[https://www.geeksforgeeks.org/python-dictionary/](https://www.geeksforgeeks.org/python-dictionary/)"
   ]
  },
  {
   "cell_type": "code",
   "execution_count": 4,
   "id": "144c2fff-4ff7-448c-b2b6-3e8cb9d17321",
   "metadata": {},
   "outputs": [
    {
     "data": {
      "text/html": [
       "<div>\n",
       "<style scoped>\n",
       "    .dataframe tbody tr th:only-of-type {\n",
       "        vertical-align: middle;\n",
       "    }\n",
       "\n",
       "    .dataframe tbody tr th {\n",
       "        vertical-align: top;\n",
       "    }\n",
       "\n",
       "    .dataframe thead th {\n",
       "        text-align: right;\n",
       "    }\n",
       "</style>\n",
       "<table border=\"1\" class=\"dataframe\">\n",
       "  <thead>\n",
       "    <tr style=\"text-align: right;\">\n",
       "      <th></th>\n",
       "      <th>Name</th>\n",
       "      <th>Age</th>\n",
       "      <th>Sex</th>\n",
       "    </tr>\n",
       "  </thead>\n",
       "  <tbody>\n",
       "    <tr>\n",
       "      <th>0</th>\n",
       "      <td>Braund</td>\n",
       "      <td>22</td>\n",
       "      <td>male</td>\n",
       "    </tr>\n",
       "    <tr>\n",
       "      <th>1</th>\n",
       "      <td>Allen</td>\n",
       "      <td>35</td>\n",
       "      <td>male</td>\n",
       "    </tr>\n",
       "    <tr>\n",
       "      <th>2</th>\n",
       "      <td>Bonnel</td>\n",
       "      <td>58</td>\n",
       "      <td>female</td>\n",
       "    </tr>\n",
       "  </tbody>\n",
       "</table>\n",
       "</div>"
      ],
      "text/plain": [
       "     Name  Age     Sex\n",
       "0  Braund   22    male\n",
       "1   Allen   35    male\n",
       "2  Bonnel   58  female"
      ]
     },
     "execution_count": 4,
     "metadata": {},
     "output_type": "execute_result"
    }
   ],
   "source": [
    "# Display the DataFrame 'df'.\n",
    "\n",
    "df"
   ]
  },
  {
   "cell_type": "markdown",
   "id": "ca5889cb-a936-44af-9726-395be98cb700",
   "metadata": {},
   "source": [
    "In a spreadsheet software, the table representation of our data would look very similar\n",
    "\n",
    "![Table representaion in spreadsheet software](images/01_table_spreadsheet.png)"
   ]
  },
  {
   "cell_type": "code",
   "execution_count": 5,
   "id": "4bff0d19-f314-4070-bee5-ea49f892f1d6",
   "metadata": {},
   "outputs": [
    {
     "data": {
      "text/plain": [
       "pandas.core.frame.DataFrame"
      ]
     },
     "execution_count": 5,
     "metadata": {},
     "output_type": "execute_result"
    }
   ],
   "source": [
    "# Check the type of the 'df' object using the type()type()' function.\n",
    "\n",
    "type(df)"
   ]
  },
  {
   "cell_type": "markdown",
   "id": "80122f4b-f7a9-45a2-a50c-3f839f93ee82",
   "metadata": {},
   "source": [
    "## Attributes"
   ]
  },
  {
   "cell_type": "code",
   "execution_count": 6,
   "id": "91a1097f-8c2f-4137-9d0d-4b811fb38ffc",
   "metadata": {},
   "outputs": [
    {
     "data": {
      "text/plain": [
       "(3, 3)"
      ]
     },
     "execution_count": 6,
     "metadata": {},
     "output_type": "execute_result"
    }
   ],
   "source": [
    "# Use the 'shape' attribute to determine the dimensions of the DataFrame 'df'.\n",
    "# It returns a tuple representing the number of rows and columns (rows, columns).\n",
    "\n",
    "df.shape"
   ]
  },
  {
   "cell_type": "code",
   "execution_count": 7,
   "id": "566c11a5-d3ba-44c5-93ea-eff112562181",
   "metadata": {},
   "outputs": [
    {
     "data": {
      "text/plain": [
       "Name    object\n",
       "Age      int64\n",
       "Sex     object\n",
       "dtype: object"
      ]
     },
     "execution_count": 7,
     "metadata": {},
     "output_type": "execute_result"
    }
   ],
   "source": [
    "# Use the 'dtypes' attribute to view the data types of each column in the 'df' DataFrame.\n",
    "# This command provides information about the data type of each column, such as integer, float, or object (string).\n",
    "\n",
    "df.dtypes"
   ]
  },
  {
   "cell_type": "markdown",
   "id": "5a76339f-2828-47f3-9ab5-4a1f5d98e746",
   "metadata": {},
   "source": [
    "When asking for the `shape` or `dtypes`, no parentheses `()` are used. Both are an attribute of `DataFrame` and `Series`. (`Series` will be explained later.)\n",
    "\n",
    "Attributes of a `DataFrame` or `Series` do not need `()`.\n",
    "\n",
    "Attributes represent a characteristic of a `DataFrame`/`Series`, whereas methods (which require parentheses `()`) do something with the `DataFrame`/`Series`. "
   ]
  },
  {
   "cell_type": "markdown",
   "id": "45e9ea6a-222f-4ead-88e2-1c234311e5d6",
   "metadata": {},
   "source": [
    "### We can transpose a `DataFrame`"
   ]
  },
  {
   "cell_type": "code",
   "execution_count": 8,
   "id": "1ec1e04e-13e6-47cd-9baf-7a9d71b412b6",
   "metadata": {},
   "outputs": [],
   "source": [
    "# Transpose the DataFrame 'df' using the 'transpose()' method.\n",
    "# This operation swaps the DataFrame's rows and columns, creating 'df_transposed'.\n",
    "# Transposing is useful for reshaping data, making it easier to compare rows or apply certain operations that are typically column-based.\n",
    "\n",
    "df_transposed = df.transpose()"
   ]
  },
  {
   "cell_type": "code",
   "execution_count": 9,
   "id": "6b5455d3-7a45-442d-96ca-84d7ee7a0a88",
   "metadata": {},
   "outputs": [
    {
     "data": {
      "text/html": [
       "<div>\n",
       "<style scoped>\n",
       "    .dataframe tbody tr th:only-of-type {\n",
       "        vertical-align: middle;\n",
       "    }\n",
       "\n",
       "    .dataframe tbody tr th {\n",
       "        vertical-align: top;\n",
       "    }\n",
       "\n",
       "    .dataframe thead th {\n",
       "        text-align: right;\n",
       "    }\n",
       "</style>\n",
       "<table border=\"1\" class=\"dataframe\">\n",
       "  <thead>\n",
       "    <tr style=\"text-align: right;\">\n",
       "      <th></th>\n",
       "      <th>0</th>\n",
       "      <th>1</th>\n",
       "      <th>2</th>\n",
       "    </tr>\n",
       "  </thead>\n",
       "  <tbody>\n",
       "    <tr>\n",
       "      <th>Name</th>\n",
       "      <td>Braund</td>\n",
       "      <td>Allen</td>\n",
       "      <td>Bonnel</td>\n",
       "    </tr>\n",
       "    <tr>\n",
       "      <th>Age</th>\n",
       "      <td>22</td>\n",
       "      <td>35</td>\n",
       "      <td>58</td>\n",
       "    </tr>\n",
       "    <tr>\n",
       "      <th>Sex</th>\n",
       "      <td>male</td>\n",
       "      <td>male</td>\n",
       "      <td>female</td>\n",
       "    </tr>\n",
       "  </tbody>\n",
       "</table>\n",
       "</div>"
      ],
      "text/plain": [
       "           0      1       2\n",
       "Name  Braund  Allen  Bonnel\n",
       "Age       22     35      58\n",
       "Sex     male   male  female"
      ]
     },
     "execution_count": 9,
     "metadata": {},
     "output_type": "execute_result"
    }
   ],
   "source": [
    "# Display the DataFrame 'df_transposed'.\n",
    "\n",
    "df_transposed"
   ]
  },
  {
   "cell_type": "markdown",
   "id": "37956e37-86cf-4370-a688-f941d9ef49c7",
   "metadata": {},
   "source": [
    "### It is also possible to rename columns afterwards"
   ]
  },
  {
   "cell_type": "code",
   "execution_count": 10,
   "id": "f5038b7c-084d-486a-9cac-35f6a9182538",
   "metadata": {},
   "outputs": [],
   "source": [
    "# Rename the columns of the DataFrame 'df'.\n",
    "# This is done by assigning a new list of column names to 'df.columns'.\n",
    "# The new column names are 'Names', 'Age', and 'Sex', in that order.\n",
    "\n",
    "df.columns = ['Names', 'Age', 'Sex']"
   ]
  },
  {
   "cell_type": "code",
   "execution_count": 11,
   "id": "384b0f6e-0ccc-4f97-827b-6e6f6b045e23",
   "metadata": {},
   "outputs": [],
   "source": [
    "# Rename the 'Age' column to 'Ages' in the DataFrame 'df'.\n",
    "# This method is useful for selectively renaming only one or more columns without changing the entire set of column names.\n",
    "\n",
    "df = df.rename(columns={'Age': 'Ages'})"
   ]
  },
  {
   "cell_type": "code",
   "execution_count": 12,
   "id": "3ed991dd-ce32-4f58-b5a9-bca82729ff1d",
   "metadata": {
    "scrolled": true
   },
   "outputs": [
    {
     "data": {
      "text/html": [
       "<div>\n",
       "<style scoped>\n",
       "    .dataframe tbody tr th:only-of-type {\n",
       "        vertical-align: middle;\n",
       "    }\n",
       "\n",
       "    .dataframe tbody tr th {\n",
       "        vertical-align: top;\n",
       "    }\n",
       "\n",
       "    .dataframe thead th {\n",
       "        text-align: right;\n",
       "    }\n",
       "</style>\n",
       "<table border=\"1\" class=\"dataframe\">\n",
       "  <thead>\n",
       "    <tr style=\"text-align: right;\">\n",
       "      <th></th>\n",
       "      <th>Names</th>\n",
       "      <th>Ages</th>\n",
       "      <th>Sex</th>\n",
       "    </tr>\n",
       "  </thead>\n",
       "  <tbody>\n",
       "    <tr>\n",
       "      <th>0</th>\n",
       "      <td>Braund</td>\n",
       "      <td>22</td>\n",
       "      <td>male</td>\n",
       "    </tr>\n",
       "    <tr>\n",
       "      <th>1</th>\n",
       "      <td>Allen</td>\n",
       "      <td>35</td>\n",
       "      <td>male</td>\n",
       "    </tr>\n",
       "    <tr>\n",
       "      <th>2</th>\n",
       "      <td>Bonnel</td>\n",
       "      <td>58</td>\n",
       "      <td>female</td>\n",
       "    </tr>\n",
       "  </tbody>\n",
       "</table>\n",
       "</div>"
      ],
      "text/plain": [
       "    Names  Ages     Sex\n",
       "0  Braund    22    male\n",
       "1   Allen    35    male\n",
       "2  Bonnel    58  female"
      ]
     },
     "execution_count": 12,
     "metadata": {},
     "output_type": "execute_result"
    }
   ],
   "source": [
    "# Our DataFrame now looks like this:\n",
    "\n",
    "df"
   ]
  },
  {
   "cell_type": "markdown",
   "id": "35c51e79-e5ad-4d31-80a5-7c9214c7979d",
   "metadata": {},
   "source": [
    "## Each column in a `DataFrame` is a `Series`\n",
    "\n",
    "![DataFrame Series](images/01_table_series.svg)"
   ]
  },
  {
   "cell_type": "code",
   "execution_count": 13,
   "id": "be3895b3-b1b7-461b-af5b-97890cc5cfc5",
   "metadata": {},
   "outputs": [
    {
     "data": {
      "text/plain": [
       "0    22\n",
       "1    35\n",
       "2    58\n",
       "Name: Ages, dtype: int64"
      ]
     },
     "execution_count": 13,
     "metadata": {},
     "output_type": "execute_result"
    }
   ],
   "source": [
    "# Access the 'Ages' column from the DataFrame 'df'.\n",
    "# This returns a Series object containing all the data in the 'Ages' column.\n",
    "\n",
    "df['Ages']"
   ]
  },
  {
   "cell_type": "code",
   "execution_count": 14,
   "id": "e6bb2806-5a6f-43cc-badd-c4a7fb4baf96",
   "metadata": {},
   "outputs": [
    {
     "data": {
      "text/plain": [
       "pandas.core.series.Series"
      ]
     },
     "execution_count": 14,
     "metadata": {},
     "output_type": "execute_result"
    }
   ],
   "source": [
    "# Check the type of the 'Ages' column in 'df' using the 'type()' function.\n",
    "\n",
    "type(df['Ages'])"
   ]
  },
  {
   "cell_type": "markdown",
   "id": "3400c819-d5a7-4a49-b7c4-71b3212760a2",
   "metadata": {},
   "source": [
    "### We can also create our own `Series`"
   ]
  },
  {
   "cell_type": "code",
   "execution_count": 15,
   "id": "27b125f6-7e9e-48c7-b82d-fbce714dfd8d",
   "metadata": {},
   "outputs": [],
   "source": [
    "# Create a pandas Series named 'fare' with specified values.\n",
    "# The 'name' parameter assigns the name 'Fare' to the Series.\n",
    "\n",
    "fare = pd.Series([7.2500, 71.2833, 7.9250], name='Fare')"
   ]
  },
  {
   "cell_type": "code",
   "execution_count": 16,
   "id": "ae48df52-087e-495b-a84a-002e32cb5147",
   "metadata": {},
   "outputs": [
    {
     "data": {
      "text/plain": [
       "0     7.2500\n",
       "1    71.2833\n",
       "2     7.9250\n",
       "Name: Fare, dtype: float64"
      ]
     },
     "execution_count": 16,
     "metadata": {},
     "output_type": "execute_result"
    }
   ],
   "source": [
    "# Display the 'fare' Series.\n",
    "# This outputs the values along with their index positions and the name of the Series.\n",
    "\n",
    "fare"
   ]
  },
  {
   "cell_type": "code",
   "execution_count": 17,
   "id": "45f90ce4-dac3-4744-8ccf-1305f810e945",
   "metadata": {},
   "outputs": [
    {
     "data": {
      "text/plain": [
       "pandas.core.series.Series"
      ]
     },
     "execution_count": 17,
     "metadata": {},
     "output_type": "execute_result"
    }
   ],
   "source": [
    "# Check the data type of 'fare' using the 'type()' function.\n",
    "\n",
    "type(fare)"
   ]
  },
  {
   "cell_type": "markdown",
   "id": "a27a0e64-84e3-41e9-a782-4c129bbca2ce",
   "metadata": {},
   "source": [
    "## Appending a `Series` to an existing `DataFrame`"
   ]
  },
  {
   "cell_type": "code",
   "execution_count": 18,
   "id": "caa936b3-de65-47c5-8dbd-36caad6021ed",
   "metadata": {},
   "outputs": [],
   "source": [
    "# Concatenate the 'fare' Series to the 'df' DataFrame along the columns (axis=1).\n",
    "# This adds the 'fare' Series as a new column to 'df', extending it horizontally.\n",
    "# The name of the 'fare' Series ('Fare') becomes the column name in the updated DataFrame.\n",
    "\n",
    "df = pd.concat([df, fare], axis=1)"
   ]
  },
  {
   "cell_type": "code",
   "execution_count": 19,
   "id": "2bc757fc-fa57-49f5-a51a-1e85a13600f8",
   "metadata": {},
   "outputs": [
    {
     "data": {
      "text/html": [
       "<div>\n",
       "<style scoped>\n",
       "    .dataframe tbody tr th:only-of-type {\n",
       "        vertical-align: middle;\n",
       "    }\n",
       "\n",
       "    .dataframe tbody tr th {\n",
       "        vertical-align: top;\n",
       "    }\n",
       "\n",
       "    .dataframe thead th {\n",
       "        text-align: right;\n",
       "    }\n",
       "</style>\n",
       "<table border=\"1\" class=\"dataframe\">\n",
       "  <thead>\n",
       "    <tr style=\"text-align: right;\">\n",
       "      <th></th>\n",
       "      <th>Names</th>\n",
       "      <th>Ages</th>\n",
       "      <th>Sex</th>\n",
       "      <th>Fare</th>\n",
       "    </tr>\n",
       "  </thead>\n",
       "  <tbody>\n",
       "    <tr>\n",
       "      <th>0</th>\n",
       "      <td>Braund</td>\n",
       "      <td>22</td>\n",
       "      <td>male</td>\n",
       "      <td>7.2500</td>\n",
       "    </tr>\n",
       "    <tr>\n",
       "      <th>1</th>\n",
       "      <td>Allen</td>\n",
       "      <td>35</td>\n",
       "      <td>male</td>\n",
       "      <td>71.2833</td>\n",
       "    </tr>\n",
       "    <tr>\n",
       "      <th>2</th>\n",
       "      <td>Bonnel</td>\n",
       "      <td>58</td>\n",
       "      <td>female</td>\n",
       "      <td>7.9250</td>\n",
       "    </tr>\n",
       "  </tbody>\n",
       "</table>\n",
       "</div>"
      ],
      "text/plain": [
       "    Names  Ages     Sex     Fare\n",
       "0  Braund    22    male   7.2500\n",
       "1   Allen    35    male  71.2833\n",
       "2  Bonnel    58  female   7.9250"
      ]
     },
     "execution_count": 19,
     "metadata": {},
     "output_type": "execute_result"
    }
   ],
   "source": [
    "# Display the updated DataFrame 'df'.\n",
    "\n",
    "df"
   ]
  },
  {
   "cell_type": "markdown",
   "id": "aef5c0ea-4068-4905-98af-d9ba4acd0988",
   "metadata": {},
   "source": [
    "### We can also create a new column based on the data in an existing column"
   ]
  },
  {
   "cell_type": "code",
   "execution_count": 20,
   "id": "b7ebd87e-1345-4c84-8720-d5b6dc4a7eb1",
   "metadata": {},
   "outputs": [],
   "source": [
    "# Create a new column 'Age_in_3_years' in the DataFrame 'df'.\n",
    "# This column is calculated by adding 3 to each value in the 'Ages' column.\n",
    "\n",
    "df['Age_in_3_years'] = df['Ages'] + 3"
   ]
  },
  {
   "cell_type": "code",
   "execution_count": 21,
   "id": "9b1c06f7-bf86-4069-934d-4e1bc9ba92c8",
   "metadata": {},
   "outputs": [
    {
     "data": {
      "text/html": [
       "<div>\n",
       "<style scoped>\n",
       "    .dataframe tbody tr th:only-of-type {\n",
       "        vertical-align: middle;\n",
       "    }\n",
       "\n",
       "    .dataframe tbody tr th {\n",
       "        vertical-align: top;\n",
       "    }\n",
       "\n",
       "    .dataframe thead th {\n",
       "        text-align: right;\n",
       "    }\n",
       "</style>\n",
       "<table border=\"1\" class=\"dataframe\">\n",
       "  <thead>\n",
       "    <tr style=\"text-align: right;\">\n",
       "      <th></th>\n",
       "      <th>Names</th>\n",
       "      <th>Ages</th>\n",
       "      <th>Sex</th>\n",
       "      <th>Fare</th>\n",
       "      <th>Age_in_3_years</th>\n",
       "    </tr>\n",
       "  </thead>\n",
       "  <tbody>\n",
       "    <tr>\n",
       "      <th>0</th>\n",
       "      <td>Braund</td>\n",
       "      <td>22</td>\n",
       "      <td>male</td>\n",
       "      <td>7.2500</td>\n",
       "      <td>25</td>\n",
       "    </tr>\n",
       "    <tr>\n",
       "      <th>1</th>\n",
       "      <td>Allen</td>\n",
       "      <td>35</td>\n",
       "      <td>male</td>\n",
       "      <td>71.2833</td>\n",
       "      <td>38</td>\n",
       "    </tr>\n",
       "    <tr>\n",
       "      <th>2</th>\n",
       "      <td>Bonnel</td>\n",
       "      <td>58</td>\n",
       "      <td>female</td>\n",
       "      <td>7.9250</td>\n",
       "      <td>61</td>\n",
       "    </tr>\n",
       "  </tbody>\n",
       "</table>\n",
       "</div>"
      ],
      "text/plain": [
       "    Names  Ages     Sex     Fare  Age_in_3_years\n",
       "0  Braund    22    male   7.2500              25\n",
       "1   Allen    35    male  71.2833              38\n",
       "2  Bonnel    58  female   7.9250              61"
      ]
     },
     "execution_count": 21,
     "metadata": {},
     "output_type": "execute_result"
    }
   ],
   "source": [
    "# Display the updated DataFrame 'df'.\n",
    "\n",
    "df"
   ]
  },
  {
   "cell_type": "markdown",
   "id": "d1c2bd34-46bb-4fdb-b329-1fac9501b9fe",
   "metadata": {},
   "source": [
    "## Exercise:\n",
    "* Create a new column called 'Fare_in_DKK' based on the column 'Fare'.\n",
    "* We assume the old fare prices to be in GBP and the exchange rate to be £1 = 8.7 DKK\n",
    "\n",
    "<details>\n",
    "  <summary>Click to reveal solution</summary>\n",
    "  <br/>\n",
    "    \n",
    "`df['Fare_in_DKK'] = df['Fare'] * 8.7`\n",
    "\n",
    "This solution creates a new column in the `DataFrame` named 'Fare_in_DKK', which contains the fare prices converted from GBP to DKK using the given exchange rate.<br/>\n",
    "Each fare value in GBP is multiplied by the exchange rate to obtain the corresponding fare value in DKK.\n",
    "\n",
    "</details>"
   ]
  },
  {
   "cell_type": "markdown",
   "id": "88977f16-e5c9-4afd-a198-0011b48c6a3e",
   "metadata": {},
   "source": [
    "## REMEMBER\n",
    "\n",
    "* Import the package, aka `import pandas as pd`.\n",
    "\n",
    "* A table of data is stored as a pandas `DataFrame`.\n",
    "\n",
    "* The `shape`and `dtypes` attributes are convenient for a first check.\n",
    "\n",
    "* Each column in a `DataFrame` is a `Series`.\n",
    "\n",
    "* We can append `Series` as columns to an existing `DataFrame`."
   ]
  },
  {
   "cell_type": "code",
   "execution_count": null,
   "id": "ab0193a6-7fbb-4bba-aeeb-069c9d48529d",
   "metadata": {},
   "outputs": [],
   "source": []
  }
 ],
 "metadata": {
  "kernelspec": {
   "display_name": "Python 3 (ipykernel)",
   "language": "python",
   "name": "python3"
  },
  "language_info": {
   "codemirror_mode": {
    "name": "ipython",
    "version": 3
   },
   "file_extension": ".py",
   "mimetype": "text/x-python",
   "name": "python",
   "nbconvert_exporter": "python",
   "pygments_lexer": "ipython3",
   "version": "3.11.5"
  }
 },
 "nbformat": 4,
 "nbformat_minor": 5
}
