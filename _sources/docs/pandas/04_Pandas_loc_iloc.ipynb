{
 "cells": [
  {
   "cell_type": "markdown",
   "id": "8cc0a068-ce14-4fca-b840-0bd6692c9dfe",
   "metadata": {
    "editable": true,
    "slideshow": {
     "slide_type": ""
    },
    "tags": []
   },
   "source": [
    "# `loc` and `iloc`\n",
    "\n",
    "`loc` and `iloc` in pandas are technically properties that return a specialized indexer object. These indexer objects allow for label-based (`loc`) and integer-based (`iloc`) indexing. Although they behave similarly to methods in that you use them to perform actions (i.e., selecting or slicing data), they are properties because they return an indexing object rather than directly executing a function.\n",
    "\n",
    "When you access `loc` or `iloc` on a `DataFrame`, what you're getting is not a simple value but an object that has its own methods and behaviors, specifically designed to handle indexing operations. This design allows for the concise and powerful data selection syntax that pandas is known for."
   ]
  },
  {
   "cell_type": "markdown",
   "id": "6d37b77f-2a95-434b-9148-400d97a7c430",
   "metadata": {
    "editable": true,
    "slideshow": {
     "slide_type": ""
    },
    "tags": []
   },
   "source": [
    "___"
   ]
  },
  {
   "cell_type": "markdown",
   "id": "851e86b0-8cff-4209-96ba-e28acea7ef61",
   "metadata": {
    "editable": true,
    "slideshow": {
     "slide_type": ""
    },
    "tags": []
   },
   "source": [
    "```{admonition} When to use loc or iloc\n",
    "\n",
    "1. **Positional Selection**: When the selection is purely positional (selecting the first five rows, or columns 2 to 4), `iloc` is the most straightforward tool for the job.\n",
    "\n",
    "2. **Inclusive Slicing:** `loc` allows for inclusive label-based slicing, simplifying the specification of row and column ranges.\n",
    "\n",
    "3. **Label-based Complex Indexing**: For complex indexing scenarios where you need to select rows and columns based on their labels, `loc` is indispensable. It allows for intuitive and concise syntax that boolean masks cannot provide alone.\n",
    "\n",
    "4. **Efficiency and Readability**: In cases where using a boolean mask leads to verbose or inefficient code, `loc` or `iloc` might offer a more elegant and performant solution. \n",
    "\n",
    "In summary, while boolean masks are powerful for filtering rows based on conditions, `loc` and `iloc` are essential for a wide range of other data selection tasks, particularly those involving specific column selection, positional indexing, and complex indexing scenarios that go beyond what boolean masks can achieve on their own.\n",
    "```"
   ]
  },
  {
   "cell_type": "markdown",
   "id": "fcb92e5d-1ba5-4f89-8bda-fe4c84a9b780",
   "metadata": {
    "editable": true,
    "slideshow": {
     "slide_type": ""
    },
    "tags": []
   },
   "source": [
    "## Import Pandas & create a `DataFrame`"
   ]
  },
  {
   "cell_type": "markdown",
   "id": "38e3107d-0713-4ae4-82d8-0a58aed90d54",
   "metadata": {
    "editable": true,
    "slideshow": {
     "slide_type": ""
    },
    "tags": [
     "remove-cell"
    ]
   },
   "source": [
    "Aliasing pandas as `pd` is a widely adopted convention that simplifies the syntax for accessing its functionalities.\\\n",
    "After this statement, you can use `pd` to access all the functionalities provided by the pandas library."
   ]
  },
  {
   "cell_type": "code",
   "execution_count": 12,
   "id": "853078ad-f657-4009-8e2c-2c7e2b53b963",
   "metadata": {
    "editable": true,
    "slideshow": {
     "slide_type": ""
    },
    "tags": []
   },
   "outputs": [],
   "source": [
    "# This line imports the pandas library and aliases it as 'pd'.\n",
    "\n",
    "import pandas as pd"
   ]
  },
  {
   "cell_type": "markdown",
   "id": "469da173-27f8-417a-824d-e28723e4e030",
   "metadata": {
    "editable": true,
    "slideshow": {
     "slide_type": ""
    },
    "tags": []
   },
   "source": [
    "### Create a `DataFrame` from csv"
   ]
  },
  {
   "cell_type": "markdown",
   "id": "e5cd3dbe-c02d-4b32-85a5-28aeb8e12cb1",
   "metadata": {
    "editable": true,
    "slideshow": {
     "slide_type": ""
    },
    "tags": []
   },
   "source": [
    "The `pd.read_csv()` function is used to read the data from the file 'data/titanic.csv'.\\\n",
    "The file is located in the 'data' directory, relative to the current working directory.\\\n",
    "The resulting `DataFrame` 'titanic' contains the dataset, ready for analysis and manipulation."
   ]
  },
  {
   "cell_type": "code",
   "execution_count": 19,
   "id": "71424851-2d07-4d8f-bf2a-9fa07113cf54",
   "metadata": {
    "editable": true,
    "slideshow": {
     "slide_type": ""
    },
    "tags": []
   },
   "outputs": [],
   "source": [
    "# Load the Titanic dataset from a CSV file into a DataFrame named 'titanic'.\n",
    "\n",
    "titanic = pd.read_csv('data/titanic.csv')"
   ]
  },
  {
   "cell_type": "markdown",
   "id": "4fc90fb4-ac30-40ed-bf40-7d0e437dc413",
   "metadata": {
    "editable": true,
    "slideshow": {
     "slide_type": ""
    },
    "tags": []
   },
   "source": [
    "___"
   ]
  },
  {
   "cell_type": "markdown",
   "id": "9dfb9de9-9d32-433f-9cb5-90932b45c26d",
   "metadata": {
    "editable": true,
    "slideshow": {
     "slide_type": ""
    },
    "tags": []
   },
   "source": [
    "## Select  rows and columns using `loc` and `iloc`\n",
    "\n",
    "![How to select specific rows and columns from a DataFrame](images/03_subset_columns_rows.svg)"
   ]
  },
  {
   "cell_type": "markdown",
   "id": "11671637-00a4-42e2-b59d-7cc05a4cb479",
   "metadata": {
    "editable": true,
    "slideshow": {
     "slide_type": ""
    },
    "tags": []
   },
   "source": [
    "We have seen how we can filter rows in the titanic `DataFrame`.\n",
    "\n",
    "The code below uses boolean indexing to first filter rows where the age is greater than 35, and then selects specific columns 'Name' and 'Pclass' using double square brackets.\n",
    "\n",
    "* Filter rows in the 'titanic' DataFrame where the age is greater than 35,\n",
    "* Then select only the 'Name' and 'Pclass' columns for these filtered rows. "
   ]
  },
  {
   "cell_type": "code",
   "execution_count": 21,
   "id": "1fb3bd0e-41ba-4a7f-8945-3a715ddc0a0c",
   "metadata": {
    "editable": true,
    "slideshow": {
     "slide_type": ""
    },
    "tags": [
     "hide-output"
    ]
   },
   "outputs": [
    {
     "data": {
      "text/html": [
       "<div>\n",
       "<style scoped>\n",
       "    .dataframe tbody tr th:only-of-type {\n",
       "        vertical-align: middle;\n",
       "    }\n",
       "\n",
       "    .dataframe tbody tr th {\n",
       "        vertical-align: top;\n",
       "    }\n",
       "\n",
       "    .dataframe thead th {\n",
       "        text-align: right;\n",
       "    }\n",
       "</style>\n",
       "<table border=\"1\" class=\"dataframe\">\n",
       "  <thead>\n",
       "    <tr style=\"text-align: right;\">\n",
       "      <th></th>\n",
       "      <th>Name</th>\n",
       "      <th>Pclass</th>\n",
       "    </tr>\n",
       "  </thead>\n",
       "  <tbody>\n",
       "    <tr>\n",
       "      <th>1</th>\n",
       "      <td>Cumings, Mrs. John Bradley (Florence Briggs Th...</td>\n",
       "      <td>1</td>\n",
       "    </tr>\n",
       "    <tr>\n",
       "      <th>6</th>\n",
       "      <td>McCarthy, Mr. Timothy J</td>\n",
       "      <td>1</td>\n",
       "    </tr>\n",
       "    <tr>\n",
       "      <th>11</th>\n",
       "      <td>Bonnell, Miss. Elizabeth</td>\n",
       "      <td>1</td>\n",
       "    </tr>\n",
       "    <tr>\n",
       "      <th>13</th>\n",
       "      <td>Andersson, Mr. Anders Johan</td>\n",
       "      <td>3</td>\n",
       "    </tr>\n",
       "    <tr>\n",
       "      <th>15</th>\n",
       "      <td>Hewlett, Mrs. (Mary D Kingcome)</td>\n",
       "      <td>2</td>\n",
       "    </tr>\n",
       "    <tr>\n",
       "      <th>...</th>\n",
       "      <td>...</td>\n",
       "      <td>...</td>\n",
       "    </tr>\n",
       "    <tr>\n",
       "      <th>865</th>\n",
       "      <td>Bystrom, Mrs. (Karolina)</td>\n",
       "      <td>2</td>\n",
       "    </tr>\n",
       "    <tr>\n",
       "      <th>871</th>\n",
       "      <td>Beckwith, Mrs. Richard Leonard (Sallie Monypeny)</td>\n",
       "      <td>1</td>\n",
       "    </tr>\n",
       "    <tr>\n",
       "      <th>873</th>\n",
       "      <td>Vander Cruyssen, Mr. Victor</td>\n",
       "      <td>3</td>\n",
       "    </tr>\n",
       "    <tr>\n",
       "      <th>879</th>\n",
       "      <td>Potter, Mrs. Thomas Jr (Lily Alexenia Wilson)</td>\n",
       "      <td>1</td>\n",
       "    </tr>\n",
       "    <tr>\n",
       "      <th>885</th>\n",
       "      <td>Rice, Mrs. William (Margaret Norton)</td>\n",
       "      <td>3</td>\n",
       "    </tr>\n",
       "  </tbody>\n",
       "</table>\n",
       "<p>217 rows × 2 columns</p>\n",
       "</div>"
      ],
      "text/plain": [
       "                                                  Name  Pclass\n",
       "1    Cumings, Mrs. John Bradley (Florence Briggs Th...       1\n",
       "6                              McCarthy, Mr. Timothy J       1\n",
       "11                            Bonnell, Miss. Elizabeth       1\n",
       "13                         Andersson, Mr. Anders Johan       3\n",
       "15                    Hewlett, Mrs. (Mary D Kingcome)        2\n",
       "..                                                 ...     ...\n",
       "865                           Bystrom, Mrs. (Karolina)       2\n",
       "871   Beckwith, Mrs. Richard Leonard (Sallie Monypeny)       1\n",
       "873                        Vander Cruyssen, Mr. Victor       3\n",
       "879      Potter, Mrs. Thomas Jr (Lily Alexenia Wilson)       1\n",
       "885               Rice, Mrs. William (Margaret Norton)       3\n",
       "\n",
       "[217 rows x 2 columns]"
      ]
     },
     "execution_count": 21,
     "metadata": {},
     "output_type": "execute_result"
    }
   ],
   "source": [
    "titanic[titanic['Age'] > 35][['Name', 'Pclass']]"
   ]
  },
  {
   "cell_type": "markdown",
   "id": "213a9c53-000c-44a4-bbbf-dba624fca30c",
   "metadata": {
    "editable": true,
    "jp-MarkdownHeadingCollapsed": true,
    "slideshow": {
     "slide_type": ""
    },
    "tags": []
   },
   "source": [
    "```{admonition} When using loc/iloc\n",
    ":class: tip\n",
    "The part *before the comma* is the *rows* you want\n",
    "\n",
    "The part *after the comma* is the *columns* you want to select\n",
    "```"
   ]
  },
  {
   "cell_type": "markdown",
   "id": "f7d54f6b-c119-417d-928a-20d5bb056688",
   "metadata": {
    "editable": true,
    "slideshow": {
     "slide_type": ""
    },
    "tags": []
   },
   "source": [
    "We can perform the same filtering using label-based indexing: `loc`.\n",
    "\n",
    "The following code provides a more explicit way of selecting rows and columns based on labels, where\n",
    "* the first argument specifies the row selection condition ('Age' > 35),\n",
    "* and the second argument specifies the column selection ('Name' and 'Pclass')."
   ]
  },
  {
   "cell_type": "code",
   "execution_count": 31,
   "id": "d1a4f552-10bf-424a-9498-3ece3ccc93a5",
   "metadata": {
    "editable": true,
    "slideshow": {
     "slide_type": ""
    },
    "tags": [
     "hide-output"
    ]
   },
   "outputs": [
    {
     "data": {
      "text/html": [
       "<div>\n",
       "<style scoped>\n",
       "    .dataframe tbody tr th:only-of-type {\n",
       "        vertical-align: middle;\n",
       "    }\n",
       "\n",
       "    .dataframe tbody tr th {\n",
       "        vertical-align: top;\n",
       "    }\n",
       "\n",
       "    .dataframe thead th {\n",
       "        text-align: right;\n",
       "    }\n",
       "</style>\n",
       "<table border=\"1\" class=\"dataframe\">\n",
       "  <thead>\n",
       "    <tr style=\"text-align: right;\">\n",
       "      <th></th>\n",
       "      <th>Name</th>\n",
       "      <th>Pclass</th>\n",
       "    </tr>\n",
       "  </thead>\n",
       "  <tbody>\n",
       "    <tr>\n",
       "      <th>1</th>\n",
       "      <td>Cumings, Mrs. John Bradley (Florence Briggs Th...</td>\n",
       "      <td>1</td>\n",
       "    </tr>\n",
       "    <tr>\n",
       "      <th>6</th>\n",
       "      <td>McCarthy, Mr. Timothy J</td>\n",
       "      <td>1</td>\n",
       "    </tr>\n",
       "    <tr>\n",
       "      <th>11</th>\n",
       "      <td>Bonnell, Miss. Elizabeth</td>\n",
       "      <td>1</td>\n",
       "    </tr>\n",
       "    <tr>\n",
       "      <th>13</th>\n",
       "      <td>Andersson, Mr. Anders Johan</td>\n",
       "      <td>3</td>\n",
       "    </tr>\n",
       "    <tr>\n",
       "      <th>15</th>\n",
       "      <td>Hewlett, Mrs. (Mary D Kingcome)</td>\n",
       "      <td>2</td>\n",
       "    </tr>\n",
       "    <tr>\n",
       "      <th>...</th>\n",
       "      <td>...</td>\n",
       "      <td>...</td>\n",
       "    </tr>\n",
       "    <tr>\n",
       "      <th>865</th>\n",
       "      <td>Bystrom, Mrs. (Karolina)</td>\n",
       "      <td>2</td>\n",
       "    </tr>\n",
       "    <tr>\n",
       "      <th>871</th>\n",
       "      <td>Beckwith, Mrs. Richard Leonard (Sallie Monypeny)</td>\n",
       "      <td>1</td>\n",
       "    </tr>\n",
       "    <tr>\n",
       "      <th>873</th>\n",
       "      <td>Vander Cruyssen, Mr. Victor</td>\n",
       "      <td>3</td>\n",
       "    </tr>\n",
       "    <tr>\n",
       "      <th>879</th>\n",
       "      <td>Potter, Mrs. Thomas Jr (Lily Alexenia Wilson)</td>\n",
       "      <td>1</td>\n",
       "    </tr>\n",
       "    <tr>\n",
       "      <th>885</th>\n",
       "      <td>Rice, Mrs. William (Margaret Norton)</td>\n",
       "      <td>3</td>\n",
       "    </tr>\n",
       "  </tbody>\n",
       "</table>\n",
       "<p>217 rows × 2 columns</p>\n",
       "</div>"
      ],
      "text/plain": [
       "                                                  Name  Pclass\n",
       "1    Cumings, Mrs. John Bradley (Florence Briggs Th...       1\n",
       "6                              McCarthy, Mr. Timothy J       1\n",
       "11                            Bonnell, Miss. Elizabeth       1\n",
       "13                         Andersson, Mr. Anders Johan       3\n",
       "15                    Hewlett, Mrs. (Mary D Kingcome)        2\n",
       "..                                                 ...     ...\n",
       "865                           Bystrom, Mrs. (Karolina)       2\n",
       "871   Beckwith, Mrs. Richard Leonard (Sallie Monypeny)       1\n",
       "873                        Vander Cruyssen, Mr. Victor       3\n",
       "879      Potter, Mrs. Thomas Jr (Lily Alexenia Wilson)       1\n",
       "885               Rice, Mrs. William (Margaret Norton)       3\n",
       "\n",
       "[217 rows x 2 columns]"
      ]
     },
     "execution_count": 31,
     "metadata": {},
     "output_type": "execute_result"
    }
   ],
   "source": [
    "titanic.loc[titanic['Age'] > 35, ['Name', 'Pclass']]"
   ]
  },
  {
   "cell_type": "markdown",
   "id": "d4cf03c1-896d-4286-9586-a46419cd799c",
   "metadata": {
    "editable": true,
    "slideshow": {
     "slide_type": ""
    },
    "tags": []
   },
   "source": [
    "We can also filter using integer position-based location: `iloc`.\n",
    "\n",
    "The code below selects a subset of rows and columns from the 'titanic' `DataFrame` using integer positions.\\\n",
    "Index positions start from 0 and the end position is exclusive, so the selected rows correspond to the 10th to the 25th row in the `DataFrame`, and the selected columns correspond to the 3rd to the 6th column.\n",
    "\n",
    "* Use `iloc` to select rows from index position 9 to 25 (exclusive) and columns from index position 2 to 6 (exclusive)."
   ]
  },
  {
   "cell_type": "code",
   "execution_count": 35,
   "id": "158a6643-8c5a-41a2-8ef5-d41433b38b23",
   "metadata": {
    "editable": true,
    "slideshow": {
     "slide_type": ""
    },
    "tags": [
     "hide-output"
    ]
   },
   "outputs": [
    {
     "data": {
      "text/html": [
       "<div>\n",
       "<style scoped>\n",
       "    .dataframe tbody tr th:only-of-type {\n",
       "        vertical-align: middle;\n",
       "    }\n",
       "\n",
       "    .dataframe tbody tr th {\n",
       "        vertical-align: top;\n",
       "    }\n",
       "\n",
       "    .dataframe thead th {\n",
       "        text-align: right;\n",
       "    }\n",
       "</style>\n",
       "<table border=\"1\" class=\"dataframe\">\n",
       "  <thead>\n",
       "    <tr style=\"text-align: right;\">\n",
       "      <th></th>\n",
       "      <th>Pclass</th>\n",
       "      <th>Name</th>\n",
       "      <th>Sex</th>\n",
       "      <th>Age</th>\n",
       "    </tr>\n",
       "  </thead>\n",
       "  <tbody>\n",
       "    <tr>\n",
       "      <th>9</th>\n",
       "      <td>2</td>\n",
       "      <td>Nasser, Mrs. Nicholas (Adele Achem)</td>\n",
       "      <td>female</td>\n",
       "      <td>14.0</td>\n",
       "    </tr>\n",
       "    <tr>\n",
       "      <th>10</th>\n",
       "      <td>3</td>\n",
       "      <td>Sandstrom, Miss. Marguerite Rut</td>\n",
       "      <td>female</td>\n",
       "      <td>4.0</td>\n",
       "    </tr>\n",
       "    <tr>\n",
       "      <th>11</th>\n",
       "      <td>1</td>\n",
       "      <td>Bonnell, Miss. Elizabeth</td>\n",
       "      <td>female</td>\n",
       "      <td>58.0</td>\n",
       "    </tr>\n",
       "    <tr>\n",
       "      <th>12</th>\n",
       "      <td>3</td>\n",
       "      <td>Saundercock, Mr. William Henry</td>\n",
       "      <td>male</td>\n",
       "      <td>20.0</td>\n",
       "    </tr>\n",
       "    <tr>\n",
       "      <th>13</th>\n",
       "      <td>3</td>\n",
       "      <td>Andersson, Mr. Anders Johan</td>\n",
       "      <td>male</td>\n",
       "      <td>39.0</td>\n",
       "    </tr>\n",
       "    <tr>\n",
       "      <th>14</th>\n",
       "      <td>3</td>\n",
       "      <td>Vestrom, Miss. Hulda Amanda Adolfina</td>\n",
       "      <td>female</td>\n",
       "      <td>14.0</td>\n",
       "    </tr>\n",
       "    <tr>\n",
       "      <th>15</th>\n",
       "      <td>2</td>\n",
       "      <td>Hewlett, Mrs. (Mary D Kingcome)</td>\n",
       "      <td>female</td>\n",
       "      <td>55.0</td>\n",
       "    </tr>\n",
       "    <tr>\n",
       "      <th>16</th>\n",
       "      <td>3</td>\n",
       "      <td>Rice, Master. Eugene</td>\n",
       "      <td>male</td>\n",
       "      <td>2.0</td>\n",
       "    </tr>\n",
       "    <tr>\n",
       "      <th>17</th>\n",
       "      <td>2</td>\n",
       "      <td>Williams, Mr. Charles Eugene</td>\n",
       "      <td>male</td>\n",
       "      <td>NaN</td>\n",
       "    </tr>\n",
       "    <tr>\n",
       "      <th>18</th>\n",
       "      <td>3</td>\n",
       "      <td>Vander Planke, Mrs. Julius (Emelia Maria Vande...</td>\n",
       "      <td>female</td>\n",
       "      <td>31.0</td>\n",
       "    </tr>\n",
       "    <tr>\n",
       "      <th>19</th>\n",
       "      <td>3</td>\n",
       "      <td>Masselmani, Mrs. Fatima</td>\n",
       "      <td>female</td>\n",
       "      <td>NaN</td>\n",
       "    </tr>\n",
       "    <tr>\n",
       "      <th>20</th>\n",
       "      <td>2</td>\n",
       "      <td>Fynney, Mr. Joseph J</td>\n",
       "      <td>male</td>\n",
       "      <td>35.0</td>\n",
       "    </tr>\n",
       "    <tr>\n",
       "      <th>21</th>\n",
       "      <td>2</td>\n",
       "      <td>Beesley, Mr. Lawrence</td>\n",
       "      <td>male</td>\n",
       "      <td>34.0</td>\n",
       "    </tr>\n",
       "    <tr>\n",
       "      <th>22</th>\n",
       "      <td>3</td>\n",
       "      <td>McGowan, Miss. Anna \"Annie\"</td>\n",
       "      <td>female</td>\n",
       "      <td>15.0</td>\n",
       "    </tr>\n",
       "    <tr>\n",
       "      <th>23</th>\n",
       "      <td>1</td>\n",
       "      <td>Sloper, Mr. William Thompson</td>\n",
       "      <td>male</td>\n",
       "      <td>28.0</td>\n",
       "    </tr>\n",
       "    <tr>\n",
       "      <th>24</th>\n",
       "      <td>3</td>\n",
       "      <td>Palsson, Miss. Torborg Danira</td>\n",
       "      <td>female</td>\n",
       "      <td>8.0</td>\n",
       "    </tr>\n",
       "  </tbody>\n",
       "</table>\n",
       "</div>"
      ],
      "text/plain": [
       "    Pclass                                               Name     Sex   Age\n",
       "9        2                Nasser, Mrs. Nicholas (Adele Achem)  female  14.0\n",
       "10       3                    Sandstrom, Miss. Marguerite Rut  female   4.0\n",
       "11       1                           Bonnell, Miss. Elizabeth  female  58.0\n",
       "12       3                     Saundercock, Mr. William Henry    male  20.0\n",
       "13       3                        Andersson, Mr. Anders Johan    male  39.0\n",
       "14       3               Vestrom, Miss. Hulda Amanda Adolfina  female  14.0\n",
       "15       2                   Hewlett, Mrs. (Mary D Kingcome)   female  55.0\n",
       "16       3                               Rice, Master. Eugene    male   2.0\n",
       "17       2                       Williams, Mr. Charles Eugene    male   NaN\n",
       "18       3  Vander Planke, Mrs. Julius (Emelia Maria Vande...  female  31.0\n",
       "19       3                            Masselmani, Mrs. Fatima  female   NaN\n",
       "20       2                               Fynney, Mr. Joseph J    male  35.0\n",
       "21       2                              Beesley, Mr. Lawrence    male  34.0\n",
       "22       3                        McGowan, Miss. Anna \"Annie\"  female  15.0\n",
       "23       1                       Sloper, Mr. William Thompson    male  28.0\n",
       "24       3                      Palsson, Miss. Torborg Danira  female   8.0"
      ]
     },
     "execution_count": 35,
     "metadata": {},
     "output_type": "execute_result"
    }
   ],
   "source": [
    "titanic.iloc[9:25, 2:6]"
   ]
  },
  {
   "cell_type": "markdown",
   "id": "4d1992ac-c82b-44b4-9b91-2de0e4a796d0",
   "metadata": {
    "editable": true,
    "slideshow": {
     "slide_type": ""
    },
    "tags": []
   },
   "source": [
    "We can rewrite the statement above using `loc` instead.\n",
    "\n",
    "**Note that with `loc` the slicing is inclusive on both ends!**\n",
    "\n",
    "['Pclass', 'Name', 'Sex', 'Age'] explicitly lists the column names corresponding to the integer positions 2 to 5 (inclusive)."
   ]
  },
  {
   "cell_type": "code",
   "execution_count": 7,
   "id": "aa51f1f2-8152-490c-9df3-c65fb7289441",
   "metadata": {
    "editable": true,
    "slideshow": {
     "slide_type": ""
    },
    "tags": [
     "hide-output"
    ]
   },
   "outputs": [
    {
     "data": {
      "text/html": [
       "<div>\n",
       "<style scoped>\n",
       "    .dataframe tbody tr th:only-of-type {\n",
       "        vertical-align: middle;\n",
       "    }\n",
       "\n",
       "    .dataframe tbody tr th {\n",
       "        vertical-align: top;\n",
       "    }\n",
       "\n",
       "    .dataframe thead th {\n",
       "        text-align: right;\n",
       "    }\n",
       "</style>\n",
       "<table border=\"1\" class=\"dataframe\">\n",
       "  <thead>\n",
       "    <tr style=\"text-align: right;\">\n",
       "      <th></th>\n",
       "      <th>Pclass</th>\n",
       "      <th>Name</th>\n",
       "      <th>Sex</th>\n",
       "      <th>Age</th>\n",
       "    </tr>\n",
       "  </thead>\n",
       "  <tbody>\n",
       "    <tr>\n",
       "      <th>9</th>\n",
       "      <td>2</td>\n",
       "      <td>Nasser, Mrs. Nicholas (Adele Achem)</td>\n",
       "      <td>female</td>\n",
       "      <td>14.0</td>\n",
       "    </tr>\n",
       "    <tr>\n",
       "      <th>10</th>\n",
       "      <td>3</td>\n",
       "      <td>Sandstrom, Miss. Marguerite Rut</td>\n",
       "      <td>female</td>\n",
       "      <td>4.0</td>\n",
       "    </tr>\n",
       "    <tr>\n",
       "      <th>11</th>\n",
       "      <td>1</td>\n",
       "      <td>Bonnell, Miss. Elizabeth</td>\n",
       "      <td>female</td>\n",
       "      <td>58.0</td>\n",
       "    </tr>\n",
       "    <tr>\n",
       "      <th>12</th>\n",
       "      <td>3</td>\n",
       "      <td>Saundercock, Mr. William Henry</td>\n",
       "      <td>male</td>\n",
       "      <td>20.0</td>\n",
       "    </tr>\n",
       "    <tr>\n",
       "      <th>13</th>\n",
       "      <td>3</td>\n",
       "      <td>Andersson, Mr. Anders Johan</td>\n",
       "      <td>male</td>\n",
       "      <td>39.0</td>\n",
       "    </tr>\n",
       "    <tr>\n",
       "      <th>14</th>\n",
       "      <td>3</td>\n",
       "      <td>Vestrom, Miss. Hulda Amanda Adolfina</td>\n",
       "      <td>female</td>\n",
       "      <td>14.0</td>\n",
       "    </tr>\n",
       "    <tr>\n",
       "      <th>15</th>\n",
       "      <td>2</td>\n",
       "      <td>Hewlett, Mrs. (Mary D Kingcome)</td>\n",
       "      <td>female</td>\n",
       "      <td>55.0</td>\n",
       "    </tr>\n",
       "    <tr>\n",
       "      <th>16</th>\n",
       "      <td>3</td>\n",
       "      <td>Rice, Master. Eugene</td>\n",
       "      <td>male</td>\n",
       "      <td>2.0</td>\n",
       "    </tr>\n",
       "    <tr>\n",
       "      <th>17</th>\n",
       "      <td>2</td>\n",
       "      <td>Williams, Mr. Charles Eugene</td>\n",
       "      <td>male</td>\n",
       "      <td>NaN</td>\n",
       "    </tr>\n",
       "    <tr>\n",
       "      <th>18</th>\n",
       "      <td>3</td>\n",
       "      <td>Vander Planke, Mrs. Julius (Emelia Maria Vande...</td>\n",
       "      <td>female</td>\n",
       "      <td>31.0</td>\n",
       "    </tr>\n",
       "    <tr>\n",
       "      <th>19</th>\n",
       "      <td>3</td>\n",
       "      <td>Masselmani, Mrs. Fatima</td>\n",
       "      <td>female</td>\n",
       "      <td>NaN</td>\n",
       "    </tr>\n",
       "    <tr>\n",
       "      <th>20</th>\n",
       "      <td>2</td>\n",
       "      <td>Fynney, Mr. Joseph J</td>\n",
       "      <td>male</td>\n",
       "      <td>35.0</td>\n",
       "    </tr>\n",
       "    <tr>\n",
       "      <th>21</th>\n",
       "      <td>2</td>\n",
       "      <td>Beesley, Mr. Lawrence</td>\n",
       "      <td>male</td>\n",
       "      <td>34.0</td>\n",
       "    </tr>\n",
       "    <tr>\n",
       "      <th>22</th>\n",
       "      <td>3</td>\n",
       "      <td>McGowan, Miss. Anna \"Annie\"</td>\n",
       "      <td>female</td>\n",
       "      <td>15.0</td>\n",
       "    </tr>\n",
       "    <tr>\n",
       "      <th>23</th>\n",
       "      <td>1</td>\n",
       "      <td>Sloper, Mr. William Thompson</td>\n",
       "      <td>male</td>\n",
       "      <td>28.0</td>\n",
       "    </tr>\n",
       "    <tr>\n",
       "      <th>24</th>\n",
       "      <td>3</td>\n",
       "      <td>Palsson, Miss. Torborg Danira</td>\n",
       "      <td>female</td>\n",
       "      <td>8.0</td>\n",
       "    </tr>\n",
       "  </tbody>\n",
       "</table>\n",
       "</div>"
      ],
      "text/plain": [
       "    Pclass                                               Name     Sex   Age\n",
       "9        2                Nasser, Mrs. Nicholas (Adele Achem)  female  14.0\n",
       "10       3                    Sandstrom, Miss. Marguerite Rut  female   4.0\n",
       "11       1                           Bonnell, Miss. Elizabeth  female  58.0\n",
       "12       3                     Saundercock, Mr. William Henry    male  20.0\n",
       "13       3                        Andersson, Mr. Anders Johan    male  39.0\n",
       "14       3               Vestrom, Miss. Hulda Amanda Adolfina  female  14.0\n",
       "15       2                   Hewlett, Mrs. (Mary D Kingcome)   female  55.0\n",
       "16       3                               Rice, Master. Eugene    male   2.0\n",
       "17       2                       Williams, Mr. Charles Eugene    male   NaN\n",
       "18       3  Vander Planke, Mrs. Julius (Emelia Maria Vande...  female  31.0\n",
       "19       3                            Masselmani, Mrs. Fatima  female   NaN\n",
       "20       2                               Fynney, Mr. Joseph J    male  35.0\n",
       "21       2                              Beesley, Mr. Lawrence    male  34.0\n",
       "22       3                        McGowan, Miss. Anna \"Annie\"  female  15.0\n",
       "23       1                       Sloper, Mr. William Thompson    male  28.0\n",
       "24       3                      Palsson, Miss. Torborg Danira  female   8.0"
      ]
     },
     "execution_count": 7,
     "metadata": {},
     "output_type": "execute_result"
    }
   ],
   "source": [
    "titanic.loc[9:24, ['Pclass', 'Name', 'Sex', 'Age']]"
   ]
  },
  {
   "cell_type": "markdown",
   "id": "54b2bb7d-6289-4ba8-b4ba-dfd5498e5c09",
   "metadata": {
    "editable": true,
    "slideshow": {
     "slide_type": ""
    },
    "tags": []
   },
   "source": [
    "`9:24` specifies the rows from index label 9 to 24 (inclusive).\n"
   ]
  },
  {
   "cell_type": "markdown",
   "id": "9090b814-0cd1-4051-aa3f-97c1dbe4a7ef",
   "metadata": {
    "editable": true,
    "slideshow": {
     "slide_type": ""
    },
    "tags": []
   },
   "source": [
    "___"
   ]
  },
  {
   "cell_type": "markdown",
   "id": "1abd232e-4db8-4e0f-9a1d-f313612bb780",
   "metadata": {
    "editable": true,
    "slideshow": {
     "slide_type": ""
    },
    "tags": []
   },
   "source": [
    "## Combining `loc` and `iloc`"
   ]
  },
  {
   "cell_type": "markdown",
   "id": "9e4e0c38-47fd-4430-80c4-930db79e1f44",
   "metadata": {},
   "source": [
    "We can use `iloc` to select\n",
    "* rows from index position 9 to 25 (exclusive)\n",
    "* and columns from index position 2 to 6 (exclusive)\n",
    "\n",
    "Then further filter these rows using `loc` based on the condition where\n",
    "* 'Age' is greater than 35"
   ]
  },
  {
   "cell_type": "code",
   "execution_count": 8,
   "id": "0d3a0ebf-f1bd-4b1b-bfa3-49ca391be129",
   "metadata": {
    "editable": true,
    "slideshow": {
     "slide_type": ""
    },
    "tags": [
     "hide-output"
    ]
   },
   "outputs": [
    {
     "data": {
      "text/html": [
       "<div>\n",
       "<style scoped>\n",
       "    .dataframe tbody tr th:only-of-type {\n",
       "        vertical-align: middle;\n",
       "    }\n",
       "\n",
       "    .dataframe tbody tr th {\n",
       "        vertical-align: top;\n",
       "    }\n",
       "\n",
       "    .dataframe thead th {\n",
       "        text-align: right;\n",
       "    }\n",
       "</style>\n",
       "<table border=\"1\" class=\"dataframe\">\n",
       "  <thead>\n",
       "    <tr style=\"text-align: right;\">\n",
       "      <th></th>\n",
       "      <th>Pclass</th>\n",
       "      <th>Name</th>\n",
       "      <th>Sex</th>\n",
       "      <th>Age</th>\n",
       "    </tr>\n",
       "  </thead>\n",
       "  <tbody>\n",
       "    <tr>\n",
       "      <th>11</th>\n",
       "      <td>1</td>\n",
       "      <td>Bonnell, Miss. Elizabeth</td>\n",
       "      <td>female</td>\n",
       "      <td>58.0</td>\n",
       "    </tr>\n",
       "    <tr>\n",
       "      <th>13</th>\n",
       "      <td>3</td>\n",
       "      <td>Andersson, Mr. Anders Johan</td>\n",
       "      <td>male</td>\n",
       "      <td>39.0</td>\n",
       "    </tr>\n",
       "    <tr>\n",
       "      <th>15</th>\n",
       "      <td>2</td>\n",
       "      <td>Hewlett, Mrs. (Mary D Kingcome)</td>\n",
       "      <td>female</td>\n",
       "      <td>55.0</td>\n",
       "    </tr>\n",
       "  </tbody>\n",
       "</table>\n",
       "</div>"
      ],
      "text/plain": [
       "    Pclass                              Name     Sex   Age\n",
       "11       1          Bonnell, Miss. Elizabeth  female  58.0\n",
       "13       3       Andersson, Mr. Anders Johan    male  39.0\n",
       "15       2  Hewlett, Mrs. (Mary D Kingcome)   female  55.0"
      ]
     },
     "execution_count": 8,
     "metadata": {},
     "output_type": "execute_result"
    }
   ],
   "source": [
    "titanic.iloc[9:25, 2:6].loc[titanic['Age'] > 35]"
   ]
  },
  {
   "cell_type": "markdown",
   "id": "33a65650-4417-45b9-b291-34e5bbffd809",
   "metadata": {
    "editable": true,
    "slideshow": {
     "slide_type": ""
    },
    "tags": []
   },
   "source": [
    "___"
   ]
  },
  {
   "cell_type": "markdown",
   "id": "86ee5780-127b-4b71-a84d-99b9c268ec40",
   "metadata": {
    "editable": true,
    "slideshow": {
     "slide_type": ""
    },
    "tags": []
   },
   "source": [
    "## More information about `loc` and `iloc`\n",
    "\n",
    "* [A short video (you can turn up the speed)](https://www.youtube.com/watch?v=naRQyRZrXCE)\n",
    "\n",
    "* [Official documentation loc](https://pandas.pydata.org/docs/reference/api/pandas.DataFrame.loc.html)\n",
    "\n",
    "* [Offical documentation iloc](https://pandas.pydata.org/docs/reference/api/pandas.DataFrame.iloc.html)\n",
    "\n",
    "\n",
    "* [Difference between `loc` and `iloc` described](https://www.geeksforgeeks.org/difference-between-loc-and-iloc-in-pandas-dataframe/)"
   ]
  },
  {
   "cell_type": "code",
   "execution_count": null,
   "id": "7e0b776a-9e5d-4df2-bacd-caaa12864cc0",
   "metadata": {
    "editable": true,
    "slideshow": {
     "slide_type": ""
    },
    "tags": []
   },
   "outputs": [],
   "source": []
  }
 ],
 "metadata": {
  "kernelspec": {
   "display_name": "Python 3 (ipykernel)",
   "language": "python",
   "name": "python3"
  },
  "language_info": {
   "codemirror_mode": {
    "name": "ipython",
    "version": 3
   },
   "file_extension": ".py",
   "mimetype": "text/x-python",
   "name": "python",
   "nbconvert_exporter": "python",
   "pygments_lexer": "ipython3",
   "version": "3.11.8"
  }
 },
 "nbformat": 4,
 "nbformat_minor": 5
}
