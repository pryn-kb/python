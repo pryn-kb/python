{
 "cells": [
  {
   "cell_type": "markdown",
   "id": "8cc0a068-ce14-4fca-b840-0bd6692c9dfe",
   "metadata": {},
   "source": [
    "# What are `loc` and `iloc`?\n",
    "\n",
    "`loc` and `iloc` in pandas are technically properties that return a specialized indexer object. These indexer objects allow for label-based (`loc`) and integer-based (`iloc`) indexing. Although they behave similarly to methods in that you use them to perform actions (i.e., selecting or slicing data), they are properties because they return an indexing object rather than directly executing a function.\n",
    "\n",
    "When you access `loc` or `iloc` on a DataFrame, what you're getting is not a simple value but an object that has its own methods and behaviors, specifically designed to handle indexing operations. This design allows for the concise and powerful data selection syntax that pandas is known for."
   ]
  },
  {
   "cell_type": "markdown",
   "id": "851e86b0-8cff-4209-96ba-e28acea7ef61",
   "metadata": {},
   "source": [
    "## When to use `loc` or `iloc`\n",
    "\n",
    "1. **Positional Selection**: When the selection is purely positional (selecting the first five rows, or columns 2 to 4), `iloc` is the most straightforward tool for the job.\n",
    "\n",
    "2. **Inclusive Slicing:** `loc` allows for inclusive label-based slicing, simplifying the specification of row and column ranges.\n",
    "\n",
    "3. **Label-based Complex Indexing**: For complex indexing scenarios where you need to select rows and columns based on their labels, `loc` is indispensable. It allows for intuitive and concise syntax that boolean masks cannot provide alone.\n",
    "\n",
    "4. **Efficiency and Readability**: In cases where using a boolean mask leads to verbose or inefficient code, `loc` or `iloc` might offer a more elegant and performant solution. \n",
    "\n",
    "In summary, while boolean masks are powerful for filtering rows based on conditions, `loc` and `iloc` are essential for a wide range of other data selection tasks, particularly those involving specific column selection, positional indexing, and complex indexing scenarios that go beyond what boolean masks can achieve on their own."
   ]
  },
  {
   "cell_type": "markdown",
   "id": "fcb92e5d-1ba5-4f89-8bda-fe4c84a9b780",
   "metadata": {},
   "source": [
    "# Import Pandas"
   ]
  },
  {
   "cell_type": "code",
   "execution_count": null,
   "id": "853078ad-f657-4009-8e2c-2c7e2b53b963",
   "metadata": {},
   "outputs": [],
   "source": [
    "# This line imports the pandas library and aliases it as 'pd'.\n",
    "# Aliasing pandas as 'pd' is a widely adopted convention that simplifies the syntax for accessing its functionalities.\n",
    "# After this statement, you can use 'pd' to access all the functionalities provided by the pandas library.\n",
    "\n",
    "import pandas as pd"
   ]
  },
  {
   "cell_type": "markdown",
   "id": "469da173-27f8-417a-824d-e28723e4e030",
   "metadata": {},
   "source": [
    "# Creating a `DataFrame` from a csv file"
   ]
  },
  {
   "cell_type": "code",
   "execution_count": null,
   "id": "71424851-2d07-4d8f-bf2a-9fa07113cf54",
   "metadata": {},
   "outputs": [],
   "source": [
    "# Load the Titanic dataset from a CSV file into a DataFrame named 'titanic'.\n",
    "# The 'pd.read_csv()' function is used to read the data from the file 'data/titanic.csv'.\n",
    "# The file is located in the 'data' directory, relative to the current working directory.\n",
    "# The resulting DataFrame 'titanic' contains the dataset, ready for analysis and manipulation.\n",
    "\n",
    "titanic = pd.read_csv('data/titanic.csv')"
   ]
  },
  {
   "cell_type": "code",
   "execution_count": null,
   "id": "b7f6d169-bbf8-48a1-bcda-210da008e026",
   "metadata": {},
   "outputs": [],
   "source": [
    "# Display the DataFrame 'titanic'.\n",
    "# Note, even though we only see the first and last five rows, we actually read the whole DataFrame into the kernel's memory.\n",
    "# The pressure on memory usage can be alleviated by using the 'head()' method described below.\n",
    "# However, this will only be an issue with very large datasets, so don't worry too much about it for now.\n",
    "# You can find out how much memory a DataFrame uses by using the 'memory_usage()' method:\n",
    "# titanic.memory_usage(deep=True).sum()\n",
    "\n",
    "titanic"
   ]
  },
  {
   "cell_type": "markdown",
   "id": "9dfb9de9-9d32-433f-9cb5-90932b45c26d",
   "metadata": {},
   "source": [
    "# How to select specific rows and columns from a `DataFrame` using `loc` and `iloc`\n",
    "\n",
    "![How to select specific rows and columns from a DataFrame](images/03_subset_columns_rows.svg)"
   ]
  },
  {
   "cell_type": "markdown",
   "id": "11671637-00a4-42e2-b59d-7cc05a4cb479",
   "metadata": {},
   "source": [
    "### We have seen how we can filter rows in the titanic `DataFrame`"
   ]
  },
  {
   "cell_type": "code",
   "execution_count": null,
   "id": "1fb3bd0e-41ba-4a7f-8945-3a715ddc0a0c",
   "metadata": {},
   "outputs": [],
   "source": [
    "# Filter rows in the 'titanic' DataFrame where the age is greater than 35,\n",
    "# then select only the 'Name' and 'Pclass' columns for these filtered rows.\n",
    "# This command uses boolean indexing to first filter rows where the age is greater than 35,\n",
    "# and then selects specific columns 'Name' and 'Pclass' using double square brackets.\n",
    "\n",
    "titanic[titanic['Age'] > 35][['Name', 'Pclass']]"
   ]
  },
  {
   "cell_type": "markdown",
   "id": "213a9c53-000c-44a4-bbbf-dba624fca30c",
   "metadata": {},
   "source": [
    "## When using `loc`/`iloc`\n",
    "* ### the part before the comma is the *rows* you want\n",
    "* ### and the part after the comma is the *columns* you want to select"
   ]
  },
  {
   "cell_type": "markdown",
   "id": "f7d54f6b-c119-417d-928a-20d5bb056688",
   "metadata": {},
   "source": [
    "### We can perform the same filtering using label-based indexing: `loc`"
   ]
  },
  {
   "cell_type": "code",
   "execution_count": null,
   "id": "d1a4f552-10bf-424a-9498-3ece3ccc93a5",
   "metadata": {},
   "outputs": [],
   "source": [
    "# Use the 'loc' indexer to select rows where the age is greater than 35,\n",
    "# and then select only the 'Name' and 'Pclass' columns for these rows.\n",
    "# This command provides a more explicit way of selecting rows and columns based on labels,\n",
    "# where the first argument specifies the row selection condition ('Age' > 35),\n",
    "# and the second argument specifies the column selection ('Name' and 'Pclass').\n",
    "\n",
    "titanic.loc[titanic['Age'] > 35, ['Name', 'Pclass']]"
   ]
  },
  {
   "cell_type": "markdown",
   "id": "d4cf03c1-896d-4286-9586-a46419cd799c",
   "metadata": {},
   "source": [
    "### We can also filter using integer position-based location: `iloc`"
   ]
  },
  {
   "cell_type": "code",
   "execution_count": null,
   "id": "158a6643-8c5a-41a2-8ef5-d41433b38b23",
   "metadata": {},
   "outputs": [],
   "source": [
    "# Use iloc to select rows from index position 9 to 25 (exclusive) and columns from index position 2 to 6 (exclusive).\n",
    "# This command selects a subset of rows and columns from the 'titanic' DataFrame using integer positions.\n",
    "# Index positions start from 0, so the selected rows correspond to rows 10 to 25 in the DataFrame,\n",
    "# and the selected columns correspond to columns 3 to 6.\n",
    "\n",
    "titanic.iloc[9:25, 2:6]"
   ]
  },
  {
   "cell_type": "markdown",
   "id": "4d1992ac-c82b-44b4-9b91-2de0e4a796d0",
   "metadata": {},
   "source": [
    "### We can rewrite the statement above using `loc` instead."
   ]
  },
  {
   "cell_type": "code",
   "execution_count": null,
   "id": "aa51f1f2-8152-490c-9df3-c65fb7289441",
   "metadata": {},
   "outputs": [],
   "source": [
    "# '9:24' specifies the rows from index label 9 to 24 (inclusive).\n",
    "# Note that with 'loc', the slicing is inclusive on both ends!\n",
    "# ['Pclass', 'Name', 'Sex', 'Age'] explicitly lists the column names corresponding to the integer positions 2 to 5 (inclusive).\n",
    "\n",
    "titanic.loc[9:24, ['Pclass', 'Name', 'Sex', 'Age']]"
   ]
  },
  {
   "cell_type": "markdown",
   "id": "1abd232e-4db8-4e0f-9a1d-f313612bb780",
   "metadata": {},
   "source": [
    "## `iloc` and `loc` can be combined"
   ]
  },
  {
   "cell_type": "code",
   "execution_count": null,
   "id": "0d3a0ebf-f1bd-4b1b-bfa3-49ca391be129",
   "metadata": {},
   "outputs": [],
   "source": [
    "# Use iloc to select rows from index position 9 to 25 (exclusive) and columns from index position 2 to 6 (exclusive),\n",
    "# then further filter these rows using loc based on the condition where 'Age' is greater than 35.\n",
    "\n",
    "titanic.iloc[9:25, 2:6].loc[titanic['Age'] > 35]"
   ]
  },
  {
   "cell_type": "markdown",
   "id": "86ee5780-127b-4b71-a84d-99b9c268ec40",
   "metadata": {},
   "source": [
    "# More information about `loc` and `iloc`\n",
    "\n",
    "* A short video (you can turn up the speed): \\\n",
    "  [https://www.youtube.com/watch?v=naRQyRZrXCE](https://www.youtube.com/watch?v=naRQyRZrXCE)\n",
    "\n",
    "* Official documentation: \\\n",
    "  [https://pandas.pydata.org/docs/reference/api/pandas.DataFrame.loc.html](https://pandas.pydata.org/docs/reference/api/pandas.DataFrame.loc.html) \\\n",
    "  And: \\\n",
    "  [https://pandas.pydata.org/docs/reference/api/pandas.DataFrame.iloc.html](https://pandas.pydata.org/docs/reference/api/pandas.DataFrame.iloc.html)\n",
    "\n",
    "* Difference between loc and iloc described: \\\n",
    "  [https://www.geeksforgeeks.org/difference-between-loc-and-iloc-in-pandas-dataframe/](https://www.geeksforgeeks.org/difference-between-loc-and-iloc-in-pandas-dataframe/)"
   ]
  },
  {
   "cell_type": "code",
   "execution_count": null,
   "id": "7e0b776a-9e5d-4df2-bacd-caaa12864cc0",
   "metadata": {},
   "outputs": [],
   "source": []
  }
 ],
 "metadata": {
  "kernelspec": {
   "display_name": "Python 3 (ipykernel)",
   "language": "python",
   "name": "python3"
  },
  "language_info": {
   "codemirror_mode": {
    "name": "ipython",
    "version": 3
   },
   "file_extension": ".py",
   "mimetype": "text/x-python",
   "name": "python",
   "nbconvert_exporter": "python",
   "pygments_lexer": "ipython3",
   "version": "3.11.5"
  }
 },
 "nbformat": 4,
 "nbformat_minor": 5
}
