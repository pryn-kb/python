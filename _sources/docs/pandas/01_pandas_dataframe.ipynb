{
 "cells": [
  {
   "cell_type": "markdown",
   "id": "9096fe02-76ac-452f-9205-5653d05d7ba9",
   "metadata": {
    "editable": true,
    "slideshow": {
     "slide_type": ""
    },
    "tags": []
   },
   "source": [
    "# Pandas `DataFrame`"
   ]
  },
  {
   "cell_type": "markdown",
   "id": "64495ea9-3773-4c8b-a699-fc8bf1b2cf55",
   "metadata": {
    "editable": true,
    "slideshow": {
     "slide_type": ""
    },
    "tags": []
   },
   "source": [
    "## Import Pandas"
   ]
  },
  {
   "cell_type": "code",
   "execution_count": 1,
   "id": "32927769-d53d-48eb-9861-24b01bd70d73",
   "metadata": {
    "tags": [
     "hide-output"
    ]
   },
   "outputs": [],
   "source": [
    "# This line imports the pandas library and aliases it as 'pd'.\n",
    "\n",
    "import pandas as pd"
   ]
  },
  {
   "cell_type": "markdown",
   "id": "338c9cc1-b8b2-45e2-9f43-1a3e581afa1a",
   "metadata": {
    "editable": true,
    "slideshow": {
     "slide_type": ""
    },
    "tags": []
   },
   "source": [
    "```{admonition} Why pandas as pd?\n",
    ":class: tip dropdown\n",
    "Aliasing pandas as `pd` is a widely adopted convention that simplifies the syntax for accessing its functionalities.\\\n",
    "After this statement, you can use `pd` to access all the functionalities provided by the pandas library.\n",
    "````"
   ]
  },
  {
   "cell_type": "markdown",
   "id": "81ab038f-f380-48a0-8a70-39cf79509769",
   "metadata": {
    "editable": true,
    "slideshow": {
     "slide_type": ""
    },
    "tags": []
   },
   "source": [
    "___"
   ]
  },
  {
   "cell_type": "markdown",
   "id": "0fd010e0-6070-4a82-8cfc-10830336c2b8",
   "metadata": {
    "editable": true,
    "slideshow": {
     "slide_type": ""
    },
    "tags": []
   },
   "source": [
    "## Pandas data table representation\n",
    "\n",
    "![Representation of a Pandas DataFrame](images/01_table_dataframe.svg)\n",
    "\n",
    "A `DataFrame` is a two-dimensional data structure in the Pandas library, designed to hold and manage data efficiently. It organizes data into labeled columns and rows, allowing you to store various types of data, such as numbers, text, and categorical values, all within the same structure."
   ]
  },
  {
   "cell_type": "markdown",
   "id": "0e76387e-b36c-45c3-bf7c-0537425da09f",
   "metadata": {},
   "source": [
    "### Creating our first `DataFrame`"
   ]
  },
  {
   "cell_type": "markdown",
   "id": "7b17ebd1-ef6b-4a6b-b317-7d961d27c2b2",
   "metadata": {},
   "source": [
    "We start by creating three lists of equal length (i.e., containing the same amount of elements).\\\n",
    "These lists will be used as columns for a `DataFrame`, with each list representing a column and each element within the list representing a row in that column."
   ]
  },
  {
   "cell_type": "code",
   "execution_count": 2,
   "id": "426dad0c-2aca-4309-b8c5-ff40c947791f",
   "metadata": {
    "tags": [
     "hide-output"
    ]
   },
   "outputs": [],
   "source": [
    "# Create three lists named 'name', 'age', and 'sex'.\n",
    "\n",
    "name = [\"Braund\", \"Allen\", \"Bonnel\"]\n",
    "age = [22, 35, 58]\n",
    "sex = [\"male\", \"male\", \"female\"]"
   ]
  },
  {
   "cell_type": "markdown",
   "id": "4ea6b8ba-0c43-4f37-bf59-46d5abec0d28",
   "metadata": {},
   "source": [
    "We use lists `name`, `age`, and `sex` to fill in the columns.\\\n",
    "Each list corresponds to a column in the DataFrame.\\\n",
    "`Name`, `Age`, and `Sex` are the titles of these columns."
   ]
  },
  {
   "cell_type": "code",
   "execution_count": 3,
   "id": "80c5bff2-6168-4cd2-838b-f2dc02519c0d",
   "metadata": {
    "editable": true,
    "slideshow": {
     "slide_type": ""
    },
    "tags": [
     "hide-output"
    ]
   },
   "outputs": [],
   "source": [
    "# Create a DataFrame named 'df' based on three lists.\n",
    "\n",
    "df = pd.DataFrame({'Name': name, 'Age': age, 'Sex': sex})"
   ]
  },
  {
   "cell_type": "markdown",
   "id": "2d32b946-4491-4c20-a306-824462299ef0",
   "metadata": {
    "editable": true,
    "slideshow": {
     "slide_type": ""
    },
    "tags": []
   },
   "source": [
    "### `DataFrames` and `dictionaries`"
   ]
  },
  {
   "cell_type": "markdown",
   "id": "30179dc6-251f-4543-9548-5142d782742e",
   "metadata": {
    "editable": true,
    "slideshow": {
     "slide_type": ""
    },
    "tags": []
   },
   "source": [
    "Creating a `DataFrame` in pandas is similar to creating a `dictionary`. The `key`s in the `dictionary` become the column names, while the `value`s, which are `list`s or `array`s, form the columns' data."
   ]
  },
  {
   "cell_type": "markdown",
   "id": "bd6be8dd-7c05-4e94-8f0b-1e4c7a5782c0",
   "metadata": {
    "editable": true,
    "slideshow": {
     "slide_type": ""
    },
    "tags": []
   },
   "source": [
    "```{seealso} \n",
    "For more information on `dictionary`s in Python, see [GeeksforGeeks](https://www.geeksforgeeks.org/python-dictionary/).\n",
    "```"
   ]
  },
  {
   "cell_type": "code",
   "execution_count": 4,
   "id": "144c2fff-4ff7-448c-b2b6-3e8cb9d17321",
   "metadata": {
    "editable": true,
    "slideshow": {
     "slide_type": ""
    },
    "tags": [
     "hide-output"
    ]
   },
   "outputs": [
    {
     "data": {
      "text/html": [
       "<div>\n",
       "<style scoped>\n",
       "    .dataframe tbody tr th:only-of-type {\n",
       "        vertical-align: middle;\n",
       "    }\n",
       "\n",
       "    .dataframe tbody tr th {\n",
       "        vertical-align: top;\n",
       "    }\n",
       "\n",
       "    .dataframe thead th {\n",
       "        text-align: right;\n",
       "    }\n",
       "</style>\n",
       "<table border=\"1\" class=\"dataframe\">\n",
       "  <thead>\n",
       "    <tr style=\"text-align: right;\">\n",
       "      <th></th>\n",
       "      <th>Name</th>\n",
       "      <th>Age</th>\n",
       "      <th>Sex</th>\n",
       "    </tr>\n",
       "  </thead>\n",
       "  <tbody>\n",
       "    <tr>\n",
       "      <th>0</th>\n",
       "      <td>Braund</td>\n",
       "      <td>22</td>\n",
       "      <td>male</td>\n",
       "    </tr>\n",
       "    <tr>\n",
       "      <th>1</th>\n",
       "      <td>Allen</td>\n",
       "      <td>35</td>\n",
       "      <td>male</td>\n",
       "    </tr>\n",
       "    <tr>\n",
       "      <th>2</th>\n",
       "      <td>Bonnel</td>\n",
       "      <td>58</td>\n",
       "      <td>female</td>\n",
       "    </tr>\n",
       "  </tbody>\n",
       "</table>\n",
       "</div>"
      ],
      "text/plain": [
       "     Name  Age     Sex\n",
       "0  Braund   22    male\n",
       "1   Allen   35    male\n",
       "2  Bonnel   58  female"
      ]
     },
     "execution_count": 4,
     "metadata": {},
     "output_type": "execute_result"
    }
   ],
   "source": [
    "# Display the DataFrame 'df'.\n",
    "\n",
    "df"
   ]
  },
  {
   "cell_type": "markdown",
   "id": "ca5889cb-a936-44af-9726-395be98cb700",
   "metadata": {},
   "source": [
    "In a spreadsheet software, the table representation of our data would look very similar\n",
    "\n",
    "![Table representaion in spreadsheet software](images/01_table_spreadsheet.png)"
   ]
  },
  {
   "cell_type": "code",
   "execution_count": 5,
   "id": "4bff0d19-f314-4070-bee5-ea49f892f1d6",
   "metadata": {
    "editable": true,
    "slideshow": {
     "slide_type": ""
    },
    "tags": [
     "hide-output"
    ]
   },
   "outputs": [
    {
     "data": {
      "text/plain": [
       "pandas.core.frame.DataFrame"
      ]
     },
     "execution_count": 5,
     "metadata": {},
     "output_type": "execute_result"
    }
   ],
   "source": [
    "# Check the type of the 'df' object using the 'type()' function.\n",
    "\n",
    "type(df)"
   ]
  },
  {
   "cell_type": "markdown",
   "id": "c8770971-3012-4d62-8ae3-af6159fb5468",
   "metadata": {},
   "source": [
    "___"
   ]
  },
  {
   "cell_type": "markdown",
   "id": "80122f4b-f7a9-45a2-a50c-3f839f93ee82",
   "metadata": {
    "editable": true,
    "slideshow": {
     "slide_type": ""
    },
    "tags": []
   },
   "source": [
    "## Attributes"
   ]
  },
  {
   "cell_type": "markdown",
   "id": "69e8579a-8dab-44f4-9f61-d3d518f2570c",
   "metadata": {
    "editable": true,
    "slideshow": {
     "slide_type": ""
    },
    "tags": []
   },
   "source": [
    "We can use the `shape` attribute to determine the dimensions of the `DataFrame`.\\\n",
    "It returns a tuple representing the number of rows and columns (rows, columns)."
   ]
  },
  {
   "cell_type": "code",
   "execution_count": 6,
   "id": "91a1097f-8c2f-4137-9d0d-4b811fb38ffc",
   "metadata": {
    "tags": [
     "hide-output"
    ]
   },
   "outputs": [
    {
     "data": {
      "text/plain": [
       "(3, 3)"
      ]
     },
     "execution_count": 6,
     "metadata": {},
     "output_type": "execute_result"
    }
   ],
   "source": [
    "df.shape"
   ]
  },
  {
   "cell_type": "markdown",
   "id": "4854bfb7-f28d-4f69-bf50-177b63a63e64",
   "metadata": {
    "editable": true,
    "slideshow": {
     "slide_type": ""
    },
    "tags": []
   },
   "source": [
    "And we can use the `dtypes` attribute to view the data types of each column in the `DataFrame`.\\\n",
    "This command provides information about the data type of each column, such as integer, float, or object (string)."
   ]
  },
  {
   "cell_type": "code",
   "execution_count": 7,
   "id": "566c11a5-d3ba-44c5-93ea-eff112562181",
   "metadata": {
    "tags": [
     "hide-output"
    ]
   },
   "outputs": [
    {
     "data": {
      "text/plain": [
       "Name    object\n",
       "Age      int64\n",
       "Sex     object\n",
       "dtype: object"
      ]
     },
     "execution_count": 7,
     "metadata": {},
     "output_type": "execute_result"
    }
   ],
   "source": [
    "df.dtypes"
   ]
  },
  {
   "cell_type": "markdown",
   "id": "5a76339f-2828-47f3-9ab5-4a1f5d98e746",
   "metadata": {},
   "source": [
    "When asking for the `shape` or `dtypes`, no parentheses `()` are used. Both are an attribute of `DataFrame` and `Series`. (`Series` will be explained later.)\n",
    "\n",
    "Attributes of a `DataFrame` or `Series` do not need `()`.\n",
    "\n",
    "Attributes represent a characteristic of a `DataFrame`/`Series`, whereas methods (which require parentheses `()`) do something with the `DataFrame`/`Series`. "
   ]
  },
  {
   "cell_type": "markdown",
   "id": "45e290fb-eed2-4489-aaeb-1817fc91ea84",
   "metadata": {},
   "source": [
    "___"
   ]
  },
  {
   "cell_type": "markdown",
   "id": "45e9ea6a-222f-4ead-88e2-1c234311e5d6",
   "metadata": {
    "editable": true,
    "slideshow": {
     "slide_type": ""
    },
    "tags": []
   },
   "source": [
    "## Transposing a `DataFrame`"
   ]
  },
  {
   "cell_type": "markdown",
   "id": "e8f35701-66fc-4145-aa21-05d1527cb9d7",
   "metadata": {},
   "source": [
    "The `transpose()` method swaps the `DataFrame`'s rows and columns, creating 'df_transposed'.\\\n",
    "Transposing is useful for reshaping data, making it easier to compare rows or apply certain operations that are typically column-based.\n"
   ]
  },
  {
   "cell_type": "code",
   "execution_count": 8,
   "id": "1ec1e04e-13e6-47cd-9baf-7a9d71b412b6",
   "metadata": {
    "tags": [
     "hide-output"
    ]
   },
   "outputs": [],
   "source": [
    "# Transpose the DataFrame 'df' using the 'transpose()' method.\n",
    "\n",
    "df_transposed = df.transpose()"
   ]
  },
  {
   "cell_type": "code",
   "execution_count": 9,
   "id": "6b5455d3-7a45-442d-96ca-84d7ee7a0a88",
   "metadata": {
    "tags": [
     "hide-output"
    ]
   },
   "outputs": [
    {
     "data": {
      "text/html": [
       "<div>\n",
       "<style scoped>\n",
       "    .dataframe tbody tr th:only-of-type {\n",
       "        vertical-align: middle;\n",
       "    }\n",
       "\n",
       "    .dataframe tbody tr th {\n",
       "        vertical-align: top;\n",
       "    }\n",
       "\n",
       "    .dataframe thead th {\n",
       "        text-align: right;\n",
       "    }\n",
       "</style>\n",
       "<table border=\"1\" class=\"dataframe\">\n",
       "  <thead>\n",
       "    <tr style=\"text-align: right;\">\n",
       "      <th></th>\n",
       "      <th>0</th>\n",
       "      <th>1</th>\n",
       "      <th>2</th>\n",
       "    </tr>\n",
       "  </thead>\n",
       "  <tbody>\n",
       "    <tr>\n",
       "      <th>Name</th>\n",
       "      <td>Braund</td>\n",
       "      <td>Allen</td>\n",
       "      <td>Bonnel</td>\n",
       "    </tr>\n",
       "    <tr>\n",
       "      <th>Age</th>\n",
       "      <td>22</td>\n",
       "      <td>35</td>\n",
       "      <td>58</td>\n",
       "    </tr>\n",
       "    <tr>\n",
       "      <th>Sex</th>\n",
       "      <td>male</td>\n",
       "      <td>male</td>\n",
       "      <td>female</td>\n",
       "    </tr>\n",
       "  </tbody>\n",
       "</table>\n",
       "</div>"
      ],
      "text/plain": [
       "           0      1       2\n",
       "Name  Braund  Allen  Bonnel\n",
       "Age       22     35      58\n",
       "Sex     male   male  female"
      ]
     },
     "execution_count": 9,
     "metadata": {},
     "output_type": "execute_result"
    }
   ],
   "source": [
    "# Display the DataFrame 'df_transposed'.\n",
    "\n",
    "df_transposed"
   ]
  },
  {
   "cell_type": "markdown",
   "id": "37956e37-86cf-4370-a688-f941d9ef49c7",
   "metadata": {
    "editable": true,
    "slideshow": {
     "slide_type": ""
    },
    "tags": []
   },
   "source": [
    "### Renaming columns"
   ]
  },
  {
   "cell_type": "markdown",
   "id": "f43b1336-52b1-4a2a-8daf-2cf5f4a8091b",
   "metadata": {},
   "source": [
    "We can rename the columns of our `DataFrame` after creation.\\\n",
    "This is done by assigning a new list of column names to `df.columns`.\\\n",
    "The new column names are `Names`, `Age`, and `Sex`, in that order."
   ]
  },
  {
   "cell_type": "code",
   "execution_count": 10,
   "id": "f5038b7c-084d-486a-9cac-35f6a9182538",
   "metadata": {
    "tags": [
     "hide-output"
    ]
   },
   "outputs": [],
   "source": [
    "# Rename the columns of the DataFrame 'df'.\n",
    "\n",
    "df.columns = ['Names', 'Age', 'Sex']"
   ]
  },
  {
   "cell_type": "markdown",
   "id": "d7a11dc7-1291-4430-9d3d-445b3f9bb07e",
   "metadata": {},
   "source": [
    "The method below is useful for selectively renaming only one or more columns without changing the entire set of column names:"
   ]
  },
  {
   "cell_type": "code",
   "execution_count": 11,
   "id": "384b0f6e-0ccc-4f97-827b-6e6f6b045e23",
   "metadata": {
    "tags": [
     "hide-output"
    ]
   },
   "outputs": [],
   "source": [
    "# Rename the 'Age' column to 'Ages' in the DataFrame 'df'.\n",
    "\n",
    "df = df.rename(columns={'Age': 'Ages'})"
   ]
  },
  {
   "cell_type": "code",
   "execution_count": 12,
   "id": "3ed991dd-ce32-4f58-b5a9-bca82729ff1d",
   "metadata": {
    "scrolled": true,
    "tags": [
     "hide-output"
    ]
   },
   "outputs": [
    {
     "data": {
      "text/html": [
       "<div>\n",
       "<style scoped>\n",
       "    .dataframe tbody tr th:only-of-type {\n",
       "        vertical-align: middle;\n",
       "    }\n",
       "\n",
       "    .dataframe tbody tr th {\n",
       "        vertical-align: top;\n",
       "    }\n",
       "\n",
       "    .dataframe thead th {\n",
       "        text-align: right;\n",
       "    }\n",
       "</style>\n",
       "<table border=\"1\" class=\"dataframe\">\n",
       "  <thead>\n",
       "    <tr style=\"text-align: right;\">\n",
       "      <th></th>\n",
       "      <th>Names</th>\n",
       "      <th>Ages</th>\n",
       "      <th>Sex</th>\n",
       "    </tr>\n",
       "  </thead>\n",
       "  <tbody>\n",
       "    <tr>\n",
       "      <th>0</th>\n",
       "      <td>Braund</td>\n",
       "      <td>22</td>\n",
       "      <td>male</td>\n",
       "    </tr>\n",
       "    <tr>\n",
       "      <th>1</th>\n",
       "      <td>Allen</td>\n",
       "      <td>35</td>\n",
       "      <td>male</td>\n",
       "    </tr>\n",
       "    <tr>\n",
       "      <th>2</th>\n",
       "      <td>Bonnel</td>\n",
       "      <td>58</td>\n",
       "      <td>female</td>\n",
       "    </tr>\n",
       "  </tbody>\n",
       "</table>\n",
       "</div>"
      ],
      "text/plain": [
       "    Names  Ages     Sex\n",
       "0  Braund    22    male\n",
       "1   Allen    35    male\n",
       "2  Bonnel    58  female"
      ]
     },
     "execution_count": 12,
     "metadata": {},
     "output_type": "execute_result"
    }
   ],
   "source": [
    "# Our DataFrame now looks like this:\n",
    "\n",
    "df"
   ]
  },
  {
   "cell_type": "markdown",
   "id": "0f420048-fc78-4eb0-8515-388f4dc5a714",
   "metadata": {},
   "source": [
    "___"
   ]
  },
  {
   "cell_type": "markdown",
   "id": "35c51e79-e5ad-4d31-80a5-7c9214c7979d",
   "metadata": {
    "editable": true,
    "slideshow": {
     "slide_type": ""
    },
    "tags": []
   },
   "source": [
    "## `Series`\n",
    "\n",
    "![DataFrame Series](images/01_table_series.svg)"
   ]
  },
  {
   "cell_type": "markdown",
   "id": "c8513120-b453-4b30-a310-eaab5797e886",
   "metadata": {},
   "source": [
    "Each column in a `DataFrame` is a `Series`. When we access a column in a `DataFrame`, this actually returns a `Series` object containing all the data in that column."
   ]
  },
  {
   "cell_type": "code",
   "execution_count": 13,
   "id": "be3895b3-b1b7-461b-af5b-97890cc5cfc5",
   "metadata": {
    "editable": true,
    "slideshow": {
     "slide_type": ""
    },
    "tags": [
     "hide-output"
    ]
   },
   "outputs": [
    {
     "data": {
      "text/plain": [
       "0    22\n",
       "1    35\n",
       "2    58\n",
       "Name: Ages, dtype: int64"
      ]
     },
     "execution_count": 13,
     "metadata": {},
     "output_type": "execute_result"
    }
   ],
   "source": [
    "df['Ages']"
   ]
  },
  {
   "cell_type": "code",
   "execution_count": 14,
   "id": "e6bb2806-5a6f-43cc-badd-c4a7fb4baf96",
   "metadata": {
    "editable": true,
    "slideshow": {
     "slide_type": ""
    },
    "tags": [
     "hide-output"
    ]
   },
   "outputs": [
    {
     "data": {
      "text/plain": [
       "pandas.core.series.Series"
      ]
     },
     "execution_count": 14,
     "metadata": {},
     "output_type": "execute_result"
    }
   ],
   "source": [
    "# Check the type of the 'Ages' column in 'df' using the 'type()' function.\n",
    "\n",
    "type(df['Ages'])"
   ]
  },
  {
   "cell_type": "markdown",
   "id": "3400c819-d5a7-4a49-b7c4-71b3212760a2",
   "metadata": {
    "editable": true,
    "slideshow": {
     "slide_type": ""
    },
    "tags": []
   },
   "source": [
    "### Creating our own `Series`"
   ]
  },
  {
   "cell_type": "markdown",
   "id": "50c1efd9-e45d-4626-a71b-4eac19a35368",
   "metadata": {},
   "source": [
    "We can create and name a `Series` in the following way.\\\n",
    "The `name` parameter assigns the name 'Fare' to the Series."
   ]
  },
  {
   "cell_type": "code",
   "execution_count": 15,
   "id": "27b125f6-7e9e-48c7-b82d-fbce714dfd8d",
   "metadata": {
    "editable": true,
    "slideshow": {
     "slide_type": ""
    },
    "tags": [
     "hide-output"
    ]
   },
   "outputs": [],
   "source": [
    "# Create a pandas Series named 'fare' with specified values.\n",
    "\n",
    "fare = pd.Series([7.2500, 71.2833, 7.9250], name='Fare')"
   ]
  },
  {
   "cell_type": "markdown",
   "id": "25d2577d-b125-4716-a1f5-3b0bab71b4d8",
   "metadata": {},
   "source": [
    "This outputs the values along with their index positions and the name of the `Series`:"
   ]
  },
  {
   "cell_type": "code",
   "execution_count": 16,
   "id": "ae48df52-087e-495b-a84a-002e32cb5147",
   "metadata": {
    "editable": true,
    "slideshow": {
     "slide_type": ""
    },
    "tags": [
     "hide-output"
    ]
   },
   "outputs": [
    {
     "data": {
      "text/plain": [
       "0     7.2500\n",
       "1    71.2833\n",
       "2     7.9250\n",
       "Name: Fare, dtype: float64"
      ]
     },
     "execution_count": 16,
     "metadata": {},
     "output_type": "execute_result"
    }
   ],
   "source": [
    "# Display the 'fare' Series.\n",
    "\n",
    "fare"
   ]
  },
  {
   "cell_type": "code",
   "execution_count": 17,
   "id": "45f90ce4-dac3-4744-8ccf-1305f810e945",
   "metadata": {
    "tags": [
     "hide-output"
    ]
   },
   "outputs": [
    {
     "data": {
      "text/plain": [
       "pandas.core.series.Series"
      ]
     },
     "execution_count": 17,
     "metadata": {},
     "output_type": "execute_result"
    }
   ],
   "source": [
    "# Check the data type of 'fare' using the 'type()' function.\n",
    "\n",
    "type(fare)"
   ]
  },
  {
   "cell_type": "markdown",
   "id": "245ffde0-a068-4c8c-ab38-bbd0caf7ac87",
   "metadata": {},
   "source": [
    "___"
   ]
  },
  {
   "cell_type": "markdown",
   "id": "a27a0e64-84e3-41e9-a782-4c129bbca2ce",
   "metadata": {
    "editable": true,
    "slideshow": {
     "slide_type": ""
    },
    "tags": []
   },
   "source": [
    "## Appending `Series`"
   ]
  },
  {
   "cell_type": "markdown",
   "id": "d33daa99-d648-4a9e-94ee-18624adb22d6",
   "metadata": {
    "editable": true,
    "slideshow": {
     "slide_type": ""
    },
    "tags": []
   },
   "source": [
    "We can add a `Series` as a new column to a `DataFrame`, extending it horizontally.\\\n",
    "Here, the name of the 'fare' `Series` ('Fare') becomes the column name in the updated `DataFrame`."
   ]
  },
  {
   "cell_type": "code",
   "execution_count": 18,
   "id": "caa936b3-de65-47c5-8dbd-36caad6021ed",
   "metadata": {
    "tags": [
     "hide-output"
    ]
   },
   "outputs": [],
   "source": [
    "# Concatenate the 'fare' Series to the 'df' DataFrame along the columns (axis=1).\n",
    "\n",
    "df = pd.concat([df, fare], axis=1)"
   ]
  },
  {
   "cell_type": "markdown",
   "id": "b7c08842-7765-4783-9916-7325907ef19e",
   "metadata": {},
   "source": [
    "The `axis` argument in `pandas.concat()` determines whether you are combining data along rows or columns:\n",
    "\n",
    "`axis=0` (Default): Concatenation along Rows\\\n",
    "`axis=1`: Concatenation along Columns\n",
    "\n",
    "(When concatenating along `axis=1`, Pandas aligns on the index by default. If indices do not match, you may see `NaN` values where data is missing.)"
   ]
  },
  {
   "cell_type": "code",
   "execution_count": 19,
   "id": "2bc757fc-fa57-49f5-a51a-1e85a13600f8",
   "metadata": {
    "tags": [
     "hide-output"
    ]
   },
   "outputs": [
    {
     "data": {
      "text/html": [
       "<div>\n",
       "<style scoped>\n",
       "    .dataframe tbody tr th:only-of-type {\n",
       "        vertical-align: middle;\n",
       "    }\n",
       "\n",
       "    .dataframe tbody tr th {\n",
       "        vertical-align: top;\n",
       "    }\n",
       "\n",
       "    .dataframe thead th {\n",
       "        text-align: right;\n",
       "    }\n",
       "</style>\n",
       "<table border=\"1\" class=\"dataframe\">\n",
       "  <thead>\n",
       "    <tr style=\"text-align: right;\">\n",
       "      <th></th>\n",
       "      <th>Names</th>\n",
       "      <th>Ages</th>\n",
       "      <th>Sex</th>\n",
       "      <th>Fare</th>\n",
       "    </tr>\n",
       "  </thead>\n",
       "  <tbody>\n",
       "    <tr>\n",
       "      <th>0</th>\n",
       "      <td>Braund</td>\n",
       "      <td>22</td>\n",
       "      <td>male</td>\n",
       "      <td>7.2500</td>\n",
       "    </tr>\n",
       "    <tr>\n",
       "      <th>1</th>\n",
       "      <td>Allen</td>\n",
       "      <td>35</td>\n",
       "      <td>male</td>\n",
       "      <td>71.2833</td>\n",
       "    </tr>\n",
       "    <tr>\n",
       "      <th>2</th>\n",
       "      <td>Bonnel</td>\n",
       "      <td>58</td>\n",
       "      <td>female</td>\n",
       "      <td>7.9250</td>\n",
       "    </tr>\n",
       "  </tbody>\n",
       "</table>\n",
       "</div>"
      ],
      "text/plain": [
       "    Names  Ages     Sex     Fare\n",
       "0  Braund    22    male   7.2500\n",
       "1   Allen    35    male  71.2833\n",
       "2  Bonnel    58  female   7.9250"
      ]
     },
     "execution_count": 19,
     "metadata": {},
     "output_type": "execute_result"
    }
   ],
   "source": [
    "# Display the updated DataFrame 'df'.\n",
    "\n",
    "df"
   ]
  },
  {
   "cell_type": "markdown",
   "id": "aef5c0ea-4068-4905-98af-d9ba4acd0988",
   "metadata": {
    "editable": true,
    "slideshow": {
     "slide_type": ""
    },
    "tags": []
   },
   "source": [
    "### Creating a new column based on existing data"
   ]
  },
  {
   "cell_type": "markdown",
   "id": "25fed4c2-fb59-4731-87af-98826e5713f3",
   "metadata": {},
   "source": [
    "We can also create a new column based on the data in an existing column.\n",
    "\n",
    "Here, we create a new column 'Age_in_3_years' in the `DataFrame` 'df'.\\\n",
    "This column is calculated by adding 3 to each value in the 'Ages' column."
   ]
  },
  {
   "cell_type": "code",
   "execution_count": 20,
   "id": "b7ebd87e-1345-4c84-8720-d5b6dc4a7eb1",
   "metadata": {
    "tags": [
     "hide-output"
    ]
   },
   "outputs": [],
   "source": [
    "df['Age_in_3_years'] = df['Ages'] + 3"
   ]
  },
  {
   "cell_type": "code",
   "execution_count": 21,
   "id": "9b1c06f7-bf86-4069-934d-4e1bc9ba92c8",
   "metadata": {
    "tags": [
     "hide-output"
    ]
   },
   "outputs": [
    {
     "data": {
      "text/html": [
       "<div>\n",
       "<style scoped>\n",
       "    .dataframe tbody tr th:only-of-type {\n",
       "        vertical-align: middle;\n",
       "    }\n",
       "\n",
       "    .dataframe tbody tr th {\n",
       "        vertical-align: top;\n",
       "    }\n",
       "\n",
       "    .dataframe thead th {\n",
       "        text-align: right;\n",
       "    }\n",
       "</style>\n",
       "<table border=\"1\" class=\"dataframe\">\n",
       "  <thead>\n",
       "    <tr style=\"text-align: right;\">\n",
       "      <th></th>\n",
       "      <th>Names</th>\n",
       "      <th>Ages</th>\n",
       "      <th>Sex</th>\n",
       "      <th>Fare</th>\n",
       "      <th>Age_in_3_years</th>\n",
       "    </tr>\n",
       "  </thead>\n",
       "  <tbody>\n",
       "    <tr>\n",
       "      <th>0</th>\n",
       "      <td>Braund</td>\n",
       "      <td>22</td>\n",
       "      <td>male</td>\n",
       "      <td>7.2500</td>\n",
       "      <td>25</td>\n",
       "    </tr>\n",
       "    <tr>\n",
       "      <th>1</th>\n",
       "      <td>Allen</td>\n",
       "      <td>35</td>\n",
       "      <td>male</td>\n",
       "      <td>71.2833</td>\n",
       "      <td>38</td>\n",
       "    </tr>\n",
       "    <tr>\n",
       "      <th>2</th>\n",
       "      <td>Bonnel</td>\n",
       "      <td>58</td>\n",
       "      <td>female</td>\n",
       "      <td>7.9250</td>\n",
       "      <td>61</td>\n",
       "    </tr>\n",
       "  </tbody>\n",
       "</table>\n",
       "</div>"
      ],
      "text/plain": [
       "    Names  Ages     Sex     Fare  Age_in_3_years\n",
       "0  Braund    22    male   7.2500              25\n",
       "1   Allen    35    male  71.2833              38\n",
       "2  Bonnel    58  female   7.9250              61"
      ]
     },
     "execution_count": 21,
     "metadata": {},
     "output_type": "execute_result"
    }
   ],
   "source": [
    "# Display the updated DataFrame 'df'.\n",
    "\n",
    "df"
   ]
  },
  {
   "cell_type": "markdown",
   "id": "970407f3-7591-4391-a245-0334b3076f32",
   "metadata": {},
   "source": [
    "___"
   ]
  },
  {
   "cell_type": "markdown",
   "id": "c5ffeff7-4321-40b4-97e1-9c4f8f4366b2",
   "metadata": {
    "editable": true,
    "slideshow": {
     "slide_type": ""
    },
    "tags": []
   },
   "source": [
    "## <i class=\"fa-solid fa-pencil\"></i> Exercise"
   ]
  },
  {
   "cell_type": "markdown",
   "id": "78d9f5e8-add3-4749-bb3b-08d064890412",
   "metadata": {
    "editable": true,
    "jp-MarkdownHeadingCollapsed": true,
    "slideshow": {
     "slide_type": ""
    },
    "tags": []
   },
   "source": [
    "Create a new column called 'Fare_in_DKK' based on the column 'Fare'.\n",
    "\n",
    "We assume the old fare prices to be in GBP and the exchange rate to be £1 = 8.7 DKK\n",
    "\n",
    "```{admonition} Solution\n",
    ":class: dropdown\n",
    "\n",
    "    df['Fare_in_DKK'] = df['Fare'] * 8.7\n",
    "\n",
    "This solution creates a new column in the `DataFrame` named 'Fare_in_DKK', which contains the fare prices converted from GBP to DKK using the given exchange rate.<br/>\n",
    "Each fare value in GBP is multiplied by the exchange rate to obtain the corresponding fare value in DKK."
   ]
  },
  {
   "cell_type": "markdown",
   "id": "d99abc29-853b-4f54-9c62-2cf8bee32bbe",
   "metadata": {},
   "source": [
    "___"
   ]
  },
  {
   "cell_type": "markdown",
   "id": "88977f16-e5c9-4afd-a198-0011b48c6a3e",
   "metadata": {},
   "source": [
    "## Key points\n",
    "\n",
    "* Import the library, aka `import pandas as pd`.\n",
    "\n",
    "* A table of data is stored as a pandas `DataFrame`.\n",
    "\n",
    "* The `shape`and `dtypes` attributes are convenient for a first check.\n",
    "\n",
    "* Each column in a `DataFrame` is a `Series`.\n",
    "\n",
    "* We can append `Series` as columns to an existing `DataFrame`."
   ]
  },
  {
   "cell_type": "code",
   "execution_count": null,
   "id": "ab0193a6-7fbb-4bba-aeeb-069c9d48529d",
   "metadata": {
    "tags": [
     "hide-output"
    ]
   },
   "outputs": [],
   "source": []
  }
 ],
 "metadata": {
  "kernelspec": {
   "display_name": "Python 3 (ipykernel)",
   "language": "python",
   "name": "python3"
  },
  "language_info": {
   "codemirror_mode": {
    "name": "ipython",
    "version": 3
   },
   "file_extension": ".py",
   "mimetype": "text/x-python",
   "name": "python",
   "nbconvert_exporter": "python",
   "pygments_lexer": "ipython3",
   "version": "3.11.8"
  }
 },
 "nbformat": 4,
 "nbformat_minor": 5
}
