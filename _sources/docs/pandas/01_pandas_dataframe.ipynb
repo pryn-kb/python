{
 "cells": [
  {
   "cell_type": "markdown",
   "id": "9096fe02-76ac-452f-9205-5653d05d7ba9",
   "metadata": {
    "editable": true,
    "slideshow": {
     "slide_type": ""
    },
    "tags": []
   },
   "source": [
    "# Pandas `DataFrame`"
   ]
  },
  {
   "cell_type": "markdown",
   "id": "64953a72-9964-4d8c-b420-b3f97dad7679",
   "metadata": {},
   "source": [
    "```{admonition} Learning Objectives\n",
    "\n",
    "Questions:\n",
    "* What is a Pandas `DataFrame`?\n",
    "* How is a `DataFrame` used to manage and manipulate data?\n",
    "\n",
    "Objectives:\n",
    "* Understand the structure and purpose of a `DataFrame`.\n",
    "* Create a `DataFrame` from lists.\n",
    "* Perform basic `DataFrame` manipulations, such as renaming columns and transposing data.\n",
    "* Understand the structure and purpose of a Pandas `Series`.\n",
    "* Append `Series` as columns to an existing `DataFrame` and create new columns based on existing data."
   ]
  },
  {
   "cell_type": "markdown",
   "id": "64495ea9-3773-4c8b-a699-fc8bf1b2cf55",
   "metadata": {
    "editable": true,
    "slideshow": {
     "slide_type": ""
    },
    "tags": []
   },
   "source": [
    "## Import Pandas"
   ]
  },
  {
   "cell_type": "code",
   "execution_count": 1,
   "id": "32927769-d53d-48eb-9861-24b01bd70d73",
   "metadata": {
    "execution": {
     "iopub.execute_input": "2025-06-23T11:29:29.316859Z",
     "iopub.status.busy": "2025-06-23T11:29:29.316229Z",
     "iopub.status.idle": "2025-06-23T11:29:31.427766Z",
     "shell.execute_reply": "2025-06-23T11:29:31.427131Z",
     "shell.execute_reply.started": "2025-06-23T11:29:29.316805Z"
    },
    "tags": [
     "hide-output"
    ]
   },
   "outputs": [],
   "source": [
    "# This line imports the pandas library and aliases it as 'pd'.\n",
    "\n",
    "import pandas as pd"
   ]
  },
  {
   "cell_type": "markdown",
   "id": "338c9cc1-b8b2-45e2-9f43-1a3e581afa1a",
   "metadata": {
    "editable": true,
    "slideshow": {
     "slide_type": ""
    },
    "tags": []
   },
   "source": [
    "```{admonition} Why pandas as pd?\n",
    ":class: tip dropdown\n",
    "Aliasing pandas as `pd` is a widely adopted convention that simplifies the syntax for accessing its functionalities.\\\n",
    "After this statement, you can use `pd` to access all the functionalities provided by the pandas library.\n",
    "````"
   ]
  },
  {
   "cell_type": "markdown",
   "id": "81ab038f-f380-48a0-8a70-39cf79509769",
   "metadata": {
    "editable": true,
    "slideshow": {
     "slide_type": ""
    },
    "tags": []
   },
   "source": [
    "___"
   ]
  },
  {
   "cell_type": "markdown",
   "id": "0fd010e0-6070-4a82-8cfc-10830336c2b8",
   "metadata": {
    "editable": true,
    "slideshow": {
     "slide_type": ""
    },
    "tags": []
   },
   "source": [
    "## Pandas data table representation\n",
    "\n",
    "![Representation of a Pandas DataFrame](images/01_table_dataframe.svg)\n",
    "\n",
    "A `DataFrame` is a two-dimensional data structure in the Pandas library, designed to hold and manage data efficiently. It organizes data into labeled columns and rows, allowing you to store various types of data, such as numbers, text, and categorical values, all within the same structure."
   ]
  },
  {
   "cell_type": "markdown",
   "id": "0e76387e-b36c-45c3-bf7c-0537425da09f",
   "metadata": {},
   "source": [
    "### Creating our first `DataFrame`"
   ]
  },
  {
   "cell_type": "markdown",
   "id": "7b17ebd1-ef6b-4a6b-b317-7d961d27c2b2",
   "metadata": {},
   "source": [
    "We start by creating three lists of equal length (i.e., containing the same amount of elements).\\\n",
    "These lists will be used as columns for a `DataFrame`, with each list representing a column and each element within the list representing a row in that column."
   ]
  },
  {
   "cell_type": "code",
   "execution_count": 2,
   "id": "426dad0c-2aca-4309-b8c5-ff40c947791f",
   "metadata": {
    "execution": {
     "iopub.execute_input": "2025-06-23T11:29:31.429426Z",
     "iopub.status.busy": "2025-06-23T11:29:31.428995Z",
     "iopub.status.idle": "2025-06-23T11:29:31.432419Z",
     "shell.execute_reply": "2025-06-23T11:29:31.431760Z",
     "shell.execute_reply.started": "2025-06-23T11:29:31.429406Z"
    },
    "tags": [
     "hide-output"
    ]
   },
   "outputs": [],
   "source": [
    "# Create three lists named 'name', 'age', and 'sex'.\n",
    "\n",
    "name = [\"Braund\", \"Allen\", \"Bonnel\"]\n",
    "age = [22, 35, 58]\n",
    "sex = [\"male\", \"male\", \"female\"]"
   ]
  },
  {
   "cell_type": "markdown",
   "id": "4ea6b8ba-0c43-4f37-bf59-46d5abec0d28",
   "metadata": {},
   "source": [
    "We use lists `name`, `age`, and `sex` to fill in the columns.\\\n",
    "Each list corresponds to a column in the DataFrame.\\\n",
    "`Name`, `Age`, and `Sex` are the titles of these columns."
   ]
  },
  {
   "cell_type": "code",
   "execution_count": 3,
   "id": "80c5bff2-6168-4cd2-838b-f2dc02519c0d",
   "metadata": {
    "editable": true,
    "execution": {
     "iopub.execute_input": "2025-06-23T11:29:31.433621Z",
     "iopub.status.busy": "2025-06-23T11:29:31.433329Z",
     "iopub.status.idle": "2025-06-23T11:29:31.437451Z",
     "shell.execute_reply": "2025-06-23T11:29:31.436875Z",
     "shell.execute_reply.started": "2025-06-23T11:29:31.433602Z"
    },
    "slideshow": {
     "slide_type": ""
    },
    "tags": [
     "hide-output"
    ]
   },
   "outputs": [],
   "source": [
    "# Create a DataFrame named 'df' based on three lists.\n",
    "\n",
    "df = pd.DataFrame({'Name': name, 'Age': age, 'Sex': sex})"
   ]
  },
  {
   "cell_type": "markdown",
   "id": "2d32b946-4491-4c20-a306-824462299ef0",
   "metadata": {
    "editable": true,
    "slideshow": {
     "slide_type": ""
    },
    "tags": []
   },
   "source": [
    "### `DataFrames` and `dictionaries`"
   ]
  },
  {
   "cell_type": "markdown",
   "id": "30179dc6-251f-4543-9548-5142d782742e",
   "metadata": {
    "editable": true,
    "slideshow": {
     "slide_type": ""
    },
    "tags": []
   },
   "source": [
    "Creating a `DataFrame` in pandas is similar to creating a `dictionary`. The `key`s in the `dictionary` become the column names, while the `value`s, which are `list`s or `array`s, form the columns' data."
   ]
  },
  {
   "cell_type": "markdown",
   "id": "bd6be8dd-7c05-4e94-8f0b-1e4c7a5782c0",
   "metadata": {
    "editable": true,
    "slideshow": {
     "slide_type": ""
    },
    "tags": []
   },
   "source": [
    "```{seealso} \n",
    "For more information on `dictionary`s in Python, see [GeeksforGeeks](https://www.geeksforgeeks.org/python-dictionary/).\n",
    "```"
   ]
  },
  {
   "cell_type": "code",
   "execution_count": 4,
   "id": "144c2fff-4ff7-448c-b2b6-3e8cb9d17321",
   "metadata": {
    "editable": true,
    "execution": {
     "iopub.execute_input": "2025-06-23T11:29:31.440048Z",
     "iopub.status.busy": "2025-06-23T11:29:31.439773Z",
     "iopub.status.idle": "2025-06-23T11:29:31.451658Z",
     "shell.execute_reply": "2025-06-23T11:29:31.451202Z",
     "shell.execute_reply.started": "2025-06-23T11:29:31.440031Z"
    },
    "slideshow": {
     "slide_type": ""
    },
    "tags": [
     "hide-output"
    ]
   },
   "outputs": [
    {
     "data": {
      "text/html": [
       "<div>\n",
       "<style scoped>\n",
       "    .dataframe tbody tr th:only-of-type {\n",
       "        vertical-align: middle;\n",
       "    }\n",
       "\n",
       "    .dataframe tbody tr th {\n",
       "        vertical-align: top;\n",
       "    }\n",
       "\n",
       "    .dataframe thead th {\n",
       "        text-align: right;\n",
       "    }\n",
       "</style>\n",
       "<table border=\"1\" class=\"dataframe\">\n",
       "  <thead>\n",
       "    <tr style=\"text-align: right;\">\n",
       "      <th></th>\n",
       "      <th>Name</th>\n",
       "      <th>Age</th>\n",
       "      <th>Sex</th>\n",
       "    </tr>\n",
       "  </thead>\n",
       "  <tbody>\n",
       "    <tr>\n",
       "      <th>0</th>\n",
       "      <td>Braund</td>\n",
       "      <td>22</td>\n",
       "      <td>male</td>\n",
       "    </tr>\n",
       "    <tr>\n",
       "      <th>1</th>\n",
       "      <td>Allen</td>\n",
       "      <td>35</td>\n",
       "      <td>male</td>\n",
       "    </tr>\n",
       "    <tr>\n",
       "      <th>2</th>\n",
       "      <td>Bonnel</td>\n",
       "      <td>58</td>\n",
       "      <td>female</td>\n",
       "    </tr>\n",
       "  </tbody>\n",
       "</table>\n",
       "</div>"
      ],
      "text/plain": [
       "     Name  Age     Sex\n",
       "0  Braund   22    male\n",
       "1   Allen   35    male\n",
       "2  Bonnel   58  female"
      ]
     },
     "execution_count": 4,
     "metadata": {},
     "output_type": "execute_result"
    }
   ],
   "source": [
    "# Display the DataFrame 'df'.\n",
    "\n",
    "df"
   ]
  },
  {
   "cell_type": "markdown",
   "id": "ca5889cb-a936-44af-9726-395be98cb700",
   "metadata": {},
   "source": [
    "In a spreadsheet software, the table representation of our data would look very similar\n",
    "\n",
    "![Table representaion in spreadsheet software](images/01_table_spreadsheet.png)"
   ]
  },
  {
   "cell_type": "code",
   "execution_count": 5,
   "id": "4bff0d19-f314-4070-bee5-ea49f892f1d6",
   "metadata": {
    "editable": true,
    "execution": {
     "iopub.execute_input": "2025-06-23T11:29:31.452639Z",
     "iopub.status.busy": "2025-06-23T11:29:31.452450Z",
     "iopub.status.idle": "2025-06-23T11:29:31.457601Z",
     "shell.execute_reply": "2025-06-23T11:29:31.456892Z",
     "shell.execute_reply.started": "2025-06-23T11:29:31.452623Z"
    },
    "slideshow": {
     "slide_type": ""
    },
    "tags": [
     "hide-output"
    ]
   },
   "outputs": [
    {
     "data": {
      "text/plain": [
       "pandas.core.frame.DataFrame"
      ]
     },
     "execution_count": 5,
     "metadata": {},
     "output_type": "execute_result"
    }
   ],
   "source": [
    "# Check the type of the 'df' object using the 'type()' function.\n",
    "\n",
    "type(df)"
   ]
  },
  {
   "cell_type": "markdown",
   "id": "c8770971-3012-4d62-8ae3-af6159fb5468",
   "metadata": {},
   "source": [
    "___"
   ]
  },
  {
   "cell_type": "markdown",
   "id": "80122f4b-f7a9-45a2-a50c-3f839f93ee82",
   "metadata": {
    "editable": true,
    "slideshow": {
     "slide_type": ""
    },
    "tags": []
   },
   "source": [
    "## Attributes"
   ]
  },
  {
   "cell_type": "markdown",
   "id": "69e8579a-8dab-44f4-9f61-d3d518f2570c",
   "metadata": {
    "editable": true,
    "slideshow": {
     "slide_type": ""
    },
    "tags": []
   },
   "source": [
    "We can use the `shape` attribute to determine the dimensions of the `DataFrame`.\\\n",
    "It returns a tuple representing the number of rows and columns (rows, columns). This can be helpful especially if you have not created the `DataFrame`yourself. "
   ]
  },
  {
   "cell_type": "code",
   "execution_count": 6,
   "id": "91a1097f-8c2f-4137-9d0d-4b811fb38ffc",
   "metadata": {
    "execution": {
     "iopub.execute_input": "2025-06-23T11:29:31.458774Z",
     "iopub.status.busy": "2025-06-23T11:29:31.458369Z",
     "iopub.status.idle": "2025-06-23T11:29:31.463131Z",
     "shell.execute_reply": "2025-06-23T11:29:31.462450Z",
     "shell.execute_reply.started": "2025-06-23T11:29:31.458754Z"
    },
    "tags": [
     "hide-output"
    ]
   },
   "outputs": [
    {
     "data": {
      "text/plain": [
       "(3, 3)"
      ]
     },
     "execution_count": 6,
     "metadata": {},
     "output_type": "execute_result"
    }
   ],
   "source": [
    "df.shape"
   ]
  },
  {
   "cell_type": "markdown",
   "id": "4854bfb7-f28d-4f69-bf50-177b63a63e64",
   "metadata": {
    "editable": true,
    "slideshow": {
     "slide_type": ""
    },
    "tags": []
   },
   "source": [
    "And we can use the `dtypes` attribute to view the data types of each column in the `DataFrame`.\\\n",
    "This command provides information about the data type of each column, such as integer, float, or object (string). This is useful knowledge to have when you start working more in-depth with your data."
   ]
  },
  {
   "cell_type": "code",
   "execution_count": 7,
   "id": "566c11a5-d3ba-44c5-93ea-eff112562181",
   "metadata": {
    "execution": {
     "iopub.execute_input": "2025-06-23T11:29:31.464256Z",
     "iopub.status.busy": "2025-06-23T11:29:31.464055Z",
     "iopub.status.idle": "2025-06-23T11:29:31.469399Z",
     "shell.execute_reply": "2025-06-23T11:29:31.468642Z",
     "shell.execute_reply.started": "2025-06-23T11:29:31.464239Z"
    },
    "tags": [
     "hide-output"
    ]
   },
   "outputs": [
    {
     "data": {
      "text/plain": [
       "Name    object\n",
       "Age      int64\n",
       "Sex     object\n",
       "dtype: object"
      ]
     },
     "execution_count": 7,
     "metadata": {},
     "output_type": "execute_result"
    }
   ],
   "source": [
    "df.dtypes"
   ]
  },
  {
   "cell_type": "markdown",
   "id": "5a76339f-2828-47f3-9ab5-4a1f5d98e746",
   "metadata": {},
   "source": [
    "When asking for the `shape` or `dtypes`, no parentheses `()` are used. Both are an attribute of `DataFrame` and `Series`. (`Series` will be explained later.)\n",
    "\n",
    "Attributes of a `DataFrame` or `Series` do not need `()`.\n",
    "\n",
    "Attributes represent a characteristic of a `DataFrame`/`Series`, whereas methods (which require parentheses `()`) do something with the `DataFrame`/`Series`. "
   ]
  },
  {
   "cell_type": "markdown",
   "id": "45e290fb-eed2-4489-aaeb-1817fc91ea84",
   "metadata": {},
   "source": [
    "___"
   ]
  },
  {
   "cell_type": "markdown",
   "id": "45e9ea6a-222f-4ead-88e2-1c234311e5d6",
   "metadata": {
    "editable": true,
    "slideshow": {
     "slide_type": ""
    },
    "tags": []
   },
   "source": [
    "## Transposing a `DataFrame`"
   ]
  },
  {
   "cell_type": "markdown",
   "id": "e8f35701-66fc-4145-aa21-05d1527cb9d7",
   "metadata": {},
   "source": [
    "The `transpose()` method swaps the `DataFrame`'s rows and columns, creating 'df_transposed'.\\\n",
    "Transposing is useful for reshaping data, making it easier to compare rows or apply certain operations that are typically column-based.\n"
   ]
  },
  {
   "cell_type": "code",
   "execution_count": 8,
   "id": "1ec1e04e-13e6-47cd-9baf-7a9d71b412b6",
   "metadata": {
    "execution": {
     "iopub.execute_input": "2025-06-23T11:29:31.471187Z",
     "iopub.status.busy": "2025-06-23T11:29:31.470692Z",
     "iopub.status.idle": "2025-06-23T11:29:31.476254Z",
     "shell.execute_reply": "2025-06-23T11:29:31.474873Z",
     "shell.execute_reply.started": "2025-06-23T11:29:31.471153Z"
    },
    "tags": [
     "hide-output"
    ]
   },
   "outputs": [],
   "source": [
    "# Transpose the DataFrame 'df' using the 'transpose()' method.\n",
    "\n",
    "df_transposed = df.transpose()"
   ]
  },
  {
   "cell_type": "code",
   "execution_count": 9,
   "id": "6b5455d3-7a45-442d-96ca-84d7ee7a0a88",
   "metadata": {
    "execution": {
     "iopub.execute_input": "2025-06-23T11:29:31.478049Z",
     "iopub.status.busy": "2025-06-23T11:29:31.477540Z",
     "iopub.status.idle": "2025-06-23T11:29:31.483769Z",
     "shell.execute_reply": "2025-06-23T11:29:31.483186Z",
     "shell.execute_reply.started": "2025-06-23T11:29:31.478025Z"
    },
    "tags": [
     "hide-output"
    ]
   },
   "outputs": [
    {
     "data": {
      "text/html": [
       "<div>\n",
       "<style scoped>\n",
       "    .dataframe tbody tr th:only-of-type {\n",
       "        vertical-align: middle;\n",
       "    }\n",
       "\n",
       "    .dataframe tbody tr th {\n",
       "        vertical-align: top;\n",
       "    }\n",
       "\n",
       "    .dataframe thead th {\n",
       "        text-align: right;\n",
       "    }\n",
       "</style>\n",
       "<table border=\"1\" class=\"dataframe\">\n",
       "  <thead>\n",
       "    <tr style=\"text-align: right;\">\n",
       "      <th></th>\n",
       "      <th>0</th>\n",
       "      <th>1</th>\n",
       "      <th>2</th>\n",
       "    </tr>\n",
       "  </thead>\n",
       "  <tbody>\n",
       "    <tr>\n",
       "      <th>Name</th>\n",
       "      <td>Braund</td>\n",
       "      <td>Allen</td>\n",
       "      <td>Bonnel</td>\n",
       "    </tr>\n",
       "    <tr>\n",
       "      <th>Age</th>\n",
       "      <td>22</td>\n",
       "      <td>35</td>\n",
       "      <td>58</td>\n",
       "    </tr>\n",
       "    <tr>\n",
       "      <th>Sex</th>\n",
       "      <td>male</td>\n",
       "      <td>male</td>\n",
       "      <td>female</td>\n",
       "    </tr>\n",
       "  </tbody>\n",
       "</table>\n",
       "</div>"
      ],
      "text/plain": [
       "           0      1       2\n",
       "Name  Braund  Allen  Bonnel\n",
       "Age       22     35      58\n",
       "Sex     male   male  female"
      ]
     },
     "execution_count": 9,
     "metadata": {},
     "output_type": "execute_result"
    }
   ],
   "source": [
    "# Display the DataFrame 'df_transposed'.\n",
    "\n",
    "df_transposed"
   ]
  },
  {
   "cell_type": "markdown",
   "id": "37956e37-86cf-4370-a688-f941d9ef49c7",
   "metadata": {
    "editable": true,
    "slideshow": {
     "slide_type": ""
    },
    "tags": []
   },
   "source": [
    "### Renaming columns"
   ]
  },
  {
   "cell_type": "markdown",
   "id": "f43b1336-52b1-4a2a-8daf-2cf5f4a8091b",
   "metadata": {},
   "source": [
    "We can rename the columns of our `DataFrame` after creation.\\\n",
    "This is done by assigning a new list of column names to `df.columns`.\\\n",
    "The new column names are `Names`, `Age`, and `Sex`, in that order."
   ]
  },
  {
   "cell_type": "code",
   "execution_count": 10,
   "id": "f5038b7c-084d-486a-9cac-35f6a9182538",
   "metadata": {
    "execution": {
     "iopub.execute_input": "2025-06-23T11:29:31.487077Z",
     "iopub.status.busy": "2025-06-23T11:29:31.486801Z",
     "iopub.status.idle": "2025-06-23T11:29:31.490691Z",
     "shell.execute_reply": "2025-06-23T11:29:31.489939Z",
     "shell.execute_reply.started": "2025-06-23T11:29:31.487058Z"
    },
    "tags": [
     "hide-output"
    ]
   },
   "outputs": [],
   "source": [
    "# Rename the columns of the DataFrame 'df'.\n",
    "\n",
    "df.columns = ['Names', 'Age', 'Sex']"
   ]
  },
  {
   "cell_type": "markdown",
   "id": "d7a11dc7-1291-4430-9d3d-445b3f9bb07e",
   "metadata": {},
   "source": [
    "The method below is useful for selectively renaming only one or more columns without changing the entire set of column names:"
   ]
  },
  {
   "cell_type": "code",
   "execution_count": 11,
   "id": "384b0f6e-0ccc-4f97-827b-6e6f6b045e23",
   "metadata": {
    "execution": {
     "iopub.execute_input": "2025-06-23T11:29:31.492436Z",
     "iopub.status.busy": "2025-06-23T11:29:31.492029Z",
     "iopub.status.idle": "2025-06-23T11:29:31.499315Z",
     "shell.execute_reply": "2025-06-23T11:29:31.498532Z",
     "shell.execute_reply.started": "2025-06-23T11:29:31.492407Z"
    },
    "tags": [
     "hide-output"
    ]
   },
   "outputs": [],
   "source": [
    "# Rename the 'Age' column to 'Ages' in the DataFrame 'df'.\n",
    "\n",
    "df = df.rename(columns={'Age': 'Ages'})"
   ]
  },
  {
   "cell_type": "code",
   "execution_count": 12,
   "id": "3ed991dd-ce32-4f58-b5a9-bca82729ff1d",
   "metadata": {
    "execution": {
     "iopub.execute_input": "2025-06-23T11:29:31.500581Z",
     "iopub.status.busy": "2025-06-23T11:29:31.500287Z",
     "iopub.status.idle": "2025-06-23T11:29:31.507343Z",
     "shell.execute_reply": "2025-06-23T11:29:31.506100Z",
     "shell.execute_reply.started": "2025-06-23T11:29:31.500560Z"
    },
    "tags": [
     "hide-output"
    ]
   },
   "outputs": [
    {
     "data": {
      "text/html": [
       "<div>\n",
       "<style scoped>\n",
       "    .dataframe tbody tr th:only-of-type {\n",
       "        vertical-align: middle;\n",
       "    }\n",
       "\n",
       "    .dataframe tbody tr th {\n",
       "        vertical-align: top;\n",
       "    }\n",
       "\n",
       "    .dataframe thead th {\n",
       "        text-align: right;\n",
       "    }\n",
       "</style>\n",
       "<table border=\"1\" class=\"dataframe\">\n",
       "  <thead>\n",
       "    <tr style=\"text-align: right;\">\n",
       "      <th></th>\n",
       "      <th>Names</th>\n",
       "      <th>Ages</th>\n",
       "      <th>Sex</th>\n",
       "    </tr>\n",
       "  </thead>\n",
       "  <tbody>\n",
       "    <tr>\n",
       "      <th>0</th>\n",
       "      <td>Braund</td>\n",
       "      <td>22</td>\n",
       "      <td>male</td>\n",
       "    </tr>\n",
       "    <tr>\n",
       "      <th>1</th>\n",
       "      <td>Allen</td>\n",
       "      <td>35</td>\n",
       "      <td>male</td>\n",
       "    </tr>\n",
       "    <tr>\n",
       "      <th>2</th>\n",
       "      <td>Bonnel</td>\n",
       "      <td>58</td>\n",
       "      <td>female</td>\n",
       "    </tr>\n",
       "  </tbody>\n",
       "</table>\n",
       "</div>"
      ],
      "text/plain": [
       "    Names  Ages     Sex\n",
       "0  Braund    22    male\n",
       "1   Allen    35    male\n",
       "2  Bonnel    58  female"
      ]
     },
     "execution_count": 12,
     "metadata": {},
     "output_type": "execute_result"
    }
   ],
   "source": [
    "# Our DataFrame now looks like this:\n",
    "\n",
    "df"
   ]
  },
  {
   "cell_type": "markdown",
   "id": "0f420048-fc78-4eb0-8515-388f4dc5a714",
   "metadata": {},
   "source": [
    "___"
   ]
  },
  {
   "cell_type": "markdown",
   "id": "35c51e79-e5ad-4d31-80a5-7c9214c7979d",
   "metadata": {
    "editable": true,
    "slideshow": {
     "slide_type": ""
    },
    "tags": []
   },
   "source": [
    "## `Series`\n",
    "\n",
    "![DataFrame Series](images/01_table_series.svg)"
   ]
  },
  {
   "cell_type": "markdown",
   "id": "c8513120-b453-4b30-a310-eaab5797e886",
   "metadata": {},
   "source": [
    "Each column in a `DataFrame` is a `Series`. When we access a column in a `DataFrame`, this actually returns a `Series` object containing all the data in that column."
   ]
  },
  {
   "cell_type": "code",
   "execution_count": 13,
   "id": "be3895b3-b1b7-461b-af5b-97890cc5cfc5",
   "metadata": {
    "editable": true,
    "execution": {
     "iopub.execute_input": "2025-06-23T11:29:31.509281Z",
     "iopub.status.busy": "2025-06-23T11:29:31.508968Z",
     "iopub.status.idle": "2025-06-23T11:29:31.514354Z",
     "shell.execute_reply": "2025-06-23T11:29:31.513622Z",
     "shell.execute_reply.started": "2025-06-23T11:29:31.509261Z"
    },
    "slideshow": {
     "slide_type": ""
    },
    "tags": [
     "hide-output"
    ]
   },
   "outputs": [
    {
     "data": {
      "text/plain": [
       "0    22\n",
       "1    35\n",
       "2    58\n",
       "Name: Ages, dtype: int64"
      ]
     },
     "execution_count": 13,
     "metadata": {},
     "output_type": "execute_result"
    }
   ],
   "source": [
    "df['Ages']"
   ]
  },
  {
   "cell_type": "code",
   "execution_count": 14,
   "id": "e6bb2806-5a6f-43cc-badd-c4a7fb4baf96",
   "metadata": {
    "editable": true,
    "execution": {
     "iopub.execute_input": "2025-06-23T11:29:31.515404Z",
     "iopub.status.busy": "2025-06-23T11:29:31.515195Z",
     "iopub.status.idle": "2025-06-23T11:29:31.519423Z",
     "shell.execute_reply": "2025-06-23T11:29:31.518841Z",
     "shell.execute_reply.started": "2025-06-23T11:29:31.515387Z"
    },
    "slideshow": {
     "slide_type": ""
    },
    "tags": [
     "hide-output"
    ]
   },
   "outputs": [
    {
     "data": {
      "text/plain": [
       "pandas.core.series.Series"
      ]
     },
     "execution_count": 14,
     "metadata": {},
     "output_type": "execute_result"
    }
   ],
   "source": [
    "# Check the type of the 'Ages' column in 'df' using the 'type()' function.\n",
    "\n",
    "type(df['Ages'])"
   ]
  },
  {
   "cell_type": "markdown",
   "id": "3400c819-d5a7-4a49-b7c4-71b3212760a2",
   "metadata": {
    "editable": true,
    "slideshow": {
     "slide_type": ""
    },
    "tags": []
   },
   "source": [
    "### Creating our own `Series`"
   ]
  },
  {
   "cell_type": "markdown",
   "id": "50c1efd9-e45d-4626-a71b-4eac19a35368",
   "metadata": {},
   "source": [
    "We can create and name a `Series` in the following way.\\\n",
    "The `name` parameter assigns the name 'Fare' to the Series."
   ]
  },
  {
   "cell_type": "code",
   "execution_count": 15,
   "id": "27b125f6-7e9e-48c7-b82d-fbce714dfd8d",
   "metadata": {
    "editable": true,
    "execution": {
     "iopub.execute_input": "2025-06-23T11:29:31.520744Z",
     "iopub.status.busy": "2025-06-23T11:29:31.520458Z",
     "iopub.status.idle": "2025-06-23T11:29:31.524552Z",
     "shell.execute_reply": "2025-06-23T11:29:31.523648Z",
     "shell.execute_reply.started": "2025-06-23T11:29:31.520724Z"
    },
    "slideshow": {
     "slide_type": ""
    },
    "tags": [
     "hide-output"
    ]
   },
   "outputs": [],
   "source": [
    "# Create a pandas Series named 'fare' with specified values.\n",
    "\n",
    "fare = pd.Series(['7.2500', '71.2833', 'Unknown'], name='Fare')"
   ]
  },
  {
   "cell_type": "markdown",
   "id": "25d2577d-b125-4716-a1f5-3b0bab71b4d8",
   "metadata": {},
   "source": [
    "This outputs the values along with their index positions and the name of the `Series`:"
   ]
  },
  {
   "cell_type": "code",
   "execution_count": 16,
   "id": "ae48df52-087e-495b-a84a-002e32cb5147",
   "metadata": {
    "editable": true,
    "execution": {
     "iopub.execute_input": "2025-06-23T11:29:31.526453Z",
     "iopub.status.busy": "2025-06-23T11:29:31.525972Z",
     "iopub.status.idle": "2025-06-23T11:29:31.532206Z",
     "shell.execute_reply": "2025-06-23T11:29:31.531555Z",
     "shell.execute_reply.started": "2025-06-23T11:29:31.526409Z"
    },
    "slideshow": {
     "slide_type": ""
    },
    "tags": [
     "hide-output"
    ]
   },
   "outputs": [
    {
     "data": {
      "text/plain": [
       "0     7.2500\n",
       "1    71.2833\n",
       "2    Unknown\n",
       "Name: Fare, dtype: object"
      ]
     },
     "execution_count": 16,
     "metadata": {},
     "output_type": "execute_result"
    }
   ],
   "source": [
    "# Display the 'fare' Series.\n",
    "\n",
    "fare"
   ]
  },
  {
   "cell_type": "code",
   "execution_count": 17,
   "id": "a0438617-24eb-4a2b-b83e-baacf383a6a8",
   "metadata": {
    "execution": {
     "iopub.execute_input": "2025-06-23T11:29:31.533949Z",
     "iopub.status.busy": "2025-06-23T11:29:31.533500Z",
     "iopub.status.idle": "2025-06-23T11:29:31.539475Z",
     "shell.execute_reply": "2025-06-23T11:29:31.538869Z",
     "shell.execute_reply.started": "2025-06-23T11:29:31.533926Z"
    },
    "tags": [
     "hide-output"
    ]
   },
   "outputs": [
    {
     "data": {
      "text/plain": [
       "Fare\n",
       "<class 'str'>    3\n",
       "Name: count, dtype: int64"
      ]
     },
     "execution_count": 17,
     "metadata": {},
     "output_type": "execute_result"
    }
   ],
   "source": [
    "fare.apply(type).value_counts()"
   ]
  },
  {
   "cell_type": "code",
   "execution_count": 18,
   "id": "45f90ce4-dac3-4744-8ccf-1305f810e945",
   "metadata": {
    "execution": {
     "iopub.execute_input": "2025-06-23T11:29:31.540429Z",
     "iopub.status.busy": "2025-06-23T11:29:31.540237Z",
     "iopub.status.idle": "2025-06-23T11:29:31.545950Z",
     "shell.execute_reply": "2025-06-23T11:29:31.545010Z",
     "shell.execute_reply.started": "2025-06-23T11:29:31.540412Z"
    },
    "tags": [
     "hide-output"
    ]
   },
   "outputs": [
    {
     "data": {
      "text/plain": [
       "pandas.core.series.Series"
      ]
     },
     "execution_count": 18,
     "metadata": {},
     "output_type": "execute_result"
    }
   ],
   "source": [
    "# Check the data type of 'fare' using the 'type()' function.\n",
    "\n",
    "type(fare)"
   ]
  },
  {
   "cell_type": "markdown",
   "id": "3cdb3864-ebfa-4754-9897-6a84843f402c",
   "metadata": {},
   "source": [
    "Although our data looks fine at first glance, each cell is actually stored as a string.\n",
    "While we can read the numbers without issue, this will cause problems if we want to use them for calculations.\n",
    "\n",
    "To solve this, Pandas provides a built-in function called `to_numeric()`, which converts a `Series` to either an integer or a float, depending on the values."
   ]
  },
  {
   "cell_type": "code",
   "execution_count": 19,
   "id": "b3780481-c91a-4203-9aa8-5940b9bf090c",
   "metadata": {
    "execution": {
     "iopub.execute_input": "2025-06-23T11:29:31.547390Z",
     "iopub.status.busy": "2025-06-23T11:29:31.547084Z",
     "iopub.status.idle": "2025-06-23T11:29:31.786362Z",
     "shell.execute_reply": "2025-06-23T11:29:31.785017Z",
     "shell.execute_reply.started": "2025-06-23T11:29:31.547369Z"
    },
    "tags": [
     "hide-output"
    ]
   },
   "outputs": [
    {
     "ename": "ValueError",
     "evalue": "Unable to parse string \"Unknown\" at position 2",
     "output_type": "error",
     "traceback": [
      "\u001b[0;31m---------------------------------------------------------------------------\u001b[0m",
      "\u001b[0;31mValueError\u001b[0m                                Traceback (most recent call last)",
      "File \u001b[0;32mpandas/_libs/lib.pyx:2407\u001b[0m, in \u001b[0;36mpandas._libs.lib.maybe_convert_numeric\u001b[0;34m()\u001b[0m\n",
      "\u001b[0;31mValueError\u001b[0m: Unable to parse string \"Unknown\"",
      "\nDuring handling of the above exception, another exception occurred:\n",
      "\u001b[0;31mValueError\u001b[0m                                Traceback (most recent call last)",
      "Cell \u001b[0;32mIn[19], line 1\u001b[0m\n\u001b[0;32m----> 1\u001b[0m fare \u001b[38;5;241m=\u001b[39m \u001b[43mpd\u001b[49m\u001b[38;5;241;43m.\u001b[39;49m\u001b[43mto_numeric\u001b[49m\u001b[43m(\u001b[49m\u001b[43mfare\u001b[49m\u001b[43m)\u001b[49m\n",
      "File \u001b[0;32m/Library/Frameworks/Python.framework/Versions/3.12/lib/python3.12/site-packages/pandas/core/tools/numeric.py:235\u001b[0m, in \u001b[0;36mto_numeric\u001b[0;34m(arg, errors, downcast, dtype_backend)\u001b[0m\n\u001b[1;32m    233\u001b[0m coerce_numeric \u001b[38;5;241m=\u001b[39m errors \u001b[38;5;129;01mnot\u001b[39;00m \u001b[38;5;129;01min\u001b[39;00m (\u001b[38;5;124m\"\u001b[39m\u001b[38;5;124mignore\u001b[39m\u001b[38;5;124m\"\u001b[39m, \u001b[38;5;124m\"\u001b[39m\u001b[38;5;124mraise\u001b[39m\u001b[38;5;124m\"\u001b[39m)\n\u001b[1;32m    234\u001b[0m \u001b[38;5;28;01mtry\u001b[39;00m:\n\u001b[0;32m--> 235\u001b[0m     values, new_mask \u001b[38;5;241m=\u001b[39m \u001b[43mlib\u001b[49m\u001b[38;5;241;43m.\u001b[39;49m\u001b[43mmaybe_convert_numeric\u001b[49m\u001b[43m(\u001b[49m\u001b[43m  \u001b[49m\u001b[38;5;66;43;03m# type: ignore[call-overload]\u001b[39;49;00m\n\u001b[1;32m    236\u001b[0m \u001b[43m        \u001b[49m\u001b[43mvalues\u001b[49m\u001b[43m,\u001b[49m\n\u001b[1;32m    237\u001b[0m \u001b[43m        \u001b[49m\u001b[38;5;28;43mset\u001b[39;49m\u001b[43m(\u001b[49m\u001b[43m)\u001b[49m\u001b[43m,\u001b[49m\n\u001b[1;32m    238\u001b[0m \u001b[43m        \u001b[49m\u001b[43mcoerce_numeric\u001b[49m\u001b[38;5;241;43m=\u001b[39;49m\u001b[43mcoerce_numeric\u001b[49m\u001b[43m,\u001b[49m\n\u001b[1;32m    239\u001b[0m \u001b[43m        \u001b[49m\u001b[43mconvert_to_masked_nullable\u001b[49m\u001b[38;5;241;43m=\u001b[39;49m\u001b[43mdtype_backend\u001b[49m\u001b[43m \u001b[49m\u001b[38;5;129;43;01mis\u001b[39;49;00m\u001b[43m \u001b[49m\u001b[38;5;129;43;01mnot\u001b[39;49;00m\u001b[43m \u001b[49m\u001b[43mlib\u001b[49m\u001b[38;5;241;43m.\u001b[39;49m\u001b[43mno_default\u001b[49m\n\u001b[1;32m    240\u001b[0m \u001b[43m        \u001b[49m\u001b[38;5;129;43;01mor\u001b[39;49;00m\u001b[43m \u001b[49m\u001b[38;5;28;43misinstance\u001b[39;49m\u001b[43m(\u001b[49m\u001b[43mvalues_dtype\u001b[49m\u001b[43m,\u001b[49m\u001b[43m \u001b[49m\u001b[43mStringDtype\u001b[49m\u001b[43m)\u001b[49m\n\u001b[1;32m    241\u001b[0m \u001b[43m        \u001b[49m\u001b[38;5;129;43;01mand\u001b[39;49;00m\u001b[43m \u001b[49m\u001b[43mvalues_dtype\u001b[49m\u001b[38;5;241;43m.\u001b[39;49m\u001b[43mna_value\u001b[49m\u001b[43m \u001b[49m\u001b[38;5;129;43;01mis\u001b[39;49;00m\u001b[43m \u001b[49m\u001b[43mlibmissing\u001b[49m\u001b[38;5;241;43m.\u001b[39;49m\u001b[43mNA\u001b[49m\u001b[43m,\u001b[49m\n\u001b[1;32m    242\u001b[0m \u001b[43m    \u001b[49m\u001b[43m)\u001b[49m\n\u001b[1;32m    243\u001b[0m \u001b[38;5;28;01mexcept\u001b[39;00m (\u001b[38;5;167;01mValueError\u001b[39;00m, \u001b[38;5;167;01mTypeError\u001b[39;00m):\n\u001b[1;32m    244\u001b[0m     \u001b[38;5;28;01mif\u001b[39;00m errors \u001b[38;5;241m==\u001b[39m \u001b[38;5;124m\"\u001b[39m\u001b[38;5;124mraise\u001b[39m\u001b[38;5;124m\"\u001b[39m:\n",
      "File \u001b[0;32mpandas/_libs/lib.pyx:2449\u001b[0m, in \u001b[0;36mpandas._libs.lib.maybe_convert_numeric\u001b[0;34m()\u001b[0m\n",
      "\u001b[0;31mValueError\u001b[0m: Unable to parse string \"Unknown\" at position 2"
     ]
    }
   ],
   "source": [
    "fare = pd.to_numeric(fare)"
   ]
  },
  {
   "cell_type": "markdown",
   "id": "67364c05-b438-46d3-9f54-de5e81e34dfa",
   "metadata": {},
   "source": [
    "However, as seen above, this produces a `ValueError` due to the \"Unknown\" value at position 2.\n",
    "\n",
    "To solve this, we need to use the `errors` parameter in `to_numeric()`."
   ]
  },
  {
   "cell_type": "markdown",
   "id": "a0a74bef-573c-4433-a3e7-2939a71ef519",
   "metadata": {},
   "source": [
    "## <i class=\"fa-solid fa-pencil\"></i> Exercise"
   ]
  },
  {
   "cell_type": "markdown",
   "id": "50cb1a5b-40c8-4367-b9de-60be784ebcfb",
   "metadata": {},
   "source": [
    "Convert the cells of the 'fare' `Series` to numeric values.\\\n",
    "The \"Unknown\" value must be convertet to `NaN` by applying the `errors` parameter in `to_numeric()`.\n",
    "\n",
    "Hint: We can get help by using:\n",
    "```python\n",
    "    help(pd.to_numeric)\n",
    "```\n",
    "\n",
    "```{admonition} Solution\n",
    ":class: dropdown\n",
    "\n",
    "    fare = pd.to_numeric(fare, errors='coerce')\n",
    "\n",
    "This solution changes all cell values to numeric values.\\\n",
    "Any values that cannot be converted — such as strings like \"Unknown\" — will be replaced with `NaN` instead of raising an error."
   ]
  },
  {
   "cell_type": "markdown",
   "id": "245ffde0-a068-4c8c-ab38-bbd0caf7ac87",
   "metadata": {},
   "source": [
    "___"
   ]
  },
  {
   "cell_type": "markdown",
   "id": "a27a0e64-84e3-41e9-a782-4c129bbca2ce",
   "metadata": {
    "editable": true,
    "slideshow": {
     "slide_type": ""
    },
    "tags": []
   },
   "source": [
    "## Appending `Series`"
   ]
  },
  {
   "cell_type": "markdown",
   "id": "d33daa99-d648-4a9e-94ee-18624adb22d6",
   "metadata": {
    "editable": true,
    "slideshow": {
     "slide_type": ""
    },
    "tags": []
   },
   "source": [
    "We can add a `Series` as a new column to a `DataFrame`, extending it horizontally.\\\n",
    "Here, the name of the 'fare' `Series` ('Fare') becomes the column name in the updated `DataFrame`."
   ]
  },
  {
   "cell_type": "code",
   "execution_count": 20,
   "id": "caa936b3-de65-47c5-8dbd-36caad6021ed",
   "metadata": {
    "execution": {
     "iopub.execute_input": "2025-06-23T11:29:40.252071Z",
     "iopub.status.busy": "2025-06-23T11:29:40.251503Z",
     "iopub.status.idle": "2025-06-23T11:29:40.260084Z",
     "shell.execute_reply": "2025-06-23T11:29:40.258226Z",
     "shell.execute_reply.started": "2025-06-23T11:29:40.252030Z"
    },
    "tags": [
     "hide-output"
    ]
   },
   "outputs": [],
   "source": [
    "# Convert the Series' cells to numeric values\n",
    "\n",
    "fare = pd.to_numeric(fare, errors='coerce')\n",
    "\n",
    "# Concatenate the 'fare' Series to the 'df' DataFrame along the columns (axis=1).\n",
    "\n",
    "df = pd.concat([df, fare], axis=1)"
   ]
  },
  {
   "cell_type": "markdown",
   "id": "b7c08842-7765-4783-9916-7325907ef19e",
   "metadata": {},
   "source": [
    "The `axis` parameter in `pandas.concat()` controls whether you combine data **row-wise** or **column-wise**:\n",
    "\n",
    "- `axis=0` **(default)**: Concatenates along rows (adds more rows beneath each other).\n",
    "- `axis=1`: Concatenates along columns (adds new columns side by side).\n",
    "\n",
    "<i class=\"fa-solid fa-triangle-exclamation\"></i> **Important:** When concatenating with `axis=1`, Pandas aligns data on the **index**. If the indices do not match, the result will contain `NaN` values wherever data is missing. This can easily lead to unexpected gaps if you haven’t ensured consistent indexing before concatenation."
   ]
  },
  {
   "cell_type": "code",
   "execution_count": 1,
   "id": "2bc757fc-fa57-49f5-a51a-1e85a13600f8",
   "metadata": {
    "execution": {
     "iopub.execute_input": "2025-09-08T08:49:27.750648Z",
     "iopub.status.busy": "2025-09-08T08:49:27.750398Z",
     "iopub.status.idle": "2025-09-08T08:49:27.926344Z",
     "shell.execute_reply": "2025-09-08T08:49:27.924984Z",
     "shell.execute_reply.started": "2025-09-08T08:49:27.750627Z"
    },
    "tags": [
     "hide-output"
    ]
   },
   "outputs": [
    {
     "ename": "NameError",
     "evalue": "name 'df' is not defined",
     "output_type": "error",
     "traceback": [
      "\u001b[31m---------------------------------------------------------------------------\u001b[39m",
      "\u001b[31mNameError\u001b[39m                                 Traceback (most recent call last)",
      "\u001b[36mCell\u001b[39m\u001b[36m \u001b[39m\u001b[32mIn[1]\u001b[39m\u001b[32m, line 3\u001b[39m\n\u001b[32m      1\u001b[39m \u001b[38;5;66;03m# Display the updated DataFrame 'df'.\u001b[39;00m\n\u001b[32m----> \u001b[39m\u001b[32m3\u001b[39m \u001b[43mdf\u001b[49m\n",
      "\u001b[31mNameError\u001b[39m: name 'df' is not defined"
     ]
    }
   ],
   "source": [
    "# Display the updated DataFrame 'df'.\n",
    "\n",
    "df"
   ]
  },
  {
   "cell_type": "markdown",
   "id": "d90a66c0-6fe4-4820-aff0-388525aae677",
   "metadata": {},
   "source": [
    "## <i class=\"fa-solid fa-pencil\"></i> Exercise"
   ]
  },
  {
   "cell_type": "markdown",
   "id": "6a6353ad-dbbc-40c4-9677-8eca7db1d815",
   "metadata": {},
   "source": [
    "Given the `Series`:\n",
    "\n",
    "```python\n",
    "extra_row = pd.Series(\n",
    "    {'Names': 'Futrelle', 'Ages': 35, 'Sex': 'female', 'Fare': 53.1000}\n",
    ")\n",
    "```\n",
    "\n",
    "Append this `Series` to 'df' but as a row (not a column!).\n",
    "\n",
    "````{admonition} Solution\n",
    ":class: dropdown\n",
    "\n",
    "    df = pd.concat([df, extra_row.to_frame().T], ignore_index=True)\n",
    "\n",
    "This solution concatenates the `extra_row` `Series` to the `df` `DataFrame` along the rows (`axis=0`). Since `axis=0` is the default in `pd.concat()`, it does not need to be written explicitly.  \n",
    "\n",
    "The argument `ignore_index=True` is important because it forces Pandas to create a new continuous index (`0, 1, 2, …`) instead of keeping the original index values from the two objects being concatenated.\\\n",
    "Without `ignore_index=True`, the new row would keep its original index `0` (from the `Series` converted to a one-row `DataFrame`), resulting in duplicate indices in `df`. This can lead to confusion or unexpected behavior when selecting rows by index.  \n",
    "\n",
    "If the column names in `extra_row` did **not** match the columns in `df`, Pandas would still perform the concatenation, but it would align only on the matching labels. Any non-matching columns would be added as new columns, and cells where data is missing would be filled with `NaN`.\n",
    "````"
   ]
  },
  {
   "cell_type": "markdown",
   "id": "aef5c0ea-4068-4905-98af-d9ba4acd0988",
   "metadata": {
    "editable": true,
    "slideshow": {
     "slide_type": ""
    },
    "tags": []
   },
   "source": [
    "### Creating a new column based on existing data"
   ]
  },
  {
   "cell_type": "markdown",
   "id": "25fed4c2-fb59-4731-87af-98826e5713f3",
   "metadata": {},
   "source": [
    "We can also create a new column based on the data in an existing column.\n",
    "\n",
    "Here, we create a new column 'Age_in_3_years' in the `DataFrame` 'df'.\\\n",
    "This column is calculated by adding 3 to each value in the 'Ages' column."
   ]
  },
  {
   "cell_type": "code",
   "execution_count": 22,
   "id": "b7ebd87e-1345-4c84-8720-d5b6dc4a7eb1",
   "metadata": {
    "execution": {
     "iopub.execute_input": "2025-06-23T11:29:40.275649Z",
     "iopub.status.busy": "2025-06-23T11:29:40.275206Z",
     "iopub.status.idle": "2025-06-23T11:29:40.280074Z",
     "shell.execute_reply": "2025-06-23T11:29:40.279136Z",
     "shell.execute_reply.started": "2025-06-23T11:29:40.275624Z"
    },
    "tags": [
     "hide-output"
    ]
   },
   "outputs": [],
   "source": [
    "df['Age_in_3_years'] = df['Ages'] + 3"
   ]
  },
  {
   "cell_type": "code",
   "execution_count": 23,
   "id": "9b1c06f7-bf86-4069-934d-4e1bc9ba92c8",
   "metadata": {
    "execution": {
     "iopub.execute_input": "2025-06-23T11:29:40.282399Z",
     "iopub.status.busy": "2025-06-23T11:29:40.282105Z",
     "iopub.status.idle": "2025-06-23T11:29:40.288644Z",
     "shell.execute_reply": "2025-06-23T11:29:40.288100Z",
     "shell.execute_reply.started": "2025-06-23T11:29:40.282380Z"
    },
    "tags": [
     "hide-output"
    ]
   },
   "outputs": [
    {
     "data": {
      "text/html": [
       "<div>\n",
       "<style scoped>\n",
       "    .dataframe tbody tr th:only-of-type {\n",
       "        vertical-align: middle;\n",
       "    }\n",
       "\n",
       "    .dataframe tbody tr th {\n",
       "        vertical-align: top;\n",
       "    }\n",
       "\n",
       "    .dataframe thead th {\n",
       "        text-align: right;\n",
       "    }\n",
       "</style>\n",
       "<table border=\"1\" class=\"dataframe\">\n",
       "  <thead>\n",
       "    <tr style=\"text-align: right;\">\n",
       "      <th></th>\n",
       "      <th>Names</th>\n",
       "      <th>Ages</th>\n",
       "      <th>Sex</th>\n",
       "      <th>Fare</th>\n",
       "      <th>Age_in_3_years</th>\n",
       "    </tr>\n",
       "  </thead>\n",
       "  <tbody>\n",
       "    <tr>\n",
       "      <th>0</th>\n",
       "      <td>Braund</td>\n",
       "      <td>22</td>\n",
       "      <td>male</td>\n",
       "      <td>7.2500</td>\n",
       "      <td>25</td>\n",
       "    </tr>\n",
       "    <tr>\n",
       "      <th>1</th>\n",
       "      <td>Allen</td>\n",
       "      <td>35</td>\n",
       "      <td>male</td>\n",
       "      <td>71.2833</td>\n",
       "      <td>38</td>\n",
       "    </tr>\n",
       "    <tr>\n",
       "      <th>2</th>\n",
       "      <td>Bonnel</td>\n",
       "      <td>58</td>\n",
       "      <td>female</td>\n",
       "      <td>NaN</td>\n",
       "      <td>61</td>\n",
       "    </tr>\n",
       "  </tbody>\n",
       "</table>\n",
       "</div>"
      ],
      "text/plain": [
       "    Names  Ages     Sex     Fare  Age_in_3_years\n",
       "0  Braund    22    male   7.2500              25\n",
       "1   Allen    35    male  71.2833              38\n",
       "2  Bonnel    58  female      NaN              61"
      ]
     },
     "execution_count": 23,
     "metadata": {},
     "output_type": "execute_result"
    }
   ],
   "source": [
    "# Display the updated DataFrame 'df'.\n",
    "\n",
    "df"
   ]
  },
  {
   "cell_type": "markdown",
   "id": "970407f3-7591-4391-a245-0334b3076f32",
   "metadata": {},
   "source": [
    "___"
   ]
  },
  {
   "cell_type": "markdown",
   "id": "c5ffeff7-4321-40b4-97e1-9c4f8f4366b2",
   "metadata": {
    "editable": true,
    "slideshow": {
     "slide_type": ""
    },
    "tags": []
   },
   "source": [
    "## <i class=\"fa-solid fa-pencil\"></i> Exercise"
   ]
  },
  {
   "cell_type": "markdown",
   "id": "78d9f5e8-add3-4749-bb3b-08d064890412",
   "metadata": {
    "editable": true,
    "jp-MarkdownHeadingCollapsed": true,
    "slideshow": {
     "slide_type": ""
    },
    "tags": []
   },
   "source": [
    "Create a new column called 'Fare_in_DKK' based on the column 'Fare'.\n",
    "\n",
    "We assume the old fare prices to be in GBP and the exchange rate to be £1 = 8.7 DKK\n",
    "\n",
    "```{admonition} Solution\n",
    ":class: dropdown\n",
    "\n",
    "    df['Fare_in_DKK'] = df['Fare'] * 8.7\n",
    "\n",
    "This solution creates a new column in the `DataFrame` named 'Fare_in_DKK', which contains the fare prices converted from GBP to DKK using the given exchange rate.<br/>\n",
    "Each fare value in GBP is multiplied by the exchange rate to obtain the corresponding fare value in DKK."
   ]
  },
  {
   "cell_type": "markdown",
   "id": "d99abc29-853b-4f54-9c62-2cf8bee32bbe",
   "metadata": {},
   "source": [
    "___"
   ]
  },
  {
   "cell_type": "markdown",
   "id": "88977f16-e5c9-4afd-a198-0011b48c6a3e",
   "metadata": {},
   "source": [
    "## Key points\n",
    "\n",
    "* Import the library, aka `import pandas as pd`.\n",
    "\n",
    "* A table of data is stored as a pandas `DataFrame`.\n",
    "\n",
    "* The `shape`and `dtypes` attributes are convenient for a first check.\n",
    "\n",
    "* Each column in a `DataFrame` is a `Series`.\n",
    "\n",
    "* We can append `Series` as columns to an existing `DataFrame`."
   ]
  },
  {
   "cell_type": "code",
   "execution_count": null,
   "id": "ab0193a6-7fbb-4bba-aeeb-069c9d48529d",
   "metadata": {
    "tags": [
     "hide-output"
    ]
   },
   "outputs": [],
   "source": []
  }
 ],
 "metadata": {
  "kernelspec": {
   "display_name": "Python 3 (ipykernel)",
   "language": "python",
   "name": "python3"
  },
  "language_info": {
   "codemirror_mode": {
    "name": "ipython",
    "version": 3
   },
   "file_extension": ".py",
   "mimetype": "text/x-python",
   "name": "python",
   "nbconvert_exporter": "python",
   "pygments_lexer": "ipython3",
   "version": "3.13.5"
  }
 },
 "nbformat": 4,
 "nbformat_minor": 5
}
