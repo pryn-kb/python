{
 "cells": [
  {
   "attachments": {},
   "cell_type": "markdown",
   "id": "cb0d73e8-100c-4c98-a28d-7b68e43ff655",
   "metadata": {},
   "source": [
    "# How to read and write tabular data\n",
    "\n",
    "![How to read and write tabular data](images/02_io_readwrite.svg)"
   ]
  },
  {
   "cell_type": "markdown",
   "id": "d40f64c5-0ef3-4184-ae9d-532a75d6dbf9",
   "metadata": {},
   "source": [
    "# Import Pandas"
   ]
  },
  {
   "cell_type": "code",
   "execution_count": null,
   "id": "ca1c87f4-9f4c-4aa1-962e-3c48bc09e0c4",
   "metadata": {},
   "outputs": [],
   "source": [
    "# This line imports the pandas library and aliases it as 'pd'.\n",
    "# Aliasing pandas as 'pd' is a widely adopted convention that simplifies the syntax for accessing its functionalities.\n",
    "# After this statement, you can use 'pd' to access all the functionalities provided by the pandas library.\n",
    "\n",
    "import pandas as pd"
   ]
  },
  {
   "cell_type": "markdown",
   "id": "31bd29b2-85e6-4788-8eb4-9d8d9a4e7a03",
   "metadata": {},
   "source": [
    "# Finding our current working directory"
   ]
  },
  {
   "cell_type": "code",
   "execution_count": null,
   "id": "d6de2a2a-e344-4663-8af9-794463ff0f8f",
   "metadata": {},
   "outputs": [],
   "source": [
    "# The %pwd command is known as a \"magic command\" in Jupyter Notebook.\n",
    "# (You can read more about magic commands here: https://www.geeksforgeeks.org/useful-ipython-magic-commands/)\n",
    "# It is used to display the current working directory (cwd) within the notebook environment.\n",
    "# This is the folder where the Jupyter Notebook is running.\n",
    "# Understanding the current working directory is important for file operations like reading and writing files.\n",
    "\n",
    "%pwd"
   ]
  },
  {
   "cell_type": "markdown",
   "id": "f7dcbe0f-b97c-40b1-9f94-954fed05a3d5",
   "metadata": {},
   "source": [
    "# Creating a `DataFrame` from a csv file"
   ]
  },
  {
   "cell_type": "code",
   "execution_count": null,
   "id": "bdf5cd82-b8ea-42f4-b882-20da7fa07c19",
   "metadata": {},
   "outputs": [],
   "source": [
    "# Load the Titanic dataset from a CSV file into a DataFrame named 'titanic'.\n",
    "# The 'pd.read_csv()' function is used to read the data from the file 'data/titanic.csv'.\n",
    "# The file is located in the 'data' directory, relative to the current working directory.\n",
    "# The resulting DataFrame 'titanic' contains the dataset, ready for analysis and manipulation.\n",
    "\n",
    "titanic = pd.read_csv('data/titanic.csv')"
   ]
  },
  {
   "cell_type": "code",
   "execution_count": null,
   "id": "4143c687-9e55-451f-9ae4-d2d60137234e",
   "metadata": {},
   "outputs": [],
   "source": [
    "# Display the DataFrame 'titanic'.\n",
    "# Note, even though we only see the first and last five rows, we actually read the whole DataFrame into the kernel's memory.\n",
    "# The pressure on memory usage can be alleviated by using the 'head()' method described below.\n",
    "# However, this will only be an issue with very large datasets, so don't worry too much about it for now.\n",
    "# You can find out how much memory a DataFrame uses by using the 'memory_usage()' method:\n",
    "# titanic.memory_usage(deep=True).sum()\n",
    "\n",
    "titanic"
   ]
  },
  {
   "cell_type": "code",
   "execution_count": null,
   "id": "a1caeb59-25ab-417c-9f73-13a5fceb63a4",
   "metadata": {},
   "outputs": [],
   "source": [
    "# Use the 'shape' attribute to determine the dimensions of the DataFrame 'titanic'.\n",
    "# It returns a tuple representing the number of rows and columns (rows, columns).\n",
    "\n",
    "titanic.shape"
   ]
  },
  {
   "cell_type": "code",
   "execution_count": null,
   "id": "dc5e47ac-1549-4cb3-b23c-40ab3a8ea5d8",
   "metadata": {},
   "outputs": [],
   "source": [
    "# Display the first few rows of the 'titanic' DataFrame using the 'head()' method.\n",
    "# This provides a quick overview of the dataset, showing the column names and the first few rows of data.\n",
    "\n",
    "titanic.head()"
   ]
  },
  {
   "cell_type": "code",
   "execution_count": null,
   "id": "ff509c31-ff32-4e4b-aff4-c94b45d1a0c2",
   "metadata": {},
   "outputs": [],
   "source": [
    "# Display the last three rows of the 'titanic' DataFrame using the 'tail()' method and specifying 3 as argument.\n",
    "# This allows us to inspect the end of the dataset, showing the last few rows of data.\n",
    "\n",
    "titanic.tail(3)"
   ]
  },
  {
   "cell_type": "code",
   "execution_count": null,
   "id": "8bc6412b-2573-49ba-b301-0b90210435d6",
   "metadata": {},
   "outputs": [],
   "source": [
    "# Display the first 80 rows of the 'titanic' DataFrame using the 'head()' method.\n",
    "\n",
    "titanic.head(80)"
   ]
  },
  {
   "cell_type": "markdown",
   "id": "0fbff637-5414-44e0-b0b5-d84b23975d95",
   "metadata": {},
   "source": [
    "### Note on `head()` and `tail()`\n",
    "\n",
    "By default, Pandas limits the display of rows in a `DataFrame` to a maximum of 60 rows.\\\n",
    "Calling a number higher than 60 will display the first five rows followed by an ellipsis (`...`), indicating that rows are being skipped, and then display the last five rows of the `DataFrame`.\\\n",
    "To display all rows without truncation, you can set the `max_rows` option to `None` using `pd.set_option()`:\\\n",
    "`pd.set_option('display.max_rows', None)`\n",
    "\n",
    "Likewise, Pandas limits the display of columns in a `DataFrame` to a maximum of 20 columns.\\\n",
    "To display all columns without truncation, you can set the `max_columns` option to `None` using `pd.set_option()`:\\\n",
    "`pd.set_option('display.max_columns', None)`"
   ]
  },
  {
   "cell_type": "code",
   "execution_count": null,
   "id": "dabf2a0e-1149-4a5a-9111-20698ff12e80",
   "metadata": {},
   "outputs": [],
   "source": [
    "# Use the 'dtypes' attribute to view the data types of each column in the 'titanic' DataFrame.\n",
    "# This command provides information about the data type of each column, such as integer, float, or object (string).\n",
    "\n",
    "titanic.dtypes"
   ]
  },
  {
   "cell_type": "code",
   "execution_count": null,
   "id": "939c118e-a2a4-4189-930a-c0578db53177",
   "metadata": {},
   "outputs": [],
   "source": [
    "# Use the 'info()' method to display a concise summary of the 'titanic' DataFrame.\n",
    "# This command provides essential information about the DataFrame, including the number of non-null values in each column,\n",
    "# the data type of each column, and memory usage.\n",
    "\n",
    "titanic.info()"
   ]
  },
  {
   "cell_type": "markdown",
   "id": "909dee77-d644-4a92-8625-112547a95c86",
   "metadata": {},
   "source": [
    "## The `notna()` conditional function returns a `True` for each row where the values are not a `Null` value"
   ]
  },
  {
   "cell_type": "code",
   "execution_count": null,
   "id": "0d7baeb2-63a0-49ba-9644-a7e9a188eae5",
   "metadata": {},
   "outputs": [],
   "source": [
    "# Use the 'notna()' method to create a boolean DataFrame indicating whether each element in 'titanic' is not null.\n",
    "# This command returns a DataFrame of the same shape as 'titanic',\n",
    "# where True indicates a non-null value (i.e., not NaN), and False indicates a null value.\n",
    "\n",
    "titanic.notna()"
   ]
  },
  {
   "cell_type": "code",
   "execution_count": null,
   "id": "431dca56-87c7-45bc-baea-7897655d1064",
   "metadata": {},
   "outputs": [],
   "source": [
    "# Use the 'notna()' method followed by 'sum()' to count the non-null values in each column of the 'titanic' DataFrame.\n",
    "# This command calculates the sum of True values (non-null) along each column axis, providing a count of non-null values for each column.\n",
    "\n",
    "titanic.notna().sum()"
   ]
  },
  {
   "cell_type": "markdown",
   "id": "afaf5b24-fcdd-4bb1-814f-edc480b06bbb",
   "metadata": {},
   "source": [
    "## The `isna()` conditional function returns a `True` for each row where the values are a `Null` value"
   ]
  },
  {
   "cell_type": "code",
   "execution_count": null,
   "id": "c5a50cae-15ca-4674-8038-4c8760f250ae",
   "metadata": {},
   "outputs": [],
   "source": [
    "# Use the 'isna()' method to create a boolean DataFrame indicating whether each element in 'titanic' is null.\n",
    "# This command returns a DataFrame of the same shape as 'titanic', where True indicates a null value,\n",
    "# and False indicates a non-null value.\n",
    "\n",
    "titanic.isna()"
   ]
  },
  {
   "cell_type": "code",
   "execution_count": null,
   "id": "9040a472-d7c8-4b83-a9c5-5fa57989c0dd",
   "metadata": {},
   "outputs": [],
   "source": [
    "# Use the 'isna()' method followed by 'sum()' to count the null values in each column of the 'titanic' DataFrame.\n",
    "# This command calculates the sum of True values (null) along each column axis, providing a count of null values for each column.\n",
    "\n",
    "titanic.isna().sum()"
   ]
  },
  {
   "cell_type": "code",
   "execution_count": null,
   "id": "93b60dfe-3b43-4609-aada-9c24f127878f",
   "metadata": {},
   "outputs": [],
   "source": [
    "# Filter the 'titanic' DataFrame to select rows where the 'PassengerId' column equals 666.\n",
    "# This command returns a subset of the DataFrame containing only the rows where the 'PassengerId' column has a value of 666.\n",
    "\n",
    "titanic[titanic['PassengerId'] == 666]"
   ]
  },
  {
   "cell_type": "markdown",
   "id": "8a3b6ae1-a5ea-4a12-b2f8-1e98b7d6cb48",
   "metadata": {},
   "source": [
    "# Exercise:\n",
    "* Extract the two passengers whose point of departure ('Embarked') is unknown (`NaN`)\n",
    "\n",
    "<details>\n",
    "  <summary>Click to reveal solution</summary>\n",
    "  <br/>\n",
    "    \n",
    "`titanic[titanic['Embarked'].isna()]`\n",
    "\n",
    "This solution uses boolean indexing to filter the `DataFrame` 'titanic', extracting only the rows where the 'Embarked' column contains missing values (`NaN`).\\\n",
    "This approach allows us to identify the passengers whose point of departure is unknown.\n",
    "    \n",
    "</details>"
   ]
  },
  {
   "cell_type": "markdown",
   "id": "07e3f2e2-d988-44ff-ba94-04e1b5f55106",
   "metadata": {},
   "source": [
    "# Converting a DataFrame to an Excel file"
   ]
  },
  {
   "cell_type": "code",
   "execution_count": null,
   "id": "9436c45d-d921-4454-9c51-4970b002dd21",
   "metadata": {},
   "outputs": [],
   "source": [
    "# Write the DataFrame 'titanic' to an Excel file named 'titanic.xlsx'.\n",
    "# The 'to_excel()' method is used to save the DataFrame to an Excel file.\n",
    "# The parameter 'index=False' specifies that we do not want to include the row index in the Excel file.\n",
    "\n",
    "titanic.to_excel('titanic.xlsx', index=False)"
   ]
  },
  {
   "cell_type": "code",
   "execution_count": null,
   "id": "595dd90c-5f35-44bb-bc8a-ea6f8f16b249",
   "metadata": {},
   "outputs": [],
   "source": [
    "# Read data from an Excel file named 'titanic.xlsx' into a DataFrame using the 'read_excel()' function from pandas.\n",
    "# Note, that we are only reading the data, not storing it in a variable.\n",
    "\n",
    "pd.read_excel('titanic.xlsx')"
   ]
  },
  {
   "cell_type": "markdown",
   "id": "7d128204-ae77-4ed9-bbc8-4b93907d4f6a",
   "metadata": {},
   "source": [
    "# REMEMBER\n",
    "\n",
    "* Getting data in to pandas from many different file formats or data sources is supported by `read_*` functions.\n",
    "\n",
    "* The `head()`, `tail()`, and `info()` methods are convenient for a first check.\n",
    "\n",
    "* The `notna()` and `isna()` methods are useful for finding and isolating missing data.\n",
    "\n",
    "* Exporting data out of pandas is provided by different `to_*` methods."
   ]
  }
 ],
 "metadata": {
  "kernelspec": {
   "display_name": "Python 3 (ipykernel)",
   "language": "python",
   "name": "python3"
  },
  "language_info": {
   "codemirror_mode": {
    "name": "ipython",
    "version": 3
   },
   "file_extension": ".py",
   "mimetype": "text/x-python",
   "name": "python",
   "nbconvert_exporter": "python",
   "pygments_lexer": "ipython3",
   "version": "3.11.5"
  }
 },
 "nbformat": 4,
 "nbformat_minor": 5
}
