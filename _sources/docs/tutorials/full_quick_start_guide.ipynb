{
  "cells": [
    {
      "cell_type": "markdown",
      "metadata": {},
      "source": [
        "# Quick start guide\n",
        "\n",
        "This tutorial covers some basic usage patterns and best practices to help you get started with Matplotlib.\n",
        "\n",
        "Matplotlib is a versatile library for creating static, animated, and interactive visualizations in Python."
      ]
    },
    {
      "cell_type": "code",
      "execution_count": null,
      "metadata": {},
      "outputs": [],
      "source": [
        "import matplotlib.pyplot as plt\n",
        "import numpy as np"
      ]
    },
    {
      "cell_type": "markdown",
      "metadata": {},
      "source": [
        "## A simple example\n",
        "\n",
        "Matplotlib graphs your data on [Figure](https://matplotlib.org/stable/api/figure_api.html#matplotlib.figure.Figure)s, each containing one or more [Axes](https://matplotlib.org/stable/api/axes_api.html#matplotlib.axes.Axes), where data is plotted."
      ]
    },
    {
      "cell_type": "code",
      "execution_count": null,
      "metadata": {},
      "outputs": [],
      "source": [
        "fig, ax = plt.subplots()  # Create a figure containing a single Axes.\n",
        "ax.plot([1, 2, 3, 4], [1, 4, 2, 3])  # Plot some data on the Axes.\n",
        "plt.show()"
      ]
    },
    {
      "cell_type": "markdown",
      "metadata": {},
      "source": [
        "## Parts of a Figure\n",
        "\n",
        "Here are the components of a Matplotlib Figure:\n",
        "\n",
        "- The **Figure** keeps track of all the child [Axes](https://matplotlib.org/stable/api/axes_api.html).\n",
        "- An **Axes** is a region where data is plotted. Each `Axes` has an x-label, y-label, and title."
      ]
    },
    {
      "cell_type": "markdown",
      "metadata": {},
      "source": [
        "## Types of inputs to plotting functions\n",
        "\n",
        "Matplotlib plotting functions expect `numpy.array` or objects that can be converted to `numpy.asarray`.\n",
        "For example, to convert a `numpy.matrix`:"
      ]
    },
    {
      "cell_type": "code",
      "execution_count": null,
      "metadata": {},
      "outputs": [],
      "source": [
        "b = np.matrix([[1, 2], [3, 4]])\n",
        "b_asarray = np.asarray(b)\n",
        "b_asarray"
      ]
    },
    {
      "cell_type": "markdown",
      "metadata": {},
      "source": [
        "## Coding styles\n",
        "\n",
        "Matplotlib supports both the object-oriented (OO) style and the pyplot style.\n",
        "See the [Matplotlib documentation](https://matplotlib.org/stable/tutorials/introductory/usage.html) for more details."
      ]
    },
    {
      "cell_type": "code",
      "execution_count": null,
      "metadata": {},
      "outputs": [],
      "source": [
        "x = np.linspace(0, 2, 100)\n",
        "fig, ax = plt.subplots()\n",
        "ax.plot(x, x, label='linear')\n",
        "ax.plot(x, x**2, label='quadratic')\n",
        "ax.plot(x, x**3, label='cubic')\n",
        "ax.set_xlabel('x label')\n",
        "ax.set_ylabel('y label')\n",
        "ax.set_title('Simple Plot')\n",
        "ax.legend()\n",
        "plt.show()"
      ]
    },
    {
      "cell_type": "code",
      "execution_count": null,
      "metadata": {},
      "outputs": [],
      "source": [
        "x = np.linspace(0, 2, 100)\n",
        "plt.figure()\n",
        "plt.plot(x, x, label='linear')\n",
        "plt.plot(x, x**2, label='quadratic')\n",
        "plt.plot(x, x**3, label='cubic')\n",
        "plt.xlabel('x label')\n",
        "plt.ylabel('y label')\n",
        "plt.title('Simple Plot')\n",
        "plt.legend()\n",
        "plt.show()"
      ]
    },
    {
      "cell_type": "markdown",
      "metadata": {},
      "source": [
        "## Styling Artists\n",
        "\n",
        "Most plotting methods have styling options for the Artists, accessible either when a plotting method is called or from a \"setter\" on the Artist."
      ]
    },
    {
      "cell_type": "code",
      "execution_count": null,
      "metadata": {},
      "outputs": [],
      "source": [
        "fig, ax = plt.subplots()\n",
        "x = np.arange(0, 10, 0.1)\n",
        "y = np.sin(x)\n",
        "ax.plot(x, y, color='blue', linewidth=2, linestyle='--')\n",
        "plt.show()"
      ]
    },
    {
      "cell_type": "markdown",
      "metadata": {},
      "source": [
        "## Working with multiple Figures and Axes\n",
        "\n",
        "You can open multiple Figures with multiple calls to `fig = plt.figure()` or `fig, ax = plt.subplots()`."
      ]
    },
    {
      "cell_type": "code",
      "execution_count": null,
      "metadata": {},
      "outputs": [],
      "source": [
        "fig, ax = plt.subplots()\n",
        "x = np.linspace(0, 2 * np.pi, 400)\n",
        "y = np.sin(x ** 2)\n",
        "ax.plot(x, y)\n",
        "ax.set_title('Simple Sine Wave')\n",
        "plt.show()"
      ]
    },
    {
      "cell_type": "markdown",
      "metadata": {},
      "source": [
        "## Using mathematical expressions in text\n",
        "\n",
        "Matplotlib accepts TeX equation expressions in any text expression. For example, to write the expression $\\sigma_i=15$ in the title:"
      ]
    },
    {
      "cell_type": "code",
      "execution_count": null,
      "metadata": {},
      "outputs": [],
      "source": [
        "fig, ax = plt.subplots()\n",
        "ax.set_title(r'$\\sigma_i=15$')\n",
        "ax.plot([1, 2, 3], [1, 4, 2])\n",
        "plt.show()"
      ]
    }
  ],
  "metadata": {
    "kernelspec": {
      "display_name": "Python 3",
      "language": "python",
      "name": "python3"
    },
    "language_info": {
      "name": "python",
      "version": "3.x"
    }
  },
  "nbformat": 4,
  "nbformat_minor": 2
}