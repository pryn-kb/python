{
 "cells": [
  {
   "cell_type": "markdown",
   "id": "0261468c-33b2-4ab0-8923-476c73ffa11b",
   "metadata": {},
   "source": [
    "# List of Tutorials"
   ]
  },
  {
   "cell_type": "markdown",
   "id": "bcdd9232-80a3-4fad-97a5-6bade5f4b791",
   "metadata": {},
   "source": [
    "There are many great tutorials for various Python libraries, but the selection can sometimes feel overwhelming.\n",
    "\n",
    "To help you get started, we have gathered a few that we consider to be good introductions to libraries that we personally find useful."
   ]
  },
  {
   "cell_type": "markdown",
   "id": "7b862275-b608-4f2f-b16d-4c8f51382807",
   "metadata": {},
   "source": [
    "## Math\n",
    "\n",
    "The math module in Python offers functions for basic mathematical operations, such as trigonometry, logarithms, and constants like *pi* and *e*. It is good for simple calculations without the need for more complex libraries like NumPy.\n",
    "\n",
    "* [**Math** : Python Math Module](https://www.geeksforgeeks.org/python-math-module/)"
   ]
  },
  {
   "cell_type": "markdown",
   "id": "124d06c1-cf86-4c34-b687-a462700577ba",
   "metadata": {},
   "source": [
    "## Matplotlib\n",
    "\n",
    "Matplotlib is a Python library for creating a wide range of static, animated, and interactive plots. It is great for generating visualisations like line charts, scatter plots, and histograms.\n",
    "\n",
    "* [**Matplotlib** : Quick Start Guide](https://matplotlib.org/stable/users/explain/quick_start.html)"
   ]
  },
  {
   "cell_type": "markdown",
   "id": "df5b70c2-af15-4c66-9f6d-d11ff9376a26",
   "metadata": {},
   "source": [
    "## Numpy\n",
    "\n",
    "NumPy is a fundamental Python library for numerical computing, providing support for large, multi-dimensional arrays and matrices, along with a wide range of mathematical functions to perform operations on these arrays efficiently.\n",
    "\n",
    "* [**NumPy** : The Absolute Basics for Beginners](https://numpy.org/doc/stable/user/absolute_beginners.html)"
   ]
  },
  {
   "cell_type": "markdown",
   "id": "d14eeb0f-27bb-4199-8493-588c5d4b655f",
   "metadata": {},
   "source": [
    "## Pandas\n",
    "\n",
    "Pandas is a Python library for data manipulation and analysis. It provides easy-to-use data structures like DataFrames and Series, making it ideal for handling and analysing structured data.\n",
    "\n",
    "* [**Pandas** : Getting Started Tutorials](https://pandas.pydata.org/docs/getting_started/intro_tutorials/index.html)"
   ]
  },
  {
   "cell_type": "markdown",
   "id": "2309e859-835b-417f-9a47-22dd250f19f8",
   "metadata": {},
   "source": [
    "## Scikit-Learn\n",
    "\n",
    "A bit more advanced but essential for machine learning in Python, Scikit-Learn provides simple and efficient tools for data mining and analysis, including classification, regression, and clustering algorithms.\n",
    "\n",
    "* [**Scikit-Learn** : User Guide](https://scikit-learn.org/stable/user_guide.html)"
   ]
  },
  {
   "cell_type": "markdown",
   "id": "5a06679b-775b-4373-8f62-e78a5c6d979d",
   "metadata": {},
   "source": [
    "## SciPy\n",
    "\n",
    "Built on top of NumPy, SciPy is used for scientific and technical computing. It includes modules for optimisation, integration, interpolation, and other advanced mathematical functions.\n",
    "\n",
    "* [**SciPy** : User Guide](https://docs.scipy.org/doc/scipy/tutorial/index.html)"
   ]
  },
  {
   "cell_type": "markdown",
   "id": "1be97856-cc29-4bec-8b7d-5fd211037657",
   "metadata": {},
   "source": [
    "## Seaborn\n",
    "\n",
    "Built on top of Matplotlib and closely integrated with Pandas data structures, Seaborn simplifies the process of creating visually appealing and complex statistical plots. It is especially great for heatmaps, pair plots, and violin plots.\n",
    "\n",
    "* [**Seaborn** : An Introduction to Seaborn](https://seaborn.pydata.org/tutorial/introduction.html)"
   ]
  },
  {
   "cell_type": "markdown",
   "id": "51846f49-446d-464d-a079-d76d64ebedaf",
   "metadata": {},
   "source": [
    "## Vega-Altair\n",
    "\n",
    "Vega-Altair is a library for creating interactive and statistical visualisations. Vega-Altair enables users to create complex charts with concise, declarative syntax. It is especially well-suited for exploratory data analysis and visualising data directly from Pandas DataFrames, offering a wide range of chart types and easy interactivity.\n",
    "\n",
    "* [**Vega-Altair** : User Guide](https://altair-viz.github.io/user_guide/data.html)"
   ]
  },
  {
   "cell_type": "code",
   "execution_count": null,
   "id": "b12cafe3-0f56-4744-9019-5b1c7117c4c0",
   "metadata": {},
   "outputs": [],
   "source": []
  }
 ],
 "metadata": {
  "kernelspec": {
   "display_name": "Python 3 (ipykernel)",
   "language": "python",
   "name": "python3"
  },
  "language_info": {
   "codemirror_mode": {
    "name": "ipython",
    "version": 3
   },
   "file_extension": ".py",
   "mimetype": "text/x-python",
   "name": "python",
   "nbconvert_exporter": "python",
   "pygments_lexer": "ipython3",
   "version": "3.12.5"
  }
 },
 "nbformat": 4,
 "nbformat_minor": 5
}
