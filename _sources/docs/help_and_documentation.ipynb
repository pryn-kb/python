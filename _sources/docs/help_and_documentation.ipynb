{
 "cells": [
  {
   "cell_type": "markdown",
   "id": "c4a47d63-42e1-4f78-9900-9ba38ae55b44",
   "metadata": {},
   "source": [
    "# Help and documentation"
   ]
  },
  {
   "cell_type": "markdown",
   "id": "be4354ef-66ca-45aa-8205-8628eaaab46b",
   "metadata": {},
   "source": [
    "## Official Python Documentation\n",
    "*   Python's official website is the primary resource for all things related to the Python programming language.\n",
    "*   <a href=\"https://www.python.org/\" target=\"_blank\"><b>https://www.python.org/</b></a>"
   ]
  },
  {
   "cell_type": "markdown",
   "id": "ea2eb8f1-d0a5-41f8-86a8-c6a948a1b2fa",
   "metadata": {},
   "source": [
    "## W3Schools\n",
    "*   W3Schools is a popular online platform for learning web development technologies.\n",
    "*   <a href=\"https://www.w3schools.com/python/\" target=\"_blank\"><b>https://www.w3schools.com/python/</b></a>"
   ]
  },
  {
   "cell_type": "markdown",
   "id": "8396874e-9f70-4d02-b1f7-81789fe30710",
   "metadata": {},
   "source": [
    "## GeeksforGeeks\n",
    "*   GeeksforGeeks is a comprehensive platform for computer science and programming resources.\n",
    "*   <a href=\"https://www.geeksforgeeks.org/python-programming-language/\" target=\"_blank\"><b>https://www.geeksforgeeks.org/python-programming-language/</b></a>"
   ]
  }
 ],
 "metadata": {
  "kernelspec": {
   "display_name": "Python 3 (ipykernel)",
   "language": "python",
   "name": "python3"
  },
  "language_info": {
   "codemirror_mode": {
    "name": "ipython",
    "version": 3
   },
   "file_extension": ".py",
   "mimetype": "text/x-python",
   "name": "python",
   "nbconvert_exporter": "python",
   "pygments_lexer": "ipython3",
   "version": "3.11.5"
  }
 },
 "nbformat": 4,
 "nbformat_minor": 5
}
