{
 "cells": [
  {
   "cell_type": "markdown",
   "id": "3f232c4b-d0f8-43f4-a714-6314567c6ea9",
   "metadata": {},
   "source": [
    "# Get Started with JupyterLab"
   ]
  },
  {
   "cell_type": "markdown",
   "id": "395141cf-507a-435d-9e0e-74761ef405cc",
   "metadata": {},
   "source": [
    "This resource is designed to help you navigate and make the most of JupyterLab, whether you're just getting started or looking to enhance your workflow.\n",
    "\n",
    "In the \"Open and Navigate JupyterLab\" section, you'll find essential tips on opening files, managing your workspace, and saving your work effectively.\n",
    "\n",
    "The \"Code in JupyterLab\" section provides a deeper dive into running code cells, understanding the different modes, and efficiently organizing your notebook through creating, deleting, and moving cells. You’ll also learn about useful features like auto-closing brackets and managing kernels.\n",
    "\n",
    "For more in-depth information, visit the official [JupyterLab User Guide](https://jupyterlab.readthedocs.io/en/stable/user/)."
   ]
  },
  {
   "cell_type": "markdown",
   "id": "6dfc9e75-bcb8-4acf-8743-56524545133d",
   "metadata": {},
   "source": [
    "```{tableofcontents}\n",
    "```"
   ]
  },
  {
   "cell_type": "code",
   "execution_count": null,
   "id": "d0c21bf5-665d-48e2-99a3-24afbe0c4105",
   "metadata": {},
   "outputs": [],
   "source": []
  }
 ],
 "metadata": {
  "kernelspec": {
   "display_name": "Python 3 (ipykernel)",
   "language": "python",
   "name": "python3"
  },
  "language_info": {
   "codemirror_mode": {
    "name": "ipython",
    "version": 3
   },
   "file_extension": ".py",
   "mimetype": "text/x-python",
   "name": "python",
   "nbconvert_exporter": "python",
   "pygments_lexer": "ipython3",
   "version": "3.12.5"
  }
 },
 "nbformat": 4,
 "nbformat_minor": 5
}
