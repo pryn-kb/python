{
 "cells": [
  {
   "cell_type": "markdown",
   "id": "3f232c4b-d0f8-43f4-a714-6314567c6ea9",
   "metadata": {},
   "source": [
    "# Get Started with JupyterLab"
   ]
  },
  {
   "cell_type": "markdown",
   "id": "395141cf-507a-435d-9e0e-74761ef405cc",
   "metadata": {},
   "source": [
    "This resource is designed to help you navigate and make the most of JupyterLab, whether you are just getting started or looking to enhance your workflow.\n",
    "\n",
    "In the \"Open and Navigate JupyterLab\" section, you will find essential tips on opening files, managing your workspace, and saving your work effectively.\n",
    "\n",
    "The \"Code in JupyterLab\" section provides a deeper dive into running code cells, understanding the different modes, and efficiently organizing your notebook through creating, deleting, and moving cells. You will also learn about useful features like auto-closing brackets and managing kernels.\n",
    "\n",
    "For more in-depth information, visit the official [JupyterLab User Guide](https://jupyterlab.readthedocs.io/en/stable/user/)."
   ]
  },
  {
   "cell_type": "markdown",
   "id": "2c70b799-4ec4-4340-a35d-9cc24fee6e45",
   "metadata": {},
   "source": [
    "___"
   ]
  },
  {
   "cell_type": "markdown",
   "id": "6dfc9e75-bcb8-4acf-8743-56524545133d",
   "metadata": {},
   "source": [
    "## Content"
   ]
  },
  {
   "cell_type": "markdown",
   "id": "1add4ec4-068f-431b-a18d-1a8377de76bd",
   "metadata": {},
   "source": [
    "```{tableofcontents}\n",
    "```"
   ]
  },
  {
   "cell_type": "code",
   "execution_count": null,
   "id": "fcce8cb9-7b5e-42d6-84fc-c37d5bfe7c16",
   "metadata": {
    "tags": [
     "hide-output"
    ]
   },
   "outputs": [],
   "source": []
  }
 ],
 "metadata": {
  "kernelspec": {
   "display_name": "Python 3 (ipykernel)",
   "language": "python",
   "name": "python3"
  },
  "language_info": {
   "codemirror_mode": {
    "name": "ipython",
    "version": 3
   },
   "file_extension": ".py",
   "mimetype": "text/x-python",
   "name": "python",
   "nbconvert_exporter": "python",
   "pygments_lexer": "ipython3",
   "version": "3.12.5"
  }
 },
 "nbformat": 4,
 "nbformat_minor": 5
}
