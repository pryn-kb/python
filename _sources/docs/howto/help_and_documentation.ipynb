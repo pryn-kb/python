{
 "cells": [
  {
   "cell_type": "markdown",
   "id": "c4a47d63-42e1-4f78-9900-9ba38ae55b44",
   "metadata": {
    "editable": true,
    "slideshow": {
     "slide_type": ""
    },
    "tags": []
   },
   "source": [
    "# Get Help and Find Documentation"
   ]
  },
  {
   "cell_type": "markdown",
   "id": "cc1131ab-8390-48f7-aee4-c0d33e5effea",
   "metadata": {
    "editable": true,
    "slideshow": {
     "slide_type": ""
    },
    "tags": []
   },
   "source": [
    "There are many places to find help and documentation when you are learning how to code in python.\n",
    "\n",
    "Here are some recommended resources - and remember, a quick search on Google, Stack Overflow, or other forums can often solve the problems you run into."
   ]
  },
  {
   "cell_type": "markdown",
   "id": "3a4b363e-a42a-496b-8fbf-4d8402ffab2e",
   "metadata": {},
   "source": [
    "___"
   ]
  },
  {
   "cell_type": "markdown",
   "id": "8396874e-9f70-4d02-b1f7-81789fe30710",
   "metadata": {
    "editable": true,
    "slideshow": {
     "slide_type": ""
    },
    "tags": []
   },
   "source": [
    "### GeeksforGeeks\n",
    "[GeeksforGeeks](https://www.geeksforgeeks.org/python-programming-language/) is a platform for computer science and programming resources."
   ]
  },
  {
   "cell_type": "markdown",
   "id": "2782e2fb-680d-41a7-9b96-18f3293cb1b8",
   "metadata": {
    "tags": [
     "hide-output"
    ]
   },
   "source": [
    "### Learn By Example\n",
    "[Learn By Example](https://www.learnbyexample.org/python/) is a reference for core Python, including explanations of built-in functions and methods.\\\n",
    "**\"Reject all\"** cookies under **\"Settings\"** to avoid ads."
   ]
  },
  {
   "cell_type": "markdown",
   "id": "a008173c-e098-472f-8aa9-d2b05f73652f",
   "metadata": {
    "editable": true,
    "slideshow": {
     "slide_type": ""
    },
    "tags": []
   },
   "source": [
    "### Pandas documentation (*Official*)\n",
    "[The official Pandas website](https://pandas.pydata.org/docs/index.html) has comprehensive documentation for the Pandas library. "
   ]
  },
  {
   "cell_type": "markdown",
   "id": "be4354ef-66ca-45aa-8205-8628eaaab46b",
   "metadata": {
    "editable": true,
    "slideshow": {
     "slide_type": ""
    },
    "tags": []
   },
   "source": [
    "### Python Documentation (*Official*)\n",
    "[The official Python website](https://www.python.org/) is the primary resource for all things related to the Python programming language."
   ]
  },
  {
   "cell_type": "markdown",
   "id": "ea2eb8f1-d0a5-41f8-86a8-c6a948a1b2fa",
   "metadata": {
    "editable": true,
    "slideshow": {
     "slide_type": ""
    },
    "tags": []
   },
   "source": [
    "### W3Schools\n",
    "[W3Schools](https://www.w3schools.com/python/) is a popular online platform for learning web development technologies."
   ]
  },
  {
   "cell_type": "code",
   "execution_count": null,
   "id": "5253aaa4-615d-40a3-91f4-69a646af514d",
   "metadata": {},
   "outputs": [],
   "source": []
  }
 ],
 "metadata": {
  "kernelspec": {
   "display_name": "Python 3 (ipykernel)",
   "language": "python",
   "name": "python3"
  },
  "language_info": {
   "codemirror_mode": {
    "name": "ipython",
    "version": 3
   },
   "file_extension": ".py",
   "mimetype": "text/x-python",
   "name": "python",
   "nbconvert_exporter": "python",
   "pygments_lexer": "ipython3",
   "version": "3.13.5"
  }
 },
 "nbformat": 4,
 "nbformat_minor": 5
}
