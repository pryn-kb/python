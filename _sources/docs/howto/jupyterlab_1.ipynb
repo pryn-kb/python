{
 "cells": [
  {
   "cell_type": "markdown",
   "id": "3c403798-1edc-4a2a-8bb4-c2fdc8d0497b",
   "metadata": {},
   "source": [
    "# Open and Navigate JupyterLab"
   ]
  },
  {
   "cell_type": "markdown",
   "id": "3249e6a2-cae7-43d7-b428-17ec5c7adfd6",
   "metadata": {},
   "source": [
    "This guide provides step-by-step instructions for opening and navigating JupyterLab on both macOS and Windows, and how to efficiently navigate the file and directory system within JupyterLab, create and organize files, upload documents, and access important features like the terminal.\n",
    "\n",
    "Additionally, the guide covers how to save your work effectively, including the use of JupyterLab’s autosave feature and manual checkpoints, ensuring that your progress is always secure."
   ]
  },
  {
   "cell_type": "markdown",
   "id": "3d26a938-0498-4aff-9ba1-74d7390544e7",
   "metadata": {},
   "source": [
    "___"
   ]
  },
  {
   "cell_type": "markdown",
   "id": "5c4fc7ab-d977-46b0-8ac2-8a6e4b2cef78",
   "metadata": {},
   "source": [
    "## <i class=\"fab fa-apple\" aria-hidden=\"true\"></i> For macOS users\n",
    "\n",
    "### Step 1: Open JupyterLab\n",
    "\n",
    "#### Using the Terminal\n",
    "* **Open Terminal**\n",
    "   You can find Terminal by using Spotlight Search (press `Cmd + Space` and type \"Terminal\") or by navigating to **Applications → Utilities → Terminal**.\n",
    "\n",
    "* If you want to start JupyterLab in a specific directory, use the `cd` command to navigate there. For example:\n",
    "\n",
    "```bash\n",
    "cd path/to/your/project\n",
    "```\n",
    "    \n",
    "If you are unsure of the path, you can drag the folder directly into the Terminal window, and it will automatically input the correct path.\n",
    "\n",
    "```{admonition} Using Finder(Alternative Method)\n",
    ":class: tip dropdown\n",
    "Navigate to the folder where you want to start JupyterLab.\n",
    "\n",
    "Open Terminal from Finder:\n",
    "- Right-click on the folder while holding the `Control` key (or use a two-finger tap on a trackpad) and select \"New Terminal at Folder\".\n",
    "\n",
    "If you do not see this option, you might need to enable the \"New Terminal at Folder\" service. To do this:\n",
    "\n",
    "  - Go to **<i class=\"fab fa-apple\" aria-hidden=\"true\"></i> → System Settings... → Keyboard → Keyboard Shortcuts... → Services**.\n",
    "  - Check the box next to \"New Terminal at Folder\" under the \"Files and Folders\" section.\n",
    "```\n",
    "\n",
    "#### Starting JupyterLab:\n",
    "In Terminal, type the following command and press `Enter`:\n",
    "\n",
    " ```bash\n",
    "jupyter lab\n",
    " ```\n",
    "JupyterLab will open in your default web browser. If it does not, copy the URL provided in the Terminal and paste it into your browser.\n",
    "\n",
    "### Step 2: Navigate the File/Directory System\n",
    "\n",
    "**File Browser**:\n",
    "   - On the left sidebar of JupyterLab, you will see the **File Browser**. This shows the directory contents of the folder where JupyterLab was started.\n",
    "   - You can open folders by clicking on them. Files (e.g., notebooks, Python scripts) can be opened by clicking on them.\n",
    "\n",
    "**Create new files and folders**:\n",
    "   - To create a new file or folder, right-click anywhere in the File Browser and select \"New Folder\" or \"New File\". You can also click the `+` icon at the top of the File Browser.\n",
    "\n",
    "**Upload files**:\n",
    "   - You can drag and drop files from your Finder directly into the File Browser in JupyterLab.\n",
    "\n",
    "**Navigate between folders**:\n",
    "   - Use the arrows next to folders to expand and collapse them.\n",
    "   - You can also use the breadcrumbs at the top of the File Browser to navigate back to parent directories.\n"
   ]
  },
  {
   "cell_type": "markdown",
   "id": "c9a091b6-c1d4-49a2-a40d-5be8f6a6599c",
   "metadata": {},
   "source": [
    "___"
   ]
  },
  {
   "cell_type": "markdown",
   "id": "e84b576a-9d42-4447-9da5-6fd18722fd03",
   "metadata": {},
   "source": [
    "## <i class=\"fab fa-windows\" aria-hidden=\"true\"></i> For Windows users\n",
    "\n",
    "### Step 1: Open JupyterLab\n",
    "\n",
    "#### Using Command Prompt:\n",
    "* **Open Command Prompt**\n",
    "  You can find it by searching \"cmd\" in the Start menu.\n",
    "\n",
    "* **Navigate to your project directory** (Optional)\n",
    "  Use the `cd` command to navigate to your desired directory. For example:\n",
    "\n",
    "  \n",
    "```bash\n",
    "cd C:\\path\\to\\your\\project\n",
    "```\n",
    "\n",
    "```{admonition} Using File Explorer(Alternative Method)\n",
    ":class: tip dropdown\n",
    "Navigate to the folder where you want to start JupyterLab.\n",
    "Open Command Prompt from File Explorer:\n",
    "- Right-click on the folder while holding the `Shift` key and select \"Open command window here\" or \"Open PowerShell window here\". This depends on your Windows version.\n",
    "- On newer versions of Windows 10 and 11, this option might be replaced with \"Open in Terminal\".\n",
    "```\n",
    "\n",
    "#### Starting JupyterLab:\n",
    "In the Command Prompt, PowerShell, or Terminal window that opens, type the following command and press `Enter`:\n",
    "\n",
    "```bash\n",
    " jupyter lab\n",
    "```\n",
    "\n",
    "JupyterLab will open in your default web browser. If it does not, copy the URL provided in the command prompt and paste it into your browser.\n",
    "\n",
    "### Step 2: Navigate the File/Directory System\n",
    "\n",
    "**File Browser**:\n",
    "   - On the left sidebar of JupyterLab, you will see the **File Browser**. This displays the contents of the directory where JupyterLab was started.\n",
    "   - Click on folders to open them and view their contents. Click on files (e.g., notebooks, Python scripts) to open them in JupyterLab.\n",
    "\n",
    "**Create new files and folders**:\n",
    "   - Right-click in the File Browser to create a new file or folder. Alternatively, click the `+` icon at the top of the File Browser.\n",
    "\n",
    "**Upload files**:\n",
    "   - Drag and drop files from File Explorer directly into the JupyterLab File Browser.\n",
    "\n",
    "**Navigate between folders**:\n",
    "   - Use the arrows next to folders to expand and collapse them.\n",
    "   - The breadcrumbs at the top of the File Browser allow you to navigate back to parent directories."
   ]
  },
  {
   "cell_type": "markdown",
   "id": "077434d2-b4c0-404c-bf17-cd687a8fee41",
   "metadata": {},
   "source": [
    "___"
   ]
  },
  {
   "cell_type": "markdown",
   "id": "030487df-aa1b-4ebf-99c8-780e92d1d4a2",
   "metadata": {},
   "source": [
    "## <i class=\"fab fa-apple\" aria-hidden=\"true\"></i> <i class=\"fab fa-windows\" aria-hidden=\"true\"></i> Common tips: Opening, renaming, and closing notebooks\n",
    "\n",
    "- **Opening files**: Double-click on any file in the File Browser to open it. Jupyter Notebooks will open in a new tab, and text files, Python scripts, and other file types will open in their respective editors.\n",
    "\n",
    "\n",
    "  \n",
    "- **Renaming files and folders**: Right-click on a file or folder in the File Browser and select \"Rename\" to change its name.\n",
    "\n",
    "\n",
    "\n",
    "- **Saving and reverting notebooks**:\n",
    "\n",
    "    - **Manual save**: You can manually save your notebook at any time by clicking the save icon <i class=\"fas fa-save\" aria-hidden=\"true\"></i> in the toolbar or by pressing `Ctrl + S` (Windows) or `Cmd + S` (macOS). (This will automatically create a Checkpoint. See \"Creating Checkpoints\" and \"Reverting to Checkpoints\" further down.)\n",
    "\n",
    "    - **Autosave**: Jupyter Notebooks come with an autosave feature that saves your work automatically at regular intervals. By default, this happens every 120 seconds (2 minutes). You can adjust the autosave interval by modifying the notebook settings if needed.\n",
    "\n",
    "    - **Check autosave**: To see when the notebook was last saved, you can check the **File Browser** in JupyterLab. The last modified time is displayed next to the notebook's name, indicating how long ago the last save occurred. This reflects the most recent autosave or manual save.\n",
    "\n",
    "    - **Create checkpoint**: In JupyterLab, a single checkpoint is automatically created each time you manually save the notebook. You can manually save your notebook by clicking the save icon <i class=\"fas fa-save\" aria-hidden=\"true\"></i> in the toolbar, by pressing `Ctrl + S` (Windows) or `Cmd + S` (macOS), or by selecting \"Save Notebook\" from the File menu.\n",
    "\n",
    "    - **Revert notebook to checkpoint**: If you need to revert to the last manually saved state of your notebook, you can do so by selecting \"Revert Notebook to Checkpoint\" in the File menu. This allows you to go back to the state of the notebook at the last manual save, effectively undoing changes made by any subsequent autosaves. However, JupyterLab only maintains the most recent checkpoint, so you cannot revert to multiple earlier states.\n",
    " \n",
    "\n",
    "\n",
    "- **Terminal in JupyterLab**: You can open a Terminal within JupyterLab by clicking on the terminal icon in the Launcher (the tab with the `+` icon). This can be useful for running additional commands directly from within JupyterLab.\n",
    "\n",
    "\n",
    "\n",
    "- **Shutting down JupyterLab**: To stop the JupyterLab server, go back to your Terminal, Command Prompt, or PowerShell window where JupyterLab was started, and press `Ctrl + C`. Confirm the shutdown if prompted."
   ]
  },
  {
   "cell_type": "code",
   "execution_count": null,
   "id": "bec5a9e1-c9f7-40a1-b50d-7e439e35e577",
   "metadata": {
    "tags": [
     "hide-output"
    ]
   },
   "outputs": [],
   "source": []
  }
 ],
 "metadata": {
  "kernelspec": {
   "display_name": "Python 3 (ipykernel)",
   "language": "python",
   "name": "python3"
  },
  "language_info": {
   "codemirror_mode": {
    "name": "ipython",
    "version": 3
   },
   "file_extension": ".py",
   "mimetype": "text/x-python",
   "name": "python",
   "nbconvert_exporter": "python",
   "pygments_lexer": "ipython3",
   "version": "3.11.4"
  }
 },
 "nbformat": 4,
 "nbformat_minor": 5
}
