{
 "cells": [
  {
   "cell_type": "markdown",
   "id": "6bee8d8b-e83f-4db1-b6bc-93fa9f428c27",
   "metadata": {},
   "source": [
    "# Sign Up for a Course"
   ]
  },
  {
   "cell_type": "markdown",
   "id": "933d82c7-0500-4b85-8d8b-d55992e5d1ec",
   "metadata": {},
   "source": [
    "Our courses are open to students at the University of Copenhagen.\\\n",
    "If you wish to sign up for a course, you can find them in the [KUB calendar](https://kubkalender.kb.dk/calendar/datalab). "
   ]
  },
  {
   "cell_type": "markdown",
   "id": "bcd92ae5-2fcb-4851-9b36-52f9179fcc35",
   "metadata": {},
   "source": [
    "## Before you attend a course "
   ]
  },
  {
   "cell_type": "markdown",
   "id": "ca88f1bd-855e-4ffc-bc39-32f7979ba523",
   "metadata": {},
   "source": [
    "There is one thing you need to do before attending our course, besides signing up: set up Python on your computer.\\\n",
    "There are several ways of doing this, some simple and some requiring a bit more work.\n",
    "\n",
    "We have gathered our recommended methods for getting Python running on the page [Install and Run Python](setup)."
   ]
  },
  {
   "cell_type": "markdown",
   "id": "29f2176c",
   "metadata": {},
   "source": [
    "___"
   ]
  },
  {
   "cell_type": "markdown",
   "id": "ee4625e5-f195-437e-a2e2-f601eb0998e2",
   "metadata": {},
   "source": [
    "## Are you in doubt about which course to sign up for?"
   ]
  },
  {
   "cell_type": "markdown",
   "id": "b27b1b3b-ee16-4859-a307-b61e266d5106",
   "metadata": {},
   "source": [
    "Our \"Python for Absolute Beginners\" courses, Part 1 and Part 2, are foundational courses designed to provide you with the basics needed to start working with Python.\\\n",
    "If you already have some knowledge of Python, you are welcome to begin with Part 2.\n",
    "\n",
    "In our other courses, e.g., Python and Pandas, we expect you to have an understanding of how Python works, so we can focus on data analysis using the Pandas library. This necessary understanding can be gained in \"Python for Absolute Beginners,\" Part 1 and Part 2."
   ]
  },
  {
   "cell_type": "markdown",
   "id": "027cbc7b",
   "metadata": {},
   "source": []
  }
 ],
 "metadata": {
  "kernelspec": {
   "display_name": "Python 3 (ipykernel)",
   "language": "python",
   "name": "python3"
  },
  "language_info": {
   "codemirror_mode": {
    "name": "ipython",
    "version": 3
   },
   "file_extension": ".py",
   "mimetype": "text/x-python",
   "name": "python",
   "nbconvert_exporter": "python",
   "pygments_lexer": "ipython3",
   "version": "3.11.5"
  }
 },
 "nbformat": 4,
 "nbformat_minor": 5
}
