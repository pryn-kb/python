{
 "cells": [
  {
   "cell_type": "markdown",
   "id": "6bee8d8b-e83f-4db1-b6bc-93fa9f428c27",
   "metadata": {},
   "source": [
    "# Sign Up for a Course"
   ]
  },
  {
   "cell_type": "markdown",
   "id": "933d82c7-0500-4b85-8d8b-d55992e5d1ec",
   "metadata": {},
   "source": [
    "Our courses are open for students at the University of Copenhagen. If you wish to sign up for a course you can see them in the [KUB calendar](https://kubkalender.kb.dk/calendar/datalab). "
   ]
  },
  {
   "cell_type": "markdown",
   "id": "bcd92ae5-2fcb-4851-9b36-52f9179fcc35",
   "metadata": {},
   "source": [
    "## Before you attend a course "
   ]
  },
  {
   "cell_type": "markdown",
   "id": "ca88f1bd-855e-4ffc-bc39-32f7979ba523",
   "metadata": {},
   "source": [
    "There is one thing you have to do before attending our course besides signing up. And that is to set up python on your computer. There are several ways of doing this, some and simple and some require a bit more work. We have gathered our recommended ways of getting python runnding on the page [Install and Run Python](setup). \n",
    "\n",
    "___"
   ]
  },
  {
   "cell_type": "markdown",
   "id": "ee4625e5-f195-437e-a2e2-f601eb0998e2",
   "metadata": {},
   "source": [
    "## Are you in doubt which course to sign up for?"
   ]
  },
  {
   "cell_type": "markdown",
   "id": "b27b1b3b-ee16-4859-a307-b61e266d5106",
   "metadata": {},
   "source": [
    "Our courses part 1 and part 2 are foundational courses for beginners with the objective of giving you the basics of starting to work with python. If you already know some python you are welcome to start at part 2. In our other courses e.g. Python and Pandas we expect you to have an understanding of how python works so we can start focusing on data analysis using the library Pandas. "
   ]
  }
 ],
 "metadata": {
  "kernelspec": {
   "display_name": "Python 3 (ipykernel)",
   "language": "python",
   "name": "python3"
  },
  "language_info": {
   "codemirror_mode": {
    "name": "ipython",
    "version": 3
   },
   "file_extension": ".py",
   "mimetype": "text/x-python",
   "name": "python",
   "nbconvert_exporter": "python",
   "pygments_lexer": "ipython3",
   "version": "3.11.5"
  }
 },
 "nbformat": 4,
 "nbformat_minor": 5
}
