{
 "cells": [
  {
   "cell_type": "markdown",
   "id": "4e8cc707-d5ac-42b7-a54f-d2ddfce5cb70",
   "metadata": {},
   "source": [
    "# Dictionary for Absolute Beginners"
   ]
  },
  {
   "cell_type": "markdown",
   "id": "06220ee6-ab32-4f79-98d1-0191ca4dce41",
   "metadata": {
    "editable": true,
    "slideshow": {
     "slide_type": ""
    },
    "tags": []
   },
   "source": [
    "## Argument\n",
    "\n",
    "A value you pass to a function when you call it.\n",
    "\n",
    "Example: In `print(\"Hello\")`, \"Hello\" is the argument."
   ]
  },
  {
   "cell_type": "markdown",
   "id": "35dca6ad-308a-4dd7-8a23-36b4528fa9db",
   "metadata": {
    "editable": true,
    "slideshow": {
     "slide_type": ""
    },
    "tags": []
   },
   "source": [
    "## Arithmetic\n",
    "\n",
    "Basic math operations you can perform on numbers.\n",
    "\n",
    "Examples:\n",
    "* Addition `+`: 5 + 3 equals 8\n",
    "* Subtraction `-`: 5 - 3 equals 2"
   ]
  },
  {
   "cell_type": "markdown",
   "id": "25ad7096-7ec3-4dcf-99a3-2d9d2e7ce139",
   "metadata": {},
   "source": [
    "## Appending\n",
    "\n",
    "Appending refers to adding new elements to the end of an existing data structure, such as a list.\n",
    "\n",
    "Example:\n",
    "```\n",
    "numbers = [1, 2, 3]\n",
    "```\n",
    "```\n",
    "numbers.append(4)\n",
    "```"
   ]
  },
  {
   "cell_type": "markdown",
   "id": "200a35cd-6100-42ad-b775-488a3b374dd3",
   "metadata": {
    "editable": true,
    "slideshow": {
     "slide_type": ""
    },
    "tags": []
   },
   "source": [
    "## Assignment\n",
    "\n",
    "Setting a value to a variable using the `=` operator.\n",
    "\n",
    "Example: `x = 5` assigns the value 5 to the variable x."
   ]
  },
  {
   "cell_type": "markdown",
   "id": "55e7a2b3-4b81-4819-a71d-7556c30d817f",
   "metadata": {},
   "source": [
    "## Boolean\n",
    "\n",
    "Boolean is a data type that represents one of two possible values: `True` or `False`. Booleans are used to represent truth values in logic and are commonly used in conditional statements and control flow."
   ]
  },
  {
   "cell_type": "markdown",
   "id": "7536c7cb-d3b6-40c8-9b36-be5cd3027ef8",
   "metadata": {
    "editable": true,
    "slideshow": {
     "slide_type": ""
    },
    "tags": []
   },
   "source": [
    "## Comment\n",
    "\n",
    "Text in your code that Python ignores, used to explain the code so you know how to read it when you return to it.\n",
    "\n",
    "Example:\n",
    "\n",
    "```\n",
    "# This is a comment\n",
    "```"
   ]
  },
  {
   "cell_type": "markdown",
   "id": "46360c43-a61b-4a5a-a06b-fbd3a03960c9",
   "metadata": {},
   "source": [
    "## Concatenation\n",
    "\n",
    "The operation of joining or linking together multiple sequences to form a single sequence. The way concatenation is performed depends on the type of data structure you are working with.\n",
    "\n",
    "For strings, concatenation is done using the `+` operator, which combines two or more strings into one.\n",
    "\n",
    "Example:\n",
    "\n",
    "```\n",
    "greeting = \"Hello, \"\n",
    "name = \"Alice\"\n",
    "message = greeting + name\n",
    "````"
   ]
  },
  {
   "cell_type": "markdown",
   "id": "81007ab4-e4d4-4536-8b3c-2d9e12afa33e",
   "metadata": {
    "editable": true,
    "slideshow": {
     "slide_type": ""
    },
    "tags": []
   },
   "source": [
    "## Conditionals\n",
    "\n",
    "Conditionals are used to execute different blocks of code based on whether a condition is `True` or `False`.\n",
    "\n",
    "Example:\n",
    "\n",
    "```\n",
    "age = 18\n",
    "\n",
    "if age >= 18:\n",
    "    print(\"You are an adult.\")\n",
    "```"
   ]
  },
  {
   "cell_type": "markdown",
   "id": "610ff638-e039-4ac1-9936-d9e1dce942e2",
   "metadata": {
    "editable": true,
    "slideshow": {
     "slide_type": ""
    },
    "tags": []
   },
   "source": [
    "## Data Type\n",
    "\n",
    "The kind of value that data can have in a programming language e.g., integer, string, float. The data type controls what kind of operations can be performed. \n",
    "\n",
    "Example: `5` is an integer, `\"Alice\"` is a string."
   ]
  },
  {
   "cell_type": "markdown",
   "id": "6ac053bb-1bcc-4582-a7ea-6976fafa07da",
   "metadata": {},
   "source": [
    "## Documentation\n",
    "\n",
    "Documentation refers to written information that explains how to use, understand, or work with a particular piece of code. It can be within the code written by you (see [Comment](#comment)) or it can be offical documentation written by the provider e.g. the offical python documentation."
   ]
  },
  {
   "cell_type": "markdown",
   "id": "54a339e2-31e3-4054-ab9c-bb5171999ee0",
   "metadata": {},
   "source": [
    "## Float\n",
    "\n",
    "A float (short for \"floating-point number\") is a type of number that can have a decimal point. It is used to represent real numbers that require precision beyond whole numbers, including fractions.\n",
    "\n",
    "Example: `3.4` is a float"
   ]
  },
  {
   "cell_type": "markdown",
   "id": "9238fad6-90b8-4673-a7ca-2f8f88809687",
   "metadata": {},
   "source": [
    "## Function\n",
    "\n",
    "A function is a reusable block of code designed to perform a specific task. Functions can take inputs (known as parameters), process them, and return an output. Some functions are built-in already, while others can be defined by you. \n",
    "\n",
    "Example: the built-in fuction `max()` or `print()`\n",
    "\n",
    "```\n",
    "print(max(1, 2, 3))\n",
    "```"
   ]
  },
  {
   "cell_type": "markdown",
   "id": "7c0884ac-d975-4620-a752-0e1b99895fd0",
   "metadata": {
    "editable": true,
    "slideshow": {
     "slide_type": ""
    },
    "tags": []
   },
   "source": [
    "## IDE (Integrated Development Environment)\n",
    "\n",
    "A software application that provides tools for coding, like Jupyter Lab or the UCPH provided ERDA."
   ]
  },
  {
   "cell_type": "markdown",
   "id": "22bc7379-0949-4655-b942-4f5538bd29cf",
   "metadata": {},
   "source": [
    "## Immutable\n",
    "\n",
    "An object whose value or content cannot be changed after it has been created. Once an immutable object is initialized, any operation that seems to modify it will actually create a new object, leaving the original object unchanged.\n",
    "\n",
    "Stands in opposition to [Mutable](#mutable).\n",
    "\n",
    "An example is a `string`."
   ]
  },
  {
   "cell_type": "markdown",
   "id": "890f10aa-1251-4614-b8e4-61199c8a33b6",
   "metadata": {
    "editable": true,
    "slideshow": {
     "slide_type": ""
    },
    "tags": []
   },
   "source": [
    "## Indentation\n",
    "\n",
    "Spaces (usually tab or four spaces) at the beginning of a line that define the structure of your code, especially in loops.\n",
    "\n",
    "Example:\n",
    "\n",
    "```\n",
    "for something in something:\n",
    "    print(something)\n",
    "```"
   ]
  },
  {
   "cell_type": "markdown",
   "id": "21b49fcc-09bb-45d0-9166-803aa87431d4",
   "metadata": {},
   "source": [
    "## Index\n",
    "A means to access specific elements by their position. An index indicates the position of an element within the sequence. Indexing typically starts at 0 for the first element.\n",
    "\n",
    "Example:\n",
    "```\n",
    "\"I am a string\"[0]\n",
    "```\n",
    "```\n",
    "\"I\"\n",
    "```"
   ]
  },
  {
   "cell_type": "markdown",
   "id": "1c6abdd2-147e-469e-8667-0d9febc6421b",
   "metadata": {},
   "source": [
    "## Integer\n",
    "\n",
    "In Python, an integer is a type of number that represents whole numbers without any decimal points. Integers can be positive, negative, or zero.\n",
    "\n",
    "Example: `5` and `-12` are both integers."
   ]
  },
  {
   "cell_type": "markdown",
   "id": "424d85fa-1f51-4a9d-a0f7-4e1a81006343",
   "metadata": {
    "editable": true,
    "slideshow": {
     "slide_type": ""
    },
    "tags": []
   },
   "source": [
    "## Library\n",
    "\n",
    "A collection of pre-written code that provides useful functions and modules for performing common tasks, so you do not have to write the code from scratch. \n",
    "\n",
    "Example: The Pandas library which is used in one of our more advanced courses."
   ]
  },
  {
   "cell_type": "markdown",
   "id": "aa0c3ee8-44d2-4a2e-8cd5-680edee0b7e5",
   "metadata": {
    "editable": true,
    "slideshow": {
     "slide_type": ""
    },
    "tags": []
   },
   "source": [
    "## Loop\n",
    "\n",
    "A structure which repeats a block of code multiple times until a certain condition is met. Like in the `for`and `while` loops.\n",
    "\n",
    "Example:\n",
    "\n",
    "```\n",
    "for i in range(5):\n",
    "    print(i)\n",
    "```"
   ]
  },
  {
   "cell_type": "markdown",
   "id": "8f79ab85-3a07-43fb-bc08-5ad182e6b38b",
   "metadata": {},
   "source": [
    "## Mutable\n",
    "\n",
    "An object whose value or content can be changed after it is created. Mutable objects allow modifications, such as adding, removing, or altering elements, without needing to create a new object. `lists` are mutable objects.\n",
    "\n",
    "Stands in opposition to [Immutable](#immutable)."
   ]
  },
  {
   "cell_type": "markdown",
   "id": "2178c5b5-4e15-4b8f-8b65-6e03eb4b652a",
   "metadata": {
    "editable": true,
    "slideshow": {
     "slide_type": ""
    },
    "tags": []
   },
   "source": [
    "## Operator\n",
    "\n",
    "A symbol that performs an operation on one or more operands.\n",
    "\n",
    "Example: `+` for addition, `==` for comparison."
   ]
  },
  {
   "cell_type": "markdown",
   "id": "74ca589c-b35e-4d9b-89d0-6ebe57a2c39b",
   "metadata": {},
   "source": [
    "## Slice\n",
    "\n",
    "Slicing is a way to extract a part of a string by specifying where to start and stop. It lets you take a \"slice\" or a smaller piece of the string.\\\n",
    "The first number of a slice is *included*, the last number of a slice is *excluded*.\n",
    "\n",
    "Example:\n",
    "\n",
    "```\n",
    "\"I am a string\"[0:6]\n",
    "```\n",
    "```\n",
    "I am a\n",
    "```"
   ]
  },
  {
   "cell_type": "markdown",
   "id": "18abe2b3-08e3-4def-ab2a-8667805974c0",
   "metadata": {},
   "source": [
    "## Statement\n",
    "\n",
    "A statement is a single line of code that performs an action or a series of actions. Statements are the building blocks of a Python program and are executed in sequence. "
   ]
  },
  {
   "cell_type": "markdown",
   "id": "85c8f9c8-19e4-484b-8cd9-ac5731944e8a",
   "metadata": {
    "editable": true,
    "slideshow": {
     "slide_type": ""
    },
    "tags": []
   },
   "source": [
    "## String\n",
    "\n",
    "A data type which is surrounded by either single quotation marks, or double quotation marks.\n",
    "\n",
    "Example: `\"Hello, world!\"`"
   ]
  },
  {
   "cell_type": "markdown",
   "id": "bc6301c2-365d-4834-a48c-a224310bcf27",
   "metadata": {
    "editable": true,
    "slideshow": {
     "slide_type": ""
    },
    "tags": []
   },
   "source": [
    "## Syntax\n",
    "\n",
    "The set of rules - the grammar if you like - that defines the combinations of symbols considered correctly structured by python logic.\n",
    "\n",
    "Example: `print(\"Hello\")` is correct syntax; `print(Hello)` is not."
   ]
  },
  {
   "cell_type": "markdown",
   "id": "8ffcbcbe-5726-4c7b-8721-e115fbde16a8",
   "metadata": {
    "editable": true,
    "slideshow": {
     "slide_type": ""
    },
    "tags": []
   },
   "source": [
    "## Variable\n",
    "\n",
    "A name that stores a value. You can think about it as a small container in which you store a value. \n",
    "\n",
    "Example: `age = 25` assigns the value 25 to the variable `age`."
   ]
  }
 ],
 "metadata": {
  "kernelspec": {
   "display_name": "Python 3 (ipykernel)",
   "language": "python",
   "name": "python3"
  },
  "language_info": {
   "codemirror_mode": {
    "name": "ipython",
    "version": 3
   },
   "file_extension": ".py",
   "mimetype": "text/x-python",
   "name": "python",
   "nbconvert_exporter": "python",
   "pygments_lexer": "ipython3",
   "version": "3.12.5"
  }
 },
 "nbformat": 4,
 "nbformat_minor": 5
}
