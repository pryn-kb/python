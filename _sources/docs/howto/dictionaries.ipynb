{
 "cells": [
  {
   "cell_type": "markdown",
   "id": "b51b20cc-5fcd-4f37-b1b3-2194bfe50b9c",
   "metadata": {},
   "source": [
    "# Learn All the New Words"
   ]
  },
  {
   "cell_type": "markdown",
   "id": "3306c9d4-596c-4c45-888a-f77b03f9f884",
   "metadata": {},
   "source": [
    "There are a lot of new things to learn when one begins to learn a new language such as Python. Therefore we have made a list you can use to look up definitions of words which may be strange to you at the moment."
   ]
  },
  {
   "cell_type": "markdown",
   "id": "d6e18963-ff63-4ed5-b906-ac621acc4c84",
   "metadata": {},
   "source": [
    "```{tableofcontents}\n",
    "```"
   ]
  },
  {
   "cell_type": "code",
   "execution_count": null,
   "id": "b5c9195d-25dc-4244-8fef-ffc57f8b3f9c",
   "metadata": {},
   "outputs": [],
   "source": []
  }
 ],
 "metadata": {
  "kernelspec": {
   "display_name": "Python 3 (ipykernel)",
   "language": "python",
   "name": "python3"
  },
  "language_info": {
   "codemirror_mode": {
    "name": "ipython",
    "version": 3
   },
   "file_extension": ".py",
   "mimetype": "text/x-python",
   "name": "python",
   "nbconvert_exporter": "python",
   "pygments_lexer": "ipython3",
   "version": "3.11.5"
  }
 },
 "nbformat": 4,
 "nbformat_minor": 5
}
