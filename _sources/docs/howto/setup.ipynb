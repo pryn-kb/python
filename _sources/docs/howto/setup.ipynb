{
 "cells": [
  {
   "cell_type": "markdown",
   "id": "748cd4ca-4180-4b03-95b2-f47a803ed4d7",
   "metadata": {
    "editable": true,
    "slideshow": {
     "slide_type": ""
    },
    "tags": []
   },
   "source": [
    "# Install & Run Python"
   ]
  },
  {
   "cell_type": "markdown",
   "id": "7f4f0a5a-b3d0-491f-afc8-fa8ff7156dc5",
   "metadata": {
    "editable": true,
    "slideshow": {
     "slide_type": ""
    },
    "tags": []
   },
   "source": [
    "Before you can run, you must first walk (or slither). <i class=\"fab fa-python\" aria-hidden=\"true\" style=\"font-size: 50px;\"></i>\n",
    "\n",
    "In order to get Python to run on your machine, you need to either download it directly or run it through an intermediary. There are many different ways to do this. \n",
    "\n",
    "We will highlight three possibilities, any of these will work just fine for our courses. "
   ]
  },
  {
   "cell_type": "markdown",
   "id": "86193b41-210e-40b2-9bb5-4df21f4588b7",
   "metadata": {
    "editable": true,
    "slideshow": {
     "slide_type": ""
    },
    "tags": []
   },
   "source": [
    "```{admonition} Looking for the simplest way to get started?\n",
    ":class: tip\n",
    "Then we would recommend you to check out methods 2 and 3 as they do not require installation locally. You can jump to these by clicking on the menu in the right side. \n",
    "\n",
    "You can always change your mind and install Python locally later.\n",
    "```"
   ]
  },
  {
   "cell_type": "markdown",
   "id": "3dcd575b-e491-4a32-9d7b-418715ec6486",
   "metadata": {
    "editable": true,
    "slideshow": {
     "slide_type": ""
    },
    "tags": []
   },
   "source": [
    "```{admonition} Would you rather use another method?\n",
    ":class: seealso dropdown\n",
    "\n",
    "[RealPython](https://realpython.com/installing-python/) has compiled a broader list. Be aware that one has a limited number of ‘reads’ before the RealPython website requests you make an account with them. You can get around this issue by opening a ‘private browsing’ tab and reading it there.\n",
    "```"
   ]
  },
  {
   "cell_type": "markdown",
   "id": "cbfd4d7d-64d3-44ad-86b1-713cb90d3263",
   "metadata": {
    "editable": true,
    "slideshow": {
     "slide_type": ""
    },
    "tags": []
   },
   "source": [
    "___"
   ]
  },
  {
   "cell_type": "markdown",
   "id": "7f12c0dc-b39f-48ff-9600-d8e5fcb3c344",
   "metadata": {
    "editable": true,
    "slideshow": {
     "slide_type": ""
    },
    "tags": []
   },
   "source": [
    "## Method 1: Installing Python and JupyterLab"
   ]
  },
  {
   "cell_type": "markdown",
   "id": "e8b5373f-5748-4ccd-9d19-3cd27e642664",
   "metadata": {
    "editable": true,
    "slideshow": {
     "slide_type": ""
    },
    "tags": []
   },
   "source": [
    "The first of the three options we would like to highlight is installing Python and JupyterLab / Jupyter Notebook. This installs the software directly on to your computer. \n",
    "\n",
    "It is slightly technical, as you will have to initiate the program through your computer’s Terminal/PowerShell, but once running it is far less finicky than the other options with respect to uploading or downloading files that you might use in your coding. A detailed set of instructions for both Mac and PC users can be found on this page. "
   ]
  },
  {
   "cell_type": "markdown",
   "id": "000f804e-7d14-4167-9c40-7c7ebb3ff024",
   "metadata": {
    "editable": true,
    "slideshow": {
     "slide_type": ""
    },
    "tags": []
   },
   "source": [
    "### <i class=\"fab fa-apple\" aria-hidden=\"true\"></i> Method 1: Mac"
   ]
  },
  {
   "cell_type": "markdown",
   "id": "732b6b71-242c-4a9c-858a-c825f84355a9",
   "metadata": {
    "editable": true,
    "slideshow": {
     "slide_type": ""
    },
    "tags": []
   },
   "source": [
    "#### How to Install Python on macOS"
   ]
  },
  {
   "cell_type": "markdown",
   "id": "2736eed6-8a86-4d84-bfc8-17dceea2900e",
   "metadata": {
    "editable": true,
    "slideshow": {
     "slide_type": ""
    },
    "tags": []
   },
   "source": [
    "Python 2 comes preinstalled on older versions of macOS. This is no longer the case for current versions of macOS, starting with [macOS Catalina](https://developer.apple.com/documentation/macos-release-notes/macos-catalina-10_15-release-notes#Scripting-Language-Runtimes).\n",
    "\n",
    "No mattter which version of macOS you have installed, we would like you to install Python 3."
   ]
  },
  {
   "cell_type": "markdown",
   "id": "fc3eca64-31cc-4e4d-bf96-0d4b171d984f",
   "metadata": {
    "editable": true,
    "slideshow": {
     "slide_type": ""
    },
    "tags": []
   },
   "source": [
    "#### How to Check Your Python Version on a Mac"
   ]
  },
  {
   "cell_type": "markdown",
   "id": "cf6b219a-4af4-478c-b577-6e06845a0065",
   "metadata": {
    "editable": true,
    "slideshow": {
     "slide_type": ""
    },
    "tags": []
   },
   "source": [
    "To check which Python version you have on your Mac, first open a command-line application, such as [Terminal](https://support.apple.com/da-dk/guide/terminal/welcome/mac)."
   ]
  },
  {
   "cell_type": "markdown",
   "id": "3ee14f60-929b-4488-9175-80e8ecc76f44",
   "metadata": {
    "editable": true,
    "slideshow": {
     "slide_type": ""
    },
    "tags": []
   },
   "source": [
    "```{admonition} How to open the Terminal\n",
    ":class: tip dropdown\n",
    "\n",
    "Press the `⌘ Cmd` + Space keys.\n",
    "\n",
    "Type **Terminal**.\n",
    "\n",
    "Press `Enter ↩`.\n",
    "\n",
    "Alternatively, you can open Finder and navigate to **Applications → Utilities → Terminal**.\n",
    "```"
   ]
  },
  {
   "cell_type": "markdown",
   "id": "55340461-3340-4cf0-a2c8-47b86c8ac7b9",
   "metadata": {
    "editable": true,
    "slideshow": {
     "slide_type": ""
    },
    "tags": []
   },
   "source": [
    "Check the Python version in the Terminal:"
   ]
  },
  {
   "cell_type": "markdown",
   "id": "3f8f2445-7aec-43bc-9ece-85490a826e96",
   "metadata": {
    "editable": true,
    "slideshow": {
     "slide_type": ""
    },
    "tags": []
   },
   "source": [
    "```text\n",
    "python --version\n",
    "```"
   ]
  },
  {
   "cell_type": "markdown",
   "id": "b74d076c-f564-4d9b-8a9b-27cd62c641ad",
   "metadata": {
    "editable": true,
    "slideshow": {
     "slide_type": ""
    },
    "tags": []
   },
   "source": [
    "Check the Python 3 version:"
   ]
  },
  {
   "cell_type": "markdown",
   "id": "4d923e92-df38-4baa-92d6-8fe9e411ea31",
   "metadata": {
    "editable": true,
    "slideshow": {
     "slide_type": ""
    },
    "tags": []
   },
   "source": [
    "```text\n",
    "python3 --version\n",
    "```"
   ]
  },
  {
   "cell_type": "markdown",
   "id": "34cd8270-4766-460c-92fe-9e9cc05a2c81",
   "metadata": {
    "editable": true,
    "slideshow": {
     "slide_type": ""
    },
    "tags": []
   },
   "source": [
    "```{attention}\n",
    "When typing `python3 --version` the Terminal may give you a notice saying *no developer tools were found...* and give you a pop-up screen with the choice to install these develper tools.\n",
    "\n",
    "**We recommend that you skip this installation** as it is slow and tedious and should be solved by the Python installation process described below.\n",
    "```"
   ]
  },
  {
   "cell_type": "markdown",
   "id": "e2b3086f-f3bb-4261-9565-c19ada2eb196",
   "metadata": {
    "editable": true,
    "slideshow": {
     "slide_type": ""
    },
    "tags": []
   },
   "source": [
    "If you have Python installed, one or more of these commands should respond with a version number.\n",
    "\n",
    "For example, if Python 3.12.5 is already set up on your computer, then the python3 command will display that version number:\n",
    "\n",
    "**Input**"
   ]
  },
  {
   "cell_type": "markdown",
   "id": "0e98cd2c-49d1-45bb-979a-80b1aef1ccd7",
   "metadata": {
    "editable": true,
    "slideshow": {
     "slide_type": ""
    },
    "tags": []
   },
   "source": [
    "```text\n",
    "python3 --version\n",
    "```"
   ]
  },
  {
   "cell_type": "markdown",
   "id": "d6f10aa7-6158-4c98-9be7-f0486e3423d4",
   "metadata": {
    "editable": true,
    "slideshow": {
     "slide_type": ""
    },
    "tags": []
   },
   "source": [
    "**Output**"
   ]
  },
  {
   "cell_type": "markdown",
   "id": "98d5e4cf-d96c-4372-98c0-35ab0ba65a04",
   "metadata": {
    "editable": true,
    "slideshow": {
     "slide_type": ""
    },
    "tags": []
   },
   "source": [
    "```text\n",
    "Python 3.12.5\n",
    "```"
   ]
  },
  {
   "cell_type": "markdown",
   "id": "d075cbfb-3d45-416f-b652-ba449a83919d",
   "metadata": {
    "editable": true,
    "slideshow": {
     "slide_type": ""
    },
    "tags": []
   },
   "source": [
    "You’ll want to get the latest version of Python if any of these conditions are true:\n",
    "\n",
    "* None of the above commands returns a version number.\n",
    "* The only version you see displayed is in the Python 2.X series.\n",
    "* You have a version of Python 3 that isn’t the latest available (which was version 3.12.5 as of this writing). You can find the newest version number [here](https://www.python.org/downloads/)."
   ]
  },
  {
   "cell_type": "markdown",
   "id": "0168ebd5-b416-4cad-adf2-eaf6abc5f154",
   "metadata": {
    "editable": true,
    "slideshow": {
     "slide_type": ""
    },
    "tags": []
   },
   "source": [
    "#### Install Python on Mac"
   ]
  },
  {
   "cell_type": "markdown",
   "id": "49ff5c65-7675-4542-a35f-bffcb6060b5d",
   "metadata": {
    "editable": true,
    "slideshow": {
     "slide_type": ""
    },
    "tags": []
   },
   "source": [
    "Now that you have checked if you already have a version of Python, you are ready to download and install. \n",
    "\n",
    "This is the most reliable installation method on macOS. It includes all the system dependencies needed for developing applications with Python.\n",
    "\n",
    "*You can install from the official installer in two steps.*\n",
    "\n",
    "**Step 1:** Download the Official Installer\n",
    "\n",
    "Follow these steps to download the full installer:\n",
    "\n",
    "* Open a browser window and navigate to the Python.org Downloads page for macOS.\n",
    "* Under the “Python Releases for Mac OS X” heading, click the link for the **Latest Python 3 Release - Python 3.x.x**.\n",
    "* Scroll to the bottom and click **macOS 64-bit** installer to start the download.\n",
    "* When the installer is finished downloading, move on to the next step.\n",
    "\n",
    "**Step 2:** Run the Installer\n",
    "\n",
    "Run the installer by double-clicking the downloaded file.\n",
    "\n",
    "Follow these steps to complete the installation:\n",
    "\n",
    "* Press **Continue** a few times until you’re asked to agree to the software license agreement. Then click **Agree**.\n",
    "* You’ll be shown a window that tells you the install destination and how much space it will take. You most likely don’t want to change the default location, so go ahead and click **Install** to start the installation.\n",
    "* When the installer is finished copying files, double-click the **Install Certificates** command in the finder window to make sure your SSL root certificates are updated.\n",
    "\n",
    "Congratulations—you now have the latest version of Python 3 on your macOS computer!\n",
    "\n",
    "Now you can skip to the last steps of [installing jupyter](#jupyterlab-both-mac-and-windows)."
   ]
  },
  {
   "cell_type": "markdown",
   "id": "7fbf9b73-e1e1-4863-94da-6b5fc6397443",
   "metadata": {
    "editable": true,
    "slideshow": {
     "slide_type": ""
    },
    "tags": []
   },
   "source": [
    "### <i class=\"fab fa-windows\" aria-hidden=\"true\"></i> Method 1: Windows"
   ]
  },
  {
   "cell_type": "markdown",
   "id": "65a9a240-8e21-4020-bdfa-66733b9b881d",
   "metadata": {
    "editable": true,
    "slideshow": {
     "slide_type": ""
    },
    "tags": []
   },
   "source": [
    "#### How to Install Python on Windows"
   ]
  },
  {
   "cell_type": "markdown",
   "id": "761edf21-ffe9-40f9-8ecd-acecfcd26385",
   "metadata": {
    "editable": true,
    "slideshow": {
     "slide_type": ""
    },
    "tags": []
   },
   "source": [
    "As mentioned above there are several ways of installing Python on your Windows computer. The following guide works by downloading the latest version of Python from [Python.org](https://www.python.org/). But before you do that it is a good idea to check whether a version on Python is already installed on your computer."
   ]
  },
  {
   "cell_type": "markdown",
   "id": "8375501c-e203-45d1-9937-de745f4e364d",
   "metadata": {
    "editable": true,
    "slideshow": {
     "slide_type": ""
    },
    "tags": []
   },
   "source": [
    "#### How to Check Your Python Version on Windows"
   ]
  },
  {
   "cell_type": "markdown",
   "id": "faab06c5-b026-4039-b905-b6198af5d0f2",
   "metadata": {
    "editable": true,
    "slideshow": {
     "slide_type": ""
    },
    "tags": []
   },
   "source": [
    "To check if you have any version of Python and which version you have on Windows, first open a command-line application, such as [Windows PowerShell](https://realpython.com/courses/using-terminal-windows/).\n",
    "\n"
   ]
  },
  {
   "cell_type": "markdown",
   "id": "6e78275a-0ee5-4a09-943c-7cfd3ce97246",
   "metadata": {
    "editable": true,
    "slideshow": {
     "slide_type": ""
    },
    "tags": []
   },
   "source": [
    "```{admonition} How to open Windows PowerShell\n",
    ":class: tip dropdown\n",
    "\n",
    "Press the `⊞ Win key`.\n",
    "\n",
    "Type **powershell**.\n",
    "\n",
    "Press `Enter ↩`.\n",
    "\n",
    "Alternatively, you can right click the start button and select **PowerShell**.\n",
    "```"
   ]
  },
  {
   "cell_type": "markdown",
   "id": "0128bda3-3aea-4676-accc-49764016a9be",
   "metadata": {
    "editable": true,
    "slideshow": {
     "slide_type": ""
    },
    "tags": []
   },
   "source": [
    "Check the Python version by typing the following into the PowerShell"
   ]
  },
  {
   "cell_type": "markdown",
   "id": "cd959aaf-3cf0-470d-8592-ede925ce44f5",
   "metadata": {
    "editable": true,
    "slideshow": {
     "slide_type": ""
    },
    "tags": []
   },
   "source": [
    "```text\n",
    "python --version\n",
    "```"
   ]
  },
  {
   "cell_type": "markdown",
   "id": "309d90cf-5ea6-44a5-ba37-782f7201dace",
   "metadata": {
    "editable": true,
    "slideshow": {
     "slide_type": ""
    },
    "tags": []
   },
   "source": [
    "If you have Python installed then this command should respond with a version number:"
   ]
  },
  {
   "cell_type": "markdown",
   "id": "77032da6-6755-4588-9767-2d4f7508f7af",
   "metadata": {
    "editable": true,
    "slideshow": {
     "slide_type": ""
    },
    "tags": []
   },
   "source": [
    "```text\n",
    "Python 3.12.5\n",
    "```"
   ]
  },
  {
   "cell_type": "markdown",
   "id": "c65c6cef-eb95-4191-8eaa-c68021c5958f",
   "metadata": {
    "editable": true,
    "slideshow": {
     "slide_type": ""
    },
    "tags": []
   },
   "source": [
    "```{attention}\n",
    "If you don’t have a version of Python on your computer the above command will launch Microsoft Store where you can find a Python application.\n",
    "\n",
    "**Do not download this version of Python!** Instead follow the steps below.\n",
    "```"
   ]
  },
  {
   "cell_type": "markdown",
   "id": "5040f0ce-769b-46c2-9e17-215d915756a0",
   "metadata": {
    "editable": true,
    "slideshow": {
     "slide_type": ""
    },
    "tags": []
   },
   "source": [
    "You’ll want to get the latest version of Python if any of these conditions is true:\n",
    "\n",
    "* The command above does not return a version number.\n",
    "* You have a version of Python 3 that isn’t the latest available (which was version 3.12.5 as of this writing). You can find the newest version number [here](https://www.python.org/downloads/windows/)."
   ]
  },
  {
   "cell_type": "markdown",
   "id": "e5a3b49c-6706-4e3d-a43a-360f31d143e3",
   "metadata": {
    "editable": true,
    "slideshow": {
     "slide_type": ""
    },
    "tags": []
   },
   "source": [
    "#### Install Python on Windows"
   ]
  },
  {
   "cell_type": "markdown",
   "id": "12cec15c-fafb-4c59-84ee-e9471a2a007e",
   "metadata": {
    "editable": true,
    "slideshow": {
     "slide_type": ""
    },
    "tags": []
   },
   "source": [
    "Installing Python from the official installer is the most reliable installation method on Windows. It includes all the system dependencies needed for developing applications with Python. However, it can cause some trouble, **so read the following guide carefully.**\n",
    "\n",
    "You can install from the official installer in two steps."
   ]
  },
  {
   "cell_type": "markdown",
   "id": "1b3faf88-4fd0-42fd-aa88-cd9c730acddf",
   "metadata": {
    "editable": true,
    "slideshow": {
     "slide_type": ""
    },
    "tags": []
   },
   "source": [
    "##### Step 1: Download the Official Installer"
   ]
  },
  {
   "cell_type": "markdown",
   "id": "b3ad1c59-eb8c-41a1-9157-5af02eea01ae",
   "metadata": {
    "editable": true,
    "slideshow": {
     "slide_type": ""
    },
    "tags": []
   },
   "source": [
    "Follow these steps to download the full installer:\n",
    "\n",
    "* Open a browser window and navigate to [Python.org](https://www.python.org/).\n",
    "* In the drop down menu called “Downloads” click the link for the Latest Python 3 Release - Python 3.x.x.\n",
    "* The download should start instantly.\n",
    "\n",
    "When the installer is finished downloading, move on to the next step."
   ]
  },
  {
   "cell_type": "markdown",
   "id": "ec41b388-f673-4663-925b-a2d26b32fe83",
   "metadata": {
    "editable": true,
    "slideshow": {
     "slide_type": ""
    },
    "tags": []
   },
   "source": [
    "##### Step 2: Run the Installer"
   ]
  },
  {
   "cell_type": "markdown",
   "id": "f5aae01f-95b1-49e4-be33-fc12ba12a046",
   "metadata": {
    "editable": true,
    "slideshow": {
     "slide_type": ""
    },
    "tags": []
   },
   "source": [
    "Run the installer by double clicking on the downloaded .exe file.\n",
    "\n",
    "Follow these steps to complete the installation:\n",
    "\n",
    "* Select the box **Install launcher for all users** this allows all users of the computer to use the Python launcher application.\n",
    "* Select the box **Add Python 3.x to PATH** this enables you to launch Python from the command line.\n",
    "* Click **Install Now**.\n",
    "* Click the **Disable path length limit**. This removes the limitation of the path lenghts and can smoothe over any issues in the future with the path length.\n",
    "* Press **Close** to finish the installation.\n",
    "\n",
    "Congratulations—you now have the latest version of Python 3 on your computer!"
   ]
  },
  {
   "cell_type": "markdown",
   "id": "c717111b-9150-4320-ae66-814944ca07f8",
   "metadata": {
    "editable": true,
    "slideshow": {
     "slide_type": ""
    },
    "tags": []
   },
   "source": [
    "```{admonition} Did you not click add to PATH?\n",
    ":class: attention dropdown\n",
    "\n",
    "If you did not click **Add Python to PATH** this can be fixed by following these steps:\n",
    "\n",
    "1) Open the folder where you downloaded the Python install file.\n",
    "2) Double click on the Python install file.\n",
    "3) Click **Modify**.\n",
    "4) You will see **Optional features**.\n",
    "5) Click **Next**.\n",
    "6) Select **Add python to environment variables**.\n",
    "7) Click **Install**.\n",
    "```"
   ]
  },
  {
   "cell_type": "markdown",
   "id": "e61dc1a0-0ad7-418e-b50c-a3bc694ea483",
   "metadata": {
    "editable": true,
    "slideshow": {
     "slide_type": ""
    },
    "tags": []
   },
   "source": [
    "#### Check your version of Python"
   ]
  },
  {
   "cell_type": "markdown",
   "id": "e5ad8345-d97b-4e98-9e14-f3505673ff13",
   "metadata": {
    "editable": true,
    "slideshow": {
     "slide_type": ""
    },
    "tags": []
   },
   "source": [
    "Now that you have installed Python, it is a good idea to check if it was done succesfully.\n",
    "\n",
    "Open PowerShell and write:"
   ]
  },
  {
   "cell_type": "markdown",
   "id": "7001e9eb-c0c5-4cb8-b0d1-a7e7e796bf4d",
   "metadata": {
    "editable": true,
    "slideshow": {
     "slide_type": ""
    },
    "tags": []
   },
   "source": [
    "```text\n",
    "python --version\n",
    "```"
   ]
  },
  {
   "cell_type": "markdown",
   "id": "e22f72be-acd6-4d73-88bc-98066ba5c961",
   "metadata": {
    "editable": true,
    "slideshow": {
     "slide_type": ""
    },
    "tags": []
   },
   "source": [
    "Now this should return the version of Python you have just installed"
   ]
  },
  {
   "cell_type": "markdown",
   "id": "48d7c536-a442-4eb3-ad07-cc503e9b00cd",
   "metadata": {
    "editable": true,
    "slideshow": {
     "slide_type": ""
    },
    "tags": []
   },
   "source": [
    "```text\n",
    "Python 3.12.5\n",
    "```"
   ]
  },
  {
   "cell_type": "markdown",
   "id": "20ea56bf-e5f9-4b0a-870d-1eb496df1852",
   "metadata": {
    "editable": true,
    "slideshow": {
     "slide_type": ""
    },
    "tags": []
   },
   "source": [
    "### <i class=\"fab fa-apple\" aria-hidden=\"true\"></i> <i class=\"fab fa-windows\" aria-hidden=\"true\"></i> JupyterLab - both Mac and Windows"
   ]
  },
  {
   "cell_type": "markdown",
   "id": "99097727-d150-4eca-9e94-ca58070ab388",
   "metadata": {
    "editable": true,
    "slideshow": {
     "slide_type": ""
    },
    "tags": []
   },
   "source": [
    "Now you need to install JupyterLab, the Integrated development environment (IDE) we will be using in this course. \n",
    "\n",
    "We will install this from the Terminal (Mac) or PowerShell (Windows) using pip. \n",
    "\n",
    "Pip is a package manager which allows you to easily install and manage Python libraries and packages - don’t worry if this doesnt make a lot of sense right now, we will get back to what that means in the course.\n",
    "\n",
    "Pip should have been installed together with Python. "
   ]
  },
  {
   "cell_type": "markdown",
   "id": "bf277ff1-b617-4741-b591-324c9bf9f081",
   "metadata": {
    "editable": true,
    "slideshow": {
     "slide_type": ""
    },
    "tags": []
   },
   "source": [
    "````{admonition} Was pip not installed correctly?\n",
    ":class: attention dropdown\n",
    "\n",
    "If pip was not installed together with Python, follow these steps.\n",
    "In the example we write `pip3` and `python3` - but you may also use `pip` or `python`. If one does not work, try the other.\n",
    "\n",
    "Start out by checking if you have pip installed by typing the following into the Terminal/PowerShell:\n",
    "```\n",
    "pip3 --version\n",
    "```\n",
    "This returns the version of pip you have installed. In case the command does not return a pip version, you need to do the following:\n",
    "Use ensurepip to install pip from Python. \n",
    "\n",
    "Type the following in your Terminal/PowerShell:\n",
    "\n",
    "```\n",
    "python3 -m ensurepip\n",
    "```\n",
    "This command will install pip. Afterwards, you can check by running the `pip3 --version` command.\n",
    "\n",
    "Now you can return to the installation of JupyterLab through pip.\n",
    "````"
   ]
  },
  {
   "cell_type": "markdown",
   "id": "d0582297-34b7-439d-991c-4589dd43d1f4",
   "metadata": {
    "editable": true,
    "slideshow": {
     "slide_type": ""
    },
    "tags": []
   },
   "source": [
    "Type the following in the Terminal/PowerShell:"
   ]
  },
  {
   "cell_type": "markdown",
   "id": "d6ec91cf-48cb-4e01-9831-d92ad4d0b6e3",
   "metadata": {
    "editable": true,
    "slideshow": {
     "slide_type": ""
    },
    "tags": []
   },
   "source": [
    "```text\n",
    "pip install jupyterlab\n",
    "```"
   ]
  },
  {
   "cell_type": "markdown",
   "id": "5bef1cd5-4920-45a6-a59c-a5b0a204f290",
   "metadata": {
    "editable": true,
    "slideshow": {
     "slide_type": ""
    },
    "tags": []
   },
   "source": [
    "Or sometimes you will need to write:"
   ]
  },
  {
   "cell_type": "markdown",
   "id": "57b5354d-8b64-49d9-9a7d-3e5197bab776",
   "metadata": {
    "editable": true,
    "slideshow": {
     "slide_type": ""
    },
    "tags": []
   },
   "source": [
    "```text\n",
    "pip3 install jupyterlab\n",
    "```"
   ]
  },
  {
   "cell_type": "markdown",
   "id": "c7cc6a84-07e8-42dd-9bd3-1496bb40ab02",
   "metadata": {
    "editable": true,
    "slideshow": {
     "slide_type": ""
    },
    "tags": []
   },
   "source": [
    "An installation will start in the Terminal/PowerShell - when it finishes, type the following and the notebook will launch. "
   ]
  },
  {
   "cell_type": "markdown",
   "id": "40045191-ba0b-4f27-9ba4-6e21cf49d48e",
   "metadata": {
    "editable": true,
    "slideshow": {
     "slide_type": ""
    },
    "tags": []
   },
   "source": [
    "```text\n",
    "jupyter lab\n",
    "```"
   ]
  },
  {
   "cell_type": "markdown",
   "id": "0ae61c02-027f-4757-aad3-a490e2f3ed30",
   "metadata": {
    "editable": true,
    "slideshow": {
     "slide_type": ""
    },
    "tags": []
   },
   "source": [
    "**Now you are ready to learn how to code in Python!**"
   ]
  },
  {
   "cell_type": "markdown",
   "id": "a70664e5-2df3-4110-93b1-0ca3fac929ea",
   "metadata": {
    "editable": true,
    "slideshow": {
     "slide_type": ""
    },
    "tags": []
   },
   "source": [
    "___"
   ]
  },
  {
   "cell_type": "markdown",
   "id": "5af62f0e-8b09-4cbf-8449-2b2333d54657",
   "metadata": {
    "editable": true,
    "slideshow": {
     "slide_type": ""
    },
    "tags": []
   },
   "source": [
    "## Method 2: Google Colab"
   ]
  },
  {
   "cell_type": "markdown",
   "id": "fd0f4d5a-5ce0-4fd2-88c0-484686ae3540",
   "metadata": {
    "editable": true,
    "slideshow": {
     "slide_type": ""
    },
    "tags": []
   },
   "source": [
    "Google Colab, along with ERDA, is perhaps the easiest of these three options to get up and running, as all it requires is a Google account. After you login, you simply create a new notebook and start coding. \n",
    "\n",
    "You can connect your Google Drive to upload files that you want to work with. If you only upload your files directly to Colab, you can work on them, but they will be erased when you close your session or if your session times out, at which point you will need to re-upload your files. \n",
    "\n",
    "You can read more about Google Colab [here](https://colab.research.google.com/?utm_source=scs-index). We would also advise that Google is a corporate third party, who mostly want to sell your data so that other people can sell you stuff that Google predicts you will want (hello age of surveillance capitalism). \n",
    "\n",
    "While this might not mean much for this course (you might get an ad in your inbox for DataCamp or something), we would urge caution if you are uploading datasets with sensitive data into Google Colab."
   ]
  },
  {
   "cell_type": "markdown",
   "id": "fb881827-9c21-43a7-93ad-9fc1d283d664",
   "metadata": {
    "editable": true,
    "slideshow": {
     "slide_type": ""
    },
    "tags": []
   },
   "source": [
    "___"
   ]
  },
  {
   "cell_type": "markdown",
   "id": "61680694-723f-485f-b116-c01d6e4a74bf",
   "metadata": {
    "editable": true,
    "slideshow": {
     "slide_type": ""
    },
    "tags": []
   },
   "source": [
    "## Method 3: ERDA"
   ]
  },
  {
   "cell_type": "markdown",
   "id": "dc515026-d298-4987-837e-b9c348f7c813",
   "metadata": {
    "editable": true,
    "slideshow": {
     "slide_type": ""
    },
    "tags": []
   },
   "source": [
    "Copenhagen University provides its students and staff with access to its Electronic Research Data Archive (ERDA). \n",
    "\n",
    "[ERDA](https://www.erda.dk/) includes a built-in copy of Jupyter Notebook, which runs the newest version of Python. \n",
    "\n",
    "Simply select the **Jupyter Notebook** icon after logging in, then select **Start DAG**, and continue on to your coding space. \n",
    "\n",
    "Be aware that ERDA cannot read local files off of your computer so you must, like Google Colab, upload any files you wish to work with. Unlike Google Colab, however, ERDA will maintain your files over time, saving you the trouble of worrying about different file pathways in your code. \n",
    "\n",
    "ERDA’s self description as well as its terms and conditions can be read [here](https://www.erda.dk/)."
   ]
  },
  {
   "cell_type": "code",
   "execution_count": null,
   "id": "8396e2f1-f2c8-4777-815f-f46bc1ee1177",
   "metadata": {
    "editable": true,
    "slideshow": {
     "slide_type": ""
    },
    "tags": [
     "hide-output"
    ]
   },
   "outputs": [],
   "source": []
  }
 ],
 "metadata": {
  "kernelspec": {
   "display_name": "Python 3 (ipykernel)",
   "language": "python",
   "name": "python3"
  },
  "language_info": {
   "codemirror_mode": {
    "name": "ipython",
    "version": 3
   },
   "file_extension": ".py",
   "mimetype": "text/x-python",
   "name": "python",
   "nbconvert_exporter": "python",
   "pygments_lexer": "ipython3",
   "version": "3.11.8"
  }
 },
 "nbformat": 4,
 "nbformat_minor": 5
}
