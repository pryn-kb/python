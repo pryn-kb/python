{
 "cells": [
  {
   "cell_type": "markdown",
   "id": "3af450f3-42d0-4dee-bf44-34dc3ff85392",
   "metadata": {},
   "source": [
    "# Interact With This Book"
   ]
  },
  {
   "cell_type": "markdown",
   "id": "7d396958-5f8f-413c-b878-f9f4f13ca2f3",
   "metadata": {},
   "source": [
    "This \"book\" (i.e., this webpage) was created with [Jupyter Book](https://jupyterbook.org/), an open-source project for designing online interactive books that contain code and other computational material. \n",
    "\n",
    "Below the interactive features of this Jupyter Book are explained in further detail. Most interactive features can be found in the toolbar at the top of the page."
   ]
  },
  {
   "cell_type": "markdown",
   "id": "be6f0783-a595-47ba-af58-da7efbc7c445",
   "metadata": {},
   "source": [
    "## <i class=\"fas fa-download\" aria-hidden=\"true\"></i> Download Jupyter Notebook"
   ]
  },
  {
   "cell_type": "markdown",
   "id": "cd612ac4-fb36-470f-8b8a-32abefab1a86",
   "metadata": {},
   "source": [
    "You can download any Jupyter notebook page from this book as a Jupyter notebook file (.ipynb).\\\n",
    "Click the download icon <i class=\"fas fa-download\" aria-hidden=\"true\"></i> at the top of the page and then click \"<i class=\"fas fa-file\" aria-hidden=\"true\"></i> .ipynb\""
   ]
  },
  {
   "cell_type": "markdown",
   "id": "49933971-5c9d-4df0-8c2f-6f80c18f5897",
   "metadata": {},
   "source": [
    "```{attention}\n",
    "To work with this .ipynb file, you will need to have [Jupyter installed](setup) and running on your own computer.\n",
    "```"
   ]
  },
  {
   "cell_type": "markdown",
   "id": "40c81f54-5d66-4bd4-a245-2939b20de14c",
   "metadata": {},
   "source": [
    "## <i class=\"fas fa-download\" aria-hidden=\"true\"></i> Download PDF"
   ]
  },
  {
   "cell_type": "markdown",
   "id": "1e096e54-43d3-473a-a50f-c3fdf1286f30",
   "metadata": {},
   "source": [
    "You can download any Jupyter notebook page from this book as a PDF file.\\\n",
    "Click the the download icon <i class=\"fas fa-download\" aria-hidden=\"true\"></i> at the top of the page and then click \"<i class=\"fas fa-file-pdf\" aria-hidden=\"true\"></i> .pdf\""
   ]
  },
  {
   "cell_type": "markdown",
   "id": "45788a71-7326-421c-87c5-b63a15627eb2",
   "metadata": {},
   "source": [
    "## <i class=\"fas fa-bars\" aria-hidden=\"true\"></i> Expand workspace"
   ]
  },
  {
   "cell_type": "markdown",
   "id": "84a7e408-6836-4748-ae76-30593c4c992a",
   "metadata": {},
   "source": [
    "You can hide the left-hand menu to expand the workspace in the middle.\\\n",
    "Click the three bars icon <i class=\"fas fa-bars\" aria-hidden=\"true\"></i> at the top of the page to toggle the primary sidebar."
   ]
  },
  {
   "cell_type": "markdown",
   "id": "78367058-8d53-41c2-9384-d0da8866371b",
   "metadata": {},
   "source": [
    "## <i class=\"fas fa-expand\" aria-hidden=\"true\"></i> Make full screen"
   ]
  },
  {
   "cell_type": "markdown",
   "id": "e0bc3d5f-8799-4314-a517-a3cb0ca1509e",
   "metadata": {},
   "source": [
    "Click the full screen icon <i class=\"fas fa-expand\" aria-hidden=\"true\"></i> at the top of the page to make any page from this book full screen."
   ]
  },
  {
   "cell_type": "markdown",
   "id": "15c6dbed-e8ad-4485-865f-4e814aab257a",
   "metadata": {},
   "source": [
    "## <i class=\"fab fa-github\" aria-hidden=\"true\"></i> Open issue on GitHub"
   ]
  },
  {
   "cell_type": "markdown",
   "id": "3ad032a4-0752-4160-9ce4-894728f56f55",
   "metadata": {},
   "source": [
    "If you run into any issues or would like to make a suggestion, you can open an issue on GitHub.\\\n",
    "Click the GitHub icon <i class=\"fab fa-github\" aria-hidden=\"true\"></i> at the top of the page and then clidk \"<i class=\"fas fa-lightbulb\" aria-hidden=\"true\"></i> Open issue.\"\n",
    "\n",
    "You can also email us with issues or suggestions at kubdatalab@kb.dk."
   ]
  },
  {
   "cell_type": "markdown",
   "id": "b6b74fdd-abc1-4184-9f0b-523778cd375d",
   "metadata": {},
   "source": [
    "## <i class=\"fas fa-play\" aria-hidden=\"true\"></i> Click to show output/code"
   ]
  },
  {
   "cell_type": "markdown",
   "id": "60994592-69c2-4b97-8779-40b3e5fdd620",
   "metadata": {},
   "source": [
    "The pages in this book have hidden output from the code cells to encourage you to reflect on the code and think about what the output should be before revealing it.\\\n",
    "Click <i class=\"fas fa-play\" aria-hidden=\"true\"></i> Show code cell output\" beneath the cell to reveal the hidden output."
   ]
  },
  {
   "cell_type": "code",
   "execution_count": 4,
   "id": "e217c344-afd5-484d-9171-ed878733e894",
   "metadata": {
    "editable": true,
    "slideshow": {
     "slide_type": ""
    },
    "tags": [
     "hide-output"
    ]
   },
   "outputs": [
    {
     "name": "stdout",
     "output_type": "stream",
     "text": [
      "Here's an example of hidden output! Click 'Show code cell output' to see the output!\n"
     ]
    }
   ],
   "source": [
    "print(\"Here's an example of hidden output! Click 'Show code cell output' to see the output!\")"
   ]
  },
  {
   "cell_type": "code",
   "execution_count": 5,
   "id": "b3410a45-f789-4420-aca3-e3526833495e",
   "metadata": {
    "editable": true,
    "slideshow": {
     "slide_type": ""
    },
    "tags": [
     "hide-output"
    ]
   },
   "outputs": [
    {
     "data": {
      "text/plain": [
       "1764"
      ]
     },
     "execution_count": 5,
     "metadata": {},
     "output_type": "execute_result"
    }
   ],
   "source": [
    "42 * 42"
   ]
  },
  {
   "cell_type": "code",
   "execution_count": null,
   "id": "0fabd4a4-f5fd-4e99-a842-0e0355c19bca",
   "metadata": {
    "tags": [
     "hide-output"
    ]
   },
   "outputs": [],
   "source": []
  }
 ],
 "metadata": {
  "kernelspec": {
   "display_name": "Python 3 (ipykernel)",
   "language": "python",
   "name": "python3"
  },
  "language_info": {
   "codemirror_mode": {
    "name": "ipython",
    "version": 3
   },
   "file_extension": ".py",
   "mimetype": "text/x-python",
   "name": "python",
   "nbconvert_exporter": "python",
   "pygments_lexer": "ipython3",
   "version": "3.12.5"
  }
 },
 "nbformat": 4,
 "nbformat_minor": 5
}
