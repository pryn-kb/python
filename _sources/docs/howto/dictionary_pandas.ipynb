{
 "cells": [
  {
   "cell_type": "markdown",
   "id": "c3111538-7726-4afa-8c91-aa5b872f7106",
   "metadata": {
    "editable": true,
    "slideshow": {
     "slide_type": ""
    },
    "tags": []
   },
   "source": [
    "# Dictionary for Pandas"
   ]
  },
  {
   "cell_type": "markdown",
   "id": "89a6096e-2ecd-413c-96b1-277d3e07a1e3",
   "metadata": {
    "editable": true,
    "slideshow": {
     "slide_type": ""
    },
    "tags": []
   },
   "source": [
    "## Attributes\n",
    "\n",
    "Properties associated with an object in Python. In the context of the pandas library, attributes provide access to specific information or properties of pandas objects like `DataFrames` and `Series`.\n",
    "\n",
    "Example: `df.shape` `df.columns` `df.index`"
   ]
  },
  {
   "cell_type": "markdown",
   "id": "e8c072a9-2c3c-4e8b-8110-865921107927",
   "metadata": {
    "editable": true,
    "slideshow": {
     "slide_type": ""
    },
    "tags": []
   },
   "source": [
    "## CSV\n",
    "\n",
    "CSV stands for Comma-Separated Values. It is a plain text file format used to store tabular data, where each line of the file represents a row in the table, and each value in the row is separated by a comma."
   ]
  },
  {
   "cell_type": "markdown",
   "id": "a9dd6a1b-80cd-4f55-a588-a6ce68422173",
   "metadata": {
    "editable": true,
    "slideshow": {
     "slide_type": ""
    },
    "tags": []
   },
   "source": [
    "## DataFrame\n",
    "\n",
    "A 2-dimensional labeled data structure with columns of potentially different types. Is often called df in the examples, but can be given any name.\n",
    "\n",
    "Example:\n",
    "\n",
    "```\n",
    "df = pd.DataFrame({'A': [1, 2], 'B': [3, 4]})\n",
    "```"
   ]
  },
  {
   "cell_type": "markdown",
   "id": "514fea38-e257-4d97-ab44-e90c31d3d826",
   "metadata": {},
   "source": [
    "## Index\n",
    "\n",
    "In pandas, an index is a label or set of labels used to identify and access elements in data structures like `Series` and `DataFrames`. It provides a way to reference rows and columns by name or number."
   ]
  },
  {
   "cell_type": "markdown",
   "id": "fb6a13b2-16bc-43e9-abe9-a4549c52276a",
   "metadata": {},
   "source": [
    "## NaN\n",
    "\n",
    "NaN stands for \"Not a Number.\" It is a special floating-point value used to represent missing or undefined data in numerical computations. It is often used in datasets to indicate that a value is missing."
   ]
  },
  {
   "cell_type": "markdown",
   "id": "0d5b5060-b352-41b1-9fce-82a48afbec63",
   "metadata": {
    "editable": true,
    "slideshow": {
     "slide_type": ""
    },
    "tags": []
   },
   "source": [
    "## pd\n",
    "\n",
    "Aliasing pandas as `pd` is a widely adopted convention that simplifies the syntax for accessing its functionalities.\\\n",
    "After this statement, you can use `pd` to access all the functionalities provided by the pandas library.\n",
    "\n",
    "Example:\n",
    "\n",
    "```\n",
    "import pandas as pd\n",
    "```"
   ]
  },
  {
   "cell_type": "markdown",
   "id": "f16aee1c-92fd-4f93-9144-08cd3f30b34a",
   "metadata": {
    "editable": true,
    "slideshow": {
     "slide_type": ""
    },
    "tags": []
   },
   "source": [
    "## Series\n",
    "\n",
    "A `Series` in Pandas is like a list of values in a single column, where each value has a unique label called an index. It's a simple way to store and manage a sequence of data.\n",
    "It is a 1-dimensional labeled array capable of holding any data type.\n",
    "\n",
    "Example:\n",
    "\n",
    "```\n",
    "s = pd.Series([1, 2, 3, 4])\n",
    "```"
   ]
  },
  {
   "cell_type": "markdown",
   "id": "40db8937-a0ce-494f-8725-116640ba49cb",
   "metadata": {},
   "source": [
    "## Subset\n",
    "\n",
    "In Pandas, a subset refers to a selection or extraction of a portion of a `DataFrame` or `Series` based on specific criteria. This can involve selecting particular rows, columns, or both from the original data structure."
   ]
  },
  {
   "cell_type": "markdown",
   "id": "af5d23cb-3b28-4453-a776-cb19ae3d8bc8",
   "metadata": {},
   "source": [
    "## Transpose\n",
    "\n",
    "`transpose()` is a method for swapping rows and colums in a `DataFrame`. Transposing is useful for reshaping data, making it easier to compare rows or apply certain operations that are typically column-based.\n",
    "\n",
    "```\n",
    "df.transpose()\n",
    "```"
   ]
  }
 ],
 "metadata": {
  "kernelspec": {
   "display_name": "Python 3 (ipykernel)",
   "language": "python",
   "name": "python3"
  },
  "language_info": {
   "codemirror_mode": {
    "name": "ipython",
    "version": 3
   },
   "file_extension": ".py",
   "mimetype": "text/x-python",
   "name": "python",
   "nbconvert_exporter": "python",
   "pygments_lexer": "ipython3",
   "version": "3.11.5"
  }
 },
 "nbformat": 4,
 "nbformat_minor": 5
}
