{
 "cells": [
  {
   "cell_type": "markdown",
   "id": "3bc09501-ea87-43b7-8b6b-deb685dd11bc",
   "metadata": {},
   "source": [
    "<style>\n",
    ".bd-toc {\n",
    "    display: none;\n",
    "}\n",
    "</style>"
   ]
  },
  {
   "cell_type": "markdown",
   "id": "e8c86853",
   "metadata": {},
   "source": [
    "# Welcome"
   ]
  },
  {
   "cell_type": "markdown",
   "id": "bb386047-b6b0-43a2-bbd0-a881645601df",
   "metadata": {},
   "source": [
    "Welcome to KUB Datalab's Python ressources.\n",
    "\n",
    "The  material you have in front of you was developed in conjunction with the Python course offerings offered by [KUB Datalab](https://kub.kb.dk/datalab) at [Copenhagen University Library](https://kub.ku.dk/english/).\\\n",
    "All of the pages can be [downloaded as Jupyter notebooks as well as PDF](howto/interact). That means that you can work with the code locally on your computer."
   ]
  },
  {
   "cell_type": "markdown",
   "id": "9c5d7235-e367-4761-bc24-9b59a46e3f41",
   "metadata": {},
   "source": [
    "### Our courses"
   ]
  },
  {
   "cell_type": "markdown",
   "id": "48b7141a-8ee7-4dce-9863-2a23ba0602b8",
   "metadata": {},
   "source": [
    "We currently offer a two-part introduction to Python for absolute beginners as well as an introduction to data analysis using the library Pandas. You can find and sign up for our courses [here](https://kubkalender.kb.dk/calendar/datalab).\\\n",
    "Before you attend our classes, please **make sure to visit [Install & Run Python](howto/setup)** so we can get the most out of our time together.\n",
    "\n",
    "We recommend you revisit these materials after the course to get the code “in your fingers”."
   ]
  },
  {
   "cell_type": "markdown",
   "id": "f639366c-847c-40a8-9d2c-7a67f207ced0",
   "metadata": {},
   "source": [
    "```{tip}\n",
    "Learning how to code requires in many ways a shift in perspective.  Namely from the perspective of human, semantic meaning to that of computer logic and language.  An interesting way of trying to wrap your mind around it is reading up on how a computer reasons out an algorithm, and its metaphorical corollary of how ants determine the most efficient method to get to a food source. You can read more about that on [Wikipedia](https://en.wikipedia.org/wiki/Ant_colony_optimization_algorithms).\n",
    "```"
   ]
  },
  {
   "cell_type": "markdown",
   "id": "fd826f98-8112-4896-a3d2-bc653f8e9bd2",
   "metadata": {},
   "source": [
    "___"
   ]
  },
  {
   "cell_type": "markdown",
   "id": "099147cc-6ae9-421c-b1e2-6744e88e227e",
   "metadata": {},
   "source": [
    "## <i class=\"fab fa-creative-commons-by\" aria-hidden=\"true\"></i> Attribution\n",
    "\n",
    "Much of the teaching material presented here has been inspired by, borrowed from, and modified based on the work of others.\\\n",
    "We extend our deepest thanks to these giants on whose proverbial shoulders we stand and encourage you to visit their pages for more Python inspiration.\n",
    "\n",
    "* Library Carpentry's [Python Intro for Libraries ](https://librarycarpentry.org/lc-python-intro/)\n",
    "* The official [Pandas documentaion](https://pandas.pydata.org/docs/index.html)\n",
    "* Melanie Walsh's [Introduction to Cultural Analytics & Python](https://melaniewalsh.github.io/Intro-Cultural-Analytics/)\n",
    "\n",
    "Should we inadvertently have missed acknowledging anyone, please let us know so we can ensure proper recognition."
   ]
  },
  {
   "cell_type": "markdown",
   "id": "f18fc757-11c8-4610-967e-f545ee6557c9",
   "metadata": {},
   "source": [
    "___"
   ]
  },
  {
   "cell_type": "code",
   "execution_count": null,
   "id": "92b2ea1c-1e27-4b08-8c33-83fbd12c2468",
   "metadata": {
    "tags": [
     "hide-output"
    ]
   },
   "outputs": [],
   "source": []
  }
 ],
 "metadata": {
  "kernelspec": {
   "display_name": "Python 3 (ipykernel)",
   "language": "python",
   "name": "python3"
  },
  "language_info": {
   "codemirror_mode": {
    "name": "ipython",
    "version": 3
   },
   "file_extension": ".py",
   "mimetype": "text/x-python",
   "name": "python",
   "nbconvert_exporter": "python",
   "pygments_lexer": "ipython3",
   "version": "3.12.5"
  }
 },
 "nbformat": 4,
 "nbformat_minor": 5
}
