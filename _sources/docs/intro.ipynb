{
 "cells": [
  {
   "cell_type": "markdown",
   "id": "d6b4b026-d03f-4fe9-9021-aeef3d43d5f3",
   "metadata": {},
   "source": [
    "---\n",
    "hide_toc: true\n",
    "---"
   ]
  },
  {
   "cell_type": "markdown",
   "id": "3bc09501-ea87-43b7-8b6b-deb685dd11bc",
   "metadata": {},
   "source": [
    "# Welcome"
   ]
  },
  {
   "cell_type": "markdown",
   "id": "bb386047-b6b0-43a2-bbd0-a881645601df",
   "metadata": {},
   "source": [
    "Welcome to KUB Datalab's Python ressources.\n",
    "\n",
    "The  material you have in front of you is connected to [KUB Datalab](https://kub.kb.dk/datalab) at [Copenhagen University Library](https://kub.ku.dk/english/). We currently offer a two-part introduction to Python for absolute beginners as well as an introduction to the library Pandas.\n",
    "\n",
    "You can find and sign up for our courses [here](https://kubkalender.kb.dk/calendar/datalab). Before you attend the beginners' class, please make sure to visit the How to... \"Install & Run Python\" page so we can get the most out of our time together.\n",
    "\n",
    "The materials you find in this Jupyter Book are intended to help students learn how to code in Python. All pages can be downloaded as a Jupyter Notebook as well as pdf. That means that you can work with most of the code locally on your computer.\n",
    "\n",
    "Below you can see the different elements of our courses."
   ]
  },
  {
   "cell_type": "markdown",
   "id": "fd826f98-8112-4896-a3d2-bc653f8e9bd2",
   "metadata": {},
   "source": [
    "___"
   ]
  },
  {
   "cell_type": "markdown",
   "id": "099147cc-6ae9-421c-b1e2-6744e88e227e",
   "metadata": {},
   "source": [
    "## <i class=\"fab fa-creative-commons-by\" aria-hidden=\"true\"></i> Attribution\n",
    "\n",
    "Much of the teaching material presented here has been inspired by, borrowed from, and modified based on the work of others.\\\n",
    "We extend our deepest thanks to these giants on whose proverbial shoulders we stand and encourage you to visit their pages for more Python inspiration.\n",
    "\n",
    "* Library Carpentry's [Python Intro for Libraries ](https://librarycarpentry.org/lc-python-intro/)\n",
    "* The official [Pandas documentaion](https://pandas.pydata.org/docs/index.html)\n",
    "* Melanie Walsh's [Introduction to Cultural Analytics & Python](https://melaniewalsh.github.io/Intro-Cultural-Analytics/)\n",
    "\n",
    "Should we inadvertently have missed acknowledging anyone, please let us know so we can ensure proper recognition."
   ]
  },
  {
   "cell_type": "markdown",
   "id": "f18fc757-11c8-4610-967e-f545ee6557c9",
   "metadata": {},
   "source": [
    "___"
   ]
  },
  {
   "cell_type": "code",
   "execution_count": null,
   "id": "92b2ea1c-1e27-4b08-8c33-83fbd12c2468",
   "metadata": {},
   "outputs": [],
   "source": []
  }
 ],
 "metadata": {
  "kernelspec": {
   "display_name": "Python 3 (ipykernel)",
   "language": "python",
   "name": "python3"
  },
  "language_info": {
   "codemirror_mode": {
    "name": "ipython",
    "version": 3
   },
   "file_extension": ".py",
   "mimetype": "text/x-python",
   "name": "python",
   "nbconvert_exporter": "python",
   "pygments_lexer": "ipython3",
   "version": "3.11.5"
  }
 },
 "nbformat": 4,
 "nbformat_minor": 5
}
